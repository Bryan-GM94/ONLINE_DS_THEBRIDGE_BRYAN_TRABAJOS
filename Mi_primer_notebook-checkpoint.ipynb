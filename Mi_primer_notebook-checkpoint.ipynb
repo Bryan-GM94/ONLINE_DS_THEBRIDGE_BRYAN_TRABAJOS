{
 "cells": [
  {
   "cell_type": "code",
   "execution_count": 1,
   "id": "34d3fe13-3702-4584-b9f9-d031433f8deb",
   "metadata": {},
   "outputs": [
    {
     "name": "stdout",
     "output_type": "stream",
     "text": [
      "hola mundo\n"
     ]
    }
   ],
   "source": [
    "print(\"hola mundo\")"
   ]
  },
  {
   "cell_type": "markdown",
   "id": "578d822a-a6b9-4a40-bf94-568e53ab49e7",
   "metadata": {},
   "source": [
    "hola mundo\n"
   ]
  },
  {
   "cell_type": "code",
   "execution_count": null,
   "id": "4796b231-e53a-4e87-8e6d-8e36d65fe1f6",
   "metadata": {},
   "outputs": [],
   "source": []
  }
 ],
 "metadata": {
  "kernelspec": {
   "display_name": "Python 3 (ipykernel)",
   "language": "python",
   "name": "python3"
  },
  "language_info": {
   "codemirror_mode": {
    "name": "ipython",
    "version": 3
   },
   "file_extension": ".py",
   "mimetype": "text/x-python",
   "name": "python",
   "nbconvert_exporter": "python",
   "pygments_lexer": "ipython3",
   "version": "3.10.11"
  }
 },
 "nbformat": 4,
 "nbformat_minor": 5
}
