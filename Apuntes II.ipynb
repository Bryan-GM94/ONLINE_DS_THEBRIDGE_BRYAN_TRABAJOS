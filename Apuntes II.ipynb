{
 "cells": [
  {
   "cell_type": "markdown",
   "metadata": {},
   "source": [
    "# APUNTES II (MACHINE LEARNING)"
   ]
  },
  {
   "cell_type": "markdown",
   "metadata": {},
   "source": [
    "## Sprint 11 (MACHINE LEARNING)\n",
    "### Unidad 1 ( Estadistica inferencial)\n",
    "- **Población:** conjunto de datos para extrapolar los datos, y la muestrea es un  subconjunto de la población para hacer una serie de inferencia, su importancia se basa a la reprensentatividad que tengan a base de la pobación  \n",
    "- **Muestra aleatoria:** Se escoge al azar elementos que se escogerá de la población, donde se incluiran ciertos parametros  mediante el metodo `sample`(Escogerá de manera aleatoria uniforme)\n",
    "-**Parametros:** Tambien llamados medidas de la población  \n",
    "-**Sesgos:** Proporción no aletaroria que se introducen en las muestras como consecuencia de la selección, el sesgo de supervivencia se tratra de los datos qyue nos han lleghado y no con todos los posibles  \n",
    "> La estadistica inferencial se preocupa de llegar a conclusoines basadas en la muetsra y luego hacerlos válidos para toda la población \n",
    "- **Media muestras:** Es luna representación de lso datos totales representados, para poder decir que esta media es confiable, se determinan por los intervalos de confianza (Esto da una idea del margen de error entre un rango del 95% )  \n",
    "`Error Estandar` Es la desviación estandar de todas las posibles muestras esogidad de una población, una vez que se calcula el error estandar puedo sacar el intervalo de confianza que se calcula el Erro estandar por 1.96 (Este valor proviene del 95% del valor )\n",
    "- **Contraste de Hipótesis:** Procedimeinto para jugar si una propiedad que se supione una población estadística es compatible con lo observado en una muestra de dicha población\n",
    "> Si se conoce la desviación estandar de la población se puede usar un `Z-test`siempre y cuando la muestra esté encima de 30 y sino se usa `T-test` y si no se conoce la desviación estandar de la población se usa el `T-test`  \n",
    "\n",
    "`Consideraciones de la T-test` Se aplica cuando la distribución es normal, pero la muestra es pequeña  \n",
    "`T-test para comprobar ña igualdad a un valor` Se comprueba si la media poblacional es un valor concreto se emplea un `T-test bilateral` este test tambien conocido como una prueba de dos colas las cualers se comparan las medias de dos grupos, donde su hipotesis nula es que no hay diferencia entre las dos medias, se utiliza cuanod hay una diferencia significativa entre dos grupos    \n",
    "`Nota:`\n",
    "El valor p (p-value) es una medida estadística que ayuda a determinar la evidencia en contra de una hipótesis nula en un análisis de datos  \n",
    "Hipótesis nula (H0): La hipótesis nula es una afirmación que generalmente establece que no hay efecto o diferencia significativa. El valor p ayuda a evaluar si hay evidencia suficiente para rechazar esta hipótesis nula.  \n",
    "Interpretación del valor p:\n",
    "Un valor p pequeño (generalmente menor que un umbral predeterminado, como 0.05) sugiere que hay evidencia suficiente para rechazar la hipótesis nula. Se interpreta como evidencia en contra de la hipótesis nula.\n",
    "Un valor p grande sugiere que no hay suficiente evidencia para rechazar la hipótesis nula. No se considera evidencia significativa en contra de la hipótesis nula.\n"
   ]
  },
  {
   "cell_type": "code",
   "execution_count": null,
   "metadata": {},
   "outputs": [],
   "source": []
  },
  {
   "cell_type": "code",
   "execution_count": null,
   "metadata": {},
   "outputs": [],
   "source": [
    "#"
   ]
  }
 ],
 "metadata": {
  "language_info": {
   "name": "python"
  }
 },
 "nbformat": 4,
 "nbformat_minor": 2
}
