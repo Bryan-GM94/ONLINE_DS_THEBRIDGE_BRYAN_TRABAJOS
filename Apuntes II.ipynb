{
 "cells": [
  {
   "cell_type": "markdown",
   "metadata": {},
   "source": [
    "# APUNTES II (MACHINE LEARNING)"
   ]
  },
  {
   "cell_type": "markdown",
   "metadata": {},
   "source": [
    "## Sprint 11 (MACHINE LEARNING)\n",
    "### Unidad 1 ( Estadistica inferencial)\n",
    "- **Población:** conjunto de datos para extrapolar los datos, y la muestrea es un  subconjunto de la población para hacer una serie de inferencia, su importancia se basa a la reprensentatividad que tengan a base de la pobación  \n",
    "- **Muestra aleatoria:** Se escoge al azar elementos que se escogerá de la población, donde se incluiran ciertos parametros  mediante el metodo `sample`(Escogerá de manera aleatoria uniforme)\n",
    "El tamaño de la muestra no asegura la representatividad \n",
    "-**Parametros:** Tambien llamados medidas de la población, son se pueden comparar si tienen medidas parecidad (frecuencias, medidas, etc)  \n",
    "Medidas de la muestra se les denomina estadísticos o estimadores.  \n",
    "-**Sesgos:** Proporción no aletaroria que se introducen en las muestras como consecuencia de la selección, el sesgo de supervivencia se tratra de los datos qyue nos han llegado y no con todos los posibles  \n",
    "> La estadistica inferencial se preocupa de llegar a conclusoines basadas en la muetsra y luego hacerlos válidos para toda la población  \n",
    "\n",
    "**Aplicación de la media muestral con parametros de seguridad**  \n",
    "En que rango se mueve esa madia con una serie de suposiciones.    \n",
    "- **Media muestras:** Es una representación de los datos totales representados, para poder decir que esta media es confiable, se determinan por los intervalos de confianza (Esto da una idea del margen de error entre un rango del 95% )  Es el margen asumible de error en que la media poblacionaql es la representacion de la media poblacional.  \n",
    "El IC se obtiene mediante el Error Estandar \n",
    "`Error Estandar` Es la desviación estandar de todas las posibles muestras esogidas de una población, este se calcula de la división de la desviación estandar de la muestre sobre la raiz cuadrada del número de la muestra, una vez que se calcula el error estandar puedo sacar el intervalo de confianza que se calcula el Erro estandar por 1.96 (Este valor proviene del 95% del valor ). Es decir  el IC= +-1.95 *ERROR ESTANDAR.  \n",
    "\n",
    "- **Contraste de Hipótesis:** Procedimeinto para juzgar si una propiedad que se supone una población estadística es compatible con lo observado en una muestra de dicha población\n",
    "> Si se conoce la desviación estandar de la población se puede usar un `Z-test`siempre y cuando la muestra esté encima de 30 y sino se usa `T-test` y si no se conoce la desviación estandar de la población se usa el `T-test`  \n",
    "\n",
    "`Consideraciones de la T-test` Se aplica cuando la distribución es normal, pero la muestra es pequeña  \n",
    "`T-test para comprobar la igualdad a un valor` Se comprueba si la media poblacional es un valor concreto se emplea un `T-test bilateral` este test tambien conocido como una prueba de dos colas las cualers se comparan las medias de dos grupos, donde su hipotesis nula es que no hay diferencia entre las dos medias, se utiliza cuanod hay una diferencia significativa entre dos grupos    \n",
    "`Nota:`\n",
    "El valor p (p-value) es una medida estadística que ayuda a determinar la evidencia en contra de una hipótesis nula en un análisis de datos  \n",
    "Hipótesis nula (H0): La hipótesis nula es una afirmación que generalmente establece que no hay efecto o diferencia significativa. El valor p ayuda a evaluar si hay evidencia suficiente para rechazar esta hipótesis nula.  \n",
    "Interpretación del valor p:\n",
    "Un valor p pequeño (generalmente menor que un umbral predeterminado, como 0.05) sugiere que hay evidencia suficiente para rechazar la hipótesis nula. Se interpreta como evidencia en contra de la hipótesis nula.\n",
    "Un valor p grande sugiere que no hay suficiente evidencia para rechazar la hipótesis nula. No se considera evidencia significativa en contra de la hipótesis nula.  \n",
    "El `T Test` se saca mediante la biblioteca `import scipy.stats as stats` donde su sintaxis sería:  \n",
    "> import scipy.stats as stats    \n",
    "a = muestra_titanic.age.mean()  \n",
    "stats.ttest_1samp(muestra_titanic.age.values,popmean= a)  \n",
    "Esto se da para una sola muestra para sacar el T Test es con \"ttest_1samp\", el valor a es la media muestral el valor con el que se va a comparar.  \n",
    "\n",
    "`Nota`: \"a\" se puede interpretar como la media muestras + el IC o la media muestral - IC  \n",
    "\n",
    "- **T Test para umbrales** La hipotesis nula puede tomar dos aspectos donde indica que la media muestral es mayor o igual al valor \"a\" o a la vez la media muestral es menor o igual a valor \"a\", loq ue se aplica no se lo hace a la hipotesis nula sino a la alternativa  \n",
    "- **T Test para dos muestras:** para comparar la media de dos poblaciones se demuestra mediante una funcion distinta del T TEST que es `stats.ttest_ind(a=A, b=B, alternative='two-sided')` pero con un argumento distinto `alternative=two-sided`  \n",
    "\n",
    "- **Frecuencias Muestrales:** Se trabajacon el Z-test para variables categóricas, en principio se aplica para unn valor concreto, aqui se afianza o refuerza la hipotesis alternativa, para el Z Test se recuerre a un paquete llamado `statsmodels`  \n",
    "\n",
    "> from statsmodels.stats.proportion import proportions_ztest.  \n",
    "\n",
    "En este sentido tambien podemos realiazar los test para umbrales en donde testeamos la media de la población con valores que ponemos.  \n",
    "\n",
    "`Nota`: Lo que buscan los TEST es ver a que porcentaje es fiable nuestro estudio bajo los parametros que lo indiquemos.  \n",
    "\n",
    "- **Introducción de probabilidad:** Sirve para la toma de desiciones basadas en datos estadíticos, la probabilidad mide de mayor o menor posibilidad que se determine un resultado o suceso. Para calcular la probabilidad se toma en cuenta todos los eventos posibles, donde los casos favorables de la ocurrencia es cuando se cumplan las condiciones determinadas.  \n",
    "Las probabilidades toman valores de 0 a 1 y expresados en tanto por ciento (Regla Laplace)   \n",
    "\n",
    "> La Ley de Laplace es una fórmula ampliamente utilizada en estadística con el objetivo de calcular probabilidades de un experimento cuando los resultados del mismo tienen la misma probabilidad de realizarse. Así, la Ley de Laplace consiste en el cociente entre los resultados probables y los resultados posibles de un experimento con una variable aleatoria.  \n",
    "`Ley de Laplace = casos probables / casos posibles `   \n",
    "\n",
    "`Espacio Muestral` Es el conjunto de todos los resultados posibles en un experimento \n",
    "`Suceso` Es un subconjunto de un espacio muestral, los sucesos a difenrecia del espacio muestral es el que tiene un solo elemento, entre los sucesos tambien existe algo llamado unión o interseccion de sucesos, se habla de `unión` cuando se unen varios sucesos sencillos crea un evento compuesto que ocurre si uno o más de los eventos ocurre es como un (OR), ahora la `Intersección` de dos o más elementos simples crea un evento compuesto que ocurre solo si ocurren todos los eventos simples (AND) (Deben ocurrir los dos).  \n",
    "\n",
    "- **Condiciones y otras:** \n",
    "`Obtención de probabilidad de unión de sucesos` Se distinguen cuando a unir son mutuamente excluyentes o no, un suceso `mutuamente excluyente` No pueden darse a la vez (Se suman sus probabilidades individuales) Aqui donde se usa la regla de Laplace , y sucesos `no mutuamente excluyente` son la union y que una parte esta en común, esto se saca sus porbabilidades individuales y despues la probabilidad de la unión de las mismas las cual esta se resta a la suma de sus porbabilidades individuales.  \n",
    "`Sucesos independientes` son dos o más sucesos independientes cuya ocurrencia no afecta a los otros  \n",
    "`Probabilidad condicional`Con frecuencia queremos conocer la probabilidad de algún evento, dado que otro evento ha ocurrido. Esto se expresa simbólicamente como $p(E | F)$ y se lee como \"la probabilidad de $E$ dado $F$\". El segundo evento se conoce como la *condición* y el proceso se refiere a veces como \"condicionamiento en F, para calcular la probabilidad condicional es la probabilidad de la intersección dividido a la porbabilidad del segundo suceso  \n",
    "\n",
    "`Obtención de porbabilidades de intersección de sucesos`Para ver formas alternativas de obtener la probabilidad de la interesección de suscesos o eventos los vamos a dividir en dos tipos también, pero ahora tratamos sucesos independientes y sucesos dependiendetes.  \n",
    "`Intersección de eventos independientes` Para calcular la probabilidad de que ocurran varios eventos (la intersección de varios eventos), se multiplican sus probabilidades individuales. La fórmula específica utilizada dependerá de si los eventos son <a href=\"https://es.wikipedia.org/wiki/Independencia_(probabilidad)\">independientes</a> o no.\n",
    "Si son <a href=\"https://es.wikipedia.org/wiki/Independencia_(probabilidad)\">independientes</a>, la [probabilidad](https://es.wikipedia.org/wiki/Probabilidad) de $E$ y $F$ se calcula como:\n",
    "$p(E \\cap F) = p(E) \\times p(F)$.  \n",
    "`Intersección de evcentos no independientes` Si dos eventos no son <a href=\"https://es.wikipedia.org/wiki/Independencia_(probabilidad)\">independientes</a>, debemos conocer su [probabilidad condicional](https://es.wikipedia.org/wiki/Probabilidad_condicionada) para poder calcular la [probabilidad](https://es.wikipedia.org/wiki/Probabilidad) de que ambos se produzcan. La fórmula en este caso es:\n",
    "\n",
    "$p(E \\cap F) = p(E) \\times p(F|E)$\n",
    "\n",
    "\n",
    "\n",
    "\n",
    "\n"
   ]
  },
  {
   "cell_type": "code",
   "execution_count": null,
   "metadata": {},
   "outputs": [],
   "source": [
    "#Forma de sacar el T Test con una población\n",
    "import scipy.stats as stats    \n",
    "a = muestra_titanic.age.mean()  \n",
    "stats.ttest_1samp(muestra_titanic.age.values,popmean= a) "
   ]
  },
  {
   "cell_type": "code",
   "execution_count": null,
   "metadata": {},
   "outputs": [
    {
     "name": "stdout",
     "output_type": "stream",
     "text": [
      "para IC =  1.8000000000000012 se rechaza la hipótesis nula de igualda, es decir a = 32.58668518921566 ya no es una posible media poblacional al 99.0% de signifcacion\n",
      "Nuestro IC escogido es entonces, IC = 1.750000000000001\n"
     ]
    }
   ],
   "source": [
    "#Funcioón para sacar el intervalo de confianza\n",
    "# Vamos a ir probando ICs cada vez más grandes hasta llegar a dar un p-value menor que 0.05 el anterior lo consideraremos nuestro IC máximo de garantía\n",
    "# para el caso de p-value = 0.05\n",
    "# El P-Target es 1 menos que el intervalio de confianza\n",
    "p_value_target = 0.01\n",
    "import numpy as np\n",
    "previous_IC = 0.5\n",
    "for IC in np.arange(0.5,2,0.05): # partimos de IC de 0.5 años y vamos subiendo hasta 1.5 hasta encontrar el IC máximo (que debería ser 1.35)\n",
    "    a = muestra_titanic.age.mean() + IC # La curva es simétrica nos vale con testar un lado solo\n",
    "    p_value  = stats.ttest_1samp(a=muestra_titanic.age.values,popmean= a).pvalue\n",
    "    if p_value <= p_value_target:\n",
    "        print(f\"para IC =  {IC} se rechaza la hipótesis nula de igualda, es decir a = {a}\",\\\n",
    "               f\"ya no es una posible media poblacional al {(1-p_value_target)*100}% de signifcacion\")\n",
    "        print(f\"Nuestro IC escogido es entonces, IC = {previous_IC}\")\n",
    "        break\n",
    "    previous_IC = IC"
   ]
  },
  {
   "cell_type": "code",
   "execution_count": null,
   "metadata": {},
   "outputs": [
    {
     "data": {
      "text/plain": [
       "TtestResult(statistic=-0.43985840098335277, pvalue=0.6663681557371673, df=13)"
      ]
     },
     "metadata": {},
     "output_type": "display_data"
    }
   ],
   "source": [
    "import scipy.stats as stats\n",
    "data = muestra_paises[\"Life satisfaction\"]\n",
    "stats.ttest_1samp(a=data,popmean=6.6,alternative='greater') #popmean es la media poblacional que se indica \n",
    "#Lo que se esta buscando es la hipotesis alternativa se pone este argumento (alternative='greater) greater es mayor qué\n"
   ]
  },
  {
   "cell_type": "code",
   "execution_count": null,
   "metadata": {},
   "outputs": [
    {
     "data": {
      "text/plain": [
       "TtestResult(statistic=9.129248794457022, pvalue=0.9999997438782476, df=13)"
      ]
     },
     "metadata": {},
     "output_type": "display_data"
    }
   ],
   "source": [
    "#Se busca la hipotesis alternativa que indica que la media poblacional es menor a 4.5 \n",
    "data = muestra_paises[\"Life satisfaction\"]\n",
    "stats.ttest_1samp(a=data,popmean=4.5,alternative='less') #El argumento indica que less es menor qué\n",
    "#Pero el resultado da que no se puede rechazr la hipotesis nula"
   ]
  },
  {
   "cell_type": "code",
   "execution_count": null,
   "metadata": {},
   "outputs": [
    {
     "data": {
      "text/plain": [
       "TtestResult(statistic=2.761988576903894, pvalue=0.008802045351068372, df=38.0)"
      ]
     },
     "metadata": {},
     "output_type": "display_data"
    }
   ],
   "source": [
    "#Aqui se busca la diferencia de llamadas de un call center u otro en este caso esa sera la población\n",
    "stats.ttest_ind(a=A, b=B, alternative='two-sided')\n",
    "#Con el resultado se rechaza la hipotesos nula que determina que existe diferencia de llamadas de un call center u otro"
   ]
  },
  {
   "cell_type": "code",
   "execution_count": null,
   "metadata": {},
   "outputs": [
    {
     "name": "stdout",
     "output_type": "stream",
     "text": [
      "Estadístico Z: 0.8999781162822953\n",
      "P-valor: 0.3681318966771918\n"
     ]
    }
   ],
   "source": [
    "# Para poder sacar el Z Test\n",
    "#se le indica lo valores \n",
    "from statsmodels.stats.proportion import proportions_ztest\n",
    "\n",
    "p_hat = tasa_supervivencia_muestral/100 # Proporcion o frecuecia de la variable en la muestra\n",
    "n = len(muestra_titanic)       # Tamaño de la muestra\n",
    "Pi = 0.37     # Proporción o frecuencia que queremos probar en la población\n",
    "# Calcular el estadístico Z y el p-valor\n",
    "z_stat, p_value = proportions_ztest(p_hat * n, n, Pi)\n",
    "\n",
    "# Mostrar resultados\n",
    "print(f\"Estadístico Z: {z_stat}\")\n",
    "print(f\"P-valor: {p_value}\")\n"
   ]
  },
  {
   "cell_type": "code",
   "execution_count": null,
   "metadata": {},
   "outputs": [
    {
     "name": "stdout",
     "output_type": "stream",
     "text": [
      "Estadístico Z: -0.2587919905189477\n",
      "P-valor: 0.3978978690261754\n"
     ]
    }
   ],
   "source": [
    "p_hat = tasa_supervivencia_muestral/100 # Proporcion o frecuecia de la variable en la muestra\n",
    "n = len(muestra_titanic)       # Tamaño de la muestra\n",
    "Pi = 0.40     # Proporción o frecuencia que queremos probar en la población\n",
    "# Calcular el estadístico Z y el p-valor\n",
    "z_stat, p_value = proportions_ztest(p_hat * n, n, Pi, alternative = \"smaller\") #se añade el argumento smaller porque buscamos que la media sea menor\n",
    "\n",
    "# Mostrar resultados\n",
    "print(f\"Estadístico Z: {z_stat}\")\n",
    "print(f\"P-valor: {p_value}\")"
   ]
  },
  {
   "cell_type": "code",
   "execution_count": null,
   "metadata": {},
   "outputs": [
    {
     "name": "stdout",
     "output_type": "stream",
     "text": [
      "p(sobrevivir de una persona elegida al azar) =  0.3838383838383838\n"
     ]
    }
   ],
   "source": [
    "#INTRODUCCIÓN A LA PORBABILIDADES\n",
    "#Metodo Laplace (En este caso es la probabilidad que sobreviva una persona del titanic)\n",
    "casos_favorables =len(df_titanic.loc[df_titanic[\"alive\"] == \"yes\"]) # Casos favorables: el número de personas que sobrevivieron\n",
    "casos_totales = len(df_titanic)\n",
    "print(\"p(sobrevivir de una persona elegida al azar) = \", casos_favorables/casos_totales)"
   ]
  },
  {
   "cell_type": "code",
   "execution_count": null,
   "metadata": {},
   "outputs": [
    {
     "name": "stdout",
     "output_type": "stream",
     "text": [
      "p(ser hombre o viajar en primera) = 24.24%\n"
     ]
    }
   ],
   "source": [
    "# Como es una unión es como aplicar un \"OR\" a las dos condiciones:\n",
    "ser_hombre = df_titanic.who == \"Male\"\n",
    "viajar_primera = df_titanic[\"class\"] == \"First\"\n",
    "casos_favorables = len(df_titanic[ser_hombre | viajar_primera]) # Esto equivale a calcular la cardinalidad del conjunto unión\n",
    "casos_totales = len(df_titanic)\n",
    "\n",
    "print(f\"p(ser hombre o viajar en primera) = {round(casos_favorables/casos_totales * 100,2)}%\")"
   ]
  },
  {
   "cell_type": "code",
   "execution_count": null,
   "metadata": {},
   "outputs": [
    {
     "name": "stdout",
     "output_type": "stream",
     "text": [
      "p(de escoger a una persona que viajara en primera, sola) = 12.23%\n"
     ]
    }
   ],
   "source": [
    "#Como es una intersección es aplicar un AND:\n",
    "viajar_sola = df_titanic.alone\n",
    "viajar_primera = df_titanic[\"class\"] == \"First\"\n",
    "casos_favorables = len(df_titanic[viajar_sola & viajar_primera]) # Esto equivale a calcular la cardinalidad del conjunto INTERSECCION\n",
    "casos_totales = len(df_titanic)\n",
    "\n",
    "print(f\"p(de escoger a una persona que viajara en primera, sola) = {round(casos_favorables/casos_totales * 100,2)}%\")"
   ]
  },
  {
   "cell_type": "code",
   "execution_count": null,
   "metadata": {},
   "outputs": [
    {
     "name": "stdout",
     "output_type": "stream",
     "text": [
      "p(E) =  0.3041526374859708\n",
      "p(F) =  0.0931537598204265\n"
     ]
    }
   ],
   "source": [
    "#SUCESOS MUTUAMENTE EXCLUYENTES CON LA REGLA LAPLACE\n",
    "# p(E) frecuencia relativa de ser mujer:\n",
    "p_E = df_titanic[\"who\"].value_counts(normalize= True)[\"woman\"]\n",
    "p_F = df_titanic[\"who\"].value_counts(normalize = True)[\"child\"]\n",
    "print(\"p(E) = \", p_E)\n",
    "print(\"p(F) = \", p_F)"
   ]
  },
  {
   "cell_type": "code",
   "execution_count": null,
   "metadata": {},
   "outputs": [
    {
     "name": "stdout",
     "output_type": "stream",
     "text": [
      "p(escoger una pajero que sea mujer o niño) = p(E U F) =  0.39730639730639733\n"
     ]
    }
   ],
   "source": [
    "#Ahora la probabilidades se suman es la probabilidad de la Union\n",
    "p_E_U_F = p_E + p_F\n",
    "print(\"p(escoger una pajero que sea mujer o niño) = p(E U F) = \", p_E_U_F)"
   ]
  },
  {
   "cell_type": "code",
   "execution_count": null,
   "metadata": {},
   "outputs": [
    {
     "name": "stdout",
     "output_type": "stream",
     "text": [
      "0.39730639730639733\n"
     ]
    }
   ],
   "source": [
    "#Forma de comporobación con Laplace\n",
    "casos_favorables = len(df_titanic.loc[(df_titanic.who == \"child\") | (df_titanic.who == \"woman\")])\n",
    "casos_totales = len(df_titanic)\n",
    "print(casos_favorables/casos_totales)"
   ]
  },
  {
   "cell_type": "code",
   "execution_count": null,
   "metadata": {},
   "outputs": [
    {
     "name": "stdout",
     "output_type": "stream",
     "text": [
      "p(E) =  0.3838383838383838\n"
     ]
    }
   ],
   "source": [
    "#NO MUTUAMENTE EXCLUYENTES\n",
    "# probabilidad de sobrevivientes\n",
    "casos_favorables = len(df_titanic.loc[df_titanic.alive == \"yes\"])\n",
    "casos_totales = len(df_titanic)\n",
    "p_E = casos_favorables/casos_totales\n",
    "print(\"p(E) = \", p_E)"
   ]
  },
  {
   "cell_type": "code",
   "execution_count": null,
   "metadata": {},
   "outputs": [
    {
     "name": "stdout",
     "output_type": "stream",
     "text": [
      "p(F) =  0.6026936026936027\n"
     ]
    }
   ],
   "source": [
    "#Probabilidad de viajar solo \n",
    "casos_favorables = len(df_titanic.loc[df_titanic.alone])\n",
    "casos_totales = len(df_titanic)\n",
    "p_F = casos_favorables/casos_totales\n",
    "print(\"p(F) = \", p_F)"
   ]
  },
  {
   "cell_type": "code",
   "execution_count": null,
   "metadata": {},
   "outputs": [
    {
     "name": "stdout",
     "output_type": "stream",
     "text": [
      "p(E x F) =  0.1829405162738496\n"
     ]
    }
   ],
   "source": [
    "#Probabilidad de viajar solo y sobrevivir (Esto es la union)\n",
    "casos_favorables = len(df_titanic.loc[(df_titanic.alive == \"yes\") & (df_titanic.alone)])\n",
    "casos_totales = len(df_titanic)\n",
    "p_E_x_F = casos_favorables/casos_totales\n",
    "print(\"p(E x F) = \", p_E_x_F)"
   ]
  },
  {
   "cell_type": "code",
   "execution_count": null,
   "metadata": {},
   "outputs": [
    {
     "name": "stdout",
     "output_type": "stream",
     "text": [
      "p(E U F) =  0.803591470258137\n"
     ]
    }
   ],
   "source": [
    "#Suma de las probabiidades individuales\n",
    "p_E_U_F = p_E + p_F - p_E_x_F \n",
    "print(\"p(E U F) = \", p_E_U_F)"
   ]
  },
  {
   "cell_type": "code",
   "execution_count": null,
   "metadata": {},
   "outputs": [],
   "source": [
    "#Como es una intersección es aplicar un AND:\n",
    "superviviente = df_titanic.alive == \"yes\"\n",
    "viajar_tercera = df_titanic[\"class\"] == \"Third\"\n",
    "casos_favorables = len(df_titanic[superviviente & viajar_tercera]) # Esto equivale a calcular la cardinalidad del conjunto INTERSECCION\n",
    "casos_totales = len(df_titanic)\n",
    "\n",
    "p_E_x_F = casos_favorables/casos_totales"
   ]
  },
  {
   "cell_type": "code",
   "execution_count": null,
   "metadata": {},
   "outputs": [],
   "source": [
    "casos_favorables = len(df_titanic.loc[df_titanic[\"class\"] == \"Third\"])\n",
    "casos_totales = len(df_titanic)\n",
    "p_F = casos_favorables/casos_totales"
   ]
  },
  {
   "cell_type": "code",
   "execution_count": null,
   "metadata": {},
   "outputs": [
    {
     "name": "stdout",
     "output_type": "stream",
     "text": [
      "p(E|F) =  0.24236252545824846\n"
     ]
    }
   ],
   "source": [
    "#Y ahora la condicional\n",
    "p_condicionada = p_E_x_F / p_F \n",
    "print(\"p(E|F) = \", p_condicionada)"
   ]
  },
  {
   "cell_type": "code",
   "execution_count": null,
   "metadata": {},
   "outputs": [],
   "source": []
  },
  {
   "cell_type": "code",
   "execution_count": null,
   "metadata": {},
   "outputs": [],
   "source": []
  },
  {
   "cell_type": "code",
   "execution_count": null,
   "metadata": {},
   "outputs": [],
   "source": [
    "#"
   ]
  }
 ],
 "metadata": {
  "kernelspec": {
   "display_name": "Python 3",
   "language": "python",
   "name": "python3"
  },
  "language_info": {
   "codemirror_mode": {
    "name": "ipython",
    "version": 3
   },
   "file_extension": ".py",
   "mimetype": "text/x-python",
   "name": "python",
   "nbconvert_exporter": "python",
   "pygments_lexer": "ipython3",
   "version": "3.10.11"
  }
 },
 "nbformat": 4,
 "nbformat_minor": 2
}
