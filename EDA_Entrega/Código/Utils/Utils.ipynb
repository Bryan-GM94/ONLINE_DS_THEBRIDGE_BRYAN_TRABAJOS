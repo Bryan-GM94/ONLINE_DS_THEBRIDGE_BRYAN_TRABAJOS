{
 "cells": [
  {
   "cell_type": "markdown",
   "metadata": {},
   "source": [
    "# Módulos Usados"
   ]
  },
  {
   "cell_type": "code",
   "execution_count": null,
   "metadata": {},
   "outputs": [],
   "source": [
    "\n",
    "import numpy as np\n",
    "import pandas as pd \n",
    "import matplotlib.pyplot as plt\n",
    "import seaborn as sns "
   ]
  },
  {
   "cell_type": "markdown",
   "metadata": {},
   "source": [
    "# Funciones de Visualización"
   ]
  },
  {
   "cell_type": "markdown",
   "metadata": {},
   "source": [
    "Gráficos de Histogramas y Boxplots"
   ]
  },
  {
   "cell_type": "code",
   "execution_count": null,
   "metadata": {},
   "outputs": [],
   "source": [
    "def plot_combined_graphs(Accidentes_New, columns, whisker_width=1.5):\n",
    "    num_cols = len(columns)\n",
    "    if num_cols:\n",
    "        \n",
    "        fig, axes = plt.subplots(num_cols, 2, figsize=(12, 5 * num_cols))\n",
    "        print(axes.shape)\n",
    "\n",
    "        for i, column in enumerate(columns):\n",
    "            if Accidentes_New[column].dtype in ['int64', 'float64']:\n",
    "                # Histograma y KDE\n",
    "                sns.histplot(Accidentes_New[column], kde=True, ax=axes[i,0] if num_cols > 1 else axes[0])\n",
    "                if num_cols > 1:\n",
    "                    axes[i,0].set_title(f'Histograma y KDE de {column}')\n",
    "                else:\n",
    "                    axes[0].set_title(f'Histograma y KDE de {column}')\n",
    "\n",
    "                # Boxplot\n",
    "                sns.boxplot(x=Accidentes_New[column], ax=axes[i,1] if num_cols > 1 else axes[1], whis=whisker_width)\n",
    "                if num_cols > 1:\n",
    "                    axes[i,1].set_title(f'Boxplot de {column}')\n",
    "                else:\n",
    "                    axes[1].set_title(f'Boxplot de {column}')\n",
    "\n",
    "        plt.tight_layout()\n",
    "        plt.show()"
   ]
  },
  {
   "cell_type": "markdown",
   "metadata": {},
   "source": [
    "Distribuciones categóricas"
   ]
  },
  {
   "cell_type": "code",
   "execution_count": null,
   "metadata": {},
   "outputs": [],
   "source": [
    "def pinta_distribucion_categoricas(df, columnas_categoricas, relativa=False, mostrar_valores=False):\n",
    "    num_columnas = len(columnas_categoricas)\n",
    "    num_filas = (num_columnas // 2) + (num_columnas % 2)\n",
    "\n",
    "    fig, axes = plt.subplots(num_filas, 2, figsize=(15, 5 * num_filas))\n",
    "    axes = axes.flatten() \n",
    "\n",
    "    for i, col in enumerate(columnas_categoricas):\n",
    "        ax = axes[i]\n",
    "        if relativa:\n",
    "            total = df[col].value_counts().sum()\n",
    "            serie = df[col].value_counts().apply(lambda x: x / total)\n",
    "            sns.barplot(x=serie.index, y=serie, ax=ax, palette='viridis', hue = serie.index, legend = False)\n",
    "            ax.set_ylabel('Frecuencia Relativa')\n",
    "        else:\n",
    "            serie = df[col].value_counts()\n",
    "            sns.barplot(x=serie.index, y=serie, ax=ax, palette='viridis', hue = serie.index, legend = False)\n",
    "            ax.set_ylabel('Frecuencia')\n",
    "\n",
    "        ax.set_title(f'Distribución de {col}')\n",
    "        ax.set_xlabel('')\n",
    "        ax.tick_params(axis='x', rotation=45)\n",
    "\n",
    "        if mostrar_valores:\n",
    "            for p in ax.patches:\n",
    "                height = p.get_height()\n",
    "                ax.annotate(f'{height:.2f}', (p.get_x() + p.get_width() / 2., height), \n",
    "                            ha='center', va='center', xytext=(0, 9), textcoords='offset points')\n",
    "\n",
    "    for j in range(i + 1, num_filas * 2):\n",
    "        axes[j].axis('off')\n",
    "\n",
    "    plt.tight_layout()\n",
    "    plt.show()"
   ]
  },
  {
   "cell_type": "markdown",
   "metadata": {},
   "source": [
    "Combinación de Varaibles categóricas"
   ]
  },
  {
   "cell_type": "code",
   "execution_count": null,
   "metadata": {},
   "outputs": [],
   "source": [
    "\n",
    "def plot_categorical_relationship_fin(df, cat_col1, cat_col2, relative_freq=False, show_values=False, size_group = 6):\n",
    "    # Prepara los datos\n",
    "    count_data = df.groupby([cat_col1, cat_col2]).size().reset_index(name='count')\n",
    "    total_counts = df[cat_col1].value_counts()\n",
    "    \n",
    "    # Convierte a frecuencias relativas si se solicita\n",
    "    if relative_freq:\n",
    "        count_data['count'] = count_data.apply(lambda x: x['count'] / total_counts[x[cat_col1]], axis=1)\n",
    "\n",
    "    # Si hay más de size_group categorías en cat_col1, las divide en grupos de size_group\n",
    "    unique_categories = df[cat_col1].unique()\n",
    "    if len(unique_categories) > size_group:\n",
    "        num_plots = int(np.ceil(len(unique_categories) / size_group))\n",
    "\n",
    "        for i in range(num_plots):\n",
    "            # Selecciona un subconjunto de categorías para cada gráfico\n",
    "            categories_subset = unique_categories[i * size_group:(i + 1) * size_group]\n",
    "            data_subset = count_data[count_data[cat_col1].isin(categories_subset)]\n",
    "\n",
    "            # Crea el gráfico\n",
    "            plt.figure(figsize=(25,8))\n",
    "            ax = sns.barplot(x=cat_col1, y='count', hue=cat_col2, data=data_subset, order=categories_subset)\n",
    "\n",
    "            # Añade títulos y etiquetas\n",
    "            plt.title(f'Relación entre {cat_col1} y {cat_col2} - Grupo {i + 1}')\n",
    "            plt.xlabel(cat_col1)\n",
    "            plt.ylabel('Frecuencia' if relative_freq else 'Conteo')\n",
    "            plt.xticks(rotation=45)\n",
    "\n",
    "            # Mostrar valores en el gráfico\n",
    "            if show_values:\n",
    "                for p in ax.patches:\n",
    "                    ax.annotate(f'{p.get_height():.2f}', (p.get_x() + p.get_width() / 2., p.get_height()),\n",
    "                                ha='center', va='center', fontsize=10, color='black', xytext=(0, size_group),\n",
    "                                textcoords='offset points')\n",
    "\n",
    "            # Muestra el gráfico\n",
    "            plt.show()\n",
    "    else:\n",
    "        # Crea el gráfico para menos de size_group categorías\n",
    "        plt.figure(figsize=(10, 6))\n",
    "        ax = sns.barplot(x=cat_col1, y='count', hue=cat_col2, data=count_data)\n",
    "\n",
    "        # Añade títulos y etiquetas\n",
    "        plt.title(f'Relación entre {cat_col1} y {cat_col2}')\n",
    "        plt.xlabel(cat_col1)\n",
    "        plt.ylabel('Frecuencia' if relative_freq else 'Conteo')\n",
    "        plt.xticks(rotation=45)\n",
    "\n",
    "        # Mostrar valores en el gráfico\n",
    "        if show_values:\n",
    "            for p in ax.patches:\n",
    "                ax.annotate(f'{p.get_height():.2f}', (p.get_x() + p.get_width() / 2., p.get_height()),\n",
    "                            ha='center', va='center', fontsize=10, color='black', xytext=(0, size_group),\n",
    "                            textcoords='offset points')\n",
    "\n",
    "        # Muestra el gráfico\n",
    "        plt.show()"
   ]
  },
  {
   "cell_type": "markdown",
   "metadata": {},
   "source": [
    "Combincacion de histogrmas"
   ]
  },
  {
   "cell_type": "code",
   "execution_count": null,
   "metadata": {},
   "outputs": [],
   "source": [
    "def plot_combined_graphs(df, columns, whisker_width=1.5, bins = None):\n",
    "    num_cols = len(columns)\n",
    "    if num_cols:\n",
    "        \n",
    "        fig, axes = plt.subplots(num_cols, 2, figsize=(12, 5 * num_cols))\n",
    "        print(axes.shape)\n",
    "\n",
    "        for i, column in enumerate(columns):\n",
    "            if df[column].dtype in ['int64', 'float64']:\n",
    "                # Histograma y KDE\n",
    "                sns.histplot(df[column], kde=True, ax=axes[i,0] if num_cols > 1 else axes[0], bins= \"auto\" if not bins else bins)\n",
    "                if num_cols > 1:\n",
    "                    axes[i,0].set_title(f'Histograma y KDE de {column}')\n",
    "                else:\n",
    "                    axes[0].set_title(f'Histograma y KDE de {column}')\n",
    "\n",
    "                # Boxplot\n",
    "                sns.boxplot(x=df[column], ax=axes[i,1] if num_cols > 1 else axes[1], whis=whisker_width)\n",
    "                if num_cols > 1:\n",
    "                    axes[i,1].set_title(f'Boxplot de {column}')\n",
    "                else:\n",
    "                    axes[1].set_title(f'Boxplot de {column}')\n",
    "\n",
    "        plt.tight_layout()\n",
    "        plt.show()"
   ]
  },
  {
   "cell_type": "markdown",
   "metadata": {},
   "source": [
    "Función para cardinalidad"
   ]
  },
  {
   "cell_type": "code",
   "execution_count": null,
   "metadata": {},
   "outputs": [],
   "source": [
    "df_tipificacion = pd.DataFrame([Accidentes_New.nunique(), Accidentes_New.nunique()/len(Accidentes_New) * 100, Accidentes_New.dtypes]).T.rename(columns = {0: \"Card\",\\\n",
    "                                                                                                                                 1: \"%_Card\", 2: \"Tipo\"})"
   ]
  },
  {
   "cell_type": "markdown",
   "metadata": {},
   "source": [
    "Frecuencia relativa de categoricas"
   ]
  },
  {
   "cell_type": "code",
   "execution_count": null,
   "metadata": {},
   "outputs": [],
   "source": [
    "for catego in categoricas:\n",
    "    print (f\"Para {catego}\")\n",
    "    print(Accidentes_New[catego].value_counts()/len(Accidentes_New)*100)\n",
    "    print(\"\\n\"*2)"
   ]
  },
  {
   "cell_type": "markdown",
   "metadata": {},
   "source": [
    "Cruce mukltivariante recorriendo los valores de cada variable categórica"
   ]
  },
  {
   "cell_type": "code",
   "execution_count": null,
   "metadata": {},
   "outputs": [],
   "source": [
    "columnas = [\"TIPO PERSONA\",\"TIPO VEHICULO\",\"TIPO ACCIDENTE\"] \n",
    "col_directora = \"TIPO PERSONA\"\n",
    "col_1 = [col for col in columnas if col != col_directora][0]\n",
    "col_2 = [col for col in columnas if col != col_directora][1]\n",
    "diccionario_multivariante = {}\n",
    "for valor in Accidentes_New[col_directora].unique():\n",
    "    diccionario_multivariante[valor] = Accidentes_New.loc[Accidentes_New[col_directora] == valor,[col_2,col_1]] \n",
    "\n",
    "for valor,df_datos in diccionario_multivariante.items():\n",
    "    print(f\"Respuesta {valor}:\")\n",
    "    plot_categorical_relationship_fin(df_datos,col_2,col_1, relative_freq= True, show_values= True)"
   ]
  }
 ],
 "metadata": {
  "kernelspec": {
   "display_name": "Python 3",
   "language": "python",
   "name": "python3"
  },
  "language_info": {
   "name": "python",
   "version": "3.10.11"
  }
 },
 "nbformat": 4,
 "nbformat_minor": 2
}
