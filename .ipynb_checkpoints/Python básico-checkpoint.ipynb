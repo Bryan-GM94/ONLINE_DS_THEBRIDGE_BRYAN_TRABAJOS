{
 "cells": [
  {
   "cell_type": "markdown",
   "id": "c69a3231-ccf2-43ac-9f78-245466cb6103",
   "metadata": {},
   "source": [
    "# Asignación de Variables"
   ]
  },
  {
   "cell_type": "code",
   "execution_count": 1,
   "id": "66aadb74-8740-4424-a6e9-d1c5fe3d8488",
   "metadata": {},
   "outputs": [],
   "source": [
    "Ingresos = 1000\n",
    "Gastos = 400"
   ]
  },
  {
   "cell_type": "code",
   "execution_count": 5,
   "id": "6ee5c664-c3d9-4fa8-881e-389c5433a7ba",
   "metadata": {},
   "outputs": [
    {
     "data": {
      "text/plain": [
       "1000"
      ]
     },
     "execution_count": 5,
     "metadata": {},
     "output_type": "execute_result"
    }
   ],
   "source": [
    "Ingresos"
   ]
  },
  {
   "cell_type": "code",
   "execution_count": 9,
   "id": "a18aebee-cd54-4c09-a0e6-863f615be993",
   "metadata": {},
   "outputs": [
    {
     "name": "stdout",
     "output_type": "stream",
     "text": [
      "1000\n",
      "400\n"
     ]
    }
   ],
   "source": [
    "print(Ingresos)\n",
    "print(Gastos)"
   ]
  },
  {
   "cell_type": "code",
   "execution_count": 10,
   "id": "db9eec34-e010-4b53-8743-2f19638ec045",
   "metadata": {},
   "outputs": [],
   "source": [
    "margen = Ingresos - Gastos"
   ]
  },
  {
   "cell_type": "code",
   "execution_count": 11,
   "id": "26482976-af84-45fa-9c78-db632d8bafc6",
   "metadata": {},
   "outputs": [
    {
     "data": {
      "text/plain": [
       "600"
      ]
     },
     "execution_count": 11,
     "metadata": {},
     "output_type": "execute_result"
    }
   ],
   "source": [
    "margen"
   ]
  },
  {
   "cell_type": "code",
   "execution_count": 13,
   "id": "2fe34501-dc1f-4055-80c9-e4bfcd59372d",
   "metadata": {},
   "outputs": [
    {
     "name": "stdout",
     "output_type": "stream",
     "text": [
      "600\n"
     ]
    }
   ],
   "source": [
    "print(margen)"
   ]
  },
  {
   "cell_type": "code",
   "execution_count": 16,
   "id": "560a3c95-0a0b-4fea-b521-64579a6ef5ac",
   "metadata": {},
   "outputs": [
    {
     "name": "stdout",
     "output_type": "stream",
     "text": [
      "los ingresos han sido altos\n",
      "los ingresos han sido altos\n"
     ]
    }
   ],
   "source": [
    "ingresos_text = \"los ingresos han sido altos\"\n",
    "ingresos_alt = 'los ingresos han sido altos'\n",
    "print(ingresos_text)\n",
    "print(ingresos_alt)"
   ]
  },
  {
   "cell_type": "code",
   "execution_count": 19,
   "id": "6aad1f86-a3f3-4c0d-823f-0da2543a619c",
   "metadata": {
    "scrolled": true
   },
   "outputs": [
    {
     "name": "stdout",
     "output_type": "stream",
     "text": [
      "['False', 'None', 'True', 'and', 'as', 'assert', 'async', 'await', 'break', 'class', 'continue', 'def', 'del', 'elif', 'else', 'except', 'finally', 'for', 'from', 'global', 'if', 'import', 'in', 'is', 'lambda', 'nonlocal', 'not', 'or', 'pass', 'raise', 'return', 'try', 'while', 'with', 'yield']\n"
     ]
    }
   ],
   "source": [
    " import keyword\n",
    "print(keyword.kwlist)"
   ]
  },
  {
   "cell_type": "markdown",
   "id": "942c7078-a319-4ff6-883b-2ddc8110e196",
   "metadata": {},
   "source": [
    "`print`"
   ]
  },
  {
   "cell_type": "code",
   "execution_count": 21,
   "id": "f2937704-52dd-46f4-8efb-e7011c81084c",
   "metadata": {},
   "outputs": [],
   "source": [
    "ingresos = 1000\n",
    "gastos = 100\n",
    "beneficios = ingresos - gastos\n"
   ]
  },
  {
   "cell_type": "code",
   "execution_count": 24,
   "id": "a939358a-b237-4f8f-b90d-fa986630e14d",
   "metadata": {},
   "outputs": [
    {
     "name": "stdout",
     "output_type": "stream",
     "text": [
      "1000\n",
      "100\n",
      "los beneficios han sido de:\n",
      "900\n"
     ]
    }
   ],
   "source": [
    "print(ingresos)\n",
    "print(gastos)\n",
    "print(\"los beneficios han sido de:\")\n",
    "print(beneficios)"
   ]
  },
  {
   "cell_type": "code",
   "execution_count": 26,
   "id": "266e7e55-87b5-4f67-9d99-746a88264687",
   "metadata": {},
   "outputs": [
    {
     "name": "stdout",
     "output_type": "stream",
     "text": [
      "los beneficios de junio han sido 900 millones\n"
     ]
    }
   ],
   "source": [
    "mes = \"junio\"\n",
    "print(\"los beneficios de %s han sido %s millones\" %(mes,beneficios))"
   ]
  },
  {
   "cell_type": "code",
   "execution_count": 29,
   "id": "5bc8d380-9af0-47ff-8076-8dde7e526f23",
   "metadata": {},
   "outputs": [
    {
     "name": "stdout",
     "output_type": "stream",
     "text": [
      "los beneficios de 900 han sido junio millones\n"
     ]
    }
   ],
   "source": [
    "print(\"los beneficios de %s han sido %s millones\" %(beneficios,mes))\n"
   ]
  },
  {
   "cell_type": "markdown",
   "id": "94bc40b5-ca35-4925-81d5-b1c2daa08947",
   "metadata": {},
   "source": [
    "# Comentarios y comentarios multilineas"
   ]
  },
  {
   "cell_type": "code",
   "execution_count": 31,
   "id": "ef0a3a5f-ffa6-4e21-b07b-03517c7cf67d",
   "metadata": {},
   "outputs": [
    {
     "name": "stdout",
     "output_type": "stream",
     "text": [
      "esto si lo ejecuta\n"
     ]
    }
   ],
   "source": [
    "# comentario en linea\n",
    "# print(\"esto lo ignora\")\n",
    "print(\"esto si lo ejecuta\")"
   ]
  },
  {
   "cell_type": "code",
   "execution_count": 32,
   "id": "711906fd-0e56-44a0-9d35-21114f8e276f",
   "metadata": {},
   "outputs": [
    {
     "name": "stdout",
     "output_type": "stream",
     "text": [
      "fin del programa\n"
     ]
    }
   ],
   "source": [
    "print(\"fin del programa\")\n",
    "# \"esta linea indica que hemos terminado\""
   ]
  },
  {
   "cell_type": "code",
   "execution_count": 34,
   "id": "988e0b88-53fa-43ff-8132-f6c3091dd608",
   "metadata": {},
   "outputs": [
    {
     "data": {
      "text/plain": [
       "'\\ncomentario multilinea\\npuedo usar linea sin repetir el #\\n'"
      ]
     },
     "execution_count": 34,
     "metadata": {},
     "output_type": "execute_result"
    }
   ],
   "source": [
    "'''\n",
    "comentario multilinea\n",
    "puedo usar linea sin repetir el #\n",
    "'''\n",
    "\n"
   ]
  },
  {
   "cell_type": "code",
   "execution_count": 35,
   "id": "7eb14fc5-0d4d-4816-8314-a63206a544e9",
   "metadata": {},
   "outputs": [
    {
     "ename": "NameError",
     "evalue": "name 'ventas_jun' is not defined",
     "output_type": "error",
     "traceback": [
      "\u001b[1;31m---------------------------------------------------------------------------\u001b[0m",
      "\u001b[1;31mNameError\u001b[0m                                 Traceback (most recent call last)",
      "Cell \u001b[1;32mIn[35], line 1\u001b[0m\n\u001b[1;32m----> 1\u001b[0m ventas_jun_jul \u001b[38;5;241m=\u001b[39m \u001b[43mventas_jun\u001b[49m \u001b[38;5;241m+\u001b[39m ventas_jul\n\u001b[0;32m      3\u001b[0m ventas_jun \u001b[38;5;241m=\u001b[39m \u001b[38;5;241m100\u001b[39m\n\u001b[0;32m      4\u001b[0m ventas_jul \u001b[38;5;241m=\u001b[39m \u001b[38;5;241m150\u001b[39m\n",
      "\u001b[1;31mNameError\u001b[0m: name 'ventas_jun' is not defined"
     ]
    }
   ],
   "source": [
    "ventas_jun_jul = ventas_jun + ventas_jul\n",
    "\n",
    "ventas_jun = 100\n",
    "ventas_jul = 150\n"
   ]
  },
  {
   "cell_type": "code",
   "execution_count": 36,
   "id": "937d0442-5eeb-46cd-b66e-aae43d186d3c",
   "metadata": {},
   "outputs": [
    {
     "ename": "NameError",
     "evalue": "name 'ventas_jun' is not defined",
     "output_type": "error",
     "traceback": [
      "\u001b[1;31m---------------------------------------------------------------------------\u001b[0m",
      "\u001b[1;31mNameError\u001b[0m                                 Traceback (most recent call last)",
      "Cell \u001b[1;32mIn[36], line 1\u001b[0m\n\u001b[1;32m----> 1\u001b[0m \u001b[43mventas_jun\u001b[49m\n",
      "\u001b[1;31mNameError\u001b[0m: name 'ventas_jun' is not defined"
     ]
    }
   ],
   "source": [
    "ventas_jun"
   ]
  },
  {
   "cell_type": "code",
   "execution_count": 37,
   "id": "7c9c9350-32a9-4cae-bd65-e545c53a505a",
   "metadata": {},
   "outputs": [],
   "source": [
    "ventas_jun = 100\n",
    "ventas_jul = 150"
   ]
  },
  {
   "cell_type": "code",
   "execution_count": 39,
   "id": "f6830092-b6fb-4128-ba71-ce248482dd2e",
   "metadata": {},
   "outputs": [],
   "source": [
    "ventas_jun_jul = ventas_jun + ventas_jul "
   ]
  },
  {
   "cell_type": "code",
   "execution_count": 40,
   "id": "fb47c01e-5d91-49f1-861d-994726eb4615",
   "metadata": {},
   "outputs": [
    {
     "data": {
      "text/plain": [
       "250"
      ]
     },
     "execution_count": 40,
     "metadata": {},
     "output_type": "execute_result"
    }
   ],
   "source": [
    "ventas_jun_jul"
   ]
  },
  {
   "cell_type": "code",
   "execution_count": 42,
   "id": "5c28252f-61e7-4ff0-ba31-19f073878f2e",
   "metadata": {},
   "outputs": [
    {
     "name": "stdout",
     "output_type": "stream",
     "text": [
      "las ventas de junio a julio son ventas son 250\n"
     ]
    }
   ],
   "source": [
    "print(\"las ventas de junio a julio son ventas son\", ventas_jun_jul)"
   ]
  },
  {
   "cell_type": "code",
   "execution_count": 43,
   "id": "cea69c8c-1c78-494c-9628-38ac5d9c6ac6",
   "metadata": {},
   "outputs": [],
   "source": [
    "altura = 180; peso = 75"
   ]
  },
  {
   "cell_type": "code",
   "execution_count": 44,
   "id": "ab2768df-7b8b-4c97-8a7a-9a29243e6fd8",
   "metadata": {},
   "outputs": [],
   "source": [
    " x, y, z = 12, 23, 45"
   ]
  },
  {
   "cell_type": "code",
   "execution_count": 45,
   "id": "fbf4e519-4a78-41c6-a80d-6f4c2f6252b4",
   "metadata": {},
   "outputs": [
    {
     "name": "stdout",
     "output_type": "stream",
     "text": [
      "12\n"
     ]
    }
   ],
   "source": [
    "print (x)"
   ]
  },
  {
   "cell_type": "code",
   "execution_count": 47,
   "id": "98a743a3-aa7a-46b6-9ddc-dfba0dce9a7c",
   "metadata": {},
   "outputs": [
    {
     "ename": "NameError",
     "evalue": "name 'altura' is not defined",
     "output_type": "error",
     "traceback": [
      "\u001b[1;31m---------------------------------------------------------------------------\u001b[0m",
      "\u001b[1;31mNameError\u001b[0m                                 Traceback (most recent call last)",
      "Cell \u001b[1;32mIn[47], line 3\u001b[0m\n\u001b[0;32m      1\u001b[0m altura \u001b[38;5;241m=\u001b[39m \u001b[38;5;241m1.85\u001b[39m\n\u001b[0;32m      2\u001b[0m \u001b[38;5;28;01mdel\u001b[39;00m altura\n\u001b[1;32m----> 3\u001b[0m \u001b[38;5;28mprint\u001b[39m(\u001b[43maltura\u001b[49m)\n",
      "\u001b[1;31mNameError\u001b[0m: name 'altura' is not defined"
     ]
    }
   ],
   "source": [
    "altura = 1.85\n",
    "del altura\n",
    "print(altura)"
   ]
  },
  {
   "cell_type": "markdown",
   "id": "8637941a-0b2a-4467-b984-50f59867fd82",
   "metadata": {},
   "source": [
    "# Tipo de Datos"
   ]
  },
  {
   "cell_type": "markdown",
   "id": "1f4a92a3-ebe8-412a-af99-967610076b03",
   "metadata": {},
   "source": [
    "## variables numéricas"
   ]
  },
  {
   "cell_type": "code",
   "execution_count": 48,
   "id": "c5373c2b-752f-4225-aaff-a727754236b5",
   "metadata": {},
   "outputs": [
    {
     "data": {
      "text/plain": [
       "int"
      ]
     },
     "execution_count": 48,
     "metadata": {},
     "output_type": "execute_result"
    }
   ],
   "source": [
    "numero = 22\n",
    "type (numero)"
   ]
  },
  {
   "cell_type": "code",
   "execution_count": 49,
   "id": "26fd39d0-1839-4a72-8f75-6cc4b29dfc91",
   "metadata": {},
   "outputs": [
    {
     "data": {
      "text/plain": [
       "float"
      ]
     },
     "execution_count": 49,
     "metadata": {},
     "output_type": "execute_result"
    }
   ],
   "source": [
    "numero_real = 22.0\n",
    "type (numero_real)"
   ]
  },
  {
   "cell_type": "code",
   "execution_count": 51,
   "id": "19b5f316-a7d6-47b5-913d-9f64049bdf8c",
   "metadata": {},
   "outputs": [
    {
     "data": {
      "text/plain": [
       "float"
      ]
     },
     "execution_count": 51,
     "metadata": {},
     "output_type": "execute_result"
    }
   ],
   "source": [
    "numero_real_decimales = 22.45123\n",
    "type (numero_real_decimales)"
   ]
  },
  {
   "cell_type": "code",
   "execution_count": 52,
   "id": "bdbe2a38-9f81-41d9-b2bc-e0ea00dda3a0",
   "metadata": {},
   "outputs": [
    {
     "data": {
      "text/plain": [
       "22"
      ]
     },
     "execution_count": 52,
     "metadata": {},
     "output_type": "execute_result"
    }
   ],
   "source": [
    "12 + 10"
   ]
  },
  {
   "cell_type": "code",
   "execution_count": 53,
   "id": "563d22d3-64f5-41e4-96ca-4d68aed13f76",
   "metadata": {},
   "outputs": [
    {
     "data": {
      "text/plain": [
       "-2"
      ]
     },
     "execution_count": 53,
     "metadata": {},
     "output_type": "execute_result"
    }
   ],
   "source": [
    "10 - 12"
   ]
  },
  {
   "cell_type": "code",
   "execution_count": 54,
   "id": "3aebb6b8-4360-45df-9df5-0e2b10d5c0c4",
   "metadata": {},
   "outputs": [
    {
     "data": {
      "text/plain": [
       "1000000"
      ]
     },
     "execution_count": 54,
     "metadata": {},
     "output_type": "execute_result"
    }
   ],
   "source": [
    "100** 3"
   ]
  },
  {
   "cell_type": "code",
   "execution_count": 55,
   "id": "721ac50b-48b3-44ed-ae67-f0398d4c0cd0",
   "metadata": {},
   "outputs": [
    {
     "data": {
      "text/plain": [
       "300"
      ]
     },
     "execution_count": 55,
     "metadata": {},
     "output_type": "execute_result"
    }
   ],
   "source": [
    "100 * 3"
   ]
  },
  {
   "cell_type": "code",
   "execution_count": 62,
   "id": "1cd03b3b-8f99-4765-927d-5a8e16a77e3b",
   "metadata": {},
   "outputs": [
    {
     "name": "stdout",
     "output_type": "stream",
     "text": [
      "resto division\n",
      "3.3333333333333335\n",
      "3\n",
      "1\n",
      "3\n"
     ]
    }
   ],
   "source": [
    "print(\"resto division\")\n",
    "print(10 / 3) \n",
    "print(int(10/3))\n",
    "print(10%3)\n",
    "print(10//3)"
   ]
  },
  {
   "cell_type": "code",
   "execution_count": 68,
   "id": "b9c6c899-39a0-42d4-88ff-d4175f767619",
   "metadata": {},
   "outputs": [
    {
     "name": "stdout",
     "output_type": "stream",
     "text": [
      "¿es 23205021 par?\n",
      "el resto es 1\n",
      "es impar\n"
     ]
    }
   ],
   "source": [
    "n = 23205021\n",
    "print(\"¿es\", n, \"par?\")\n",
    "resto = n % 2\n",
    "print(\"el resto es\", resto)\n",
    "if resto == 0:\n",
    "    print(\"es par\")\n",
    "else:\n",
    "    print(\"es impar\")"
   ]
  },
  {
   "cell_type": "markdown",
   "id": "f3d7059a-17a8-4a28-aeb1-c7029f28b49a",
   "metadata": {},
   "source": [
    "## Strings"
   ]
  },
  {
   "cell_type": "code",
   "execution_count": 71,
   "id": "722bca4e-ba08-43eb-99e4-40976aa89814",
   "metadata": {},
   "outputs": [
    {
     "name": "stdout",
     "output_type": "stream",
     "text": [
      "string con 'simples'\n",
      "strings con \"dobles\"\n",
      "string con \"simples o dobles\"\n"
     ]
    }
   ],
   "source": [
    "print(\"string con 'simples'\")\n",
    "print('strings con \"dobles\"')\n",
    "print(\"string con \\\"simples o dobles\\\"\")"
   ]
  },
  {
   "cell_type": "code",
   "execution_count": 72,
   "id": "69e5a719-ca64-446f-8bd8-33f88a60b630",
   "metadata": {},
   "outputs": [
    {
     "name": "stdout",
     "output_type": "stream",
     "text": [
      "primera linea\n",
      " segunda linea\n",
      "\tTercera linea, tabulada\n"
     ]
    }
   ],
   "source": [
    "print(\"primera linea\\n segunda linea\\n\\tTercera linea, tabulada\")"
   ]
  },
  {
   "cell_type": "code",
   "execution_count": 73,
   "id": "17d93b82-14df-40b5-8148-98deac9384d5",
   "metadata": {},
   "outputs": [
    {
     "name": "stdout",
     "output_type": "stream",
     "text": [
      "primera linea\n",
      "Segunda linea\n",
      "\tTercera linea, tabulada\n"
     ]
    }
   ],
   "source": [
    "mi_string = \"primera linea\\nSegunda linea\\n\\tTercera linea, tabulada\"\n",
    "print(mi_string)"
   ]
  },
  {
   "cell_type": "code",
   "execution_count": 78,
   "id": "b1b28ed3-6a63-4937-9459-9abf84b7cdeb",
   "metadata": {},
   "outputs": [
    {
     "name": "stdout",
     "output_type": "stream",
     "text": [
      "antonia scott\n"
     ]
    }
   ],
   "source": [
    "nombre = \"antonia\"\n",
    "apellido = \"scott\"\n",
    "\n",
    "nombre_apellido = nombre + \" \" +apellido\n",
    "print (nombre_apellido)"
   ]
  },
  {
   "cell_type": "code",
   "execution_count": 80,
   "id": "8c2f8990-643d-497c-abdf-9373f8ae19ca",
   "metadata": {},
   "outputs": [
    {
     "ename": "TypeError",
     "evalue": "can only concatenate str (not \"int\") to str",
     "output_type": "error",
     "traceback": [
      "\u001b[1;31m---------------------------------------------------------------------------\u001b[0m",
      "\u001b[1;31mTypeError\u001b[0m                                 Traceback (most recent call last)",
      "Cell \u001b[1;32mIn[80], line 3\u001b[0m\n\u001b[0;32m      1\u001b[0m esto_es_una_prueba \u001b[38;5;241m=\u001b[39m \u001b[38;5;124m\"\u001b[39m\u001b[38;5;124mpues eso, que estamos jugando\u001b[39m\u001b[38;5;124m\"\u001b[39m\n\u001b[0;32m      2\u001b[0m un_entero \u001b[38;5;241m=\u001b[39m \u001b[38;5;241m100\u001b[39m\n\u001b[1;32m----> 3\u001b[0m \u001b[38;5;28mprint\u001b[39m(\u001b[43mesto_es_una_prueba\u001b[49m\u001b[43m \u001b[49m\u001b[38;5;241;43m+\u001b[39;49m\u001b[43m \u001b[49m\u001b[43mun_entero\u001b[49m)\n",
      "\u001b[1;31mTypeError\u001b[0m: can only concatenate str (not \"int\") to str"
     ]
    }
   ],
   "source": [
    "esto_es_una_prueba = \"pues eso, que estamos jugando\"\n",
    "un_entero = 100\n",
    "print(esto_es_una_prueba + un_entero)"
   ]
  },
  {
   "cell_type": "markdown",
   "id": "77e3412a-c0a9-4063-ba6b-baa304838819",
   "metadata": {},
   "source": [
    "## Booleano"
   ]
  },
  {
   "cell_type": "code",
   "execution_count": 83,
   "id": "c2e64472-edef-4630-943b-8461fd693fba",
   "metadata": {},
   "outputs": [
    {
     "data": {
      "text/plain": [
       "bool"
      ]
     },
     "execution_count": 83,
     "metadata": {},
     "output_type": "execute_result"
    }
   ],
   "source": [
    "ya_se_de_ptython = False\n",
    "type(ya_se_de_ptython)"
   ]
  },
  {
   "cell_type": "code",
   "execution_count": 85,
   "id": "2fce4c5c-8f35-479c-9224-9ccbb7100d88",
   "metadata": {},
   "outputs": [
    {
     "data": {
      "text/plain": [
       "False"
      ]
     },
     "execution_count": 85,
     "metadata": {},
     "output_type": "execute_result"
    }
   ],
   "source": [
    "dinerito = 5\n",
    "dinerito >= 15"
   ]
  },
  {
   "cell_type": "code",
   "execution_count": 88,
   "id": "bb92ae35-0398-46e2-859d-674ae8ce8f8d",
   "metadata": {},
   "outputs": [
    {
     "name": "stdout",
     "output_type": "stream",
     "text": [
      "True\n",
      "<class 'bool'>\n"
     ]
    }
   ],
   "source": [
    "dinerito = 15\n",
    "condi_1 = dinerito >= 15\n",
    "print(condi_1)\n",
    "print(type(condi_1))"
   ]
  },
  {
   "cell_type": "markdown",
   "id": "48d29166-b71b-4efe-9d25-20d07399fddb",
   "metadata": {},
   "source": [
    "## Conversión de tipos"
   ]
  },
  {
   "cell_type": "code",
   "execution_count": 90,
   "id": "2a33fb20-7aa8-4c1a-a180-22b46fd1e579",
   "metadata": {},
   "outputs": [
    {
     "name": "stdout",
     "output_type": "stream",
     "text": [
      "<class 'float'>\n",
      "24\n",
      "<class 'int'>\n"
     ]
    }
   ],
   "source": [
    "num_real = 24.69\n",
    "print(type(num_real))\n",
    "\n",
    "num_ent = int(num_real)\n",
    "print(num_ent)\n",
    "print(type(num_ent))"
   ]
  },
  {
   "cell_type": "code",
   "execution_count": 91,
   "id": "87ad047e-ee71-4100-ac72-ff99cbcc97ae",
   "metadata": {},
   "outputs": [],
   "source": [
    "num_real = 24.686\n",
    "num_redondeado = round(num_real,2)"
   ]
  },
  {
   "cell_type": "code",
   "execution_count": 92,
   "id": "b705dac0-9bbf-4024-8afb-47f1b536613b",
   "metadata": {},
   "outputs": [
    {
     "data": {
      "text/plain": [
       "24.69"
      ]
     },
     "execution_count": 92,
     "metadata": {},
     "output_type": "execute_result"
    }
   ],
   "source": [
    "num_redondeado"
   ]
  },
  {
   "cell_type": "code",
   "execution_count": 93,
   "id": "2fec0d08-246c-4516-830a-510cc1db3b6a",
   "metadata": {},
   "outputs": [],
   "source": [
    "num_redondeado = 24.69\n",
    "num_convertido = round(num_redondeado, 0)"
   ]
  },
  {
   "cell_type": "code",
   "execution_count": 94,
   "id": "bcb0f70a-eb71-4fc3-a7fb-0543e6d59cf9",
   "metadata": {},
   "outputs": [
    {
     "name": "stdout",
     "output_type": "stream",
     "text": [
      "<class 'float'>\n"
     ]
    }
   ],
   "source": [
    "print(type(num_convertido))"
   ]
  },
  {
   "cell_type": "code",
   "execution_count": 95,
   "id": "1e77f1e2-bd8a-4e35-bada-10efc851fdc6",
   "metadata": {},
   "outputs": [
    {
     "data": {
      "text/plain": [
       "25.0"
      ]
     },
     "execution_count": 95,
     "metadata": {},
     "output_type": "execute_result"
    }
   ],
   "source": [
    "num_convertido"
   ]
  },
  {
   "cell_type": "code",
   "execution_count": 96,
   "id": "77b70e0b-d55d-4546-a23c-8b3a15e989f1",
   "metadata": {},
   "outputs": [
    {
     "name": "stdout",
     "output_type": "stream",
     "text": [
      "24.69 su tipo <class 'str'>\n",
      "12 su tipo <class 'str'>\n"
     ]
    }
   ],
   "source": [
    "num_real = 24.69\n",
    "num_entero = 12\n",
    "\n",
    "real_str = str(num_real)\n",
    "entero_str = str(num_entero)\n",
    "\n",
    "print(real_str, \"su tipo\", type(real_str))\n",
    "print(entero_str, \"su tipo\", type(entero_str))"
   ]
  },
  {
   "cell_type": "code",
   "execution_count": 97,
   "id": "71d79c5c-f36a-4f75-9cf2-f5c387959204",
   "metadata": {},
   "outputs": [
    {
     "name": "stdout",
     "output_type": "stream",
     "text": [
      "36.69\n",
      "24.6912\n"
     ]
    }
   ],
   "source": [
    "print(num_real + num_entero)\n",
    "print(real_str + entero_str)"
   ]
  },
  {
   "cell_type": "code",
   "execution_count": 99,
   "id": "c7411a73-78af-4f7e-909c-35345c0d5172",
   "metadata": {},
   "outputs": [
    {
     "name": "stdout",
     "output_type": "stream",
     "text": [
      "98\n"
     ]
    }
   ],
   "source": [
    "mi_entero = 98\n",
    "print(mi_entero)"
   ]
  },
  {
   "cell_type": "code",
   "execution_count": 104,
   "id": "0af354b6-ebbd-4461-a5a1-758260104195",
   "metadata": {},
   "outputs": [
    {
     "name": "stdout",
     "output_type": "stream",
     "text": [
      "98 <class 'str'>\n",
      "98 <class 'int'>\n"
     ]
    }
   ],
   "source": [
    "mi_cadena = \"98\"\n",
    "mi_entero = int(mi_cadena)\n",
    "print(mi_cadena, type(mi_cadena))\n",
    "print(mi_entero, type(mi_entero))\n",
    "\n",
    "mi_cadena_real = \"98.33\"\n",
    "mi_real = float(mi_cadena_real)"
   ]
  },
  {
   "cell_type": "code",
   "execution_count": 105,
   "id": "97df8cea-8558-405c-8518-df434c83397a",
   "metadata": {},
   "outputs": [
    {
     "name": "stdout",
     "output_type": "stream",
     "text": [
      "98.33 <class 'float'>\n"
     ]
    }
   ],
   "source": [
    "print(mi_real, type(mi_real))"
   ]
  },
  {
   "cell_type": "code",
   "execution_count": 106,
   "id": "367fa793-e302-47ec-bf5f-25aecfaa0f54",
   "metadata": {},
   "outputs": [
    {
     "name": "stdout",
     "output_type": "stream",
     "text": [
      "True <class 'bool'>\n"
     ]
    }
   ],
   "source": [
    "booleano = bool(123)\n",
    "print(booleano, type(booleano))"
   ]
  },
  {
   "cell_type": "code",
   "execution_count": 108,
   "id": "1f79f404-6f62-4b7f-ac34-7a57c0676ae0",
   "metadata": {},
   "outputs": [
    {
     "name": "stdout",
     "output_type": "stream",
     "text": [
      "False <class 'bool'>\n"
     ]
    }
   ],
   "source": [
    "booleano = bool(0)\n",
    "print(booleano, type(booleano))"
   ]
  },
  {
   "cell_type": "code",
   "execution_count": 110,
   "id": "9644ce96-72d3-425e-beec-85877bec930e",
   "metadata": {},
   "outputs": [
    {
     "name": "stdout",
     "output_type": "stream",
     "text": [
      "False <class 'bool'>\n",
      "True <class 'bool'>\n"
     ]
    }
   ],
   "source": [
    "booleano = bool(\"\")\n",
    "booleano_2 = bool(\"esto es otro tipo\")\n",
    "print(booleano, type(booleano))\n",
    "print(booleano_2, type(booleano_2))"
   ]
  },
  {
   "cell_type": "code",
   "execution_count": 111,
   "id": "fa4b71d7-04ad-444f-9dba-1ddc6f185df4",
   "metadata": {},
   "outputs": [],
   "source": [
    "bool_str = str(booleano)\n",
    "booleano_2 = str(booleano_2)"
   ]
  },
  {
   "cell_type": "code",
   "execution_count": 112,
   "id": "f3adc8c3-2837-48af-b690-93b6ba20f799",
   "metadata": {},
   "outputs": [
    {
     "data": {
      "text/plain": [
       "'False'"
      ]
     },
     "execution_count": 112,
     "metadata": {},
     "output_type": "execute_result"
    }
   ],
   "source": [
    "bool_str"
   ]
  },
  {
   "cell_type": "code",
   "execution_count": 113,
   "id": "1c29cabe-eba6-4572-a657-e20cffc1676f",
   "metadata": {},
   "outputs": [
    {
     "data": {
      "text/plain": [
       "'True'"
      ]
     },
     "execution_count": 113,
     "metadata": {},
     "output_type": "execute_result"
    }
   ],
   "source": [
    "booleano_2"
   ]
  },
  {
   "cell_type": "code",
   "execution_count": 1,
   "id": "6839dccc-5bdc-4f55-a5e2-26e28abc96a8",
   "metadata": {},
   "outputs": [
    {
     "ename": "ValueError",
     "evalue": "could not convert string to float: '68,24'",
     "output_type": "error",
     "traceback": [
      "\u001b[1;31m---------------------------------------------------------------------------\u001b[0m",
      "\u001b[1;31mValueError\u001b[0m                                Traceback (most recent call last)",
      "Cell \u001b[1;32mIn[1], line 2\u001b[0m\n\u001b[0;32m      1\u001b[0m real_str \u001b[38;5;241m=\u001b[39m \u001b[38;5;124m\"\u001b[39m\u001b[38;5;124m68,24\u001b[39m\u001b[38;5;124m\"\u001b[39m\n\u001b[1;32m----> 2\u001b[0m real \u001b[38;5;241m=\u001b[39m \u001b[38;5;28;43mfloat\u001b[39;49m\u001b[43m(\u001b[49m\u001b[43mreal_str\u001b[49m\u001b[43m)\u001b[49m\n",
      "\u001b[1;31mValueError\u001b[0m: could not convert string to float: '68,24'"
     ]
    }
   ],
   "source": [
    "real_str = \"68,24\"\n",
    "real = float(real_str)"
   ]
  },
  {
   "cell_type": "code",
   "execution_count": 2,
   "id": "3f970655-061d-4937-a702-8f39514dcbd4",
   "metadata": {},
   "outputs": [
    {
     "data": {
      "text/plain": [
       "'68.24'"
      ]
     },
     "execution_count": 2,
     "metadata": {},
     "output_type": "execute_result"
    }
   ],
   "source": [
    "real_str.replace(\",\",\".\")"
   ]
  },
  {
   "cell_type": "code",
   "execution_count": 3,
   "id": "7b69a184-916d-40e7-8303-0edeeeaf7dee",
   "metadata": {},
   "outputs": [
    {
     "name": "stdout",
     "output_type": "stream",
     "text": [
      "<class 'str'>\n"
     ]
    }
   ],
   "source": [
    "nuevo_str = real_str.replace(\",\",\".\")\n",
    "print(type(nuevo_str))"
   ]
  },
  {
   "cell_type": "code",
   "execution_count": 4,
   "id": "f42d0ec9-dc39-4f14-9951-783611edc270",
   "metadata": {},
   "outputs": [
    {
     "name": "stdout",
     "output_type": "stream",
     "text": [
      "<class 'str'>\n"
     ]
    }
   ],
   "source": [
    "real = float(nuevo_str)\n",
    "print(type(nuevo_str))"
   ]
  },
  {
   "cell_type": "markdown",
   "id": "c97ff125-b260-49a9-b41d-f9dc32ab0e4a",
   "metadata": {},
   "source": [
    "## Imput"
   ]
  },
  {
   "cell_type": "code",
   "execution_count": 6,
   "id": "6ba86ae8-c6ae-408e-9227-471c16c6d7ba",
   "metadata": {},
   "outputs": [
    {
     "name": "stdin",
     "output_type": "stream",
     "text": [
      "escribeme algo mi arma 98\n"
     ]
    }
   ],
   "source": [
    "primer_imput = input(\"escribeme algo mi arma\")"
   ]
  },
  {
   "cell_type": "code",
   "execution_count": 8,
   "id": "b28e47ac-978c-4c93-b7e1-23337cc5f78a",
   "metadata": {},
   "outputs": [
    {
     "data": {
      "text/plain": [
       "'98'"
      ]
     },
     "execution_count": 8,
     "metadata": {},
     "output_type": "execute_result"
    }
   ],
   "source": [
    "primer_imput"
   ]
  },
  {
   "cell_type": "code",
   "execution_count": 10,
   "id": "fb8607aa-89f8-4b82-91dc-39f342e61fd0",
   "metadata": {},
   "outputs": [
    {
     "name": "stdin",
     "output_type": "stream",
     "text": [
      "Como te llamas Bryan\n"
     ]
    },
    {
     "name": "stdout",
     "output_type": "stream",
     "text": [
      "encantado de conocerte Bryan\n"
     ]
    },
    {
     "name": "stdin",
     "output_type": "stream",
     "text": [
      "Y, ¿que te parece este magnifico video? genial\n"
     ]
    },
    {
     "name": "stdout",
     "output_type": "stream",
     "text": [
      "coincido\n"
     ]
    }
   ],
   "source": [
    "nombre = input(\"Como te llamas\")\n",
    "print(\"encantado de conocerte\", nombre)\n",
    "preferencias = input(\"Y, ¿que te parece este magnifico video?\")\n",
    "print(\"coincido\")\n",
    "                     "
   ]
  },
  {
   "cell_type": "markdown",
   "id": "70f02bef-3c4f-4b17-bfbe-2b45b0d03acc",
   "metadata": {},
   "source": [
    "## Nome"
   ]
  },
  {
   "cell_type": "code",
   "execution_count": 13,
   "id": "32b5277a-2ece-4a5b-b97b-4db7d5a6cc3e",
   "metadata": {},
   "outputs": [
    {
     "name": "stdout",
     "output_type": "stream",
     "text": [
      "None\n"
     ]
    }
   ],
   "source": [
    "print(None)"
   ]
  },
  {
   "cell_type": "code",
   "execution_count": 14,
   "id": "679fbc9d-3d70-4c26-9d52-4bb9b71ffbb0",
   "metadata": {},
   "outputs": [
    {
     "data": {
      "text/plain": [
       "False"
      ]
     },
     "execution_count": 14,
     "metadata": {},
     "output_type": "execute_result"
    }
   ],
   "source": [
    "\"\" == None"
   ]
  },
  {
   "cell_type": "code",
   "execution_count": 15,
   "id": "faa10cd3-ada9-4ff1-b66c-29d3e2ebda46",
   "metadata": {},
   "outputs": [
    {
     "data": {
      "text/plain": [
       "False"
      ]
     },
     "execution_count": 15,
     "metadata": {},
     "output_type": "execute_result"
    }
   ],
   "source": [
    "0 == None"
   ]
  },
  {
   "cell_type": "code",
   "execution_count": 16,
   "id": "886826b4-226c-4bd3-adf5-c21975acab8e",
   "metadata": {},
   "outputs": [
    {
     "data": {
      "text/plain": [
       "False"
      ]
     },
     "execution_count": 16,
     "metadata": {},
     "output_type": "execute_result"
    }
   ],
   "source": [
    "False == None"
   ]
  },
  {
   "cell_type": "code",
   "execution_count": 17,
   "id": "d2f864c7-1892-46bc-9b5f-129cb0e65109",
   "metadata": {},
   "outputs": [
    {
     "name": "stdout",
     "output_type": "stream",
     "text": [
      "The Zen of Python, by Tim Peters\n",
      "\n",
      "Beautiful is better than ugly.\n",
      "Explicit is better than implicit.\n",
      "Simple is better than complex.\n",
      "Complex is better than complicated.\n",
      "Flat is better than nested.\n",
      "Sparse is better than dense.\n",
      "Readability counts.\n",
      "Special cases aren't special enough to break the rules.\n",
      "Although practicality beats purity.\n",
      "Errors should never pass silently.\n",
      "Unless explicitly silenced.\n",
      "In the face of ambiguity, refuse the temptation to guess.\n",
      "There should be one-- and preferably only one --obvious way to do it.\n",
      "Although that way may not be obvious at first unless you're Dutch.\n",
      "Now is better than never.\n",
      "Although never is often better than *right* now.\n",
      "If the implementation is hard to explain, it's a bad idea.\n",
      "If the implementation is easy to explain, it may be a good idea.\n",
      "Namespaces are one honking great idea -- let's do more of those!\n"
     ]
    }
   ],
   "source": [
    "import this"
   ]
  },
  {
   "cell_type": "code",
   "execution_count": null,
   "id": "b8d84141-f82a-4c4c-b0a5-44dfa54ad320",
   "metadata": {},
   "outputs": [],
   "source": []
  }
 ],
 "metadata": {
  "kernelspec": {
   "display_name": "Python 3 (ipykernel)",
   "language": "python",
   "name": "python3"
  },
  "language_info": {
   "codemirror_mode": {
    "name": "ipython",
    "version": 3
   },
   "file_extension": ".py",
   "mimetype": "text/x-python",
   "name": "python",
   "nbconvert_exporter": "python",
   "pygments_lexer": "ipython3",
   "version": "3.10.11"
  }
 },
 "nbformat": 4,
 "nbformat_minor": 5
}
