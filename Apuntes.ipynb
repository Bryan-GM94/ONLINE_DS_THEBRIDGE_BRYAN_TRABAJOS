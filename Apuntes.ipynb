{
 "cells": [
  {
   "cell_type": "markdown",
   "metadata": {},
   "source": [
    "# Apuntes a nivel Genereal \n",
    "## Sprint 1\n",
    "### Unidad 1\n",
    "- Markdown se edita como un texto plano\n",
    "- Los comentarios de Python se indican con un asterisco en el principio \"#\"\n",
    "- Cabeceras en Markdown se determinan por el hashtag \"#\", donde tiene hasta 6 niveles \n",
    "- Para poner negrita es con **Texto negrita**\n",
    "- para cursiva  *texto cursiva*\n",
    "- Para ambos ***texto negrita y cursiva***\n",
    "- **Citas o referencias** se indica con el simbolo en mayor \">\"\n",
    "> cita de pimer nivel\n",
    ">> cita de segundo nivel\n",
    "- Saltos de lineas se indican con dos espacios seguidos \"  \"\n",
    "- Para las listas ordenadas se indican con el número por delante \n",
    "1. elemento 1\n",
    "2. elemento 2  \n",
    "De por si, de esta manera ya respeta los saltos de líneas automáticos \n",
    "- Para la creación de las lineas horizontales en markdown se puede hacer con tres hastericos seguidos \"***\"\n",
    "***\n",
    "- Para los links o enlacews su sintaxis es:[enlace](Link de la página web)\n",
    "- Para resaltar una parte del texto es con la comilla invertida `Ejemplo de la comilla`\n",
    "- Links para otra parte del notebook como una cabecera [Descripción] (Nombre de la cabecera con el # del mismo solo uno)\n",
    "[principio](#Apuntes-a-nivel-Genereal)\n",
    "- Para imagenes se usa esta sintaxis \"![Nombre cualqueira](ruta de imagenes)\""
   ]
  },
  {
   "cell_type": "markdown",
   "metadata": {},
   "source": [
    "### Unidad 2 (Variables, tipo de datos y operaciones básicas)\n",
    "- Las variables se declaran para poder tener los datos y poder usarlos en cualquier momento \n",
    "- Se imprime en secuencia usando los \"print`s\"\n",
    "- Las cadenas de texto de una variable se declaran en comillas\n",
    "- Las variables se pueden reasignar\n",
    "- En python tiene una serie de palabras reservadas que no se pueden usar para poner nombre a nuestras variables \n",
    "- Los comentarios multilineas en python se puede realizar abriendo \n",
    " comillas simples y cerrando las mismas cuando se termine de escribir el comentario \" `'''` \"\n",
    " - El comando `Del` sirve para borrar variables su sintaxis es `del`siguiento se pone la variable `del altura`\n",
    " - Los tipos de datos se clasifican en entero `int`, decimales `float`, texto `str`, booleanos `True` `False`\n",
    " - Para saber el tipo de datos se determina con `type(nombre de variable)`\n",
    " - Saltos de lineas o tabulaciones se usa el caracter de escape `\\n`(salto de linea)\n",
    "`\\t` (salto de tabulación)\n",
    "- Se incomporan espacios con una concatenación \" \" (usando las comillas y dejando un espacio)\n",
    "- Los boolenaos se escriben con la primera letra en mayuscula `True` o `False`\n",
    "- Conversión de tipos de datos: para poder hacer el cambio respectivamente se pone la función o el tipo que deseo cambiar su sintexis es `int(num_real)`\n",
    "- paras redonder tenemos la funciónn `round()` `num_round = round(num_real, 2 \"esta parte determina cuantos decimales se visualizan\")`\n",
    "- Asi mismo se puede hacer el cambio de número a string `str(num_real)`\n",
    "- El metodo `replace()` se aplica para poder remplazar un caracter por otro en una cadenma string \n",
    "- La sintaxis de los métodos se ponen despues de las variables **real_str.replace(\",\",\".\")** y debe de volcarse en otra variable \n",
    "- `Input` se usa en pythom para recoger información **primer_in  = input(\"escribe algo\") print(primer_in)** Esto es como un chatbot pero siempre recogerá la info en string\n",
    "- `Operaciones aritméticas` son: sumar = \"+\", restar = \"-\", dividir =\"/\", multiplicar = \"*\", elevar = \"**\", cociente de división=\"//\", resto de la división=\"%\"\n",
    "- `Operaciones complejas`: se deben de importar módulos**import math** eso se hace para calculos más complejos (raiz cuadrada, seno/coseno, valor absoluto, etc) su sintaxis **print(math.sqrt(25))**\n",
    "-`Operaciones comparativas`: su sintaxis es `elemento derecha, comparador, elemento a la izq` son: == igualdad, !=desigualdad,> Mayor que, < Menor que, >= mayor o igual a que, <= Menor o igual a que, esto siempre devuelve valores booleanos **True** o **False**\n",
    "-`Operaciones Booleanas`: su sintaxis es **comparación1/condición1 (AND,OR,NOT) comparación2/condición2** \n",
    "**And** (Se tiene que cumplir las dos condiciones para que sea un True)\n",
    "**or** (se tiene que cumplir al menos un a condsición para qyue sea u True)\n",
    "**NOR**(Lo contrario de lo que haya)\n",
    "-`EL caracter \\`: En Python sirve para interpretarse como una sola linea aunque se da el salto"
   ]
  },
  {
   "cell_type": "code",
   "execution_count": 2,
   "metadata": {},
   "outputs": [
    {
     "name": "stdout",
     "output_type": "stream",
     "text": [
      "primera linea \n",
      "segunda linea\n",
      "\tlinea tabulada\n"
     ]
    }
   ],
   "source": [
    "#Ejemmplo de salto de lineas \n",
    "print(\"primera linea \\nsegunda linea\\n\\tlinea tabulada\")"
   ]
  },
  {
   "cell_type": "code",
   "execution_count": 4,
   "metadata": {},
   "outputs": [
    {
     "data": {
      "text/plain": [
       "'Bryan Gando'"
      ]
     },
     "execution_count": 4,
     "metadata": {},
     "output_type": "execute_result"
    }
   ],
   "source": [
    "#Ejemplo de espacio\n",
    "nombre = \"Bryan\"\n",
    "apellido =\"Gando\"\n",
    "espacio = \" \"\n",
    "nombre_ap = nombre + espacio + apellido\n",
    "nombre_ap"
   ]
  },
  {
   "cell_type": "code",
   "execution_count": 5,
   "metadata": {},
   "outputs": [
    {
     "name": "stdout",
     "output_type": "stream",
     "text": [
      "<class 'float'>\n",
      "<class 'int'>\n"
     ]
    }
   ],
   "source": [
    "#Cambio de tipos\n",
    "num_real = 24.69\n",
    "print(type(num_real))\n",
    "num_ent = int(num_real)\n",
    "print(type(num_ent))"
   ]
  },
  {
   "cell_type": "code",
   "execution_count": 8,
   "metadata": {},
   "outputs": [
    {
     "data": {
      "text/plain": [
       "25.0"
      ]
     },
     "execution_count": 8,
     "metadata": {},
     "output_type": "execute_result"
    }
   ],
   "source": [
    "#Round()\n",
    "num_real= 24.686\n",
    "num_round= round(num_real, 0)\n",
    "num_round"
   ]
  },
  {
   "cell_type": "code",
   "execution_count": 11,
   "metadata": {},
   "outputs": [
    {
     "name": "stdout",
     "output_type": "stream",
     "text": [
      "hola\n"
     ]
    }
   ],
   "source": [
    "#Input().\n",
    "primer_in  = input(\"escribe algo\")\n",
    "print(primer_in)"
   ]
  },
  {
   "cell_type": "code",
   "execution_count": 12,
   "metadata": {},
   "outputs": [
    {
     "name": "stdout",
     "output_type": "stream",
     "text": [
      "5.0\n"
     ]
    }
   ],
   "source": [
    "#Ejemplo de operaciones complejas \n",
    "import math\n",
    "print(math.sqrt(25))"
   ]
  },
  {
   "cell_type": "markdown",
   "metadata": {},
   "source": []
  }
 ],
 "metadata": {
  "kernelspec": {
   "display_name": "Python 3",
   "language": "python",
   "name": "python3"
  },
  "language_info": {
   "name": "python",
   "version": "3.10.11"
  }
 },
 "nbformat": 4,
 "nbformat_minor": 2
}
