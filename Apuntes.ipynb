{
 "cells": [
  {
   "cell_type": "markdown",
   "metadata": {},
   "source": [
    "# Apuntes a nivel Genereal \n",
    "## Sprint 1\n",
    "### Unidad 1\n",
    "- Markdown se edita como un texto plano\n",
    "- Los comentarios de Python se indican con un asterisco en el principio \"#\"\n",
    "- Cabeceras en Markdown se determinan por el hashtag \"#\", donde tiene hasta 6 niveles \n",
    "- Para poner negrita es con **Texto negrita**\n",
    "- para cursiva  *texto cursiva*\n",
    "- Para ambos ***texto negrita y cursiva***\n",
    "- **Citas o referencias** se indica con el simbolo en mayor \">\"\n",
    "> cita de pimer nivel\n",
    ">> cita de segundo nivel\n",
    "- Saltos de lineas se indican con dos espacios seguidos \"  \"\n",
    "- Para las listas ordenadas se indican con el número por delante \n",
    "1. elemento 1\n",
    "2. elemento 2  \n",
    "De por si, de esta manera ya respeta los saltos de líneas automáticos \n",
    "- Para la creación de las lineas horizontales en markdown se puede hacer con tres hastericos seguidos \"***\"\n",
    "***\n",
    "- Para los links o enlacews su sintaxis es:[enlace](Link de la página web)\n",
    "- Para resaltar una parte del texto es con la comilla invertida `Ejemplo de la comilla`\n",
    "- Links para otra parte del notebook como una cabecera [Descripción] (Nombre de la cabecera con el # del mismo solo uno)\n",
    "[principio](#Apuntes-a-nivel-Genereal)\n",
    "- Para imagenes se usa esta sintaxis \"![Nombre cualqueira](ruta de imagenes)\""
   ]
  },
  {
   "cell_type": "markdown",
   "metadata": {},
   "source": [
    "### Unidad 2 (Variables, tipo de datos y operaciones básicas)\n",
    "- Las variables se declaran para poder tener los datos y poder usarlos en cualquier momento \n",
    "- Se imprime en secuencia usando los \"print`s\"\n",
    "- Las cadenas de texto de una variable se declaran en comillas\n",
    "- Las variables se pueden reasignar\n",
    "- En python tiene una serie de palabras reservadas que no se pueden usar para poner nombre a nuestras variables \n",
    "- Los comentarios multilineas en python se puede realizar abriendo \n",
    " comillas simples y cerrando las mismas cuando se termine de escribir el comentario \" `'''` \"\n",
    " - El comando `Del` sirve para borrar variables su sintaxis es `del`siguiento se pone la variable `del altura`\n",
    " - Los tipos de datos se clasifican en entero `int`, decimales `float`, texto `str`, booleanos `True` `False`\n",
    " - Para saber el tipo de datos se determina con `type(nombre de variable)`\n",
    " - Saltos de lineas o tabulaciones se usa el caracter de escape `\\n`(salto de linea)\n",
    "`\\t` (salto de tabulación)\n",
    "- Se incomporan espacios con una concatenación \" \" (usando las comillas y dejando un espacio)\n",
    "- Los boolenaos se escriben con la primera letra en mayuscula `True` o `False`\n",
    "- Conversión de tipos de datos: para poder hacer el cambio respectivamente se pone la función o el tipo que deseo cambiar su sintexis es `int(num_real)`\n",
    "- paras redonder tenemos la funciónn `round()` `num_round = round(num_real, 2 \"esta parte determina cuantos decimales se visualizan\")`\n",
    "- Asi mismo se puede hacer el cambio de número a string `str(num_real)`\n",
    "- El metodo `replace()` se aplica para poder remplazar un caracter por otro en una cadenma string \n",
    "- La sintaxis de los métodos se ponen despues de las variables **real_str.replace(\",\",\".\")** y debe de volcarse en otra variable \n",
    "- `Input` se usa en pythom para recoger información **primer_in  = input(\"escribe algo\") print(primer_in)** Esto es como un chatbot pero siempre recogerá la info en string\n",
    "- `Operaciones aritméticas` son: sumar = \"+\", restar = \"-\", dividir =\"/\", multiplicar = \"*\", elevar = \"**\", cociente de división=\"//\", resto de la división=\"%\"\n",
    "- `Operaciones complejas`: se deben de importar módulos**import math** eso se hace para calculos más complejos (raiz cuadrada, seno/coseno, valor absoluto, etc) su sintaxis **print(math.sqrt(25))**\n",
    "-`Operaciones comparativas`: su sintaxis es `elemento derecha, comparador, elemento a la izq` son: == igualdad, !=desigualdad,> Mayor que, < Menor que, >= mayor o igual a que, <= Menor o igual a que, esto siempre devuelve valores booleanos **True** o **False**\n",
    "-`Operaciones Booleanas`: su sintaxis es **comparación1/condición1 (AND,OR,NOT) comparación2/condición2** \n",
    "**And** (Se tiene que cumplir las dos condiciones para que sea un True)\n",
    "**or** (se tiene que cumplir al menos un a condsición para qyue sea u True)\n",
    "**NOR**(Lo contrario de lo que haya)\n",
    "-`EL caracter \\`: En Python sirve para interpretarse como una sola linea aunque se da el salto"
   ]
  },
  {
   "cell_type": "code",
   "execution_count": 2,
   "metadata": {},
   "outputs": [
    {
     "name": "stdout",
     "output_type": "stream",
     "text": [
      "primera linea \n",
      "segunda linea\n",
      "\tlinea tabulada\n"
     ]
    }
   ],
   "source": [
    "#Ejemmplo de salto de lineas \n",
    "print(\"primera linea \\nsegunda linea\\n\\tlinea tabulada\")"
   ]
  },
  {
   "cell_type": "code",
   "execution_count": 4,
   "metadata": {},
   "outputs": [
    {
     "data": {
      "text/plain": [
       "'Bryan Gando'"
      ]
     },
     "execution_count": 4,
     "metadata": {},
     "output_type": "execute_result"
    }
   ],
   "source": [
    "#Ejemplo de espacio\n",
    "nombre = \"Bryan\"\n",
    "apellido =\"Gando\"\n",
    "espacio = \" \"\n",
    "nombre_ap = nombre + espacio + apellido\n",
    "nombre_ap"
   ]
  },
  {
   "cell_type": "code",
   "execution_count": 5,
   "metadata": {},
   "outputs": [
    {
     "name": "stdout",
     "output_type": "stream",
     "text": [
      "<class 'float'>\n",
      "<class 'int'>\n"
     ]
    }
   ],
   "source": [
    "#Cambio de tipos\n",
    "num_real = 24.69\n",
    "print(type(num_real))\n",
    "num_ent = int(num_real)\n",
    "print(type(num_ent))"
   ]
  },
  {
   "cell_type": "code",
   "execution_count": 8,
   "metadata": {},
   "outputs": [
    {
     "data": {
      "text/plain": [
       "25.0"
      ]
     },
     "execution_count": 8,
     "metadata": {},
     "output_type": "execute_result"
    }
   ],
   "source": [
    "#Round()\n",
    "num_real= 24.686\n",
    "num_round= round(num_real, 0)\n",
    "num_round"
   ]
  },
  {
   "cell_type": "code",
   "execution_count": 11,
   "metadata": {},
   "outputs": [
    {
     "name": "stdout",
     "output_type": "stream",
     "text": [
      "hola\n"
     ]
    }
   ],
   "source": [
    "#Input().\n",
    "primer_in  = input(\"escribe algo\")\n",
    "print(primer_in)"
   ]
  },
  {
   "cell_type": "code",
   "execution_count": 12,
   "metadata": {},
   "outputs": [
    {
     "name": "stdout",
     "output_type": "stream",
     "text": [
      "5.0\n"
     ]
    }
   ],
   "source": [
    "#Ejemplo de operaciones complejas \n",
    "import math\n",
    "print(math.sqrt(25))"
   ]
  },
  {
   "cell_type": "markdown",
   "metadata": {},
   "source": []
  },
  {
   "cell_type": "markdown",
   "metadata": {},
   "source": [
    "## Sprint 2"
   ]
  },
  {
   "cell_type": "markdown",
   "metadata": {},
   "source": [
    "### Unidad 1 (listas, tuplas, diccionarios, sets, funciones de usuario)\n",
    "- **Listas** Son conjunto de elementos de las cuales pueden ser de numeros, strings o mixtas\n",
    "- Para acceder a sus elementos se realiza mediante sus indices \n",
    "`lista_num=[1,2,3,4]   print(lista_num[0])`, ahora para poder saber el indice de algun elemento se realiza por medio del index()\n",
    "-**slicing** Accede a varios elementos de la lista, la sintaxis del slicung es `variable[1'la posición a escoger':3'la posición anterior a la ultima que queremos']` si en la ultima posición la dejas vacía cogera toda la lista\n",
    "- Las lista son mutables\n",
    "-**Añadir elementods**: se puede hacer mediante dos metodos `.append()` o `insert.()`\n",
    "su sintaxis es `la variable.append(\"el objeto a ingresar\")`.  Paras la función `insert()` su sintaxis es `variable.insert(3\"posición,\"objeto\")` este método ingresa un objeto en posiciones determinadas\n",
    "- Se pueden crear listas vacías e ir añadiendo de a poco \n",
    "-**Eliminar elementos**  métodos `remove.()` y `pop.()` este ultimo permite recuerar elementos eliminados  `pop(1)` se ejecuta mediante los indices de la lista\n",
    "-**Metodo: Ordenar, invertir, tamaño, ocurrencia**: metodo `sort()` ordena de manerra ascendente, ahora si quiero hacerlo descendente es `sort(reverse=True)`\n",
    "contar el número de elementos de la lista`len()` su sintaxisr `print(len(variable))`\n",
    "invertir el orden es con `reverse()` sintaxis `variable.reverse()`\n",
    "Ocurrencia es el número de veces que aparece en una lista `count()` sintaxis `print(variable.count(objeto a contar))`\n",
    "- **Tuplas**: Las tuplas no son modificables y son ordenadas, estas se contruyen con parentesis `tupla_ejemplo=(3,\"texto\")` sintaxis para acceder a una tupla anidads `print(tupla_ani[3\"el objeto donde esta la otra tupla\"][1\"la posición dentro de la tupla anidada\"])` esto tambien se puede hacer con las listas  \n",
    "se pueden concatenar tuplas \n",
    "- **Diccionario**: Son coleecciones que se pueden agrupar distintos datos sintaxis`nombre_diccionario={clave1:valor1,clave2:valor2}`.  \n",
    "    Para acceder a los elementos de un diccionario es `print(Variable[\"clave\"])` \n",
    "    Para cambiar el elmento `variable[clave]=[\"valor1\",\"valor2\"]`\n",
    "    Para añadir elemento `variable[\"clave_nueva\"]=[\"valor_nuevo\"]` aqui no se usa ni el insert o el appebd.  \n",
    "    Para elimanar el por el comando `Del` sintaxis `del \"variable\"[\"clave_al_borrar\"]`\n",
    "    Para conocer sus claver es con `.keys()` sintaxis `variable_dict.keys()`\n",
    "    Para conver valores `Values()` sintaxis `variable_dict.values()`\n",
    "    Para saber si existe una variable metodo `.get(\"clave\",\"valor\")` esto determina si lo conoce o no y da valores asociados \n",
    "    Para iterar `for i in variable_dict:  print(i)`\n",
    "\n",
    "- **Set**: Los sets no son ordenados pero no tienen elementos duplicados sintaxis `mi_set={elemenmto1,elemento2, elemento3}`, cuando aplicas len(), solo muestra el número de los elementos sin dulicados \n",
    "    Metodo para añadir es`add()`\n",
    "    Método para añadir una lista es `update()`\n",
    "    Método para eliminar `remove()`\n",
    "Tambien son iterables \n",
    ">`for color in colores`\n",
    ">>`print(color)`\n",
    "\n",
    "(de por si esta forma de bucle itera los elementos de las listas)\n",
    "Los `sets` sirven más que nada para sacar los duplicados de una lista esto es haciendo conversiones y reasignando variables\n",
    "- **Funciones**: Bloque de código que encapsula una serie de funciones, se usa cuando se repite una operativa varias veces sintaxis \n",
    ">`def nombre_funcion (entrada:)`\n",
    ">>`operaciones varias`\n",
    ">>>`return output`\n",
    " \n",
    " Las diferencia que tiene (retrun y print al final de una función)`return` se utiliza para devolver un valor desde una función, mientras que `print` se utiliza para imprimir información en la consola. En muchos casos, las funciones usarán return para devolver resultados que pueden ser utilizados en otras partes del programa, mientras que print se usará para propósitos de visualización o depuración dentro de la función. Es importante entender la diferencia y usar cada uno según el propósito específico en el código.\n",
    " >`Nota`:La elección entre return y print dependerá de tus necesidades. Si deseas utilizar el resultado de la función en otros lugares de tu código, return es más apropiado. Si simplemente deseas mostrar información en la consola, print puede ser suficiente.\n",
    "\n",
    "En una función se pueden agragar mas operaciones a realizar y más aún puede retornar multiples respuestas\n",
    "A las funciones se puede añadir variedad de tipo de argumento, pero tambien se pueden forzar los tipos \n",
    "- **Argumentos posicionales de las funciones** : Se llaman así por como se ponen al llamar a la función\n",
    "Se debe de tomar en cuenta el `orden` de los argumentos y `son obligatorios` si llamas a la función, tienes que poner todos sus argumentos\n",
    "\n",
    "\n",
    "\n",
    "\n"
   ]
  },
  {
   "cell_type": "code",
   "execution_count": 2,
   "metadata": {},
   "outputs": [
    {
     "name": "stdout",
     "output_type": "stream",
     "text": [
      "1\n",
      "2\n"
     ]
    }
   ],
   "source": [
    "#Ejemplo lista\n",
    "lista_num=[1,2,3,4]  \n",
    "print(lista_num[0])\n",
    "print(lista_num.index(3)) #Retorna su número de ubicación"
   ]
  },
  {
   "cell_type": "code",
   "execution_count": 4,
   "metadata": {},
   "outputs": [
    {
     "data": {
      "text/plain": [
       "[34, 15]"
      ]
     },
     "execution_count": 4,
     "metadata": {},
     "output_type": "execute_result"
    }
   ],
   "source": [
    "#Slicing \n",
    "degrees= [22,34,15,26,18,22]\n",
    "sub_degrees= degrees[1:3] # No se incliuye el ultimo indice,\n",
    "#sino el anterior \n",
    "sub_degrees"
   ]
  },
  {
   "cell_type": "code",
   "execution_count": 6,
   "metadata": {},
   "outputs": [
    {
     "name": "stdout",
     "output_type": "stream",
     "text": [
      "['honda', 'yamaha', 'suzuki', 'kawasaki']\n",
      "['honda', 'yamaha', 'suzuki', 'bultaco', 'kawasaki']\n"
     ]
    }
   ],
   "source": [
    "#append()\n",
    "motocicletas= [\"honda\", \"yamaha\", \"suzuki\"]\n",
    "motocicletas.append(\"kawasaki\")\n",
    "print(motocicletas)\n",
    "# insert\n",
    "motocicletas.insert(3,\"bultaco\")\n",
    "print(motocicletas)"
   ]
  },
  {
   "cell_type": "code",
   "execution_count": 8,
   "metadata": {},
   "outputs": [
    {
     "name": "stdout",
     "output_type": "stream",
     "text": [
      "['seat', 'toyota', 'Bmw']\n",
      "['seat', 'Bmw']\n"
     ]
    }
   ],
   "source": [
    "cars=[\"wv\",\"seat\",\"toyota\",\"Bmw\"]\n",
    "cars.remove(\"wv\")\n",
    "print(cars)\n",
    "cars.pop(1)\n",
    "print(cars)"
   ]
  },
  {
   "cell_type": "code",
   "execution_count": 20,
   "metadata": {},
   "outputs": [
    {
     "name": "stdout",
     "output_type": "stream",
     "text": [
      "<class 'tuple'>\n",
      "4\n",
      "3\n",
      "b\n",
      "(1, 2, 3, 'a', 'b', 'cx')\n",
      "<class 'list'>\n"
     ]
    }
   ],
   "source": [
    "#Tupla\n",
    "tupla_ejemplo = (3,\"text\")\n",
    "print(type(tupla_ejemplo))\n",
    "# Si queremos que un tupla sea de un solo elemento se debe de poner una \",\" al final\n",
    "tupla_ani=(1,2,3,(\"a\",\"b\",\"c\"))\n",
    "print(len(tupla_ani))\n",
    "print(tupla_ani[2])\n",
    "print(tupla_ani[3][1]) \n",
    "#concatenación\n",
    "tupla1=(1,2,3)\n",
    "tupla2=(\"a\",\"b\",\"cx\")\n",
    "tupla3 = tupla1+tupla2\n",
    "print(tupla3)\n",
    "#se combinan listas y tuplas \n",
    "lista_ejemplo=[\"fresas\",(\"naranja\",\"limones\"),\"kiwi\"]\n",
    "print(type(lista_ejemplo))"
   ]
  },
  {
   "cell_type": "code",
   "execution_count": 33,
   "metadata": {},
   "outputs": [
    {
     "name": "stdout",
     "output_type": "stream",
     "text": [
      "{'color': 'rojo', 'marca': 'tesla', 'modelo': 'Cyber', 'peso': 3500, 'cambio automatico': True}\n",
      "{'color': ['rojo', 'gris'], 'marca': 'tesla', 'modelo': 'Cyber', 'peso': 3500, 'cambio automatico': True}\n",
      "{'color': ['rojo', 'gris'], 'marca': 'tesla', 'modelo': 'Cyber', 'peso': 3500, 'cambio automatico': True, 'puerta': 6}\n",
      "{'color': ['rojo', 'gris'], 'marca': 'tesla', 'modelo': 'Cyber', 'peso': 3500, 'cambio automatico': True}\n",
      "dict_keys(['color', 'marca', 'modelo', 'peso', 'cambio automatico'])\n",
      "dict_values([['rojo', 'gris'], 'tesla', 'Cyber', 3500, True])\n",
      "color : {'color': ['rojo', 'gris'], 'marca': 'tesla', 'modelo': 'Cyber', 'peso': 3500, 'cambio automatico': True}\n",
      "marca : {'color': ['rojo', 'gris'], 'marca': 'tesla', 'modelo': 'Cyber', 'peso': 3500, 'cambio automatico': True}\n",
      "modelo : {'color': ['rojo', 'gris'], 'marca': 'tesla', 'modelo': 'Cyber', 'peso': 3500, 'cambio automatico': True}\n",
      "peso : {'color': ['rojo', 'gris'], 'marca': 'tesla', 'modelo': 'Cyber', 'peso': 3500, 'cambio automatico': True}\n",
      "cambio automatico : {'color': ['rojo', 'gris'], 'marca': 'tesla', 'modelo': 'Cyber', 'peso': 3500, 'cambio automatico': True}\n",
      "color : ['rojo', 'gris']\n",
      "marca : tesla\n",
      "modelo : Cyber\n",
      "peso : 3500\n",
      "cambio automatico : True\n"
     ]
    }
   ],
   "source": [
    "#Diccionario \n",
    "coche_dict={\n",
    "    \"color\":\"rojo\",\n",
    "    \"marca\":\"tesla\",\n",
    "    \"modelo\": \"Cyber\",\n",
    "    \"peso\": 3500,\n",
    "    \"cambio automatico\": True\n",
    "}\n",
    "print(coche_dict)\n",
    "coche_dict[\"color\"]=[\"rojo\",\"gris\"] #El cambio ser accede a travez de su clave\n",
    "print(coche_dict)\n",
    "#Añadir elemento\n",
    "coche_dict[\"puerta\"]= 6\n",
    "print(coche_dict)\n",
    "#Eleminar elemento \n",
    "del coche_dict[\"puerta\"]\n",
    "print (coche_dict)\n",
    "#Conocer claves de un dict\n",
    "print(coche_dict.keys())\n",
    "#conocer valores\n",
    "print(coche_dict.values())\n",
    "#iterar \n",
    "for i in coche_dict:\n",
    "    print(i,\":\",coche_dict)\n",
    "coche_dict.items()\n",
    "for clave,valor in coche_dict.items():\n",
    "    print(clave,\":\", valor)\n"
   ]
  },
  {
   "cell_type": "code",
   "execution_count": 40,
   "metadata": {},
   "outputs": [
    {
     "name": "stdout",
     "output_type": "stream",
     "text": [
      "1371.4\n"
     ]
    }
   ],
   "source": [
    "# Funciones\n",
    "def Conversor_km_mll(distancia):\n",
    "    millas = 0.62 * distancia \n",
    "    return round(millas,1) \n",
    "\n",
    "millas = Conversor_km_mll(2212) #La forma correcta es asignarlo en uan variable la función \n",
    "print(millas)\n"
   ]
  },
  {
   "cell_type": "code",
   "execution_count": 47,
   "metadata": {},
   "outputs": [
    {
     "name": "stdout",
     "output_type": "stream",
     "text": [
      "20:55:48.312785\n"
     ]
    }
   ],
   "source": [
    "from datetime import datetime\n",
    "def que_hora_es():  #Esta función no es necesario que lleve argumentos \n",
    "    now= datetime.now().time()\n",
    "    return now   #La diferencia entre en ponerle print o return a una funcion es ya llamarlo directamente a la función o no \n",
    "print(que_hora_es())"
   ]
  },
  {
   "cell_type": "code",
   "execution_count": 45,
   "metadata": {},
   "outputs": [
    {
     "name": "stdout",
     "output_type": "stream",
     "text": [
      "20:55:27.573983\n"
     ]
    }
   ],
   "source": [
    "def que_hora_es():  #Esta función no es necesario que lleve argumentos \n",
    "    now= datetime.now().time()\n",
    "    print(now)\n",
    "\n",
    "que_hora_es()"
   ]
  },
  {
   "cell_type": "code",
   "execution_count": 50,
   "metadata": {},
   "outputs": [
    {
     "data": {
      "text/plain": [
       "[1377.0, 1377.02, 2221000]"
      ]
     },
     "execution_count": 50,
     "metadata": {},
     "output_type": "execute_result"
    }
   ],
   "source": [
    "def Conversor_km_mll(distancia):\n",
    "    millas = 0.62 * distancia \n",
    "    metros = 1000 * distancia \n",
    "    return [round(millas,1),millas, metros]  #Ejemplo de conversión de lista \n",
    "#En una función se pueden agragar mas operaciones a realizar y más aún puede retornar multiples respuestas\n",
    "# Se puede cambiar el tipo de fomra de una lista o un diccionario, que sería poder indicarlo en el return, sea poniendo los parentesis o las llaves \n",
    "Conversor_km_mll(2221)"
   ]
  },
  {
   "cell_type": "code",
   "execution_count": 52,
   "metadata": {},
   "outputs": [
    {
     "data": {
      "text/plain": [
       "10.0"
      ]
     },
     "execution_count": 52,
     "metadata": {},
     "output_type": "execute_result"
    }
   ],
   "source": [
    "def multiplica (x1,x2,x3,x4):\n",
    "    resultado= (x1*x2*x3)/x4\n",
    "    return resultado\n",
    "multiplica(3,4,5,6)"
   ]
  },
  {
   "cell_type": "markdown",
   "metadata": {},
   "source": [
    "### Unidad 2 "
   ]
  },
  {
   "cell_type": "code",
   "execution_count": null,
   "metadata": {},
   "outputs": [],
   "source": []
  }
 ],
 "metadata": {
  "kernelspec": {
   "display_name": "Python 3",
   "language": "python",
   "name": "python3"
  },
  "language_info": {
   "codemirror_mode": {
    "name": "ipython",
    "version": 3
   },
   "file_extension": ".py",
   "mimetype": "text/x-python",
   "name": "python",
   "nbconvert_exporter": "python",
   "pygments_lexer": "ipython3",
   "version": "3.10.11"
  }
 },
 "nbformat": 4,
 "nbformat_minor": 2
}
