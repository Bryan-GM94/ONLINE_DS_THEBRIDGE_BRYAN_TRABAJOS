{
 "cells": [
  {
   "cell_type": "markdown",
   "metadata": {},
   "source": [
    "# Apuntes a nivel Genereal \n",
    "## Sprint 1\n",
    "### Unidad 1\n",
    "- Markdown se edita como un texto plano\n",
    "- Los comentarios de Python se indican con un asterisco en el principio \"#\"\n",
    "- Cabeceras en Markdown se determinan por el hashtag \"#\", donde tiene hasta 6 niveles \n",
    "- Para poner negrita es con **Texto negrita**\n",
    "- para cursiva  *texto cursiva*\n",
    "- Para ambos ***texto negrita y cursiva***\n",
    "- **Citas o referencias** se indica con el simbolo en mayor \">\"\n",
    "> cita de pimer nivel\n",
    ">> cita de segundo nivel\n",
    "- Saltos de lineas se indican con dos espacios seguidos \"  \"\n",
    "- Para las listas ordenadas se indican con el número por delante \n",
    "1. elemento 1\n",
    "2. elemento 2  \n",
    "De por si, de esta manera ya respeta los saltos de líneas automáticos \n",
    "- Para la creación de las lineas horizontales en markdown se puede hacer con tres hastericos seguidos \"***\"\n",
    "***\n",
    "- Para los links o enlacews su sintaxis es:[enlace](Link de la página web)\n",
    "- Para resaltar una parte del texto es con la comilla invertida `Ejemplo de la comilla`\n",
    "- Links para otra parte del notebook como una cabecera [Descripción] (Nombre de la cabecera con el # del mismo solo uno)\n",
    "[principio](#Apuntes-a-nivel-Genereal)\n",
    "- Para imagenes se usa esta sintaxis \"![Nombre cualqueira](ruta de imagenes)\""
   ]
  },
  {
   "cell_type": "markdown",
   "metadata": {},
   "source": [
    "### Unidad 2 (Variables, tipo de datos y operaciones básicas)\n",
    "- Las variables se declaran para poder tener los datos y poder usarlos en cualquier momento \n",
    "- Se imprime en secuencia usando los \"print`s\"\n",
    "- Las cadenas de texto de una variable se declaran en comillas\n",
    "- Las variables se pueden reasignar\n",
    "- En python tiene una serie de palabras reservadas que no se pueden usar para poner nombre a nuestras variables \n",
    "- Los comentarios multilineas en python se puede realizar abriendo \n",
    " comillas simples y cerrando las mismas cuando se termine de escribir el comentario \" `'''` \"\n",
    " - El comando `Del` sirve para borrar variables su sintaxis es `del`siguiento se pone la variable `del altura`\n",
    " - Los tipos de datos se clasifican en entero `int`, decimales `float`, texto `str`, booleanos `True` `False`\n",
    " - Para saber el tipo de datos se determina con `type(nombre de variable)`\n",
    " - Saltos de lineas o tabulaciones se usa el caracter de escape `\\n`(salto de linea)\n",
    "`\\t` (salto de tabulación)\n",
    "- Se incomporan espacios con una concatenación \" \" (usando las comillas y dejando un espacio)\n",
    "- Los boolenaos se escriben con la primera letra en mayuscula `True` o `False`\n",
    "- Conversión de tipos de datos: para poder hacer el cambio respectivamente se pone la función o el tipo que deseo cambiar su sintexis es `int(num_real)`\n",
    "- paras redonder tenemos la funciónn `round()` `num_round = round(num_real, 2 \"esta parte determina cuantos decimales se visualizan\")`\n",
    "- Asi mismo se puede hacer el cambio de número a string `str(num_real)`\n",
    "- El metodo `replace()` se aplica para poder remplazar un caracter por otro en una cadenma string \n",
    "- La sintaxis de los métodos se ponen despues de las variables **real_str.replace(\",\",\".\")** y debe de volcarse en otra variable \n",
    "- `Input` se usa en pythom para recoger información **primer_in  = input(\"escribe algo\") print(primer_in)** Esto es como un chatbot pero siempre recogerá la info en string\n",
    "- `Operaciones aritméticas` son: sumar = \"+\", restar = \"-\", dividir =\"/\", multiplicar = \"*\", elevar = \"**\", cociente de división=\"//\", resto de la división=\"%\"\n",
    "- `Operaciones complejas`: se deben de importar módulos**import math** eso se hace para calculos más complejos (raiz cuadrada, seno/coseno, valor absoluto, etc) su sintaxis **print(math.sqrt(25))**\n",
    "-`Operaciones comparativas`: su sintaxis es `elemento derecha, comparador, elemento a la izq` son: == igualdad, !=desigualdad,> Mayor que, < Menor que, >= mayor o igual a que, <= Menor o igual a que, esto siempre devuelve valores booleanos **True** o **False**\n",
    "-`Operaciones Booleanas`: su sintaxis es **comparación1/condición1 (AND,OR,NOT) comparación2/condición2** \n",
    "**And** (Se tiene que cumplir las dos condiciones para que sea un True)\n",
    "**or** (se tiene que cumplir al menos un a condsición para qyue sea u True)\n",
    "**NOR**(Lo contrario de lo que haya)\n",
    "-`EL caracter \\`: En Python sirve para interpretarse como una sola linea aunque se da el salto"
   ]
  },
  {
   "cell_type": "code",
   "execution_count": 15,
   "metadata": {},
   "outputs": [
    {
     "name": "stdout",
     "output_type": "stream",
     "text": [
      "primera linea \n",
      "segunda linea\n",
      "\tlinea tabulada\n"
     ]
    }
   ],
   "source": [
    "#Ejemmplo de salto de lineas \n",
    "print(\"primera linea \\nsegunda linea\\n\\tlinea tabulada\")"
   ]
  },
  {
   "cell_type": "code",
   "execution_count": 16,
   "metadata": {},
   "outputs": [
    {
     "data": {
      "text/plain": [
       "'Bryan Gando'"
      ]
     },
     "execution_count": 16,
     "metadata": {},
     "output_type": "execute_result"
    }
   ],
   "source": [
    "#Ejemplo de espacio\n",
    "nombre = \"Bryan\"\n",
    "apellido =\"Gando\"\n",
    "espacio = \" \"\n",
    "nombre_ap = nombre + espacio + apellido\n",
    "nombre_ap"
   ]
  },
  {
   "cell_type": "code",
   "execution_count": 17,
   "metadata": {},
   "outputs": [
    {
     "name": "stdout",
     "output_type": "stream",
     "text": [
      "<class 'float'>\n",
      "<class 'int'>\n"
     ]
    }
   ],
   "source": [
    "#Cambio de tipos\n",
    "num_real = 24.69\n",
    "print(type(num_real))\n",
    "num_ent = int(num_real)\n",
    "print(type(num_ent))"
   ]
  },
  {
   "cell_type": "code",
   "execution_count": 18,
   "metadata": {},
   "outputs": [
    {
     "data": {
      "text/plain": [
       "25.0"
      ]
     },
     "execution_count": 18,
     "metadata": {},
     "output_type": "execute_result"
    }
   ],
   "source": [
    "#Round()\n",
    "num_real= 24.686\n",
    "num_round= round(num_real, 0)\n",
    "num_round"
   ]
  },
  {
   "cell_type": "code",
   "execution_count": 19,
   "metadata": {},
   "outputs": [
    {
     "name": "stdout",
     "output_type": "stream",
     "text": [
      "0\n"
     ]
    }
   ],
   "source": [
    "#Input().\n",
    "primer_in  = input(\"escribe algo\")\n",
    "print(primer_in)"
   ]
  },
  {
   "cell_type": "code",
   "execution_count": 20,
   "metadata": {},
   "outputs": [
    {
     "name": "stdout",
     "output_type": "stream",
     "text": [
      "5.0\n"
     ]
    }
   ],
   "source": [
    "#Ejemplo de operaciones complejas \n",
    "import math\n",
    "print(math.sqrt(25))"
   ]
  },
  {
   "cell_type": "markdown",
   "metadata": {},
   "source": []
  },
  {
   "cell_type": "markdown",
   "metadata": {},
   "source": [
    "## Sprint 2"
   ]
  },
  {
   "cell_type": "markdown",
   "metadata": {},
   "source": [
    "### Unidad 1 (listas, tuplas, diccionarios, sets, funciones de usuario)\n",
    "- **Listas** Son conjunto de elementos de las cuales pueden ser de numeros, strings o mixtas\n",
    "- Para acceder a sus elementos se realiza mediante sus indices \n",
    "`lista_num=[1,2,3,4]   print(lista_num[0])`, ahora para poder saber el indice de algun elemento se realiza por medio del index()\n",
    "-**slicing** Accede a varios elementos de la lista, la sintaxis del slicung es `variable[1'la posición a escoger':3'la posición anterior a la ultima que queremos']` si en la ultima posición la dejas vacía cogera toda la lista\n",
    "- Las lista son mutables\n",
    "-**Añadir elementods**: se puede hacer mediante dos metodos `.append()` o `insert.()`\n",
    "su sintaxis es `la variable.append(\"el objeto a ingresar\")`.  Paras la función `insert()` su sintaxis es `variable.insert(3\"posición,\"objeto\")` este método ingresa un objeto en posiciones determinadas\n",
    "- Se pueden crear listas vacías e ir añadiendo de a poco \n",
    "-**Eliminar elementos**  métodos `remove.()` y `pop.()` este ultimo permite recuerar elementos eliminados  `pop(1)` se ejecuta mediante los indices de la lista\n",
    "-**Metodo: Ordenar, invertir, tamaño, ocurrencia**: metodo `sort()` ordena de manerra ascendente, ahora si quiero hacerlo descendente es `sort(reverse=True)`\n",
    "contar el número de elementos de la lista`len()` su sintaxisr `print(len(variable))`\n",
    "invertir el orden es con `reverse()` sintaxis `variable.reverse()`\n",
    "Ocurrencia es el número de veces que aparece en una lista `count()` sintaxis `print(variable.count(objeto a contar))`\n",
    "- **Tuplas**: Las tuplas no son modificables y son ordenadas, estas se contruyen con parentesis `tupla_ejemplo=(3,\"texto\")` sintaxis para acceder a una tupla anidads `print(tupla_ani[3\"el objeto donde esta la otra tupla\"][1\"la posición dentro de la tupla anidada\"])` esto tambien se puede hacer con las listas  \n",
    "se pueden concatenar tuplas \n",
    "- **Diccionario**: Son coleecciones que se pueden agrupar distintos datos sintaxis`nombre_diccionario={clave1:valor1,clave2:valor2}`.  \n",
    "    Para acceder a los elementos de un diccionario es `print(Variable[\"clave\"])` \n",
    "    Para cambiar el elmento `variable[clave]=[\"valor1\",\"valor2\"]`\n",
    "    Para añadir elemento `variable[\"clave_nueva\"]=[\"valor_nuevo\"]` aqui no se usa ni el insert o el appebd.  \n",
    "    Para elimanar el por el comando `Del` sintaxis `del \"variable\"[\"clave_al_borrar\"]`\n",
    "    Para conocer sus claver es con `.keys()` sintaxis `variable_dict.keys()`\n",
    "    Para conver valores `Values()` sintaxis `variable_dict.values()`\n",
    "    Para saber si existe una variable metodo `.get(\"clave\",\"valor\")` esto determina si lo conoce o no y da valores asociados \n",
    "    Para iterar `for i in variable_dict:  print(i)`\n",
    "\n",
    "- **Set**: Los sets no son ordenados pero no tienen elementos duplicados sintaxis `mi_set={elemenmto1,elemento2, elemento3}`, cuando aplicas len(), solo muestra el número de los elementos sin dulicados \n",
    "    Metodo para añadir es`add()`\n",
    "    Método para añadir una lista es `update()`\n",
    "    Método para eliminar `remove()`\n",
    "Tambien son iterables \n",
    ">`for color in colores`\n",
    ">>`print(color)`\n",
    "\n",
    "(de por si esta forma de bucle itera los elementos de las listas)\n",
    "Los `sets` sirven más que nada para sacar los duplicados de una lista esto es haciendo conversiones y reasignando variables\n",
    "- **Funciones**: Bloque de código que encapsula una serie de funciones, se usa cuando se repite una operativa varias veces sintaxis \n",
    ">`def nombre_funcion (entrada:)`\n",
    ">>`operaciones varias`\n",
    ">>>`return output`\n",
    " \n",
    " Las diferencia que tiene (retrun y print al final de una función)`return` se utiliza para devolver un valor desde una función, mientras que `print` se utiliza para imprimir información en la consola. En muchos casos, las funciones usarán return para devolver resultados que pueden ser utilizados en otras partes del programa, mientras que print se usará para propósitos de visualización o depuración dentro de la función. Es importante entender la diferencia y usar cada uno según el propósito específico en el código.\n",
    " >`Nota`:La elección entre return y print dependerá de tus necesidades. Si deseas utilizar el resultado de la función en otros lugares de tu código, return es más apropiado. Si simplemente deseas mostrar información en la consola, print puede ser suficiente.\n",
    "\n",
    "En una función se pueden agragar mas operaciones a realizar y más aún puede retornar multiples respuestas\n",
    "A las funciones se puede añadir variedad de tipo de argumento, pero tambien se pueden forzar los tipos \n",
    "- **Argumentos posicionales de las funciones** : Se llaman así por como se ponen al llamar a la función\n",
    "Se debe de tomar en cuenta el `orden` de los argumentos y `son obligatorios` si llamas a la función, tienes que poner todos sus argumentos.  \n",
    "\n",
    "- **Argumentos variables**: Es necesario cuando deseamos realizar funciones y que puedan resolver un número infinito de variables de las mismas por ejemplo:\n",
    "> **def** multiplica `(*args):`\n",
    ">>resultado = 1\n",
    "\n",
    ">> **for** elemmento **in** args:\n",
    ">>> resultado = resultado * elemento\n",
    "\n",
    ">print(\"el resultado es\", resultado)\n",
    "\n",
    ">**return** resultado \n",
    "\n",
    "`*args` así es como se representa a una infinidad de argumentos en una función, la diferencia con el ejemplo de esta sección, es el hechon de poner al principio los argumentos variables y despues la etiqueta de los argumento como es el caso de la división \n",
    "\n",
    "- **Argumentos por clave valor**: Permiten usar un número de argumentos pero con una posiobilidad de acceder a ellos mediante una etiqueta, esto sde representaría como un diccionario \n",
    "`Sintaxis:` \n",
    ">**def** insertar_movil_bd(**kwargs):\n",
    "    \n",
    ">>**for** clave, valor in kwargs.items():\n",
    "        #insertar (clave, valor )\n",
    "\n",
    ">>>**print**(clave, \":\", valor )\n",
    "\n",
    "Los argumentos clave valor (kwargs) no pueden estar antes de los argumenots (args)\n",
    "\n",
    "\n"
   ]
  },
  {
   "cell_type": "code",
   "execution_count": 21,
   "metadata": {},
   "outputs": [
    {
     "name": "stdout",
     "output_type": "stream",
     "text": [
      "1\n",
      "2\n"
     ]
    }
   ],
   "source": [
    "#Ejemplo lista\n",
    "lista_num=[1,2,3,4]  \n",
    "print(lista_num[0])\n",
    "print(lista_num.index(3)) #Retorna su número de ubicación"
   ]
  },
  {
   "cell_type": "code",
   "execution_count": 22,
   "metadata": {},
   "outputs": [
    {
     "data": {
      "text/plain": [
       "[34, 15]"
      ]
     },
     "execution_count": 22,
     "metadata": {},
     "output_type": "execute_result"
    }
   ],
   "source": [
    "#Slicing \n",
    "degrees= [22,34,15,26,18,22]\n",
    "sub_degrees= degrees[1:3] # No se incliuye el ultimo indice,\n",
    "#sino el anterior \n",
    "sub_degrees"
   ]
  },
  {
   "cell_type": "code",
   "execution_count": 23,
   "metadata": {},
   "outputs": [
    {
     "name": "stdout",
     "output_type": "stream",
     "text": [
      "['honda', 'yamaha', 'suzuki', 'kawasaki']\n",
      "['honda', 'yamaha', 'suzuki', 'bultaco', 'kawasaki']\n"
     ]
    }
   ],
   "source": [
    "#append()\n",
    "motocicletas= [\"honda\", \"yamaha\", \"suzuki\"]\n",
    "motocicletas.append(\"kawasaki\")\n",
    "print(motocicletas)\n",
    "# insert\n",
    "motocicletas.insert(3,\"bultaco\")\n",
    "print(motocicletas)"
   ]
  },
  {
   "cell_type": "code",
   "execution_count": 24,
   "metadata": {},
   "outputs": [
    {
     "name": "stdout",
     "output_type": "stream",
     "text": [
      "['seat', 'toyota', 'Bmw']\n",
      "['seat', 'Bmw']\n"
     ]
    }
   ],
   "source": [
    "cars=[\"wv\",\"seat\",\"toyota\",\"Bmw\"]\n",
    "cars.remove(\"wv\")\n",
    "print(cars)\n",
    "cars.pop(1)\n",
    "print(cars)"
   ]
  },
  {
   "cell_type": "code",
   "execution_count": 25,
   "metadata": {},
   "outputs": [
    {
     "name": "stdout",
     "output_type": "stream",
     "text": [
      "<class 'tuple'>\n",
      "4\n",
      "3\n",
      "b\n",
      "(1, 2, 3, 'a', 'b', 'cx')\n",
      "<class 'list'>\n"
     ]
    }
   ],
   "source": [
    "#Tupla\n",
    "tupla_ejemplo = (3,\"text\")\n",
    "print(type(tupla_ejemplo))\n",
    "# Si queremos que un tupla sea de un solo elemento se debe de poner una \",\" al final\n",
    "tupla_ani=(1,2,3,(\"a\",\"b\",\"c\"))\n",
    "print(len(tupla_ani))\n",
    "print(tupla_ani[2])\n",
    "print(tupla_ani[3][1]) \n",
    "#concatenación\n",
    "tupla1=(1,2,3)\n",
    "tupla2=(\"a\",\"b\",\"cx\")\n",
    "tupla3 = tupla1+tupla2\n",
    "print(tupla3)\n",
    "#se combinan listas y tuplas \n",
    "lista_ejemplo=[\"fresas\",(\"naranja\",\"limones\"),\"kiwi\"]\n",
    "print(type(lista_ejemplo))"
   ]
  },
  {
   "cell_type": "code",
   "execution_count": 26,
   "metadata": {},
   "outputs": [
    {
     "name": "stdout",
     "output_type": "stream",
     "text": [
      "{'color': 'rojo', 'marca': 'tesla', 'modelo': 'Cyber', 'peso': 3500, 'cambio automatico': True}\n",
      "{'color': ['rojo', 'gris'], 'marca': 'tesla', 'modelo': 'Cyber', 'peso': 3500, 'cambio automatico': True}\n",
      "{'color': ['rojo', 'gris'], 'marca': 'tesla', 'modelo': 'Cyber', 'peso': 3500, 'cambio automatico': True, 'puerta': 6}\n",
      "{'color': ['rojo', 'gris'], 'marca': 'tesla', 'modelo': 'Cyber', 'peso': 3500, 'cambio automatico': True}\n",
      "dict_keys(['color', 'marca', 'modelo', 'peso', 'cambio automatico'])\n",
      "dict_values([['rojo', 'gris'], 'tesla', 'Cyber', 3500, True])\n",
      "color : {'color': ['rojo', 'gris'], 'marca': 'tesla', 'modelo': 'Cyber', 'peso': 3500, 'cambio automatico': True}\n",
      "marca : {'color': ['rojo', 'gris'], 'marca': 'tesla', 'modelo': 'Cyber', 'peso': 3500, 'cambio automatico': True}\n",
      "modelo : {'color': ['rojo', 'gris'], 'marca': 'tesla', 'modelo': 'Cyber', 'peso': 3500, 'cambio automatico': True}\n",
      "peso : {'color': ['rojo', 'gris'], 'marca': 'tesla', 'modelo': 'Cyber', 'peso': 3500, 'cambio automatico': True}\n",
      "cambio automatico : {'color': ['rojo', 'gris'], 'marca': 'tesla', 'modelo': 'Cyber', 'peso': 3500, 'cambio automatico': True}\n",
      "color : ['rojo', 'gris']\n",
      "marca : tesla\n",
      "modelo : Cyber\n",
      "peso : 3500\n",
      "cambio automatico : True\n"
     ]
    }
   ],
   "source": [
    "#Diccionario \n",
    "coche_dict={\n",
    "    \"color\":\"rojo\",\n",
    "    \"marca\":\"tesla\",\n",
    "    \"modelo\": \"Cyber\",\n",
    "    \"peso\": 3500,\n",
    "    \"cambio automatico\": True\n",
    "}\n",
    "print(coche_dict)\n",
    "coche_dict[\"color\"]=[\"rojo\",\"gris\"] #El cambio ser accede a travez de su clave\n",
    "print(coche_dict)\n",
    "#Añadir elemento\n",
    "coche_dict[\"puerta\"]= 6\n",
    "print(coche_dict)\n",
    "#Eleminar elemento \n",
    "del coche_dict[\"puerta\"]\n",
    "print (coche_dict)\n",
    "#Conocer claves de un dict\n",
    "print(coche_dict.keys())\n",
    "#conocer valores\n",
    "print(coche_dict.values())\n",
    "#iterar \n",
    "for i in coche_dict:\n",
    "    print(i,\":\",coche_dict)\n",
    "coche_dict.items()\n",
    "for clave,valor in coche_dict.items():\n",
    "    print(clave,\":\", valor)\n"
   ]
  },
  {
   "cell_type": "code",
   "execution_count": 27,
   "metadata": {},
   "outputs": [
    {
     "name": "stdout",
     "output_type": "stream",
     "text": [
      "1371.4\n"
     ]
    }
   ],
   "source": [
    "# Funciones\n",
    "def Conversor_km_mll(distancia):\n",
    "    millas = 0.62 * distancia \n",
    "    return round(millas,1) \n",
    "\n",
    "millas = Conversor_km_mll(2212) #La forma correcta es asignarlo en uan variable la función \n",
    "print(millas)\n"
   ]
  },
  {
   "cell_type": "code",
   "execution_count": 28,
   "metadata": {},
   "outputs": [
    {
     "name": "stdout",
     "output_type": "stream",
     "text": [
      "08:55:23.580712\n"
     ]
    }
   ],
   "source": [
    "from datetime import datetime\n",
    "def que_hora_es():  #Esta función no es necesario que lleve argumentos \n",
    "    now= datetime.now().time()\n",
    "    return now   #La diferencia entre en ponerle print o return a una funcion es ya llamarlo directamente a la función o no \n",
    "print(que_hora_es())"
   ]
  },
  {
   "cell_type": "code",
   "execution_count": 29,
   "metadata": {},
   "outputs": [
    {
     "name": "stdout",
     "output_type": "stream",
     "text": [
      "08:55:23.594278\n"
     ]
    }
   ],
   "source": [
    "def que_hora_es():  #Esta función no es necesario que lleve argumentos \n",
    "    now= datetime.now().time()\n",
    "    print(now)\n",
    "\n",
    "que_hora_es()"
   ]
  },
  {
   "cell_type": "code",
   "execution_count": 30,
   "metadata": {},
   "outputs": [
    {
     "data": {
      "text/plain": [
       "[1377.0, 1377.02, 2221000]"
      ]
     },
     "execution_count": 30,
     "metadata": {},
     "output_type": "execute_result"
    }
   ],
   "source": [
    "def Conversor_km_mll(distancia):\n",
    "    millas = 0.62 * distancia \n",
    "    metros = 1000 * distancia \n",
    "    return [round(millas,1),millas, metros]  #Ejemplo de conversión de lista \n",
    "#En una función se pueden agragar mas operaciones a realizar y más aún puede retornar multiples respuestas\n",
    "# Se puede cambiar el tipo de fomra de una lista o un diccionario, que sería poder indicarlo en el return, sea poniendo los parentesis o las llaves \n",
    "Conversor_km_mll(2221)"
   ]
  },
  {
   "cell_type": "code",
   "execution_count": 31,
   "metadata": {},
   "outputs": [
    {
     "data": {
      "text/plain": [
       "10.0"
      ]
     },
     "execution_count": 31,
     "metadata": {},
     "output_type": "execute_result"
    }
   ],
   "source": [
    "def multiplica (x1,x2,x3,x4):\n",
    "    resultado= (x1*x2*x3)/x4\n",
    "    return resultado\n",
    "multiplica(3,4,5,6)"
   ]
  },
  {
   "cell_type": "code",
   "execution_count": 32,
   "metadata": {},
   "outputs": [
    {
     "data": {
      "text/plain": [
       "1428.0"
      ]
     },
     "execution_count": 32,
     "metadata": {},
     "output_type": "execute_result"
    }
   ],
   "source": [
    "#Argumentos variables \n",
    "def multiplica_divide(*args,div):\n",
    "    resultado = 1\n",
    "\n",
    "    for i in args:\n",
    "        resultado = resultado * i \n",
    "    resultado = resultado / div \n",
    "    return resultado \n",
    "multiplica_divide(10,34,21,div = 5)\n",
    "# En este caso la función no reconoce cuantos argumentos debe de coger\n",
    "#  de la variable y los cuenta en su totalidad\n",
    "#  y no es hasta que le indicamos con el \"div\" que hacer con el ultimo número"
   ]
  },
  {
   "cell_type": "code",
   "execution_count": 33,
   "metadata": {},
   "outputs": [
    {
     "name": "stdout",
     "output_type": "stream",
     "text": [
      "<class 'dict'>\n",
      "{'modelo': 's20', 'marca': 'sansung', 'camara': '24MPX'}\n"
     ]
    }
   ],
   "source": [
    "#Argumentos clave, valor\n",
    "def insertar_movil_bd(**clave_valor):\n",
    "    print(type(clave_valor))\n",
    "    print(clave_valor)\n",
    "\n",
    "insertar_movil_bd(modelo= \"s20\", marca= \"sansung\", camara= \"24MPX\")"
   ]
  },
  {
   "cell_type": "code",
   "execution_count": 34,
   "metadata": {},
   "outputs": [
    {
     "name": "stdout",
     "output_type": "stream",
     "text": [
      "marca : sansung\n",
      "modelo : s20\n",
      "camara : 20MPXS\n",
      "flip : True\n"
     ]
    }
   ],
   "source": [
    "def insertar_movil_bd(**kwargs):\n",
    "    for clave, valor in kwargs.items():\n",
    "        #insertar (clave, valor )\n",
    "        print(clave, \":\", valor )\n",
    "insertar_movil_bd(marca =\"sansung\", modelo=\"s20\", camara=\"20MPXS\", flip= True )"
   ]
  },
  {
   "cell_type": "code",
   "execution_count": 35,
   "metadata": {},
   "outputs": [
    {
     "name": "stdout",
     "output_type": "stream",
     "text": [
      "<class 'tuple'>\n",
      "Es muy bueno\n",
      "la bateria no dura lo suficiente \n",
      "<class 'dict'>\n",
      "marca sansung\n",
      "modelo s20\n",
      "precio 1100\n"
     ]
    }
   ],
   "source": [
    "#Combinar *-Args y **Kwargs\n",
    "def insertar_movil(*args, **kwargs):\n",
    "    print(type(args))\n",
    "    for i in args:\n",
    "        print(i)\n",
    "    print(type(kwargs))\n",
    "    for clave, valor in kwargs.items():  #obligattorio poner el método \".items()\" para que pueda recorrelo en forma de diccionario \n",
    "        print (clave, valor )\n",
    "insertar_movil(\"Es muy bueno\", \"la bateria no dura lo suficiente \", marca= \"sansung\", modelo= \"s20\", precio= 1100)"
   ]
  },
  {
   "cell_type": "markdown",
   "metadata": {},
   "source": [
    "### Unidad 2 (Atributos, constructores, métodos)\n",
    "- **Introduccion de POO**: programación orientada a objetos, considera en el elemento principal como un objeto, un objeto contiene caracteristicas (atribustos) y funcionalidades (métodos)\n",
    "Los objetos tiene una funcionalidad genérica llamda clase, sin clase no se crea un objeto \n",
    "- **Clases y Objetos**:  Los objetos sonm una instancias de esa clase que deter,mina los atributos y los métodos \n",
    "Las clases son maneras de describir los objetos \n",
    "`sintaxis`\n",
    ">`class` NombreClase:  \n",
    ">> cosas de la clases (atributos y métodos)  \n",
    "\n",
    "Normalmene para las clases se usa el metodo CamelCase que determina solo las primeras palabras de una clase en mayusculas, sin espacios ni Guion bajo\n",
    "Las sentencia `Pass` forza el cierre de la clase, se usa para cerrarla sin poner una definición en concreto \n",
    "Todas las clases son de tipo \"tipo\"\n",
    "La Clase se utiliza para definir algo.  \n",
    "- **Atributos**: Son caracteristicas que definen los obejtos de una clase, se definien de lmanera generica en la clase, los atributos se definen de manera generica en la clase, tambien se declaran tras la clase \n",
    "`Sintaxis`: `objeto.atributo`\n",
    "- **Constructores**: Es muy similar a una función, a este le daremos unos argumentos de entrada que sustitruiran los valores por defecto, para definir este constructor es mediante la `Funcion` `__init__`, dentro de la clase\n",
    "`sintaxis`:\n",
    ">class `NombreObjeto`:\n",
    ">> `def` __init__ (self,`AtributosObjetos`,`AtributosObjetosConValor = 4` ,`AtributosObjetosConValor = 4`): \n",
    ">>> self.`Clave para acceder al atributo`=`Atributo del objeto`\n",
    ">>>self.`Clave para acceder al atributo` = `Atributo del Objeto con Valor`\n",
    ">>>self.`Clave para acceder al atributo` = `Atributo del Objeto con Valor`\n",
    "\n",
    "Nota: \"la clave para acceder al atributo es solo una palabra que se pone como una función\"  \n",
    "`Ejemplo`  \n",
    "print(`objeto`.`palabra de acceso al atributo`, tesla_4.puertas)\n",
    "\n",
    "- **Métodos**: FUnciones que se determinan dentro de las clases, las sintaxis para definir los metodos es como si fuese una función, y para llamarlos es `objeto.metodo(self.argumentos_metodos)`\n"
   ]
  },
  {
   "cell_type": "code",
   "execution_count": 36,
   "metadata": {},
   "outputs": [
    {
     "name": "stdout",
     "output_type": "stream",
     "text": [
      "<class 'type'>\n",
      "<class '__main__.Coche'>\n"
     ]
    },
    {
     "data": {
      "text/plain": [
       "False"
      ]
     },
     "execution_count": 36,
     "metadata": {},
     "output_type": "execute_result"
    }
   ],
   "source": [
    "#Clase\n",
    "class Coche:\n",
    "    pass \n",
    "#La sentencia pass se una para forzar el fin de la clase\n",
    "print(type(Coche))\n",
    "primer_coche=Coche()\n",
    "print(type(primer_coche))\n",
    "citroen=Coche()\n",
    "peugeot= Coche()\n",
    "citroen== peugeot "
   ]
  },
  {
   "cell_type": "code",
   "execution_count": 37,
   "metadata": {},
   "outputs": [
    {
     "name": "stdout",
     "output_type": "stream",
     "text": [
      "4\n",
      "4\n",
      "3\n",
      "4\n",
      "4\n"
     ]
    }
   ],
   "source": [
    "#atributos\n",
    "class Coche:\n",
    "    puertas=4\n",
    "    ruedas=4\n",
    "tesla= Coche()\n",
    "print(tesla.puertas)\n",
    "print(tesla.ruedas)\n",
    "# Se pueden reasignar valores de un atributo \n",
    "mercedes= Coche()\n",
    "mercedes.puertas=3 #Se modificó directamente el atributo \n",
    "print(mercedes.puertas) #saca 3 puertas\n",
    "print(tesla.puertas) #sigue sacando el atributo incial \n",
    "#Los atributos de clases se comparten y no se tocan, por ejemplo se crea otro coche  \n",
    "#Y tendra los atributos iniciales\n",
    "chevrolet = Coche()\n",
    "print(chevrolet.puertas) #Aqui seguira teniendo 4"
   ]
  },
  {
   "cell_type": "code",
   "execution_count": 38,
   "metadata": {},
   "outputs": [
    {
     "name": "stdout",
     "output_type": "stream",
     "text": [
      "tesla\n",
      "mercedes\n",
      "renault\n",
      "4\n",
      "4\n",
      "6\n",
      "8\n",
      "6 4\n",
      "4 4\n"
     ]
    }
   ],
   "source": [
    "#Constuctor \n",
    "class Coche:\n",
    "    puertas =4\n",
    "    ruedas=4\n",
    "\n",
    "    def __init__ (self,marca_coche):  #El primer arugmento debe de ser SELF\n",
    "        self.marca=marca_coche  #SELF es la forma de instanciar el objeto \n",
    "tesla= Coche(\"tesla\")\n",
    "print(tesla.marca)\n",
    "#Este ejemplo de aqui indica que al crear un objeto co constructor obligatoriamente  \n",
    "# Debe de ponerle un atributpo que se creo en este caso la !\"marca\" porque este  \n",
    "#Como tal es un argumento posicional \n",
    "#SELF sirve para acceder a los atributos de la clase \n",
    "mercedes= Coche(\"mercedes\")\n",
    "renault=Coche(\"renault\")\n",
    "print(mercedes.marca)\n",
    "print(renault.marca)\n",
    "print(mercedes.puertas)\n",
    "print(renault.puertas)\n",
    "\n",
    "class Coche:\n",
    "    puertas = 4\n",
    "    ruedas = 4\n",
    "    def __init__ (self, marca_coche,num_puertas):\n",
    "        self.marca=marca_coche\n",
    "        self.puertas = num_puertas\n",
    "    \n",
    "tesla = Coche(\"Tesla\",6)\n",
    "mercedes500= Coche(\"mercedes\", 8)\n",
    "print(tesla.puertas)\n",
    "print(mercedes500.puertas)\n",
    "#Al ser argumentos posicionales los atributos que se indican deben ir en el orden\n",
    "#que se le determina \n",
    "\n",
    "class Coche:\n",
    " \n",
    "    def __init__ (self, marca_coche,num_puertas=4,num_ruedas=4): \n",
    "        self.marca=marca_coche #Estas definiciones como \"marca\" es como una clave y el valor sería el atributo, en este caso \"marca_coche\"\n",
    "        self.puertas = num_puertas\n",
    "        self.ruedas = num_ruedas\n",
    "tesla_4=Coche(\"tesla\")\n",
    "tesla_6=Coche(\"tesla\", num_ruedas = 6)\n",
    "print(tesla_6.ruedas, tesla_4.ruedas)\n",
    "print(tesla_6.puertas, tesla_4.puertas)\n",
    "# Este ejemplo de función claro, determina una forma de ahorra el poner argumentos \n",
    "#posicionales "
   ]
  },
  {
   "cell_type": "code",
   "execution_count": 39,
   "metadata": {},
   "outputs": [
    {
     "data": {
      "text/plain": [
       "'marca:ford,puertas:4'"
      ]
     },
     "execution_count": 39,
     "metadata": {},
     "output_type": "execute_result"
    }
   ],
   "source": [
    "#Métodos\n",
    "class Coche:\n",
    "    ruedas=4\n",
    " \n",
    "    def __init__ (self, marca_coche,num_puertas=4): \n",
    "        self.marca=marca_coche \n",
    "        self.puertas = num_puertas\n",
    "    def caracteristicas (self):\n",
    "        return \"marca:\"+ self.marca + \",puertas:\"+str(self.puertas) #Para poder acceder dentro de los atributos de un\n",
    "        #metodo es con \"self.\"\n",
    "ford_ka=Coche(\"ford\")\n",
    "ford_ka.caracteristicas()    "
   ]
  },
  {
   "cell_type": "code",
   "execution_count": 40,
   "metadata": {},
   "outputs": [],
   "source": [
    "class Coche:    #Se crea la clase\n",
    "    ruedas=4 #Atributo por defecto, al menos que se reasigne a otro coche \n",
    " \n",
    "    def __init__ (self, marca_coche,precio_coche, num_puertas=4, num_ruedas=4):  #definimos el constructor, con una serie de atributos \n",
    "        #Se pone SELF al principio para acceder a los mismos \n",
    "        self.marca=marca_coche  #Se definen los atributos mediante una serie de palabras claves\n",
    "        #para poder llamarlos \n",
    "        self.puertas = num_puertas\n",
    "        self.precio = precio_coche\n",
    "        self.ruedas= num_ruedas\n",
    "    def caracteristicas (self): #Aqui definimos el método en este caso \"caracteristicas\"\n",
    "        return \"Marca:\" + self.marca + \", Puertas:\" + str(self.puertas) +\", Ruedas:\" + str(self.ruedas) #Realizamos un return \n",
    "        #para que pueda aparecer cada vez que lo determinemos con un concatenación de los atributos \n",
    "        # y en caso del argumento \"puertas\" que es un int lo convertimos a un str\n",
    "    def precio_actual(self, agnos): #Aqui creamos otro método pero usando comparaciones\n",
    "        # en este caso con el atributo \"agnos\"\n",
    "        if agnos< 5: #Uso de los bucles \"if\" que le indicas ya una orden\n",
    "            return self.precio *0.7\n",
    "        elif agnos>5 and agnos < 10: #\"Elif\" si no se cumple la orden de \"if\"\n",
    "            return self.precio*0.5\n",
    "        else:  #\"Else\" si no se llega a cumplir ninguno de los anteriores\n",
    "            return self.precio *0.3\n"
   ]
  },
  {
   "cell_type": "code",
   "execution_count": 103,
   "metadata": {},
   "outputs": [
    {
     "name": "stdout",
     "output_type": "stream",
     "text": [
      "175000.0\n",
      "Marca:jeep, Puertas:4, Ruedas:4\n"
     ]
    }
   ],
   "source": [
    "jeep_cheroki= Coche(\"jeep\",350000)\n",
    "print(jeep_cheroki.precio_actual(8))\n",
    "print(jeep_cheroki.caracteristicas())\n"
   ]
  },
  {
   "cell_type": "markdown",
   "metadata": {},
   "source": [
    "## Sprint 3 (Algebra y Numpy)"
   ]
  },
  {
   "cell_type": "markdown",
   "metadata": {},
   "source": [
    "### Unidad 1 (Vectores, MAtrices, Numpy1)\n",
    "- **Vectores**: Es una entidad matemática como magnitud como longitud, tambien una lista de dtos y valores de cualquier tipo en datascienc\n",
    "hay vectores fila o vectores columnas\n",
    "La distancia entre vectores es la longitud que uno los vertices  \n",
    "- **Numpy**: Libreria de calculo numérico, se importas la librteria por medio de `**import** numpy **as** np`  \n",
    "el tippo ndarray es el genérico paras enteros, con numpy se pueden resolver una serie de operaciones que nos simplifican las funciones entre ellos, las sumas, resta, el producto por un escalar, la diferencia entre vectores, etc.\n",
    "- **Numpy matrices**: En numpy una matriz es un array de dos dimensiones que coinciden con las dimensiones de una matriz(filas y columnas)"
   ]
  },
  {
   "cell_type": "markdown",
   "metadata": {},
   "source": []
  },
  {
   "cell_type": "code",
   "execution_count": 42,
   "metadata": {},
   "outputs": [],
   "source": [
    "#Vectores\n",
    "alumnos_aidone={\n",
    "    \"rodrigo\":[5,4],\n",
    "    \"lucia\":[2,-3],\n",
    "    \"alejandro\":[3,5],\n",
    "    \"valeria\": [-5,4],\n",
    "    \"javier\":[0,-1],\n",
    "    \"camila\":[3,2],\n",
    "    \"diego\":[-1,1],\n",
    "    \"gabriela\":[5,-2],\n",
    "    \"mateo\":[-5,3],\n",
    "    \"sofia\":[-5,1]\n",
    "}"
   ]
  },
  {
   "cell_type": "code",
   "execution_count": 43,
   "metadata": {},
   "outputs": [],
   "source": [
    "import matplotlib.pyplot as plt \n",
    "from warnings import filterwarnings\n",
    "%matplotlib inline\n",
    "filterwarnings ('ignore')\n"
   ]
  },
  {
   "cell_type": "code",
   "execution_count": 44,
   "metadata": {},
   "outputs": [],
   "source": [
    "\n",
    "\n",
    "def move_spines():\n",
    "    fig, ax = plt.subplots()\n",
    "    for spine in [\"left\", \"bottom\"]:\n",
    "        ax.spines[spine].set_position(\"zero\")\n",
    "    for spine in [\"right\", \"top\"]:\n",
    "        ax.spines[spine].set_color(\"none\")\n",
    "    return ax\n",
    "\n",
    "def vect_fig(*vectores):\n",
    "    ax = move_spines()\n",
    "\n",
    "    ax.set_xlim(-5, 5)\n",
    "    ax.set_ylim(-5, 5)\n",
    "    ax.grid()\n",
    "\n",
    "    vecs = [vector for vector in vectores]\n",
    "    for v in vecs:\n",
    "        ax.annotate(\"\", xy=v, xytext=[0, 0],\n",
    "                    arrowprops=dict(facecolor=\"blue\",\n",
    "                                    shrink=0,\n",
    "                                    alpha=0.7,\n",
    "                                    width=0.5))\n",
    "        ax.text(1.1*v[0], 1.1*v[1], str(v))\n"
   ]
  },
  {
   "cell_type": "code",
   "execution_count": 45,
   "metadata": {},
   "outputs": [
    {
     "data": {
      "image/png": "[encoded data removed]",
      "text/plain": [
       "<Figure size 640x480 with 1 Axes>"
      ]
     },
     "metadata": {},
     "output_type": "display_data"
    }
   ],
   "source": [
    "vect_fig(alumnos_aidone[\"rodrigo\"],alumnos_aidone[\"gabriela\"],alumnos_aidone[\"mateo\"],alumnos_aidone[\"lucia\"])"
   ]
  },
  {
   "cell_type": "code",
   "execution_count": 46,
   "metadata": {},
   "outputs": [
    {
     "name": "stdout",
     "output_type": "stream",
     "text": [
      "distancia lucia - rodrigo 7.6\n",
      "distancia lucia - gabriela 3.2\n",
      "distancia lucia - mateo 9.2\n"
     ]
    }
   ],
   "source": [
    "import math\n",
    "def distancia_2d(vec1,vec2,precision=2):\n",
    "    suma = 0\n",
    "    for indice_componente in range (2):\n",
    "        suma +=(vec1[indice_componente]-vec2[indice_componente])**2\n",
    "    distancia= math.sqrt(suma)\n",
    "    distancia=round(distancia,precision)\n",
    "    return distancia \n",
    "\n",
    "vec_lucia=alumnos_aidone[\"lucia\"]\n",
    "for alumnos_ref in [\"rodrigo\",\"gabriela\",\"mateo\"]:\n",
    "    vec_ref=alumnos_aidone[alumnos_ref]\n",
    "    distancia= distancia_2d(vec_lucia,vec_ref,1)\n",
    "    print(\"distancia lucia -\", alumnos_ref,distancia)\n",
    "\n"
   ]
  },
  {
   "cell_type": "code",
   "execution_count": 48,
   "metadata": {},
   "outputs": [
    {
     "name": "stdout",
     "output_type": "stream",
     "text": [
      "[35 -1 -7]\n",
      "[11 -7 17]\n",
      "[ 69 -12  15]\n",
      "204\n",
      "204\n",
      "23.874672772626646 17.233687939614086\n",
      "[ 8.54461973 11.8372806 ]\n",
      "21.42428528562855\n"
     ]
    },
    {
     "data": {
      "text/plain": [
       "{'rodrigo': array([5, 4]),\n",
       " 'lucia': array([ 2, -3]),\n",
       " 'alejandro': array([3, 5]),\n",
       " 'valeria': array([-5,  4]),\n",
       " 'javier': array([ 0, -1]),\n",
       " 'camila': array([3, 2]),\n",
       " 'diego': array([-1,  1]),\n",
       " 'gabriela': array([ 5, -2]),\n",
       " 'mateo': array([-5,  3]),\n",
       " 'sofia': array([-5,  1])}"
      ]
     },
     "execution_count": 48,
     "metadata": {},
     "output_type": "execute_result"
    }
   ],
   "source": [
    "#Numpy\n",
    "import numpy as np\n",
    "vector_np= np.array([2,3])\n",
    "vector_1=np.array([23,-4,5])\n",
    "vec_2= [12,3,-12]\n",
    "vector_2=np.array(vec_2)\n",
    "#suma\n",
    "vec_suma= vector_1+vector_2\n",
    "print(vec_suma)\n",
    "#resta\n",
    "vector_resta= vector_1-vector_2\n",
    "print(vector_resta)\n",
    "#Prodiucto por un escalar\n",
    "vec_escalar= 3* vector_1\n",
    "print(vec_escalar)\n",
    "#producto escalar entre vectores\n",
    "dot_product= vector_1.dot(vector_2)   #Primera forma atravezz de un método  \".dot()\"\n",
    "print(dot_product)\n",
    "dot_product= np.dot(vector_1,vector_2) #Segunda forma a travez del \"np.dot()\" directamente\n",
    "print(dot_product)\n",
    "#Norma, longitud o magnitud \n",
    "norm_1=np.linalg.norm(vector_1)\n",
    "norm_2= np.linalg.norm(vector_2)\n",
    "print(norm_1,norm_2)\n",
    "#coseno del angulo\n",
    "coseno_and_1_2=dot_product/(norm_1,norm_2)\n",
    "print(coseno_and_1_2)\n",
    "#distancia de los vectores \n",
    "dist_v1_v2=np.linalg.norm(vector_1-vector_2)\n",
    "print(dist_v1_v2)\n",
    "#Convertir una lista de vectores en arrays\n",
    "alumnos_np={} #creamos un diccionarioo vacio, mismo que llenaremos con la lista qie vamos a recorrer\n",
    "for alumno, vec_list in alumnos_aidone.items(): # por cada alumno y valor de la vec list qyue esta en la lista principal\n",
    "    alumnos_np[alumno] = np.array(vec_list) #Lo llenaremos recorriendolo uno por uno y convirtiendo a array\n",
    "alumnos_np"
   ]
  },
  {
   "cell_type": "code",
   "execution_count": 59,
   "metadata": {},
   "outputs": [
    {
     "name": "stdout",
     "output_type": "stream",
     "text": [
      "[[1, 2, 4], [3, 5, 6]]\n",
      "\n",
      "[[1 2 4]\n",
      " [3 5 6]]\n",
      "\n",
      "[[1 3 2]\n",
      " [1 0 0]\n",
      " [1 2 2]]\n",
      "[[1 0 5]\n",
      " [7 5 0]\n",
      " [2 1 1]]\n",
      "3*A:\n",
      " [[3 9 6]\n",
      " [3 0 0]\n",
      " [3 6 6]]\n",
      "Suma = A+B\n",
      ": [[2 3 7]\n",
      " [8 5 0]\n",
      " [3 3 3]]\n",
      "Resta: A-B\n",
      " [[ 0  3 -3]\n",
      " [-6 -5  0]\n",
      " [-1  1  1]]\n",
      "A x B:\n",
      " [[26 17  7]\n",
      " [ 1  0  5]\n",
      " [19 12  7]]\n",
      "A: [[1 3 2]\n",
      " [1 0 0]\n",
      " [1 2 2]] \n",
      " AT: [[1 1 1]\n",
      " [3 0 2]\n",
      " [2 0 2]]\n"
     ]
    }
   ],
   "source": [
    "#MAtrices y numpy\n",
    "#matriz con listas\n",
    "matriz= [[1,2,4],\n",
    "         [3,5,6]]\n",
    "#Usando \"casting\" para la conversion de tipo\n",
    "matriz_np=np.array(matriz)\n",
    "#Usando lista de lista\n",
    "A=np.array([[1,3,2],\n",
    "            [1,0,0],\n",
    "            [1,2,2]])\n",
    "B= np.array([[1,0,5],\n",
    "             [7,5,0],\n",
    "             [2,1,1]])\n",
    "print(matriz)\n",
    "print()\n",
    "print(matriz_np)\n",
    "print()\n",
    "print(A)\n",
    "print(B)\n",
    "#Operaciones como matrices equivalentes a una funcion\n",
    "product= 3*A\n",
    "print(\"3*A:\\n\",product)\n",
    "#suma\n",
    "resultado= A+B\n",
    "print(\"Suma = A+B\\n:\", resultado)\n",
    "#resta\n",
    "resta= A-B\n",
    "print(\"Resta: A-B\\n\", resta)\n",
    "#Prodcuto matricial\n",
    "prodcuto_mat = A.dot(B)\n",
    "print(\"A x B:\\n\", prodcuto_mat)\n",
    "#transposicion\n",
    "A_trans= A.T\n",
    "print(\"A:\",A,\"\\n\",\"AT:\",A_trans)"
   ]
  },
  {
   "cell_type": "markdown",
   "metadata": {},
   "source": [
    "### Unidad 2 (Array, Manipulación, Agregaciones)\n",
    "- **Array**: En numpy solo cabe un tipo por array, es decir int o float, un array se crea mediaante la funcion `np.array()`\n",
    "Un vector es una array unidimensional o sea una lista, para poder acceder a sus elementos es igual que las listas atravez de una indexacion `array_ejemplo[0]` mediante los corchetes y asi mismo en la indexacion negativa \n",
    "Para los ver el tipo en los array se determina con el `.dtype`su `sintaxis`: `print(matriz_uno.dtype)`  \n",
    "El metodo `np.arange()` crea matrices unidimensionales especificando de que número queremos y poniendole un tipo de atributo para indicarle como deseamos los saltos, ejemplo `array=np.arange(0,10,2)` aquí se le indica del 0 al 10 de dos en dos \n",
    "Para saber diferenciar uno lista de una matriz unidimensional de array, se determinan por que los valores no estan separados por comas \",\" es decir: `lista [1,2,3,4]` `array[1 2 3 4]`  \n",
    "EL paquete `random` de numpy crea secuencias aleatorioa sintaxis `print(np.random.rand(5))` se llama al paquete random y se le indica el método que usaremos que es el `rand` y a su vez cuantos valores necesitamos, tanbien se puede crear una matriz `np.random.rand(3,4)` determianndo que quiero de tres filas y cuatro columnas, ahora una matriz de numeros enteros entre 3 y 12 `matriz_int = np.random.randint(3,12, size=(3,4))` aquí el \"size\" determina el tamaño de la matriz y en `randint` es para que sean enteros.  \n",
    "Para que mi lista aleatoria no se pierda vamos a creaer una semilla por medio de `seed`  \n",
    ">nota: np.random.seed(123)   # la semilla debe de plantarse con aterioridad \n",
    ">>print(np.random.rand(10)).\n",
    "\n",
    "- **Atributos Array**: `.ndim` indica el tamaño de dimensiones que tiene un array\n",
    "`shape` la forma en que está compuesta la matriz\n",
    "`size` la cantidad total, osea el numero de elementos individuales  \n",
    "En los array no se pueden quitar ni añadir dimensiones   \n",
    "- **indexacion y slicing Array**: El `indexado` es poder escoger una posición de la matriz como tal, mas el `slicing` determina desde un valor hasta otro valor `[2:5]` pero por medio desde los indices recordando que se cuentan desde el `0`  \n",
    "Los slicing y los subarray tiene una misma `sintaxis` `x[Start:stop:step]` el `step` de que forma los cogera sea de uno en uno o de dos en dos, etc.  \n",
    "\n",
    "Un \"subarray\" (submatriz en el contexto de matrices bidimensionales) es una porción o segmento de un array o matriz original. Consiste en seleccionar un conjunto de elementos contiguos dentro del array principal. Los subarrays conservan la estructura de array, pero pueden tener dimensiones diferentes al array original.\n",
    "- **Reshape en Array**: Metodo para cambiar la dimension de un array, siempre y cuando el número de los elementos lo permita, el reshape consta en poder multiplicar bien los valores de una matriz unidimensional para asi distribuir bien sus filas y columnas  \n",
    "- **Manipulacion (Concatenación)**: Para la concatenación tiene varios métodos: `np.concatenate`,`np.vstack`, `np.hstack`  \n",
    "Concatenate tiene un parametro que es `axis` donde juega con las dimensiones y el tipo de concatenado  \n",
    "`vstak` hace un concatenado vertical\n",
    "`hstack` concatenado horizontal  \n",
    "Sustitucion mediante `where`  \n"
   ]
  },
  {
   "cell_type": "code",
   "execution_count": 69,
   "metadata": {},
   "outputs": [
    {
     "name": "stdout",
     "output_type": "stream",
     "text": [
      "[[1. 0. 0.]\n",
      " [0. 1. 0.]\n",
      " [0. 0. 1.]]\n",
      "\n",
      "[[0. 0.]\n",
      " [0. 0.]\n",
      " [0. 0.]]\n",
      "\n",
      "[[1. 1. 1. 1.]\n",
      " [1. 1. 1. 1.]\n",
      " [1. 1. 1. 1.]\n",
      " [1. 1. 1. 1.]\n",
      " [1. 1. 1. 1.]]\n",
      "float64\n",
      "\n",
      "matriz 100 \n",
      " [[100 100 100]\n",
      " [100 100 100]]\n"
     ]
    }
   ],
   "source": [
    "#MAtriz identidad\n",
    "I=np.identity(3)\n",
    "print(I)\n",
    "print()\n",
    "#Matriz con 0s\n",
    "matriz_zero=np.zeros((3,2))\n",
    "print(matriz_zero)\n",
    "print()\n",
    "#MAtriz de 1\n",
    "matriz_uno= np.ones((5,4))\n",
    "print(matriz_uno)\n",
    "print(matriz_uno.dtype)\n",
    "print()\n",
    "#magtriz 100s\n",
    "matriz_100=np.full((2,3),100)\n",
    "print(\"matriz 100 \\n\", matriz_100)"
   ]
  },
  {
   "cell_type": "code",
   "execution_count": 71,
   "metadata": {},
   "outputs": [
    {
     "name": "stdout",
     "output_type": "stream",
     "text": [
      "[0.69646919 0.28613933 0.22685145 0.55131477 0.71946897 0.42310646\n",
      " 0.9807642  0.68482974 0.4809319  0.39211752]\n",
      "\n",
      "[0.24875591 0.16306678 0.78364326 0.80852339 0.62562843 0.60411363\n",
      " 0.8857019  0.75911747 0.18110506 0.15016932]\n"
     ]
    }
   ],
   "source": [
    "#seed con random\n",
    "np.random.seed(123)   # la semilla debe de plantarse con aterioridad \n",
    "print(np.random.rand(10))\n",
    "print()\n",
    "np.random.seed(456)\n",
    "print(np.random.rand(10))"
   ]
  },
  {
   "cell_type": "code",
   "execution_count": 82,
   "metadata": {},
   "outputs": [
    {
     "name": "stdout",
     "output_type": "stream",
     "text": [
      "Array1 \n",
      " 1\n",
      "Array_2 \n",
      " 2\n",
      "Arrayy_3 \n",
      " 3\n",
      "indezado \n",
      " 1\n",
      "slicing \n",
      " [3 4 5]\n",
      "\n",
      "Array 2 , el primer elemento \n",
      " [1 2 3]\n",
      "Array 2 segundo elmento de  la primera final \n",
      " 2\n",
      "2\n"
     ]
    }
   ],
   "source": [
    "#Indexado Array\n",
    "array_1= np.array([1,2,3,4,5])\n",
    "array_2= np.array([[1,2,3],[4,5,6],[7,8,9]])\n",
    "array_3= np.array([[[1,10],[2,20],[3,30]],\n",
    "                   [[4,40],[5,50],[6,60]],\n",
    "                   [[7,70],[8,80],[9,90]]])\n",
    "print(\"Array1 \\n\",array_1.ndim)\n",
    "print(\"Array_2 \\n\",array_2.ndim)\n",
    "print(\"Arrayy_3 \\n\",array_3.ndim)\n",
    "print(\"indezado \\n\", array_1[0])\n",
    "print(\"slicing \\n\", array_1[2:5])\n",
    "print()\n",
    "print(\"Array 2 , el primer elemento \\n\", array_2[0])\n",
    "print(\"Array 2 segundo elmento de  la primera final \\n\", array_2[0][1])\n",
    "print(array_2[0,1])"
   ]
  },
  {
   "cell_type": "code",
   "execution_count": 87,
   "metadata": {},
   "outputs": [
    {
     "name": "stdout",
     "output_type": "stream",
     "text": [
      "[0 1 2 3 4 5 6 7 8]\n",
      "\n",
      "Y reshape \n",
      " [[0 1 2]\n",
      " [3 4 5]\n",
      " [6 7 8]]\n",
      "\n",
      "X1 Reshape\n",
      " [[[ 0  1  2]\n",
      "  [ 3  4  5]\n",
      "  [ 6  7  8]\n",
      "  [ 9 10 11]\n",
      "  [12 13 14]]\n",
      "\n",
      " [[15 16 17]\n",
      "  [18 19 20]\n",
      "  [21 22 23]\n",
      "  [24 25 26]\n",
      "  [27 28 29]]]\n",
      "y Reshape\n",
      " [[ 0  1  2  3  4]\n",
      " [ 5  6  7  8  9]\n",
      " [10 11 12 13 14]\n",
      " [15 16 17 18 19]\n",
      " [20 21 22 23 24]\n",
      " [25 26 27 28 29]]\n"
     ]
    }
   ],
   "source": [
    "#Reshape\n",
    "x= np.arange(9)\n",
    "print(x)\n",
    "print()\n",
    "y=x.reshape(3,3)\n",
    "print(\"Y reshape \\n\", y)\n",
    "print()\n",
    "x2= np.arange(30)\n",
    "x1=x2.reshape(2,5,3)\n",
    "y = x2.reshape(6,5)\n",
    "print(\"X1 Reshape\\n\",x1)\n",
    "print(\"y Reshape\\n\",y)"
   ]
  },
  {
   "cell_type": "code",
   "execution_count": 102,
   "metadata": {},
   "outputs": [
    {
     "name": "stdout",
     "output_type": "stream",
     "text": [
      "Concatenate una dimension \n",
      " [1 2 3 4 5 6]\n",
      "[ 1  2  3  4  5  6 99 99 99]\n",
      "\n",
      "concatenación bidimensional\n",
      " [[1 2 3]\n",
      " [4 5 6]\n",
      " [1 2 3]\n",
      " [4 5 6]]\n",
      "\n",
      "Axis\n",
      " [[1 2 3 1 2 3]\n",
      " [4 5 6 4 5 6]]\n",
      "\n",
      "vstack\n",
      " [[  1   2   3]\n",
      " [  4   5   6]\n",
      " [101  11  12]\n",
      " [  7   8   9]]\n",
      "\n",
      "Hstack\n",
      " [[1 2 3 7]\n",
      " [4 5 6 8]]\n",
      "\n",
      "where, sustitucion de valores pqres por 0 e inpares por 1\n",
      " [[1 0 1]\n",
      " [0 1 0]]\n",
      "where, sustitucion de valores menores a 4 por 10 y el resto dejarlo asi \n",
      " [[10 10 10]\n",
      " [ 4  5  6]]\n"
     ]
    }
   ],
   "source": [
    "#concatenación \n",
    "x= [1,2,3]\n",
    "y=[4,5,6]\n",
    "x_np=np.array(x)\n",
    "y_np=np.array(y)\n",
    "print(\"Concatenate una dimension \\n\",np.concatenate([x_np,y_np]))\n",
    "z_np=np.array([99,99,99])\n",
    "print(np.concatenate([x_np,y_np,z_np]))\n",
    "print()\n",
    "xy_np= np.array([[1,2,3],\n",
    "                [4,5,6]])\n",
    "print(\"concatenación bidimensional\\n\", np.concatenate([xy_np,xy_np]))\n",
    "print()\n",
    "print(\"Axis\\n\",np.concatenate([xy_np,xy_np],axis=1)) #Aqui ya no hace una concatenación vertical, sino horizontal\n",
    "print()\n",
    "xy= np.array([[1,2,3],\n",
    "              [4,5,6],[101,11,12]])\n",
    "x= np.array([7,8,9])\n",
    "print(\"vstack\\n\",np.vstack([xy,x]))\n",
    "print()\n",
    "xy= np.array([[1,2,3],\n",
    "              [4,5,6]])\n",
    "x=np.array([[7],[8]])\n",
    "print(\"Hstack\\n\",np.hstack([xy,x]) )\n",
    "print()\n",
    "xy=np.array([[1,2,3],\n",
    "             [4,5,6]])\n",
    "print(\"where, sustitucion de valores pqres por 0 e inpares por 1\\n\", np.where(xy%2==0,0,1))\n",
    "print(\"where, sustitucion de valores menores a 4 por 10 y el resto dejarlo asi \\n\", np.where(xy<4,10,xy))"
   ]
  },
  {
   "cell_type": "code",
   "execution_count": null,
   "metadata": {},
   "outputs": [],
   "source": []
  },
  {
   "cell_type": "code",
   "execution_count": null,
   "metadata": {},
   "outputs": [],
   "source": []
  }
 ],
 "metadata": {
  "kernelspec": {
   "display_name": "Python 3",
   "language": "python",
   "name": "python3"
  },
  "language_info": {
   "codemirror_mode": {
    "name": "ipython",
    "version": 3
   },
   "file_extension": ".py",
   "mimetype": "text/x-python",
   "name": "python",
   "nbconvert_exporter": "python",
   "pygments_lexer": "ipython3",
   "version": "3.10.11"
  }
 },
 "nbformat": 4,
 "nbformat_minor": 2
}
