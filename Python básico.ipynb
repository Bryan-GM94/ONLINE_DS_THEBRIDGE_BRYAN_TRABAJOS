{
 "cells": [
  {
   "cell_type": "markdown",
   "id": "00a709b4-1edc-4118-a31a-5b20951f24b7",
   "metadata": {},
   "source": [
    "## Asignación de Variables"
   ]
  },
  {
   "cell_type": "code",
   "execution_count": 1,
   "id": "66aadb74-8740-4424-a6e9-d1c5fe3d8488",
   "metadata": {},
   "outputs": [],
   "source": [
    "Ingresos = 1000\n",
    "Gastos = 400"
   ]
  },
  {
   "cell_type": "code",
   "execution_count": 2,
   "id": "6ee5c664-c3d9-4fa8-881e-389c5433a7ba",
   "metadata": {},
   "outputs": [
    {
     "data": {
      "text/plain": [
       "1000"
      ]
     },
     "execution_count": 2,
     "metadata": {},
     "output_type": "execute_result"
    }
   ],
   "source": [
    "Ingresos"
   ]
  },
  {
   "cell_type": "code",
   "execution_count": 3,
   "id": "a18aebee-cd54-4c09-a0e6-863f615be993",
   "metadata": {},
   "outputs": [
    {
     "name": "stdout",
     "output_type": "stream",
     "text": [
      "1000\n",
      "400\n"
     ]
    }
   ],
   "source": [
    "print(Ingresos)\n",
    "print(Gastos)"
   ]
  },
  {
   "cell_type": "code",
   "execution_count": 4,
   "id": "db9eec34-e010-4b53-8743-2f19638ec045",
   "metadata": {},
   "outputs": [],
   "source": [
    "margen = Ingresos - Gastos"
   ]
  },
  {
   "cell_type": "code",
   "execution_count": 5,
   "id": "26482976-af84-45fa-9c78-db632d8bafc6",
   "metadata": {},
   "outputs": [
    {
     "data": {
      "text/plain": [
       "600"
      ]
     },
     "execution_count": 5,
     "metadata": {},
     "output_type": "execute_result"
    }
   ],
   "source": [
    "margen"
   ]
  },
  {
   "cell_type": "code",
   "execution_count": null,
   "id": "2fe34501-dc1f-4055-80c9-e4bfcd59372d",
   "metadata": {},
   "outputs": [
    {
     "name": "stdout",
     "output_type": "stream",
     "text": [
      "600\n"
     ]
    }
   ],
   "source": [
    "print(margen)"
   ]
  },
  {
   "cell_type": "code",
   "execution_count": null,
   "id": "560a3c95-0a0b-4fea-b521-64579a6ef5ac",
   "metadata": {},
   "outputs": [
    {
     "name": "stdout",
     "output_type": "stream",
     "text": [
      "los ingresos han sido altos\n",
      "los ingresos han sido altos\n"
     ]
    }
   ],
   "source": [
    "ingresos_text = \"los ingresos han sido altos\"\n",
    "ingresos_alt = 'los ingresos han sido altos'\n",
    "print(ingresos_text)\n",
    "print(ingresos_alt)"
   ]
  },
  {
   "cell_type": "code",
   "execution_count": null,
   "id": "6aad1f86-a3f3-4c0d-823f-0da2543a619c",
   "metadata": {
    "scrolled": true
   },
   "outputs": [
    {
     "name": "stdout",
     "output_type": "stream",
     "text": [
      "['False', 'None', 'True', 'and', 'as', 'assert', 'async', 'await', 'break', 'class', 'continue', 'def', 'del', 'elif', 'else', 'except', 'finally', 'for', 'from', 'global', 'if', 'import', 'in', 'is', 'lambda', 'nonlocal', 'not', 'or', 'pass', 'raise', 'return', 'try', 'while', 'with', 'yield']\n"
     ]
    }
   ],
   "source": [
    " import keyword\n",
    "print(keyword.kwlist)"
   ]
  },
  {
   "cell_type": "markdown",
   "id": "798d3c46-f260-4878-8ae7-1f27591b2530",
   "metadata": {},
   "source": [
    "`print`"
   ]
  },
  {
   "cell_type": "code",
   "execution_count": null,
   "id": "f2937704-52dd-46f4-8efb-e7011c81084c",
   "metadata": {},
   "outputs": [],
   "source": [
    "ingresos = 1000\n",
    "gastos = 100\n",
    "beneficios = ingresos - gastos\n"
   ]
  },
  {
   "cell_type": "code",
   "execution_count": null,
   "id": "a939358a-b237-4f8f-b90d-fa986630e14d",
   "metadata": {},
   "outputs": [
    {
     "name": "stdout",
     "output_type": "stream",
     "text": [
      "1000\n",
      "100\n",
      "los beneficios han sido de:\n",
      "900\n"
     ]
    }
   ],
   "source": [
    "print(ingresos)\n",
    "print(gastos)\n",
    "print(\"los beneficios han sido de:\")\n",
    "print(beneficios)"
   ]
  },
  {
   "cell_type": "code",
   "execution_count": null,
   "id": "266e7e55-87b5-4f67-9d99-746a88264687",
   "metadata": {},
   "outputs": [
    {
     "name": "stdout",
     "output_type": "stream",
     "text": [
      "los beneficios de junio han sido 900 millones\n"
     ]
    }
   ],
   "source": [
    "mes = \"junio\"\n",
    "print(\"los beneficios de %s han sido %s millones\" %(mes,beneficios))"
   ]
  },
  {
   "cell_type": "code",
   "execution_count": null,
   "id": "5bc8d380-9af0-47ff-8076-8dde7e526f23",
   "metadata": {},
   "outputs": [
    {
     "name": "stdout",
     "output_type": "stream",
     "text": [
      "los beneficios de 900 han sido junio millones\n"
     ]
    }
   ],
   "source": [
    "print(\"los beneficios de %s han sido %s millones\" %(beneficios,mes))\n"
   ]
  },
  {
   "cell_type": "markdown",
   "id": "94bc40b5-ca35-4925-81d5-b1c2daa08947",
   "metadata": {},
   "source": [
    "## Comentarios y comentarios multilineas"
   ]
  },
  {
   "cell_type": "code",
   "execution_count": null,
   "id": "ef0a3a5f-ffa6-4e21-b07b-03517c7cf67d",
   "metadata": {},
   "outputs": [
    {
     "name": "stdout",
     "output_type": "stream",
     "text": [
      "esto si lo ejecuta\n"
     ]
    }
   ],
   "source": [
    "# comentario en linea\n",
    "# print(\"esto lo ignora\")\n",
    "print(\"esto si lo ejecuta\")"
   ]
  },
  {
   "cell_type": "code",
   "execution_count": null,
   "id": "711906fd-0e56-44a0-9d35-21114f8e276f",
   "metadata": {},
   "outputs": [
    {
     "name": "stdout",
     "output_type": "stream",
     "text": [
      "fin del programa\n"
     ]
    }
   ],
   "source": [
    "print(\"fin del programa\")\n",
    "# \"esta linea indica que hemos terminado\""
   ]
  },
  {
   "cell_type": "code",
   "execution_count": null,
   "id": "988e0b88-53fa-43ff-8132-f6c3091dd608",
   "metadata": {},
   "outputs": [
    {
     "data": {
      "text/plain": [
       "'\\ncomentario multilinea\\npuedo usar linea sin repetir el #\\n'"
      ]
     },
     "execution_count": 34,
     "metadata": {},
     "output_type": "execute_result"
    }
   ],
   "source": [
    "'''\n",
    "comentario multilinea\n",
    "puedo usar linea sin repetir el #\n",
    "'''\n",
    "\n"
   ]
  },
  {
   "cell_type": "code",
   "execution_count": null,
   "id": "7eb14fc5-0d4d-4816-8314-a63206a544e9",
   "metadata": {},
   "outputs": [
    {
     "ename": "NameError",
     "evalue": "name 'ventas_jun' is not defined",
     "output_type": "error",
     "traceback": [
      "\u001b[1;31m---------------------------------------------------------------------------\u001b[0m",
      "\u001b[1;31mNameError\u001b[0m                                 Traceback (most recent call last)",
      "\u001b[1;32mc:\\Users\\34603\\Documentos_clases\\GitHub Desckot\\ONLINE_DS_THEBRIDGE_BRYAN_TRABAJOS\\Python básico.ipynb Cell 19\u001b[0m line \u001b[0;36m1\n\u001b[1;32m----> <a href='vscode-notebook-cell:/c%3A/Users/34603/Documentos_clases/GitHub%20Desckot/ONLINE_DS_THEBRIDGE_BRYAN_TRABAJOS/Python%20b%C3%A1sico.ipynb#X24sZmlsZQ%3D%3D?line=0'>1</a>\u001b[0m ventas_jun_jul \u001b[39m=\u001b[39m ventas_jun \u001b[39m+\u001b[39m ventas_jul\n\u001b[0;32m      <a href='vscode-notebook-cell:/c%3A/Users/34603/Documentos_clases/GitHub%20Desckot/ONLINE_DS_THEBRIDGE_BRYAN_TRABAJOS/Python%20b%C3%A1sico.ipynb#X24sZmlsZQ%3D%3D?line=2'>3</a>\u001b[0m ventas_jun \u001b[39m=\u001b[39m \u001b[39m100\u001b[39m\n\u001b[0;32m      <a href='vscode-notebook-cell:/c%3A/Users/34603/Documentos_clases/GitHub%20Desckot/ONLINE_DS_THEBRIDGE_BRYAN_TRABAJOS/Python%20b%C3%A1sico.ipynb#X24sZmlsZQ%3D%3D?line=3'>4</a>\u001b[0m ventas_jul \u001b[39m=\u001b[39m \u001b[39m150\u001b[39m\n",
      "\u001b[1;31mNameError\u001b[0m: name 'ventas_jun' is not defined"
     ]
    }
   ],
   "source": [
    "ventas_jun_jul = ventas_jun + ventas_jul\n",
    "\n",
    "ventas_jun = 100\n",
    "ventas_jul = 150\n"
   ]
  },
  {
   "cell_type": "code",
   "execution_count": null,
   "id": "937d0442-5eeb-46cd-b66e-aae43d186d3c",
   "metadata": {},
   "outputs": [
    {
     "ename": "NameError",
     "evalue": "name 'ventas_jun' is not defined",
     "output_type": "error",
     "traceback": [
      "\u001b[1;31m---------------------------------------------------------------------------\u001b[0m",
      "\u001b[1;31mNameError\u001b[0m                                 Traceback (most recent call last)",
      "Cell \u001b[1;32mIn[36], line 1\u001b[0m\n\u001b[1;32m----> 1\u001b[0m \u001b[43mventas_jun\u001b[49m\n",
      "\u001b[1;31mNameError\u001b[0m: name 'ventas_jun' is not defined"
     ]
    }
   ],
   "source": [
    "ventas_jun"
   ]
  },
  {
   "cell_type": "code",
   "execution_count": null,
   "id": "7c9c9350-32a9-4cae-bd65-e545c53a505a",
   "metadata": {},
   "outputs": [],
   "source": [
    "ventas_jun = 100\n",
    "ventas_jul = 150"
   ]
  },
  {
   "cell_type": "code",
   "execution_count": null,
   "id": "f6830092-b6fb-4128-ba71-ce248482dd2e",
   "metadata": {},
   "outputs": [],
   "source": [
    "ventas_jun_jul = ventas_jun + ventas_jul "
   ]
  },
  {
   "cell_type": "code",
   "execution_count": null,
   "id": "fb47c01e-5d91-49f1-861d-994726eb4615",
   "metadata": {},
   "outputs": [
    {
     "data": {
      "text/plain": [
       "250"
      ]
     },
     "execution_count": 40,
     "metadata": {},
     "output_type": "execute_result"
    }
   ],
   "source": [
    "ventas_jun_jul"
   ]
  },
  {
   "cell_type": "code",
   "execution_count": null,
   "id": "5c28252f-61e7-4ff0-ba31-19f073878f2e",
   "metadata": {},
   "outputs": [
    {
     "name": "stdout",
     "output_type": "stream",
     "text": [
      "las ventas de junio a julio son ventas son 250\n"
     ]
    }
   ],
   "source": [
    "print(\"las ventas de junio a julio son ventas son\", ventas_jun_jul)"
   ]
  },
  {
   "cell_type": "code",
   "execution_count": null,
   "id": "cea69c8c-1c78-494c-9628-38ac5d9c6ac6",
   "metadata": {},
   "outputs": [],
   "source": [
    "altura = 180; peso = 75"
   ]
  },
  {
   "cell_type": "code",
   "execution_count": null,
   "id": "ab2768df-7b8b-4c97-8a7a-9a29243e6fd8",
   "metadata": {},
   "outputs": [],
   "source": [
    " x, y, z = 12, 23, 45"
   ]
  },
  {
   "cell_type": "code",
   "execution_count": null,
   "id": "fbf4e519-4a78-41c6-a80d-6f4c2f6252b4",
   "metadata": {},
   "outputs": [
    {
     "name": "stdout",
     "output_type": "stream",
     "text": [
      "12\n"
     ]
    }
   ],
   "source": [
    "print (x)"
   ]
  },
  {
   "cell_type": "code",
   "execution_count": null,
   "id": "98a743a3-aa7a-46b6-9ddc-dfba0dce9a7c",
   "metadata": {},
   "outputs": [
    {
     "ename": "NameError",
     "evalue": "name 'altura' is not defined",
     "output_type": "error",
     "traceback": [
      "\u001b[1;31m---------------------------------------------------------------------------\u001b[0m",
      "\u001b[1;31mNameError\u001b[0m                                 Traceback (most recent call last)",
      "Cell \u001b[1;32mIn[1], line 3\u001b[0m\n\u001b[0;32m      1\u001b[0m altura \u001b[38;5;241m=\u001b[39m \u001b[38;5;241m1.85\u001b[39m\n\u001b[0;32m      2\u001b[0m \u001b[38;5;28;01mdel\u001b[39;00m altura\n\u001b[1;32m----> 3\u001b[0m \u001b[38;5;28mprint\u001b[39m(\u001b[43maltura\u001b[49m)\n",
      "\u001b[1;31mNameError\u001b[0m: name 'altura' is not defined"
     ]
    }
   ],
   "source": [
    "altura = 1.85\n",
    "del altura\n",
    "print(altura)"
   ]
  },
  {
   "cell_type": "markdown",
   "id": "8637941a-0b2a-4467-b984-50f59867fd82",
   "metadata": {},
   "source": [
    "## Tipo de Datos"
   ]
  },
  {
   "cell_type": "markdown",
   "id": "1f4a92a3-ebe8-412a-af99-967610076b03",
   "metadata": {},
   "source": [
    "### Variables numéricas"
   ]
  },
  {
   "cell_type": "code",
   "execution_count": null,
   "id": "c5373c2b-752f-4225-aaff-a727754236b5",
   "metadata": {},
   "outputs": [
    {
     "data": {
      "text/plain": [
       "int"
      ]
     },
     "execution_count": 48,
     "metadata": {},
     "output_type": "execute_result"
    }
   ],
   "source": [
    "numero = 22\n",
    "type (numero)"
   ]
  },
  {
   "cell_type": "code",
   "execution_count": null,
   "id": "26fd39d0-1839-4a72-8f75-6cc4b29dfc91",
   "metadata": {},
   "outputs": [
    {
     "data": {
      "text/plain": [
       "float"
      ]
     },
     "execution_count": 49,
     "metadata": {},
     "output_type": "execute_result"
    }
   ],
   "source": [
    "numero_real = 22.0\n",
    "type (numero_real)"
   ]
  },
  {
   "cell_type": "code",
   "execution_count": null,
   "id": "19b5f316-a7d6-47b5-913d-9f64049bdf8c",
   "metadata": {},
   "outputs": [
    {
     "data": {
      "text/plain": [
       "float"
      ]
     },
     "execution_count": 51,
     "metadata": {},
     "output_type": "execute_result"
    }
   ],
   "source": [
    "numero_real_decimales = 22.45123\n",
    "type (numero_real_decimales)"
   ]
  },
  {
   "cell_type": "code",
   "execution_count": null,
   "id": "bdbe2a38-9f81-41d9-b2bc-e0ea00dda3a0",
   "metadata": {},
   "outputs": [
    {
     "data": {
      "text/plain": [
       "22"
      ]
     },
     "execution_count": 52,
     "metadata": {},
     "output_type": "execute_result"
    }
   ],
   "source": [
    "12 + 10"
   ]
  },
  {
   "cell_type": "code",
   "execution_count": null,
   "id": "563d22d3-64f5-41e4-96ca-4d68aed13f76",
   "metadata": {},
   "outputs": [
    {
     "data": {
      "text/plain": [
       "-2"
      ]
     },
     "execution_count": 53,
     "metadata": {},
     "output_type": "execute_result"
    }
   ],
   "source": [
    "10 - 12"
   ]
  },
  {
   "cell_type": "code",
   "execution_count": null,
   "id": "3aebb6b8-4360-45df-9df5-0e2b10d5c0c4",
   "metadata": {},
   "outputs": [
    {
     "data": {
      "text/plain": [
       "1000000"
      ]
     },
     "execution_count": 54,
     "metadata": {},
     "output_type": "execute_result"
    }
   ],
   "source": [
    "100** 3"
   ]
  },
  {
   "cell_type": "code",
   "execution_count": null,
   "id": "721ac50b-48b3-44ed-ae67-f0398d4c0cd0",
   "metadata": {},
   "outputs": [
    {
     "data": {
      "text/plain": [
       "300"
      ]
     },
     "execution_count": 55,
     "metadata": {},
     "output_type": "execute_result"
    }
   ],
   "source": [
    "100 * 3"
   ]
  },
  {
   "cell_type": "code",
   "execution_count": null,
   "id": "1cd03b3b-8f99-4765-927d-5a8e16a77e3b",
   "metadata": {},
   "outputs": [
    {
     "name": "stdout",
     "output_type": "stream",
     "text": [
      "resto division\n",
      "3.3333333333333335\n",
      "3\n",
      "1\n",
      "3\n"
     ]
    }
   ],
   "source": [
    "print(\"resto division\")\n",
    "print(10 / 3) \n",
    "print(int(10/3))\n",
    "print(10%3)\n",
    "print(10//3)"
   ]
  },
  {
   "cell_type": "code",
   "execution_count": null,
   "id": "b9c6c899-39a0-42d4-88ff-d4175f767619",
   "metadata": {},
   "outputs": [
    {
     "name": "stdout",
     "output_type": "stream",
     "text": [
      "¿es 23205021 par?\n",
      "el resto es 1\n",
      "es impar\n"
     ]
    }
   ],
   "source": [
    "n = 23205021\n",
    "print(\"¿es\", n, \"par?\")\n",
    "resto = n % 2\n",
    "print(\"el resto es\", resto)\n",
    "if resto == 0:\n",
    "    print(\"es par\")\n",
    "else:\n",
    "    print(\"es impar\")"
   ]
  },
  {
   "cell_type": "markdown",
   "id": "f3d7059a-17a8-4a28-aeb1-c7029f28b49a",
   "metadata": {},
   "source": [
    "### Strings"
   ]
  },
  {
   "cell_type": "code",
   "execution_count": null,
   "id": "722bca4e-ba08-43eb-99e4-40976aa89814",
   "metadata": {},
   "outputs": [
    {
     "name": "stdout",
     "output_type": "stream",
     "text": [
      "string con 'simples'\n",
      "strings con \"dobles\"\n",
      "string con \"simples o dobles\"\n"
     ]
    }
   ],
   "source": [
    "print(\"string con 'simples'\")\n",
    "print('strings con \"dobles\"')\n",
    "print(\"string con \\\"simples o dobles\\\"\")"
   ]
  },
  {
   "cell_type": "code",
   "execution_count": null,
   "id": "69e5a719-ca64-446f-8bd8-33f88a60b630",
   "metadata": {},
   "outputs": [
    {
     "name": "stdout",
     "output_type": "stream",
     "text": [
      "primera linea\n",
      " segunda linea\n",
      "\tTercera linea, tabulada\n"
     ]
    }
   ],
   "source": [
    "print(\"primera linea\\n segunda linea\\n\\tTercera linea, tabulada\")"
   ]
  },
  {
   "cell_type": "code",
   "execution_count": null,
   "id": "17d93b82-14df-40b5-8148-98deac9384d5",
   "metadata": {},
   "outputs": [
    {
     "name": "stdout",
     "output_type": "stream",
     "text": [
      "primera linea\n",
      "Segunda linea\n",
      "\tTercera linea, tabulada\n"
     ]
    }
   ],
   "source": [
    "mi_string = \"primera linea\\nSegunda linea\\n\\tTercera linea, tabulada\"\n",
    "print(mi_string)"
   ]
  },
  {
   "cell_type": "code",
   "execution_count": null,
   "id": "b1b28ed3-6a63-4937-9459-9abf84b7cdeb",
   "metadata": {},
   "outputs": [
    {
     "name": "stdout",
     "output_type": "stream",
     "text": [
      "antonia scott\n"
     ]
    }
   ],
   "source": [
    "nombre = \"antonia\"\n",
    "apellido = \"scott\"\n",
    "\n",
    "nombre_apellido = nombre + \" \" +apellido\n",
    "print (nombre_apellido)"
   ]
  },
  {
   "cell_type": "code",
   "execution_count": null,
   "id": "8c2f8990-643d-497c-abdf-9373f8ae19ca",
   "metadata": {},
   "outputs": [
    {
     "ename": "TypeError",
     "evalue": "can only concatenate str (not \"int\") to str",
     "output_type": "error",
     "traceback": [
      "\u001b[1;31m---------------------------------------------------------------------------\u001b[0m",
      "\u001b[1;31mTypeError\u001b[0m                                 Traceback (most recent call last)",
      "Cell \u001b[1;32mIn[80], line 3\u001b[0m\n\u001b[0;32m      1\u001b[0m esto_es_una_prueba \u001b[38;5;241m=\u001b[39m \u001b[38;5;124m\"\u001b[39m\u001b[38;5;124mpues eso, que estamos jugando\u001b[39m\u001b[38;5;124m\"\u001b[39m\n\u001b[0;32m      2\u001b[0m un_entero \u001b[38;5;241m=\u001b[39m \u001b[38;5;241m100\u001b[39m\n\u001b[1;32m----> 3\u001b[0m \u001b[38;5;28mprint\u001b[39m(\u001b[43mesto_es_una_prueba\u001b[49m\u001b[43m \u001b[49m\u001b[38;5;241;43m+\u001b[39;49m\u001b[43m \u001b[49m\u001b[43mun_entero\u001b[49m)\n",
      "\u001b[1;31mTypeError\u001b[0m: can only concatenate str (not \"int\") to str"
     ]
    }
   ],
   "source": [
    "esto_es_una_prueba = \"pues eso, que estamos jugando\"\n",
    "un_entero = 100\n",
    "print(esto_es_una_prueba + un_entero)"
   ]
  },
  {
   "cell_type": "markdown",
   "id": "77e3412a-c0a9-4063-ba6b-baa304838819",
   "metadata": {},
   "source": [
    "### Booleano"
   ]
  },
  {
   "cell_type": "code",
   "execution_count": null,
   "id": "c2e64472-edef-4630-943b-8461fd693fba",
   "metadata": {},
   "outputs": [
    {
     "data": {
      "text/plain": [
       "bool"
      ]
     },
     "execution_count": 83,
     "metadata": {},
     "output_type": "execute_result"
    }
   ],
   "source": [
    "ya_se_de_ptython = False\n",
    "type(ya_se_de_ptython)"
   ]
  },
  {
   "cell_type": "code",
   "execution_count": null,
   "id": "2fce4c5c-8f35-479c-9224-9ccbb7100d88",
   "metadata": {},
   "outputs": [
    {
     "data": {
      "text/plain": [
       "False"
      ]
     },
     "execution_count": 85,
     "metadata": {},
     "output_type": "execute_result"
    }
   ],
   "source": [
    "dinerito = 5\n",
    "dinerito >= 15"
   ]
  },
  {
   "cell_type": "code",
   "execution_count": null,
   "id": "bb92ae35-0398-46e2-859d-674ae8ce8f8d",
   "metadata": {},
   "outputs": [
    {
     "name": "stdout",
     "output_type": "stream",
     "text": [
      "True\n",
      "<class 'bool'>\n"
     ]
    }
   ],
   "source": [
    "dinerito = 15\n",
    "condi_1 = dinerito >= 15\n",
    "print(condi_1)\n",
    "print(type(condi_1))"
   ]
  },
  {
   "cell_type": "markdown",
   "id": "48d29166-b71b-4efe-9d25-20d07399fddb",
   "metadata": {},
   "source": [
    "## Conversión de tipos"
   ]
  },
  {
   "cell_type": "code",
   "execution_count": null,
   "id": "2a33fb20-7aa8-4c1a-a180-22b46fd1e579",
   "metadata": {},
   "outputs": [
    {
     "name": "stdout",
     "output_type": "stream",
     "text": [
      "<class 'float'>\n",
      "24\n",
      "<class 'int'>\n"
     ]
    }
   ],
   "source": [
    "num_real = 24.69\n",
    "print(type(num_real))\n",
    "\n",
    "num_ent = int(num_real)\n",
    "print(num_ent)\n",
    "print(type(num_ent))"
   ]
  },
  {
   "cell_type": "code",
   "execution_count": null,
   "id": "87ad047e-ee71-4100-ac72-ff99cbcc97ae",
   "metadata": {},
   "outputs": [],
   "source": [
    "num_real = 24.686\n",
    "num_redondeado = round(num_real,2)"
   ]
  },
  {
   "cell_type": "code",
   "execution_count": null,
   "id": "b705dac0-9bbf-4024-8afb-47f1b536613b",
   "metadata": {},
   "outputs": [
    {
     "data": {
      "text/plain": [
       "24.69"
      ]
     },
     "execution_count": 92,
     "metadata": {},
     "output_type": "execute_result"
    }
   ],
   "source": [
    "num_redondeado"
   ]
  },
  {
   "cell_type": "code",
   "execution_count": null,
   "id": "2fec0d08-246c-4516-830a-510cc1db3b6a",
   "metadata": {},
   "outputs": [],
   "source": [
    "num_redondeado = 24.69\n",
    "num_convertido = round(num_redondeado, 0)"
   ]
  },
  {
   "cell_type": "code",
   "execution_count": null,
   "id": "bcb0f70a-eb71-4fc3-a7fb-0543e6d59cf9",
   "metadata": {},
   "outputs": [
    {
     "name": "stdout",
     "output_type": "stream",
     "text": [
      "<class 'float'>\n"
     ]
    }
   ],
   "source": [
    "print(type(num_convertido))"
   ]
  },
  {
   "cell_type": "code",
   "execution_count": null,
   "id": "1e77f1e2-bd8a-4e35-bada-10efc851fdc6",
   "metadata": {},
   "outputs": [
    {
     "data": {
      "text/plain": [
       "25.0"
      ]
     },
     "execution_count": 95,
     "metadata": {},
     "output_type": "execute_result"
    }
   ],
   "source": [
    "num_convertido"
   ]
  },
  {
   "cell_type": "code",
   "execution_count": null,
   "id": "77b70e0b-d55d-4546-a23c-8b3a15e989f1",
   "metadata": {},
   "outputs": [
    {
     "name": "stdout",
     "output_type": "stream",
     "text": [
      "24.69 su tipo <class 'str'>\n",
      "12 su tipo <class 'str'>\n"
     ]
    }
   ],
   "source": [
    "num_real = 24.69\n",
    "num_entero = 12\n",
    "\n",
    "real_str = str(num_real)\n",
    "entero_str = str(num_entero)\n",
    "\n",
    "print(real_str, \"su tipo\", type(real_str))\n",
    "print(entero_str, \"su tipo\", type(entero_str))"
   ]
  },
  {
   "cell_type": "code",
   "execution_count": null,
   "id": "71d79c5c-f36a-4f75-9cf2-f5c387959204",
   "metadata": {},
   "outputs": [
    {
     "name": "stdout",
     "output_type": "stream",
     "text": [
      "36.69\n",
      "24.6912\n"
     ]
    }
   ],
   "source": [
    "print(num_real + num_entero)\n",
    "print(real_str + entero_str)"
   ]
  },
  {
   "cell_type": "code",
   "execution_count": null,
   "id": "c7411a73-78af-4f7e-909c-35345c0d5172",
   "metadata": {},
   "outputs": [
    {
     "name": "stdout",
     "output_type": "stream",
     "text": [
      "98\n"
     ]
    }
   ],
   "source": [
    "mi_entero = 98\n",
    "print(mi_entero)"
   ]
  },
  {
   "cell_type": "code",
   "execution_count": null,
   "id": "0af354b6-ebbd-4461-a5a1-758260104195",
   "metadata": {},
   "outputs": [
    {
     "name": "stdout",
     "output_type": "stream",
     "text": [
      "98 <class 'str'>\n",
      "98 <class 'int'>\n"
     ]
    }
   ],
   "source": [
    "mi_cadena = \"98\"\n",
    "mi_entero = int(mi_cadena)\n",
    "print(mi_cadena, type(mi_cadena))\n",
    "print(mi_entero, type(mi_entero))\n",
    "\n",
    "mi_cadena_real = \"98.33\"\n",
    "mi_real = float(mi_cadena_real)"
   ]
  },
  {
   "cell_type": "code",
   "execution_count": null,
   "id": "97df8cea-8558-405c-8518-df434c83397a",
   "metadata": {},
   "outputs": [
    {
     "name": "stdout",
     "output_type": "stream",
     "text": [
      "98.33 <class 'float'>\n"
     ]
    }
   ],
   "source": [
    "print(mi_real, type(mi_real))"
   ]
  },
  {
   "cell_type": "code",
   "execution_count": null,
   "id": "367fa793-e302-47ec-bf5f-25aecfaa0f54",
   "metadata": {},
   "outputs": [
    {
     "name": "stdout",
     "output_type": "stream",
     "text": [
      "True <class 'bool'>\n"
     ]
    }
   ],
   "source": [
    "booleano = bool(123)\n",
    "print(booleano, type(booleano))"
   ]
  },
  {
   "cell_type": "code",
   "execution_count": null,
   "id": "1f79f404-6f62-4b7f-ac34-7a57c0676ae0",
   "metadata": {},
   "outputs": [
    {
     "name": "stdout",
     "output_type": "stream",
     "text": [
      "False <class 'bool'>\n"
     ]
    }
   ],
   "source": [
    "booleano = bool(0)\n",
    "print(booleano, type(booleano))"
   ]
  },
  {
   "cell_type": "code",
   "execution_count": null,
   "id": "9644ce96-72d3-425e-beec-85877bec930e",
   "metadata": {},
   "outputs": [
    {
     "name": "stdout",
     "output_type": "stream",
     "text": [
      "False <class 'bool'>\n",
      "True <class 'bool'>\n"
     ]
    }
   ],
   "source": [
    "booleano = bool(\"\")\n",
    "booleano_2 = bool(\"esto es otro tipo\")\n",
    "print(booleano, type(booleano))\n",
    "print(booleano_2, type(booleano_2))"
   ]
  },
  {
   "cell_type": "code",
   "execution_count": null,
   "id": "fa4b71d7-04ad-444f-9dba-1ddc6f185df4",
   "metadata": {},
   "outputs": [],
   "source": [
    "bool_str = str(booleano)\n",
    "booleano_2 = str(booleano_2)"
   ]
  },
  {
   "cell_type": "code",
   "execution_count": null,
   "id": "f3adc8c3-2837-48af-b690-93b6ba20f799",
   "metadata": {},
   "outputs": [
    {
     "data": {
      "text/plain": [
       "'False'"
      ]
     },
     "execution_count": 112,
     "metadata": {},
     "output_type": "execute_result"
    }
   ],
   "source": [
    "bool_str"
   ]
  },
  {
   "cell_type": "code",
   "execution_count": null,
   "id": "1c29cabe-eba6-4572-a657-e20cffc1676f",
   "metadata": {},
   "outputs": [
    {
     "data": {
      "text/plain": [
       "'True'"
      ]
     },
     "execution_count": 113,
     "metadata": {},
     "output_type": "execute_result"
    }
   ],
   "source": [
    "booleano_2"
   ]
  },
  {
   "cell_type": "code",
   "execution_count": null,
   "id": "6839dccc-5bdc-4f55-a5e2-26e28abc96a8",
   "metadata": {},
   "outputs": [
    {
     "ename": "ValueError",
     "evalue": "could not convert string to float: '68,24'",
     "output_type": "error",
     "traceback": [
      "\u001b[1;31m---------------------------------------------------------------------------\u001b[0m",
      "\u001b[1;31mValueError\u001b[0m                                Traceback (most recent call last)",
      "Cell \u001b[1;32mIn[1], line 2\u001b[0m\n\u001b[0;32m      1\u001b[0m real_str \u001b[38;5;241m=\u001b[39m \u001b[38;5;124m\"\u001b[39m\u001b[38;5;124m68,24\u001b[39m\u001b[38;5;124m\"\u001b[39m\n\u001b[1;32m----> 2\u001b[0m real \u001b[38;5;241m=\u001b[39m \u001b[38;5;28;43mfloat\u001b[39;49m\u001b[43m(\u001b[49m\u001b[43mreal_str\u001b[49m\u001b[43m)\u001b[49m\n",
      "\u001b[1;31mValueError\u001b[0m: could not convert string to float: '68,24'"
     ]
    }
   ],
   "source": [
    "real_str = \"68,24\"\n",
    "real = float(real_str)"
   ]
  },
  {
   "cell_type": "code",
   "execution_count": null,
   "id": "3f970655-061d-4937-a702-8f39514dcbd4",
   "metadata": {},
   "outputs": [
    {
     "data": {
      "text/plain": [
       "'68.24'"
      ]
     },
     "execution_count": 2,
     "metadata": {},
     "output_type": "execute_result"
    }
   ],
   "source": [
    "real_str.replace(\",\",\".\")"
   ]
  },
  {
   "cell_type": "code",
   "execution_count": null,
   "id": "7b69a184-916d-40e7-8303-0edeeeaf7dee",
   "metadata": {},
   "outputs": [
    {
     "name": "stdout",
     "output_type": "stream",
     "text": [
      "<class 'str'>\n"
     ]
    }
   ],
   "source": [
    "nuevo_str = real_str.replace(\",\",\".\")\n",
    "print(type(nuevo_str))"
   ]
  },
  {
   "cell_type": "code",
   "execution_count": null,
   "id": "f42d0ec9-dc39-4f14-9951-783611edc270",
   "metadata": {},
   "outputs": [
    {
     "name": "stdout",
     "output_type": "stream",
     "text": [
      "<class 'str'>\n"
     ]
    }
   ],
   "source": [
    "real = float(nuevo_str)\n",
    "print(type(nuevo_str))"
   ]
  },
  {
   "cell_type": "markdown",
   "id": "c97ff125-b260-49a9-b41d-f9dc32ab0e4a",
   "metadata": {},
   "source": [
    "### Imput"
   ]
  },
  {
   "cell_type": "code",
   "execution_count": null,
   "id": "6ba86ae8-c6ae-408e-9227-471c16c6d7ba",
   "metadata": {},
   "outputs": [
    {
     "name": "stdout",
     "output_type": "stream",
     "text": [
      "escribeme algo mi arma 98\n"
     ]
    }
   ],
   "source": [
    "primer_imput = input(\"escribeme algo mi arma\")"
   ]
  },
  {
   "cell_type": "code",
   "execution_count": null,
   "id": "b28e47ac-978c-4c93-b7e1-23337cc5f78a",
   "metadata": {},
   "outputs": [
    {
     "data": {
      "text/plain": [
       "'98'"
      ]
     },
     "execution_count": 8,
     "metadata": {},
     "output_type": "execute_result"
    }
   ],
   "source": [
    "primer_imput"
   ]
  },
  {
   "cell_type": "code",
   "execution_count": null,
   "id": "fb8607aa-89f8-4b82-91dc-39f342e61fd0",
   "metadata": {},
   "outputs": [
    {
     "name": "stdout",
     "output_type": "stream",
     "text": [
      "Como te llamas Bryan\n"
     ]
    },
    {
     "name": "stdout",
     "output_type": "stream",
     "text": [
      "encantado de conocerte Bryan\n"
     ]
    },
    {
     "name": "stdout",
     "output_type": "stream",
     "text": [
      "Y, ¿que te parece este magnifico video? genial\n"
     ]
    },
    {
     "name": "stdout",
     "output_type": "stream",
     "text": [
      "coincido\n"
     ]
    }
   ],
   "source": [
    "nombre = input(\"Como te llamas\")\n",
    "print(\"encantado de conocerte\", nombre)\n",
    "preferencias = input(\"Y, ¿que te parece este magnifico video?\")\n",
    "print(\"coincido\")\n",
    "                     "
   ]
  },
  {
   "cell_type": "markdown",
   "id": "70f02bef-3c4f-4b17-bfbe-2b45b0d03acc",
   "metadata": {},
   "source": [
    "### Nome"
   ]
  },
  {
   "cell_type": "code",
   "execution_count": null,
   "id": "32b5277a-2ece-4a5b-b97b-4db7d5a6cc3e",
   "metadata": {},
   "outputs": [
    {
     "name": "stdout",
     "output_type": "stream",
     "text": [
      "None\n"
     ]
    }
   ],
   "source": [
    "print(None)"
   ]
  },
  {
   "cell_type": "code",
   "execution_count": null,
   "id": "679fbc9d-3d70-4c26-9d52-4bb9b71ffbb0",
   "metadata": {},
   "outputs": [
    {
     "data": {
      "text/plain": [
       "False"
      ]
     },
     "execution_count": 14,
     "metadata": {},
     "output_type": "execute_result"
    }
   ],
   "source": [
    "\"\" == None"
   ]
  },
  {
   "cell_type": "code",
   "execution_count": null,
   "id": "faa10cd3-ada9-4ff1-b66c-29d3e2ebda46",
   "metadata": {},
   "outputs": [
    {
     "data": {
      "text/plain": [
       "False"
      ]
     },
     "execution_count": 15,
     "metadata": {},
     "output_type": "execute_result"
    }
   ],
   "source": [
    "0 == None"
   ]
  },
  {
   "cell_type": "code",
   "execution_count": null,
   "id": "886826b4-226c-4bd3-adf5-c21975acab8e",
   "metadata": {},
   "outputs": [
    {
     "data": {
      "text/plain": [
       "False"
      ]
     },
     "execution_count": 16,
     "metadata": {},
     "output_type": "execute_result"
    }
   ],
   "source": [
    "False == None"
   ]
  },
  {
   "cell_type": "code",
   "execution_count": null,
   "id": "d2f864c7-1892-46bc-9b5f-129cb0e65109",
   "metadata": {},
   "outputs": [
    {
     "name": "stdout",
     "output_type": "stream",
     "text": [
      "The Zen of Python, by Tim Peters\n",
      "\n",
      "Beautiful is better than ugly.\n",
      "Explicit is better than implicit.\n",
      "Simple is better than complex.\n",
      "Complex is better than complicated.\n",
      "Flat is better than nested.\n",
      "Sparse is better than dense.\n",
      "Readability counts.\n",
      "Special cases aren't special enough to break the rules.\n",
      "Although practicality beats purity.\n",
      "Errors should never pass silently.\n",
      "Unless explicitly silenced.\n",
      "In the face of ambiguity, refuse the temptation to guess.\n",
      "There should be one-- and preferably only one --obvious way to do it.\n",
      "Although that way may not be obvious at first unless you're Dutch.\n",
      "Now is better than never.\n",
      "Although never is often better than *right* now.\n",
      "If the implementation is hard to explain, it's a bad idea.\n",
      "If the implementation is easy to explain, it may be a good idea.\n",
      "Namespaces are one honking great idea -- let's do more of those!\n"
     ]
    }
   ],
   "source": [
    "import this"
   ]
  },
  {
   "cell_type": "markdown",
   "id": "1fbf006f-a716-49c3-93da-c902a5b2190d",
   "metadata": {},
   "source": [
    "## Funciones Built in"
   ]
  },
  {
   "cell_type": "code",
   "execution_count": null,
   "id": "b2801c44-86cc-446f-b5fc-f645ca1b7045",
   "metadata": {},
   "outputs": [
    {
     "name": "stdout",
     "output_type": "stream",
     "text": [
      "30\n",
      "85\n"
     ]
    }
   ],
   "source": [
    "# Función len\n",
    "print(len(\"esto es una cadena de longitud\"))\n",
    "# funcion Max\n",
    "print(max(1,12,85,36,25,78,33))"
   ]
  },
  {
   "cell_type": "code",
   "execution_count": null,
   "id": "10869da0-07ff-4b4e-8401-b1543fa4b297",
   "metadata": {},
   "outputs": [
    {
     "name": "stdout",
     "output_type": "stream",
     "text": [
      "la longitud de esta cadena es**text**29**text**yno es un float_esto es otra linea\n"
     ]
    }
   ],
   "source": [
    "cadena = \"la longitud de esta cadena es\"\n",
    "print( cadena, len(cadena), \"y no es un float\", sep =\"**text**\", end = \"_\")\n",
    "print(\"esto es otra linea\")"
   ]
  },
  {
   "cell_type": "markdown",
   "id": "8a863447-a9de-4294-b389-565be5ca8a1c",
   "metadata": {},
   "source": [
    "### Métodos\n"
   ]
  },
  {
   "cell_type": "code",
   "execution_count": null,
   "id": "0a85b898-dc4b-4839-80d2-c006585346f8",
   "metadata": {},
   "outputs": [
    {
     "name": "stdout",
     "output_type": "stream",
     "text": [
      "STRING EN MINUSCULA\n",
      "esto es un ejemplo diferente\n",
      "ejemplo diferente\n",
      "Ctring en minuCcula\n",
      "string en minuscula\n",
      "tring en minucula\n",
      "['esto', 'se', 'va', 'convertir', 'en', 'una', 'lista', 'de', 'strings']\n",
      "4\n"
     ]
    }
   ],
   "source": [
    "sting_ejemplo = \"string en minuscula\"\n",
    "\n",
    "# METODO PARA PONER TODO EN MAYUSCULA (UPPER)\n",
    "print(sting_ejemplo.upper())\n",
    "\n",
    "# metodo todo minuscila (LOWER) \n",
    "\n",
    "print(\"ESTO ES UN EJEMPLO DIFERENTE\".lower())\n",
    "string_2 = \"EJEMPLO DIFERENTE\"\n",
    "print(string_2.lower())\n",
    "\n",
    "# METODO PARA REEMPLAZAR CARACTER O VARIOS\n",
    "\n",
    "print(sting_ejemplo.replace(\"s\", \"C\"))\n",
    "print(sting_ejemplo.replace(\"mayuscula\" , \"minuscula\"))\n",
    "print(sting_ejemplo.replace(\"s\", \"\"))\n",
    "\n",
    "# METODO PARA CONVERTIR UN STRING EN LISTA\n",
    "print(\"esto se va convertir en una lista de strings\".split(\" \"))\n",
    "\n",
    "# METODO PARA CONOCER LA POSICION DENTRO DE UN STRING\n",
    "\n",
    "print(sting_ejemplo.index(\"n\"))"
   ]
  },
  {
   "cell_type": "markdown",
   "id": "c1941733-5054-4add-97ac-d5f787d1607a",
   "metadata": {},
   "source": [
    "## Listas"
   ]
  },
  {
   "cell_type": "code",
   "execution_count": null,
   "id": "59d5c9b2-84c3-443c-a1e7-6a25b4070870",
   "metadata": {},
   "outputs": [
    {
     "name": "stdout",
     "output_type": "stream",
     "text": [
      "[1, 3, 5, 6]\n",
      "<class 'list'>\n"
     ]
    }
   ],
   "source": [
    "# lista de números\n",
    "numeros = [1, 3, 5, 6]\n",
    "print(numeros)\n",
    "print(type(numeros))"
   ]
  },
  {
   "cell_type": "code",
   "execution_count": null,
   "id": "c650aa43-1817-4650-aaf8-b7db832cbabf",
   "metadata": {},
   "outputs": [
    {
     "name": "stdout",
     "output_type": "stream",
     "text": [
      "['esto', 'es', 'una', 'lista']\n"
     ]
    }
   ],
   "source": [
    "# lista de strings\n",
    "stringd = [\"esto\", \"es\", \"una\", \"lista\"]\n",
    "print(stringd)"
   ]
  },
  {
   "cell_type": "code",
   "execution_count": null,
   "id": "1edd1e2a-5a7f-44b4-884a-e83ee80268fa",
   "metadata": {},
   "outputs": [
    {
     "name": "stdout",
     "output_type": "stream",
     "text": [
      "['esto es', 12, -3, -5, True, False, 'lista']\n"
     ]
    }
   ],
   "source": [
    "# lista de tipos mezclados\n",
    "\n",
    "mix = [\"esto es\", 12, -3, -5, True, False, \"lista\"]\n",
    "print(mix)\n"
   ]
  },
  {
   "cell_type": "code",
   "execution_count": null,
   "id": "a1f2c916-5a38-4a5a-9b25-6e64ca94acc3",
   "metadata": {},
   "outputs": [
    {
     "data": {
      "text/plain": [
       "['esto es', 12, 15, [True, False, 15], 'ok']"
      ]
     },
     "execution_count": 30,
     "metadata": {},
     "output_type": "execute_result"
    }
   ],
   "source": [
    "# lista dentro de listas\n",
    "\n",
    "listas = [\"esto es\", 12, 15, [True, False, 15], \"ok\"]\n",
    "listas"
   ]
  },
  {
   "cell_type": "code",
   "execution_count": null,
   "id": "7f1aefdb-6f43-4ca4-adfb-af14092c7673",
   "metadata": {},
   "outputs": [
    {
     "data": {
      "text/plain": [
       "5"
      ]
     },
     "execution_count": 31,
     "metadata": {},
     "output_type": "execute_result"
    }
   ],
   "source": [
    "len(listas)"
   ]
  },
  {
   "cell_type": "code",
   "execution_count": null,
   "id": "b41c8ee4-2be8-4d77-a42d-22aa488a4d4d",
   "metadata": {},
   "outputs": [
    {
     "name": "stdout",
     "output_type": "stream",
     "text": [
      "['esto es', 12, -3, -5, True, False, 'lista', 'esto es', 12, 15, [True, False, 15], 'ok']\n",
      "<class 'list'>\n"
     ]
    }
   ],
   "source": [
    "concatenacion = mix + listas\n",
    "print(concatenacion)\n",
    "print(type(concatenacion))"
   ]
  },
  {
   "cell_type": "code",
   "execution_count": null,
   "id": "504e9edc-71b7-40d1-9ba7-3d14d3815596",
   "metadata": {},
   "outputs": [
    {
     "name": "stdout",
     "output_type": "stream",
     "text": [
      "esto\n",
      "nuevo\n",
      "32\n"
     ]
    }
   ],
   "source": [
    "lista_ejemplo = [\"esto\", 2, 32, \"patata\", \"nuevo\"]\n",
    "print(lista_ejemplo[0])\n",
    "print(lista_ejemplo[-1])\n",
    "print(lista_ejemplo[2])"
   ]
  },
  {
   "cell_type": "markdown",
   "id": "84e187bc-3003-44ff-8bc0-aafa70b0e194",
   "metadata": {},
   "source": [
    "## Metodo en listas"
   ]
  },
  {
   "cell_type": "code",
   "execution_count": null,
   "id": "c3194bff-19b1-4f01-9768-8dfa78afc647",
   "metadata": {},
   "outputs": [
    {
     "name": "stdout",
     "output_type": "stream",
     "text": [
      "['cuchara', 'cuchara', 'esto es', 12, -3, -5, True, False, 'lista', 'coche', 'coche', 'coche', 'coche', 'coche', 'coche']\n",
      "['cuchara', 'cuchara', 'cuchara', 'esto es', 12, -3, -5, True, False, 'lista', 'coche', 'coche', 'coche', 'coche', 'coche', 'coche']\n",
      "['cuchara', 'cuchara', 'esto es', 12, -3, -5, True, False, 'lista', 'coche', 'coche', 'coche', 'coche', 'coche', 'coche']\n",
      "['cuchara', 'cuchara', 'esto es', 12, -3, -5, True, False, 'lista', 'coche', 'coche', 'coche', 'coche', 'coche']\n",
      "['cuchara', 'cuchara', 'esto es', 12, -3, -5, True, False, 'lista', 'coche', 'coche', 'coche', 'coche', 'coche']\n"
     ]
    }
   ],
   "source": [
    "# Añadir elementos\n",
    "mix.append(\"coche\")\n",
    "print(mix)\n",
    "\n",
    "# añadir elementos en una posicion determinada\n",
    "\n",
    "mix.insert(1,\"cuchara\")\n",
    "print(mix)\n",
    "\n",
    "# quitar elementos\n",
    "# mix.clear()\n",
    "\n",
    "# quitar elemento desde su posición\n",
    "mix.pop(1)\n",
    "print(mix)\n",
    "\n",
    "#quitar elemento por su valor\n",
    "\n",
    "mix.remove(\"coche\")\n",
    "print(mix)\n",
    "\n",
    "# ordenar la lista\n",
    "# mix.sort() EN ESTE CASO NO LO HIZO BIEN PORQUE EXISTEN NÚMEROS \n",
    "print(mix)"
   ]
  },
  {
   "cell_type": "markdown",
   "id": "3aed9c76-00bc-4313-b775-e5590b1ce470",
   "metadata": {},
   "source": [
    "## listas y colecciones"
   ]
  },
  {
   "cell_type": "code",
   "execution_count": null,
   "id": "294237e1-b1a7-4eb3-8b61-608a4d49f532",
   "metadata": {},
   "outputs": [],
   "source": [
    "# lista de números, string, bool\n",
    "\n",
    "nums= [6,2,6,3,8]\n",
    "months= [\"enero\",\"febrero\", \",marzo\", \"abril\"]\n",
    "mix= [5,7,8,\"abril\", True, None, [\"blanco\", \"negro\"]]"
   ]
  },
  {
   "cell_type": "code",
   "execution_count": null,
   "id": "b33f9c8c-d6f0-4219-a424-23599d4de1cb",
   "metadata": {},
   "outputs": [
    {
     "name": "stdout",
     "output_type": "stream",
     "text": [
      "2\n"
     ]
    }
   ],
   "source": [
    "print(nums[1])"
   ]
  },
  {
   "cell_type": "code",
   "execution_count": null,
   "id": "3619790c-c114-4e9d-b413-67d20184a812",
   "metadata": {},
   "outputs": [
    {
     "name": "stdout",
     "output_type": "stream",
     "text": [
      "1\n"
     ]
    }
   ],
   "source": [
    "print(months.index(\"febrero\"))"
   ]
  },
  {
   "cell_type": "code",
   "execution_count": null,
   "id": "6bf52863-be10-4168-b009-5f3770b5b247",
   "metadata": {},
   "outputs": [
    {
     "name": "stdout",
     "output_type": "stream",
     "text": [
      "[35, 36]\n",
      "[35, 36, 3]\n",
      "[35, 36, 3, 38, 39, 40]\n",
      "[35, 36, 3, 38, 39, 40]\n"
     ]
    }
   ],
   "source": [
    "degrees=[22,35,36,3,38,39,40]\n",
    "sub_des= degrees[1:3] #ojo no se incluye el ultyimo indice del anterior\n",
    "print(sub_des)\n",
    "sub_des= degrees[1:4]\n",
    "print(sub_des)\n",
    "sub_des1=degrees[1:len(degrees)]\n",
    "sub_des2=degrees[1:]\n",
    "print(sub_des1)\n",
    "print(sub_des2)\n"
   ]
  },
  {
   "cell_type": "code",
   "execution_count": null,
   "id": "b8748319-e3bb-4bc8-8682-b613b39154f6",
   "metadata": {},
   "outputs": [
    {
     "name": "stdout",
     "output_type": "stream",
     "text": [
      "['enero', 'Abril', 'marzo', 'abril']\n"
     ]
    }
   ],
   "source": [
    "#modificar elementos\n",
    "\n",
    "months = [\"enero\", \"febrero\", \"marzo\", \"abril\"]\n",
    "months[1]= \"Abril\"\n",
    "print(months)"
   ]
  },
  {
   "cell_type": "code",
   "execution_count": null,
   "id": "6ee29bed-1876-4efc-8108-10d1cebdb30a",
   "metadata": {},
   "outputs": [
    {
     "name": "stdout",
     "output_type": "stream",
     "text": [
      "['honda', 'yamaha', 'suzuki', 'kawasaki']\n",
      "['honda', 'yamaha', 'suzuki', 'bultaco', 'kawasaki']\n"
     ]
    }
   ],
   "source": [
    "# añadir elementos\n",
    "motocicletas = [\"honda\", \"yamaha\", \"suzuki\"]\n",
    "motocicletas.append(\"kawasaki\")\n",
    "print(motocicletas)\n",
    "motocicletas.insert(3, \"bultaco\")\n",
    "print(motocicletas)"
   ]
  },
  {
   "cell_type": "code",
   "execution_count": null,
   "id": "a610b0e7-2fac-421c-a1c3-be8c3cb87b2e",
   "metadata": {},
   "outputs": [
    {
     "name": "stdout",
     "output_type": "stream",
     "text": [
      "['seat', 'toyota', 'bmw', 'wv']\n"
     ]
    }
   ],
   "source": [
    "# eliminar elementos  (remove) (pop)\n",
    "cars=[\"ws\", \"seat\", \"toyota\", \"bmw\", \"wv\"]\n",
    "cars.remove (\"ws\")\n",
    "print(cars)\n"
   ]
  },
  {
   "cell_type": "code",
   "execution_count": null,
   "id": "8e5208ec-12a4-42b6-bc4a-72c9668ba68d",
   "metadata": {},
   "outputs": [
    {
     "name": "stdout",
     "output_type": "stream",
     "text": [
      "['ws', 'toyota', 'bmw', 'wv']\n",
      "seat\n"
     ]
    }
   ],
   "source": [
    "cars=[\"ws\", \"seat\", \"toyota\", \"bmw\", \"wv\"]\n",
    "eliminado = cars.pop(1)\n",
    "print(cars)\n",
    "print(eliminado)"
   ]
  },
  {
   "cell_type": "code",
   "execution_count": null,
   "id": "1f3dfdf0-7ca5-4526-87d0-3323565b8df1",
   "metadata": {},
   "outputs": [
    {
     "ename": "ValueError",
     "evalue": "list.remove(x): x not in list",
     "output_type": "error",
     "traceback": [
      "\u001b[1;31m---------------------------------------------------------------------------\u001b[0m",
      "\u001b[1;31mValueError\u001b[0m                                Traceback (most recent call last)",
      "Cell \u001b[1;32mIn[35], line 2\u001b[0m\n\u001b[0;32m      1\u001b[0m cars\u001b[38;5;241m=\u001b[39m[\u001b[38;5;124m\"\u001b[39m\u001b[38;5;124mws\u001b[39m\u001b[38;5;124m\"\u001b[39m, \u001b[38;5;124m\"\u001b[39m\u001b[38;5;124mseat\u001b[39m\u001b[38;5;124m\"\u001b[39m, \u001b[38;5;124m\"\u001b[39m\u001b[38;5;124mtoyota\u001b[39m\u001b[38;5;124m\"\u001b[39m, \u001b[38;5;124m\"\u001b[39m\u001b[38;5;124mbmw\u001b[39m\u001b[38;5;124m\"\u001b[39m, \u001b[38;5;124m\"\u001b[39m\u001b[38;5;124mwv\u001b[39m\u001b[38;5;124m\"\u001b[39m]\n\u001b[1;32m----> 2\u001b[0m \u001b[43mcars\u001b[49m\u001b[38;5;241;43m.\u001b[39;49m\u001b[43mremove\u001b[49m\u001b[43m \u001b[49m\u001b[43m(\u001b[49m\u001b[38;5;124;43m\"\u001b[39;49m\u001b[38;5;124;43mtesla\u001b[39;49m\u001b[38;5;124;43m\"\u001b[39;49m\u001b[43m)\u001b[49m\n",
      "\u001b[1;31mValueError\u001b[0m: list.remove(x): x not in list"
     ]
    }
   ],
   "source": [
    "cars=[\"ws\", \"seat\", \"toyota\", \"bmw\", \"wv\"]\n",
    "cars.remove (\"tesla\")"
   ]
  },
  {
   "cell_type": "code",
   "execution_count": null,
   "id": "2d0b09ce-0141-406d-8604-39235a466095",
   "metadata": {},
   "outputs": [
    {
     "name": "stdout",
     "output_type": "stream",
     "text": [
      "[1, 21, 22, 30, 45, 70, 85, 90]\n",
      "[90, 85, 70, 45, 30, 22, 21, 1]\n",
      "8\n",
      "[1, 21, 22, 30, 45, 70, 85, 90]\n",
      "1\n"
     ]
    }
   ],
   "source": [
    "degrees= [22,30,21,45,85,70,90,1]\n",
    " #ordenar de forma ascendente\n",
    "degrees.sort()\n",
    "print(degrees)\n",
    "#mayor a menor\n",
    "degrees.sort(reverse=True)\n",
    "print(degrees)\n",
    "\n",
    "#contar numero de elementos\n",
    "print(len(degrees))\n",
    "\n",
    "#invertir el orden\n",
    "\n",
    "degrees.reverse()\n",
    "print(degrees)\n",
    "\n",
    "#ocurrencia es el numero de veces en una lista\n",
    "print(degrees.count(21))"
   ]
  },
  {
   "cell_type": "code",
   "execution_count": null,
   "id": "9a65f44b-03dd-4633-8b95-d3384ffbd2bb",
   "metadata": {},
   "outputs": [
    {
     "data": {
      "text/plain": [
       "1"
      ]
     },
     "execution_count": 52,
     "metadata": {},
     "output_type": "execute_result"
    }
   ],
   "source": [
    "degrees= [22,30,21,45,85,70,90,1]\n",
    "ultimo_elemento= degrees[len(degrees) -1]\n",
    "ultimo_elemento"
   ]
  },
  {
   "cell_type": "markdown",
   "id": "22933d77-3502-4707-97ef-af10c1b9df50",
   "metadata": {},
   "source": [
    "## tuplas"
   ]
  },
  {
   "cell_type": "code",
   "execution_count": null,
   "id": "099051ab-1293-499c-a6b2-11c508cf43a9",
   "metadata": {},
   "outputs": [
    {
     "name": "stdout",
     "output_type": "stream",
     "text": [
      "(3, 'testo') <class 'tuple'>\n"
     ]
    }
   ],
   "source": [
    "tupla_ejemplo = (3,\"testo\")\n",
    "print(tupla_ejemplo,type(tupla_ejemplo))\n"
   ]
  },
  {
   "cell_type": "code",
   "execution_count": null,
   "id": "0180e09f-22fb-4563-9f70-825e3d033c51",
   "metadata": {},
   "outputs": [
    {
     "name": "stdout",
     "output_type": "stream",
     "text": [
      "el primer elemento es 3\n",
      "el segundo elemento es testo\n"
     ]
    }
   ],
   "source": [
    "print(\"el primer elemento es\", tupla_ejemplo[0])\n",
    "print(\"el segundo elemento es\", tupla_ejemplo[1])"
   ]
  },
  {
   "cell_type": "code",
   "execution_count": null,
   "id": "05afe10e-4a85-4725-a1c6-c91631625aaa",
   "metadata": {},
   "outputs": [
    {
     "name": "stdout",
     "output_type": "stream",
     "text": [
      "24 <class 'int'>\n",
      "(24,) <class 'tuple'>\n"
     ]
    }
   ],
   "source": [
    "mala_tupla = (24)\n",
    "print(mala_tupla, type(mala_tupla))\n",
    "buena_tupla = (24,)\n",
    "print(buena_tupla, type(buena_tupla))"
   ]
  },
  {
   "cell_type": "code",
   "execution_count": null,
   "id": "a17abe0b-98e7-48c6-865e-abdd1b0b17b2",
   "metadata": {},
   "outputs": [
    {
     "name": "stdout",
     "output_type": "stream",
     "text": [
      "(1, 2, 3, ('a', 'b', 'c'))\n",
      "4\n"
     ]
    }
   ],
   "source": [
    "#añadir tupla\n",
    "tupla_aind= (1,2,3, (\"a\",\"b\",\"c\",))\n",
    "print(tupla_aind)\n",
    "print(len(tupla_aind))"
   ]
  },
  {
   "cell_type": "code",
   "execution_count": null,
   "id": "78841cbe-f9a9-4320-aa07-9ee328b9e95e",
   "metadata": {},
   "outputs": [
    {
     "name": "stdout",
     "output_type": "stream",
     "text": [
      "3\n",
      "b\n"
     ]
    }
   ],
   "source": [
    "print(tupla_aind[2])\n",
    "print(tupla_aind[3][1])"
   ]
  },
  {
   "cell_type": "code",
   "execution_count": null,
   "id": "c0850755-3893-4791-9a47-e6ba83b5171d",
   "metadata": {},
   "outputs": [
    {
     "name": "stdout",
     "output_type": "stream",
     "text": [
      "1\n",
      "2\n",
      "3\n",
      "('a', 'b', 'c')\n"
     ]
    }
   ],
   "source": [
    "# SON ITERABLES \n",
    "for i in tupla_aind:\n",
    "    print(i)"
   ]
  },
  {
   "cell_type": "code",
   "execution_count": null,
   "id": "f02903cb-e988-44cd-bb8d-073dfbd8f7e3",
   "metadata": {},
   "outputs": [
    {
     "name": "stdout",
     "output_type": "stream",
     "text": [
      "(3, ('a', 'b', 'c'))\n"
     ]
    }
   ],
   "source": [
    "# slicing\n",
    "tupla_bis= tupla_aind[2:]\n",
    "print(tupla_bis)"
   ]
  },
  {
   "cell_type": "code",
   "execution_count": null,
   "id": "725ce1bd-9017-46ec-b930-2002d83cddfb",
   "metadata": {},
   "outputs": [
    {
     "name": "stdout",
     "output_type": "stream",
     "text": [
      "(1, 2, 3, 4, 5, 6)\n"
     ]
    }
   ],
   "source": [
    "tupla_1= (1,2,3)\n",
    "tupla_2 = (4,5,6)\n",
    "print(tupla_1+tupla_2)\n"
   ]
  },
  {
   "cell_type": "code",
   "execution_count": null,
   "id": "6357b808-7147-4d06-8685-8090f0a46a1d",
   "metadata": {},
   "outputs": [
    {
     "name": "stdout",
     "output_type": "stream",
     "text": [
      "<class 'list'>\n",
      "<class 'tuple'>\n"
     ]
    }
   ],
   "source": [
    "# combinar listas y tupla\n",
    "\n",
    "listas_e = [\"fresas\", \"naraja\", \"limones\",(\"kiwi\",\"manzana\")]\n",
    "tupla_list= (\"fesas\", [\"naranaja\", \"limones\"], \"manzana\")\n",
    "print(type(listas_e))\n",
    "print(type(tupla_list))\n"
   ]
  },
  {
   "cell_type": "markdown",
   "id": "ee0ffe43-0b56-4381-b459-dc5c143a80d6",
   "metadata": {},
   "source": [
    "## Diccionarios"
   ]
  },
  {
   "cell_type": "code",
   "execution_count": null,
   "id": "d6bafec4-a0e0-4518-9a7b-b789b136f69d",
   "metadata": {},
   "outputs": [],
   "source": [
    "#sintaxis {}\n",
    "# nombre_diccionario={valor1:valor1, clave2: valor2}"
   ]
  },
  {
   "cell_type": "code",
   "execution_count": null,
   "id": "bf0004bd-b5a4-41af-9624-effdee30be40",
   "metadata": {},
   "outputs": [
    {
     "data": {
      "text/plain": [
       "{'color': 'rojo',\n",
       " 'marca': 'tesla',\n",
       " 'modelo': 'cybertruck',\n",
       " 'peso': 35000,\n",
       " 'cambio automatico': True}"
      ]
     },
     "execution_count": 5,
     "metadata": {},
     "output_type": "execute_result"
    }
   ],
   "source": [
    "coche_dict={\n",
    "    \"color\":\"rojo\",\n",
    "    \"marca\": \"tesla\",\n",
    "    \"modelo\":\"cybertruck\",\n",
    "    \"peso\":35000, \n",
    "    \"cambio automatico\": True}\n",
    "coche_dict"
   ]
  },
  {
   "cell_type": "code",
   "execution_count": null,
   "id": "afd39e16-f34c-492c-b9c3-0d1e4e893e81",
   "metadata": {},
   "outputs": [
    {
     "name": "stdout",
     "output_type": "stream",
     "text": [
      "rojo\n",
      "cybertruck\n"
     ]
    }
   ],
   "source": [
    "#acceso\n",
    "print(coche_dict[\"color\"])\n",
    "print(coche_dict[\"modelo\"])"
   ]
  },
  {
   "cell_type": "code",
   "execution_count": null,
   "id": "de008b0e-288d-450e-a6fe-233f3f02377d",
   "metadata": {},
   "outputs": [
    {
     "data": {
      "text/plain": [
       "{'color': ['rojo', 'gris'],\n",
       " 'marca': 'tesla',\n",
       " 'modelo': 'cybertruck',\n",
       " 'peso': 35000,\n",
       " 'cambio automatico': True,\n",
       " 'colo': ['rojo', 'gris']}"
      ]
     },
     "execution_count": 13,
     "metadata": {},
     "output_type": "execute_result"
    }
   ],
   "source": [
    "#cambiar elementos\n",
    "coche_dict[\"color\"]=[\"rojo\",\"gris\"]\n",
    "coche_dict"
   ]
  },
  {
   "cell_type": "code",
   "execution_count": null,
   "id": "28fc4bd5-045d-48f9-9f0b-3cff9ad4dbfe",
   "metadata": {},
   "outputs": [
    {
     "data": {
      "text/plain": [
       "6"
      ]
     },
     "execution_count": 14,
     "metadata": {},
     "output_type": "execute_result"
    }
   ],
   "source": [
    "#añadir elemento\n",
    "coche_dict[\"puertas\"] = 6\n",
    "coche_dict[\"puertas\"]"
   ]
  },
  {
   "cell_type": "code",
   "execution_count": null,
   "id": "333684fb-685c-437a-bbf0-6489e73b06a5",
   "metadata": {},
   "outputs": [
    {
     "data": {
      "text/plain": [
       "{'color': ['rojo', 'gris'],\n",
       " 'marca': 'tesla',\n",
       " 'peso': 35000,\n",
       " 'cambio automatico': True,\n",
       " 'colo': ['rojo', 'gris'],\n",
       " 'puertas': 6}"
      ]
     },
     "execution_count": 15,
     "metadata": {},
     "output_type": "execute_result"
    }
   ],
   "source": [
    "#elimimar elementos\n",
    "del coche_dict[\"modelo\"]\n",
    "coche_dict"
   ]
  },
  {
   "cell_type": "code",
   "execution_count": null,
   "id": "e4bc95bc-723f-43e3-b26e-464206b14c3c",
   "metadata": {},
   "outputs": [
    {
     "data": {
      "text/plain": [
       "dict_keys(['color', 'marca', 'peso', 'cambio automatico', 'colo', 'puertas'])"
      ]
     },
     "execution_count": 16,
     "metadata": {},
     "output_type": "execute_result"
    }
   ],
   "source": [
    "#conocer las claves de dciccionario\n",
    "\n",
    "coche_dict.keys()"
   ]
  },
  {
   "cell_type": "code",
   "execution_count": null,
   "id": "80fc2655-6dd6-4fbd-8845-09cacd9725d5",
   "metadata": {},
   "outputs": [
    {
     "data": {
      "text/plain": [
       "dict_values([['rojo', 'gris'], 'tesla', 35000, True, ['rojo', 'gris'], 6])"
      ]
     },
     "execution_count": 17,
     "metadata": {},
     "output_type": "execute_result"
    }
   ],
   "source": [
    "#conocer valores de diccionario\n",
    "\n",
    "coche_dict.values()"
   ]
  },
  {
   "cell_type": "code",
   "execution_count": null,
   "id": "e221ac3c-bd98-41b1-be5c-5519b5abcde0",
   "metadata": {},
   "outputs": [
    {
     "name": "stdout",
     "output_type": "stream",
     "text": [
      "<class 'dict'>\n"
     ]
    },
    {
     "data": {
      "text/plain": [
       "{'direccion': 'montesa 12'}"
      ]
     },
     "execution_count": 20,
     "metadata": {},
     "output_type": "execute_result"
    }
   ],
   "source": [
    "# Crear diccionario vacio\n",
    "\n",
    "tienda={}\n",
    "print(type(tienda))\n",
    "tienda[\"direccion\"]=\"montesa 12\"\n",
    "tienda"
   ]
  },
  {
   "cell_type": "code",
   "execution_count": null,
   "id": "7ce93183-d383-4b4c-9164-25711012ff7f",
   "metadata": {},
   "outputs": [
    {
     "ename": "KeyError",
     "evalue": "'modelo'",
     "output_type": "error",
     "traceback": [
      "\u001b[1;31m---------------------------------------------------------------------------\u001b[0m",
      "\u001b[1;31mKeyError\u001b[0m                                  Traceback (most recent call last)",
      "Cell \u001b[1;32mIn[21], line 1\u001b[0m\n\u001b[1;32m----> 1\u001b[0m \u001b[43mcoche_dict\u001b[49m\u001b[43m[\u001b[49m\u001b[38;5;124;43m\"\u001b[39;49m\u001b[38;5;124;43mmodelo\u001b[39;49m\u001b[38;5;124;43m\"\u001b[39;49m\u001b[43m]\u001b[49m\n",
      "\u001b[1;31mKeyError\u001b[0m: 'modelo'"
     ]
    }
   ],
   "source": [
    "coche_dict[\"modelo\"]\n"
   ]
  },
  {
   "cell_type": "code",
   "execution_count": null,
   "id": "c65eaf00-e881-4667-87c6-182f6fbe2981",
   "metadata": {},
   "outputs": [
    {
     "name": "stdout",
     "output_type": "stream",
     "text": [
      "{'color': ['rojo', 'gris'], 'marca': 'tesla', 'peso': 35000, 'cambio automatico': True, 'colo': ['rojo', 'gris'], 'puertas': 6}\n"
     ]
    }
   ],
   "source": [
    "modelo= coche_dict.get(\"modelo\",\"tesla\")\n",
    "print(coche_dict)"
   ]
  },
  {
   "cell_type": "code",
   "execution_count": null,
   "id": "242c9723-c687-402f-b9d4-b21c337e56fc",
   "metadata": {},
   "outputs": [
    {
     "name": "stdout",
     "output_type": "stream",
     "text": [
      "color\n",
      "['rojo', 'gris']\n",
      "marca\n",
      "tesla\n",
      "peso\n",
      "35000\n",
      "cambio automatico\n",
      "True\n",
      "colo\n",
      "['rojo', 'gris']\n",
      "puertas\n",
      "6\n"
     ]
    }
   ],
   "source": [
    "# iterar\n",
    "\n",
    "for i in coche_dict:\n",
    "    print(i)\n",
    "    print(coche_dict[i])\n",
    "    "
   ]
  },
  {
   "cell_type": "code",
   "execution_count": null,
   "id": "c2499e55-260d-4d05-b4e6-ada7de6e5d0b",
   "metadata": {},
   "outputs": [
    {
     "name": "stdout",
     "output_type": "stream",
     "text": [
      "color\n",
      "color : ['rojo', 'gris']\n",
      "marca\n",
      "marca : tesla\n",
      "peso\n",
      "peso : 35000\n",
      "cambio automatico\n",
      "cambio automatico : True\n",
      "colo\n",
      "colo : ['rojo', 'gris']\n",
      "puertas\n",
      "puertas : 6\n"
     ]
    }
   ],
   "source": [
    "for i in coche_dict:\n",
    "    print(i)\n",
    "    print(i, \":\", coche_dict[i])"
   ]
  },
  {
   "cell_type": "code",
   "execution_count": null,
   "id": "9facf952-e8d2-47b7-a1b3-a4f417b786a5",
   "metadata": {},
   "outputs": [
    {
     "data": {
      "text/plain": [
       "dict_items([('color', ['rojo', 'gris']), ('marca', 'tesla'), ('peso', 35000), ('cambio automatico', True), ('colo', ['rojo', 'gris']), ('puertas', 6)])"
      ]
     },
     "execution_count": 27,
     "metadata": {},
     "output_type": "execute_result"
    }
   ],
   "source": [
    "coche_dict.items()"
   ]
  },
  {
   "cell_type": "code",
   "execution_count": null,
   "id": "3fba7c62-79a4-44a6-aa38-a83cdb0e734a",
   "metadata": {},
   "outputs": [
    {
     "name": "stdout",
     "output_type": "stream",
     "text": [
      "color : ['rojo', 'gris']\n",
      "marca : tesla\n",
      "peso : 35000\n",
      "cambio automatico : True\n",
      "colo : ['rojo', 'gris']\n",
      "puertas : 6\n"
     ]
    }
   ],
   "source": [
    "for clave, valor in coche_dict.items():\n",
    "    print(clave,\":\",valor)"
   ]
  },
  {
   "cell_type": "markdown",
   "id": "b488005a-0597-4348-a5ce-31ec5902fb44",
   "metadata": {},
   "source": [
    "## Sets"
   ]
  },
  {
   "cell_type": "code",
   "execution_count": null,
   "id": "6e3f877e-613b-43a0-a3ef-c5c027f47921",
   "metadata": {},
   "outputs": [
    {
     "name": "stdout",
     "output_type": "stream",
     "text": [
      "<class 'set'>\n"
     ]
    },
    {
     "data": {
      "text/plain": [
       "{'azul', 'naranja', 'rojo', 'verde'}"
      ]
     },
     "execution_count": 33,
     "metadata": {},
     "output_type": "execute_result"
    }
   ],
   "source": [
    "colores = {\"azul\",\"rojo\",\"verde\",\"naranja\"}\n",
    "print(type(colores))\n",
    "colores\n"
   ]
  },
  {
   "cell_type": "code",
   "execution_count": null,
   "id": "9849afe9-63bf-4e80-aca4-f492e6eca283",
   "metadata": {},
   "outputs": [
    {
     "name": "stdout",
     "output_type": "stream",
     "text": [
      "{'verde', 'naranja', 'azul', 'rojo', 'violeta'}\n"
     ]
    }
   ],
   "source": [
    "#añadir valores\n",
    "colores.add(\"violeta\")\n",
    "print(colores)"
   ]
  },
  {
   "cell_type": "code",
   "execution_count": null,
   "id": "29dcac73-e716-4198-8553-423c92f9ee0c",
   "metadata": {},
   "outputs": [
    {
     "name": "stdout",
     "output_type": "stream",
     "text": [
      "{'budeos', 'verde', 'naranja', 'azul', 'rojo', 'celeste', 'violeta'}\n"
     ]
    }
   ],
   "source": [
    "#añadir listas en Sets\n",
    "\n",
    "colores.update([\"celeste\", \"budeos\",\"naranja\"])\n",
    "print(colores)"
   ]
  },
  {
   "cell_type": "code",
   "execution_count": null,
   "id": "c02da67b-33ca-4669-bd86-8258d874a7e5",
   "metadata": {},
   "outputs": [
    {
     "name": "stdout",
     "output_type": "stream",
     "text": [
      "{'budeos', 'verde', 'azul', 'rojo', 'celeste', 'violeta'}\n"
     ]
    }
   ],
   "source": [
    "#quitar valores\n",
    "colores.remove(\"naranja\")\n",
    "print(colores)"
   ]
  },
  {
   "cell_type": "code",
   "execution_count": null,
   "id": "7a54fdb7-667b-4967-9cad-a9e54ba600ea",
   "metadata": {},
   "outputs": [
    {
     "name": "stdout",
     "output_type": "stream",
     "text": [
      "budeos\n",
      "verde\n",
      "azul\n",
      "rojo\n",
      "celeste\n",
      "violeta\n"
     ]
    }
   ],
   "source": [
    "#bucle\n",
    "\n",
    "for color in colores:\n",
    "    print(color)"
   ]
  },
  {
   "cell_type": "code",
   "execution_count": null,
   "id": "bfbce6de-f2f8-492c-bc96-98c0ce6b4b20",
   "metadata": {},
   "outputs": [
    {
     "data": {
      "text/plain": [
       "False"
      ]
     },
     "execution_count": 45,
     "metadata": {},
     "output_type": "execute_result"
    }
   ],
   "source": [
    "#comprobar si dos sets tienen los mismos valores\n",
    "\n",
    "set1= {1,2,4,3,5,6,8}\n",
    "set2= {2,1,4}\n",
    "set1 ==set2"
   ]
  },
  {
   "cell_type": "code",
   "execution_count": null,
   "id": "3aa8e7f7-70f3-4d34-b751-db8e04813fcf",
   "metadata": {},
   "outputs": [
    {
     "name": "stdout",
     "output_type": "stream",
     "text": [
      "{32, 100, 10, 45, 15, 23}\n"
     ]
    }
   ],
   "source": [
    "lista_comn=[100,10,23,23,15,32,15,32,45,10,100,23]\n",
    "print(set(lista_comn))\n"
   ]
  },
  {
   "cell_type": "code",
   "execution_count": null,
   "id": "3b2e1438-60be-4d16-b584-811fccc61092",
   "metadata": {},
   "outputs": [
    {
     "name": "stdout",
     "output_type": "stream",
     "text": [
      "[32, 100, 10, 45, 15, 23]\n"
     ]
    },
    {
     "data": {
      "text/plain": [
       "[32, 100, 10, 45, 15, 23]"
      ]
     },
     "execution_count": 50,
     "metadata": {},
     "output_type": "execute_result"
    }
   ],
   "source": [
    "print(list(set(lista_comn)))\n",
    "lista_comn=list(set(lista_comn))\n",
    "lista_comn"
   ]
  },
  {
   "cell_type": "markdown",
   "id": "aa94e481-9554-481f-abe6-e8d987852e99",
   "metadata": {},
   "source": [
    "## Funciones de usuario"
   ]
  },
  {
   "cell_type": "code",
   "execution_count": null,
   "id": "855f12e3-d50c-41ce-a8b5-856f69f7bbcc",
   "metadata": {},
   "outputs": [
    {
     "data": {
      "text/plain": [
       "124.0"
      ]
     },
     "execution_count": 58,
     "metadata": {},
     "output_type": "execute_result"
    }
   ],
   "source": [
    "def conversor_km_millas(distancia):\n",
    "    millas = 0.62*distancia\n",
    "    return round(millas,1)\n",
    "conversor_km_millas (200)"
   ]
  },
  {
   "cell_type": "code",
   "execution_count": null,
   "id": "83e58794-4994-46e5-8ab1-45da2732ca1e",
   "metadata": {},
   "outputs": [
    {
     "data": {
      "text/plain": [
       "1371.4"
      ]
     },
     "execution_count": 59,
     "metadata": {},
     "output_type": "execute_result"
    }
   ],
   "source": [
    "millas=conversor_km_millas(2212)\n",
    "millas"
   ]
  },
  {
   "cell_type": "code",
   "execution_count": null,
   "id": "3c370bfd-06e0-48ff-a817-b082a390d228",
   "metadata": {},
   "outputs": [
    {
     "name": "stdout",
     "output_type": "stream",
     "text": [
      "15:27:54.642442\n"
     ]
    }
   ],
   "source": [
    "from datetime import datetime\n",
    "def que_hora_es():\n",
    "    now=datetime.now().time()\n",
    "    return now\n",
    "\n",
    "print(que_hora_es())"
   ]
  },
  {
   "cell_type": "code",
   "execution_count": null,
   "id": "ff99168c-022d-400f-a736-6277ea4b058c",
   "metadata": {},
   "outputs": [],
   "source": [
    "from datetime import datetime\n",
    "def que_hora_es():\n",
    "    now = datetime.now().time()\n",
    "    print(now)\n",
    "\n"
   ]
  },
  {
   "cell_type": "code",
   "execution_count": null,
   "id": "a91f1a32-4be1-4e0a-b576-ae31139f81ee",
   "metadata": {},
   "outputs": [
    {
     "name": "stdout",
     "output_type": "stream",
     "text": [
      "17:31:16.657758\n",
      "None <class 'NoneType'>\n"
     ]
    }
   ],
   "source": [
    "hora=que_hora_es ()\n",
    "print(hora, type(hora))"
   ]
  },
  {
   "cell_type": "code",
   "execution_count": null,
   "id": "729174da-9244-4521-9392-981b2e47ca27",
   "metadata": {},
   "outputs": [
    {
     "ename": "NameError",
     "evalue": "name 'now' is not defined",
     "output_type": "error",
     "traceback": [
      "\u001b[1;31m---------------------------------------------------------------------------\u001b[0m",
      "\u001b[1;31mNameError\u001b[0m                                 Traceback (most recent call last)",
      "Cell \u001b[1;32mIn[72], line 1\u001b[0m\n\u001b[1;32m----> 1\u001b[0m \u001b[38;5;28mprint\u001b[39m(\u001b[43mnow\u001b[49m)\n",
      "\u001b[1;31mNameError\u001b[0m: name 'now' is not defined"
     ]
    }
   ],
   "source": []
  },
  {
   "cell_type": "code",
   "execution_count": null,
   "id": "ad60ef8f-791b-4ba0-be16-c8422941ac01",
   "metadata": {},
   "outputs": [
    {
     "data": {
      "text/plain": [
       "list"
      ]
     },
     "execution_count": 74,
     "metadata": {},
     "output_type": "execute_result"
    }
   ],
   "source": [
    "def conversor_km_millas(distancia):\n",
    "    millas = 0.62*distancia\n",
    "    metros = 1000*distancia\n",
    "    return [round(millas,1),millas,metros]\n",
    "salida=conversor_km_millas (2221)\n",
    "type(salida)"
   ]
  },
  {
   "cell_type": "markdown",
   "id": "619c73bb-97b3-4653-a73f-52d479e94f9a",
   "metadata": {},
   "source": [
    "## argumentos posicionales"
   ]
  },
  {
   "cell_type": "code",
   "execution_count": null,
   "id": "c97091b1-d9e6-41d2-adcb-81bd47979ca0",
   "metadata": {},
   "outputs": [
    {
     "data": {
      "text/plain": [
       "10.0"
      ]
     },
     "execution_count": 76,
     "metadata": {},
     "output_type": "execute_result"
    }
   ],
   "source": [
    "def multiplica(x1,x2,x3,x4):\n",
    "    resultado=(x1*x2*x3)/x4\n",
    "    return resultado\n",
    "multiplica(3,4,5,6)\n",
    "               "
   ]
  },
  {
   "cell_type": "code",
   "execution_count": null,
   "id": "af533ea6-c37d-41cb-b42a-4362a74bc47e",
   "metadata": {},
   "outputs": [
    {
     "data": {
      "text/plain": [
       "10.0"
      ]
     },
     "execution_count": 78,
     "metadata": {},
     "output_type": "execute_result"
    }
   ],
   "source": [
    "multiplica(x1=3, x4=6,x3=5,x2=4)"
   ]
  },
  {
   "cell_type": "code",
   "execution_count": null,
   "id": "64fc7d33-bb71-454e-8a06-1049596588e5",
   "metadata": {},
   "outputs": [
    {
     "ename": "NameError",
     "evalue": "name 'exception' is not defined",
     "output_type": "error",
     "traceback": [
      "\u001b[1;31m---------------------------------------------------------------------------\u001b[0m",
      "\u001b[1;31mZeroDivisionError\u001b[0m                         Traceback (most recent call last)",
      "Cell \u001b[1;32mIn[84], line 2\u001b[0m\n\u001b[0;32m      1\u001b[0m \u001b[38;5;28;01mtry\u001b[39;00m:\n\u001b[1;32m----> 2\u001b[0m     \u001b[43mmultiplica\u001b[49m\u001b[43m \u001b[49m\u001b[43m(\u001b[49m\u001b[43mx4\u001b[49m\u001b[38;5;241;43m=\u001b[39;49m\u001b[38;5;241;43m0\u001b[39;49m\u001b[43m,\u001b[49m\u001b[43m \u001b[49m\u001b[43mx2\u001b[49m\u001b[38;5;241;43m=\u001b[39;49m\u001b[43m \u001b[49m\u001b[38;5;241;43m3\u001b[39;49m\u001b[43m,\u001b[49m\u001b[43m \u001b[49m\u001b[43mx3\u001b[49m\u001b[38;5;241;43m=\u001b[39;49m\u001b[38;5;241;43m12\u001b[39;49m\u001b[43m,\u001b[49m\u001b[43m \u001b[49m\u001b[43mx1\u001b[49m\u001b[38;5;241;43m=\u001b[39;49m\u001b[38;5;241;43m6\u001b[39;49m\u001b[43m)\u001b[49m\n\u001b[0;32m      3\u001b[0m \u001b[38;5;28;01mexcept\u001b[39;00m exception \u001b[38;5;28;01mas\u001b[39;00m ex:\n",
      "Cell \u001b[1;32mIn[76], line 2\u001b[0m, in \u001b[0;36mmultiplica\u001b[1;34m(x1, x2, x3, x4)\u001b[0m\n\u001b[0;32m      1\u001b[0m \u001b[38;5;28;01mdef\u001b[39;00m \u001b[38;5;21mmultiplica\u001b[39m(x1,x2,x3,x4):\n\u001b[1;32m----> 2\u001b[0m     resultado\u001b[38;5;241m=\u001b[39m\u001b[43m(\u001b[49m\u001b[43mx1\u001b[49m\u001b[38;5;241;43m*\u001b[39;49m\u001b[43mx2\u001b[49m\u001b[38;5;241;43m*\u001b[39;49m\u001b[43mx3\u001b[49m\u001b[43m)\u001b[49m\u001b[38;5;241;43m/\u001b[39;49m\u001b[43mx4\u001b[49m\n\u001b[0;32m      3\u001b[0m     \u001b[38;5;28;01mreturn\u001b[39;00m resultado\n",
      "\u001b[1;31mZeroDivisionError\u001b[0m: division by zero",
      "\nDuring handling of the above exception, another exception occurred:\n",
      "\u001b[1;31mNameError\u001b[0m                                 Traceback (most recent call last)",
      "Cell \u001b[1;32mIn[84], line 3\u001b[0m\n\u001b[0;32m      1\u001b[0m \u001b[38;5;28;01mtry\u001b[39;00m:\n\u001b[0;32m      2\u001b[0m     multiplica (x4\u001b[38;5;241m=\u001b[39m\u001b[38;5;241m0\u001b[39m, x2\u001b[38;5;241m=\u001b[39m \u001b[38;5;241m3\u001b[39m, x3\u001b[38;5;241m=\u001b[39m\u001b[38;5;241m12\u001b[39m, x1\u001b[38;5;241m=\u001b[39m\u001b[38;5;241m6\u001b[39m)\n\u001b[1;32m----> 3\u001b[0m \u001b[38;5;28;01mexcept\u001b[39;00m \u001b[43mexception\u001b[49m \u001b[38;5;28;01mas\u001b[39;00m ex:\n\u001b[0;32m      4\u001b[0m     \u001b[38;5;28mprint\u001b[39m(ex)\n\u001b[0;32m      5\u001b[0m     \u001b[38;5;28mprint\u001b[39m(\u001b[38;5;124m\"\u001b[39m\u001b[38;5;124merror en la funcion\u001b[39m\u001b[38;5;124m\"\u001b[39m)\n",
      "\u001b[1;31mNameError\u001b[0m: name 'exception' is not defined"
     ]
    }
   ],
   "source": [
    "try:\n",
    "    multiplica (x4=0, x2= 3, x3=12, x1=6)\n",
    "except exception as ex:\n",
    "    print(ex)\n",
    "    print(\"error en la funcion\")"
   ]
  },
  {
   "cell_type": "code",
   "execution_count": null,
   "id": "9cd57bfb-9ca8-423c-8d57-d8f12692c671",
   "metadata": {},
   "outputs": [
    {
     "data": {
      "text/plain": [
       "10.0"
      ]
     },
     "execution_count": 87,
     "metadata": {},
     "output_type": "execute_result"
    }
   ],
   "source": [
    "def multiplica(x1,x2,x3,x4):\n",
    "    if x4==0:\n",
    "        print(\"error: no puedo dividir a 0\")\n",
    "    else:\n",
    "        resultado=(x1*x2*x3)/x4\n",
    "        return resultado\n",
    "multiplica(3,4,5,6)"
   ]
  },
  {
   "cell_type": "code",
   "execution_count": null,
   "id": "c0cc752e-0250-4402-a7d1-9cfb49c12fd1",
   "metadata": {},
   "outputs": [
    {
     "name": "stdout",
     "output_type": "stream",
     "text": [
      "error: no puedo dividir a 0\n"
     ]
    }
   ],
   "source": [
    "multiplica (x4=0, x2= 3, x3=12, x1=6)"
   ]
  },
  {
   "cell_type": "code",
   "execution_count": null,
   "id": "6dc06814-4737-4b65-86b6-3e0dd1fe80a7",
   "metadata": {},
   "outputs": [],
   "source": []
  },
  {
   "cell_type": "code",
   "execution_count": null,
   "id": "19705cf1-1f12-4fdd-860f-9eda7f293c31",
   "metadata": {},
   "outputs": [],
   "source": []
  },
  {
   "cell_type": "code",
   "execution_count": null,
   "id": "ff51c591-0acb-4eb4-bfc5-456168c0b96c",
   "metadata": {},
   "outputs": [],
   "source": []
  },
  {
   "cell_type": "code",
   "execution_count": null,
   "id": "ef8a0082-285e-42d3-a2b8-bac866ff4bc3",
   "metadata": {},
   "outputs": [],
   "source": []
  },
  {
   "cell_type": "code",
   "execution_count": null,
   "id": "e7e93477-9a64-4a59-bbd9-56c048a01ab7",
   "metadata": {},
   "outputs": [],
   "source": []
  },
  {
   "cell_type": "code",
   "execution_count": null,
   "id": "0e37e3d4-caee-4409-8a65-861614767955",
   "metadata": {},
   "outputs": [],
   "source": []
  },
  {
   "cell_type": "markdown",
   "id": "b6e32d7a-a88f-4574-866e-608da4982889",
   "metadata": {},
   "source": [
    "## Argumentos clave valor"
   ]
  },
  {
   "cell_type": "code",
   "execution_count": null,
   "id": "5eeeaa77-af8b-487d-afee-6f1bac95b393",
   "metadata": {},
   "outputs": [
    {
     "name": "stdout",
     "output_type": "stream",
     "text": [
      "<class 'tuple'>\n",
      "Es bueno\n",
      "la bateria no dura nada\n"
     ]
    }
   ],
   "source": [
    "def insertar_movil (*args, **kwargs):\n",
    "    print(type(args))\n",
    "    for i in args:\n",
    "        print(i)\n",
    "\n",
    "insertar_movil(\"Es bueno\", \"la bateria no dura nada\")"
   ]
  },
  {
   "cell_type": "markdown",
   "id": "29314b61-5571-4215-b6d7-96304aadcaab",
   "metadata": {},
   "source": [
    "## *Args y **Kwargs"
   ]
  },
  {
   "cell_type": "code",
   "execution_count": null,
   "id": "981a146f-1be8-4e3f-bc18-b1a8cadaf7c6",
   "metadata": {},
   "outputs": [
    {
     "name": "stdout",
     "output_type": "stream",
     "text": [
      "<class 'tuple'>\n",
      "samsung\n",
      "viene de EEUU\n",
      "<class 'dict'>\n",
      "modelo s30\n",
      "serie 5500\n"
     ]
    }
   ],
   "source": [
    "def inserta_movil(*args, **kwargs):\n",
    "    print(type(args))\n",
    "    for i in args:\n",
    "        print(i)\n",
    "\n",
    "    print(type(kwargs))\n",
    "    for clave,valor in kwargs.items():\n",
    "        print(clave, valor)\n",
    "\n",
    "inserta_movil (\"samsung\", \"viene de EEUU\", modelo = \"s30\", serie = \"5500\")"
   ]
  },
  {
   "cell_type": "markdown",
   "id": "42d90b1e-083d-4eee-908d-70f29daf058e",
   "metadata": {},
   "source": [
    "## Clases, objetos"
   ]
  },
  {
   "cell_type": "code",
   "execution_count": null,
   "id": "6f133ceb-0423-4f3e-9df2-3b8e8336fd75",
   "metadata": {},
   "outputs": [],
   "source": [
    "# atributos\n",
    "\n",
    "class Coche:\n",
    "    puertas = 4\n",
    "    ruedas = 4\n",
    "    "
   ]
  },
  {
   "cell_type": "code",
   "execution_count": null,
   "id": "2a3c46c2-32db-48b3-8bd6-4f02c9c29ef0",
   "metadata": {},
   "outputs": [
    {
     "name": "stdout",
     "output_type": "stream",
     "text": [
      "4\n"
     ]
    }
   ],
   "source": [
    "tesla = Coche()\n",
    "print(tesla.puertas)"
   ]
  },
  {
   "cell_type": "code",
   "execution_count": null,
   "id": "09e3138a-194f-48a0-8437-ac3005c5f1cf",
   "metadata": {},
   "outputs": [
    {
     "name": "stdout",
     "output_type": "stream",
     "text": [
      "3\n"
     ]
    }
   ],
   "source": [
    "mercedes=Coche()\n",
    "mercedes.puertas=3\n",
    "print(mercedes.puertas)"
   ]
  },
  {
   "cell_type": "code",
   "execution_count": null,
   "id": "ea11259c-5bb2-4767-b835-94fb452726b3",
   "metadata": {},
   "outputs": [
    {
     "data": {
      "text/plain": [
       "8"
      ]
     },
     "execution_count": 33,
     "metadata": {},
     "output_type": "execute_result"
    }
   ],
   "source": [
    "# diferenciar clases\n",
    "bmw=Coche()\n",
    "bmw.puertas=6\n",
    "bmw.ruedas=8\n",
    "bmw.ruedas"
   ]
  },
  {
   "cell_type": "markdown",
   "id": "8a385889-f186-4ca1-b8d7-2b81f7aaee78",
   "metadata": {},
   "source": [
    "### constructores de la clase"
   ]
  },
  {
   "cell_type": "code",
   "execution_count": null,
   "id": "671c0d8f-4179-4fa9-8c78-3751d4e6b56e",
   "metadata": {},
   "outputs": [],
   "source": [
    "# sintaxis: _init_\n",
    "class Coche:\n",
    "    puertas=4\n",
    "    ruedas=4\n",
    "    def __init__(self, marca_coche):\n",
    "        self.marca = marca_coche\n",
    "        "
   ]
  },
  {
   "cell_type": "code",
   "execution_count": null,
   "id": "ba4b4ea4-e808-489d-b9c0-771883c6d538",
   "metadata": {},
   "outputs": [
    {
     "name": "stdout",
     "output_type": "stream",
     "text": [
      "tesla\n"
     ]
    }
   ],
   "source": [
    "tesla= Coche(\"tesla\")\n",
    "print(tesla.marca)\n",
    "              "
   ]
  },
  {
   "cell_type": "code",
   "execution_count": null,
   "id": "2d8761a3-71b2-42cb-a540-ccbb9093a043",
   "metadata": {},
   "outputs": [
    {
     "name": "stdout",
     "output_type": "stream",
     "text": [
      "4\n",
      "4\n"
     ]
    },
    {
     "data": {
      "text/plain": [
       "'mercedes'"
      ]
     },
     "execution_count": 40,
     "metadata": {},
     "output_type": "execute_result"
    }
   ],
   "source": [
    "mercedes=Coche(\"mercedes\")\n",
    "renaul=Coche(\"reanul\")\n",
    "print(mercedes.puertas)\n",
    "print(mercedes.ruedas)\n",
    "mercedes.marca\n"
   ]
  },
  {
   "cell_type": "code",
   "execution_count": null,
   "id": "31cd64e0-bb1e-4c76-a8f3-12e450a97654",
   "metadata": {},
   "outputs": [],
   "source": [
    "class Coche:\n",
    "    puertas=4\n",
    "    ruedad=4\n",
    "\n",
    "    def __init__(self, marca_coche, num_puertas):\n",
    "        self.marca= marca_coche\n",
    "        self.puertas= num_puertas"
   ]
  },
  {
   "cell_type": "code",
   "execution_count": null,
   "id": "6eaba623-9ec7-4ea9-b5bb-008eb0ddc165",
   "metadata": {},
   "outputs": [],
   "source": [
    "tesla = Coche(\"tesla\",6)\n",
    "mercedes_500= Coche(\"mercedes\", 8)"
   ]
  },
  {
   "cell_type": "code",
   "execution_count": null,
   "id": "46e007ca-5d6e-42e3-9af7-9ec850498c62",
   "metadata": {},
   "outputs": [
    {
     "name": "stdout",
     "output_type": "stream",
     "text": [
      "tesla\n",
      "6\n"
     ]
    }
   ],
   "source": [
    "print(tesla.marca)\n",
    "print(tesla.puertas)"
   ]
  },
  {
   "cell_type": "markdown",
   "id": "988a40de-808e-44eb-98b6-e356da62a437",
   "metadata": {},
   "source": [
    "## Metodos"
   ]
  },
  {
   "cell_type": "code",
   "execution_count": null,
   "id": "aa5bfc6d-4e77-4933-ae08-83eeb8bef652",
   "metadata": {},
   "outputs": [],
   "source": [
    "class Coche:\n",
    "    ruedas=4\n",
    "\n",
    "    def __init__(self, marca_coche, num_puertas=4):\n",
    "        self.marca=marca_coche \n",
    "        self.puertas=num_puertas\n",
    "\n",
    "    def caracteristicas(self): \n",
    "        return \"marca\"+ self.marca +\", puerrtas:\" +str(self.puertas)"
   ]
  },
  {
   "cell_type": "code",
   "execution_count": null,
   "id": "b0ec2d03-b6f3-47ea-80b5-2af725dcf9be",
   "metadata": {},
   "outputs": [
    {
     "data": {
      "text/plain": [
       "'marcaford, puerrtas:4'"
      ]
     },
     "execution_count": 51,
     "metadata": {},
     "output_type": "execute_result"
    }
   ],
   "source": [
    "ford_k= Coche(\"ford\")\n",
    "ford_k.caracteristicas()"
   ]
  },
  {
   "cell_type": "code",
   "execution_count": null,
   "id": "cfdf7624-4a8a-4f7b-9032-52744dc9e65d",
   "metadata": {},
   "outputs": [],
   "source": [
    "class Coche:\n",
    "    ruedas=4\n",
    "\n",
    "    def __init__(self, marca_coche, precio_coche, num_puertas=4):\n",
    "        self.marca=marca_coche \n",
    "        self.puertas=num_puertas\n",
    "        self.precio=precio_coche\n",
    "\n",
    "    def caracteristicas(self): \n",
    "        return \"marca\"+ self.marca +\", puerrtas:\" +str(self.puertas)\n",
    "    def precio_actual(self, agnos):\n",
    "        if agnos<=5:\n",
    "            return self.precio *0.7\n",
    "\n",
    "        elif agnos> 5 and agnos <10:\n",
    "            return self.precio *0.5\n",
    "\n",
    "        else:\n",
    "            return self.precio *0.3"
   ]
  },
  {
   "cell_type": "code",
   "execution_count": null,
   "id": "776c102a-4f58-48b2-a252-430b11d7cad3",
   "metadata": {},
   "outputs": [
    {
     "data": {
      "text/plain": [
       "17500.0"
      ]
     },
     "execution_count": 59,
     "metadata": {},
     "output_type": "execute_result"
    }
   ],
   "source": [
    "jeep_cheroki=Coche(\"jeep\", 35000)\n",
    "jeep_cheroki.precio_actual(8)"
   ]
  },
  {
   "cell_type": "markdown",
   "id": "0bba97ff-3c87-4fda-82fe-a62e694720ee",
   "metadata": {},
   "source": [
    "# Sprint 3: Algebra y Numpy"
   ]
  },
  {
   "cell_type": "markdown",
   "id": "31f12f64-2b3b-4919-931c-d1293b4622e6",
   "metadata": {},
   "source": [
    "## Vectores"
   ]
  },
  {
   "cell_type": "code",
   "execution_count": null,
   "id": "2c7d546f-ceec-40c0-a301-c8b3059f4076",
   "metadata": {},
   "outputs": [
    {
     "name": "stdout",
     "output_type": "stream",
     "text": [
      "{'rodrigo': [5, 4], 'lucia': [2, -3], 'alejandro': [3, 5], 'valeria': [-3, 4], 'camila': [3, 2], 'diego': [-1, 1], 'gabriela': [5, -2], 'mateo': [-5, 3], 'sofia': [-5, 1]}\n"
     ]
    }
   ],
   "source": [
    "alumnos_aidone ={\n",
    "    \"rodrigo\": [5,4],\n",
    "    \"lucia\": [2,-3],\n",
    "    \"alejandro\": [3,5],\n",
    "    \"valeria\": [-3,4],\n",
    "    \"camila\":[3,2],\n",
    "    \"diego\":[-1,1],\n",
    "    \"gabriela\": [5,-2],\n",
    "    \"mateo\":[-5,3],\n",
    "    \"sofia\":[-5,1]\n",
    "}\n",
    "print(alumnos_aidone)"
   ]
  },
  {
   "cell_type": "code",
   "execution_count": null,
   "id": "f8e1ddaa-fc76-47e4-9fb5-4a6a1dcbcb4a",
   "metadata": {},
   "outputs": [],
   "source": [
    "import matplotlib.pyplot as plt\n",
    "from warnings import filterwarnings\n",
    "\n",
    "%matplotlib inline\n",
    "filterwarnings(\"ignore\")"
   ]
  },
  {
   "cell_type": "code",
   "execution_count": null,
   "id": "06a3b212-ed06-4c9f-a6e5-27e86744add2",
   "metadata": {},
   "outputs": [],
   "source": [
    "def move_spines():\n",
    "    fix, ax=plt.subplots()\n",
    "    for spine in [\"left\", \"bottom\"]:\n",
    "        ax.spines[spine].set_position(\"zero\")\n",
    "\n",
    "    for spine in [\"right\",\"top\"]:\n",
    "        ax.spines[spine].set_color(\"none\")\n",
    "\n",
    "    return ax\n",
    "\n",
    "def vect_fig(*vectores):\n",
    "    ax=move_spines()\n",
    "    \n",
    "    ax.set_xlim(-5,5)\n",
    "    ax.set_ylim(-5,5)\n",
    "    ax.grid()\n",
    "    vecs= [vector for vector in vectores]\n",
    "    for v in vecs:\n",
    "        ax.annotate(\" \", xy=v, xytext=[0,0],\n",
    "                    arrowprops= dict(facecolor=\"blue\",\n",
    "                                     shrink=0,\n",
    "                                     alpha=0.7, \n",
    "                                     width=0.5))\n",
    "        ax.text(1.1*v[0],1.1*v[1],v)\n",
    "        \n"
   ]
  },
  {
   "cell_type": "code",
   "execution_count": null,
   "id": "699c85b7-3f66-4afd-844c-5b53e56f8446",
   "metadata": {},
   "outputs": [
    {
     "data": {
      "image/png": "[encoded data removed]",
      "text/plain": [
       "<Figure size 640x480 with 1 Axes>"
      ]
     },
     "metadata": {},
     "output_type": "display_data"
    }
   ],
   "source": [
    "vect_fig(alumnos_aidone[\"rodrigo\"],alumnos_aidone[\"gabriela\"],alumnos_aidone[\"mateo\"],alumnos_aidone[\"lucia\"])"
   ]
  },
  {
   "cell_type": "code",
   "execution_count": null,
   "id": "a4eb9ee0-b8b3-4aea-9a14-32be8ed12ab4",
   "metadata": {},
   "outputs": [],
   "source": [
    "\n",
    "import math\n",
    "\n",
    "#Definimos la función \"distancia_2d poniendole dos vectores y realizando su formula paso a paso\n",
    "def distancia_2d(vec1,vec2,precision= 2):\n",
    "    suma=0\n",
    "    for indice_componente in range (2):\n",
    "        suma+=(vec1[indice_componente]-vec2[indice_componente])**2\n",
    "    distancia= math.sqrt(suma)\n",
    "    distancia= round(distancia,precision)\n",
    "    return distancia"
   ]
  },
  {
   "cell_type": "code",
   "execution_count": null,
   "id": "37b5e2d2-cae6-4238-8e64-a136fd569f0e",
   "metadata": {},
   "outputs": [
    {
     "name": "stdout",
     "output_type": "stream",
     "text": [
      "distancia lucia - rodrigo 7.6\n",
      "distancia lucia - gabriela 3.2\n",
      "distancia lucia - mateo 9.2\n"
     ]
    }
   ],
   "source": [
    "vec_lucia = alumnos_aidone[\"lucia\"]\n",
    "\n",
    "for alumnos_ref in [\"rodrigo\",\"gabriela\", \"mateo\"]:\n",
    "    vec_ref = alumnos_aidone[alumnos_ref]\n",
    "    distancia= distancia_2d(vec_lucia, vec_ref,1)\n",
    "    print(\"distancia lucia -\", alumnos_ref,distancia)"
   ]
  },
  {
   "cell_type": "code",
   "execution_count": null,
   "id": "306d4adf-cd56-4050-bdb0-7e71079aa362",
   "metadata": {},
   "outputs": [],
   "source": []
  },
  {
   "cell_type": "code",
   "execution_count": null,
   "id": "f4b8cacf-460f-4b96-8e3f-63b822b0bf70",
   "metadata": {},
   "outputs": [
    {
     "ename": "SyntaxError",
     "evalue": "f-string: unmatched '[' (1368253652.py, line 18)",
     "output_type": "error",
     "traceback": [
      "\u001b[1;36m  Cell \u001b[1;32mIn[15], line 18\u001b[1;36m\u001b[0m\n\u001b[1;33m    print(f\"para{alumno},el curso asignado es\" + f\"{diccionario_reparto[alumno][\"curso elegido\"]}\")\u001b[0m\n\u001b[1;37m                                                                                 ^\u001b[0m\n\u001b[1;31mSyntaxError\u001b[0m\u001b[1;31m:\u001b[0m f-string: unmatched '['\n"
     ]
    }
   ],
   "source": [
    "alumnos_ref=[\"rodrigo\",\"gabriela\",\"mateo\"]\n",
    "curso_asignado=[\"CAI\",\"ER\",\"NMPC\"]\n",
    "diccionario_reparto={}\n",
    "for alumno, vector in alumnos_aidone.items():\n",
    "    distancia_minima= 9999999999\n",
    "    indice_distancia_minima= -1\n",
    "    diccionario_reparto[alumno]= {\"distancias\": [], \"curso_elegido\":\"\"}\n",
    "    for indice_curso, alumno_ref in enumerate(alumnos_ref):\n",
    "        vec_ref=alumnos_aidone[alumno_ref]\n",
    "\n",
    "        distancia=distancia_2d(vector,vec_ref,1)\n",
    "        if distancia<distancia_minima:\n",
    "            distancia_minima=distancia\n",
    "            indice_distancia_minima=indice_curso\n",
    "\n",
    "        diccionario_reparto[alumno][\"distancia\"].append(distancia)\n",
    "        diccionario_reparto[alumno][\"curso_elegido\"]= curso_asignado[indice_distancia_minima]\n",
    "    print(f\"para{alumno},el curso asignado es\" + f\"{diccionario_reparto[alumno][\"curso elegido\"]}\")\n",
    "   "
   ]
  },
  {
   "cell_type": "code",
   "execution_count": null,
   "id": "4c477cad-ef3d-469c-ba88-e13481d207e6",
   "metadata": {},
   "outputs": [
    {
     "name": "stdout",
     "output_type": "stream",
     "text": [
      "Para rodrigo, el curso asignado es CAI\n",
      "Para lucia, el curso asignado es ER\n",
      "Para alejandro, el curso asignado es CAI\n",
      "Para valeria, el curso asignado es NMPC\n",
      "Para camila, el curso asignado es CAI\n",
      "Para diego, el curso asignado es NMPC\n",
      "Para gabriela, el curso asignado es ER\n",
      "Para mateo, el curso asignado es NMPC\n",
      "Para sofia, el curso asignado es NMPC\n"
     ]
    }
   ],
   "source": [
    "alumnos_ref = [\"rodrigo\", \"gabriela\", \"mateo\"]\n",
    "curso_asignado = [\"CAI\", \"ER\", \"NMPC\"]\n",
    "diccionario_reparto = {}\n",
    "\n",
    "for alumno, vector in alumnos_aidone.items():\n",
    "    distancia_minima = 9999999999\n",
    "    indice_distancia_minima = -1\n",
    "    diccionario_reparto[alumno] = {\"distancias\": [], \"curso_elegido\": \"\"}\n",
    "    \n",
    "    for indice_curso, alumno_ref in enumerate(alumnos_ref):\n",
    "        vec_ref = alumnos_aidone[alumno_ref]\n",
    "        distancia = distancia_2d(vector, vec_ref, 1)\n",
    "        \n",
    "        if distancia < distancia_minima:\n",
    "            distancia_minima = distancia\n",
    "            indice_distancia_minima = indice_curso\n",
    "\n",
    "        diccionario_reparto[alumno][\"distancias\"].append(distancia)\n",
    "        diccionario_reparto[alumno][\"curso_elegido\"] = curso_asignado[indice_distancia_minima]\n",
    "\n",
    "    print(f\"Para {alumno}, el curso asignado es {diccionario_reparto[alumno]['curso_elegido']}\")\n"
   ]
  },
  {
   "cell_type": "markdown",
   "id": "52901337-f3e7-4c36-8150-50bdae1cbe8f",
   "metadata": {},
   "source": [
    "## Ampliacion de vectores"
   ]
  },
  {
   "cell_type": "markdown",
   "id": "3e91ea3e-5c4e-401e-8802-9795d84abe43",
   "metadata": {},
   "source": [
    "### Similitud segun el angulo"
   ]
  },
  {
   "cell_type": "code",
   "execution_count": null,
   "id": "9536e32d-ccfc-4094-acf4-bfeb4eb3f604",
   "metadata": {},
   "outputs": [],
   "source": [
    "def dot_product(vec1,vec2, presicion=2):\n",
    "    producto=0\n",
    "    for indice in range(len(vec1)):\n",
    "        producto+= vec1[indice]*vec2[indice]\n",
    "    producto=round(producto,presicion)\n",
    "    return producto\n",
    "        "
   ]
  },
  {
   "cell_type": "code",
   "execution_count": null,
   "id": "5d9e7b5f-26c2-429a-841f-4e8d1687558c",
   "metadata": {},
   "outputs": [
    {
     "data": {
      "text/plain": [
       "11"
      ]
     },
     "execution_count": 21,
     "metadata": {},
     "output_type": "execute_result"
    }
   ],
   "source": [
    "vec_valeria = alumnos_aidone[\"valeria\"]\n",
    "vec_alejandro=alumnos_aidone[\"alejandro\"]\n",
    "dot_product(vec_valeria, vec_alejandro)"
   ]
  },
  {
   "cell_type": "markdown",
   "id": "a5d1b0c0-ec10-4a73-810e-2b9544a64aca",
   "metadata": {},
   "source": [
    "### Normas, magnitudes y longitudes"
   ]
  },
  {
   "cell_type": "code",
   "execution_count": null,
   "id": "eb7be1c3-da5e-4543-a589-464f4fae184e",
   "metadata": {},
   "outputs": [],
   "source": [
    "def norm_vec(vec,presicion=1):\n",
    "    escalar=dot_product(vec,vec,presicion)\n",
    "    resultado=math.sqrt(escalar)\n",
    "    resultado=round(resultado,presicion)\n",
    "    return resultado\n",
    "    "
   ]
  },
  {
   "cell_type": "code",
   "execution_count": null,
   "id": "55da7e7e-1899-42aa-b6b7-2108e52eaedd",
   "metadata": {},
   "outputs": [
    {
     "data": {
      "text/plain": [
       "3.6"
      ]
     },
     "execution_count": 27,
     "metadata": {},
     "output_type": "execute_result"
    }
   ],
   "source": [
    "vec_lucia=alumnos_aidone[\"lucia\"]\n",
    "norm_vec(vec_lucia,1)"
   ]
  },
  {
   "cell_type": "code",
   "execution_count": null,
   "id": "a542614f-c779-45a0-abeb-67bc05861efe",
   "metadata": {},
   "outputs": [],
   "source": [
    "#similitud de cosenos\n",
    "def cos_vec(vec1,vec2, presicion = 1):\n",
    "    resultado=dot_product(vec1,vec2)/(norm_vec(vec1)*norm_vec(vec2))\n",
    "    resultado=round(resultado,presicion)\n",
    "    return resultado"
   ]
  },
  {
   "cell_type": "code",
   "execution_count": null,
   "id": "50ae8298-a4a0-4ae9-943d-c4ad526a6fbd",
   "metadata": {},
   "outputs": [
    {
     "data": {
      "text/plain": [
       "0.82"
      ]
     },
     "execution_count": 33,
     "metadata": {},
     "output_type": "execute_result"
    }
   ],
   "source": [
    "vec_lucia=alumnos_aidone [\"lucia\"]\n",
    "vec_gabriela=alumnos_aidone[\"gabriela\"]\n",
    "cos_vec(vec_lucia,vec_gabriela,2)"
   ]
  },
  {
   "cell_type": "markdown",
   "id": "154c7912-6234-488b-8a4b-f0ec61ac9725",
   "metadata": {},
   "source": [
    "## Matrices\n"
   ]
  },
  {
   "cell_type": "code",
   "execution_count": null,
   "id": "a88eec53-7109-417a-aa67-a5960f32dee2",
   "metadata": {},
   "outputs": [
    {
     "name": "stdout",
     "output_type": "stream",
     "text": [
      "{'rodrigo': [5, 4], 'lucia': [2, -3], 'alejandro': [3, 5], 'valeria': [-3, 4], 'camila': [3, 2], 'diego': [-1, 1], 'gabriela': [5, -2], 'mateo': [-5, 3], 'sofia': [-5, 1]}\n"
     ]
    }
   ],
   "source": [
    "alumnos_aidone ={\n",
    "    \"rodrigo\": [5,4],\n",
    "    \"lucia\": [2,-3],\n",
    "    \"alejandro\": [3,5],\n",
    "    \"valeria\": [-3,4],\n",
    "    \"camila\":[3,2],\n",
    "    \"diego\":[-1,1],\n",
    "    \"gabriela\": [5,-2],\n",
    "    \"mateo\":[-5,3],\n",
    "    \"sofia\":[-5,1]\n",
    "}\n",
    "print(alumnos_aidone)"
   ]
  },
  {
   "cell_type": "code",
   "execution_count": null,
   "id": "5c8cfbda-2b8c-4334-ad9f-af1509ca1bc4",
   "metadata": {},
   "outputs": [],
   "source": [
    "import math\n",
    "def distancia_2d(vec1,vec2, precision=2):\n",
    "    suma=0\n",
    "    for indice_componente in range(2):\n",
    "        suma += (vec1[indice_componente]-vec2[indice_componente])**2\n",
    "    distancia=math.sqrt(suma)\n",
    "    distancia=round(distancia,precision)\n",
    "    return distancia"
   ]
  },
  {
   "cell_type": "code",
   "execution_count": null,
   "id": "565804d0-c77b-48cc-9e5d-94c13853d4c0",
   "metadata": {},
   "outputs": [],
   "source": [
    "alumnos_ref=[\"rodrigo\",\"gabriela\",\"mateo\"]\n",
    "curso_asignado=[\"cai\",\"er\",\"nmpc\"]\n",
    "diccionario_reparto={}\n",
    "for alumno,vector in alumnos_aidone.items():\n",
    "    distancia_minima=999999999\n",
    "    indice_distancia_minima=-1\n",
    "    diccionario_reparto[alumno]=[]\n",
    "    for indice_curso,alumno_ref in enumerate(alumnos_ref):\n",
    "        vec_ref=alumnos_aidone[alumno_ref]\n",
    "        distancia=distancia_2d(vector,vec_ref,1)\n",
    "        if distancia<distancia_minima:\n",
    "            distancia_minima=distancia\n",
    "            indice_distancia_minima=indice_curso\n",
    "        diccionario_reparto[alumno].append(distancia)"
   ]
  },
  {
   "cell_type": "code",
   "execution_count": null,
   "id": "5b153e93-66db-457a-a993-5af4abd01605",
   "metadata": {},
   "outputs": [
    {
     "data": {
      "text/plain": [
       "{'rodrigo': [0.0, 6.0, 10.0],\n",
       " 'lucia': [7.6, 3.2, 9.2],\n",
       " 'alejandro': [2.2, 7.3, 8.2],\n",
       " 'valeria': [8.0, 10.0, 2.2],\n",
       " 'camila': [2.8, 4.5, 8.1],\n",
       " 'diego': [6.7, 6.7, 4.5],\n",
       " 'gabriela': [6.0, 0.0, 11.2],\n",
       " 'mateo': [10.0, 11.2, 0.0],\n",
       " 'sofia': [10.4, 10.4, 2.0]}"
      ]
     },
     "execution_count": 17,
     "metadata": {},
     "output_type": "execute_result"
    }
   ],
   "source": [
    "diccionario_reparto"
   ]
  },
  {
   "cell_type": "code",
   "execution_count": null,
   "id": "4bd0ae69-7e9d-4730-809a-65a12b61165f",
   "metadata": {},
   "outputs": [
    {
     "data": {
      "text/plain": [
       "[[2, 1, 0.5],\n",
       " [1, 2, 0.5],\n",
       " [2, 1, 0.5],\n",
       " [1, 0.5, 2],\n",
       " [2, 1, 0.5],\n",
       " [0.5, 1, 2],\n",
       " [1, 2, 0.5],\n",
       " [1, 0.5, 2],\n",
       " [0.5, 1, 2]]"
      ]
     },
     "execution_count": 22,
     "metadata": {},
     "output_type": "execute_result"
    }
   ],
   "source": [
    "matriz_resultado=[]\n",
    "for alumno,distancias in diccionario_reparto.items():\n",
    "    vec_asignacion=[]\n",
    "    maximo=max(distancias)\n",
    "    minimo=min(distancias)\n",
    "    maximo_asignado= False\n",
    "    minimo_asignado= False\n",
    "    for indice,curso in enumerate(curso_asignado):\n",
    "        distancia=distancias[indice]\n",
    "        if distancia==maximo and not maximo_asignado:\n",
    "            vec_asignacion.append(0.5)\n",
    "            maximo_asignado=True\n",
    "        elif distancia== minimo and not minimo_asignado:\n",
    "            vec_asignacion.append(2)\n",
    "            minimo_asignado=True \n",
    "        else:\n",
    "            vec_asignacion.append(1)\n",
    "    matriz_resultado.append(vec_asignacion)\n",
    "matriz_resultado\n",
    "            "
   ]
  },
  {
   "cell_type": "code",
   "execution_count": null,
   "id": "37ce64d7-4f9b-4b10-8b24-43fff9618473",
   "metadata": {},
   "outputs": [
    {
     "data": {
      "text/plain": [
       "0.5"
      ]
     },
     "execution_count": 25,
     "metadata": {},
     "output_type": "execute_result"
    }
   ],
   "source": [
    "# asignacion a gabriela\n",
    "\n",
    "matriz_resultado[6][2]"
   ]
  },
  {
   "cell_type": "markdown",
   "id": "06acf1f6-c40d-4b05-b130-a3cd08ddc927",
   "metadata": {},
   "source": [
    "## Operaciones de matrices"
   ]
  },
  {
   "cell_type": "code",
   "execution_count": null,
   "id": "aa45e1c9-9e1d-468f-9820-2966db5059b3",
   "metadata": {},
   "outputs": [],
   "source": [
    "matriz_asignacion = [[2,1,0.5],\n",
    "                     [1,2,0.5],\n",
    "                     [2,1,0.5],\n",
    "                     [1,0.5,2],\n",
    "                     [0.5,2,1],\n",
    "                     [2,1,0.5],\n",
    "                     [0.5,1,2],\n",
    "                     [1,2,0.5],\n",
    "                     [1,0.5,2],\n",
    "                     [0.5,1,2]]\n",
    "indice_alumnos=[\"rodrigo\",\n",
    "                \"lucia\",\n",
    "                \"alejandro\",\n",
    "                \"valeria\",\n",
    "                \"javier\",\n",
    "                \"camila\",\n",
    "                \"diego\",\n",
    "                \"gabriela\",\n",
    "                \"mateo\",\n",
    "                \"sofia\"]"
   ]
  },
  {
   "cell_type": "code",
   "execution_count": null,
   "id": "41a6816d-ab7c-43f4-9c15-4e709a35f0f4",
   "metadata": {},
   "outputs": [],
   "source": [
    "# multiplicacion por un escalar\n",
    "def escalar_producto(escalar,matriz):\n",
    "    matriz_resultado=[]\n",
    "    for vector_fila in matriz:\n",
    "        nuevo_vector_fila=[]\n",
    "        for componente in vector_fila:\n",
    "            producto=escalar*componente\n",
    "            nuevo_vector_fila.append(producto)\n",
    "        matriz_resultado.append(nuevo_vector_fila)\n",
    "    return matriz_resultado"
   ]
  },
  {
   "cell_type": "code",
   "execution_count": null,
   "id": "bba2c3c4-4ccc-4d47-b9b4-00e310a6b042",
   "metadata": {},
   "outputs": [
    {
     "data": {
      "text/plain": [
       "[[2, 1, 0.5],\n",
       " [1, 2, 0.5],\n",
       " [2, 1, 0.5],\n",
       " [1, 0.5, 2],\n",
       " [0.5, 2, 1],\n",
       " [2, 1, 0.5],\n",
       " [0.5, 1, 2],\n",
       " [1, 2, 0.5],\n",
       " [1, 0.5, 2],\n",
       " [0.5, 1, 2]]"
      ]
     },
     "execution_count": 34,
     "metadata": {},
     "output_type": "execute_result"
    }
   ],
   "source": [
    "escalar_producto(1, matriz_asignacion)"
   ]
  },
  {
   "cell_type": "code",
   "execution_count": null,
   "id": "287ce889-6cd3-45c1-a9db-9175654a9ee1",
   "metadata": {},
   "outputs": [
    {
     "data": {
      "text/plain": [
       "[[6, 3, 1.5],\n",
       " [3, 6, 1.5],\n",
       " [6, 3, 1.5],\n",
       " [3, 1.5, 6],\n",
       " [1.5, 6, 3],\n",
       " [6, 3, 1.5],\n",
       " [1.5, 3, 6],\n",
       " [3, 6, 1.5],\n",
       " [3, 1.5, 6],\n",
       " [1.5, 3, 6]]"
      ]
     },
     "execution_count": 35,
     "metadata": {},
     "output_type": "execute_result"
    }
   ],
   "source": [
    "escalar_producto(3,matriz_asignacion)"
   ]
  },
  {
   "cell_type": "code",
   "execution_count": null,
   "id": "a0cc2b1b-1c50-4d7b-9c3a-4106c95bf4ed",
   "metadata": {},
   "outputs": [],
   "source": [
    "#suma de matrices \n",
    "def suma_vectores(vec1,vec2):\n",
    "    vector_res=[]\n",
    "    for indice, componente in enumerate(vec1):\n",
    "        suma=componente+vec2[indice]\n",
    "        vector_res.append(suma)\n",
    "    return vector_res\n",
    "\n",
    "def suma_matrices(matriz_a, matriz_b):\n",
    "    matriz_res=[]\n",
    "    for indice, vector_fila_a in enumerate(matriz_a):\n",
    "        vector_fila_b=matriz_b[indice]\n",
    "        new_vector_fila = suma_vectores(vector_fila_a,vector_fila_b)\n",
    "        matriz_res.append(new_vector_fila)\n",
    "    return matriz_res\n",
    "        \n",
    "    "
   ]
  },
  {
   "cell_type": "code",
   "execution_count": null,
   "id": "a1bdc489-bc4f-4f54-b461-4759dd0b1c20",
   "metadata": {},
   "outputs": [
    {
     "data": {
      "text/plain": [
       "[[0, 1, 1],\n",
       " [0, 1, 1],\n",
       " [0, 1, 1],\n",
       " [0, 1, 1],\n",
       " [0, 1, 1],\n",
       " [0, 1, 1],\n",
       " [0, 1, 1],\n",
       " [0, 1, 1],\n",
       " [0, 1, 1],\n",
       " [0, 1, 1]]"
      ]
     },
     "execution_count": 37,
     "metadata": {},
     "output_type": "execute_result"
    }
   ],
   "source": [
    "matriz_sumando=[]\n",
    "for i in range(10):\n",
    "    matriz_sumando.append([0,1,1])\n",
    "matriz_sumando"
   ]
  },
  {
   "cell_type": "code",
   "execution_count": null,
   "id": "2e5ca81c-a521-4b9c-a44e-573c57ad4042",
   "metadata": {},
   "outputs": [
    {
     "data": {
      "text/plain": [
       "[[2, 2, 1.5],\n",
       " [1, 3, 1.5],\n",
       " [2, 2, 1.5],\n",
       " [1, 1.5, 3],\n",
       " [0.5, 3, 2],\n",
       " [2, 2, 1.5],\n",
       " [0.5, 2, 3],\n",
       " [1, 3, 1.5],\n",
       " [1, 1.5, 3],\n",
       " [0.5, 2, 3]]"
      ]
     },
     "execution_count": 39,
     "metadata": {},
     "output_type": "execute_result"
    }
   ],
   "source": [
    "suma_matrices(matriz_asignacion, matriz_sumando)"
   ]
  },
  {
   "cell_type": "code",
   "execution_count": null,
   "id": "def5c383-88f9-425a-a32d-02c3877d2209",
   "metadata": {},
   "outputs": [],
   "source": [
    "# resta de matrices (se hace una funcion celda funciones) ahora esto es la resta de matrices y ese resultaldo es multiuplicado por menos 1\n"
   ]
  },
  {
   "cell_type": "code",
   "execution_count": null,
   "id": "8ca75d49-3b88-4fe4-bede-1e0020650842",
   "metadata": {},
   "outputs": [],
   "source": [
    "def resta_matrices(matriz_a, matriz_b):\n",
    "    matriz_resultado=[]\n",
    "    matrizb_neg=escalar_producto(-1,matriz_b)\n",
    "    matriz_resultado= suma_matrices(matriz_a, matrizb_neg)\n",
    "    return matriz_resultado\n",
    "    "
   ]
  },
  {
   "cell_type": "code",
   "execution_count": null,
   "id": "1ffd0beb-69f2-4bdb-9a69-86682a075f74",
   "metadata": {},
   "outputs": [],
   "source": [
    "matriz_suma=suma_matrices(matriz_asignacion, matriz_sumando)"
   ]
  },
  {
   "cell_type": "code",
   "execution_count": null,
   "id": "f0a6a199-425c-4d04-a7c2-9ce99bd0dff2",
   "metadata": {},
   "outputs": [],
   "source": [
    "matriz_prueba= resta_matrices(matriz_suma,matriz_asignacion)"
   ]
  },
  {
   "cell_type": "code",
   "execution_count": null,
   "id": "79562f3b-b337-4d04-b5f5-a8fdee4419e3",
   "metadata": {},
   "outputs": [
    {
     "data": {
      "text/plain": [
       "True"
      ]
     },
     "execution_count": 51,
     "metadata": {},
     "output_type": "execute_result"
    }
   ],
   "source": [
    "matriz_prueba==matriz_sumando"
   ]
  },
  {
   "cell_type": "code",
   "execution_count": null,
   "id": "753e916d-e2c4-4b64-ae27-2f6163f92f70",
   "metadata": {},
   "outputs": [
    {
     "data": {
      "text/plain": [
       "[[0.5, 0, 0],\n",
       " [0, 0.5, 0],\n",
       " [0.5, 0, 0],\n",
       " [0, 0, 0.5],\n",
       " [0, 0.5, 0],\n",
       " [0.5, 0, 0],\n",
       " [0, 0, 0.5],\n",
       " [0, 0.5, 0],\n",
       " [0, 0, 0.5],\n",
       " [0, 0, 0.5]]"
      ]
     },
     "execution_count": 53,
     "metadata": {},
     "output_type": "execute_result"
    }
   ],
   "source": [
    "# nuevas asignaciones\n",
    "matriz_resta=[]\n",
    "for vector_fila in matriz_asignacion:\n",
    "    new_vector=[0,0,0]\n",
    "    indice_maximo=vector_fila.index(2)\n",
    "    new_vector[indice_maximo]=0.5\n",
    "    matriz_resta.append(new_vector)\n",
    "matriz_resta"
   ]
  },
  {
   "cell_type": "code",
   "execution_count": null,
   "id": "e295b4d2-c629-4ac1-bd7a-b41b1f760cb0",
   "metadata": {},
   "outputs": [],
   "source": [
    "nueva_asignacion=resta_matrices(escalar_producto(2,matriz_asignacion),matriz_resta)"
   ]
  },
  {
   "cell_type": "code",
   "execution_count": null,
   "id": "cba82076-b1f1-41c5-bba8-6092e06c2809",
   "metadata": {},
   "outputs": [
    {
     "data": {
      "text/plain": [
       "[[3.5, 2, 1.0],\n",
       " [2, 3.5, 1.0],\n",
       " [3.5, 2, 1.0],\n",
       " [2, 1.0, 3.5],\n",
       " [1.0, 3.5, 2],\n",
       " [3.5, 2, 1.0],\n",
       " [1.0, 2, 3.5],\n",
       " [2, 3.5, 1.0],\n",
       " [2, 1.0, 3.5],\n",
       " [1.0, 2, 3.5]]"
      ]
     },
     "execution_count": 57,
     "metadata": {},
     "output_type": "execute_result"
    }
   ],
   "source": [
    "nueva_asignacion"
   ]
  },
  {
   "cell_type": "code",
   "execution_count": null,
   "id": "01611b53-a796-40e6-b3c5-9aa7c1327b63",
   "metadata": {},
   "outputs": [],
   "source": [
    "matriz_asignacion_final=[[3.5,2,1.0],\n",
    "                         [2,3.5,1.0],\n",
    "                         [3.5,2,1.0],\n",
    "                         [2,1.0,3.5],\n",
    "                         [1.0,3.5,2],\n",
    "                         [3.5,2,1.0],\n",
    "                         [1.0,2,3.5],\n",
    "                         [2,3.5,1.0],\n",
    "                         [2,1.0,3.5],\n",
    "                         [1.0,2,3.5]]"
   ]
  },
  {
   "cell_type": "code",
   "execution_count": null,
   "id": "077526f4-bec3-450e-ab34-a875dbf2ef6b",
   "metadata": {},
   "outputs": [],
   "source": [
    "\n",
    "#multiplicacion entre matrices\n",
    "#funcion de producto escalar\n",
    "def dot_product(vec1,vec2,presicion=2):\n",
    "    producto=0\n",
    "    for indice in range(len(vec1)):\n",
    "        producto+=vec1[indice]*vec2[indice]\n",
    "    producto=round(producto,presicion)\n",
    "    return producto"
   ]
  },
  {
   "cell_type": "code",
   "execution_count": null,
   "id": "790a3627-9c11-45c8-9fbf-7bf583f6b794",
   "metadata": {},
   "outputs": [],
   "source": [
    "# funcion que convierta los vectores columnas en vectores filas\n",
    "def get_vec_col(matriz): #matriz como lista de listas o vectores filas\n",
    "    num_filas=len(matriz) #longitud de la matriz\n",
    "    num_columnas=len(matriz[0]) # longitud de cualqiuiera de los elementos\n",
    "    lista_vec_columnas=[]\n",
    "    for j in range(num_columnas): #recorremos columna a columna lo devolvemos como filas \n",
    "        new_vec=[] # por cada columna se inicializa el vector fila\n",
    "        for i in range(num_filas): # `para cada fila lo recorremos\n",
    "            new_vec.append(matriz[i][j])\n",
    "        lista_vec_columnas.append(new_vec)\n",
    "    return lista_vec_columnas\n",
    "            "
   ]
  },
  {
   "cell_type": "code",
   "execution_count": null,
   "id": "2c3e71eb-050b-4c85-81ed-7f4c22102fd1",
   "metadata": {},
   "outputs": [],
   "source": [
    "def mut_mat(matriz_a, matriz_b):\n",
    "    matriz_resultado=[]\n",
    "    for fila in matriz_a:\n",
    "        fila_nueva=[]\n",
    "        for vec_columna in get_vec_col(matriz_b):\n",
    "            nuevo_valor=dot_product(fila,vec_columna)\n",
    "            fila_nueva.append(nuevo_valor)\n",
    "        matriz_resultado.append(fila_nueva)\n",
    "    return matriz_resultado"
   ]
  },
  {
   "cell_type": "code",
   "execution_count": null,
   "id": "cef6c9ef-73e8-4473-945c-fc5ab5d6fc6b",
   "metadata": {},
   "outputs": [],
   "source": [
    "matriz_a =[[0,1,2],\n",
    "           [3,4,5]\n",
    "]\n",
    "matriz_b= [\n",
    "    [5,6],\n",
    "    [7,8],\n",
    "    [9,10]\n",
    "]"
   ]
  },
  {
   "cell_type": "code",
   "execution_count": null,
   "id": "900c474b-c483-48a2-b809-3eab97563c90",
   "metadata": {},
   "outputs": [
    {
     "data": {
      "text/plain": [
       "[[5, 7, 9], [6, 8, 10]]"
      ]
     },
     "execution_count": 105,
     "metadata": {},
     "output_type": "execute_result"
    }
   ],
   "source": [
    "get_vec_col(matriz_b)"
   ]
  },
  {
   "cell_type": "code",
   "execution_count": null,
   "id": "0af12a11-5cfa-4bd6-88cd-e3bfcbce762e",
   "metadata": {},
   "outputs": [
    {
     "data": {
      "text/plain": [
       "[[25, 28], [88, 100]]"
      ]
     },
     "execution_count": 106,
     "metadata": {},
     "output_type": "execute_result"
    }
   ],
   "source": [
    "mut_mat(matriz_a,matriz_b)"
   ]
  },
  {
   "cell_type": "code",
   "execution_count": null,
   "id": "c7f64417-76e9-427c-a278-029f4172eef6",
   "metadata": {},
   "outputs": [],
   "source": [
    "matriz_proveedores=[\n",
    "    [25,20],\n",
    "    [45,35],\n",
    "    [12,20]\n",
    "]"
   ]
  },
  {
   "cell_type": "code",
   "execution_count": null,
   "id": "20096903-0dc0-4145-a683-04673568a13f",
   "metadata": {},
   "outputs": [
    {
     "data": {
      "text/plain": [
       "[[189.5, 160.0],\n",
       " [219.5, 182.5],\n",
       " [189.5, 160.0],\n",
       " [137.0, 145.0],\n",
       " [206.5, 182.5],\n",
       " [189.5, 160.0],\n",
       " [157.0, 160.0],\n",
       " [219.5, 182.5],\n",
       " [137.0, 145.0],\n",
       " [157.0, 160.0]]"
      ]
     },
     "execution_count": 109,
     "metadata": {},
     "output_type": "execute_result"
    }
   ],
   "source": [
    "mut_mat(matriz_asignacion_final, matriz_proveedores)"
   ]
  },
  {
   "cell_type": "markdown",
   "id": "c28328d8-ee62-4bda-8044-22b589572795",
   "metadata": {},
   "source": [
    "## Numpy\n"
   ]
  },
  {
   "cell_type": "code",
   "execution_count": null,
   "id": "da0fff63-7a0e-469d-9df2-f80011d5fbe5",
   "metadata": {},
   "outputs": [
    {
     "data": {
      "text/plain": [
       "'1.26.1'"
      ]
     },
     "execution_count": 112,
     "metadata": {},
     "output_type": "execute_result"
    }
   ],
   "source": [
    "import numpy as np  # solo asi se improta\n",
    "np.__version__ # asi se ve la version de una importacion "
   ]
  },
  {
   "cell_type": "code",
   "execution_count": null,
   "id": "3c0b28c3-a028-4df7-9e14-c78391eb0f02",
   "metadata": {},
   "outputs": [
    {
     "data": {
      "text/plain": [
       "\u001b[1;31mType:\u001b[0m        module\n",
       "\u001b[1;31mString form:\u001b[0m <module 'numpy' from 'C:\\\\Users\\\\34603\\\\AppData\\\\Local\\\\Programs\\\\Python\\\\Python310\\\\lib\\\\site-packages\\\\numpy\\\\__init__.py'>\n",
       "\u001b[1;31mFile:\u001b[0m        c:\\users\\34603\\appdata\\local\\programs\\python\\python310\\lib\\site-packages\\numpy\\__init__.py\n",
       "\u001b[1;31mDocstring:\u001b[0m  \n",
       "NumPy\n",
       "=====\n",
       "\n",
       "Provides\n",
       "  1. An array object of arbitrary homogeneous items\n",
       "  2. Fast mathematical operations over arrays\n",
       "  3. Linear Algebra, Fourier Transforms, Random Number Generation\n",
       "\n",
       "How to use the documentation\n",
       "----------------------------\n",
       "Documentation is available in two forms: docstrings provided\n",
       "with the code, and a loose standing reference guide, available from\n",
       "`the NumPy homepage <https://numpy.org>`_.\n",
       "\n",
       "We recommend exploring the docstrings using\n",
       "`IPython <https://ipython.org>`_, an advanced Python shell with\n",
       "TAB-completion and introspection capabilities.  See below for further\n",
       "instructions.\n",
       "\n",
       "The docstring examples assume that `numpy` has been imported as ``np``::\n",
       "\n",
       "  >>> import numpy as np\n",
       "\n",
       "Code snippets are indicated by three greater-than signs::\n",
       "\n",
       "  >>> x = 42\n",
       "  >>> x = x + 1\n",
       "\n",
       "Use the built-in ``help`` function to view a function's docstring::\n",
       "\n",
       "  >>> help(np.sort)\n",
       "  ... # doctest: +SKIP\n",
       "\n",
       "For some objects, ``np.info(obj)`` may provide additional help.  This is\n",
       "particularly true if you see the line \"Help on ufunc object:\" at the top\n",
       "of the help() page.  Ufuncs are implemented in C, not Python, for speed.\n",
       "The native Python help() does not know how to view their help, but our\n",
       "np.info() function does.\n",
       "\n",
       "To search for documents containing a keyword, do::\n",
       "\n",
       "  >>> np.lookfor('keyword')\n",
       "  ... # doctest: +SKIP\n",
       "\n",
       "General-purpose documents like a glossary and help on the basic concepts\n",
       "of numpy are available under the ``doc`` sub-module::\n",
       "\n",
       "  >>> from numpy import doc\n",
       "  >>> help(doc)\n",
       "  ... # doctest: +SKIP\n",
       "\n",
       "Available subpackages\n",
       "---------------------\n",
       "lib\n",
       "    Basic functions used by several sub-packages.\n",
       "random\n",
       "    Core Random Tools\n",
       "linalg\n",
       "    Core Linear Algebra Tools\n",
       "fft\n",
       "    Core FFT routines\n",
       "polynomial\n",
       "    Polynomial tools\n",
       "testing\n",
       "    NumPy testing tools\n",
       "distutils\n",
       "    Enhancements to distutils with support for\n",
       "    Fortran compilers support and more  (for Python <= 3.11).\n",
       "\n",
       "Utilities\n",
       "---------\n",
       "test\n",
       "    Run numpy unittests\n",
       "show_config\n",
       "    Show numpy build configuration\n",
       "matlib\n",
       "    Make everything matrices.\n",
       "__version__\n",
       "    NumPy version string\n",
       "\n",
       "Viewing documentation using IPython\n",
       "-----------------------------------\n",
       "\n",
       "Start IPython and import `numpy` usually under the alias ``np``: `import\n",
       "numpy as np`.  Then, directly past or use the ``%cpaste`` magic to paste\n",
       "examples into the shell.  To see which functions are available in `numpy`,\n",
       "type ``np.<TAB>`` (where ``<TAB>`` refers to the TAB key), or use\n",
       "``np.*cos*?<ENTER>`` (where ``<ENTER>`` refers to the ENTER key) to narrow\n",
       "down the list.  To view the docstring for a function, use\n",
       "``np.cos?<ENTER>`` (to view the docstring) and ``np.cos??<ENTER>`` (to view\n",
       "the source code).\n",
       "\n",
       "Copies vs. in-place operation\n",
       "-----------------------------\n",
       "Most of the functions in `numpy` return a copy of the array argument\n",
       "(e.g., `np.sort`).  In-place versions of these functions are often\n",
       "available as array methods, i.e. ``x = np.array([1,2,3]); x.sort()``.\n",
       "Exceptions to this rule are documented."
      ]
     },
     "metadata": {},
     "output_type": "display_data"
    }
   ],
   "source": [
    "np?  # esta es la forma para ver su uso y caeracteristicas de algo"
   ]
  },
  {
   "cell_type": "markdown",
   "id": "a9c3ae38-e405-45e1-bbec-187eb9ab136a",
   "metadata": {},
   "source": [
    "## vectores y numpy"
   ]
  },
  {
   "cell_type": "code",
   "execution_count": null,
   "id": "65e8cfea-df5a-4bac-a69e-2a659e80a752",
   "metadata": {},
   "outputs": [],
   "source": [
    "vector_np=np.array([2,3])"
   ]
  },
  {
   "cell_type": "code",
   "execution_count": null,
   "id": "fbb950e7-4a88-4b67-97c6-edd33b316653",
   "metadata": {},
   "outputs": [
    {
     "name": "stdout",
     "output_type": "stream",
     "text": [
      "<class 'numpy.ndarray'>\n"
     ]
    }
   ],
   "source": [
    "print(type(vector_np))  # ndarray son la caractyeristicas para enteros"
   ]
  },
  {
   "cell_type": "code",
   "execution_count": null,
   "id": "f8354c7a-c1f7-4383-9024-fea0d4b2051b",
   "metadata": {},
   "outputs": [],
   "source": [
    "vector_1=np.array([23,-4,5])\n",
    "vec_2=[12,3,-12]\n",
    "vector_2=np.array(vec_2)"
   ]
  },
  {
   "cell_type": "code",
   "execution_count": null,
   "id": "5afff4d8-3aa8-4c72-9a05-5f6e3e6e06f8",
   "metadata": {},
   "outputs": [
    {
     "name": "stdout",
     "output_type": "stream",
     "text": [
      "[35 -1 -7]\n",
      "[11 -7 17]\n",
      "[ 69 -12  15]\n",
      "204\n",
      "204\n",
      "23.874672772626646\n",
      "17.233687939614086\n",
      "0.49580912449444803\n",
      "21.42428528562855\n"
     ]
    }
   ],
   "source": [
    "#suma\n",
    "vec_suma=vector_1+vector_2\n",
    "print(vec_suma)\n",
    "#resta\n",
    "vec_resta=vector_1-vector_2\n",
    "print(vec_resta)\n",
    "#prodcuto por un escalar\n",
    "vec_escalar= 3*vector_1\n",
    "print(vec_escalar)\n",
    "#producto escalar entre dos vectores\n",
    "dot_product= vector_1.dot(vector_2)\n",
    "print(dot_product)\n",
    "dot_product=np.dot(vector_1,vector_2)\n",
    "print(dot_product)\n",
    "#norma, longitud o magnitud\n",
    "norm_1=np.linalg.norm(vector_1)\n",
    "norm_2=np.linalg.norm(vector_2)\n",
    "print(norm_1)\n",
    "print(norm_2)\n",
    "#coseno del angulo\n",
    "cose_ang_1_2=dot_product/(norm_1*norm_2)\n",
    "print(cose_ang_1_2)\n",
    "\n",
    "#distancia entre dos vectores\n",
    "dist_v1_v2=np.linalg.norm(vector_1-vector_2)\n",
    "print(dist_v1_v2)"
   ]
  },
  {
   "cell_type": "code",
   "execution_count": null,
   "id": "0d236b43-8923-40a5-aa44-de5f81627b3f",
   "metadata": {},
   "outputs": [],
   "source": [
    "alumnos_aidone ={\n",
    "    \"rodrigo\": [5,4],\n",
    "    \"lucia\": [2,-3],\n",
    "    \"alejandro\": [3,5],\n",
    "    \"valeria\": [-3,4],\n",
    "    \"camila\":[3,2],\n",
    "    \"diego\":[-1,1],\n",
    "    \"gabriela\": [5,-2],\n",
    "    \"mateo\":[-5,3],\n",
    "    \"sofia\":[-5,1]\n",
    "}"
   ]
  },
  {
   "cell_type": "code",
   "execution_count": null,
   "id": "690a08d4-4ff4-4c40-9e5b-7b45ff3c2a1f",
   "metadata": {},
   "outputs": [
    {
     "data": {
      "text/plain": [
       "{'rodrigo': array([5, 4]),\n",
       " 'lucia': array([ 2, -3]),\n",
       " 'alejandro': array([3, 5]),\n",
       " 'valeria': array([-3,  4]),\n",
       " 'camila': array([3, 2]),\n",
       " 'diego': array([-1,  1]),\n",
       " 'gabriela': array([ 5, -2]),\n",
       " 'mateo': array([-5,  3]),\n",
       " 'sofia': array([-5,  1])}"
      ]
     },
     "execution_count": 146,
     "metadata": {},
     "output_type": "execute_result"
    }
   ],
   "source": [
    "alumnos_np={}\n",
    "for alumno,vec_list in alumnos_aidone.items():\n",
    "    alumnos_np[alumno]=np.array(vec_list)\n",
    "alumnos_np"
   ]
  },
  {
   "cell_type": "code",
   "execution_count": null,
   "id": "51ad357f-0692-47d5-8955-4bf25c9be65d",
   "metadata": {},
   "outputs": [
    {
     "ename": "SyntaxError",
     "evalue": "f-string: unmatched '[' (1514915250.py, line 18)",
     "output_type": "error",
     "traceback": [
      "\u001b[1;36m  Cell \u001b[1;32mIn[152], line 18\u001b[1;36m\u001b[0m\n\u001b[1;33m    print(f\"para{alumno},el curso asignado es\" + f\"{diccionario_reparto[alumno][\"curso elegido\"]}\")\u001b[0m\n\u001b[1;37m                                                                                 ^\u001b[0m\n\u001b[1;31mSyntaxError\u001b[0m\u001b[1;31m:\u001b[0m f-string: unmatched '['\n"
     ]
    }
   ],
   "source": [
    "alumnos_ref=[\"rodrigo\",\"gabriela\",\"mateo\"]\n",
    "curso_asignado=[\"CAI\",\"ER\",\"NMPC\"]\n",
    "diccionario_reparto={}\n",
    "for alumno, vector in alumnos_aidone.items():\n",
    "    distancia_minima= 9999999999\n",
    "    indice_distancia_minima= -1\n",
    "    diccionario_reparto[alumno]= {'distancia': [], \"curso_elegido\":\"\"}\n",
    "    for indice_curso, alumno_ref in enumerate(alumnos_ref):\n",
    "        vec_ref=alumnos_np[alumno_ref]\n",
    "\n",
    "        distancia=round(np.linalg.norm(vector-vec_ref)-1)\n",
    "        if distancia<distancia_minima:\n",
    "            distancia_minima=distancia\n",
    "            indice_distancia_minima=indice_curso\n",
    "\n",
    "        diccionario_reparto[alumno][\"distancia\"].append(distancia)\n",
    "        diccionario_reparto[alumno][\"curso_elegido\"]= curso_asignado[indice_distancia_minima]\n",
    "    print(f\"para{alumno},el curso asignado es\" + f\"{diccionario_reparto[alumno][\"curso elegido\"]}\")"
   ]
  },
  {
   "cell_type": "markdown",
   "id": "659d161a-c216-422d-aa77-2353449057ee",
   "metadata": {},
   "source": [
    "## Crear matrices con los Numpy"
   ]
  },
  {
   "cell_type": "code",
   "execution_count": null,
   "id": "b86e41eb-a812-41b4-8b57-07fa1b7982e9",
   "metadata": {},
   "outputs": [],
   "source": [
    "#matriz con lista\n",
    "matriz=[[1,2,3],\n",
    "        [4,5,6]]\n",
    "\n"
   ]
  },
  {
   "cell_type": "code",
   "execution_count": null,
   "id": "29504e26-7c4d-4841-b541-d1239bde2824",
   "metadata": {},
   "outputs": [
    {
     "name": "stdout",
     "output_type": "stream",
     "text": [
      "[[1, 2, 3], [4, 5, 6]]\n",
      "[[1 2 3]\n",
      " [4 5 6]]\n",
      "[[1 3 2]\n",
      " [1 0 0]\n",
      " [1 2 2]]\n",
      "[[1 0 5]\n",
      " [7 5 0]\n",
      " [2 1 1]]\n"
     ]
    }
   ],
   "source": [
    "import numpy as np\n",
    "#usando un casting (conversion de tipos) de la variable anterior\n",
    "matriz_np=np.array(matriz)\n",
    "#utilizando la lista de listas\n",
    "a=np.array([[1,3,2],\n",
    "            [1,0,0],\n",
    "            [1,2,2]])\n",
    "b=np.array([[1,0,5],\n",
    "            [7,5,0],\n",
    "            [2,1,1]])\n",
    "\n",
    "print(matriz)\n",
    "print(matriz_np)\n",
    "print(a)\n",
    "print(b)"
   ]
  },
  {
   "cell_type": "markdown",
   "id": "14eab138-7aeb-4918-9cb9-59fc655818ca",
   "metadata": {},
   "source": [
    "## operaciones con matrices"
   ]
  },
  {
   "cell_type": "code",
   "execution_count": null,
   "id": "84bd6c99-8a4c-4e46-9d6f-bf562c5162c0",
   "metadata": {},
   "outputs": [
    {
     "name": "stdout",
     "output_type": "stream",
     "text": [
      "3 * a:\n",
      " [[3 9 6]\n",
      " [3 0 0]\n",
      " [3 6 6]]\n",
      "A + b:\n",
      " [[2 3 7]\n",
      " [8 5 0]\n",
      " [3 3 3]]\n",
      "a - b:\n",
      " [[ 0  3 -3]\n",
      " [-6 -5  0]\n",
      " [-1  1  1]]\n",
      "producto_mat\n",
      " [[26 17  7]\n",
      " [ 1  0  5]\n",
      " [19 12  7]]\n",
      "a_trans:\n",
      " [[1 1 1]\n",
      " [3 0 2]\n",
      " [2 0 2]]\n",
      "a: [[1 3 2]\n",
      " [1 0 0]\n",
      " [1 2 2]]\n"
     ]
    }
   ],
   "source": [
    "# producto por un escalar\n",
    "producto=3*a\n",
    "print(\"3 * a:\\n\",producto)\n",
    "#suma\n",
    "suma=a+b\n",
    "print(\"A + b:\\n\", suma)\n",
    "#resta\n",
    "resta = a - b\n",
    "print(\"a - b:\\n\", resta)\n",
    "#producto matricial\n",
    "producto_mat= a.dot(b)\n",
    "print(\"producto_mat\\n\", producto_mat)\n",
    "# transposición\n",
    "a_trans = a.T\n",
    "print(\"a_trans:\\n\", a_trans)\n",
    "print(\"a:\",a)"
   ]
  },
  {
   "cell_type": "code",
   "execution_count": null,
   "id": "199310c6-2422-4f65-a6cd-19ed38b4cb54",
   "metadata": {},
   "outputs": [],
   "source": [
    "import numpy as np"
   ]
  },
  {
   "cell_type": "code",
   "execution_count": null,
   "id": "3cd05c4e-75f4-40e5-82bf-be20a960b4a0",
   "metadata": {},
   "outputs": [],
   "source": [
    "matriz_asignaciones_np=np.array(matriz_asignacion)"
   ]
  },
  {
   "cell_type": "code",
   "execution_count": null,
   "id": "16d60a6d-7280-42a2-9ed1-0a2379d96e56",
   "metadata": {},
   "outputs": [
    {
     "name": "stdout",
     "output_type": "stream",
     "text": [
      "[[2, 1, 0.5], [1, 2, 0.5], [2, 1, 0.5], [1, 0.5, 2], [0.5, 2, 1], [2, 1, 0.5], [0.5, 1, 2], [1, 2, 0.5], [1, 0.5, 2], [0.5, 1, 2]]\n"
     ]
    }
   ],
   "source": [
    "print(matriz_asignacion)"
   ]
  },
  {
   "cell_type": "code",
   "execution_count": null,
   "id": "e54ce9ee-3b8b-4889-8cba-a9f97b2f5654",
   "metadata": {},
   "outputs": [],
   "source": [
    "matriz_asignacion_np= np.array(matriz_asignacion)"
   ]
  },
  {
   "cell_type": "code",
   "execution_count": null,
   "id": "02076031-6bf2-4448-8e81-2f1d49e26ee1",
   "metadata": {},
   "outputs": [],
   "source": [
    "# crear matriz resta\n",
    "matriz_resta=[]\n",
    "for vector in matriz_asignacion:\n",
    "    new_vector=[0,0,0]\n",
    "    new_vector[vector.index(2)]=0.5\n",
    "    matriz_resta.append(new_vector)\n",
    "matriz_resta_np=np.array(matriz_resta)"
   ]
  },
  {
   "cell_type": "code",
   "execution_count": null,
   "id": "53fa9ee8-17d2-4bc3-b121-1427ae31f2ea",
   "metadata": {},
   "outputs": [],
   "source": [
    "nueva_asignacion= 2*matriz_asignacion_np-matriz_resta_np"
   ]
  },
  {
   "cell_type": "code",
   "execution_count": null,
   "id": "5bb76b13-abda-4e1f-ab1a-04f55433f129",
   "metadata": {},
   "outputs": [
    {
     "name": "stdout",
     "output_type": "stream",
     "text": [
      "[[3.5 2.  1. ]\n",
      " [2.  3.5 1. ]\n",
      " [3.5 2.  1. ]\n",
      " [2.  1.  3.5]\n",
      " [1.  3.5 2. ]\n",
      " [3.5 2.  1. ]\n",
      " [1.  2.  3.5]\n",
      " [2.  3.5 1. ]\n",
      " [2.  1.  3.5]\n",
      " [1.  2.  3.5]]\n"
     ]
    }
   ],
   "source": [
    "print(nueva_asignacion)"
   ]
  },
  {
   "cell_type": "code",
   "execution_count": null,
   "id": "c63e2e97-02d8-4fe5-8a50-8aff318b8011",
   "metadata": {},
   "outputs": [],
   "source": [
    "# calculo de costes\n",
    "matriz_provedores=[[25,20],\n",
    "                   [45,35],\n",
    "                   [12,20]]\n"
   ]
  },
  {
   "cell_type": "code",
   "execution_count": null,
   "id": "a360e84d-a6e0-4014-8c26-4fa37d9c5e53",
   "metadata": {},
   "outputs": [
    {
     "data": {
      "text/plain": [
       "array([[25, 20],\n",
       "       [45, 35],\n",
       "       [12, 20]])"
      ]
     },
     "execution_count": 14,
     "metadata": {},
     "output_type": "execute_result"
    }
   ],
   "source": [
    "matriz_provedores_np=np.array(matriz_provedores)\n",
    "matriz_provedores_np"
   ]
  },
  {
   "cell_type": "code",
   "execution_count": null,
   "id": "9ce1bbbd-999f-4ea2-be8b-2185bccbd12e",
   "metadata": {},
   "outputs": [],
   "source": [
    "nuevos_costes=nueva_asignacion.dot(matriz_provedores_np)"
   ]
  },
  {
   "cell_type": "code",
   "execution_count": null,
   "id": "2158a16e-b061-4241-ba96-8b52c3ee6f02",
   "metadata": {},
   "outputs": [
    {
     "name": "stdout",
     "output_type": "stream",
     "text": [
      "[[189.5 160. ]\n",
      " [219.5 182.5]\n",
      " [189.5 160. ]\n",
      " [137.  145. ]\n",
      " [206.5 182.5]\n",
      " [189.5 160. ]\n",
      " [157.  160. ]\n",
      " [219.5 182.5]\n",
      " [137.  145. ]\n",
      " [157.  160. ]]\n"
     ]
    }
   ],
   "source": [
    "print(nuevos_costes)"
   ]
  },
  {
   "cell_type": "code",
   "execution_count": null,
   "id": "ab9dfe26-aea8-47c4-9a80-16acd74a3a44",
   "metadata": {},
   "outputs": [],
   "source": [
    "#forma de acceder los elementos de un array\n",
    "costes_dreamclass=np.sum(nuevos_costes[:,0])\n",
    "costes_skillap= np.sum(nuevos_costes[:,1])"
   ]
  },
  {
   "cell_type": "code",
   "execution_count": null,
   "id": "d9b95129-3a66-4032-9569-ce2d52da8b73",
   "metadata": {},
   "outputs": [
    {
     "data": {
      "text/plain": [
       "1802.0"
      ]
     },
     "execution_count": 22,
     "metadata": {},
     "output_type": "execute_result"
    }
   ],
   "source": [
    "costes_dreamclass"
   ]
  },
  {
   "cell_type": "code",
   "execution_count": null,
   "id": "70c60749-6fa3-4af2-8b50-abe6c333c201",
   "metadata": {},
   "outputs": [
    {
     "data": {
      "text/plain": [
       "1637.5"
      ]
     },
     "execution_count": 23,
     "metadata": {},
     "output_type": "execute_result"
    }
   ],
   "source": [
    "costes_skillap"
   ]
  },
  {
   "cell_type": "markdown",
   "id": "9e26058d-01ee-48f0-baf0-b2771ae87fd9",
   "metadata": {},
   "source": [
    "## Array"
   ]
  },
  {
   "cell_type": "code",
   "execution_count": null,
   "id": "cf3a78e8-1120-4395-8c79-a973cfafaef6",
   "metadata": {},
   "outputs": [],
   "source": [
    "import numpy as np\n"
   ]
  },
  {
   "cell_type": "code",
   "execution_count": null,
   "id": "464b46e1-c520-45e4-9792-4b233a63905f",
   "metadata": {},
   "outputs": [],
   "source": [
    "array_vec=np.array([1,2,3,4,5])"
   ]
  },
  {
   "cell_type": "code",
   "execution_count": null,
   "id": "247d0961-fd40-4610-be03-475b64363d4a",
   "metadata": {},
   "outputs": [
    {
     "data": {
      "text/plain": [
       "array([1, 2, 3, 4, 5])"
      ]
     },
     "execution_count": 27,
     "metadata": {},
     "output_type": "execute_result"
    }
   ],
   "source": [
    "array_vec"
   ]
  },
  {
   "cell_type": "code",
   "execution_count": null,
   "id": "bccc36b0-177e-49f7-a180-6970d4b4a0d2",
   "metadata": {},
   "outputs": [
    {
     "name": "stdout",
     "output_type": "stream",
     "text": [
      "1\n",
      "5\n",
      "4\n"
     ]
    }
   ],
   "source": [
    "# para ver elementos en este caso vamos a ver el primero que se basa en el lenguaje pyton contandolo como el \"0\"\n",
    "print(array_vec[0])\n",
    "print(array_vec[-1])\n",
    "print(array_vec[-2])"
   ]
  },
  {
   "cell_type": "code",
   "execution_count": null,
   "id": "96179ff4-661d-4042-b332-b488d06e4f2a",
   "metadata": {},
   "outputs": [
    {
     "name": "stdout",
     "output_type": "stream",
     "text": [
      "<class 'numpy.ndarray'>\n",
      "<class 'numpy.int32'>\n",
      "<class 'numpy.dtypes.Int32DType'>\n"
     ]
    }
   ],
   "source": [
    "print(type(array_vec))\n",
    "print(type(array_vec[0]))  #Los array solo pueden contener del mismo tipo, en este caso son enteros de una clase especifica\n",
    "print(type(array_vec.dtype)) # Asi se ve el tipo de las clases de un array, no son listas pero se acceden de la misma forma"
   ]
  },
  {
   "cell_type": "code",
   "execution_count": null,
   "id": "5214207a-817a-4e4d-a53c-3213e2907773",
   "metadata": {},
   "outputs": [
    {
     "name": "stdout",
     "output_type": "stream",
     "text": [
      "[[1 2 3]\n",
      " [4 5 6]\n",
      " [7 8 9]]\n"
     ]
    }
   ],
   "source": [
    "array_multi = np.array([[1,2,3],[4,5,6],[7,8,9]])\n",
    "print (array_multi) #la ventaja de la forma print array se determina que lo ejecuta en forma de matriz y no como una lista"
   ]
  },
  {
   "cell_type": "code",
   "execution_count": null,
   "id": "b6c5015b-70c4-423b-8c7d-54eb45067fe0",
   "metadata": {},
   "outputs": [
    {
     "name": "stdout",
     "output_type": "stream",
     "text": [
      "[[1. 0. 0.]\n",
      " [0. 1. 0.]\n",
      " [0. 0. 1.]]\n"
     ]
    }
   ],
   "source": [
    "#inicialzar una matriz con valores predertmiandos\n",
    "#matriz identidad(matriz cuadradad e igual numero de filas e igual numero de columnas, que tiene los elementos 0 menos los extremos)\n",
    "i= np.identity(3)\n",
    "print(i)"
   ]
  },
  {
   "cell_type": "code",
   "execution_count": null,
   "id": "a241a845-2770-42a7-ae6b-2851d5876b69",
   "metadata": {},
   "outputs": [
    {
     "name": "stdout",
     "output_type": "stream",
     "text": [
      "[[0. 0.]\n",
      " [0. 0.]\n",
      " [0. 0.]]\n"
     ]
    }
   ],
   "source": [
    "#matriz de 0s\n",
    "matriz_zeroz=np.zeros((3,2)) #En este tipo de matrices 0s se debe de indicar cuantas filas y columnas deben de tener entre parentesis en este caso como una tupla\n",
    "print (matriz_zeroz)"
   ]
  },
  {
   "cell_type": "code",
   "execution_count": null,
   "id": "16815cbc-1ea5-457c-b530-131ec99b978d",
   "metadata": {},
   "outputs": [
    {
     "name": "stdout",
     "output_type": "stream",
     "text": [
      "[[1. 1. 1. 1.]\n",
      " [1. 1. 1. 1.]\n",
      " [1. 1. 1. 1.]\n",
      " [1. 1. 1. 1.]\n",
      " [1. 1. 1. 1.]]\n",
      "float64\n",
      "int32\n",
      "[[1 1 1 1]\n",
      " [1 1 1 1]\n",
      " [1 1 1 1]\n",
      " [1 1 1 1]\n",
      " [1 1 1 1]]\n"
     ]
    }
   ],
   "source": [
    "# Matriz de unos\n",
    "matriz_unos=np.ones((5,4))\n",
    "print(matriz_unos)\n",
    "print(matriz_unos.dtype) #este tiempo de d.type indica un tipo de presicion de la misma, si quieres que la matriz salga sin los puntos solamente indicalo \n",
    "matriz_unos=np.ones((5,4),np.int32)  # aqui ya lo estas convirtiendo\n",
    "print(matriz_unos.dtype) #el dtype devuelve el tipo de datos en numpy\n",
    "print(matriz_unos)"
   ]
  },
  {
   "cell_type": "code",
   "execution_count": null,
   "id": "17d95a4e-a02b-421d-bd8e-4f5a241924e3",
   "metadata": {},
   "outputs": [
    {
     "name": "stdout",
     "output_type": "stream",
     "text": [
      "[[100 100 100]\n",
      " [100 100 100]]\n",
      "[[99 99 99]\n",
      " [99 99 99]\n",
      " [99 99 99]]\n"
     ]
    }
   ],
   "source": [
    "#matriz 100s\n",
    "matriz_cien=np.full((2,3),100) #podemos crear una matriz de cualquier numero poniendo esta función y a la misma indicandole el nuemro que tiene que ir\n",
    "print(matriz_cien)\n",
    "matriz_99=np.full((3,3),99)\n",
    "print(matriz_99)\n"
   ]
  },
  {
   "cell_type": "markdown",
   "id": "70e85526-e889-42bd-a97d-b89b02db75ee",
   "metadata": {},
   "source": [
    "### Crear array de secuencia "
   ]
  },
  {
   "cell_type": "markdown",
   "id": "ead094ab-2aba-4442-b615-19f794b21d10",
   "metadata": {},
   "source": [
    " Aqui usaremos la funcion \".range()\" esto se utiliza en las listas para crear secuencias estableciendo puntos de inicio o paradas, en numpy es algo parecido pero se usa \"arange\""
   ]
  },
  {
   "cell_type": "code",
   "execution_count": null,
   "id": "0781e033-bfb7-4d06-a7ce-fbce6c1d682e",
   "metadata": {},
   "outputs": [
    {
     "name": "stdout",
     "output_type": "stream",
     "text": [
      "<class 'list'>\n",
      "[0, 2, 4, 6, 8]\n",
      "[0 1 2 3 4 5 6 7 8 9]\n"
     ]
    }
   ],
   "source": [
    "lista = list(range(0,10,2)) # los dos primero numeros determinan el inicio y final y el ultimo determina de cuanto sería el salto\n",
    "print(type(lista))\n",
    "print(lista)\n",
    "#array desde el 0 al 9\n",
    "array_0_9=np.arange(10) #por qué 10 porque se cuenta como primer número el \"0\"\n",
    "print(array_0_9)\n"
   ]
  },
  {
   "cell_type": "code",
   "execution_count": null,
   "id": "db3cc24d-ee4b-482f-9da4-a80899ff9591",
   "metadata": {},
   "outputs": [
    {
     "name": "stdout",
     "output_type": "stream",
     "text": [
      "[0 2 4 6 8]\n"
     ]
    }
   ],
   "source": [
    "# del 0 al 9 de donde en 2\n",
    "array_0_92=np.arange(0,10,2)\n",
    "print(array_0_92)"
   ]
  },
  {
   "cell_type": "code",
   "execution_count": null,
   "id": "6ceef77e-7ae0-4838-9eb6-e8ddcd9d924d",
   "metadata": {},
   "outputs": [
    {
     "name": "stdout",
     "output_type": "stream",
     "text": [
      "[0.  0.5 1.  1.5 2.  2.5 3.  3.5 4.  4.5 5.  5.5 6.  6.5 7.  7.5 8.  8.5\n",
      " 9.  9.5]\n"
     ]
    }
   ],
   "source": [
    "# del 0al 10 con saltos de 0.5 / a diferencia de las lista en los array se pueden hacer saltos de decimales\n",
    "array_0_10=np.arange(0,10,0.5)\n",
    "print(array_0_10)"
   ]
  },
  {
   "cell_type": "code",
   "execution_count": null,
   "id": "9b1575d7-193d-4e0f-9ee7-291624d48720",
   "metadata": {},
   "outputs": [
    {
     "name": "stdout",
     "output_type": "stream",
     "text": [
      "[0. 2. 4. 6. 8.]\n",
      "float64\n"
     ]
    }
   ],
   "source": [
    "#especifica el tipo de datos\n",
    "array= np.arange(0,10,2,np.float64)\n",
    "print(array)\n",
    "print(array.dtype)"
   ]
  },
  {
   "cell_type": "markdown",
   "id": "526f4316-ce68-4fec-aa17-6ded84eb487e",
   "metadata": {},
   "source": [
    "### Secuencias aleaorias \n",
    "Para crearlo se usa el paquete \"random\" de numpy con una gran cantidad de opciones"
   ]
  },
  {
   "cell_type": "code",
   "execution_count": null,
   "id": "2fb136b8-58fb-4c48-9e3e-07c75d547d86",
   "metadata": {},
   "outputs": [
    {
     "name": "stdout",
     "output_type": "stream",
     "text": [
      "[0.6075077  0.82129535 0.7206953  0.30135483 0.66668428]\n"
     ]
    }
   ],
   "source": [
    "print(np.random.rand(5)) #la funcion es \".random.rand\""
   ]
  },
  {
   "cell_type": "code",
   "execution_count": null,
   "id": "0e5559cc-3b5d-48a5-831f-5a42de1bd4db",
   "metadata": {},
   "outputs": [
    {
     "name": "stdout",
     "output_type": "stream",
     "text": [
      "[[0.52136128 0.17060156 0.78469749 0.75936028]\n",
      " [0.84902557 0.99083329 0.54310873 0.45479801]\n",
      " [0.45204999 0.52590743 0.22531528 0.7946624 ]]\n"
     ]
    }
   ],
   "source": [
    "#matriz de numeros aleatorios\n",
    "matriz_aleatoria=np.random.rand(3,4) #en las matrices al poner las filas es el primer numero y las columnas el segundo\n",
    "print(matriz_aleatoria)"
   ]
  },
  {
   "cell_type": "code",
   "execution_count": null,
   "id": "dca55f09-53f4-47e8-a586-19835d0bec0e",
   "metadata": {},
   "outputs": [
    {
     "name": "stdout",
     "output_type": "stream",
     "text": [
      "[[11  7 10  9]\n",
      " [11  7 10  4]\n",
      " [ 6  5  8  8]]\n"
     ]
    }
   ],
   "source": [
    "#matriz numeros enteros aleatorios\n",
    "matriz_int=np.random.randint(3,12, size=(3,4))  # la funcion de numeros enteros-aleatorios es \".random.randint\" \n",
    "#se le da el argumento \"size\" con una tupla del tamaño de la matriz\n",
    "print(matriz_int)"
   ]
  },
  {
   "cell_type": "code",
   "execution_count": null,
   "id": "866217bc-ada7-4d85-abbc-ca861d0a090f",
   "metadata": {},
   "outputs": [
    {
     "name": "stdout",
     "output_type": "stream",
     "text": [
      "[ 8  8  7  6 11]\n"
     ]
    }
   ],
   "source": [
    "#unidimensional\n",
    "print(np.random.randint(3,12, size=5))"
   ]
  },
  {
   "cell_type": "markdown",
   "id": "def2296a-558d-4823-8e8a-2a6b57d34597",
   "metadata": {},
   "source": [
    "### Seed\n",
    "Para con esa matriz random se repira en nuestros ejercicios, se crea lo que es una semilla o \"seed\", se fija esta en las secuencias aleatorias tengan el mismo out se  mucho cuando queremos replicar resultados"
   ]
  },
  {
   "cell_type": "code",
   "execution_count": null,
   "id": "fc24ef9f-fdca-41be-af97-32c18e75a47f",
   "metadata": {},
   "outputs": [
    {
     "name": "stdout",
     "output_type": "stream",
     "text": [
      "[0.19151945 0.62210877 0.43772774 0.78535858 0.77997581 0.27259261\n",
      " 0.27646426 0.80187218 0.95813935 0.87593263]\n",
      "[0.48932698 0.05933244 0.36620243 0.51886544 0.59822501 0.43061449\n",
      " 0.17863405 0.2852539  0.07143863 0.18471334]\n",
      "[0.76984361 0.00622632 0.42875124 0.81350488 0.20609882 0.46312581\n",
      " 0.47221763 0.74772771 0.33996462 0.88352955]\n"
     ]
    }
   ],
   "source": [
    "np.random.seed(1234)\n",
    "print(np.random.rand(10))\n",
    "\n",
    "np.random.seed(5678)\n",
    "print(np.random.rand(10))\n",
    "\n",
    "np.random.seed(None)\n",
    "print(np.random.rand(10))\n"
   ]
  },
  {
   "cell_type": "markdown",
   "id": "3063d4ad-adc1-4cbf-beb5-19447bda16f1",
   "metadata": {},
   "source": [
    "## Atributos y dimensiones\n",
    "Sus atributos  son \n",
    "1. ndim: es el numero de dimensiones o niveles que tiene un array numpy\n",
    "2. shape: tamaño de cada dimensiones, devuelve el resultado en formato tupla\n",
    "3. size: cantidad de elementos\n",
    "4. dtype: el tipo numpy de lso elementos de un array"
   ]
  },
  {
   "cell_type": "code",
   "execution_count": null,
   "id": "fc639f43-6173-492e-83e8-e5c08d8eb59c",
   "metadata": {},
   "outputs": [],
   "source": [
    "import numpy as np\n",
    "array_multi=np.array([[1,2,3],\n",
    "                      [4,5,6],\n",
    "                      [7,8,9]])"
   ]
  },
  {
   "cell_type": "code",
   "execution_count": null,
   "id": "6f9731a0-e073-4626-a6d6-968b0728dd16",
   "metadata": {},
   "outputs": [
    {
     "name": "stdout",
     "output_type": "stream",
     "text": [
      "dimensiones: 2\n",
      "shape o formato: (3, 3)\n",
      "size: 9\n"
     ]
    }
   ],
   "source": [
    "print(\"dimensiones:\", array_multi.ndim)\n",
    "print(\"shape o formato:\", array_multi.shape)\n",
    "print(\"size:\", array_multi.size)"
   ]
  },
  {
   "cell_type": "markdown",
   "id": "73f48f12-6001-4a95-9303-267c2fc2ee52",
   "metadata": {},
   "source": [
    "### Dimensiones  \"ndim\"\n",
    "las dimensiones es el numero de listas anidadas que formar la matriz array, ejemplo en el primer ejerccio es una lista de listas\n",
    "que se va contando el numero de corchetes en este caso dos anidaciones (estamos hablando de array_multi)"
   ]
  },
  {
   "cell_type": "code",
   "execution_count": null,
   "id": "a8614de6-c4ac-41f4-bde1-c4ea6eefd9da",
   "metadata": {},
   "outputs": [
    {
     "name": "stdout",
     "output_type": "stream",
     "text": [
      "una dimensión: [ 2 -4  5  7 13] dimensiones: 1\n",
      "tres dimensiones. [[[ 1 10]\n",
      "  [ 2 20]\n",
      "  [ 3 30]]\n",
      "\n",
      " [[ 4 40]\n",
      "  [ 5 50]\n",
      "  [ 6 60]]\n",
      "\n",
      " [[ 7 70]\n",
      "  [ 8 80]\n",
      "  [ 9 90]]] dimensiones 3\n"
     ]
    }
   ],
   "source": [
    "array_1d=np.array([2,-4,5,7,13])\n",
    "array_3d=np.array([[[1,10],[2,20],[3,30]],\n",
    "                   [[4,40],[5,50],[6,60]],\n",
    "                   [[7,70],[8,80],[9,90]]])\n",
    "print(\"una dimensión:\", array_1d,\"dimensiones:\",array_1d.ndim)\n",
    "print(\"tres dimensiones.\",array_3d,\"dimensiones\",array_3d.ndim)\n",
    "#los array tiene un tamaño definidos\n"
   ]
  },
  {
   "cell_type": "markdown",
   "id": "aab8a388-0052-46d8-87be-5f637265a20b",
   "metadata": {},
   "source": [
    "### Tamaño de dimensiones \"shape\"\n",
    "Los elementos que cuenta el Shape son basados a las columnas, como lo indica en el ejemplo del \"array_3d\" son tres lisras que a su vez tiene tres listas y con dos elmentos cada uno, o sea las columnas"
   ]
  },
  {
   "cell_type": "code",
   "execution_count": null,
   "id": "d0089c27-a5ab-460c-be49-c8a7dc9e6e98",
   "metadata": {},
   "outputs": [
    {
     "name": "stdout",
     "output_type": "stream",
     "text": [
      "Array (ahora no lo veas como matriz): [[1 2 3]\n",
      " [4 5 6]\n",
      " [7 8 9]]\n",
      "shape: (3, 3)\n"
     ]
    }
   ],
   "source": [
    "print(\"Array (ahora no lo veas como matriz):\", array_multi)\n",
    "print(\"shape:\",array_multi.shape)"
   ]
  },
  {
   "cell_type": "code",
   "execution_count": null,
   "id": "ec924d71-7403-4ea8-9f68-d727a7e55a00",
   "metadata": {},
   "outputs": [
    {
     "name": "stdout",
     "output_type": "stream",
     "text": [
      "Array: [[[ 1 10]\n",
      "  [ 2 20]\n",
      "  [ 3 30]]\n",
      "\n",
      " [[ 4 40]\n",
      "  [ 5 50]\n",
      "  [ 6 60]]\n",
      "\n",
      " [[ 7 70]\n",
      "  [ 8 80]\n",
      "  [ 9 90]]]\n",
      "Shape: (3, 3, 2)\n"
     ]
    }
   ],
   "source": [
    "print(\"Array:\",array_3d)\n",
    "print(\"Shape:\",array_3d.shape)"
   ]
  },
  {
   "cell_type": "code",
   "execution_count": null,
   "id": "b94e6363-4d35-40fa-9096-97d6b98c4210",
   "metadata": {},
   "outputs": [],
   "source": [
    "# nota:los array son muy genéricos, en un array cuando lso Ndim son mayor o igual a 3 se les llama de forma concreta \"TENSORES\" "
   ]
  },
  {
   "cell_type": "code",
   "execution_count": null,
   "id": "722ceea9-87b8-4c3f-ac29-d323a2896b53",
   "metadata": {},
   "outputs": [
    {
     "name": "stdout",
     "output_type": "stream",
     "text": [
      "[[ 1 10]\n",
      " [ 2 20]\n",
      " [ 3 30]]\n",
      "\n",
      "[[ 4 40]\n",
      " [ 5 50]\n",
      " [ 6 60]]\n",
      "\n",
      "[[ 7 70]\n",
      " [ 8 80]\n",
      " [ 9 90]]\n"
     ]
    }
   ],
   "source": [
    "# si consideras al array_3d una matriz de matrices de 3x2 \n",
    "#accederemos a los elemntos de la siguiente manera:\n",
    "matriz_1=array_3d[0]\n",
    "matriz_2=array_3d[1]\n",
    "matriz_3=array_3d[2]\n",
    "print(matriz_1,matriz_2, matriz_3, sep = \"\\n\\n\") #sep=\"\\n\\n\": Este es un parámetro opcional de la función print. \n",
    "#En este caso, se está utilizando para especificar el separador entre los elementos que se están imprimiendo.\n",
    "#En este caso, se ha establecido como dos saltos de línea (\\n\\n), lo que significa que habrá dos líneas en blanco entre cada variable impresa."
   ]
  },
  {
   "cell_type": "code",
   "execution_count": null,
   "id": "483b07a8-c7d2-4df0-8b34-f3e96173411f",
   "metadata": {},
   "outputs": [
    {
     "name": "stdout",
     "output_type": "stream",
     "text": [
      "[[ 12 120]\n",
      " [ 15 150]\n",
      " [ 18 180]]\n",
      "[[ 5 50]\n",
      " [ 7 70]\n",
      " [ 9 90]]\n"
     ]
    }
   ],
   "source": [
    "matriz_suma= sum(array_3d)\n",
    "print(matriz_suma)\n",
    "print(matriz_1+matriz_2)"
   ]
  },
  {
   "cell_type": "code",
   "execution_count": null,
   "id": "68eb833b-f3fb-434e-a9f1-9faec3a6751d",
   "metadata": {},
   "outputs": [
    {
     "name": "stdout",
     "output_type": "stream",
     "text": [
      "[[[ 1 10]\n",
      "  [ 2 20]\n",
      "  [ 3 30]]\n",
      "\n",
      " [[ 4 40]\n",
      "  [ 5 50]\n",
      "  [ 6 60]]\n",
      "\n",
      " [[ 7 70]\n",
      "  [ 8 80]\n",
      "  [ 9 90]]]\n",
      "elemento(2,2) de la matriz\n",
      "[ 5 50]\n",
      "elemento(3,1) de la matriz\n",
      "[ 7 70]\n"
     ]
    }
   ],
   "source": [
    "#tratandola como una matriz de 3x3 con vectores como elementos\n",
    "print(array_3d)\n",
    "print(\"elemento(2,2) de la matriz\")\n",
    "elemento_2_2=array_3d[1,1]\n",
    "print(elemento_2_2)\n",
    "elemento_3_1= array_3d[2,0]\n",
    "print(\"elemento(3,1) de la matriz\")\n",
    "print(elemento_3_1)"
   ]
  },
  {
   "cell_type": "markdown",
   "id": "b62446de-f2d8-411b-8483-fc03917f35fb",
   "metadata": {},
   "source": [
    "### Tamaño del array \"size\"\n",
    "Esto es indiferente a como lo interpretes sean matrices o lista de listas porque cuenta los elementos individuales"
   ]
  },
  {
   "cell_type": "code",
   "execution_count": null,
   "id": "f8b5e66d-e682-4c32-85ed-0e6daa226b2b",
   "metadata": {},
   "outputs": [
    {
     "name": "stdout",
     "output_type": "stream",
     "text": [
      "18\n"
     ]
    }
   ],
   "source": [
    "print(array_3d.size)"
   ]
  },
  {
   "cell_type": "markdown",
   "id": "ff14e242-8faa-48b5-952f-c860c47988a8",
   "metadata": {},
   "source": [
    "## Tipos en NUMPY\n",
    "El factor tamaño es como numpy esta interpretando algún tipo de númer, los \"ints\" para numpy son Int32 a int64, esos son el numero de cantidad de bits que se necesita para interpretar ese valor"
   ]
  },
  {
   "cell_type": "code",
   "execution_count": null,
   "id": "7be2ac89-5255-40f6-b00d-9d9d1277e9cb",
   "metadata": {},
   "outputs": [],
   "source": [
    "import numpy as np"
   ]
  },
  {
   "cell_type": "code",
   "execution_count": null,
   "id": "2ecb46f7-75e4-4bf0-bedf-a157e7105d42",
   "metadata": {},
   "outputs": [
    {
     "name": "stdout",
     "output_type": "stream",
     "text": [
      "[1 2 3 4]\n",
      "int32\n"
     ]
    }
   ],
   "source": [
    "x= np.array([1,2,3,4])\n",
    "print(x)\n",
    "print(x.dtype)"
   ]
  },
  {
   "cell_type": "code",
   "execution_count": null,
   "id": "0130c568-b2bb-45be-acea-ab7322abbe71",
   "metadata": {},
   "outputs": [
    {
     "name": "stdout",
     "output_type": "stream",
     "text": [
      "[1000000000000]\n"
     ]
    },
    {
     "data": {
      "text/plain": [
       "dtype('int64')"
      ]
     },
     "execution_count": 6,
     "metadata": {},
     "output_type": "execute_result"
    }
   ],
   "source": [
    "x=np.array([1000000000000])\n",
    "print(x)\n",
    "x.dtype"
   ]
  },
  {
   "cell_type": "code",
   "execution_count": null,
   "id": "c5e5f337-f7ff-41a7-a999-72ed18f51ed8",
   "metadata": {},
   "outputs": [
    {
     "data": {
      "text/plain": [
       "dtype('bool')"
      ]
     },
     "execution_count": 9,
     "metadata": {},
     "output_type": "execute_result"
    }
   ],
   "source": [
    "# si tenemos booleanos\n",
    "x= np.array([True, False,True])\n",
    "x.dtype\n"
   ]
  },
  {
   "cell_type": "code",
   "execution_count": null,
   "id": "e94e7252-b2d0-42ea-b96f-bab074c02fa8",
   "metadata": {},
   "outputs": [
    {
     "name": "stdout",
     "output_type": "stream",
     "text": [
      "<U4\n"
     ]
    }
   ],
   "source": [
    "# cadenas de string\n",
    "x=np.array([\"aaaa\", \"b\", \"c\", \"d\"]) # el U\" determina a la cadena mas larga de letras\n",
    "print(x.dtype)"
   ]
  },
  {
   "cell_type": "code",
   "execution_count": null,
   "id": "18160022-9af7-472f-95d9-abd79e666dea",
   "metadata": {},
   "outputs": [
    {
     "name": "stdout",
     "output_type": "stream",
     "text": [
      "['a' 'True']\n",
      "[1 1]\n",
      "[1. 1.]\n"
     ]
    }
   ],
   "source": [
    "# numpy solo fuerza un tipo de valores, en la conversion prima \"strinf---> float-->ont-->bool\n",
    "\n",
    "print(np.array([\"a\",True]))\n",
    "print(np.array([1,True]))\n",
    "print(np.array([1,1.]))"
   ]
  },
  {
   "cell_type": "code",
   "execution_count": null,
   "id": "48f1692d-feb6-46a6-95ed-73bf09c907cd",
   "metadata": {},
   "outputs": [],
   "source": [
    "# la diferencia con las listas es que tienen un unico tipo que lo fuerzan y la otra es que hay un solo tamaño fijo y homogeneo"
   ]
  },
  {
   "cell_type": "code",
   "execution_count": null,
   "id": "921ae10f-25a8-4a5f-a059-c60f92a20ee5",
   "metadata": {},
   "outputs": [
    {
     "ename": "ValueError",
     "evalue": "setting an array element with a sequence. The requested array has an inhomogeneous shape after 1 dimensions. The detected shape was (3,) + inhomogeneous part.",
     "output_type": "error",
     "traceback": [
      "\u001b[1;31m---------------------------------------------------------------------------\u001b[0m",
      "\u001b[1;31mValueError\u001b[0m                                Traceback (most recent call last)",
      "Cell \u001b[1;32mIn[22], line 3\u001b[0m\n\u001b[0;32m      1\u001b[0m \u001b[38;5;66;03m#ej homogeneídad\u001b[39;00m\n\u001b[0;32m      2\u001b[0m lista_ejemplo\u001b[38;5;241m=\u001b[39m[[\u001b[38;5;241m1\u001b[39m,\u001b[38;5;241m2\u001b[39m],[\u001b[38;5;241m3\u001b[39m,\u001b[38;5;241m4\u001b[39m],[\u001b[38;5;241m5\u001b[39m]]\n\u001b[1;32m----> 3\u001b[0m lista_np\u001b[38;5;241m=\u001b[39m\u001b[43mnp\u001b[49m\u001b[38;5;241;43m.\u001b[39;49m\u001b[43marray\u001b[49m\u001b[43m(\u001b[49m\u001b[43mlista_ejemplo\u001b[49m\u001b[43m)\u001b[49m\n\u001b[0;32m      4\u001b[0m \u001b[38;5;28mprint\u001b[39m(lista_np)\n",
      "\u001b[1;31mValueError\u001b[0m: setting an array element with a sequence. The requested array has an inhomogeneous shape after 1 dimensions. The detected shape was (3,) + inhomogeneous part."
     ]
    }
   ],
   "source": [
    "#ej homogeneídad\n",
    "lista_ejemplo=[[1,2],[3,4],[5]] #aqui debe de tener tres elementos con dos valores cada uno \n",
    "lista_np=np.array(lista_ejemplo)\n",
    "print(lista_np)"
   ]
  },
  {
   "cell_type": "code",
   "execution_count": null,
   "id": "f7eb5984-d899-48ee-88a0-fa6fefa337d0",
   "metadata": {},
   "outputs": [],
   "source": [
    "# lista tamaño fijo\n",
    "lista_ejemplo=[[1,2],[3,4],[3,2]]\n",
    "lista_ejemplo.remove([3,2])  #ahora es una matriz de 3x2\n",
    "matriz_np=np.array([[1,2],[3,4],[3,3]])"
   ]
  },
  {
   "cell_type": "markdown",
   "id": "78878e13-07e2-4d4c-8915-c22f909491e3",
   "metadata": {},
   "source": [
    "### Indexado y slicing\n"
   ]
  },
  {
   "cell_type": "markdown",
   "id": "14837831-13d2-424a-8bb2-f97214f79cf1",
   "metadata": {},
   "source": [
    "#### indiexado en el array"
   ]
  },
  {
   "cell_type": "code",
   "execution_count": null,
   "id": "2f2a2d34-f2ec-4297-88ef-c0bf2c2ae4fa",
   "metadata": {},
   "outputs": [
    {
     "name": "stdout",
     "output_type": "stream",
     "text": [
      "1\n",
      "2\n",
      "3\n",
      "(3, 2, 2)\n"
     ]
    }
   ],
   "source": [
    "\n",
    "array_1=np.array([1,2,3,4,5])\n",
    "array_2=np.array([[1,2,3],[4,5,6]])\n",
    "array_3=np.array([[[1,2],[3,4]],\n",
    "                  [[5,6],[7,8]],\n",
    "                  [[9,10],[11,12]]])\n",
    "print(array_1.ndim)\n",
    "print(array_2.ndim)\n",
    "print(array_3.ndim)\n",
    "print(array_3.shape)"
   ]
  },
  {
   "cell_type": "code",
   "execution_count": null,
   "id": "a45512aa-109d-4ff0-9108-b3269f1010e4",
   "metadata": {},
   "outputs": [
    {
     "name": "stdout",
     "output_type": "stream",
     "text": [
      "1\n",
      "[3 4 5]\n"
     ]
    }
   ],
   "source": [
    "print(array_1[0]) # esta la forma de indexado\n",
    "print(array_1[2:5]) # y este es un slicing que determina desde una posicion a otra"
   ]
  },
  {
   "cell_type": "code",
   "execution_count": null,
   "id": "cb89933f-f994-4175-95b4-ca996b5276d1",
   "metadata": {},
   "outputs": [
    {
     "name": "stdout",
     "output_type": "stream",
     "text": [
      "[1 2 3]\n",
      "2\n",
      "<class 'numpy.int32'>\n",
      "<class 'numpy.ndarray'>\n"
     ]
    }
   ],
   "source": [
    "# acceder a la primera fila\n",
    "print(array_2[0])\n",
    "# segundo elemento de la primera fila\n",
    "print(array_2[0][1]) #el primer corchete selecciona la fila y el segundo el elemento\n",
    "#tipo de la primera fila\n",
    "print(type(array_2[0,0]))\n",
    "print(type(array_2[0]))\n"
   ]
  },
  {
   "cell_type": "code",
   "execution_count": null,
   "id": "c7fb0b91-1d7d-47ae-ae56-a30c44aaf6fd",
   "metadata": {},
   "outputs": [
    {
     "name": "stdout",
     "output_type": "stream",
     "text": [
      "[[1 2]\n",
      " [3 4]]\n",
      "12\n"
     ]
    }
   ],
   "source": [
    "# vamos con el elemento de tres\n",
    "#primera matriz\n",
    "print(array_3[0])\n",
    "#ultima fila ultima matriz\n",
    "print(array_3[-1,-1,-1])"
   ]
  },
  {
   "cell_type": "markdown",
   "id": "98d54d1e-9b20-47b1-a282-3f75a4fd0af8",
   "metadata": {},
   "source": [
    "#### Slicing y subarrays\n",
    "sirven para ver no solo unos elementos sino varios elementos esto se ejecuta con los dos puntos \":\", su sintaxis se basa en\n",
    "x=[start:stop:step]\n"
   ]
  },
  {
   "cell_type": "code",
   "execution_count": null,
   "id": "4e410cea-3a61-47ea-8fc3-5e09e4c8e10f",
   "metadata": {},
   "outputs": [
    {
     "name": "stdout",
     "output_type": "stream",
     "text": [
      "[0 1 2 3 4 5 6 7 8 9]\n",
      "del primer elemento al quinto: [0 1 2 3 4]\n",
      "primer elemento al quinto haciendo saltos de dos en dos: [0 2 4]\n",
      "desde el quinto: [5 6 7 8 9]\n",
      "desde el quinto hasta el penultimo: [5 6 7 8]\n",
      "desde el quinto, al primero: [5 4 3 2]\n",
      "sacar una copia: [0 1 2 3 4 5 6 7 8 9]\n",
      "ultimos dos elementos: [8 9]\n"
     ]
    }
   ],
   "source": [
    "#array de 10 elementos\n",
    "x=np.arange(10) #np.arange se crean rango de valores \n",
    "print(x)\n",
    "print(\"del primer elemento al quinto:\",x[0:5])\n",
    "print(\"primer elemento al quinto haciendo saltos de dos en dos:\",x[0:5:2])\n",
    "print(\"desde el quinto:\",x[5::])\n",
    "print(\"desde el quinto hasta el penultimo:\",x[5:-1])\n",
    "print(\"desde el quinto, al primero:\", x[5:1:-1])\n",
    "print(\"sacar una copia:\",x[:]) # tambien se podria sacar las funcion \".copy\" es decir print (x.copy())\n",
    "print(\"ultimos dos elementos:\",x[-2:])"
   ]
  },
  {
   "cell_type": "code",
   "execution_count": null,
   "id": "c777f4f4-a491-4e78-9bf7-6dadb474e61b",
   "metadata": {},
   "outputs": [
    {
     "name": "stdout",
     "output_type": "stream",
     "text": [
      "[[ 1  2  3  4]\n",
      " [ 6  7  8  9]\n",
      " [10 11 12 13]]\n",
      "2primeras filas y 3 primeras columnas\n",
      " [[1 2 3]\n",
      " [6 7 8]]\n",
      "todas las filas cada dos columnas\n",
      " [[ 1  3]\n",
      " [ 6  8]\n",
      " [10 12]]\n",
      "invertir las filas\n",
      " [[ 4  3  2  1]\n",
      " [ 9  8  7  6]\n",
      " [13 12 11 10]]\n",
      "invertir las columnas\n",
      " [[10 11 12 13]\n",
      " [ 6  7  8  9]\n",
      " [ 1  2  3  4]]\n"
     ]
    }
   ],
   "source": [
    "array_multi=np.array([[1,2,3,4],[6,7,8,9],[10,11,12,13]])\n",
    "print(array_multi)\n",
    "print(\"2primeras filas y 3 primeras columnas\\n\", array_multi[:2,:3])\n",
    "print(\"todas las filas cada dos columnas\\n\", array_multi[:,::2])\n",
    "print(\"invertir las filas\\n\", array_multi[:,::-1])\n",
    "print(\"invertir las columnas\\n\", array_multi[::-1,:])"
   ]
  },
  {
   "cell_type": "code",
   "execution_count": null,
   "id": "9f013348-42bf-4a40-b05e-946ade19910e",
   "metadata": {},
   "outputs": [
    {
     "name": "stdout",
     "output_type": "stream",
     "text": [
      "[2 4 5 2 3 7 2]\n",
      "[ True False False  True False False  True]\n"
     ]
    }
   ],
   "source": [
    "#conseguir subarrays por mascara de booleanos\n",
    "x=np.array([2,4,5,2,3,7,2])\n",
    "# elementos que sean igual a dos\n",
    "print(x)\n",
    "print(x==2)\n"
   ]
  },
  {
   "cell_type": "code",
   "execution_count": null,
   "id": "95cfe39d-2040-4e1a-82d6-01eabad8cf37",
   "metadata": {},
   "outputs": [
    {
     "name": "stdout",
     "output_type": "stream",
     "text": [
      "[ True False False  True False False  True]\n",
      "[2 2 2]\n"
     ]
    }
   ],
   "source": [
    "#subarray\n",
    "x_bools=np.array(x==2)\n",
    "print(x_bools)\n",
    "sub_x= x[x_bools]\n",
    "print(sub_x)"
   ]
  },
  {
   "cell_type": "markdown",
   "id": "dac3f2bb-5091-492b-8bb7-2ed114f40085",
   "metadata": {},
   "source": [
    "### Reshape\n",
    "Metodo que sirve para cambaiar las dimensiones de un array, se parte de un array de una dimension para poder hacerlo en multi dimensiones "
   ]
  },
  {
   "cell_type": "code",
   "execution_count": null,
   "id": "8b1a0bfd-d77a-4ec5-a5de-37f558361d0b",
   "metadata": {},
   "outputs": [
    {
     "name": "stdout",
     "output_type": "stream",
     "text": [
      "[0 1 2 3 4 5 6 7 8]\n"
     ]
    }
   ],
   "source": [
    "x= np.arange(9)\n",
    "print(x)\n"
   ]
  },
  {
   "cell_type": "code",
   "execution_count": null,
   "id": "ec1b9fcf-4b05-495d-a6cf-0999e74996e0",
   "metadata": {},
   "outputs": [
    {
     "name": "stdout",
     "output_type": "stream",
     "text": [
      "[[0 1 2]\n",
      " [3 4 5]\n",
      " [6 7 8]]\n",
      "2\n"
     ]
    }
   ],
   "source": [
    "y=x.reshape(3,3)\n",
    "print(y)\n",
    "print(y.ndim)"
   ]
  },
  {
   "cell_type": "code",
   "execution_count": null,
   "id": "4110076e-0825-4f37-97eb-899bc2a34892",
   "metadata": {},
   "outputs": [
    {
     "name": "stdout",
     "output_type": "stream",
     "text": [
      "[[[ 0  1  2]\n",
      "  [ 3  4  5]\n",
      "  [ 6  7  8]\n",
      "  [ 9 10 11]\n",
      "  [12 13 14]]\n",
      "\n",
      " [[15 16 17]\n",
      "  [18 19 20]\n",
      "  [21 22 23]\n",
      "  [24 25 26]\n",
      "  [27 28 29]]]\n",
      "[[ 0  1  2  3  4]\n",
      " [ 5  6  7  8  9]\n",
      " [10 11 12 13 14]\n",
      " [15 16 17 18 19]\n",
      " [20 21 22 23 24]\n",
      " [25 26 27 28 29]]\n"
     ]
    }
   ],
   "source": [
    "x=np.arange(30)\n",
    "x1=x.reshape(2,5,3)\n",
    "y=x.reshape(6,5)\n",
    "print(x1)\n",
    "print(y)"
   ]
  },
  {
   "cell_type": "markdown",
   "id": "8154066b-0cae-4b37-9cf4-7c1991f24775",
   "metadata": {},
   "source": [
    "## Manipulación "
   ]
  },
  {
   "cell_type": "markdown",
   "id": "057de9d7-8947-4151-a19f-7b995c40aa66",
   "metadata": {},
   "source": [
    "### Concatenación \n",
    "Tiene varios metodos \"np.concatenate\", \"np.vstack\", \"np.hstack\" lo uni co que deben de coincidir las dimensiones"
   ]
  },
  {
   "cell_type": "code",
   "execution_count": null,
   "id": "a680cc50-73e0-4754-9a14-06e76b675621",
   "metadata": {},
   "outputs": [
    {
     "data": {
      "text/plain": [
       "[1, 2, 3, 3, 2, 1]"
      ]
     },
     "execution_count": 54,
     "metadata": {},
     "output_type": "execute_result"
    }
   ],
   "source": [
    "x=[1,2,3]\n",
    "y=[3,2,1]\n",
    "x+y"
   ]
  },
  {
   "cell_type": "code",
   "execution_count": null,
   "id": "ce7f0258-9bc7-48a0-989d-91e0c99ec5c9",
   "metadata": {},
   "outputs": [
    {
     "data": {
      "text/plain": [
       "array([1, 2, 3, 3, 2, 1])"
      ]
     },
     "execution_count": 57,
     "metadata": {},
     "output_type": "execute_result"
    }
   ],
   "source": [
    "x_np=np.array(x)\n",
    "y_np=np.array(y)\n",
    "x_np+y_np #aqui no los concatema más aún lo que determina es la suma de cada uno de los elementos\n",
    "np.concatenate([x_np,y_np]) # esto se determina un concatenado horizontal, porque se ponen unos atras de otros"
   ]
  },
  {
   "cell_type": "code",
   "execution_count": null,
   "id": "d44e6667-f8d4-43b1-a400-d4d5c54ee1a3",
   "metadata": {},
   "outputs": [
    {
     "data": {
      "text/plain": [
       "array([ 1,  2,  3,  3,  2,  1, 99, 99, 99])"
      ]
     },
     "execution_count": 58,
     "metadata": {},
     "output_type": "execute_result"
    }
   ],
   "source": [
    "z_np=np.array([99,99,99])\n",
    "np.concatenate([x_np,y_np,z_np])"
   ]
  },
  {
   "cell_type": "code",
   "execution_count": null,
   "id": "7ebc4d3a-45d2-4858-b418-f6ddb3f5f4d3",
   "metadata": {},
   "outputs": [
    {
     "data": {
      "text/plain": [
       "array([[1, 2, 3],\n",
       "       [4, 5, 6],\n",
       "       [1, 2, 3],\n",
       "       [4, 5, 6]])"
      ]
     },
     "execution_count": 60,
     "metadata": {},
     "output_type": "execute_result"
    }
   ],
   "source": [
    "xy=np.array([[1,2,3],\n",
    "       [4,5,6]])\n",
    "#concatenacion de matrices\n",
    "np.concatenate([xy,xy])\n"
   ]
  },
  {
   "cell_type": "code",
   "execution_count": null,
   "id": "5327e45e-9d75-4c78-8df7-447cf9e176d9",
   "metadata": {},
   "outputs": [
    {
     "data": {
      "text/plain": [
       "\u001b[1;31mCall signature:\u001b[0m  \u001b[0mnp\u001b[0m\u001b[1;33m.\u001b[0m\u001b[0mconcatenate\u001b[0m\u001b[1;33m(\u001b[0m\u001b[1;33m*\u001b[0m\u001b[0margs\u001b[0m\u001b[1;33m,\u001b[0m \u001b[1;33m**\u001b[0m\u001b[0mkwargs\u001b[0m\u001b[1;33m)\u001b[0m\u001b[1;33m\u001b[0m\u001b[1;33m\u001b[0m\u001b[0m\n",
       "\u001b[1;31mType:\u001b[0m            _ArrayFunctionDispatcher\n",
       "\u001b[1;31mString form:\u001b[0m     <built-in function concatenate>\n",
       "\u001b[1;31mDocstring:\u001b[0m      \n",
       "concatenate((a1, a2, ...), axis=0, out=None, dtype=None, casting=\"same_kind\")\n",
       "\n",
       "Join a sequence of arrays along an existing axis.\n",
       "\n",
       "Parameters\n",
       "----------\n",
       "a1, a2, ... : sequence of array_like\n",
       "    The arrays must have the same shape, except in the dimension\n",
       "    corresponding to `axis` (the first, by default).\n",
       "axis : int, optional\n",
       "    The axis along which the arrays will be joined.  If axis is None,\n",
       "    arrays are flattened before use.  Default is 0.\n",
       "out : ndarray, optional\n",
       "    If provided, the destination to place the result. The shape must be\n",
       "    correct, matching that of what concatenate would have returned if no\n",
       "    out argument were specified.\n",
       "dtype : str or dtype\n",
       "    If provided, the destination array will have this dtype. Cannot be\n",
       "    provided together with `out`.\n",
       "\n",
       "    .. versionadded:: 1.20.0\n",
       "\n",
       "casting : {'no', 'equiv', 'safe', 'same_kind', 'unsafe'}, optional\n",
       "    Controls what kind of data casting may occur. Defaults to 'same_kind'.\n",
       "\n",
       "    .. versionadded:: 1.20.0\n",
       "\n",
       "Returns\n",
       "-------\n",
       "res : ndarray\n",
       "    The concatenated array.\n",
       "\n",
       "See Also\n",
       "--------\n",
       "ma.concatenate : Concatenate function that preserves input masks.\n",
       "array_split : Split an array into multiple sub-arrays of equal or\n",
       "              near-equal size.\n",
       "split : Split array into a list of multiple sub-arrays of equal size.\n",
       "hsplit : Split array into multiple sub-arrays horizontally (column wise).\n",
       "vsplit : Split array into multiple sub-arrays vertically (row wise).\n",
       "dsplit : Split array into multiple sub-arrays along the 3rd axis (depth).\n",
       "stack : Stack a sequence of arrays along a new axis.\n",
       "block : Assemble arrays from blocks.\n",
       "hstack : Stack arrays in sequence horizontally (column wise).\n",
       "vstack : Stack arrays in sequence vertically (row wise).\n",
       "dstack : Stack arrays in sequence depth wise (along third dimension).\n",
       "column_stack : Stack 1-D arrays as columns into a 2-D array.\n",
       "\n",
       "Notes\n",
       "-----\n",
       "When one or more of the arrays to be concatenated is a MaskedArray,\n",
       "this function will return a MaskedArray object instead of an ndarray,\n",
       "but the input masks are *not* preserved. In cases where a MaskedArray\n",
       "is expected as input, use the ma.concatenate function from the masked\n",
       "array module instead.\n",
       "\n",
       "Examples\n",
       "--------\n",
       ">>> a = np.array([[1, 2], [3, 4]])\n",
       ">>> b = np.array([[5, 6]])\n",
       ">>> np.concatenate((a, b), axis=0)\n",
       "array([[1, 2],\n",
       "       [3, 4],\n",
       "       [5, 6]])\n",
       ">>> np.concatenate((a, b.T), axis=1)\n",
       "array([[1, 2, 5],\n",
       "       [3, 4, 6]])\n",
       ">>> np.concatenate((a, b), axis=None)\n",
       "array([1, 2, 3, 4, 5, 6])\n",
       "\n",
       "This function will not preserve masking of MaskedArray inputs.\n",
       "\n",
       ">>> a = np.ma.arange(3)\n",
       ">>> a[1] = np.ma.masked\n",
       ">>> b = np.arange(2, 5)\n",
       ">>> a\n",
       "masked_array(data=[0, --, 2],\n",
       "             mask=[False,  True, False],\n",
       "       fill_value=999999)\n",
       ">>> b\n",
       "array([2, 3, 4])\n",
       ">>> np.concatenate([a, b])\n",
       "masked_array(data=[0, 1, 2, 2, 3, 4],\n",
       "             mask=False,\n",
       "       fill_value=999999)\n",
       ">>> np.ma.concatenate([a, b])\n",
       "masked_array(data=[0, --, 2, 2, 3, 4],\n",
       "             mask=[False,  True, False, False, False, False],\n",
       "       fill_value=999999)\n",
       "\u001b[1;31mClass docstring:\u001b[0m\n",
       "Class to wrap functions with checks for __array_function__ overrides.\n",
       "\n",
       "All arguments are required, and can only be passed by position.\n",
       "\n",
       "Parameters\n",
       "----------\n",
       "dispatcher : function or None\n",
       "    The dispatcher function that returns a single sequence-like object\n",
       "    of all arguments relevant.  It must have the same signature (except\n",
       "    the default values) as the actual implementation.\n",
       "    If ``None``, this is a ``like=`` dispatcher and the\n",
       "    ``_ArrayFunctionDispatcher`` must be called with ``like`` as the\n",
       "    first (additional and positional) argument.\n",
       "implementation : function\n",
       "    Function that implements the operation on NumPy arrays without\n",
       "    overrides.  Arguments passed calling the ``_ArrayFunctionDispatcher``\n",
       "    will be forwarded to this (and the ``dispatcher``) as if using\n",
       "    ``*args, **kwargs``.\n",
       "\n",
       "Attributes\n",
       "----------\n",
       "_implementation : function\n",
       "    The original implementation passed in."
      ]
     },
     "metadata": {},
     "output_type": "display_data"
    }
   ],
   "source": [
    "# se puede jugar con los ejes o argumentos por medio de una funcion que la tiene concatenate que es \"axis\"\n",
    "np.concatenate?"
   ]
  },
  {
   "cell_type": "code",
   "execution_count": null,
   "id": "bbe5850f-0670-4630-bcea-d3363a140063",
   "metadata": {},
   "outputs": [],
   "source": [
    "import numpy as np"
   ]
  },
  {
   "cell_type": "code",
   "execution_count": null,
   "id": "273e4466-3f38-4eb8-a2b0-825a11447ac7",
   "metadata": {},
   "outputs": [
    {
     "data": {
      "text/plain": [
       "array([[  1,   2,   3,   1,   2,   3],\n",
       "       [  4,   5,   6,   4,   5,   6],\n",
       "       [101,  11,  12, 101,  11,  12]])"
      ]
     },
     "execution_count": 71,
     "metadata": {},
     "output_type": "execute_result"
    }
   ],
   "source": [
    "#concatenaciòn horizonral con axis 1= segunda dimensión [columnas])\n",
    "np.concatenate([xy,xy], axis=1)"
   ]
  },
  {
   "cell_type": "code",
   "execution_count": null,
   "id": "ef34e38e-5174-4ea3-b574-2b78e3049b7b",
   "metadata": {},
   "outputs": [
    {
     "ename": "TypeError",
     "evalue": "'list' object is not callable",
     "output_type": "error",
     "traceback": [
      "\u001b[1;31m---------------------------------------------------------------------------\u001b[0m",
      "\u001b[1;31mTypeError\u001b[0m                                 Traceback (most recent call last)",
      "Cell \u001b[1;32mIn[75], line 8\u001b[0m\n\u001b[0;32m      5\u001b[0m x\u001b[38;5;241m=\u001b[39mnp\u001b[38;5;241m.\u001b[39marray([\u001b[38;5;241m7\u001b[39m,\u001b[38;5;241m8\u001b[39m,\u001b[38;5;241m9\u001b[39m])\n\u001b[0;32m      7\u001b[0m \u001b[38;5;66;03m# concatenación vertical\u001b[39;00m\n\u001b[1;32m----> 8\u001b[0m resultado\u001b[38;5;241m=\u001b[39m\u001b[43mnp\u001b[49m\u001b[38;5;241;43m.\u001b[39;49m\u001b[43mvstack\u001b[49m\u001b[43m(\u001b[49m\u001b[43m[\u001b[49m\u001b[43mxy\u001b[49m\u001b[43m,\u001b[49m\u001b[43mx\u001b[49m\u001b[43m]\u001b[49m\u001b[43m)\u001b[49m\n",
      "\u001b[1;31mTypeError\u001b[0m: 'list' object is not callable"
     ]
    }
   ],
   "source": [
    "# añadir un array de dimensiones distintas, en esos casos se utiliza el \"vstack\"\n",
    "xy=np.array([[1,2,3],\n",
    "             [4,5,6], \n",
    "             [101,11,12]])\n",
    "x=np.array([7,8,9])\n",
    "\n",
    "# concatenación vertical\n",
    "np.vstack([xy,x])\n"
   ]
  },
  {
   "cell_type": "code",
   "execution_count": null,
   "id": "45fac36c-298e-41af-a180-b4e641f08c26",
   "metadata": {},
   "outputs": [
    {
     "ename": "TypeError",
     "evalue": "'list' object is not callable",
     "output_type": "error",
     "traceback": [
      "\u001b[1;31m---------------------------------------------------------------------------\u001b[0m",
      "\u001b[1;31mTypeError\u001b[0m                                 Traceback (most recent call last)",
      "Cell \u001b[1;32mIn[77], line 9\u001b[0m\n\u001b[0;32m      6\u001b[0m x \u001b[38;5;241m=\u001b[39m np\u001b[38;5;241m.\u001b[39marray([\u001b[38;5;241m7\u001b[39m, \u001b[38;5;241m8\u001b[39m, \u001b[38;5;241m9\u001b[39m])\n\u001b[0;32m      8\u001b[0m \u001b[38;5;66;03m# concatenación vertical\u001b[39;00m\n\u001b[1;32m----> 9\u001b[0m result \u001b[38;5;241m=\u001b[39m \u001b[43mnp\u001b[49m\u001b[38;5;241;43m.\u001b[39;49m\u001b[43mvstack\u001b[49m\u001b[43m(\u001b[49m\u001b[43mxy\u001b[49m\u001b[43m,\u001b[49m\u001b[43m \u001b[49m\u001b[43mx\u001b[49m\u001b[43m)\u001b[49m\n\u001b[0;32m     11\u001b[0m \u001b[38;5;28mprint\u001b[39m(result)\n",
      "\u001b[1;31mTypeError\u001b[0m: 'list' object is not callable"
     ]
    }
   ],
   "source": [
    "import numpy as np\n",
    "\n",
    "xy = np.array([[1, 2, 3],\n",
    "               [4, 5, 6],\n",
    "               [101, 11, 12]])\n",
    "x = np.array([7, 8, 9])\n",
    "\n",
    "# concatenación vertical\n",
    "np.vstack(xy, x)\n",
    "\n",
    "print(result)\n",
    "\n"
   ]
  },
  {
   "cell_type": "code",
   "execution_count": null,
   "id": "13cc3d30-22bb-4469-a059-6462171a9c1e",
   "metadata": {},
   "outputs": [
    {
     "data": {
      "text/plain": [
       "array([[1, 2, 3, 7],\n",
       "       [4, 5, 6, 8]])"
      ]
     },
     "execution_count": 79,
     "metadata": {},
     "output_type": "execute_result"
    }
   ],
   "source": [
    "#concatenado horizontal\n",
    "xy=np.array([[1,2,3],\n",
    "             [4,5,6]])\n",
    "x= np.array([[7],[8]])\n",
    "np.hstack([xy,x])\n"
   ]
  },
  {
   "cell_type": "markdown",
   "id": "4f4a8012-a133-4597-9221-27543c10c41c",
   "metadata": {},
   "source": [
    "### Sustitución\n",
    "En numpy se usa la función \"where\" para sustituciòn de valores que cumplan o no una condición"
   ]
  },
  {
   "cell_type": "code",
   "execution_count": null,
   "id": "f547a43a-c9f4-4818-b447-e00e2778243a",
   "metadata": {},
   "outputs": [
    {
     "data": {
      "text/plain": [
       "array([[1, 0, 1],\n",
       "       [0, 1, 0]])"
      ]
     },
     "execution_count": 82,
     "metadata": {},
     "output_type": "execute_result"
    }
   ],
   "source": [
    "xy=np.array([[1,2,3],\n",
    "              [4,5,6]])\n",
    "# sustituir los valores pares por 0 y los impares por 1\n",
    "np.where(xy%2==0,0,1)  #el primer argumento es la condicion, el segundo la sustitución de los que lo cumplen y el tercero el que no lo cumple"
   ]
  },
  {
   "cell_type": "code",
   "execution_count": null,
   "id": "4fc53ddd-0d66-4c6c-bffc-96fd4df75be1",
   "metadata": {},
   "outputs": [
    {
     "data": {
      "text/plain": [
       "array([[10, 10, 10],\n",
       "       [ 4,  5,  6]])"
      ]
     },
     "execution_count": 83,
     "metadata": {},
     "output_type": "execute_result"
    }
   ],
   "source": [
    "#sustituir los valores menores a 4 por 10\n",
    "np.where(xy<4,10,xy)"
   ]
  },
  {
   "cell_type": "code",
   "execution_count": null,
   "id": "428ecced-cc76-40d1-b1b9-b8015f942877",
   "metadata": {},
   "outputs": [
    {
     "ename": "TypeError",
     "evalue": "'tuple' object is not callable",
     "output_type": "error",
     "traceback": [
      "\u001b[1;31m---------------------------------------------------------------------------\u001b[0m",
      "\u001b[1;31mTypeError\u001b[0m                                 Traceback (most recent call last)",
      "Cell \u001b[1;32mIn[85], line 2\u001b[0m\n\u001b[0;32m      1\u001b[0m texto\u001b[38;5;241m=\u001b[39m np\u001b[38;5;241m.\u001b[39marray([\u001b[38;5;124m\"\u001b[39m\u001b[38;5;124mla\u001b[39m\u001b[38;5;124m\"\u001b[39m,\u001b[38;5;124m\"\u001b[39m\u001b[38;5;124mcasa\u001b[39m\u001b[38;5;124m\"\u001b[39m,\u001b[38;5;124m\"\u001b[39m\u001b[38;5;124mes\u001b[39m\u001b[38;5;124m\"\u001b[39m, \u001b[38;5;124m\"\u001b[39m\u001b[38;5;124muna\u001b[39m\u001b[38;5;124m\"\u001b[39m, \u001b[38;5;124m\"\u001b[39m\u001b[38;5;124mcasa\u001b[39m\u001b[38;5;124m\"\u001b[39m,\u001b[38;5;124m\"\u001b[39m\u001b[38;5;124mroja\u001b[39m\u001b[38;5;124m\"\u001b[39m])\n\u001b[1;32m----> 2\u001b[0m \u001b[43mnp\u001b[49m\u001b[38;5;241;43m.\u001b[39;49m\u001b[43mwhere\u001b[49m\u001b[43m(\u001b[49m\u001b[43mtexto\u001b[49m\u001b[38;5;241;43m==\u001b[39;49m\u001b[38;5;124;43m\"\u001b[39;49m\u001b[38;5;124;43mcasa\u001b[39;49m\u001b[38;5;124;43m\"\u001b[39;49m\u001b[43m,\u001b[49m\u001b[38;5;124;43m\"\u001b[39;49m\u001b[38;5;124;43mcueva\u001b[39;49m\u001b[38;5;124;43m\"\u001b[39;49m\u001b[43m,\u001b[49m\u001b[43mtexto\u001b[49m\u001b[43m)\u001b[49m\n",
      "\u001b[1;31mTypeError\u001b[0m: 'tuple' object is not callable"
     ]
    }
   ],
   "source": [
    "texto= np.array([\"la\",\"casa\",\"es\", \"una\", \"casa\",\"roja\"])\n",
    "np.where(texto==\"casa\",\"cueva\",texto)"
   ]
  },
  {
   "cell_type": "markdown",
   "id": "b50a58e8-5912-4848-838c-da5412a17bd8",
   "metadata": {},
   "source": [
    "### Splitting\n",
    "Asi mismo tiene funciones como np.split, np.hsplit y np.vsplit esto es todo lo contrario a la concatenación \n",
    "\n"
   ]
  },
  {
   "cell_type": "code",
   "execution_count": null,
   "id": "2b3c2e64-7e3e-417c-a512-6d0e600260fa",
   "metadata": {},
   "outputs": [
    {
     "name": "stdout",
     "output_type": "stream",
     "text": [
      "[ 1  2  3 99 99  3  2  1  3]\n",
      "[1 2] [ 3 99 99  3  2  1  3]\n",
      "[1 2]\n",
      "[ 3 99 99]\n",
      "[3 2 1 3]\n"
     ]
    }
   ],
   "source": [
    "import numpy as np\n",
    "x=np.array([1,2,3,99,99,3,2,1,3])\n",
    "print(x)\n",
    "#split en tres paertes por el elemento primero y el elemento quinto\n",
    "#elemento 3\n",
    "x1,x2=np.split(x,[2])\n",
    "print(x1,x2)\n",
    "x1,x2,x3=np.split(x,[2, 5])\n",
    "print(x1)\n",
    "print(x2)\n",
    "print(x3)"
   ]
  },
  {
   "cell_type": "code",
   "execution_count": null,
   "id": "adfd2831-df1d-4e54-b78c-f8fc1a444ecd",
   "metadata": {},
   "outputs": [
    {
     "name": "stdout",
     "output_type": "stream",
     "text": [
      "[1 2]\n",
      "[ 3 99 99]\n",
      "[3 2 1 3]\n"
     ]
    }
   ],
   "source": [
    "print(x[:2])\n",
    "print(x[2:5])\n",
    "print(x[5:])"
   ]
  },
  {
   "cell_type": "code",
   "execution_count": null,
   "id": "341f1556-887f-42a9-9388-589cf28e66d6",
   "metadata": {},
   "outputs": [
    {
     "data": {
      "text/plain": [
       "array([[ 0,  1,  2,  3],\n",
       "       [ 4,  5,  6,  7],\n",
       "       [ 8,  9, 10, 11],\n",
       "       [12, 13, 14, 15]])"
      ]
     },
     "execution_count": 11,
     "metadata": {},
     "output_type": "execute_result"
    }
   ],
   "source": [
    "grid=np.arange(16).reshape((4,4))\n",
    "grid"
   ]
  },
  {
   "cell_type": "code",
   "execution_count": null,
   "id": "60ce1b01-d8dd-49f1-ac84-4dbccdad2745",
   "metadata": {},
   "outputs": [
    {
     "name": "stdout",
     "output_type": "stream",
     "text": [
      "[[0 1 2 3]\n",
      " [4 5 6 7]]\n",
      "[[ 8  9 10 11]\n",
      " [12 13 14 15]]\n"
     ]
    }
   ],
   "source": [
    "#split vertical pro la fila dos\n",
    "upper,lower=np.vsplit(grid,[2])\n",
    "print(upper)\n",
    "print(lower)\n"
   ]
  },
  {
   "cell_type": "code",
   "execution_count": null,
   "id": "edfd6e8c-e7f4-4308-a6fd-ee935135b3eb",
   "metadata": {},
   "outputs": [
    {
     "name": "stdout",
     "output_type": "stream",
     "text": [
      "[[ 0  1  2]\n",
      " [ 4  5  6]\n",
      " [ 8  9 10]\n",
      " [12 13 14]]\n",
      "[[ 3]\n",
      " [ 7]\n",
      " [11]\n",
      " [15]]\n"
     ]
    }
   ],
   "source": [
    "#split horizontal pot la columna 3\n",
    "left,rigth= np.hsplit(grid,[3])\n",
    "print(left)\n",
    "print(rigth)"
   ]
  },
  {
   "cell_type": "markdown",
   "id": "46ca8b50-e252-4a1b-a000-ac4fcbc3f0f0",
   "metadata": {},
   "source": [
    "### Vistas y copias"
   ]
  },
  {
   "cell_type": "markdown",
   "id": "47b8196e-bd68-4d49-b387-ec26645549c7",
   "metadata": {},
   "source": [
    "#### Vista\n",
    "caracteristicas importantes de los arrays cuando hacemos slicing no tenemos una copia sino una vista, lo que trata es que todo lo demás se modificará"
   ]
  },
  {
   "cell_type": "code",
   "execution_count": null,
   "id": "575e9731-e336-47c3-829e-8cc2dcd22734",
   "metadata": {},
   "outputs": [
    {
     "data": {
      "text/plain": [
       "array([[1., 1., 1., 1.],\n",
       "       [1., 1., 1., 1.],\n",
       "       [1., 1., 1., 1.]])"
      ]
     },
     "execution_count": 14,
     "metadata": {},
     "output_type": "execute_result"
    }
   ],
   "source": [
    "x2=np.ones((3,4))\n",
    "x2"
   ]
  },
  {
   "cell_type": "code",
   "execution_count": null,
   "id": "8bc7d6a0-278a-4ce6-ae6a-6fa4e16aab18",
   "metadata": {},
   "outputs": [],
   "source": [
    "x2sub=x2[:2,:2]  # el slicing recuerda que se hace con los dos puntos \":\""
   ]
  },
  {
   "cell_type": "code",
   "execution_count": null,
   "id": "c87ca4ea-eaa2-4ddb-9350-87cef2f5ca94",
   "metadata": {},
   "outputs": [
    {
     "name": "stdout",
     "output_type": "stream",
     "text": [
      "[[1. 1.]\n",
      " [1. 1.]]\n"
     ]
    }
   ],
   "source": [
    "print(x2sub)"
   ]
  },
  {
   "cell_type": "code",
   "execution_count": null,
   "id": "d9d910d4-c175-4b93-b5e4-7021a15fed08",
   "metadata": {},
   "outputs": [
    {
     "data": {
      "text/plain": [
       "array([[35.,  1.],\n",
       "       [ 1.,  1.]])"
      ]
     },
     "execution_count": 18,
     "metadata": {},
     "output_type": "execute_result"
    }
   ],
   "source": [
    "x2sub[0,0]=35\n",
    "x2sub"
   ]
  },
  {
   "cell_type": "code",
   "execution_count": null,
   "id": "157acaa0-e6ea-4f97-9f4a-42b63adff454",
   "metadata": {},
   "outputs": [
    {
     "name": "stdout",
     "output_type": "stream",
     "text": [
      "[[35.  1.  1.  1.]\n",
      " [ 1.  1.  1.  1.]\n",
      " [ 1.  1.  1.  1.]]\n"
     ]
    }
   ],
   "source": [
    "print(x2)    # aqui se nota que se modifica pero esto solo se caracteriza por medio de numpy"
   ]
  },
  {
   "cell_type": "markdown",
   "id": "59d486b2-607a-4a6c-a73c-8a44068fc316",
   "metadata": {},
   "source": [
    "#### Copias\n",
    "Aqui solo se hacen copias sin tener que modificar el array original por medio de la sentencia \"copy()\""
   ]
  },
  {
   "cell_type": "code",
   "execution_count": null,
   "id": "4c55067d-9978-4c88-9707-bd231dd62842",
   "metadata": {},
   "outputs": [
    {
     "name": "stdout",
     "output_type": "stream",
     "text": [
      "[[35.  1.]\n",
      " [ 1.  1.]]\n"
     ]
    }
   ],
   "source": [
    "x2sub_copy= x2[:2,:2].copy()\n",
    "print(x2sub_copy)"
   ]
  },
  {
   "cell_type": "code",
   "execution_count": null,
   "id": "6a83454e-20e1-4c7e-8623-91b14f09e884",
   "metadata": {},
   "outputs": [
    {
     "name": "stdout",
     "output_type": "stream",
     "text": [
      "[[ 35.   1.]\n",
      " [  1. 123.]]\n",
      "[[35.  1.]\n",
      " [ 1.  1.]]\n"
     ]
    }
   ],
   "source": [
    "x2sub_copy[1,1]=123  #aqui lo estamos modificando\n",
    "print(x2sub_copy)\n",
    "print(x2sub)"
   ]
  },
  {
   "cell_type": "markdown",
   "id": "0028f861-6371-48ee-bdfc-70793b5bf144",
   "metadata": {},
   "source": [
    "## Agregaciones \n",
    "Se basan a la media, mediana y la desviación estanadar aqui se trabaja con un resumen\n"
   ]
  },
  {
   "cell_type": "code",
   "execution_count": null,
   "id": "92edb9b9-b74a-4f1d-84bc-fa13318710db",
   "metadata": {},
   "outputs": [
    {
     "name": "stdout",
     "output_type": "stream",
     "text": [
      "[0.02553443 0.88164418 0.54521585 0.42149444 0.77728924 0.29764574\n",
      " 0.64486647 0.12805995 0.9194259  0.22829332 0.24026564 0.18287916\n",
      " 0.70819481 0.58532285 0.02550904 0.40586783 0.73576201 0.53079705\n",
      " 0.32794245 0.49507307 0.18583287 0.6754298  0.3750188  0.22262832\n",
      " 0.00854341 0.95778274 0.69875842 0.39054472 0.00598588 0.37701381\n",
      " 0.85776686 0.67466899 0.07214196 0.56176902 0.28170731 0.46536085\n",
      " 0.83807225 0.60008298 0.67673237 0.87703311 0.10014005 0.19515203\n",
      " 0.16634869 0.00459487 0.30529931 0.73478735 0.47415046 0.68977798\n",
      " 0.64648742 0.71612184 0.35788832 0.79292447 0.56177786 0.52165429\n",
      " 0.33375563 0.79250957 0.35452898 0.43264631 0.57448062 0.5675543\n",
      " 0.1410166  0.14606708 0.77657374 0.22420175 0.99300704 0.3105568\n",
      " 0.92026916 0.67720016 0.53115271 0.7062286  0.69252066 0.61217472\n",
      " 0.72181376 0.04502143 0.32778322 0.95986604 0.32319774 0.66212794\n",
      " 0.96936013 0.68423116 0.79935604 0.4402872  0.20354392 0.00342873\n",
      " 0.87172667 0.39252296 0.7162256  0.02483276 0.48895691 0.27478201\n",
      " 0.67701982 0.93857184 0.25611275 0.2292087  0.31279549 0.34787657\n",
      " 0.11718842 0.19878331 0.25162738 0.30159333]\n"
     ]
    },
    {
     "data": {
      "text/plain": [
       "47.503349107494394"
      ]
     },
     "execution_count": 8,
     "metadata": {},
     "output_type": "execute_result"
    }
   ],
   "source": [
    "# Suma \n",
    "L=np.random.random(100)\n",
    "print(L)\n",
    "sum(L)"
   ]
  },
  {
   "cell_type": "code",
   "execution_count": null,
   "id": "9265ce39-9414-4055-a691-b9a19bd1be99",
   "metadata": {},
   "outputs": [],
   "source": [
    "import numpy as np"
   ]
  },
  {
   "cell_type": "code",
   "execution_count": null,
   "id": "981f22f9-881a-4190-8feb-8748430615e6",
   "metadata": {},
   "outputs": [
    {
     "data": {
      "text/plain": [
       "46.877454728077005"
      ]
     },
     "execution_count": 26,
     "metadata": {},
     "output_type": "execute_result"
    }
   ],
   "source": [
    "#sintaxis en casa de numpy\n",
    "np.sum(L)   #Esto lo vamos usar porque es potencialmente mejor numpy"
   ]
  },
  {
   "cell_type": "code",
   "execution_count": null,
   "id": "2f3f9735-a735-48db-9692-21fbd2404750",
   "metadata": {},
   "outputs": [],
   "source": [
    "big_array= np.random.random(1000000000)"
   ]
  },
  {
   "cell_type": "code",
   "execution_count": null,
   "id": "ee67933e-6fe2-4bb0-8bc2-6a2326071a65",
   "metadata": {},
   "outputs": [],
   "source": [
    "from time import time\n",
    "\n",
    "t_zero=time()\n",
    "\n",
    "np.sum(big_array)\n",
    "\n",
    "tiempo_npsum=time()-t_zero\n",
    "\n",
    "t_zero=time()\n",
    "\n",
    "sum(big_array)\n",
    "\n",
    "tiempo_sum=time() - t_zero\n",
    "\n",
    "print(\"sum:\",tiempo_sum*1000,\"ms\")\n",
    "\n",
    "print(\"np.sum:\",tiempo_npsum*1000,\"ms\")"
   ]
  },
  {
   "cell_type": "code",
   "execution_count": null,
   "id": "bb4ff932-f20f-47f9-95f8-8d3549c3dc21",
   "metadata": {},
   "outputs": [],
   "source": [
    "import numpy as np"
   ]
  },
  {
   "cell_type": "code",
   "execution_count": null,
   "id": "dea7fc28-94c6-4e0c-ac7b-648bf3b008b9",
   "metadata": {},
   "outputs": [
    {
     "name": "stdout",
     "output_type": "stream",
     "text": [
      "28\n"
     ]
    }
   ],
   "source": [
    "matriz=[[1,2,4],[2,4,5],[1,4,5]]\n",
    "print(np.sum(matriz))"
   ]
  },
  {
   "cell_type": "markdown",
   "id": "f3c916e7-dc35-4346-84c3-771804a8ab10",
   "metadata": {},
   "source": [
    "#### Funciones de agragación de minimo y máximo\n",
    "Sus sintanxis serían \"min\" y \"max\""
   ]
  },
  {
   "cell_type": "code",
   "execution_count": null,
   "id": "b2da5f95-2135-4ffb-ba86-020975fe4033",
   "metadata": {},
   "outputs": [
    {
     "name": "stdout",
     "output_type": "stream",
     "text": [
      "1\n",
      "5\n"
     ]
    }
   ],
   "source": [
    "min(matriz), max(matriz) #esto va basado a la forma builtin\n",
    "\n",
    "print(np.min(matriz))   #Forma equivalente Numpy\n",
    "print(np.max(matriz))"
   ]
  },
  {
   "cell_type": "code",
   "execution_count": null,
   "id": "09491461-2da7-4556-85e2-368fad192c5d",
   "metadata": {},
   "outputs": [
    {
     "name": "stdout",
     "output_type": "stream",
     "text": [
      "0.9930070352688347\n",
      "0.003428729932387964\n",
      "47.50334910749437\n"
     ]
    }
   ],
   "source": [
    "print(L.max())     \n",
    "print(L.min())\n",
    "print(L.sum())"
   ]
  },
  {
   "cell_type": "markdown",
   "id": "be66eab1-2dbc-4b2b-a67c-020074a2af88",
   "metadata": {},
   "source": [
    "#### Agregaciones multidimensionales\n",
    "Esto se realiza a alo largo de una fila o una columna en numpy"
   ]
  },
  {
   "cell_type": "code",
   "execution_count": null,
   "id": "8c09c37c-9680-4784-8e26-8e0984416029",
   "metadata": {},
   "outputs": [
    {
     "name": "stdout",
     "output_type": "stream",
     "text": [
      "[[0.87376611 0.60069419 0.54317763 0.73982403 0.74692685]\n",
      " [0.11701447 0.37084701 0.11214643 0.30615382 0.89469448]\n",
      " [0.38174258 0.26931905 0.45178725 0.13409336 0.79576371]]\n"
     ]
    }
   ],
   "source": [
    "m=np.random.rand(3,5)\n",
    "print(m)"
   ]
  },
  {
   "cell_type": "code",
   "execution_count": null,
   "id": "9ad5b6ba-dec9-47f4-83a2-8d293866c0b5",
   "metadata": {},
   "outputs": [
    {
     "name": "stdout",
     "output_type": "stream",
     "text": [
      "[0.11701447 0.26931905 0.11214643 0.13409336 0.74692685]\n",
      "[0.54317763 0.11214643 0.13409336]\n"
     ]
    }
   ],
   "source": [
    "# Funciones de agragación (se ejecutarán a todos los elementos), pero aquí tiene un parametro extra para poder agragar a ejes específicos llamado \"Axis=0\"\n",
    "\n",
    "print(m.min(axis=0)) #Aqui esta sacando el mínimo de cada columna\n",
    "print(m.min(axis=1)) # aqui esta sacando el mínimo por fila\n",
    "#El argumento \"axis\" especifíca las dimensiones por la que queremos aplicar la operación por la que nos devuelva"
   ]
  },
  {
   "cell_type": "code",
   "execution_count": null,
   "id": "d9a5aad2-d6a4-43f6-a773-058726c2c85b",
   "metadata": {},
   "outputs": [
    {
     "name": "stdout",
     "output_type": "stream",
     "text": [
      "azul prob: 0.18393031712811414\n",
      "verde prob: 0.6040686448256131\n",
      "rojo prob: 0.8651458486890168\n",
      "negro prob: 0.40735412369826896\n",
      "blanco prob: 0.9939368370287119\n",
      "violeta prob: 0.5964592936043722\n",
      "naranaja prob: 0.9876851485447995\n"
     ]
    }
   ],
   "source": [
    "#Argumentos que maximiza o minimiza (argmax,argmin) Esto solo da la posición de los argumentos\n",
    "\n",
    "#Argmax nos dice el indice del elemento cuyo valor es maximo \n",
    "#Argmin el indice del elemento cuyo valor es mínimo\n",
    "salida_neuronas= np.random.rand(7) \n",
    "etiquetas_neurona=[\"azul\", \"verde\", \"rojo\", \"negro\", \"blanco\", \"violeta\", \"naranaja\"]\n",
    "\n",
    "for salida, color in zip(salida_neuronas, etiquetas_neurona):  #la funcion zip permite combinar elementos de listas del mismo tamaño\n",
    "    print(color, \"prob:\", salida)"
   ]
  },
  {
   "cell_type": "code",
   "execution_count": null,
   "id": "04279925-02ad-46ee-9fbc-cf3a30e4bf05",
   "metadata": {},
   "outputs": [
    {
     "name": "stdout",
     "output_type": "stream",
     "text": [
      "color escogido va a ser: blanco\n"
     ]
    }
   ],
   "source": [
    "indice_neurona_preferida = np.argmax(salida_neuronas)\n",
    "print(\"color escogido va a ser:\", etiquetas_neurona[indice_neurona_preferida])"
   ]
  },
  {
   "cell_type": "code",
   "execution_count": null,
   "id": "9cf24d9a-d1c6-437f-aa1e-cc5665751f27",
   "metadata": {},
   "outputs": [
    {
     "name": "stdout",
     "output_type": "stream",
     "text": [
      "color que menos debes ofrecerle es: azul\n"
     ]
    }
   ],
   "source": [
    "indice_neurona_minima=np.argmin(salida_neuronas)\n",
    "print(\"color que menos debes ofrecerle es:\", etiquetas_neurona[indice_neurona_minima])"
   ]
  },
  {
   "cell_type": "markdown",
   "id": "f4ceaf83-8b68-4683-8782-b5d7c3c131ce",
   "metadata": {},
   "source": [
    "# Sprint: Herramientas avanzadas Pandas \n",
    "Biblioteca esencial en Data science que ofrece herramientas en python su estructura es del daraframe que permite cargar, limpiar, trasnformar y analizar datos de manera sencilla"
   ]
  },
  {
   "cell_type": "markdown",
   "id": "bd920c27-074c-43a3-8913-cc0f26b776c3",
   "metadata": {},
   "source": [
    "## Series 1"
   ]
  },
  {
   "cell_type": "code",
   "execution_count": null,
   "id": "05a772b0-95cb-4d0b-9a01-98337b6579fe",
   "metadata": {},
   "outputs": [],
   "source": [
    "import numpy as np\n",
    "import pandas as pd"
   ]
  },
  {
   "cell_type": "code",
   "execution_count": null,
   "id": "b3a9dc6f-9bfc-4e27-a3ce-0cafe99d1721",
   "metadata": {},
   "outputs": [
    {
     "ename": "NameError",
     "evalue": "name 'pd' is not defined",
     "output_type": "error",
     "traceback": [
      "\u001b[1;31m---------------------------------------------------------------------------\u001b[0m",
      "\u001b[1;31mNameError\u001b[0m                                 Traceback (most recent call last)",
      "\u001b[1;32mc:\\Users\\34603\\Documentos_clases\\GitHub Desckot\\ONLINE_DS_THEBRIDGE_BRYAN_TRABAJOS\\Python básico.ipynb Cell 382\u001b[0m line \u001b[0;36m1\n\u001b[1;32m----> <a href='vscode-notebook-cell:/c%3A/Users/34603/Documentos_clases/GitHub%20Desckot/ONLINE_DS_THEBRIDGE_BRYAN_TRABAJOS/Python%20b%C3%A1sico.ipynb#Z1053sZmlsZQ%3D%3D?line=0'>1</a>\u001b[0m df_ejemplo \u001b[39m=\u001b[39m pd\u001b[39m.\u001b[39mread_excel(\u001b[39m'\u001b[39m\u001b[39m.\u001b[39m\u001b[39m\\\\\u001b[39;00m\u001b[39mdata\u001b[39m\u001b[39m\\\\\u001b[39;00m\u001b[39mdataset_aviones.xlsx\u001b[39m\u001b[39m'\u001b[39m)   \u001b[39m# esta función \".read_excel\" ayuda a la lectura de un archivo excel en el ordenador\u001b[39;00m\n\u001b[0;32m      <a href='vscode-notebook-cell:/c%3A/Users/34603/Documentos_clases/GitHub%20Desckot/ONLINE_DS_THEBRIDGE_BRYAN_TRABAJOS/Python%20b%C3%A1sico.ipynb#Z1053sZmlsZQ%3D%3D?line=1'>2</a>\u001b[0m df_ejemplo\u001b[39m.\u001b[39mhead(\u001b[39m15\u001b[39m)\n",
      "\u001b[1;31mNameError\u001b[0m: name 'pd' is not defined"
     ]
    }
   ],
   "source": [
    "df_ejemplo = pd.read_excel('.\\\\data\\\\dataset_aviones.xlsx')   # esta función \".read_excel\" ayuda a la lectura de un archivo excel en el ordenador\n",
    "df_ejemplo.head(15)"
   ]
  },
  {
   "cell_type": "code",
   "execution_count": null,
   "id": "0af45dae-78db-4cbc-a581-1b9cce14d205",
   "metadata": {},
   "outputs": [
    {
     "data": {
      "text/plain": [
       "'c:\\\\Users\\\\34603\\\\Documentos_clases\\\\GitHub Desckot\\\\ONLINE_DS_THEBRIDGE_BRYAN_TRABAJOS\\\\data\\\\dataset_aviones.xlsx'"
      ]
     },
     "execution_count": 19,
     "metadata": {},
     "output_type": "execute_result"
    }
   ],
   "source": [
    "import os\n",
    "os.path.abspath('./data/dataset_aviones.xlsx')\n"
   ]
  },
  {
   "cell_type": "code",
   "execution_count": null,
   "id": "d0907b4d-679d-41d1-9d13-5f59ad91f835",
   "metadata": {},
   "outputs": [],
   "source": [
    "# Datadream es un objeto especifico de pandas, y asi la clase index, los objetos pandas las filas y columnas se leen como etiquetas o itens (index)\n",
    "#Un array de datos indexados o una lista"
   ]
  },
  {
   "cell_type": "code",
   "execution_count": null,
   "id": "59157ad2-c0eb-482b-9772-5099f5d4443d",
   "metadata": {},
   "outputs": [
    {
     "data": {
      "text/plain": [
       "estudiante 1    1.60\n",
       "estudiante 2    1.59\n",
       "estudiante 3    1.87\n",
       "estudiante 4    2.05\n",
       "estudiante 5    1.75\n",
       "dtype: float64"
      ]
     },
     "execution_count": 21,
     "metadata": {},
     "output_type": "execute_result"
    }
   ],
   "source": [
    "data=pd.Series([1.60,1.59,1.87,2.05,1.75],\n",
    "               index=[\"estudiante 1\",\"estudiante 2\",\n",
    "                      \"estudiante 3\", \"estudiante 4\",\n",
    "                      \"estudiante 5\"])\n",
    "data\n",
    "# La serie envuele una secuencia de valores como índices que se puede acceder por medio de los atributos \"values\" e \"index\""
   ]
  },
  {
   "cell_type": "code",
   "execution_count": null,
   "id": "f75aa67c-188f-4dfa-a61f-4619ee5d1c42",
   "metadata": {},
   "outputs": [
    {
     "data": {
      "text/plain": [
       "array([1.6 , 1.59, 1.87, 2.05, 1.75])"
      ]
     },
     "execution_count": 22,
     "metadata": {},
     "output_type": "execute_result"
    }
   ],
   "source": [
    "data.values #aqui se ven solo valores"
   ]
  },
  {
   "cell_type": "code",
   "execution_count": null,
   "id": "7642f97d-06bd-46cd-821e-eb5034739a4a",
   "metadata": {},
   "outputs": [
    {
     "data": {
      "text/plain": [
       "Index(['estudiante 1', 'estudiante 2', 'estudiante 3', 'estudiante 4',\n",
       "       'estudiante 5'],\n",
       "      dtype='object')"
      ]
     },
     "execution_count": 23,
     "metadata": {},
     "output_type": "execute_result"
    }
   ],
   "source": [
    "data.index # Solo los indices en este caso son atributos por eso no llevan parentesis"
   ]
  },
  {
   "cell_type": "code",
   "execution_count": null,
   "id": "fb1d9c95-2922-41a7-9406-d7d03a6f6099",
   "metadata": {},
   "outputs": [
    {
     "name": "stderr",
     "output_type": "stream",
     "text": [
      "C:\\Users\\34603\\AppData\\Local\\Temp\\ipykernel_22376\\3862107824.py:1: FutureWarning: Series.__getitem__ treating keys as positions is deprecated. In a future version, integer keys will always be treated as labels (consistent with DataFrame behavior). To access a value by position, use `ser.iloc[pos]`\n",
      "  data[1]\n"
     ]
    },
    {
     "data": {
      "text/plain": [
       "1.59"
      ]
     },
     "execution_count": 24,
     "metadata": {},
     "output_type": "execute_result"
    }
   ],
   "source": [
    "data[1]"
   ]
  },
  {
   "cell_type": "code",
   "execution_count": null,
   "id": "3f01f101-f13e-4b76-ab22-75bef3e8e9ef",
   "metadata": {},
   "outputs": [
    {
     "data": {
      "text/plain": [
       "1.59"
      ]
     },
     "execution_count": 25,
     "metadata": {},
     "output_type": "execute_result"
    }
   ],
   "source": [
    "data.iloc[1]  #"
   ]
  },
  {
   "cell_type": "code",
   "execution_count": null,
   "id": "a71f6065-de57-4849-8f31-12f47515a854",
   "metadata": {},
   "outputs": [
    {
     "data": {
      "text/plain": [
       "estudiante 2    1.59\n",
       "estudiante 3    1.87\n",
       "estudiante 4    2.05\n",
       "dtype: float64"
      ]
     },
     "execution_count": 28,
     "metadata": {},
     "output_type": "execute_result"
    }
   ],
   "source": [
    "# tambien se pueden hacer slicing y copias\n",
    "otra_serie=data[1:4].copy()\n",
    "otra_serie"
   ]
  },
  {
   "cell_type": "code",
   "execution_count": null,
   "id": "136580f2-086d-4cef-befd-3cf18f1e1cf2",
   "metadata": {},
   "outputs": [
    {
     "data": {
      "text/plain": [
       "estudiante 2    1.59\n",
       "estudiante 4    2.05\n",
       "dtype: float64"
      ]
     },
     "execution_count": 29,
     "metadata": {},
     "output_type": "execute_result"
    }
   ],
   "source": [
    "data[1:4:2]"
   ]
  },
  {
   "cell_type": "code",
   "execution_count": null,
   "id": "2c560b22-7de6-4ddb-8333-85d91468de8c",
   "metadata": {},
   "outputs": [
    {
     "data": {
      "text/plain": [
       "avatar        2923\n",
       "Vengadores    2799\n",
       "avatar 2      2320\n",
       "titanic       2264\n",
       "swVII         2071\n",
       "Name: top5, dtype: int64"
      ]
     },
     "execution_count": 33,
     "metadata": {},
     "output_type": "execute_result"
    }
   ],
   "source": [
    "top5=pd.Series([2923, 2799,2320,2264,2071],\n",
    "               index= [\"avatar\", \"Vengadores\",\"avatar 2\", \"titanic\",\"swVII\"])\n",
    "top5.name=\"top5\"\n",
    "top5\n",
    "# Las series de pandas tienen explicitamente definidos que son los pocisionales, es recomendable usar un tipo homogeneo de etiquetas "
   ]
  },
  {
   "cell_type": "code",
   "execution_count": null,
   "id": "9736d9b8-d491-4230-8743-11331a09e313",
   "metadata": {},
   "outputs": [
    {
     "data": {
      "text/plain": [
       "2320"
      ]
     },
     "execution_count": 35,
     "metadata": {},
     "output_type": "execute_result"
    }
   ],
   "source": [
    "# como acceder a los elementos de la serie con el indice implicito y explicito\n",
    "top5.iloc[2] #forma tradicional por llamarlo así\n",
    "#la fomra del indexado\n",
    "top5.loc[\"avatar 2\"]"
   ]
  },
  {
   "cell_type": "code",
   "execution_count": null,
   "id": "51d9fb89-7b43-4cf1-b97e-cdc09cd5da98",
   "metadata": {},
   "outputs": [
    {
     "name": "stdout",
     "output_type": "stream",
     "text": [
      "<class 'pandas.core.series.Series'>\n",
      "RangeIndex(start=0, stop=4, step=1)\n"
     ]
    }
   ],
   "source": [
    "serie_test =pd.Series([2300,1200,10200,1222])\n",
    "print(type(serie_test))\n",
    "print(serie_test.index)"
   ]
  },
  {
   "cell_type": "code",
   "execution_count": null,
   "id": "6f341284-292d-4a43-847f-b3a70d930284",
   "metadata": {},
   "outputs": [
    {
     "name": "stdout",
     "output_type": "stream",
     "text": [
      "2923\n",
      "2071\n",
      "2475.4\n",
      "0\n",
      "4\n",
      "avatar\n",
      "swVII\n"
     ]
    }
   ],
   "source": [
    "#Aqui tambien se pueden usar los argumentos de numpy \n",
    "\n",
    "print(top5.max()) #El valor maximo\n",
    "print(top5.min()) #Valor mínimo\n",
    "print(top5.mean()) # La media de los valores\n",
    "print(top5.argmax()) #Saca la posición de máximo valor de los valores\n",
    "print(top5.argmin()) #Saca posición mínimo en lso valores\n",
    "print(top5.idxmax()) #Indice del valor máximo\n",
    "print(top5.idxmin()) #Indice del valor mínimo"
   ]
  },
  {
   "cell_type": "code",
   "execution_count": null,
   "id": "0a170adc-4249-4119-8d86-d69bce61ca11",
   "metadata": {},
   "outputs": [
    {
     "name": "stdout",
     "output_type": "stream",
     "text": [
      "<bound method IndexOpsMixin.tolist of avatar        2923\n",
      "Vengadores    2799\n",
      "avatar 2      2320\n",
      "titanic       2264\n",
      "swVII         2071\n",
      "Name: top5, dtype: int64>\n"
     ]
    }
   ],
   "source": [
    "print(top5.to_list) #función para crear listas "
   ]
  },
  {
   "cell_type": "code",
   "execution_count": null,
   "id": "dcf474ec-d361-4f55-8acb-e4d8c8387b11",
   "metadata": {},
   "outputs": [
    {
     "name": "stdout",
     "output_type": "stream",
     "text": [
      "titanic    2264\n",
      "swVII      2071\n",
      "Name: top5, dtype: int64\n",
      "titanic    2264\n",
      "swVII      2071\n",
      "Name: top5, dtype: int64\n"
     ]
    }
   ],
   "source": [
    "top_vistas=top5[3:] #sin el método todo cambia\n",
    "top_vista_copy=top5[3:].copy() #con este método no se cambian los valores que involucran la matriz madre\n",
    "print(top_vistas)\n",
    "print(top_vista_copy)"
   ]
  },
  {
   "cell_type": "code",
   "execution_count": null,
   "id": "8a23cf5a-5e8d-4dc1-a61b-99661108b0d6",
   "metadata": {},
   "outputs": [
    {
     "data": {
      "text/plain": [
       "titanic    1000\n",
       "swVII      2071\n",
       "Name: top5, dtype: int64"
      ]
     },
     "execution_count": 45,
     "metadata": {},
     "output_type": "execute_result"
    }
   ],
   "source": [
    "top_vista_copy[\"titanic\"]= 1000\n",
    "top_vista_copy"
   ]
  },
  {
   "cell_type": "code",
   "execution_count": null,
   "id": "62360992-2dac-41e2-beec-37131cb89774",
   "metadata": {},
   "outputs": [
    {
     "data": {
      "text/plain": [
       "avatar        2923\n",
       "Vengadores    2799\n",
       "avatar 2      2320\n",
       "titanic       2264\n",
       "swVII         2071\n",
       "Name: top5, dtype: int64"
      ]
     },
     "execution_count": 46,
     "metadata": {},
     "output_type": "execute_result"
    }
   ],
   "source": [
    "top5"
   ]
  },
  {
   "cell_type": "code",
   "execution_count": null,
   "id": "cde249cb-3092-49df-84c0-4d3aa5f77c2b",
   "metadata": {},
   "outputs": [
    {
     "name": "stdout",
     "output_type": "stream",
     "text": [
      "titanic    1000\n",
      "swVII      2071\n",
      "Name: top5, dtype: int64\n",
      "avatar        2923\n",
      "Vengadores    2799\n",
      "avatar 2      2320\n",
      "titanic       1000\n",
      "swVII         2071\n",
      "Name: top5, dtype: int64\n"
     ]
    }
   ],
   "source": [
    "top_vistas[\"titanic\"]= 1000\n",
    "print(top_vistas)\n",
    "print(top5)"
   ]
  },
  {
   "cell_type": "markdown",
   "id": "045c8450-d8a4-4b3e-8da3-0f9d90e0b8f6",
   "metadata": {},
   "source": [
    "#### Series como diccionarios especializados\n",
    "Estrutura como claves tipificdas de una misma serie, su analogía se entiene aún mejor construyendo un obejto serie desde un disccionario"
   ]
  },
  {
   "cell_type": "code",
   "execution_count": null,
   "id": "bdd14c16-a8b7-4ed6-adf5-1ae054388e39",
   "metadata": {},
   "outputs": [
    {
     "data": {
      "text/plain": [
       "california      38332521\n",
       "texas           36232510\n",
       "NY             196511127\n",
       "florida         19552860\n",
       "illinois      1288882135\n",
       "dtype: int64"
      ]
     },
     "execution_count": 53,
     "metadata": {},
     "output_type": "execute_result"
    }
   ],
   "source": [
    "population_dict={\"california\": 38332521,\n",
    "                 \"texas\": 36232510,\n",
    "                 \"NY\": 196511127,\n",
    "                 \"florida\": 19552860,\n",
    "                 \"illinois\": 1288882135}\n",
    "population=pd.Series(population_dict)\n",
    "population"
   ]
  },
  {
   "cell_type": "code",
   "execution_count": null,
   "id": "91ddde4b-c0f5-4834-8bdb-c8868d8c8b6c",
   "metadata": {},
   "outputs": [
    {
     "data": {
      "text/plain": [
       "array([  38332521,   36232510,  196511127,   19552860, 1288882135],\n",
       "      dtype=int64)"
      ]
     },
     "execution_count": 54,
     "metadata": {},
     "output_type": "execute_result"
    }
   ],
   "source": [
    "population.values"
   ]
  },
  {
   "cell_type": "code",
   "execution_count": null,
   "id": "afb1c2fb-fac3-4c24-88ed-bbb2539667e6",
   "metadata": {},
   "outputs": [
    {
     "data": {
      "text/plain": [
       "Index(['california', 'texas', 'NY', 'florida', 'illinois'], dtype='object')"
      ]
     },
     "execution_count": 55,
     "metadata": {},
     "output_type": "execute_result"
    }
   ],
   "source": [
    "population.index"
   ]
  },
  {
   "cell_type": "code",
   "execution_count": null,
   "id": "10f88b55-1dfe-4e8d-a7f8-e59220759ec6",
   "metadata": {},
   "outputs": [
    {
     "data": {
      "text/plain": [
       "1288882135"
      ]
     },
     "execution_count": 56,
     "metadata": {},
     "output_type": "execute_result"
    }
   ],
   "source": [
    "population[\"illinois\"]"
   ]
  },
  {
   "cell_type": "markdown",
   "id": "75afdf30-4155-49d8-9d76-0b4953bf981c",
   "metadata": {},
   "source": [
    "## DataFrame\n",
    "Despues de las series la más fundamental es el DATAFRAME, puede ser pensado como un array o como un diccionario, es similar a una tabla como las filas y columnas están etiquetadas o indice\n",
    "Una secuencia de objeto de series anileados, se ve como una tabla formado pro ejer verticales\n",
    "Es mejor ver un dataframe como un megadiccionario "
   ]
  },
  {
   "cell_type": "code",
   "execution_count": null,
   "id": "19bd3db6-0cc6-467c-a4e0-f18520a8ba29",
   "metadata": {},
   "outputs": [
    {
     "data": {
      "text/plain": [
       "california    38332521\n",
       "texas         36232510\n",
       "NY            19651127\n",
       "florida       19552860\n",
       "illinois      12882135\n",
       "dtype: int64"
      ]
     },
     "execution_count": 5,
     "metadata": {},
     "output_type": "execute_result"
    }
   ],
   "source": [
    "\n",
    "import pandas as pd\n",
    "population_dict={\"california\": 38332521,\n",
    "                 \"texas\": 36232510,\n",
    "                 \"NY\": 19651127,\n",
    "                 \"florida\": 19552860,\n",
    "                 \"illinois\": 12882135}\n",
    "population=pd.Series(population_dict)\n",
    "population"
   ]
  },
  {
   "cell_type": "code",
   "execution_count": null,
   "id": "1664ce92-1dee-4275-842f-f3d2a5063a3b",
   "metadata": {},
   "outputs": [
    {
     "data": {
      "text/plain": [
       "california    423967\n",
       "texas         695662\n",
       "NY            141297\n",
       "florida       170312\n",
       "illinois      149995\n",
       "dtype: int64"
      ]
     },
     "execution_count": 6,
     "metadata": {},
     "output_type": "execute_result"
    }
   ],
   "source": [
    "area_dict= {\"california\": 423967,\n",
    "            \"texas\": 695662,\n",
    "            \"NY\": 141297,\n",
    "            \"florida\": 170312,\n",
    "            \"illinois\": 149995}\n",
    "area=pd.Series(area_dict)\n",
    "area"
   ]
  },
  {
   "cell_type": "code",
   "execution_count": null,
   "id": "8eb9e630-9bca-49b1-9059-7751d08b8dea",
   "metadata": {},
   "outputs": [],
   "source": [
    "# Se pueden unir las dos para crear el dataframe de pandas\n",
    "estados={\"poblacion\":\n",
    "         population,\n",
    "          \"Superficie\": \n",
    "         area}"
   ]
  },
  {
   "cell_type": "code",
   "execution_count": null,
   "id": "1577f6f2-3090-45c5-9994-dc2e0baad2ea",
   "metadata": {},
   "outputs": [
    {
     "data": {
      "text/plain": [
       "{'poblacion': california    38332521\n",
       " texas         36232510\n",
       " NY            19651127\n",
       " florida       19552860\n",
       " illinois      12882135\n",
       " dtype: int64,\n",
       " 'Superficie': california    423967\n",
       " texas         695662\n",
       " NY            141297\n",
       " florida       170312\n",
       " illinois      149995\n",
       " dtype: int64}"
      ]
     },
     "execution_count": 8,
     "metadata": {},
     "output_type": "execute_result"
    }
   ],
   "source": [
    "estados"
   ]
  },
  {
   "cell_type": "code",
   "execution_count": null,
   "id": "a8850ca6-a649-400f-9ec6-d4b6747ae535",
   "metadata": {},
   "outputs": [
    {
     "data": {
      "text/html": [
       "<div>\n",
       "<style scoped>\n",
       "    .dataframe tbody tr th:only-of-type {\n",
       "        vertical-align: middle;\n",
       "    }\n",
       "\n",
       "    .dataframe tbody tr th {\n",
       "        vertical-align: top;\n",
       "    }\n",
       "\n",
       "    .dataframe thead th {\n",
       "        text-align: right;\n",
       "    }\n",
       "</style>\n",
       "<table border=\"1\" class=\"dataframe\">\n",
       "  <thead>\n",
       "    <tr style=\"text-align: right;\">\n",
       "      <th></th>\n",
       "      <th>poblacion</th>\n",
       "      <th>Superficie</th>\n",
       "    </tr>\n",
       "  </thead>\n",
       "  <tbody>\n",
       "    <tr>\n",
       "      <th>california</th>\n",
       "      <td>38332521</td>\n",
       "      <td>423967</td>\n",
       "    </tr>\n",
       "    <tr>\n",
       "      <th>texas</th>\n",
       "      <td>36232510</td>\n",
       "      <td>695662</td>\n",
       "    </tr>\n",
       "    <tr>\n",
       "      <th>NY</th>\n",
       "      <td>19651127</td>\n",
       "      <td>141297</td>\n",
       "    </tr>\n",
       "    <tr>\n",
       "      <th>florida</th>\n",
       "      <td>19552860</td>\n",
       "      <td>170312</td>\n",
       "    </tr>\n",
       "    <tr>\n",
       "      <th>illinois</th>\n",
       "      <td>12882135</td>\n",
       "      <td>149995</td>\n",
       "    </tr>\n",
       "  </tbody>\n",
       "</table>\n",
       "</div>"
      ],
      "text/plain": [
       "            poblacion  Superficie\n",
       "california   38332521      423967\n",
       "texas        36232510      695662\n",
       "NY           19651127      141297\n",
       "florida      19552860      170312\n",
       "illinois     12882135      149995"
      ]
     },
     "execution_count": 9,
     "metadata": {},
     "output_type": "execute_result"
    }
   ],
   "source": [
    "states=pd.DataFrame(estados) #Creacion del dataframe\n",
    "states\n",
    "#Las dos series son su columna, para cada indice a cogido su nombre ya determinado"
   ]
  },
  {
   "cell_type": "code",
   "execution_count": null,
   "id": "a276ae4a-2858-44e5-8238-f2ec6b62472b",
   "metadata": {},
   "outputs": [
    {
     "name": "stdout",
     "output_type": "stream",
     "text": [
      "Index(['california', 'texas', 'NY', 'florida', 'illinois'], dtype='object')\n",
      "Index(['poblacion', 'Superficie'], dtype='object')\n",
      "[[38332521   423967]\n",
      " [36232510   695662]\n",
      " [19651127   141297]\n",
      " [19552860   170312]\n",
      " [12882135   149995]]\n"
     ]
    }
   ],
   "source": [
    "\n",
    "print(states.index)# El datafrane tambien tiene el atributo \"INDEX\"\n",
    "print(states.columns)\n",
    "print(states.values) # Lo pone como un tipo array, bidimensional, esto lo determinan como una generalización "
   ]
  },
  {
   "cell_type": "markdown",
   "id": "a708fdba-ce66-4175-888a-97931185e95b",
   "metadata": {},
   "source": [
    "### DataFrame como un diccionario\n",
    "Un nombre de columna a una serie de datos de columnas "
   ]
  },
  {
   "cell_type": "code",
   "execution_count": null,
   "id": "e6cdafe3-d094-4bae-8b51-f24549fc270e",
   "metadata": {},
   "outputs": [
    {
     "data": {
      "text/html": [
       "<div>\n",
       "<style scoped>\n",
       "    .dataframe tbody tr th:only-of-type {\n",
       "        vertical-align: middle;\n",
       "    }\n",
       "\n",
       "    .dataframe tbody tr th {\n",
       "        vertical-align: top;\n",
       "    }\n",
       "\n",
       "    .dataframe thead th {\n",
       "        text-align: right;\n",
       "    }\n",
       "</style>\n",
       "<table border=\"1\" class=\"dataframe\">\n",
       "  <thead>\n",
       "    <tr style=\"text-align: right;\">\n",
       "      <th></th>\n",
       "      <th>poblacion</th>\n",
       "      <th>Superficie</th>\n",
       "    </tr>\n",
       "  </thead>\n",
       "  <tbody>\n",
       "    <tr>\n",
       "      <th>california</th>\n",
       "      <td>38332521</td>\n",
       "      <td>423967</td>\n",
       "    </tr>\n",
       "    <tr>\n",
       "      <th>texas</th>\n",
       "      <td>36232510</td>\n",
       "      <td>695662</td>\n",
       "    </tr>\n",
       "    <tr>\n",
       "      <th>NY</th>\n",
       "      <td>19651127</td>\n",
       "      <td>141297</td>\n",
       "    </tr>\n",
       "    <tr>\n",
       "      <th>florida</th>\n",
       "      <td>19552860</td>\n",
       "      <td>170312</td>\n",
       "    </tr>\n",
       "    <tr>\n",
       "      <th>illinois</th>\n",
       "      <td>12882135</td>\n",
       "      <td>149995</td>\n",
       "    </tr>\n",
       "  </tbody>\n",
       "</table>\n",
       "</div>"
      ],
      "text/plain": [
       "            poblacion  Superficie\n",
       "california   38332521      423967\n",
       "texas        36232510      695662\n",
       "NY           19651127      141297\n",
       "florida      19552860      170312\n",
       "illinois     12882135      149995"
      ]
     },
     "execution_count": 11,
     "metadata": {},
     "output_type": "execute_result"
    }
   ],
   "source": [
    "states"
   ]
  },
  {
   "cell_type": "code",
   "execution_count": null,
   "id": "3db03abf-7a13-406c-98f5-4634a505ce22",
   "metadata": {},
   "outputs": [
    {
     "data": {
      "text/plain": [
       "california    423967\n",
       "texas         695662\n",
       "NY            141297\n",
       "florida       170312\n",
       "illinois      149995\n",
       "Name: Superficie, dtype: int64"
      ]
     },
     "execution_count": 12,
     "metadata": {},
     "output_type": "execute_result"
    }
   ],
   "source": [
    "states[\"Superficie\"]"
   ]
  },
  {
   "cell_type": "code",
   "execution_count": null,
   "id": "1a4a6df9-85e5-4c93-8c9d-2576b1e99550",
   "metadata": {},
   "outputs": [
    {
     "data": {
      "text/plain": [
       "california    38332521\n",
       "texas         36232510\n",
       "NY            19651127\n",
       "florida       19552860\n",
       "illinois      12882135\n",
       "Name: poblacion, dtype: int64"
      ]
     },
     "execution_count": 13,
     "metadata": {},
     "output_type": "execute_result"
    }
   ],
   "source": [
    "states[\"poblacion\"]"
   ]
  },
  {
   "cell_type": "code",
   "execution_count": null,
   "id": "40055648-0402-4fc2-a88c-b8dab99717b2",
   "metadata": {},
   "outputs": [
    {
     "data": {
      "text/plain": [
       "poblacion     19552860\n",
       "Superficie      170312\n",
       "Name: florida, dtype: int64"
      ]
     },
     "execution_count": 14,
     "metadata": {},
     "output_type": "execute_result"
    }
   ],
   "source": [
    "#states[\"florida\"]   #El dataframe no se puede acceder por lqas filas de una manera directa más aún existe una formula para las mismas \n",
    "states.loc[\"florida\"] #El atributo \".loc\" determina las etiquetas de una fila "
   ]
  },
  {
   "cell_type": "code",
   "execution_count": null,
   "id": "8494e63a-2e69-47c5-bda1-3dd7266e8f8a",
   "metadata": {},
   "outputs": [
    {
     "data": {
      "text/html": [
       "<div>\n",
       "<style scoped>\n",
       "    .dataframe tbody tr th:only-of-type {\n",
       "        vertical-align: middle;\n",
       "    }\n",
       "\n",
       "    .dataframe tbody tr th {\n",
       "        vertical-align: top;\n",
       "    }\n",
       "\n",
       "    .dataframe thead th {\n",
       "        text-align: right;\n",
       "    }\n",
       "</style>\n",
       "<table border=\"1\" class=\"dataframe\">\n",
       "  <thead>\n",
       "    <tr style=\"text-align: right;\">\n",
       "      <th></th>\n",
       "      <th>poblacion</th>\n",
       "    </tr>\n",
       "  </thead>\n",
       "  <tbody>\n",
       "    <tr>\n",
       "      <th>california</th>\n",
       "      <td>38332521</td>\n",
       "    </tr>\n",
       "    <tr>\n",
       "      <th>texas</th>\n",
       "      <td>36232510</td>\n",
       "    </tr>\n",
       "    <tr>\n",
       "      <th>NY</th>\n",
       "      <td>19651127</td>\n",
       "    </tr>\n",
       "    <tr>\n",
       "      <th>florida</th>\n",
       "      <td>19552860</td>\n",
       "    </tr>\n",
       "    <tr>\n",
       "      <th>illinois</th>\n",
       "      <td>12882135</td>\n",
       "    </tr>\n",
       "  </tbody>\n",
       "</table>\n",
       "</div>"
      ],
      "text/plain": [
       "            poblacion\n",
       "california   38332521\n",
       "texas        36232510\n",
       "NY           19651127\n",
       "florida      19552860\n",
       "illinois     12882135"
      ]
     },
     "execution_count": 15,
     "metadata": {},
     "output_type": "execute_result"
    }
   ],
   "source": [
    "# El dataframe se puede contriuir de varias maneras, por ejemplo de una unica serie \n",
    "\n",
    "pd.DataFrame(data=population,columns=[\"poblacion\"])"
   ]
  },
  {
   "cell_type": "code",
   "execution_count": null,
   "id": "a6bf1af2-889f-452a-935b-99c8c500ab9f",
   "metadata": {},
   "outputs": [
    {
     "data": {
      "text/plain": [
       "[{'a': 0, 'b': 0}, {'a': 1, 'b': 2}, {'a': 2, 'b': 4}]"
      ]
     },
     "execution_count": 16,
     "metadata": {},
     "output_type": "execute_result"
    }
   ],
   "source": [
    "# Serie atravez de una lisra de diccionario\n",
    "data=[{\"a\": i,\"b\":2*i} for i in range(3)]  \n",
    "data\n"
   ]
  },
  {
   "cell_type": "code",
   "execution_count": null,
   "id": "033d2b4a-ae2e-422c-ac22-a6f800c35e59",
   "metadata": {},
   "outputs": [
    {
     "data": {
      "text/html": [
       "<div>\n",
       "<style scoped>\n",
       "    .dataframe tbody tr th:only-of-type {\n",
       "        vertical-align: middle;\n",
       "    }\n",
       "\n",
       "    .dataframe tbody tr th {\n",
       "        vertical-align: top;\n",
       "    }\n",
       "\n",
       "    .dataframe thead th {\n",
       "        text-align: right;\n",
       "    }\n",
       "</style>\n",
       "<table border=\"1\" class=\"dataframe\">\n",
       "  <thead>\n",
       "    <tr style=\"text-align: right;\">\n",
       "      <th></th>\n",
       "      <th>a</th>\n",
       "      <th>b</th>\n",
       "    </tr>\n",
       "  </thead>\n",
       "  <tbody>\n",
       "    <tr>\n",
       "      <th>0</th>\n",
       "      <td>0</td>\n",
       "      <td>0</td>\n",
       "    </tr>\n",
       "    <tr>\n",
       "      <th>1</th>\n",
       "      <td>1</td>\n",
       "      <td>2</td>\n",
       "    </tr>\n",
       "    <tr>\n",
       "      <th>2</th>\n",
       "      <td>2</td>\n",
       "      <td>4</td>\n",
       "    </tr>\n",
       "  </tbody>\n",
       "</table>\n",
       "</div>"
      ],
      "text/plain": [
       "   a  b\n",
       "0  0  0\n",
       "1  1  2\n",
       "2  2  4"
      ]
     },
     "execution_count": 17,
     "metadata": {},
     "output_type": "execute_result"
    }
   ],
   "source": [
    "pd.DataFrame(data)\n",
    "# Si Falta un valor Pandas lo va a rellenar ocn el acrónimo \"NaN\" que indica que no hay un número en esa fila \n",
    "# Creara tantas columans como existan tantos diccionarios"
   ]
  },
  {
   "cell_type": "code",
   "execution_count": null,
   "id": "7f3c2f44-7ab2-47e8-8906-d1866e5b778d",
   "metadata": {},
   "outputs": [
    {
     "data": {
      "text/html": [
       "<div>\n",
       "<style scoped>\n",
       "    .dataframe tbody tr th:only-of-type {\n",
       "        vertical-align: middle;\n",
       "    }\n",
       "\n",
       "    .dataframe tbody tr th {\n",
       "        vertical-align: top;\n",
       "    }\n",
       "\n",
       "    .dataframe thead th {\n",
       "        text-align: right;\n",
       "    }\n",
       "</style>\n",
       "<table border=\"1\" class=\"dataframe\">\n",
       "  <thead>\n",
       "    <tr style=\"text-align: right;\">\n",
       "      <th></th>\n",
       "      <th>a</th>\n",
       "      <th>b</th>\n",
       "      <th>pepito</th>\n",
       "      <th>juanita</th>\n",
       "    </tr>\n",
       "  </thead>\n",
       "  <tbody>\n",
       "    <tr>\n",
       "      <th>0</th>\n",
       "      <td>1.0</td>\n",
       "      <td>2.0</td>\n",
       "      <td>NaN</td>\n",
       "      <td>NaN</td>\n",
       "    </tr>\n",
       "    <tr>\n",
       "      <th>1</th>\n",
       "      <td>NaN</td>\n",
       "      <td>NaN</td>\n",
       "      <td>2.0</td>\n",
       "      <td>4.0</td>\n",
       "    </tr>\n",
       "  </tbody>\n",
       "</table>\n",
       "</div>"
      ],
      "text/plain": [
       "     a    b  pepito  juanita\n",
       "0  1.0  2.0     NaN      NaN\n",
       "1  NaN  NaN     2.0      4.0"
      ]
     },
     "execution_count": 18,
     "metadata": {},
     "output_type": "execute_result"
    }
   ],
   "source": [
    "pd.DataFrame([{\"a\":1,\"b\":2},{\"pepito\":2, \"juanita\":4}]) # ha cogido las cuatro columnas y donde no hay valores lo rellena"
   ]
  },
  {
   "cell_type": "markdown",
   "id": "3951f7c8-516b-4aec-9ccb-4fedf04b4ff9",
   "metadata": {},
   "source": [
    "### A partir de un diccionario de series\n",
    "Un dataframe se puede construir tambien a partir de un diccionario de objetos series "
   ]
  },
  {
   "cell_type": "code",
   "execution_count": null,
   "id": "abc81ff4-8fba-43bc-98db-516a73622a67",
   "metadata": {},
   "outputs": [
    {
     "data": {
      "text/plain": [
       "{'population_bis': california    38332521\n",
       " texas         36232510\n",
       " NY            19651127\n",
       " florida       19552860\n",
       " illinois      12882135\n",
       " dtype: int64,\n",
       " 'area': california    423967\n",
       " texas         695662\n",
       " NY            141297\n",
       " florida       170312\n",
       " illinois      149995\n",
       " dtype: int64}"
      ]
     },
     "execution_count": 20,
     "metadata": {},
     "output_type": "execute_result"
    }
   ],
   "source": [
    "pf=pd.DataFrame=({\"population_bis\": population,\"area\":area})\n",
    "pf"
   ]
  },
  {
   "cell_type": "code",
   "execution_count": null,
   "id": "7b88ec01-35e7-4b51-886a-33f196ff8f4d",
   "metadata": {},
   "outputs": [
    {
     "data": {
      "text/html": [
       "<div>\n",
       "<style scoped>\n",
       "    .dataframe tbody tr th:only-of-type {\n",
       "        vertical-align: middle;\n",
       "    }\n",
       "\n",
       "    .dataframe tbody tr th {\n",
       "        vertical-align: top;\n",
       "    }\n",
       "\n",
       "    .dataframe thead th {\n",
       "        text-align: right;\n",
       "    }\n",
       "</style>\n",
       "<table border=\"1\" class=\"dataframe\">\n",
       "  <thead>\n",
       "    <tr style=\"text-align: right;\">\n",
       "      <th></th>\n",
       "      <th>columna1</th>\n",
       "      <th>columna2</th>\n",
       "    </tr>\n",
       "  </thead>\n",
       "  <tbody>\n",
       "    <tr>\n",
       "      <th>0</th>\n",
       "      <td>12</td>\n",
       "      <td>4</td>\n",
       "    </tr>\n",
       "    <tr>\n",
       "      <th>1</th>\n",
       "      <td>3</td>\n",
       "      <td>5</td>\n",
       "    </tr>\n",
       "    <tr>\n",
       "      <th>2</th>\n",
       "      <td>4</td>\n",
       "      <td>6</td>\n",
       "    </tr>\n",
       "  </tbody>\n",
       "</table>\n",
       "</div>"
      ],
      "text/plain": [
       "   columna1  columna2\n",
       "0        12         4\n",
       "1         3         5\n",
       "2         4         6"
      ]
     },
     "execution_count": 2,
     "metadata": {},
     "output_type": "execute_result"
    }
   ],
   "source": [
    "pd.DataFrame({'columna1':[12,3,4],'columna2':[4,5,6]})\n"
   ]
  },
  {
   "cell_type": "code",
   "execution_count": null,
   "id": "adffd7e9-4d79-4252-b872-5f33f3b41ac0",
   "metadata": {},
   "outputs": [],
   "source": []
  },
  {
   "cell_type": "code",
   "execution_count": null,
   "id": "63c6771c-4836-4428-acd4-844a78928c6b",
   "metadata": {},
   "outputs": [],
   "source": []
  },
  {
   "cell_type": "code",
   "execution_count": null,
   "id": "c9fc9b44-1b6d-4ad9-9cca-8eee1b353328",
   "metadata": {},
   "outputs": [],
   "source": []
  },
  {
   "cell_type": "code",
   "execution_count": null,
   "id": "81d43939-61a6-4b62-b9f9-2d39eb279a92",
   "metadata": {},
   "outputs": [],
   "source": []
  },
  {
   "cell_type": "code",
   "execution_count": null,
   "id": "cbf6c0cb-1567-4ad9-89ec-66d6db4953e8",
   "metadata": {},
   "outputs": [],
   "source": []
  },
  {
   "cell_type": "code",
   "execution_count": null,
   "id": "01ed5fce-345c-4048-bc3c-fb90dc625062",
   "metadata": {},
   "outputs": [],
   "source": []
  },
  {
   "cell_type": "code",
   "execution_count": null,
   "id": "350652fc-064d-4a77-87b8-ac16cfd173f1",
   "metadata": {},
   "outputs": [],
   "source": []
  },
  {
   "cell_type": "code",
   "execution_count": null,
   "id": "b2a47541-14ab-41b8-aefd-c4346bcb06e5",
   "metadata": {},
   "outputs": [],
   "source": []
  },
  {
   "cell_type": "code",
   "execution_count": null,
   "id": "6a164bfc-5464-47a1-9acc-853c06da35c2",
   "metadata": {},
   "outputs": [],
   "source": []
  },
  {
   "cell_type": "code",
   "execution_count": null,
   "id": "1bba1a81-3507-49b1-bcb0-d2213a411345",
   "metadata": {},
   "outputs": [],
   "source": []
  },
  {
   "cell_type": "code",
   "execution_count": null,
   "id": "118408ac-7d23-455b-9498-8734f34dfd3b",
   "metadata": {},
   "outputs": [],
   "source": []
  },
  {
   "cell_type": "code",
   "execution_count": null,
   "id": "3f04e4b7-fdb4-4955-ac74-29d0a4b5c4a2",
   "metadata": {},
   "outputs": [],
   "source": []
  },
  {
   "cell_type": "markdown",
   "id": "6bc2fcc2-c20a-4d0d-956e-67f3596af84c",
   "metadata": {},
   "source": [
    "# Sprint 5 Acceso local y tratamiento de datos"
   ]
  },
  {
   "cell_type": "markdown",
   "id": "d94fa750-441a-4b97-a44b-9191eb77cf00",
   "metadata": {},
   "source": [
    "## Unidad 1: Introducción al Data Analitycs y a los procesos ETLS"
   ]
  },
  {
   "cell_type": "markdown",
   "id": "6bfafbbc-5d60-449b-839b-3b4938d4cce4",
   "metadata": {},
   "source": [
    "### Intro al Analisis de datos\n",
    "Un dato es todo aquello lo que se puede digitalizar, sino se peude procesar o analizar, no es un dato\n",
    "Tipo de datos: estructurados o tabulares (esquema fijo definido)\n",
    "                Ds¡esestructurados: dificiles de describir (imagen o videos)\n",
    "                Semiestructurados: datos sin formatos fijos \n",
    "Cada tipo de dato tendrá ,un tipo de formato para guardarlo \n",
    "Analisis:  Datos preliminares---> hipótesios---> selección/obtención de datos---> Preparción (ETL) ---> analisis descriptivos o explicativo --->modelado ----> presentación\n",
    "            "
   ]
  },
  {
   "cell_type": "markdown",
   "id": "1fede5c0-ed28-4051-9b3a-40271c92b53e",
   "metadata": {},
   "source": [
    "### Introducción EDA\n",
    "Un EDA es dirigido al aprendizaje de un proyecton, Un EDA se hace para un analisis de datos de la empresa, para un analisis de calidad de datos , analisis de ventas y de campañas de marketing\n",
    "Un EDA empieza por la hipotesis, buscar datos."
   ]
  },
  {
   "cell_type": "markdown",
   "id": "9a4ce3c7-cff4-42eb-81a1-d5deb497ae23",
   "metadata": {},
   "source": [
    "### Introducción ETL\n",
    "Es un proceso del buen material Extract Transform Load\n",
    "Extract: Proceso de dato desde los origines llamado en el area Staging, se alamacenaránm en base de datos o archivos\n",
    "Transform: Preparación de datos, como unir fuente de datos, analizar y duplicar, limpiar, generar nuevas columnas, simplificar datos existentes, tratamiento de datos flatantes\n",
    "Load: Sistema de archivos local o en la nube, existren programa que los gestionan llamados SGBD(oracle, MySQL). tipos tienes relacionales o multidimensionales"
   ]
  },
  {
   "cell_type": "markdown",
   "id": "66c9866c-76b8-4c72-99f1-31e0b3ffb109",
   "metadata": {},
   "source": [
    "### Tipo de Datos\n",
    "Tipos de datos valorados\n",
    "    - Numéricos\n",
    "Estos suelen ser en la ciencia de datos:\\n\n",
    "    - Categóricos\n",
    "    - Tipo Texto\n",
    "    - Tipo Fecha\n",
    "    - Multimedia "
   ]
  },
  {
   "cell_type": "code",
   "execution_count": null,
   "id": "3cdd200e-a428-4a3d-a813-4eaa889b475b",
   "metadata": {},
   "outputs": [],
   "source": [
    "import pandas as pd\n",
    "import random\n",
    "df_datos =pd.read_csv(\"./data/dataset_ETL_full_aviones.csv\")"
   ]
  },
  {
   "cell_type": "code",
   "execution_count": null,
   "id": "9db8a185-56a3-4876-a9e1-ffbcec7fb263",
   "metadata": {},
   "outputs": [
    {
     "data": {
      "text/html": [
       "<div>\n",
       "<style scoped>\n",
       "    .dataframe tbody tr th:only-of-type {\n",
       "        vertical-align: middle;\n",
       "    }\n",
       "\n",
       "    .dataframe tbody tr th {\n",
       "        vertical-align: top;\n",
       "    }\n",
       "\n",
       "    .dataframe thead th {\n",
       "        text-align: right;\n",
       "    }\n",
       "</style>\n",
       "<table border=\"1\" class=\"dataframe\">\n",
       "  <thead>\n",
       "    <tr style=\"text-align: right;\">\n",
       "      <th></th>\n",
       "      <th>Aircompany</th>\n",
       "      <th>Origen</th>\n",
       "      <th>Destino</th>\n",
       "      <th>Distancia</th>\n",
       "      <th>avion</th>\n",
       "      <th>con_escala</th>\n",
       "      <th>consumo_kg</th>\n",
       "      <th>duracion</th>\n",
       "      <th>ingresos</th>\n",
       "      <th>Id_vuelo</th>\n",
       "      <th>IC</th>\n",
       "      <th>Categoria_IC</th>\n",
       "      <th>Incidencias</th>\n",
       "      <th>Hora_Vuelo</th>\n",
       "    </tr>\n",
       "  </thead>\n",
       "  <tbody>\n",
       "    <tr>\n",
       "      <th>0</th>\n",
       "      <td>Airnar</td>\n",
       "      <td>París</td>\n",
       "      <td>Ginebra</td>\n",
       "      <td>411</td>\n",
       "      <td>Boeing 737</td>\n",
       "      <td>False</td>\n",
       "      <td>1028.691900</td>\n",
       "      <td>51</td>\n",
       "      <td>14232.65</td>\n",
       "      <td>Air_PaGi_10737</td>\n",
       "      <td>2.502900</td>\n",
       "      <td>A</td>\n",
       "      <td>Ave impacta con el avión</td>\n",
       "      <td>23:00 19/04/2023</td>\n",
       "    </tr>\n",
       "    <tr>\n",
       "      <th>1</th>\n",
       "      <td>FlyQ</td>\n",
       "      <td>Bali</td>\n",
       "      <td>Roma</td>\n",
       "      <td>12738</td>\n",
       "      <td>Boeing 737</td>\n",
       "      <td>True</td>\n",
       "      <td>33479.132544</td>\n",
       "      <td>1167</td>\n",
       "      <td>468527.19</td>\n",
       "      <td>Fly_BaRo_10737</td>\n",
       "      <td>2.628288</td>\n",
       "      <td>A</td>\n",
       "      <td>Sin incidencias</td>\n",
       "      <td>21:15 01/06/2023</td>\n",
       "    </tr>\n",
       "    <tr>\n",
       "      <th>2</th>\n",
       "      <td>TabarAir</td>\n",
       "      <td>Ginebra</td>\n",
       "      <td>Los Angeles</td>\n",
       "      <td>9103</td>\n",
       "      <td>Airbus A380</td>\n",
       "      <td>False</td>\n",
       "      <td>109439.907200</td>\n",
       "      <td>626</td>\n",
       "      <td>584789.19</td>\n",
       "      <td>Tab_GiLo_11380</td>\n",
       "      <td>12.022400</td>\n",
       "      <td>C</td>\n",
       "      <td>Amenaza de seguridad a bordo</td>\n",
       "      <td>10:30 26/03/2023</td>\n",
       "    </tr>\n",
       "    <tr>\n",
       "      <th>3</th>\n",
       "      <td>MoldaviAir</td>\n",
       "      <td>París</td>\n",
       "      <td>Cincinnati</td>\n",
       "      <td>6370</td>\n",
       "      <td>Boeing 737</td>\n",
       "      <td>False</td>\n",
       "      <td>17027.010000</td>\n",
       "      <td>503</td>\n",
       "      <td>233342.51</td>\n",
       "      <td>Mol_PaCi_10737</td>\n",
       "      <td>2.673000</td>\n",
       "      <td>A</td>\n",
       "      <td>Sin incidencias</td>\n",
       "      <td>22:00 01/09/2023</td>\n",
       "    </tr>\n",
       "    <tr>\n",
       "      <th>4</th>\n",
       "      <td>TabarAir</td>\n",
       "      <td>Cincinnati</td>\n",
       "      <td>Roma</td>\n",
       "      <td>7480</td>\n",
       "      <td>Boeing 747</td>\n",
       "      <td>False</td>\n",
       "      <td>86115.744000</td>\n",
       "      <td>518</td>\n",
       "      <td>438535.07</td>\n",
       "      <td>Tab_CiRo_10747</td>\n",
       "      <td>11.512800</td>\n",
       "      <td>C</td>\n",
       "      <td>Amenaza de seguridad a bordo</td>\n",
       "      <td>15:30 16/02/2023</td>\n",
       "    </tr>\n",
       "    <tr>\n",
       "      <th>...</th>\n",
       "      <td>...</td>\n",
       "      <td>...</td>\n",
       "      <td>...</td>\n",
       "      <td>...</td>\n",
       "      <td>...</td>\n",
       "      <td>...</td>\n",
       "      <td>...</td>\n",
       "      <td>...</td>\n",
       "      <td>...</td>\n",
       "      <td>...</td>\n",
       "      <td>...</td>\n",
       "      <td>...</td>\n",
       "      <td>...</td>\n",
       "      <td>...</td>\n",
       "    </tr>\n",
       "    <tr>\n",
       "      <th>1161</th>\n",
       "      <td>TabarAir</td>\n",
       "      <td>Los Angeles</td>\n",
       "      <td>Ginebra</td>\n",
       "      <td>9103</td>\n",
       "      <td>Airbus A320</td>\n",
       "      <td>True</td>\n",
       "      <td>25188.219472</td>\n",
       "      <td>779</td>\n",
       "      <td>360454.69</td>\n",
       "      <td>Tab_LoGi_11320</td>\n",
       "      <td>2.767024</td>\n",
       "      <td>A</td>\n",
       "      <td>Problemas con las puertas o ventanas</td>\n",
       "      <td>22:45 27/05/2023</td>\n",
       "    </tr>\n",
       "    <tr>\n",
       "      <th>1162</th>\n",
       "      <td>TabarAir</td>\n",
       "      <td>Cincinnati</td>\n",
       "      <td>Roma</td>\n",
       "      <td>7480</td>\n",
       "      <td>Airbus A380</td>\n",
       "      <td>False</td>\n",
       "      <td>86468.800000</td>\n",
       "      <td>518</td>\n",
       "      <td>493674.99</td>\n",
       "      <td>Tab_CiRo_11380</td>\n",
       "      <td>11.560000</td>\n",
       "      <td>C</td>\n",
       "      <td>Sin incidencias</td>\n",
       "      <td>08:30 08/09/2023</td>\n",
       "    </tr>\n",
       "    <tr>\n",
       "      <th>1163</th>\n",
       "      <td>FlyQ</td>\n",
       "      <td>Barcelona</td>\n",
       "      <td>Nueva York</td>\n",
       "      <td>6170</td>\n",
       "      <td>Boeing 747</td>\n",
       "      <td>False</td>\n",
       "      <td>65772.200000</td>\n",
       "      <td>431</td>\n",
       "      <td>362746.19</td>\n",
       "      <td>Fly_BaNu_10747</td>\n",
       "      <td>10.660000</td>\n",
       "      <td>B</td>\n",
       "      <td>Sin incidencias</td>\n",
       "      <td>13:30 16/06/2023</td>\n",
       "    </tr>\n",
       "    <tr>\n",
       "      <th>1164</th>\n",
       "      <td>FlyQ</td>\n",
       "      <td>Roma</td>\n",
       "      <td>Barcelona</td>\n",
       "      <td>859</td>\n",
       "      <td>Boeing 747</td>\n",
       "      <td>False</td>\n",
       "      <td>9431.648200</td>\n",
       "      <td>77</td>\n",
       "      <td>51362.91</td>\n",
       "      <td>Fly_RoBa_10747</td>\n",
       "      <td>10.979800</td>\n",
       "      <td>B</td>\n",
       "      <td>Sin incidencias</td>\n",
       "      <td>19:15 21/06/2023</td>\n",
       "    </tr>\n",
       "    <tr>\n",
       "      <th>1165</th>\n",
       "      <td>Airnar</td>\n",
       "      <td>Cádiz</td>\n",
       "      <td>Bali</td>\n",
       "      <td>12798</td>\n",
       "      <td>Boeing 737</td>\n",
       "      <td>True</td>\n",
       "      <td>35253.985104</td>\n",
       "      <td>1171</td>\n",
       "      <td>433137.13</td>\n",
       "      <td>Air_CaBa_10737</td>\n",
       "      <td>2.754648</td>\n",
       "      <td>A</td>\n",
       "      <td>Problemas con el suministro de combustible,</td>\n",
       "      <td>13:45 12/03/2023</td>\n",
       "    </tr>\n",
       "  </tbody>\n",
       "</table>\n",
       "<p>1166 rows × 14 columns</p>\n",
       "</div>"
      ],
      "text/plain": [
       "      Aircompany       Origen      Destino  Distancia        avion  \\\n",
       "0         Airnar        París      Ginebra        411   Boeing 737   \n",
       "1           FlyQ         Bali         Roma      12738   Boeing 737   \n",
       "2       TabarAir      Ginebra  Los Angeles       9103  Airbus A380   \n",
       "3     MoldaviAir        París   Cincinnati       6370   Boeing 737   \n",
       "4       TabarAir   Cincinnati         Roma       7480   Boeing 747   \n",
       "...          ...          ...          ...        ...          ...   \n",
       "1161    TabarAir  Los Angeles      Ginebra       9103  Airbus A320   \n",
       "1162    TabarAir   Cincinnati         Roma       7480  Airbus A380   \n",
       "1163        FlyQ    Barcelona   Nueva York       6170   Boeing 747   \n",
       "1164        FlyQ         Roma    Barcelona        859   Boeing 747   \n",
       "1165      Airnar        Cádiz         Bali      12798   Boeing 737   \n",
       "\n",
       "      con_escala     consumo_kg  duracion   ingresos        Id_vuelo  \\\n",
       "0          False    1028.691900        51   14232.65  Air_PaGi_10737   \n",
       "1           True   33479.132544      1167  468527.19  Fly_BaRo_10737   \n",
       "2          False  109439.907200       626  584789.19  Tab_GiLo_11380   \n",
       "3          False   17027.010000       503  233342.51  Mol_PaCi_10737   \n",
       "4          False   86115.744000       518  438535.07  Tab_CiRo_10747   \n",
       "...          ...            ...       ...        ...             ...   \n",
       "1161        True   25188.219472       779  360454.69  Tab_LoGi_11320   \n",
       "1162       False   86468.800000       518  493674.99  Tab_CiRo_11380   \n",
       "1163       False   65772.200000       431  362746.19  Fly_BaNu_10747   \n",
       "1164       False    9431.648200        77   51362.91  Fly_RoBa_10747   \n",
       "1165        True   35253.985104      1171  433137.13  Air_CaBa_10737   \n",
       "\n",
       "             IC Categoria_IC                                  Incidencias  \\\n",
       "0      2.502900            A                     Ave impacta con el avión   \n",
       "1      2.628288            A                              Sin incidencias   \n",
       "2     12.022400            C                 Amenaza de seguridad a bordo   \n",
       "3      2.673000            A                              Sin incidencias   \n",
       "4     11.512800            C                 Amenaza de seguridad a bordo   \n",
       "...         ...          ...                                          ...   \n",
       "1161   2.767024            A         Problemas con las puertas o ventanas   \n",
       "1162  11.560000            C                              Sin incidencias   \n",
       "1163  10.660000            B                              Sin incidencias   \n",
       "1164  10.979800            B                              Sin incidencias   \n",
       "1165   2.754648            A  Problemas con el suministro de combustible,   \n",
       "\n",
       "            Hora_Vuelo  \n",
       "0     23:00 19/04/2023  \n",
       "1     21:15 01/06/2023  \n",
       "2     10:30 26/03/2023  \n",
       "3     22:00 01/09/2023  \n",
       "4     15:30 16/02/2023  \n",
       "...                ...  \n",
       "1161  22:45 27/05/2023  \n",
       "1162  08:30 08/09/2023  \n",
       "1163  13:30 16/06/2023  \n",
       "1164  19:15 21/06/2023  \n",
       "1165  13:45 12/03/2023  \n",
       "\n",
       "[1166 rows x 14 columns]"
      ]
     },
     "execution_count": 3,
     "metadata": {},
     "output_type": "execute_result"
    }
   ],
   "source": [
    "import pandas as pd\n",
    "import random \n",
    "df_datos = pd.read_csv(\"./data/dataset_ETL_full_aviones.csv\")\n",
    "df_datos"
   ]
  },
  {
   "cell_type": "code",
   "execution_count": null,
   "metadata": {},
   "outputs": [],
   "source": [
    "# Importante es hacer una exploración premilinar para ver como se basa su distibuciónn y como se van efectuando, para poder hacer un analisis más concreto"
   ]
  },
  {
   "cell_type": "code",
   "execution_count": null,
   "metadata": {},
   "outputs": [
    {
     "data": {
      "text/plain": [
       "IC\n",
       "10.660000    28\n",
       "11.906800    28\n",
       "12.022400    27\n",
       "12.369200    26\n",
       "11.086400    25\n",
       "             ..\n",
       "2.819232      1\n",
       "2.610400      1\n",
       "11.193000     1\n",
       "2.628288      1\n",
       "2.535100      1\n",
       "Name: count, Length: 147, dtype: int64"
      ]
     },
     "execution_count": 5,
     "metadata": {},
     "output_type": "execute_result"
    }
   ],
   "source": [
    "df_datos.IC.value_counts() # "
   ]
  },
  {
   "cell_type": "code",
   "execution_count": null,
   "metadata": {},
   "outputs": [
    {
     "name": "stdout",
     "output_type": "stream",
     "text": [
      "<class 'pandas.core.frame.DataFrame'>\n",
      "RangeIndex: 1166 entries, 0 to 1165\n",
      "Data columns (total 14 columns):\n",
      " #   Column        Non-Null Count  Dtype  \n",
      "---  ------        --------------  -----  \n",
      " 0   Aircompany    1166 non-null   object \n",
      " 1   Origen        1166 non-null   object \n",
      " 2   Destino       1166 non-null   object \n",
      " 3   Distancia     1166 non-null   int64  \n",
      " 4   avion         1166 non-null   object \n",
      " 5   con_escala    1166 non-null   bool   \n",
      " 6   consumo_kg    1166 non-null   float64\n",
      " 7   duracion      1166 non-null   int64  \n",
      " 8   ingresos      1166 non-null   float64\n",
      " 9   Id_vuelo      1166 non-null   object \n",
      " 10  IC            1166 non-null   float64\n",
      " 11  Categoria_IC  1166 non-null   object \n",
      " 12  Incidencias   1166 non-null   object \n",
      " 13  Hora_Vuelo    1166 non-null   object \n",
      "dtypes: bool(1), float64(3), int64(2), object(8)\n",
      "memory usage: 119.7+ KB\n"
     ]
    }
   ],
   "source": [
    "df_datos.info()  #Aqui determina todos los valores de la tabla y sus tipo"
   ]
  },
  {
   "cell_type": "code",
   "execution_count": null,
   "metadata": {},
   "outputs": [
    {
     "data": {
      "text/plain": [
       "<Axes: >"
      ]
     },
     "execution_count": 7,
     "metadata": {},
     "output_type": "execute_result"
    },
    {
     "data": {
      "image/png": "[encoded data removed]",
      "text/plain": [
       "<Figure size 640x480 with 1 Axes>"
      ]
     },
     "metadata": {},
     "output_type": "display_data"
    }
   ],
   "source": [
    "df_datos.IC.hist() #Histograma de la Fila IC"
   ]
  },
  {
   "cell_type": "code",
   "execution_count": null,
   "metadata": {},
   "outputs": [
    {
     "data": {
      "text/plain": [
       "duracion\n",
       "818     38\n",
       "845     36\n",
       "1326    28\n",
       "433     26\n",
       "856     24\n",
       "        ..\n",
       "687      2\n",
       "151      2\n",
       "488      2\n",
       "129      1\n",
       "731      1\n",
       "Name: count, Length: 116, dtype: int64"
      ]
     },
     "execution_count": 8,
     "metadata": {},
     "output_type": "execute_result"
    }
   ],
   "source": [
    "df_datos.duracion.value_counts()"
   ]
  },
  {
   "cell_type": "code",
   "execution_count": null,
   "metadata": {},
   "outputs": [
    {
     "data": {
      "text/plain": [
       "<Axes: >"
      ]
     },
     "execution_count": 9,
     "metadata": {},
     "output_type": "execute_result"
    },
    {
     "data": {
      "image/png": "[encoded data removed]",
      "text/plain": [
       "<Figure size 640x480 with 1 Axes>"
      ]
     },
     "metadata": {},
     "output_type": "display_data"
    }
   ],
   "source": [
    "df_datos.duracion.hist()\n"
   ]
  },
  {
   "cell_type": "markdown",
   "metadata": {},
   "source": [
    "#### Tipo Numérico"
   ]
  },
  {
   "cell_type": "code",
   "execution_count": null,
   "metadata": {},
   "outputs": [
    {
     "data": {
      "text/plain": [
       "Categoria_IC\n",
       "C    576\n",
       "A    496\n",
       "B     94\n",
       "Name: count, dtype: int64"
      ]
     },
     "execution_count": 10,
     "metadata": {},
     "output_type": "execute_result"
    }
   ],
   "source": [
    "# Los datos categóricos son rangos que están limirados y suelen representrar etiquetas\n",
    "df_datos.Categoria_IC.value_counts()\n"
   ]
  },
  {
   "cell_type": "code",
   "execution_count": null,
   "metadata": {},
   "outputs": [
    {
     "data": {
      "text/plain": [
       "Origen\n",
       "Bali           161\n",
       "Ginebra        149\n",
       "Cincinnati     136\n",
       "Londres        127\n",
       "Nueva York     123\n",
       "París          107\n",
       "Melbourne       99\n",
       "Los Angeles     86\n",
       "Cádiz           70\n",
       "Roma            66\n",
       "Barcelona       42\n",
       "Name: count, dtype: int64"
      ]
     },
     "execution_count": 11,
     "metadata": {},
     "output_type": "execute_result"
    }
   ],
   "source": [
    "df_datos[\"Origen\"].value_counts()  # En este caso se puede considerar categorías o etiquitas porque los valores son mín"
   ]
  },
  {
   "cell_type": "code",
   "execution_count": null,
   "metadata": {},
   "outputs": [
    {
     "data": {
      "text/plain": [
       "11"
      ]
     },
     "execution_count": 12,
     "metadata": {},
     "output_type": "execute_result"
    }
   ],
   "source": [
    "len(df_datos.Destino.unique())  # con este metodo se calcula en este caso la etiqueta destino su totalidad que es \"11\""
   ]
  },
  {
   "cell_type": "markdown",
   "metadata": {},
   "source": [
    "##### Cardinalidad"
   ]
  },
  {
   "cell_type": "code",
   "execution_count": null,
   "metadata": {},
   "outputs": [],
   "source": [
    "#El proceso de calificarlo (número de valores diferentes que tiene una columna) como categórico es calculando la cardinalidad esto es el número de \n",
    "#valores únicos partido o dividido por el número total de registros y eso multiplicado por 100 para que te de un `porcentaje "
   ]
  },
  {
   "cell_type": "code",
   "execution_count": null,
   "metadata": {},
   "outputs": [
    {
     "data": {
      "text/plain": [
       "0.2572898799313894"
      ]
     },
     "execution_count": 14,
     "metadata": {},
     "output_type": "execute_result"
    }
   ],
   "source": [
    "cardinalidad_IC=len(df_datos[\"Categoria_IC\"].unique())/len(df_datos)*100\n",
    "cardinalidad_IC"
   ]
  },
  {
   "cell_type": "code",
   "execution_count": null,
   "metadata": {},
   "outputs": [
    {
     "data": {
      "text/plain": [
       "0.9433962264150944"
      ]
     },
     "execution_count": 15,
     "metadata": {},
     "output_type": "execute_result"
    }
   ],
   "source": [
    "cardinalidad_destino=df_datos[\"Destino\"].nunique()/len(df_datos)*100\n",
    "cardinalidad_destino"
   ]
  },
  {
   "cell_type": "code",
   "execution_count": null,
   "metadata": {},
   "outputs": [
    {
     "data": {
      "text/plain": [
       "71.09777015437393"
      ]
     },
     "execution_count": 16,
     "metadata": {},
     "output_type": "execute_result"
    }
   ],
   "source": [
    "cardinalidad_consumo=df_datos[\"consumo_kg\"].nunique()/len(df_datos)*100\n",
    "cardinalidad_consumo"
   ]
  },
  {
   "cell_type": "code",
   "execution_count": null,
   "metadata": {},
   "outputs": [],
   "source": [
    "# Con cardinalidades por debajo del 5-10% ya podríamos consideraqr el calor o columna comom una categoría:\n",
    "# Porque pqara el EDA supone interes en hacer agrupación y exploración \n",
    "# Y para el Machine y Deep Learning: Existen métodos de transformación a nñumeroa bastante potenmtes y utilizados porque pueden ser byuenas características para incluir "
   ]
  },
  {
   "cell_type": "markdown",
   "metadata": {},
   "source": [
    "#### Tipo texto\n",
    "Entendemos que las columnas son texto y no pueden asimilar directamente una categoría "
   ]
  },
  {
   "cell_type": "code",
   "execution_count": null,
   "metadata": {},
   "outputs": [
    {
     "data": {
      "text/plain": [
       "Incidencias\n",
       "Sin incidencias                                                                            510\n",
       "Mal funcionamiento del tren de aterrizaje                                                   33\n",
       "Turbulencia severa                                                                          31\n",
       "Ave impacta con el avión                                                                    29\n",
       "Aterrizaje de emergencia                                                                    25\n",
       "                                                                                          ... \n",
       "Condiciones meteorológicas malas y Emergencia médica a bordo                                 1\n",
       "Emergencia en el sistema de entretenimiento y Mal funcionamiento del tren de aterrizaje      1\n",
       "Problemas de navegación,                                                                     1\n",
       "Sambódromo a bordo y Conflictos entre pasajeros                                              1\n",
       "Problemas con el suministro de combustible,                                                  1\n",
       "Name: count, Length: 154, dtype: int64"
      ]
     },
     "execution_count": 18,
     "metadata": {},
     "output_type": "execute_result"
    }
   ],
   "source": [
    "df_datos.Incidencias.value_counts()"
   ]
  },
  {
   "cell_type": "markdown",
   "metadata": {},
   "source": [
    "#### Tipo fecha\n",
    "Las fechas no se tratan numericamente, pero tambien tienen procesos matemáticos\n"
   ]
  },
  {
   "cell_type": "code",
   "execution_count": null,
   "metadata": {},
   "outputs": [
    {
     "data": {
      "text/plain": [
       "Hora_Vuelo\n",
       "23:00 19/04/2023    1\n",
       "09:15 05/04/2023    1\n",
       "10:45 06/03/2023    1\n",
       "07:30 30/01/2023    1\n",
       "16:15 29/05/2023    1\n",
       "                   ..\n",
       "17:00 11/06/2023    1\n",
       "22:00 10/02/2023    1\n",
       "23:15 17/09/2023    1\n",
       "06:00 08/06/2023    1\n",
       "13:45 12/03/2023    1\n",
       "Name: count, Length: 1166, dtype: int64"
      ]
     },
     "execution_count": 19,
     "metadata": {},
     "output_type": "execute_result"
    }
   ],
   "source": [
    "df_datos.Hora_Vuelo.value_counts()"
   ]
  },
  {
   "cell_type": "code",
   "execution_count": null,
   "metadata": {},
   "outputs": [
    {
     "data": {
      "text/plain": [
       "dtype('O')"
      ]
     },
     "execution_count": 20,
     "metadata": {},
     "output_type": "execute_result"
    }
   ],
   "source": [
    "df_datos.Hora_Vuelo.dtypes  #Esto es un object que puede ser un string o numéricos"
   ]
  },
  {
   "cell_type": "markdown",
   "metadata": {},
   "source": [
    "### Procesado de texto y fechas \n",
    "#### El tratamiento de texto\n",
    "El ETL es la limpieza del trratamiento de datos ya que lo tenemos en crudo debemos optimizar su análisis"
   ]
  },
  {
   "cell_type": "code",
   "execution_count": null,
   "metadata": {},
   "outputs": [],
   "source": [
    "import pandas as pd\n",
    "import random \n",
    "df_viajes = pd.read_csv(\"./data/df_viajes.csv\")"
   ]
  },
  {
   "cell_type": "markdown",
   "metadata": {},
   "source": [
    "##### Tratamiento de Strings en PANDAS\n",
    "Panda para taratar losd vañlroes string se le añade con \"str\" a nuestras \"series\" o columna del DATAFRAME "
   ]
  },
  {
   "cell_type": "code",
   "execution_count": null,
   "metadata": {},
   "outputs": [
    {
     "data": {
      "text/html": [
       "<div>\n",
       "<style scoped>\n",
       "    .dataframe tbody tr th:only-of-type {\n",
       "        vertical-align: middle;\n",
       "    }\n",
       "\n",
       "    .dataframe tbody tr th {\n",
       "        vertical-align: top;\n",
       "    }\n",
       "\n",
       "    .dataframe thead th {\n",
       "        text-align: right;\n",
       "    }\n",
       "</style>\n",
       "<table border=\"1\" class=\"dataframe\">\n",
       "  <thead>\n",
       "    <tr style=\"text-align: right;\">\n",
       "      <th></th>\n",
       "      <th>Id_vuelo</th>\n",
       "      <th>Aircompany</th>\n",
       "      <th>Origen</th>\n",
       "      <th>Destino</th>\n",
       "      <th>Distancia</th>\n",
       "      <th>avion</th>\n",
       "      <th>consumo_kg</th>\n",
       "      <th>duracion</th>\n",
       "      <th>Incidencias</th>\n",
       "    </tr>\n",
       "  </thead>\n",
       "  <tbody>\n",
       "    <tr>\n",
       "      <th>0</th>\n",
       "      <td>Air_PaGi_10737</td>\n",
       "      <td>Airnar</td>\n",
       "      <td>París</td>\n",
       "      <td>Ginebra</td>\n",
       "      <td>411.0</td>\n",
       "      <td>Boeing 737</td>\n",
       "      <td>NaN</td>\n",
       "      <td>51.0</td>\n",
       "      <td>Ave impacta con el avión</td>\n",
       "    </tr>\n",
       "    <tr>\n",
       "      <th>1</th>\n",
       "      <td>Fly_BaRo_10737</td>\n",
       "      <td>FlyQ</td>\n",
       "      <td>Bali</td>\n",
       "      <td>Roma</td>\n",
       "      <td>12738.0</td>\n",
       "      <td>Boeing 737</td>\n",
       "      <td>33479.13254400001</td>\n",
       "      <td>1167.0</td>\n",
       "      <td>Sin incidencias</td>\n",
       "    </tr>\n",
       "    <tr>\n",
       "      <th>2</th>\n",
       "      <td>Tab_GiLo_11380</td>\n",
       "      <td>TabarAir</td>\n",
       "      <td>Ginebra</td>\n",
       "      <td>Los Angeles</td>\n",
       "      <td>9103.0</td>\n",
       "      <td>Airbus A380</td>\n",
       "      <td>NaN</td>\n",
       "      <td>626.0</td>\n",
       "      <td>Amenaza de seguridad a bordo</td>\n",
       "    </tr>\n",
       "    <tr>\n",
       "      <th>3</th>\n",
       "      <td>Mol_PaCi_10737</td>\n",
       "      <td>MoldaviAir</td>\n",
       "      <td>París</td>\n",
       "      <td>Cincinnati</td>\n",
       "      <td>6370.0</td>\n",
       "      <td>Boeing 737</td>\n",
       "      <td>17027.01</td>\n",
       "      <td>503.0</td>\n",
       "      <td>Sin incidencias</td>\n",
       "    </tr>\n",
       "    <tr>\n",
       "      <th>4</th>\n",
       "      <td>Tab_CiRo_10747</td>\n",
       "      <td>TabarAir</td>\n",
       "      <td>Cincinnati</td>\n",
       "      <td>Roma</td>\n",
       "      <td>7480.0</td>\n",
       "      <td>Boeing 747</td>\n",
       "      <td>86115.744</td>\n",
       "      <td>518.0</td>\n",
       "      <td>Amenaza de seguridad a bordo</td>\n",
       "    </tr>\n",
       "    <tr>\n",
       "      <th>...</th>\n",
       "      <td>...</td>\n",
       "      <td>...</td>\n",
       "      <td>...</td>\n",
       "      <td>...</td>\n",
       "      <td>...</td>\n",
       "      <td>...</td>\n",
       "      <td>...</td>\n",
       "      <td>...</td>\n",
       "      <td>...</td>\n",
       "    </tr>\n",
       "    <tr>\n",
       "      <th>995</th>\n",
       "      <td>Pam_LoNu_10747</td>\n",
       "      <td>PamPangea</td>\n",
       "      <td>Londres</td>\n",
       "      <td>Nueva York</td>\n",
       "      <td>5566.0</td>\n",
       "      <td>Boeing 747</td>\n",
       "      <td>62300,238</td>\n",
       "      <td>391.0</td>\n",
       "      <td>Sin incidencias</td>\n",
       "    </tr>\n",
       "    <tr>\n",
       "      <th>996</th>\n",
       "      <td>Mol_MeLo_10747</td>\n",
       "      <td>MoldaviAir</td>\n",
       "      <td>Melbourne</td>\n",
       "      <td>Londres</td>\n",
       "      <td>16900.0</td>\n",
       "      <td>Boeing 747</td>\n",
       "      <td>194854.5664</td>\n",
       "      <td>1326.0</td>\n",
       "      <td>Amenaza de seguridad a bordo</td>\n",
       "    </tr>\n",
       "    <tr>\n",
       "      <th>997</th>\n",
       "      <td>Mol_BaPa_10747</td>\n",
       "      <td>MoldaviAir</td>\n",
       "      <td>Bali</td>\n",
       "      <td>París</td>\n",
       "      <td>11980.0</td>\n",
       "      <td>Boeing 747</td>\n",
       "      <td>128983.868</td>\n",
       "      <td>818.0</td>\n",
       "      <td>Condiciones meteorológicas turbias</td>\n",
       "    </tr>\n",
       "    <tr>\n",
       "      <th>998</th>\n",
       "      <td>Air_CaCi_10747</td>\n",
       "      <td>Airnar</td>\n",
       "      <td>Cádiz</td>\n",
       "      <td>Cincinnati</td>\n",
       "      <td>6624.0</td>\n",
       "      <td>Boeing 747</td>\n",
       "      <td>72024.0768</td>\n",
       "      <td>461.0</td>\n",
       "      <td>Sin incidencias</td>\n",
       "    </tr>\n",
       "    <tr>\n",
       "      <th>999</th>\n",
       "      <td>Air_PaCi_10737</td>\n",
       "      <td>Airnar</td>\n",
       "      <td>París</td>\n",
       "      <td>Cincinnati</td>\n",
       "      <td>6370.0</td>\n",
       "      <td>Boeing 737</td>\n",
       "      <td>16872,219</td>\n",
       "      <td>503.0</td>\n",
       "      <td>Incidencia en el sistema de entretenimiento</td>\n",
       "    </tr>\n",
       "  </tbody>\n",
       "</table>\n",
       "<p>1000 rows × 9 columns</p>\n",
       "</div>"
      ],
      "text/plain": [
       "           Id_vuelo  Aircompany      Origen      Destino  Distancia  \\\n",
       "0    Air_PaGi_10737      Airnar       París      Ginebra      411.0   \n",
       "1    Fly_BaRo_10737        FlyQ        Bali         Roma    12738.0   \n",
       "2    Tab_GiLo_11380    TabarAir     Ginebra  Los Angeles     9103.0   \n",
       "3    Mol_PaCi_10737  MoldaviAir       París   Cincinnati     6370.0   \n",
       "4    Tab_CiRo_10747    TabarAir  Cincinnati         Roma     7480.0   \n",
       "..              ...         ...         ...          ...        ...   \n",
       "995  Pam_LoNu_10747   PamPangea     Londres   Nueva York     5566.0   \n",
       "996  Mol_MeLo_10747  MoldaviAir   Melbourne      Londres    16900.0   \n",
       "997  Mol_BaPa_10747  MoldaviAir        Bali        París    11980.0   \n",
       "998  Air_CaCi_10747      Airnar       Cádiz   Cincinnati     6624.0   \n",
       "999  Air_PaCi_10737      Airnar       París   Cincinnati     6370.0   \n",
       "\n",
       "           avion         consumo_kg  duracion  \\\n",
       "0     Boeing 737                NaN      51.0   \n",
       "1     Boeing 737  33479.13254400001    1167.0   \n",
       "2    Airbus A380                NaN     626.0   \n",
       "3     Boeing 737           17027.01     503.0   \n",
       "4     Boeing 747          86115.744     518.0   \n",
       "..           ...                ...       ...   \n",
       "995   Boeing 747          62300,238     391.0   \n",
       "996   Boeing 747        194854.5664    1326.0   \n",
       "997   Boeing 747         128983.868     818.0   \n",
       "998   Boeing 747         72024.0768     461.0   \n",
       "999   Boeing 737          16872,219     503.0   \n",
       "\n",
       "                                     Incidencias  \n",
       "0                       Ave impacta con el avión  \n",
       "1                                Sin incidencias  \n",
       "2                   Amenaza de seguridad a bordo  \n",
       "3                                Sin incidencias  \n",
       "4                   Amenaza de seguridad a bordo  \n",
       "..                                           ...  \n",
       "995                              Sin incidencias  \n",
       "996                 Amenaza de seguridad a bordo  \n",
       "997           Condiciones meteorológicas turbias  \n",
       "998                              Sin incidencias  \n",
       "999  Incidencia en el sistema de entretenimiento  \n",
       "\n",
       "[1000 rows x 9 columns]"
      ]
     },
     "execution_count": 22,
     "metadata": {},
     "output_type": "execute_result"
    }
   ],
   "source": [
    "df_viajes"
   ]
  },
  {
   "cell_type": "code",
   "execution_count": null,
   "metadata": {},
   "outputs": [
    {
     "data": {
      "text/plain": [
       "Destino\n",
       "Cincinnati     125\n",
       "Bali           122\n",
       "Londres        111\n",
       "París          111\n",
       "Ginebra        102\n",
       "Nueva York     102\n",
       "Roma            83\n",
       "Los Angeles     62\n",
       "Cádiz           58\n",
       "Melbourne       52\n",
       "Barcelona       21\n",
       "BaRCelONa        2\n",
       "GiNeBra          2\n",
       "GINEbRa          2\n",
       "GINebra          2\n",
       "GInebra          2\n",
       "GinEbra          2\n",
       "GInEBrA          2\n",
       "GineBra          1\n",
       "MeLbOurne        1\n",
       "MelBouRne        1\n",
       "MelBourne        1\n",
       "GINEBrA          1\n",
       "MelBoUrne        1\n",
       "GiNEbra          1\n",
       "MELBoURne        1\n",
       "MELBourNe        1\n",
       "GINeBrA          1\n",
       "BARCEloNA        1\n",
       "MElbOUrnE        1\n",
       "GiNEBra          1\n",
       "BarcELONa        1\n",
       "MElbouRnE        1\n",
       "GInEBra          1\n",
       "GInEBRa          1\n",
       "GinebrA          1\n",
       "MelboURNe        1\n",
       "MelbOUrnE        1\n",
       "BARcelOnA        1\n",
       "MelBOUrnE        1\n",
       "GInebRA          1\n",
       "GINEbRA          1\n",
       "GIneBra          1\n",
       "GINebRa          1\n",
       "MeLbourne        1\n",
       "GIneBrA          1\n",
       "MElboUrNe        1\n",
       "GiNEbRa          1\n",
       "MeLboURnE        1\n",
       "GiNebrA          1\n",
       "GInEbRa          1\n",
       "GINEBra          1\n",
       "MELboURnE        1\n",
       "MELBoURNe        1\n",
       "MeLbOUrNE        1\n",
       "Name: count, dtype: int64"
      ]
     },
     "execution_count": 23,
     "metadata": {},
     "output_type": "execute_result"
    }
   ],
   "source": [
    "df_viajes.Destino.value_counts()"
   ]
  },
  {
   "cell_type": "code",
   "execution_count": null,
   "metadata": {},
   "outputs": [
    {
     "name": "stdout",
     "output_type": "stream",
     "text": [
      "<class 'pandas.core.frame.DataFrame'>\n",
      "RangeIndex: 1000 entries, 0 to 999\n",
      "Data columns (total 9 columns):\n",
      " #   Column       Non-Null Count  Dtype  \n",
      "---  ------       --------------  -----  \n",
      " 0   Id_vuelo     1000 non-null   object \n",
      " 1   Aircompany   1000 non-null   object \n",
      " 2   Origen       1000 non-null   object \n",
      " 3   Destino      1000 non-null   object \n",
      " 4   Distancia    872 non-null    float64\n",
      " 5   avion        1000 non-null   object \n",
      " 6   consumo_kg   862 non-null    object \n",
      " 7   duracion     853 non-null    float64\n",
      " 8   Incidencias  1000 non-null   object \n",
      "dtypes: float64(2), object(7)\n",
      "memory usage: 70.4+ KB\n"
     ]
    }
   ],
   "source": [
    "df_viajes.info()"
   ]
  },
  {
   "cell_type": "code",
   "execution_count": null,
   "metadata": {},
   "outputs": [
    {
     "data": {
      "text/plain": [
       "consumo_kg\n",
       "75328.428        4\n",
       "18400.052        4\n",
       "8799.1252        4\n",
       "205422.781408    3\n",
       "1751.98          3\n",
       "                ..\n",
       "111717.6528      1\n",
       "17555,72312      1\n",
       "43628.3172       1\n",
       "9583.92          1\n",
       "16872,219        1\n",
       "Name: count, Length: 703, dtype: int64"
      ]
     },
     "execution_count": 25,
     "metadata": {},
     "output_type": "execute_result"
    }
   ],
   "source": [
    "df_viajes.consumo_kg.value_counts()\n"
   ]
  },
  {
   "cell_type": "code",
   "execution_count": null,
   "metadata": {},
   "outputs": [
    {
     "data": {
      "text/plain": [
       "destino_corregido\n",
       "Ginebra        131\n",
       "Cincinnati     125\n",
       "Bali           122\n",
       "Londres        111\n",
       "París          111\n",
       "Nueva york     102\n",
       "Roma            83\n",
       "Melbourne       69\n",
       "Los angeles     62\n",
       "Cádiz           58\n",
       "Barcelona       26\n",
       "Name: count, dtype: int64"
      ]
     },
     "execution_count": 26,
     "metadata": {},
     "output_type": "execute_result"
    }
   ],
   "source": [
    "df_viajes[(\"destino_corregido\")]= df_viajes.Destino.str.lower().str.capitalize()  # \"Capitalize\" Este metodo realiza juna correción de mayusculas solo la primera letras de cada fila en este caso Destino se cambió por \"destino_corregido\"\n",
    "df_viajes[\"destino_corregido\"].value_counts()"
   ]
  },
  {
   "cell_type": "code",
   "execution_count": null,
   "metadata": {},
   "outputs": [],
   "source": [
    "# metodo para convertir los tipos de las columnas\n",
    "df_viajes[\"consumo_kg_corregido\"]=df_viajes[\"consumo_kg\"].str.replace(\",\",\".\").astype(\"float64\") # En pandas para poder corregir algunas columnas stringdebe de inciarse con el \".str.\""
   ]
  },
  {
   "cell_type": "code",
   "execution_count": null,
   "metadata": {},
   "outputs": [
    {
     "data": {
      "text/plain": [
       "0                NaN\n",
       "1       33479.132544\n",
       "2                NaN\n",
       "3       17027.010000\n",
       "4       86115.744000\n",
       "           ...      \n",
       "995     62300.238000\n",
       "996    194854.566400\n",
       "997    128983.868000\n",
       "998     72024.076800\n",
       "999     16872.219000\n",
       "Name: consumo_kg_corregido, Length: 1000, dtype: float64"
      ]
     },
     "execution_count": 30,
     "metadata": {},
     "output_type": "execute_result"
    }
   ],
   "source": [
    "df_viajes.consumo_kg_corregido\n"
   ]
  },
  {
   "cell_type": "code",
   "execution_count": null,
   "metadata": {},
   "outputs": [],
   "source": [
    "# La sintaxis correcta es: \"La_variable.str.\"la_función\""
   ]
  },
  {
   "cell_type": "markdown",
   "metadata": {},
   "source": [
    "#### Expresiones regulares\n",
    "Para Chatgtp son patrones utilizados paran encotnrar coincidencias en cadenas de texto\n"
   ]
  },
  {
   "cell_type": "code",
   "execution_count": null,
   "metadata": {},
   "outputs": [],
   "source": [
    "texto = \"En 2023, la nave espacial CRX-2049 partió de España. En 2049, encontramos vida en Marte. ¡Increíble! Costó $204M, el evento más importante desde el 1969.\""
   ]
  },
  {
   "cell_type": "code",
   "execution_count": null,
   "metadata": {},
   "outputs": [
    {
     "name": "stdout",
     "output_type": "stream",
     "text": [
      "['2023', '2049', '2049', '1969']\n",
      "CRX-2049\n"
     ]
    }
   ],
   "source": [
    "#Cómo revisar para mostrar las fechas\n",
    "import re # para necesidades más complejas regex, pero a nosotros por ahora nos llega con re\n",
    "\n",
    "print(re.findall(r\"[0-9]{4}\",texto))  #Encuentra todos los números de cuatro cifras y el segundo el nombre de la nave\n",
    "print(re.match(r\".*?([A-Z]+?-[0-9]{4})\", texto).group(1))"
   ]
  },
  {
   "cell_type": "code",
   "execution_count": null,
   "metadata": {},
   "outputs": [],
   "source": [
    "#Existen varias funciones en el paquete \"r\" para buscar patrones \n",
    "#Esto son los patrones básico:\n",
    "#* `findall(patron, variable)`, devuelve una lista con todas las partes de la varible que cumplen el patrón\n",
    "#* `match(patron, variable)`, devuelve un objeto con grupos (ahora veremos) con las ocurrencias que cumplen el patrón buscando desde el principio de la variable\n",
    "#* `sub(patron1,patron2, variable)`, devuelve un string con todas las ocurrencias de patron1, que encuentre en variable, sustituidas por patron2"
   ]
  },
  {
   "cell_type": "markdown",
   "metadata": {},
   "source": [
    "#### Patrones\n",
    "En todos los patrones se pone por delante la letra \"r\" para que no exista conflico con el escape \n",
    "Estos son los patrones sencillos:\n",
    "\".\": Cualquier caracter (si quiero buscar el carácter \".\" tenemos que poner \"\\.\")  \n",
    "\"\\d\": Un dígito cualquiera (o sea de 0 a 9)  \n",
    "\"\\D\": Un carácter que no es un número  \n",
    "\"\\w\": Una letra (no incluye signos de puntuación)  \n",
    "\"\\W\": Un carácter que no es una letra  \n",
    "\"\\s\": Espacios,tabuladores (\"\\t\"), retornos de carro/linea_nueva (\"\\n\")  \n",
    "\"\\S\": Un carácter que no sea el anterior.  \n"
   ]
  },
  {
   "cell_type": "code",
   "execution_count": null,
   "metadata": {},
   "outputs": [
    {
     "data": {
      "text/plain": [
       "['En 2',\n",
       " '023,',\n",
       " ' la ',\n",
       " 'nave',\n",
       " ' esp',\n",
       " 'acia',\n",
       " 'l CR',\n",
       " 'X-20',\n",
       " '49 p',\n",
       " 'arti',\n",
       " 'ó de',\n",
       " ' Esp',\n",
       " 'aña.',\n",
       " ' En ',\n",
       " '2049',\n",
       " ', en',\n",
       " 'cont',\n",
       " 'ramo',\n",
       " 's vi',\n",
       " 'da e',\n",
       " 'n Ma',\n",
       " 'rte.',\n",
       " ' ¡In',\n",
       " 'creí',\n",
       " 'ble!',\n",
       " ' Cos',\n",
       " 'tó $',\n",
       " '204M',\n",
       " ', el',\n",
       " ' eve',\n",
       " 'nto ',\n",
       " 'más ',\n",
       " 'impo',\n",
       " 'rtan',\n",
       " 'te d',\n",
       " 'esde',\n",
       " ' el ',\n",
       " '1969']"
      ]
     },
     "execution_count": 45,
     "metadata": {},
     "output_type": "execute_result"
    }
   ],
   "source": [
    "# palabra de caracteres rodeadas por espacio\n",
    "re.findall(\"....\",texto)"
   ]
  },
  {
   "cell_type": "code",
   "execution_count": null,
   "metadata": {},
   "outputs": [
    {
     "data": {
      "text/plain": [
       "['2023', '2049', '2049', '204M', '1969']"
      ]
     },
     "execution_count": 42,
     "metadata": {},
     "output_type": "execute_result"
    }
   ],
   "source": [
    "#Todos los número de 4 cifras que no le siga una letrea\n",
    "re.findall(\"\\d\\d\\d\\w\", texto)"
   ]
  },
  {
   "cell_type": "code",
   "execution_count": null,
   "metadata": {},
   "outputs": [
    {
     "data": {
      "text/plain": [
       "'En2023,lanaveespacialCRX-2049partiódeEspaña.En2049,encontramosvidaenMarte.¡Increíble!Costó$204M,eleventomásimportantedesdeel1969.'"
      ]
     },
     "execution_count": 46,
     "metadata": {},
     "output_type": "execute_result"
    }
   ],
   "source": [
    "#Eliminar espacion y tabuladores\n",
    "re.sub(\"\\s\",\"\",texto)"
   ]
  },
  {
   "cell_type": "markdown",
   "metadata": {},
   "source": [
    "#### Anclas \n",
    "Las anclas son modificadores que le dicen a nuestras funciones que se comporten de una manera bastantre útil:\n",
    "* \"^\", Busca al principio de la variable o cadena.\n",
    "* \"$\", Busca al final de la variable o cadena.\n",
    "* \"[]\", Es válido para cualquiera de los caracteres o patrones dentro de los corchetes (ojo, si quiero buscar el carácter corchete necesito \"\\[\" o \"\\]\")\n",
    "* \"[^ ]\", Es válido si no aparece ninguno de los caracteres o patrones dentro de los corchetes\n",
    "* \"|\", Es válido para lo que haya a la izquierda o derecha del |\n",
    "* \"()\", Lo que encuentres que coincida con el patrón de dentro de los paréntesis forma un grupo"
   ]
  },
  {
   "cell_type": "code",
   "execution_count": null,
   "metadata": {},
   "outputs": [
    {
     "data": {
      "text/plain": [
       "['2023', '2049', '2049', '204', '1969']"
      ]
     },
     "execution_count": 47,
     "metadata": {},
     "output_type": "execute_result"
    }
   ],
   "source": [
    "#Encuentra cualquier número de 3 o 4 cifras\n",
    "re.findall(\"\\d\\d\\d\\d|\\d\\d\\d\",texto) #Primero se pone el de 4 y despues de tres, poraque cumple el primer patron en su finalidad "
   ]
  },
  {
   "cell_type": "code",
   "execution_count": null,
   "metadata": {},
   "outputs": [
    {
     "data": {
      "text/plain": [
       "['E',\n",
       " 'n',\n",
       " ' ',\n",
       " ',',\n",
       " ' ',\n",
       " 'l',\n",
       " ' ',\n",
       " 'n',\n",
       " 'v',\n",
       " 'e',\n",
       " ' ',\n",
       " 'e',\n",
       " 's',\n",
       " 'p',\n",
       " 'c',\n",
       " 'i',\n",
       " 'l',\n",
       " ' ',\n",
       " 'C',\n",
       " 'R',\n",
       " 'X',\n",
       " '-',\n",
       " ' ',\n",
       " 'p',\n",
       " 'r',\n",
       " 't',\n",
       " 'i',\n",
       " 'ó',\n",
       " ' ',\n",
       " 'd',\n",
       " 'e',\n",
       " ' ',\n",
       " 'E',\n",
       " 's',\n",
       " 'p',\n",
       " 'ñ',\n",
       " '.',\n",
       " ' ',\n",
       " 'E',\n",
       " 'n',\n",
       " ' ',\n",
       " ',',\n",
       " ' ',\n",
       " 'e',\n",
       " 'n',\n",
       " 'c',\n",
       " 'o',\n",
       " 'n',\n",
       " 't',\n",
       " 'r',\n",
       " 'm',\n",
       " 'o',\n",
       " 's',\n",
       " ' ',\n",
       " 'v',\n",
       " 'i',\n",
       " 'd',\n",
       " ' ',\n",
       " 'e',\n",
       " 'n',\n",
       " ' ',\n",
       " 'M',\n",
       " 'r',\n",
       " 't',\n",
       " 'e',\n",
       " '.',\n",
       " ' ',\n",
       " '¡',\n",
       " 'I',\n",
       " 'n',\n",
       " 'c',\n",
       " 'r',\n",
       " 'e',\n",
       " 'í',\n",
       " 'l',\n",
       " 'e',\n",
       " '!',\n",
       " ' ',\n",
       " 'C',\n",
       " 'o',\n",
       " 's',\n",
       " 't',\n",
       " 'ó',\n",
       " ' ',\n",
       " '$',\n",
       " 'M',\n",
       " ',',\n",
       " ' ',\n",
       " 'e',\n",
       " 'l',\n",
       " ' ',\n",
       " 'e',\n",
       " 'v',\n",
       " 'e',\n",
       " 'n',\n",
       " 't',\n",
       " 'o',\n",
       " ' ',\n",
       " 'm',\n",
       " 'á',\n",
       " 's',\n",
       " ' ',\n",
       " 'i',\n",
       " 'm',\n",
       " 'p',\n",
       " 'o',\n",
       " 'r',\n",
       " 't',\n",
       " 'n',\n",
       " 't',\n",
       " 'e',\n",
       " ' ',\n",
       " 'd',\n",
       " 'e',\n",
       " 's',\n",
       " 'd',\n",
       " 'e',\n",
       " ' ',\n",
       " 'e',\n",
       " 'l',\n",
       " ' ',\n",
       " '.']"
      ]
     },
     "execution_count": 49,
     "metadata": {},
     "output_type": "execute_result"
    }
   ],
   "source": [
    "#Cualqiier caracter que sea a o b \n",
    "re.findall(\"[^ab\\d]\",texto)"
   ]
  },
  {
   "cell_type": "markdown",
   "metadata": {},
   "source": [
    "#### Cuantificadores \n",
    "Y aquí de verdad llega la potencia (y también la complejidad mayor):\n",
    "\n",
    "* \"<patrón>*\" encuentra 0 o más ocurrencias del patrón <patrón>\n",
    "* \"<patrón>+\" encuentra 1 o más ocurrencias del patrón <patrón>\n",
    "* \"<patrón>?\" encuentra 0 o 1 ocurrencia del patrón <patrón>\n",
    "* \"<patrón>{(num)}\" encuentra exactamente (num) ocurrencias seguidas del patrón <patrón>\n",
    "* \"<patrón>{(numero),(numero2)}\" encuentra ocurrencias que se repitan seguidas entre (numero) y (numero2) del <patrón> (si no pones (numero2), es mínimo (numero))\n",
    "* \"[a-z]\" encuentra cualquier letra de la \"a\" a la \"z\", sólo minúsculas (no acentos, no ñ)\n",
    "* \"[a-zA-Z]\" encuentra cualquier letra de la \"a\" a la \"z\" o de la \"A\" a la \"Z\"\n",
    "* \"[0-9]\" encuentra cualquier número del 0 al 9 (equivale a \\d)\n",
    "* \"[2-6]\" encuentra cualquier número del 2 al 6 (y puedes cambiar el intervalo)\n",
    "                                               "
   ]
  },
  {
   "cell_type": "code",
   "execution_count": null,
   "metadata": {},
   "outputs": [
    {
     "name": "stdout",
     "output_type": "stream",
     "text": [
      "['2023', '2049', '1969']\n"
     ]
    }
   ],
   "source": [
    "#encuentra 4 cifras que esten rodeados de espacios\n",
    "re.findall(r\"[ ,.]\\d{4}[ ,.]\",texto)\n",
    "print(re.findall(r\"[ ,.](\\d{4})[ ,.]\",texto))"
   ]
  },
  {
   "cell_type": "code",
   "execution_count": null,
   "metadata": {},
   "outputs": [
    {
     "name": "stdout",
     "output_type": "stream",
     "text": [
      "['2023', '2049', '1969']\n"
     ]
    }
   ],
   "source": [
    "#encuentra fechas\n",
    "print(re.findall(r\"[^-]([0-9]{4})[^A-Z]\",texto))\n"
   ]
  },
  {
   "cell_type": "code",
   "execution_count": null,
   "metadata": {},
   "outputs": [
    {
     "data": {
      "text/plain": [
       "'CRX-2049'"
      ]
     },
     "execution_count": 55,
     "metadata": {},
     "output_type": "execute_result"
    }
   ],
   "source": [
    "# El nombre de la nave sabiendo que son la primera en mayuscula \n",
    "nave= re.match(r\".*([A-Z]{3}-\\d{4})\", texto).group(1)\n",
    "nave"
   ]
  },
  {
   "cell_type": "code",
   "execution_count": null,
   "metadata": {},
   "outputs": [],
   "source": [
    "import pandas as pd\n",
    "import random \n",
    "df_viajes = pd.read_csv(\"./data/df_viajes.csv\")\n",
    "df_liga  = pd.read_csv(\"./data/df_liga_2019.csv\")"
   ]
  },
  {
   "cell_type": "code",
   "execution_count": null,
   "metadata": {},
   "outputs": [
    {
     "data": {
      "text/plain": [
       "126                           Sambódromo entre pasajeros\n",
       "181         Incidencias con el suministro de combustible\n",
       "867                                      Sin incidencias\n",
       "730                               Enfrentamiento a bordo\n",
       "954                                      Sin incidencias\n",
       "705              Retraso extenso en la pista de despegue\n",
       "932                                   Inundación a bordo\n",
       "709                             Ave impacta con el avión\n",
       "214                           Problema eléctrico general\n",
       "116                 Condiciones meteorológicas adversas,\n",
       "16            Emergencia de los sistemas de comunicación\n",
       "765               Emergencia de los sistemas hidráulicos\n",
       "439                                      Sin incidencias\n",
       "919                              Enfrentamiento a bordo,\n",
       "200    Enfrentamiento a bordo y Amenaza de seguridad ...\n",
       "24            Problemas con el suministro de combustible\n",
       "662                                      Sin incidencias\n",
       "233                                      Sin incidencias\n",
       "100                        Amenaza de seguridad a bordo,\n",
       "17                                       Sin incidencias\n",
       "703                                      Sin incidencias\n",
       "1                                        Sin incidencias\n",
       "699                                      Sin incidencias\n",
       "748             Problema de los sistemas de comunicación\n",
       "106                           Inundación entre pasajeros\n",
       "389                                      Sin incidencias\n",
       "152                         Fallo leve eléctrico general\n",
       "30                                       Sin incidencias\n",
       "566                                   Turbulencia severa\n",
       "323                                      Sin incidencias\n",
       "Name: Incidencias, dtype: object"
      ]
     },
     "execution_count": 2,
     "metadata": {},
     "output_type": "execute_result"
    }
   ],
   "source": [
    "df_viajes.Incidencias.sample(30)   # Un \"sample()\" escoge un número aleatorio de muestras de columnas"
   ]
  },
  {
   "cell_type": "code",
   "execution_count": null,
   "metadata": {},
   "outputs": [],
   "source": [
    "cardinalidad=df_viajes.Incidencias.nunique()/len(df_viajes)*100"
   ]
  },
  {
   "cell_type": "code",
   "execution_count": null,
   "metadata": {},
   "outputs": [
    {
     "data": {
      "text/plain": [
       "14.6"
      ]
     },
     "execution_count": 5,
     "metadata": {},
     "output_type": "execute_result"
    }
   ],
   "source": [
    "cardinalidad"
   ]
  },
  {
   "cell_type": "code",
   "execution_count": null,
   "metadata": {},
   "outputs": [
    {
     "data": {
      "text/plain": [
       "Incidencias\n",
       "Sin incidencias                                                      0.445\n",
       "Mal funcionamiento del tren de aterrizaje                            0.030\n",
       "Turbulencia severa                                                   0.029\n",
       "Ave impacta con el avión                                             0.025\n",
       "Aterrizaje de emergencia                                             0.023\n",
       "                                                                     ...  \n",
       "Problemas de navegación,                                             0.001\n",
       "Sambódromo a bordo y Conflictos entre pasajeros                      0.001\n",
       "Fallo eléctrico general                                              0.001\n",
       "Fallo grave de los sistemas de comunicación,                         0.001\n",
       "Problemas con el catering y Fallo de los sistemas de comunicación    0.001\n",
       "Name: proportion, Length: 146, dtype: float64"
      ]
     },
     "execution_count": 7,
     "metadata": {},
     "output_type": "execute_result"
    }
   ],
   "source": [
    "df_viajes.Incidencias.value_counts(True)"
   ]
  },
  {
   "cell_type": "code",
   "execution_count": null,
   "metadata": {},
   "outputs": [
    {
     "data": {
      "text/plain": [
       "Hubo_Incidencia\n",
       "True     0.555\n",
       "False    0.445\n",
       "Name: proportion, dtype: float64"
      ]
     },
     "execution_count": 15,
     "metadata": {},
     "output_type": "execute_result"
    }
   ],
   "source": [
    "#Simplificar categorizando con un campo de tipo texto\n",
    "df_viajes[\"Hubo_Incidencia\"]=df_viajes.Incidencias != \"Sin incidencias\"\n",
    "df_viajes.Hubo_Incidencia.value_counts(True)"
   ]
  },
  {
   "cell_type": "code",
   "execution_count": null,
   "metadata": {},
   "outputs": [
    {
     "data": {
      "text/plain": [
       "Aircompany\n",
       "Airnar        0.527778\n",
       "FlyQ          0.531792\n",
       "MoldaviAir    0.592920\n",
       "PamPangea     0.500000\n",
       "TabarAir      0.602620\n",
       "Name: Hubo_Incidencia, dtype: float64"
      ]
     },
     "execution_count": 17,
     "metadata": {},
     "output_type": "execute_result"
    }
   ],
   "source": [
    "df_viajes.groupby([\"Aircompany\"])[\"Hubo_Incidencia\"].mean()\n",
    "# Estos valores se miran en porcentaje "
   ]
  },
  {
   "cell_type": "code",
   "execution_count": null,
   "metadata": {},
   "outputs": [
    {
     "data": {
      "text/html": [
       "<div>\n",
       "<style scoped>\n",
       "    .dataframe tbody tr th:only-of-type {\n",
       "        vertical-align: middle;\n",
       "    }\n",
       "\n",
       "    .dataframe tbody tr th {\n",
       "        vertical-align: top;\n",
       "    }\n",
       "\n",
       "    .dataframe thead th {\n",
       "        text-align: right;\n",
       "    }\n",
       "</style>\n",
       "<table border=\"1\" class=\"dataframe\">\n",
       "  <thead>\n",
       "    <tr style=\"text-align: right;\">\n",
       "      <th></th>\n",
       "      <th>id_partido</th>\n",
       "      <th>equipo_local</th>\n",
       "      <th>equipo_visitante</th>\n",
       "      <th>Division</th>\n",
       "      <th>Temporada</th>\n",
       "      <th>fecha_dt</th>\n",
       "      <th>goles_local</th>\n",
       "      <th>goles_visitante</th>\n",
       "      <th>arbitro</th>\n",
       "      <th>estadio</th>\n",
       "      <th>odd_1</th>\n",
       "      <th>odd_x</th>\n",
       "      <th>odd_2</th>\n",
       "      <th>Informe_Tarjetas</th>\n",
       "    </tr>\n",
       "  </thead>\n",
       "  <tbody>\n",
       "    <tr>\n",
       "      <th>0</th>\n",
       "      <td>214023</td>\n",
       "      <td>Celta Vigo</td>\n",
       "      <td>Real Madrid</td>\n",
       "      <td>1</td>\n",
       "      <td>2019</td>\n",
       "      <td>2019-08-17 17:00:00</td>\n",
       "      <td>1</td>\n",
       "      <td>3</td>\n",
       "      <td>Javier Estrada</td>\n",
       "      <td>Abanca-Balaídos</td>\n",
       "      <td>4.75</td>\n",
       "      <td>4.20</td>\n",
       "      <td>1.65</td>\n",
       "      <td>Hubo 01 tajetas rojas al equipo visitante;Hubo...</td>\n",
       "    </tr>\n",
       "    <tr>\n",
       "      <th>1</th>\n",
       "      <td>214403</td>\n",
       "      <td>Racing Santander</td>\n",
       "      <td>Malaga</td>\n",
       "      <td>2</td>\n",
       "      <td>2019</td>\n",
       "      <td>2019-08-17 18:00:00</td>\n",
       "      <td>0</td>\n",
       "      <td>1</td>\n",
       "      <td>Aitor Gorostegui</td>\n",
       "      <td>Campos de Sport de El Sardinero</td>\n",
       "      <td>2.87</td>\n",
       "      <td>3.10</td>\n",
       "      <td>2.55</td>\n",
       "      <td>Hubo 03 amarillas mostradas al equipo local;Hu...</td>\n",
       "    </tr>\n",
       "    <tr>\n",
       "      <th>2</th>\n",
       "      <td>214024</td>\n",
       "      <td>Valencia</td>\n",
       "      <td>Real Sociedad</td>\n",
       "      <td>1</td>\n",
       "      <td>2019</td>\n",
       "      <td>2019-08-17 19:00:00</td>\n",
       "      <td>1</td>\n",
       "      <td>1</td>\n",
       "      <td>Jesús Gil</td>\n",
       "      <td>Estadio de Mestalla</td>\n",
       "      <td>1.66</td>\n",
       "      <td>3.75</td>\n",
       "      <td>5.50</td>\n",
       "      <td>Hubo 4 amarillas mostradas al equipo local;Hub...</td>\n",
       "    </tr>\n",
       "    <tr>\n",
       "      <th>3</th>\n",
       "      <td>214404</td>\n",
       "      <td>Almeria</td>\n",
       "      <td>Albacete</td>\n",
       "      <td>2</td>\n",
       "      <td>2019</td>\n",
       "      <td>2019-08-17 19:00:00</td>\n",
       "      <td>3</td>\n",
       "      <td>0</td>\n",
       "      <td>Saúl Ais</td>\n",
       "      <td>Estadio de los Juegos Mediterráneos</td>\n",
       "      <td>2.37</td>\n",
       "      <td>3.10</td>\n",
       "      <td>3.10</td>\n",
       "      <td>Hubo 00 rojas a jugadores visitantes;Hubo 01 a...</td>\n",
       "    </tr>\n",
       "    <tr>\n",
       "      <th>4</th>\n",
       "      <td>214026</td>\n",
       "      <td>Villarreal</td>\n",
       "      <td>Granada CF</td>\n",
       "      <td>1</td>\n",
       "      <td>2019</td>\n",
       "      <td>2019-08-17 21:00:00</td>\n",
       "      <td>4</td>\n",
       "      <td>4</td>\n",
       "      <td>Adrián Cordero</td>\n",
       "      <td>Estadio de la Cerámica</td>\n",
       "      <td>1.60</td>\n",
       "      <td>3.80</td>\n",
       "      <td>6.50</td>\n",
       "      <td>Hubo 01  tarjetas amarillas de jugadores visit...</td>\n",
       "    </tr>\n",
       "    <tr>\n",
       "      <th>...</th>\n",
       "      <td>...</td>\n",
       "      <td>...</td>\n",
       "      <td>...</td>\n",
       "      <td>...</td>\n",
       "      <td>...</td>\n",
       "      <td>...</td>\n",
       "      <td>...</td>\n",
       "      <td>...</td>\n",
       "      <td>...</td>\n",
       "      <td>...</td>\n",
       "      <td>...</td>\n",
       "      <td>...</td>\n",
       "      <td>...</td>\n",
       "      <td>...</td>\n",
       "    </tr>\n",
       "    <tr>\n",
       "      <th>587</th>\n",
       "      <td>214853</td>\n",
       "      <td>Alcorcon</td>\n",
       "      <td>Girona</td>\n",
       "      <td>2</td>\n",
       "      <td>2019</td>\n",
       "      <td>2020-07-20 21:00:00</td>\n",
       "      <td>2</td>\n",
       "      <td>0</td>\n",
       "      <td>Juan Pulido</td>\n",
       "      <td>Estadio Santo Domingo</td>\n",
       "      <td>2.37</td>\n",
       "      <td>2.87</td>\n",
       "      <td>3.40</td>\n",
       "      <td>Hubo 0 tajetas rojas al equipo visitante;Hubo ...</td>\n",
       "    </tr>\n",
       "    <tr>\n",
       "      <th>588</th>\n",
       "      <td>214863</td>\n",
       "      <td>Zaragoza</td>\n",
       "      <td>Ponferradina</td>\n",
       "      <td>2</td>\n",
       "      <td>2019</td>\n",
       "      <td>2020-07-20 21:00:00</td>\n",
       "      <td>2</td>\n",
       "      <td>1</td>\n",
       "      <td>Dámaso Arcediano</td>\n",
       "      <td>Estadio de la Romareda</td>\n",
       "      <td>2.10</td>\n",
       "      <td>3.30</td>\n",
       "      <td>3.50</td>\n",
       "      <td>Hubo 00  tarjetas amarillas de jugadores visit...</td>\n",
       "    </tr>\n",
       "    <tr>\n",
       "      <th>589</th>\n",
       "      <td>214854</td>\n",
       "      <td>Almeria</td>\n",
       "      <td>Malaga</td>\n",
       "      <td>2</td>\n",
       "      <td>2019</td>\n",
       "      <td>2020-07-20 21:00:00</td>\n",
       "      <td>0</td>\n",
       "      <td>0</td>\n",
       "      <td>Saúl Ais</td>\n",
       "      <td>Estadio de los Juegos Mediterráneos</td>\n",
       "      <td>2.10</td>\n",
       "      <td>3.20</td>\n",
       "      <td>3.60</td>\n",
       "      <td>Hubo 2  tarjetas amarillas de jugadores visita...</td>\n",
       "    </tr>\n",
       "    <tr>\n",
       "      <th>590</th>\n",
       "      <td>214862</td>\n",
       "      <td>Sporting Gijon</td>\n",
       "      <td>Huesca</td>\n",
       "      <td>2</td>\n",
       "      <td>2019</td>\n",
       "      <td>2020-07-20 21:00:00</td>\n",
       "      <td>0</td>\n",
       "      <td>1</td>\n",
       "      <td>Gorka Sagues</td>\n",
       "      <td>Estadio Municipal El Molinón</td>\n",
       "      <td>3.30</td>\n",
       "      <td>3.10</td>\n",
       "      <td>2.15</td>\n",
       "      <td>Hubo 2 amarillas para jugadores del equipo loc...</td>\n",
       "    </tr>\n",
       "    <tr>\n",
       "      <th>591</th>\n",
       "      <td>214856</td>\n",
       "      <td>Deportivo La Coruna</td>\n",
       "      <td>Fuenlabrada</td>\n",
       "      <td>2</td>\n",
       "      <td>2019</td>\n",
       "      <td>2020-08-07 20:00:00</td>\n",
       "      <td>2</td>\n",
       "      <td>1</td>\n",
       "      <td>Isidro Díaz de Mera</td>\n",
       "      <td>Estadio Abanca-Riazor</td>\n",
       "      <td>2.10</td>\n",
       "      <td>3.20</td>\n",
       "      <td>3.60</td>\n",
       "      <td>Hubo 02 amarillas para jugadores del equipo lo...</td>\n",
       "    </tr>\n",
       "  </tbody>\n",
       "</table>\n",
       "<p>592 rows × 14 columns</p>\n",
       "</div>"
      ],
      "text/plain": [
       "     id_partido         equipo_local equipo_visitante  Division  Temporada  \\\n",
       "0        214023           Celta Vigo      Real Madrid         1       2019   \n",
       "1        214403     Racing Santander           Malaga         2       2019   \n",
       "2        214024             Valencia    Real Sociedad         1       2019   \n",
       "3        214404              Almeria         Albacete         2       2019   \n",
       "4        214026           Villarreal       Granada CF         1       2019   \n",
       "..          ...                  ...              ...       ...        ...   \n",
       "587      214853             Alcorcon           Girona         2       2019   \n",
       "588      214863             Zaragoza     Ponferradina         2       2019   \n",
       "589      214854              Almeria           Malaga         2       2019   \n",
       "590      214862       Sporting Gijon           Huesca         2       2019   \n",
       "591      214856  Deportivo La Coruna      Fuenlabrada         2       2019   \n",
       "\n",
       "                fecha_dt  goles_local  goles_visitante              arbitro  \\\n",
       "0    2019-08-17 17:00:00            1                3       Javier Estrada   \n",
       "1    2019-08-17 18:00:00            0                1     Aitor Gorostegui   \n",
       "2    2019-08-17 19:00:00            1                1            Jesús Gil   \n",
       "3    2019-08-17 19:00:00            3                0             Saúl Ais   \n",
       "4    2019-08-17 21:00:00            4                4       Adrián Cordero   \n",
       "..                   ...          ...              ...                  ...   \n",
       "587  2020-07-20 21:00:00            2                0          Juan Pulido   \n",
       "588  2020-07-20 21:00:00            2                1     Dámaso Arcediano   \n",
       "589  2020-07-20 21:00:00            0                0             Saúl Ais   \n",
       "590  2020-07-20 21:00:00            0                1         Gorka Sagues   \n",
       "591  2020-08-07 20:00:00            2                1  Isidro Díaz de Mera   \n",
       "\n",
       "                                 estadio  odd_1  odd_x  odd_2  \\\n",
       "0                        Abanca-Balaídos   4.75   4.20   1.65   \n",
       "1        Campos de Sport de El Sardinero   2.87   3.10   2.55   \n",
       "2                    Estadio de Mestalla   1.66   3.75   5.50   \n",
       "3    Estadio de los Juegos Mediterráneos   2.37   3.10   3.10   \n",
       "4                 Estadio de la Cerámica   1.60   3.80   6.50   \n",
       "..                                   ...    ...    ...    ...   \n",
       "587                Estadio Santo Domingo   2.37   2.87   3.40   \n",
       "588               Estadio de la Romareda   2.10   3.30   3.50   \n",
       "589  Estadio de los Juegos Mediterráneos   2.10   3.20   3.60   \n",
       "590         Estadio Municipal El Molinón   3.30   3.10   2.15   \n",
       "591                Estadio Abanca-Riazor   2.10   3.20   3.60   \n",
       "\n",
       "                                      Informe_Tarjetas  \n",
       "0    Hubo 01 tajetas rojas al equipo visitante;Hubo...  \n",
       "1    Hubo 03 amarillas mostradas al equipo local;Hu...  \n",
       "2    Hubo 4 amarillas mostradas al equipo local;Hub...  \n",
       "3    Hubo 00 rojas a jugadores visitantes;Hubo 01 a...  \n",
       "4    Hubo 01  tarjetas amarillas de jugadores visit...  \n",
       "..                                                 ...  \n",
       "587  Hubo 0 tajetas rojas al equipo visitante;Hubo ...  \n",
       "588  Hubo 00  tarjetas amarillas de jugadores visit...  \n",
       "589  Hubo 2  tarjetas amarillas de jugadores visita...  \n",
       "590  Hubo 2 amarillas para jugadores del equipo loc...  \n",
       "591  Hubo 02 amarillas para jugadores del equipo lo...  \n",
       "\n",
       "[592 rows x 14 columns]"
      ]
     },
     "execution_count": 18,
     "metadata": {},
     "output_type": "execute_result"
    }
   ],
   "source": [
    "df_liga"
   ]
  },
  {
   "cell_type": "code",
   "execution_count": null,
   "metadata": {},
   "outputs": [
    {
     "name": "stdout",
     "output_type": "stream",
     "text": [
      "<class 'pandas.core.frame.DataFrame'>\n",
      "RangeIndex: 592 entries, 0 to 591\n",
      "Data columns (total 14 columns):\n",
      " #   Column            Non-Null Count  Dtype  \n",
      "---  ------            --------------  -----  \n",
      " 0   id_partido        592 non-null    int64  \n",
      " 1   equipo_local      592 non-null    object \n",
      " 2   equipo_visitante  592 non-null    object \n",
      " 3   Division          592 non-null    int64  \n",
      " 4   Temporada         592 non-null    int64  \n",
      " 5   fecha_dt          592 non-null    object \n",
      " 6   goles_local       592 non-null    int64  \n",
      " 7   goles_visitante   592 non-null    int64  \n",
      " 8   arbitro           592 non-null    object \n",
      " 9   estadio           592 non-null    object \n",
      " 10  odd_1             592 non-null    float64\n",
      " 11  odd_x             592 non-null    float64\n",
      " 12  odd_2             592 non-null    float64\n",
      " 13  Informe_Tarjetas  592 non-null    object \n",
      "dtypes: float64(3), int64(5), object(6)\n",
      "memory usage: 64.9+ KB\n"
     ]
    }
   ],
   "source": [
    "df_liga.info()"
   ]
  },
  {
   "cell_type": "code",
   "execution_count": null,
   "metadata": {},
   "outputs": [
    {
     "data": {
      "text/plain": [
       "Informe_Tarjetas\n",
       "Hubo 02  tarjetas amarillas de jugadores visitantes;Hubo 0 rojas a jugadores visitantes;Hubo 0 tarjetas rojas sobre el equipo local;Hubo 1 amarillas mostradas al equipo local                 2\n",
       "Hubo 01 tajetas rojas al equipo visitante;Hubo 0 rojas a jugadores del equipo local;Hubo 2 tarjetas amarillas para el equipo visitantes;Hubo 6 amarillas para jugadores del equipo local       1\n",
       "Hubo 01 rojas a jugadores del equipo local;Hubo 1 tajetas rojas al equipo visitante;Hubo 04  tarjetas amarillas de jugadores visitantes;Hubo 3 amarillas mostradas al equipo local             1\n",
       "Hubo 03 amarillas mostradas al equipo local;Hubo 0 tajetas rojas al equipo visitante;Hubo 0 rojas a jugadores del equipo local;Hubo 05 tarjetas amarillas para el equipo visitantes            1\n",
       "Hubo 02 tarjetas amarillas para el equipo visitantes;Hubo 2 amarillas para jugadores del equipo local;Hubo 00 rojas a jugadores del equipo local;Hubo 1 rojas a jugadores visitantes           1\n",
       "                                                                                                                                                                                              ..\n",
       "Hubo 2 tarjetas amarillas para el equipo visitantes;Hubo 0 rojas a jugadores del equipo local;Hubo 00 tajetas rojas al equipo visitante;Hubo 3 amarillas mostradas al equipo local             1\n",
       "Hubo 00 tarjetas rojas sobre el equipo local;Hubo 02  tarjetas amarillas de jugadores visitantes;Hubo 02 amarillas mostradas al equipo local;Hubo 0 tajetas rojas al equipo visitante          1\n",
       "Hubo 03  tarjetas amarillas de jugadores visitantes;Hubo 01 amarillas mostradas al equipo local;Hubo 0 rojas a jugadores del equipo local;Hubo 0 rojas a jugadores visitantes                  1\n",
       "Hubo 00 rojas a jugadores visitantes;Hubo 0 rojas a jugadores del equipo local;Hubo 03  tarjetas amarillas de jugadores visitantes;Hubo 1 amarillas mostradas al equipo local                  1\n",
       "Hubo 02 amarillas para jugadores del equipo local;Hubo 0 tajetas rojas al equipo visitante;Hubo 0 tarjetas rojas sobre el equipo local;Hubo 01 tarjetas amarillas para el equipo visitantes    1\n",
       "Name: count, Length: 591, dtype: int64"
      ]
     },
     "execution_count": 21,
     "metadata": {},
     "output_type": "execute_result"
    }
   ],
   "source": [
    "df_liga[\"Informe_Tarjetas\"].value_counts()"
   ]
  },
  {
   "cell_type": "code",
   "execution_count": null,
   "metadata": {},
   "outputs": [
    {
     "name": "stdout",
     "output_type": "stream",
     "text": [
      "99.83108108108108\n"
     ]
    }
   ],
   "source": [
    "print(df_liga.Informe_Tarjetas.nunique()/len(df_liga)*100)"
   ]
  },
  {
   "cell_type": "code",
   "execution_count": null,
   "metadata": {},
   "outputs": [
    {
     "data": {
      "text/plain": [
       "['Hubo 2 tarjetas amarillas para el equipo visitantes;Hubo 0 rojas a jugadores del equipo local;Hubo 00 tajetas rojas al equipo visitante;Hubo 3 amarillas mostradas al equipo local',\n",
       " 'Hubo 3 amarillas mostradas al equipo local;Hubo 0 tarjetas rojas sobre el equipo local;Hubo 00 rojas a jugadores visitantes;Hubo 1  tarjetas amarillas de jugadores visitantes',\n",
       " 'Hubo 0 tarjetas rojas sobre el equipo local;Hubo 4 tarjetas amarillas para el equipo visitantes;Hubo 0 tajetas rojas al equipo visitante;Hubo 2 amarillas para jugadores del equipo local',\n",
       " 'Hubo 2 amarillas mostradas al equipo local;Hubo 0 tarjetas rojas sobre el equipo local;Hubo 0 rojas a jugadores visitantes;Hubo 05  tarjetas amarillas de jugadores visitantes',\n",
       " 'Hubo 02  tarjetas amarillas de jugadores visitantes;Hubo 0 rojas a jugadores visitantes;Hubo 0 tarjetas rojas sobre el equipo local;Hubo 1 amarillas mostradas al equipo local']"
      ]
     },
     "execution_count": 23,
     "metadata": {},
     "output_type": "execute_result"
    }
   ],
   "source": [
    "df_liga[\"Informe_Tarjetas\"].sample(5).to_list()"
   ]
  },
  {
   "cell_type": "code",
   "execution_count": null,
   "metadata": {},
   "outputs": [],
   "source": [
    "ejemplo1=\"Hubo 0 tarjetas rojas al equipo visitante\"\n",
    "ejemplo2 = \"Hubo 01 rojas a jugadores visitantes\"\n"
   ]
  },
  {
   "cell_type": "code",
   "execution_count": null,
   "metadata": {},
   "outputs": [
    {
     "ename": "AttributeError",
     "evalue": "'NoneType' object has no attribute 'group'",
     "output_type": "error",
     "traceback": [
      "\u001b[1;31m---------------------------------------------------------------------------\u001b[0m",
      "\u001b[1;31mAttributeError\u001b[0m                            Traceback (most recent call last)",
      "\u001b[1;32mc:\\Users\\34603\\Documentos_clases\\GitHub Desckot\\ONLINE_DS_THEBRIDGE_BRYAN_TRABAJOS\\Python básico.ipynb Cell 504\u001b[0m line \u001b[0;36m3\n\u001b[0;32m      <a href='vscode-notebook-cell:/c%3A/Users/34603/Documentos_clases/GitHub%20Desckot/ONLINE_DS_THEBRIDGE_BRYAN_TRABAJOS/Python%20b%C3%A1sico.ipynb#Z1330sZmlsZQ%3D%3D?line=0'>1</a>\u001b[0m \u001b[39mimport\u001b[39;00m \u001b[39mre\u001b[39;00m\n\u001b[0;32m      <a href='vscode-notebook-cell:/c%3A/Users/34603/Documentos_clases/GitHub%20Desckot/ONLINE_DS_THEBRIDGE_BRYAN_TRABAJOS/Python%20b%C3%A1sico.ipynb#Z1330sZmlsZQ%3D%3D?line=1'>2</a>\u001b[0m patron\u001b[39m=\u001b[39m \u001b[39m\"\u001b[39m\u001b[39mHubo ([0-9]+) .*rojas.*visitantes[s]?\u001b[39m\u001b[39m\"\u001b[39m  \u001b[39m#Para agrupar se debe de poner en parentesis de esa manera solo en este caso nos vamos a quedar con el valor de las tarjetas\u001b[39;00m\n\u001b[1;32m----> <a href='vscode-notebook-cell:/c%3A/Users/34603/Documentos_clases/GitHub%20Desckot/ONLINE_DS_THEBRIDGE_BRYAN_TRABAJOS/Python%20b%C3%A1sico.ipynb#Z1330sZmlsZQ%3D%3D?line=2'>3</a>\u001b[0m \u001b[39mprint\u001b[39m(re\u001b[39m.\u001b[39;49mmatch(patron,ejemplo1)\u001b[39m.\u001b[39;49mgroup(\u001b[39m2\u001b[39m))\n",
      "\u001b[1;31mAttributeError\u001b[0m: 'NoneType' object has no attribute 'group'"
     ]
    }
   ],
   "source": [
    "import re\n",
    "patron= \"Hubo ([0-9]+) .*rojas.*visitantes[s]?\"  #Para agrupar se debe de poner en parentesis de esa manera solo en este caso nos vamos a quedar con el valor de las tarjetas\n",
    "print(re.match(patron,ejemplo1).group(2))"
   ]
  },
  {
   "cell_type": "markdown",
   "metadata": {},
   "source": [
    "Cuadro de métodos.  \n",
    "Aquí te dejo otros métodos que sirven para aplicar expresiones regulares a valores string. Ojo recuerda que tienes que poner \".str.\" antes de invocarlos:\n",
    " Method | Description |\n",
    "|--------|-------------|\n",
    "| ``match()`` | Call ``re.match()`` on each element, returning a boolean. |\n",
    "| ``extract()`` | Call ``re.match()`` on each element, returning matched groups as strings.|\n",
    "| ``findall()`` | Call ``re.findall()`` on each element |\n",
    "| ``replace()`` | Replace occurrences of pattern with some other string|\n",
    "| ``contains()`` | Call ``re.search()`` on each element, returning a boolean |\n",
    "| ``count()`` | Count occurrences of pattern|\n",
    "| ``split()``   | Equivalent to ``str.split()``, but accepts regexps |\n",
    "| ``rsplit()`` | Equivalent to ``str.rsplit()``, but accepts regexps |"
   ]
  },
  {
   "cell_type": "markdown",
   "metadata": {},
   "source": [
    "|"
   ]
  },
  {
   "cell_type": "markdown",
   "metadata": {},
   "source": [
    "#### Tratamiento de fecha\n",
    "\n"
   ]
  },
  {
   "cell_type": "code",
   "execution_count": null,
   "metadata": {},
   "outputs": [],
   "source": [
    "import datetime as dt # Este alias es mío, no es como pd o np\n",
    "import pandas as pd\n",
    " \n",
    "\n",
    "df_liga  = pd.read_csv(\"./data/df_liga_2019.csv\")"
   ]
  },
  {
   "cell_type": "code",
   "execution_count": null,
   "metadata": {},
   "outputs": [
    {
     "data": {
      "text/html": [
       "<div>\n",
       "<style scoped>\n",
       "    .dataframe tbody tr th:only-of-type {\n",
       "        vertical-align: middle;\n",
       "    }\n",
       "\n",
       "    .dataframe tbody tr th {\n",
       "        vertical-align: top;\n",
       "    }\n",
       "\n",
       "    .dataframe thead th {\n",
       "        text-align: right;\n",
       "    }\n",
       "</style>\n",
       "<table border=\"1\" class=\"dataframe\">\n",
       "  <thead>\n",
       "    <tr style=\"text-align: right;\">\n",
       "      <th></th>\n",
       "      <th>id_partido</th>\n",
       "      <th>equipo_local</th>\n",
       "      <th>equipo_visitante</th>\n",
       "      <th>Division</th>\n",
       "      <th>Temporada</th>\n",
       "      <th>fecha_dt</th>\n",
       "      <th>goles_local</th>\n",
       "      <th>goles_visitante</th>\n",
       "      <th>arbitro</th>\n",
       "      <th>estadio</th>\n",
       "      <th>odd_1</th>\n",
       "      <th>odd_x</th>\n",
       "      <th>odd_2</th>\n",
       "      <th>Informe_Tarjetas</th>\n",
       "    </tr>\n",
       "  </thead>\n",
       "  <tbody>\n",
       "    <tr>\n",
       "      <th>0</th>\n",
       "      <td>214023</td>\n",
       "      <td>Celta Vigo</td>\n",
       "      <td>Real Madrid</td>\n",
       "      <td>1</td>\n",
       "      <td>2019</td>\n",
       "      <td>2019-08-17 17:00:00</td>\n",
       "      <td>1</td>\n",
       "      <td>3</td>\n",
       "      <td>Javier Estrada</td>\n",
       "      <td>Abanca-Balaídos</td>\n",
       "      <td>4.75</td>\n",
       "      <td>4.20</td>\n",
       "      <td>1.65</td>\n",
       "      <td>Hubo 01 tajetas rojas al equipo visitante;Hubo...</td>\n",
       "    </tr>\n",
       "    <tr>\n",
       "      <th>1</th>\n",
       "      <td>214403</td>\n",
       "      <td>Racing Santander</td>\n",
       "      <td>Malaga</td>\n",
       "      <td>2</td>\n",
       "      <td>2019</td>\n",
       "      <td>2019-08-17 18:00:00</td>\n",
       "      <td>0</td>\n",
       "      <td>1</td>\n",
       "      <td>Aitor Gorostegui</td>\n",
       "      <td>Campos de Sport de El Sardinero</td>\n",
       "      <td>2.87</td>\n",
       "      <td>3.10</td>\n",
       "      <td>2.55</td>\n",
       "      <td>Hubo 03 amarillas mostradas al equipo local;Hu...</td>\n",
       "    </tr>\n",
       "    <tr>\n",
       "      <th>2</th>\n",
       "      <td>214024</td>\n",
       "      <td>Valencia</td>\n",
       "      <td>Real Sociedad</td>\n",
       "      <td>1</td>\n",
       "      <td>2019</td>\n",
       "      <td>2019-08-17 19:00:00</td>\n",
       "      <td>1</td>\n",
       "      <td>1</td>\n",
       "      <td>Jesús Gil</td>\n",
       "      <td>Estadio de Mestalla</td>\n",
       "      <td>1.66</td>\n",
       "      <td>3.75</td>\n",
       "      <td>5.50</td>\n",
       "      <td>Hubo 4 amarillas mostradas al equipo local;Hub...</td>\n",
       "    </tr>\n",
       "    <tr>\n",
       "      <th>3</th>\n",
       "      <td>214404</td>\n",
       "      <td>Almeria</td>\n",
       "      <td>Albacete</td>\n",
       "      <td>2</td>\n",
       "      <td>2019</td>\n",
       "      <td>2019-08-17 19:00:00</td>\n",
       "      <td>3</td>\n",
       "      <td>0</td>\n",
       "      <td>Saúl Ais</td>\n",
       "      <td>Estadio de los Juegos Mediterráneos</td>\n",
       "      <td>2.37</td>\n",
       "      <td>3.10</td>\n",
       "      <td>3.10</td>\n",
       "      <td>Hubo 00 rojas a jugadores visitantes;Hubo 01 a...</td>\n",
       "    </tr>\n",
       "    <tr>\n",
       "      <th>4</th>\n",
       "      <td>214026</td>\n",
       "      <td>Villarreal</td>\n",
       "      <td>Granada CF</td>\n",
       "      <td>1</td>\n",
       "      <td>2019</td>\n",
       "      <td>2019-08-17 21:00:00</td>\n",
       "      <td>4</td>\n",
       "      <td>4</td>\n",
       "      <td>Adrián Cordero</td>\n",
       "      <td>Estadio de la Cerámica</td>\n",
       "      <td>1.60</td>\n",
       "      <td>3.80</td>\n",
       "      <td>6.50</td>\n",
       "      <td>Hubo 01  tarjetas amarillas de jugadores visit...</td>\n",
       "    </tr>\n",
       "    <tr>\n",
       "      <th>...</th>\n",
       "      <td>...</td>\n",
       "      <td>...</td>\n",
       "      <td>...</td>\n",
       "      <td>...</td>\n",
       "      <td>...</td>\n",
       "      <td>...</td>\n",
       "      <td>...</td>\n",
       "      <td>...</td>\n",
       "      <td>...</td>\n",
       "      <td>...</td>\n",
       "      <td>...</td>\n",
       "      <td>...</td>\n",
       "      <td>...</td>\n",
       "      <td>...</td>\n",
       "    </tr>\n",
       "    <tr>\n",
       "      <th>587</th>\n",
       "      <td>214853</td>\n",
       "      <td>Alcorcon</td>\n",
       "      <td>Girona</td>\n",
       "      <td>2</td>\n",
       "      <td>2019</td>\n",
       "      <td>2020-07-20 21:00:00</td>\n",
       "      <td>2</td>\n",
       "      <td>0</td>\n",
       "      <td>Juan Pulido</td>\n",
       "      <td>Estadio Santo Domingo</td>\n",
       "      <td>2.37</td>\n",
       "      <td>2.87</td>\n",
       "      <td>3.40</td>\n",
       "      <td>Hubo 0 tajetas rojas al equipo visitante;Hubo ...</td>\n",
       "    </tr>\n",
       "    <tr>\n",
       "      <th>588</th>\n",
       "      <td>214863</td>\n",
       "      <td>Zaragoza</td>\n",
       "      <td>Ponferradina</td>\n",
       "      <td>2</td>\n",
       "      <td>2019</td>\n",
       "      <td>2020-07-20 21:00:00</td>\n",
       "      <td>2</td>\n",
       "      <td>1</td>\n",
       "      <td>Dámaso Arcediano</td>\n",
       "      <td>Estadio de la Romareda</td>\n",
       "      <td>2.10</td>\n",
       "      <td>3.30</td>\n",
       "      <td>3.50</td>\n",
       "      <td>Hubo 00  tarjetas amarillas de jugadores visit...</td>\n",
       "    </tr>\n",
       "    <tr>\n",
       "      <th>589</th>\n",
       "      <td>214854</td>\n",
       "      <td>Almeria</td>\n",
       "      <td>Malaga</td>\n",
       "      <td>2</td>\n",
       "      <td>2019</td>\n",
       "      <td>2020-07-20 21:00:00</td>\n",
       "      <td>0</td>\n",
       "      <td>0</td>\n",
       "      <td>Saúl Ais</td>\n",
       "      <td>Estadio de los Juegos Mediterráneos</td>\n",
       "      <td>2.10</td>\n",
       "      <td>3.20</td>\n",
       "      <td>3.60</td>\n",
       "      <td>Hubo 2  tarjetas amarillas de jugadores visita...</td>\n",
       "    </tr>\n",
       "    <tr>\n",
       "      <th>590</th>\n",
       "      <td>214862</td>\n",
       "      <td>Sporting Gijon</td>\n",
       "      <td>Huesca</td>\n",
       "      <td>2</td>\n",
       "      <td>2019</td>\n",
       "      <td>2020-07-20 21:00:00</td>\n",
       "      <td>0</td>\n",
       "      <td>1</td>\n",
       "      <td>Gorka Sagues</td>\n",
       "      <td>Estadio Municipal El Molinón</td>\n",
       "      <td>3.30</td>\n",
       "      <td>3.10</td>\n",
       "      <td>2.15</td>\n",
       "      <td>Hubo 2 amarillas para jugadores del equipo loc...</td>\n",
       "    </tr>\n",
       "    <tr>\n",
       "      <th>591</th>\n",
       "      <td>214856</td>\n",
       "      <td>Deportivo La Coruna</td>\n",
       "      <td>Fuenlabrada</td>\n",
       "      <td>2</td>\n",
       "      <td>2019</td>\n",
       "      <td>2020-08-07 20:00:00</td>\n",
       "      <td>2</td>\n",
       "      <td>1</td>\n",
       "      <td>Isidro Díaz de Mera</td>\n",
       "      <td>Estadio Abanca-Riazor</td>\n",
       "      <td>2.10</td>\n",
       "      <td>3.20</td>\n",
       "      <td>3.60</td>\n",
       "      <td>Hubo 02 amarillas para jugadores del equipo lo...</td>\n",
       "    </tr>\n",
       "  </tbody>\n",
       "</table>\n",
       "<p>592 rows × 14 columns</p>\n",
       "</div>"
      ],
      "text/plain": [
       "     id_partido         equipo_local equipo_visitante  Division  Temporada  \\\n",
       "0        214023           Celta Vigo      Real Madrid         1       2019   \n",
       "1        214403     Racing Santander           Malaga         2       2019   \n",
       "2        214024             Valencia    Real Sociedad         1       2019   \n",
       "3        214404              Almeria         Albacete         2       2019   \n",
       "4        214026           Villarreal       Granada CF         1       2019   \n",
       "..          ...                  ...              ...       ...        ...   \n",
       "587      214853             Alcorcon           Girona         2       2019   \n",
       "588      214863             Zaragoza     Ponferradina         2       2019   \n",
       "589      214854              Almeria           Malaga         2       2019   \n",
       "590      214862       Sporting Gijon           Huesca         2       2019   \n",
       "591      214856  Deportivo La Coruna      Fuenlabrada         2       2019   \n",
       "\n",
       "                fecha_dt  goles_local  goles_visitante              arbitro  \\\n",
       "0    2019-08-17 17:00:00            1                3       Javier Estrada   \n",
       "1    2019-08-17 18:00:00            0                1     Aitor Gorostegui   \n",
       "2    2019-08-17 19:00:00            1                1            Jesús Gil   \n",
       "3    2019-08-17 19:00:00            3                0             Saúl Ais   \n",
       "4    2019-08-17 21:00:00            4                4       Adrián Cordero   \n",
       "..                   ...          ...              ...                  ...   \n",
       "587  2020-07-20 21:00:00            2                0          Juan Pulido   \n",
       "588  2020-07-20 21:00:00            2                1     Dámaso Arcediano   \n",
       "589  2020-07-20 21:00:00            0                0             Saúl Ais   \n",
       "590  2020-07-20 21:00:00            0                1         Gorka Sagues   \n",
       "591  2020-08-07 20:00:00            2                1  Isidro Díaz de Mera   \n",
       "\n",
       "                                 estadio  odd_1  odd_x  odd_2  \\\n",
       "0                        Abanca-Balaídos   4.75   4.20   1.65   \n",
       "1        Campos de Sport de El Sardinero   2.87   3.10   2.55   \n",
       "2                    Estadio de Mestalla   1.66   3.75   5.50   \n",
       "3    Estadio de los Juegos Mediterráneos   2.37   3.10   3.10   \n",
       "4                 Estadio de la Cerámica   1.60   3.80   6.50   \n",
       "..                                   ...    ...    ...    ...   \n",
       "587                Estadio Santo Domingo   2.37   2.87   3.40   \n",
       "588               Estadio de la Romareda   2.10   3.30   3.50   \n",
       "589  Estadio de los Juegos Mediterráneos   2.10   3.20   3.60   \n",
       "590         Estadio Municipal El Molinón   3.30   3.10   2.15   \n",
       "591                Estadio Abanca-Riazor   2.10   3.20   3.60   \n",
       "\n",
       "                                      Informe_Tarjetas  \n",
       "0    Hubo 01 tajetas rojas al equipo visitante;Hubo...  \n",
       "1    Hubo 03 amarillas mostradas al equipo local;Hu...  \n",
       "2    Hubo 4 amarillas mostradas al equipo local;Hub...  \n",
       "3    Hubo 00 rojas a jugadores visitantes;Hubo 01 a...  \n",
       "4    Hubo 01  tarjetas amarillas de jugadores visit...  \n",
       "..                                                 ...  \n",
       "587  Hubo 0 tajetas rojas al equipo visitante;Hubo ...  \n",
       "588  Hubo 00  tarjetas amarillas de jugadores visit...  \n",
       "589  Hubo 2  tarjetas amarillas de jugadores visita...  \n",
       "590  Hubo 2 amarillas para jugadores del equipo loc...  \n",
       "591  Hubo 02 amarillas para jugadores del equipo lo...  \n",
       "\n",
       "[592 rows x 14 columns]"
      ]
     },
     "execution_count": 2,
     "metadata": {},
     "output_type": "execute_result"
    }
   ],
   "source": [
    "df_liga"
   ]
  },
  {
   "cell_type": "code",
   "execution_count": null,
   "metadata": {},
   "outputs": [
    {
     "name": "stdout",
     "output_type": "stream",
     "text": [
      "2023-11-03 20:00:00\n"
     ]
    }
   ],
   "source": [
    "fecha = dt.datetime(year = 2023, month = 11, day = 3, hour = 20)\n",
    "print(fecha)"
   ]
  },
  {
   "cell_type": "code",
   "execution_count": null,
   "metadata": {},
   "outputs": [
    {
     "name": "stdout",
     "output_type": "stream",
     "text": [
      "2023-11-04 16:00:00\n",
      "2023-10-14 20:00:00\n"
     ]
    }
   ],
   "source": [
    "# Crear fechas sumando periodos de tiempo\n",
    "fecha2 = fecha + dt.timedelta(hours = 20)\n",
    "print(fecha2)\n",
    "\n",
    "fecha3 = fecha - dt.timedelta(days = 20)\n",
    "print(fecha3)"
   ]
  },
  {
   "cell_type": "code",
   "execution_count": null,
   "metadata": {},
   "outputs": [
    {
     "data": {
      "text/plain": [
       "True"
      ]
     },
     "execution_count": 6,
     "metadata": {},
     "output_type": "execute_result"
    }
   ],
   "source": [
    "# Comparar fechas\n",
    "fecha3 < fecha < fecha2"
   ]
  },
  {
   "cell_type": "code",
   "execution_count": null,
   "metadata": {},
   "outputs": [
    {
     "name": "stdout",
     "output_type": "stream",
     "text": [
      "20 days, 20:00:00\n",
      "<class 'datetime.timedelta'>\n",
      "72000\n"
     ]
    }
   ],
   "source": [
    "# Encontrar diferencias de tiempo\n",
    "diferencia = fecha2 - fecha3\n",
    "print(diferencia)\n",
    "print(type(diferencia))\n",
    "print(diferencia.seconds)  #Esta librería tiene la función de poner los segundos de diferencia o distancia"
   ]
  },
  {
   "cell_type": "markdown",
   "metadata": {},
   "source": [
    " Datatime a String\n",
    "Existen dos metodos donde hacen uso de patron para sus conversiones\n",
    "- strftime para convertirse \"\"datatime\"\" a \"\"string\"\"\n",
    "- strptime para converttir a \"\"string\"\" a \"\"datatime\"\"\n",
    "- [aquí para ambos](https://docs.python.org/3/library/datetime.html#strftime-and-strptime-behavior):"
   ]
  },
  {
   "cell_type": "code",
   "execution_count": null,
   "metadata": {},
   "outputs": [
    {
     "data": {
      "text/plain": [
       "'Hoy es 03 de 11 de 2023, es Fri, y son las 20 y 00 minutos'"
      ]
     },
     "execution_count": 9,
     "metadata": {},
     "output_type": "execute_result"
    }
   ],
   "source": [
    "# Strftime, ejemplo \n",
    "fecha.strftime(\"Hoy es %d de %m de %Y, es %a, y son las %H y %M minutos\")  # Esto describe cada uno de  lso dias, meses o año y asi mismo la hora\n",
    "# Puedes usar %d,%m, etc como quieras\n"
   ]
  },
  {
   "cell_type": "code",
   "execution_count": null,
   "metadata": {},
   "outputs": [
    {
     "name": "stdout",
     "output_type": "stream",
     "text": [
      "2023-11-03 20:00:00\n"
     ]
    }
   ],
   "source": [
    "# Strptime, ejemplo\n",
    "cadena_con_fecha = 'Hoy es 03 de 11 de 2023, es Fri, y son las 20 y 00 minutos'\n",
    "patron = \"Hoy es %d de %m de %Y, es %a, y son las %H y %M minutos\"\n",
    "fecha_de_string = dt.datetime.strptime(cadena_con_fecha,patron)\n",
    "print(fecha_de_string)"
   ]
  },
  {
   "cell_type": "markdown",
   "metadata": {},
   "source": [
    " Panda a Datatime.  .\n",
    "\n",
    "Ahora si queremos convertir nuestro campo \"fecha_dt\" a datetime, solo tendríamos que hacernos una función que usaser strptime.... Vale, vale, existe un método para hacerlo, siempre que sepamos el patrón o formato como en el ejemplo anterior:\n",
    "\n"
   ]
  },
  {
   "cell_type": "code",
   "execution_count": null,
   "metadata": {},
   "outputs": [
    {
     "data": {
      "text/plain": [
       "380    2020-02-23 16:00:00\n",
       "Name: fecha_dt, dtype: object"
      ]
     },
     "execution_count": 11,
     "metadata": {},
     "output_type": "execute_result"
    }
   ],
   "source": [
    "df_liga.fecha_dt.sample(1)"
   ]
  },
  {
   "cell_type": "code",
   "execution_count": null,
   "metadata": {},
   "outputs": [],
   "source": [
    "patron = \"%Y-%m-%d %H:%M:%S\""
   ]
  },
  {
   "cell_type": "code",
   "execution_count": null,
   "metadata": {},
   "outputs": [],
   "source": [
    "df_liga[\"FECHA\"] = pd.to_datetime(df_liga.fecha_dt)"
   ]
  },
  {
   "cell_type": "code",
   "execution_count": null,
   "metadata": {},
   "outputs": [
    {
     "data": {
      "text/plain": [
       "0     2019-08-17 17:00:00\n",
       "1     2019-08-17 18:00:00\n",
       "2     2019-08-17 19:00:00\n",
       "3     2019-08-17 19:00:00\n",
       "4     2019-08-17 21:00:00\n",
       "              ...        \n",
       "587   2020-07-20 21:00:00\n",
       "588   2020-07-20 21:00:00\n",
       "589   2020-07-20 21:00:00\n",
       "590   2020-07-20 21:00:00\n",
       "591   2020-08-07 20:00:00\n",
       "Name: FECHA, Length: 592, dtype: datetime64[ns]"
      ]
     },
     "execution_count": 14,
     "metadata": {},
     "output_type": "execute_result"
    }
   ],
   "source": [
    "df_liga.FECHA"
   ]
  },
  {
   "cell_type": "code",
   "execution_count": null,
   "metadata": {},
   "outputs": [
    {
     "data": {
      "text/html": [
       "<div>\n",
       "<style scoped>\n",
       "    .dataframe tbody tr th:only-of-type {\n",
       "        vertical-align: middle;\n",
       "    }\n",
       "\n",
       "    .dataframe tbody tr th {\n",
       "        vertical-align: top;\n",
       "    }\n",
       "\n",
       "    .dataframe thead th {\n",
       "        text-align: right;\n",
       "    }\n",
       "</style>\n",
       "<table border=\"1\" class=\"dataframe\">\n",
       "  <thead>\n",
       "    <tr style=\"text-align: right;\">\n",
       "      <th></th>\n",
       "      <th>id_partido</th>\n",
       "      <th>equipo_local</th>\n",
       "      <th>equipo_visitante</th>\n",
       "      <th>Division</th>\n",
       "      <th>Temporada</th>\n",
       "      <th>fecha_dt</th>\n",
       "      <th>goles_local</th>\n",
       "      <th>goles_visitante</th>\n",
       "      <th>arbitro</th>\n",
       "      <th>estadio</th>\n",
       "      <th>odd_1</th>\n",
       "      <th>odd_x</th>\n",
       "      <th>odd_2</th>\n",
       "      <th>Informe_Tarjetas</th>\n",
       "      <th>FECHA</th>\n",
       "    </tr>\n",
       "  </thead>\n",
       "  <tbody>\n",
       "    <tr>\n",
       "      <th>281</th>\n",
       "      <td>214210</td>\n",
       "      <td>Valencia</td>\n",
       "      <td>Eibar</td>\n",
       "      <td>1</td>\n",
       "      <td>2019</td>\n",
       "      <td>2020-01-04 13:00:00</td>\n",
       "      <td>1</td>\n",
       "      <td>0</td>\n",
       "      <td>Alejandro Hernández</td>\n",
       "      <td>Estadio de Mestalla</td>\n",
       "      <td>1.61</td>\n",
       "      <td>3.90</td>\n",
       "      <td>5.50</td>\n",
       "      <td>Hubo 01 tajetas rojas al equipo visitante;Hubo...</td>\n",
       "      <td>2020-01-04 13:00:00</td>\n",
       "    </tr>\n",
       "    <tr>\n",
       "      <th>282</th>\n",
       "      <td>214635</td>\n",
       "      <td>Fuenlabrada</td>\n",
       "      <td>Las Palmas</td>\n",
       "      <td>2</td>\n",
       "      <td>2019</td>\n",
       "      <td>2020-01-04 13:00:00</td>\n",
       "      <td>0</td>\n",
       "      <td>0</td>\n",
       "      <td>Jorge Figueroa</td>\n",
       "      <td>Estadio Fernando Torres</td>\n",
       "      <td>2.15</td>\n",
       "      <td>3.20</td>\n",
       "      <td>3.50</td>\n",
       "      <td>Hubo 05 tarjetas amarillas para el equipo visi...</td>\n",
       "      <td>2020-01-04 13:00:00</td>\n",
       "    </tr>\n",
       "    <tr>\n",
       "      <th>283</th>\n",
       "      <td>214206</td>\n",
       "      <td>Getafe</td>\n",
       "      <td>Real Madrid</td>\n",
       "      <td>1</td>\n",
       "      <td>2019</td>\n",
       "      <td>2020-01-04 16:00:00</td>\n",
       "      <td>0</td>\n",
       "      <td>3</td>\n",
       "      <td>José Munuera</td>\n",
       "      <td>Coliseum Alfonso Pérez</td>\n",
       "      <td>4.20</td>\n",
       "      <td>3.60</td>\n",
       "      <td>1.85</td>\n",
       "      <td>Hubo 3 amarillas para jugadores del equipo loc...</td>\n",
       "      <td>2020-01-04 16:00:00</td>\n",
       "    </tr>\n",
       "    <tr>\n",
       "      <th>284</th>\n",
       "      <td>214642</td>\n",
       "      <td>Tenerife</td>\n",
       "      <td>Albacete</td>\n",
       "      <td>2</td>\n",
       "      <td>2019</td>\n",
       "      <td>2020-01-04 18:00:00</td>\n",
       "      <td>4</td>\n",
       "      <td>2</td>\n",
       "      <td>Daniel Ocón</td>\n",
       "      <td>Estadio Heliodoro Rodríguez Lopéz</td>\n",
       "      <td>1.95</td>\n",
       "      <td>3.20</td>\n",
       "      <td>4.20</td>\n",
       "      <td>Hubo 1 amarillas mostradas al equipo local;Hub...</td>\n",
       "      <td>2020-01-04 18:00:00</td>\n",
       "    </tr>\n",
       "    <tr>\n",
       "      <th>285</th>\n",
       "      <td>214636</td>\n",
       "      <td>Lugo</td>\n",
       "      <td>Almeria</td>\n",
       "      <td>2</td>\n",
       "      <td>2019</td>\n",
       "      <td>2020-01-04 18:00:00</td>\n",
       "      <td>0</td>\n",
       "      <td>4</td>\n",
       "      <td>Aitor Gorostegui</td>\n",
       "      <td>Estadio Anxo Carro</td>\n",
       "      <td>3.20</td>\n",
       "      <td>3.20</td>\n",
       "      <td>2.30</td>\n",
       "      <td>Hubo 02 amarillas mostradas al equipo local;Hu...</td>\n",
       "      <td>2020-01-04 18:00:00</td>\n",
       "    </tr>\n",
       "    <tr>\n",
       "      <th>...</th>\n",
       "      <td>...</td>\n",
       "      <td>...</td>\n",
       "      <td>...</td>\n",
       "      <td>...</td>\n",
       "      <td>...</td>\n",
       "      <td>...</td>\n",
       "      <td>...</td>\n",
       "      <td>...</td>\n",
       "      <td>...</td>\n",
       "      <td>...</td>\n",
       "      <td>...</td>\n",
       "      <td>...</td>\n",
       "      <td>...</td>\n",
       "      <td>...</td>\n",
       "      <td>...</td>\n",
       "    </tr>\n",
       "    <tr>\n",
       "      <th>587</th>\n",
       "      <td>214853</td>\n",
       "      <td>Alcorcon</td>\n",
       "      <td>Girona</td>\n",
       "      <td>2</td>\n",
       "      <td>2019</td>\n",
       "      <td>2020-07-20 21:00:00</td>\n",
       "      <td>2</td>\n",
       "      <td>0</td>\n",
       "      <td>Juan Pulido</td>\n",
       "      <td>Estadio Santo Domingo</td>\n",
       "      <td>2.37</td>\n",
       "      <td>2.87</td>\n",
       "      <td>3.40</td>\n",
       "      <td>Hubo 0 tajetas rojas al equipo visitante;Hubo ...</td>\n",
       "      <td>2020-07-20 21:00:00</td>\n",
       "    </tr>\n",
       "    <tr>\n",
       "      <th>588</th>\n",
       "      <td>214863</td>\n",
       "      <td>Zaragoza</td>\n",
       "      <td>Ponferradina</td>\n",
       "      <td>2</td>\n",
       "      <td>2019</td>\n",
       "      <td>2020-07-20 21:00:00</td>\n",
       "      <td>2</td>\n",
       "      <td>1</td>\n",
       "      <td>Dámaso Arcediano</td>\n",
       "      <td>Estadio de la Romareda</td>\n",
       "      <td>2.10</td>\n",
       "      <td>3.30</td>\n",
       "      <td>3.50</td>\n",
       "      <td>Hubo 00  tarjetas amarillas de jugadores visit...</td>\n",
       "      <td>2020-07-20 21:00:00</td>\n",
       "    </tr>\n",
       "    <tr>\n",
       "      <th>589</th>\n",
       "      <td>214854</td>\n",
       "      <td>Almeria</td>\n",
       "      <td>Malaga</td>\n",
       "      <td>2</td>\n",
       "      <td>2019</td>\n",
       "      <td>2020-07-20 21:00:00</td>\n",
       "      <td>0</td>\n",
       "      <td>0</td>\n",
       "      <td>Saúl Ais</td>\n",
       "      <td>Estadio de los Juegos Mediterráneos</td>\n",
       "      <td>2.10</td>\n",
       "      <td>3.20</td>\n",
       "      <td>3.60</td>\n",
       "      <td>Hubo 2  tarjetas amarillas de jugadores visita...</td>\n",
       "      <td>2020-07-20 21:00:00</td>\n",
       "    </tr>\n",
       "    <tr>\n",
       "      <th>590</th>\n",
       "      <td>214862</td>\n",
       "      <td>Sporting Gijon</td>\n",
       "      <td>Huesca</td>\n",
       "      <td>2</td>\n",
       "      <td>2019</td>\n",
       "      <td>2020-07-20 21:00:00</td>\n",
       "      <td>0</td>\n",
       "      <td>1</td>\n",
       "      <td>Gorka Sagues</td>\n",
       "      <td>Estadio Municipal El Molinón</td>\n",
       "      <td>3.30</td>\n",
       "      <td>3.10</td>\n",
       "      <td>2.15</td>\n",
       "      <td>Hubo 2 amarillas para jugadores del equipo loc...</td>\n",
       "      <td>2020-07-20 21:00:00</td>\n",
       "    </tr>\n",
       "    <tr>\n",
       "      <th>591</th>\n",
       "      <td>214856</td>\n",
       "      <td>Deportivo La Coruna</td>\n",
       "      <td>Fuenlabrada</td>\n",
       "      <td>2</td>\n",
       "      <td>2019</td>\n",
       "      <td>2020-08-07 20:00:00</td>\n",
       "      <td>2</td>\n",
       "      <td>1</td>\n",
       "      <td>Isidro Díaz de Mera</td>\n",
       "      <td>Estadio Abanca-Riazor</td>\n",
       "      <td>2.10</td>\n",
       "      <td>3.20</td>\n",
       "      <td>3.60</td>\n",
       "      <td>Hubo 02 amarillas para jugadores del equipo lo...</td>\n",
       "      <td>2020-08-07 20:00:00</td>\n",
       "    </tr>\n",
       "  </tbody>\n",
       "</table>\n",
       "<p>311 rows × 15 columns</p>\n",
       "</div>"
      ],
      "text/plain": [
       "     id_partido         equipo_local equipo_visitante  Division  Temporada  \\\n",
       "281      214210             Valencia            Eibar         1       2019   \n",
       "282      214635          Fuenlabrada       Las Palmas         2       2019   \n",
       "283      214206               Getafe      Real Madrid         1       2019   \n",
       "284      214642             Tenerife         Albacete         2       2019   \n",
       "285      214636                 Lugo          Almeria         2       2019   \n",
       "..          ...                  ...              ...       ...        ...   \n",
       "587      214853             Alcorcon           Girona         2       2019   \n",
       "588      214863             Zaragoza     Ponferradina         2       2019   \n",
       "589      214854              Almeria           Malaga         2       2019   \n",
       "590      214862       Sporting Gijon           Huesca         2       2019   \n",
       "591      214856  Deportivo La Coruna      Fuenlabrada         2       2019   \n",
       "\n",
       "                fecha_dt  goles_local  goles_visitante              arbitro  \\\n",
       "281  2020-01-04 13:00:00            1                0  Alejandro Hernández   \n",
       "282  2020-01-04 13:00:00            0                0       Jorge Figueroa   \n",
       "283  2020-01-04 16:00:00            0                3         José Munuera   \n",
       "284  2020-01-04 18:00:00            4                2          Daniel Ocón   \n",
       "285  2020-01-04 18:00:00            0                4     Aitor Gorostegui   \n",
       "..                   ...          ...              ...                  ...   \n",
       "587  2020-07-20 21:00:00            2                0          Juan Pulido   \n",
       "588  2020-07-20 21:00:00            2                1     Dámaso Arcediano   \n",
       "589  2020-07-20 21:00:00            0                0             Saúl Ais   \n",
       "590  2020-07-20 21:00:00            0                1         Gorka Sagues   \n",
       "591  2020-08-07 20:00:00            2                1  Isidro Díaz de Mera   \n",
       "\n",
       "                                 estadio  odd_1  odd_x  odd_2  \\\n",
       "281                  Estadio de Mestalla   1.61   3.90   5.50   \n",
       "282              Estadio Fernando Torres   2.15   3.20   3.50   \n",
       "283               Coliseum Alfonso Pérez   4.20   3.60   1.85   \n",
       "284    Estadio Heliodoro Rodríguez Lopéz   1.95   3.20   4.20   \n",
       "285                   Estadio Anxo Carro   3.20   3.20   2.30   \n",
       "..                                   ...    ...    ...    ...   \n",
       "587                Estadio Santo Domingo   2.37   2.87   3.40   \n",
       "588               Estadio de la Romareda   2.10   3.30   3.50   \n",
       "589  Estadio de los Juegos Mediterráneos   2.10   3.20   3.60   \n",
       "590         Estadio Municipal El Molinón   3.30   3.10   2.15   \n",
       "591                Estadio Abanca-Riazor   2.10   3.20   3.60   \n",
       "\n",
       "                                      Informe_Tarjetas               FECHA  \n",
       "281  Hubo 01 tajetas rojas al equipo visitante;Hubo... 2020-01-04 13:00:00  \n",
       "282  Hubo 05 tarjetas amarillas para el equipo visi... 2020-01-04 13:00:00  \n",
       "283  Hubo 3 amarillas para jugadores del equipo loc... 2020-01-04 16:00:00  \n",
       "284  Hubo 1 amarillas mostradas al equipo local;Hub... 2020-01-04 18:00:00  \n",
       "285  Hubo 02 amarillas mostradas al equipo local;Hu... 2020-01-04 18:00:00  \n",
       "..                                                 ...                 ...  \n",
       "587  Hubo 0 tajetas rojas al equipo visitante;Hubo ... 2020-07-20 21:00:00  \n",
       "588  Hubo 00  tarjetas amarillas de jugadores visit... 2020-07-20 21:00:00  \n",
       "589  Hubo 2  tarjetas amarillas de jugadores visita... 2020-07-20 21:00:00  \n",
       "590  Hubo 2 amarillas para jugadores del equipo loc... 2020-07-20 21:00:00  \n",
       "591  Hubo 02 amarillas para jugadores del equipo lo... 2020-08-07 20:00:00  \n",
       "\n",
       "[311 rows x 15 columns]"
      ]
     },
     "execution_count": 15,
     "metadata": {},
     "output_type": "execute_result"
    }
   ],
   "source": [
    "# Partidos de liga de la temporada 19-20 que se jugaron en 2020\n",
    "df_liga[df_liga.FECHA > \"2020\"]"
   ]
  },
  {
   "cell_type": "code",
   "execution_count": null,
   "metadata": {},
   "outputs": [
    {
     "data": {
      "text/html": [
       "<div>\n",
       "<style scoped>\n",
       "    .dataframe tbody tr th:only-of-type {\n",
       "        vertical-align: middle;\n",
       "    }\n",
       "\n",
       "    .dataframe tbody tr th {\n",
       "        vertical-align: top;\n",
       "    }\n",
       "\n",
       "    .dataframe thead th {\n",
       "        text-align: right;\n",
       "    }\n",
       "</style>\n",
       "<table border=\"1\" class=\"dataframe\">\n",
       "  <thead>\n",
       "    <tr style=\"text-align: right;\">\n",
       "      <th></th>\n",
       "      <th>id_partido</th>\n",
       "      <th>equipo_local</th>\n",
       "      <th>equipo_visitante</th>\n",
       "      <th>Division</th>\n",
       "      <th>Temporada</th>\n",
       "      <th>fecha_dt</th>\n",
       "      <th>goles_local</th>\n",
       "      <th>goles_visitante</th>\n",
       "      <th>arbitro</th>\n",
       "      <th>estadio</th>\n",
       "      <th>odd_1</th>\n",
       "      <th>odd_x</th>\n",
       "      <th>odd_2</th>\n",
       "      <th>Informe_Tarjetas</th>\n",
       "      <th>FECHA</th>\n",
       "    </tr>\n",
       "  </thead>\n",
       "  <tbody>\n",
       "    <tr>\n",
       "      <th>8</th>\n",
       "      <td>214027</td>\n",
       "      <td>Alaves</td>\n",
       "      <td>Levante</td>\n",
       "      <td>1</td>\n",
       "      <td>2019</td>\n",
       "      <td>2019-08-18 17:00:00</td>\n",
       "      <td>1</td>\n",
       "      <td>0</td>\n",
       "      <td>César Soto</td>\n",
       "      <td>Estadio de Mendizorroza</td>\n",
       "      <td>2.15</td>\n",
       "      <td>3.20</td>\n",
       "      <td>3.60</td>\n",
       "      <td>Hubo 01  tarjetas amarillas de jugadores visit...</td>\n",
       "      <td>2019-08-18 17:00:00</td>\n",
       "    </tr>\n",
       "    <tr>\n",
       "      <th>9</th>\n",
       "      <td>214408</td>\n",
       "      <td>Numancia</td>\n",
       "      <td>Alcorcon</td>\n",
       "      <td>2</td>\n",
       "      <td>2019</td>\n",
       "      <td>2019-08-18 18:00:00</td>\n",
       "      <td>0</td>\n",
       "      <td>1</td>\n",
       "      <td>Alejandro Muñiz</td>\n",
       "      <td>Nuevo Estadio Los Pajaritos</td>\n",
       "      <td>1.95</td>\n",
       "      <td>3.30</td>\n",
       "      <td>4.00</td>\n",
       "      <td>Hubo 0 tajetas rojas al equipo visitante;Hubo ...</td>\n",
       "      <td>2019-08-18 18:00:00</td>\n",
       "    </tr>\n",
       "    <tr>\n",
       "      <th>10</th>\n",
       "      <td>214407</td>\n",
       "      <td>Deportivo La Coruna</td>\n",
       "      <td>Oviedo</td>\n",
       "      <td>2</td>\n",
       "      <td>2019</td>\n",
       "      <td>2019-08-18 18:00:00</td>\n",
       "      <td>3</td>\n",
       "      <td>2</td>\n",
       "      <td>Daniel Ocón</td>\n",
       "      <td>Estadio Abanca-Riazor</td>\n",
       "      <td>1.75</td>\n",
       "      <td>3.30</td>\n",
       "      <td>5.25</td>\n",
       "      <td>Hubo 00 tarjetas rojas sobre el equipo local;H...</td>\n",
       "      <td>2019-08-18 18:00:00</td>\n",
       "    </tr>\n",
       "    <tr>\n",
       "      <th>11</th>\n",
       "      <td>214411</td>\n",
       "      <td>Girona</td>\n",
       "      <td>Sporting Gijon</td>\n",
       "      <td>2</td>\n",
       "      <td>2019</td>\n",
       "      <td>2019-08-18 18:30:00</td>\n",
       "      <td>1</td>\n",
       "      <td>1</td>\n",
       "      <td>Daniel Trujillo</td>\n",
       "      <td>Estadi Municipal de Montilivi</td>\n",
       "      <td>2.20</td>\n",
       "      <td>3.10</td>\n",
       "      <td>3.50</td>\n",
       "      <td>Hubo 1 tarjetas amarillas para el equipo visit...</td>\n",
       "      <td>2019-08-18 18:30:00</td>\n",
       "    </tr>\n",
       "    <tr>\n",
       "      <th>12</th>\n",
       "      <td>214028</td>\n",
       "      <td>Espanyol</td>\n",
       "      <td>Sevilla</td>\n",
       "      <td>1</td>\n",
       "      <td>2019</td>\n",
       "      <td>2019-08-18 19:00:00</td>\n",
       "      <td>0</td>\n",
       "      <td>2</td>\n",
       "      <td>Juan Martínez</td>\n",
       "      <td>RCDE Stadium</td>\n",
       "      <td>3.20</td>\n",
       "      <td>3.30</td>\n",
       "      <td>2.30</td>\n",
       "      <td>Hubo 02  tarjetas amarillas de jugadores visit...</td>\n",
       "      <td>2019-08-18 19:00:00</td>\n",
       "    </tr>\n",
       "    <tr>\n",
       "      <th>...</th>\n",
       "      <td>...</td>\n",
       "      <td>...</td>\n",
       "      <td>...</td>\n",
       "      <td>...</td>\n",
       "      <td>...</td>\n",
       "      <td>...</td>\n",
       "      <td>...</td>\n",
       "      <td>...</td>\n",
       "      <td>...</td>\n",
       "      <td>...</td>\n",
       "      <td>...</td>\n",
       "      <td>...</td>\n",
       "      <td>...</td>\n",
       "      <td>...</td>\n",
       "      <td>...</td>\n",
       "    </tr>\n",
       "    <tr>\n",
       "      <th>582</th>\n",
       "      <td>214396</td>\n",
       "      <td>Leganes</td>\n",
       "      <td>Real Madrid</td>\n",
       "      <td>1</td>\n",
       "      <td>2019</td>\n",
       "      <td>2020-07-19 21:00:00</td>\n",
       "      <td>2</td>\n",
       "      <td>2</td>\n",
       "      <td>Guillermo Cuadra Fernandez, Spain</td>\n",
       "      <td>Estadio Municipal de Butarque</td>\n",
       "      <td>2.62</td>\n",
       "      <td>3.80</td>\n",
       "      <td>2.35</td>\n",
       "      <td>Hubo 0 rojas a jugadores visitantes;Hubo 00 ta...</td>\n",
       "      <td>2020-07-19 21:00:00</td>\n",
       "    </tr>\n",
       "    <tr>\n",
       "      <th>583</th>\n",
       "      <td>214398</td>\n",
       "      <td>Osasuna</td>\n",
       "      <td>Mallorca</td>\n",
       "      <td>1</td>\n",
       "      <td>2019</td>\n",
       "      <td>2020-07-19 21:00:00</td>\n",
       "      <td>2</td>\n",
       "      <td>2</td>\n",
       "      <td>Antonio Mateu, Spain</td>\n",
       "      <td>Estadio El Sadar</td>\n",
       "      <td>1.75</td>\n",
       "      <td>3.75</td>\n",
       "      <td>4.20</td>\n",
       "      <td>Hubo 2 amarillas para jugadores del equipo loc...</td>\n",
       "      <td>2020-07-19 21:00:00</td>\n",
       "    </tr>\n",
       "    <tr>\n",
       "      <th>584</th>\n",
       "      <td>214395</td>\n",
       "      <td>Granada CF</td>\n",
       "      <td>Athletic Club</td>\n",
       "      <td>1</td>\n",
       "      <td>2019</td>\n",
       "      <td>2020-07-19 21:00:00</td>\n",
       "      <td>4</td>\n",
       "      <td>0</td>\n",
       "      <td>Carlos Del Cerro Grande, Spain</td>\n",
       "      <td>Estadio Nuevo Los Cármenes</td>\n",
       "      <td>2.00</td>\n",
       "      <td>3.50</td>\n",
       "      <td>3.40</td>\n",
       "      <td>Hubo 00 tajetas rojas al equipo visitante;Hubo...</td>\n",
       "      <td>2020-07-19 21:00:00</td>\n",
       "    </tr>\n",
       "    <tr>\n",
       "      <th>585</th>\n",
       "      <td>214399</td>\n",
       "      <td>Sevilla</td>\n",
       "      <td>Valencia</td>\n",
       "      <td>1</td>\n",
       "      <td>2019</td>\n",
       "      <td>2020-07-19 21:00:00</td>\n",
       "      <td>1</td>\n",
       "      <td>0</td>\n",
       "      <td>Jose Luis Gonzalez Gonzalez, Spain</td>\n",
       "      <td>Estadio Ramón Sánchez Pizjuán</td>\n",
       "      <td>1.90</td>\n",
       "      <td>3.40</td>\n",
       "      <td>4.00</td>\n",
       "      <td>Hubo 0 tajetas rojas al equipo visitante;Hubo ...</td>\n",
       "      <td>2020-07-19 21:00:00</td>\n",
       "    </tr>\n",
       "    <tr>\n",
       "      <th>586</th>\n",
       "      <td>214394</td>\n",
       "      <td>Espanyol</td>\n",
       "      <td>Celta Vigo</td>\n",
       "      <td>1</td>\n",
       "      <td>2019</td>\n",
       "      <td>2020-07-19 21:00:00</td>\n",
       "      <td>0</td>\n",
       "      <td>0</td>\n",
       "      <td>Adrian Cordero Vega, Spain</td>\n",
       "      <td>RCDE Stadium</td>\n",
       "      <td>5.00</td>\n",
       "      <td>3.80</td>\n",
       "      <td>1.66</td>\n",
       "      <td>Hubo 0 tarjetas rojas sobre el equipo local;Hu...</td>\n",
       "      <td>2020-07-19 21:00:00</td>\n",
       "    </tr>\n",
       "  </tbody>\n",
       "</table>\n",
       "<p>268 rows × 15 columns</p>\n",
       "</div>"
      ],
      "text/plain": [
       "     id_partido         equipo_local equipo_visitante  Division  Temporada  \\\n",
       "8        214027               Alaves          Levante         1       2019   \n",
       "9        214408             Numancia         Alcorcon         2       2019   \n",
       "10       214407  Deportivo La Coruna           Oviedo         2       2019   \n",
       "11       214411               Girona   Sporting Gijon         2       2019   \n",
       "12       214028             Espanyol          Sevilla         1       2019   \n",
       "..          ...                  ...              ...       ...        ...   \n",
       "582      214396              Leganes      Real Madrid         1       2019   \n",
       "583      214398              Osasuna         Mallorca         1       2019   \n",
       "584      214395           Granada CF    Athletic Club         1       2019   \n",
       "585      214399              Sevilla         Valencia         1       2019   \n",
       "586      214394             Espanyol       Celta Vigo         1       2019   \n",
       "\n",
       "                fecha_dt  goles_local  goles_visitante  \\\n",
       "8    2019-08-18 17:00:00            1                0   \n",
       "9    2019-08-18 18:00:00            0                1   \n",
       "10   2019-08-18 18:00:00            3                2   \n",
       "11   2019-08-18 18:30:00            1                1   \n",
       "12   2019-08-18 19:00:00            0                2   \n",
       "..                   ...          ...              ...   \n",
       "582  2020-07-19 21:00:00            2                2   \n",
       "583  2020-07-19 21:00:00            2                2   \n",
       "584  2020-07-19 21:00:00            4                0   \n",
       "585  2020-07-19 21:00:00            1                0   \n",
       "586  2020-07-19 21:00:00            0                0   \n",
       "\n",
       "                                arbitro                        estadio  odd_1  \\\n",
       "8                            César Soto        Estadio de Mendizorroza   2.15   \n",
       "9                       Alejandro Muñiz    Nuevo Estadio Los Pajaritos   1.95   \n",
       "10                          Daniel Ocón          Estadio Abanca-Riazor   1.75   \n",
       "11                      Daniel Trujillo  Estadi Municipal de Montilivi   2.20   \n",
       "12                        Juan Martínez                   RCDE Stadium   3.20   \n",
       "..                                  ...                            ...    ...   \n",
       "582   Guillermo Cuadra Fernandez, Spain  Estadio Municipal de Butarque   2.62   \n",
       "583                Antonio Mateu, Spain               Estadio El Sadar   1.75   \n",
       "584      Carlos Del Cerro Grande, Spain     Estadio Nuevo Los Cármenes   2.00   \n",
       "585  Jose Luis Gonzalez Gonzalez, Spain  Estadio Ramón Sánchez Pizjuán   1.90   \n",
       "586          Adrian Cordero Vega, Spain                   RCDE Stadium   5.00   \n",
       "\n",
       "     odd_x  odd_2                                   Informe_Tarjetas  \\\n",
       "8     3.20   3.60  Hubo 01  tarjetas amarillas de jugadores visit...   \n",
       "9     3.30   4.00  Hubo 0 tajetas rojas al equipo visitante;Hubo ...   \n",
       "10    3.30   5.25  Hubo 00 tarjetas rojas sobre el equipo local;H...   \n",
       "11    3.10   3.50  Hubo 1 tarjetas amarillas para el equipo visit...   \n",
       "12    3.30   2.30  Hubo 02  tarjetas amarillas de jugadores visit...   \n",
       "..     ...    ...                                                ...   \n",
       "582   3.80   2.35  Hubo 0 rojas a jugadores visitantes;Hubo 00 ta...   \n",
       "583   3.75   4.20  Hubo 2 amarillas para jugadores del equipo loc...   \n",
       "584   3.50   3.40  Hubo 00 tajetas rojas al equipo visitante;Hubo...   \n",
       "585   3.40   4.00  Hubo 0 tajetas rojas al equipo visitante;Hubo ...   \n",
       "586   3.80   1.66  Hubo 0 tarjetas rojas sobre el equipo local;Hu...   \n",
       "\n",
       "                  FECHA  \n",
       "8   2019-08-18 17:00:00  \n",
       "9   2019-08-18 18:00:00  \n",
       "10  2019-08-18 18:00:00  \n",
       "11  2019-08-18 18:30:00  \n",
       "12  2019-08-18 19:00:00  \n",
       "..                  ...  \n",
       "582 2020-07-19 21:00:00  \n",
       "583 2020-07-19 21:00:00  \n",
       "584 2020-07-19 21:00:00  \n",
       "585 2020-07-19 21:00:00  \n",
       "586 2020-07-19 21:00:00  \n",
       "\n",
       "[268 rows x 15 columns]"
      ]
     },
     "execution_count": 16,
     "metadata": {},
     "output_type": "execute_result"
    }
   ],
   "source": [
    "# Partidos de la liga de la temporada que se jugaron en Domingo (Lunes -> 0, Domingo -> 6):\n",
    "df_liga[df_liga.FECHA.dt.day_of_week == 6]"
   ]
  },
  {
   "cell_type": "code",
   "execution_count": null,
   "metadata": {},
   "outputs": [
    {
     "data": {
      "text/html": [
       "<div>\n",
       "<style scoped>\n",
       "    .dataframe tbody tr th:only-of-type {\n",
       "        vertical-align: middle;\n",
       "    }\n",
       "\n",
       "    .dataframe tbody tr th {\n",
       "        vertical-align: top;\n",
       "    }\n",
       "\n",
       "    .dataframe thead th {\n",
       "        text-align: right;\n",
       "    }\n",
       "</style>\n",
       "<table border=\"1\" class=\"dataframe\">\n",
       "  <thead>\n",
       "    <tr style=\"text-align: right;\">\n",
       "      <th></th>\n",
       "      <th>id_partido</th>\n",
       "      <th>equipo_local</th>\n",
       "      <th>equipo_visitante</th>\n",
       "      <th>Division</th>\n",
       "      <th>Temporada</th>\n",
       "      <th>fecha_dt</th>\n",
       "      <th>goles_local</th>\n",
       "      <th>goles_visitante</th>\n",
       "      <th>arbitro</th>\n",
       "      <th>estadio</th>\n",
       "      <th>odd_1</th>\n",
       "      <th>odd_x</th>\n",
       "      <th>odd_2</th>\n",
       "      <th>Informe_Tarjetas</th>\n",
       "      <th>FECHA</th>\n",
       "    </tr>\n",
       "  </thead>\n",
       "  <tbody>\n",
       "    <tr>\n",
       "      <th>227</th>\n",
       "      <td>214170</td>\n",
       "      <td>Sevilla</td>\n",
       "      <td>Leganes</td>\n",
       "      <td>1</td>\n",
       "      <td>2019</td>\n",
       "      <td>2019-12-01 12:00:00</td>\n",
       "      <td>1</td>\n",
       "      <td>0</td>\n",
       "      <td>Ricardo De Burgos</td>\n",
       "      <td>Estadio Ramón Sánchez Pizjuán</td>\n",
       "      <td>1.57</td>\n",
       "      <td>4.00</td>\n",
       "      <td>6.00</td>\n",
       "      <td>Hubo 00 rojas a jugadores del equipo local;Hub...</td>\n",
       "      <td>2019-12-01 12:00:00</td>\n",
       "    </tr>\n",
       "    <tr>\n",
       "      <th>228</th>\n",
       "      <td>214592</td>\n",
       "      <td>Fuenlabrada</td>\n",
       "      <td>Cadiz</td>\n",
       "      <td>2</td>\n",
       "      <td>2019</td>\n",
       "      <td>2019-12-01 12:00:00</td>\n",
       "      <td>1</td>\n",
       "      <td>0</td>\n",
       "      <td>Saúl Ais</td>\n",
       "      <td>Estadio Fernando Torres</td>\n",
       "      <td>2.50</td>\n",
       "      <td>3.00</td>\n",
       "      <td>3.00</td>\n",
       "      <td>Hubo 5 amarillas para jugadores del equipo loc...</td>\n",
       "      <td>2019-12-01 12:00:00</td>\n",
       "    </tr>\n",
       "    <tr>\n",
       "      <th>229</th>\n",
       "      <td>214163</td>\n",
       "      <td>Athletic Club</td>\n",
       "      <td>Granada CF</td>\n",
       "      <td>1</td>\n",
       "      <td>2019</td>\n",
       "      <td>2019-12-01 14:00:00</td>\n",
       "      <td>2</td>\n",
       "      <td>0</td>\n",
       "      <td>Adrián Cordero</td>\n",
       "      <td>San Mamés Barria</td>\n",
       "      <td>1.70</td>\n",
       "      <td>3.40</td>\n",
       "      <td>6.00</td>\n",
       "      <td>Hubo 00 tarjetas rojas sobre el equipo local;H...</td>\n",
       "      <td>2019-12-01 14:00:00</td>\n",
       "    </tr>\n",
       "    <tr>\n",
       "      <th>230</th>\n",
       "      <td>214166</td>\n",
       "      <td>Espanyol</td>\n",
       "      <td>Osasuna</td>\n",
       "      <td>1</td>\n",
       "      <td>2019</td>\n",
       "      <td>2019-12-01 16:00:00</td>\n",
       "      <td>2</td>\n",
       "      <td>4</td>\n",
       "      <td>Mario Melero</td>\n",
       "      <td>RCDE Stadium</td>\n",
       "      <td>2.15</td>\n",
       "      <td>3.10</td>\n",
       "      <td>3.60</td>\n",
       "      <td>Hubo 0 tarjetas rojas sobre el equipo local;Hu...</td>\n",
       "      <td>2019-12-01 16:00:00</td>\n",
       "    </tr>\n",
       "    <tr>\n",
       "      <th>231</th>\n",
       "      <td>214597</td>\n",
       "      <td>Oviedo</td>\n",
       "      <td>Rayo Vallecano</td>\n",
       "      <td>2</td>\n",
       "      <td>2019</td>\n",
       "      <td>2019-12-01 16:00:00</td>\n",
       "      <td>2</td>\n",
       "      <td>1</td>\n",
       "      <td>Juan Pulido</td>\n",
       "      <td>Estadio Nuevo Carlos Tartiere</td>\n",
       "      <td>2.70</td>\n",
       "      <td>3.10</td>\n",
       "      <td>2.70</td>\n",
       "      <td>Hubo 0 tarjetas rojas sobre el equipo local;Hu...</td>\n",
       "      <td>2019-12-01 16:00:00</td>\n",
       "    </tr>\n",
       "    <tr>\n",
       "      <th>232</th>\n",
       "      <td>214593</td>\n",
       "      <td>Lugo</td>\n",
       "      <td>Deportivo La Coruna</td>\n",
       "      <td>2</td>\n",
       "      <td>2019</td>\n",
       "      <td>2019-12-01 18:00:00</td>\n",
       "      <td>0</td>\n",
       "      <td>0</td>\n",
       "      <td>José López</td>\n",
       "      <td>Estadio Anxo Carro</td>\n",
       "      <td>3.10</td>\n",
       "      <td>3.10</td>\n",
       "      <td>2.40</td>\n",
       "      <td>Hubo 02 amarillas mostradas al equipo local;Hu...</td>\n",
       "      <td>2019-12-01 18:00:00</td>\n",
       "    </tr>\n",
       "    <tr>\n",
       "      <th>233</th>\n",
       "      <td>214590</td>\n",
       "      <td>Elche</td>\n",
       "      <td>Racing Santander</td>\n",
       "      <td>2</td>\n",
       "      <td>2019</td>\n",
       "      <td>2019-12-01 18:00:00</td>\n",
       "      <td>2</td>\n",
       "      <td>0</td>\n",
       "      <td>Jorge Figueroa</td>\n",
       "      <td>Estadio Manuel Martínez Valero</td>\n",
       "      <td>2.05</td>\n",
       "      <td>3.10</td>\n",
       "      <td>4.00</td>\n",
       "      <td>Hubo 0 rojas a jugadores visitantes;Hubo 00 ro...</td>\n",
       "      <td>2019-12-01 18:00:00</td>\n",
       "    </tr>\n",
       "    <tr>\n",
       "      <th>234</th>\n",
       "      <td>214167</td>\n",
       "      <td>Getafe</td>\n",
       "      <td>Levante</td>\n",
       "      <td>1</td>\n",
       "      <td>2019</td>\n",
       "      <td>2019-12-01 18:30:00</td>\n",
       "      <td>4</td>\n",
       "      <td>0</td>\n",
       "      <td>Javier Estrada</td>\n",
       "      <td>Coliseum Alfonso Pérez</td>\n",
       "      <td>1.66</td>\n",
       "      <td>3.80</td>\n",
       "      <td>5.50</td>\n",
       "      <td>Hubo 00 rojas a jugadores del equipo local;Hub...</td>\n",
       "      <td>2019-12-01 18:30:00</td>\n",
       "    </tr>\n",
       "    <tr>\n",
       "      <th>235</th>\n",
       "      <td>214591</td>\n",
       "      <td>Extremadura</td>\n",
       "      <td>Las Palmas</td>\n",
       "      <td>2</td>\n",
       "      <td>2019</td>\n",
       "      <td>2019-12-01 20:00:00</td>\n",
       "      <td>0</td>\n",
       "      <td>1</td>\n",
       "      <td>Gorka Sagues</td>\n",
       "      <td>Estadio Francisco de la Hera</td>\n",
       "      <td>2.45</td>\n",
       "      <td>3.00</td>\n",
       "      <td>3.10</td>\n",
       "      <td>Hubo 01 rojas a jugadores visitantes;Hubo 07 t...</td>\n",
       "      <td>2019-12-01 20:00:00</td>\n",
       "    </tr>\n",
       "    <tr>\n",
       "      <th>236</th>\n",
       "      <td>214164</td>\n",
       "      <td>Atletico Madrid</td>\n",
       "      <td>Barcelona</td>\n",
       "      <td>1</td>\n",
       "      <td>2019</td>\n",
       "      <td>2019-12-01 21:00:00</td>\n",
       "      <td>0</td>\n",
       "      <td>1</td>\n",
       "      <td>Antonio Mateu</td>\n",
       "      <td>Estadio Wanda Metropolitano</td>\n",
       "      <td>2.75</td>\n",
       "      <td>3.30</td>\n",
       "      <td>2.60</td>\n",
       "      <td>Hubo 4  tarjetas amarillas de jugadores visita...</td>\n",
       "      <td>2019-12-01 21:00:00</td>\n",
       "    </tr>\n",
       "    <tr>\n",
       "      <th>237</th>\n",
       "      <td>214179</td>\n",
       "      <td>Real Madrid</td>\n",
       "      <td>Espanyol</td>\n",
       "      <td>1</td>\n",
       "      <td>2019</td>\n",
       "      <td>2019-12-07 13:00:00</td>\n",
       "      <td>2</td>\n",
       "      <td>0</td>\n",
       "      <td>Santiago Jaime</td>\n",
       "      <td>Estadio Santiago Bernabéu</td>\n",
       "      <td>1.20</td>\n",
       "      <td>7.00</td>\n",
       "      <td>13.00</td>\n",
       "      <td>Hubo 03 tarjetas amarillas para el equipo visi...</td>\n",
       "      <td>2019-12-07 13:00:00</td>\n",
       "    </tr>\n",
       "    <tr>\n",
       "      <th>238</th>\n",
       "      <td>214606</td>\n",
       "      <td>Huesca</td>\n",
       "      <td>Rayo Vallecano</td>\n",
       "      <td>2</td>\n",
       "      <td>2019</td>\n",
       "      <td>2019-12-07 16:00:00</td>\n",
       "      <td>0</td>\n",
       "      <td>2</td>\n",
       "      <td>Daniel Ocón</td>\n",
       "      <td>Estadio El Alcoraz</td>\n",
       "      <td>1.85</td>\n",
       "      <td>3.40</td>\n",
       "      <td>4.50</td>\n",
       "      <td>Hubo 00 tarjetas rojas sobre el equipo local;H...</td>\n",
       "      <td>2019-12-07 16:00:00</td>\n",
       "    </tr>\n",
       "    <tr>\n",
       "      <th>239</th>\n",
       "      <td>214175</td>\n",
       "      <td>Granada CF</td>\n",
       "      <td>Alaves</td>\n",
       "      <td>1</td>\n",
       "      <td>2019</td>\n",
       "      <td>2019-12-07 16:00:00</td>\n",
       "      <td>3</td>\n",
       "      <td>0</td>\n",
       "      <td>Jesús Gil</td>\n",
       "      <td>Estadio Nuevo Los Cármenes</td>\n",
       "      <td>2.20</td>\n",
       "      <td>3.10</td>\n",
       "      <td>3.50</td>\n",
       "      <td>Hubo 0 tarjetas rojas sobre el equipo local;Hu...</td>\n",
       "      <td>2019-12-07 16:00:00</td>\n",
       "    </tr>\n",
       "    <tr>\n",
       "      <th>240</th>\n",
       "      <td>214610</td>\n",
       "      <td>Sporting Gijon</td>\n",
       "      <td>Ponferradina</td>\n",
       "      <td>2</td>\n",
       "      <td>2019</td>\n",
       "      <td>2019-12-07 18:00:00</td>\n",
       "      <td>1</td>\n",
       "      <td>0</td>\n",
       "      <td>Isidro Díaz de Mera</td>\n",
       "      <td>Estadio Municipal El Molinón</td>\n",
       "      <td>1.83</td>\n",
       "      <td>3.25</td>\n",
       "      <td>4.75</td>\n",
       "      <td>Hubo 1 rojas a jugadores visitantes;Hubo 04 ta...</td>\n",
       "      <td>2019-12-07 18:00:00</td>\n",
       "    </tr>\n",
       "    <tr>\n",
       "      <th>241</th>\n",
       "      <td>214177</td>\n",
       "      <td>Levante</td>\n",
       "      <td>Valencia</td>\n",
       "      <td>1</td>\n",
       "      <td>2019</td>\n",
       "      <td>2019-12-07 18:30:00</td>\n",
       "      <td>2</td>\n",
       "      <td>4</td>\n",
       "      <td>David Medié</td>\n",
       "      <td>Estadio Ciudad de Valencia</td>\n",
       "      <td>3.20</td>\n",
       "      <td>3.75</td>\n",
       "      <td>2.15</td>\n",
       "      <td>Hubo 0 rojas a jugadores visitantes;Hubo 1 roj...</td>\n",
       "      <td>2019-12-07 18:30:00</td>\n",
       "    </tr>\n",
       "    <tr>\n",
       "      <th>242</th>\n",
       "      <td>214172</td>\n",
       "      <td>Barcelona</td>\n",
       "      <td>Mallorca</td>\n",
       "      <td>1</td>\n",
       "      <td>2019</td>\n",
       "      <td>2019-12-07 21:00:00</td>\n",
       "      <td>5</td>\n",
       "      <td>2</td>\n",
       "      <td>José Munuera</td>\n",
       "      <td>Camp Nou</td>\n",
       "      <td>1.14</td>\n",
       "      <td>8.50</td>\n",
       "      <td>17.00</td>\n",
       "      <td>Hubo 03 amarillas para jugadores del equipo lo...</td>\n",
       "      <td>2019-12-07 21:00:00</td>\n",
       "    </tr>\n",
       "    <tr>\n",
       "      <th>243</th>\n",
       "      <td>214605</td>\n",
       "      <td>Girona</td>\n",
       "      <td>Lugo</td>\n",
       "      <td>2</td>\n",
       "      <td>2019</td>\n",
       "      <td>2019-12-08 12:00:00</td>\n",
       "      <td>3</td>\n",
       "      <td>1</td>\n",
       "      <td>Santiago Varón</td>\n",
       "      <td>Estadi Municipal de Montilivi</td>\n",
       "      <td>1.45</td>\n",
       "      <td>4.00</td>\n",
       "      <td>7.50</td>\n",
       "      <td>Hubo 1 rojas a jugadores visitantes;Hubo 0 tar...</td>\n",
       "      <td>2019-12-08 12:00:00</td>\n",
       "    </tr>\n",
       "    <tr>\n",
       "      <th>244</th>\n",
       "      <td>214174</td>\n",
       "      <td>Eibar</td>\n",
       "      <td>Getafe</td>\n",
       "      <td>1</td>\n",
       "      <td>2019</td>\n",
       "      <td>2019-12-08 12:00:00</td>\n",
       "      <td>0</td>\n",
       "      <td>1</td>\n",
       "      <td>Eduardo Prieto</td>\n",
       "      <td>Estadio Municipal de Ipurúa</td>\n",
       "      <td>2.80</td>\n",
       "      <td>2.90</td>\n",
       "      <td>2.87</td>\n",
       "      <td>Hubo 00 rojas a jugadores visitantes;Hubo 01 r...</td>\n",
       "      <td>2019-12-08 12:00:00</td>\n",
       "    </tr>\n",
       "    <tr>\n",
       "      <th>245</th>\n",
       "      <td>214173</td>\n",
       "      <td>Real Betis</td>\n",
       "      <td>Athletic Club</td>\n",
       "      <td>1</td>\n",
       "      <td>2019</td>\n",
       "      <td>2019-12-08 14:00:00</td>\n",
       "      <td>3</td>\n",
       "      <td>2</td>\n",
       "      <td>Valentín Pizarro</td>\n",
       "      <td>Estadio Benito Villamarín</td>\n",
       "      <td>2.30</td>\n",
       "      <td>3.20</td>\n",
       "      <td>3.30</td>\n",
       "      <td>Hubo 0 tajetas rojas al equipo visitante;Hubo ...</td>\n",
       "      <td>2019-12-08 14:00:00</td>\n",
       "    </tr>\n",
       "    <tr>\n",
       "      <th>246</th>\n",
       "      <td>214181</td>\n",
       "      <td>Valladolid</td>\n",
       "      <td>Real Sociedad</td>\n",
       "      <td>1</td>\n",
       "      <td>2019</td>\n",
       "      <td>2019-12-08 16:00:00</td>\n",
       "      <td>0</td>\n",
       "      <td>0</td>\n",
       "      <td>Pablo González</td>\n",
       "      <td>Estadio Municipal José Zorrilla</td>\n",
       "      <td>3.20</td>\n",
       "      <td>3.20</td>\n",
       "      <td>2.37</td>\n",
       "      <td>Hubo 0 amarillas mostradas al equipo local;Hub...</td>\n",
       "      <td>2019-12-08 16:00:00</td>\n",
       "    </tr>\n",
       "    <tr>\n",
       "      <th>247</th>\n",
       "      <td>214604</td>\n",
       "      <td>Deportivo La Coruna</td>\n",
       "      <td>Zaragoza</td>\n",
       "      <td>2</td>\n",
       "      <td>2019</td>\n",
       "      <td>2019-12-08 16:00:00</td>\n",
       "      <td>1</td>\n",
       "      <td>3</td>\n",
       "      <td>Iosu Galech</td>\n",
       "      <td>Estadio Abanca-Riazor</td>\n",
       "      <td>2.37</td>\n",
       "      <td>3.25</td>\n",
       "      <td>3.00</td>\n",
       "      <td>Hubo 1 amarillas mostradas al equipo local;Hub...</td>\n",
       "      <td>2019-12-08 16:00:00</td>\n",
       "    </tr>\n",
       "    <tr>\n",
       "      <th>248</th>\n",
       "      <td>214607</td>\n",
       "      <td>Las Palmas</td>\n",
       "      <td>Numancia</td>\n",
       "      <td>2</td>\n",
       "      <td>2019</td>\n",
       "      <td>2019-12-08 18:00:00</td>\n",
       "      <td>3</td>\n",
       "      <td>1</td>\n",
       "      <td>Álvaro Moreno</td>\n",
       "      <td>Estadio de Gran Canaria</td>\n",
       "      <td>2.10</td>\n",
       "      <td>3.20</td>\n",
       "      <td>3.60</td>\n",
       "      <td>Hubo 0 rojas a jugadores visitantes;Hubo 04 ta...</td>\n",
       "      <td>2019-12-08 18:00:00</td>\n",
       "    </tr>\n",
       "    <tr>\n",
       "      <th>249</th>\n",
       "      <td>214176</td>\n",
       "      <td>Leganes</td>\n",
       "      <td>Celta Vigo</td>\n",
       "      <td>1</td>\n",
       "      <td>2019</td>\n",
       "      <td>2019-12-08 18:30:00</td>\n",
       "      <td>3</td>\n",
       "      <td>2</td>\n",
       "      <td>José Sánchez</td>\n",
       "      <td>Estadio Municipal de Butarque</td>\n",
       "      <td>2.37</td>\n",
       "      <td>3.10</td>\n",
       "      <td>3.30</td>\n",
       "      <td>Hubo 00 tarjetas rojas sobre el equipo local;H...</td>\n",
       "      <td>2019-12-08 18:30:00</td>\n",
       "    </tr>\n",
       "    <tr>\n",
       "      <th>250</th>\n",
       "      <td>214603</td>\n",
       "      <td>Cadiz</td>\n",
       "      <td>Elche</td>\n",
       "      <td>2</td>\n",
       "      <td>2019</td>\n",
       "      <td>2019-12-08 21:00:00</td>\n",
       "      <td>0</td>\n",
       "      <td>0</td>\n",
       "      <td>Daniel Trujillo</td>\n",
       "      <td>Estadio Ramón de Carranza</td>\n",
       "      <td>1.65</td>\n",
       "      <td>3.40</td>\n",
       "      <td>6.00</td>\n",
       "      <td>Hubo 00 tarjetas rojas sobre el equipo local;H...</td>\n",
       "      <td>2019-12-08 21:00:00</td>\n",
       "    </tr>\n",
       "    <tr>\n",
       "      <th>251</th>\n",
       "      <td>214178</td>\n",
       "      <td>Osasuna</td>\n",
       "      <td>Sevilla</td>\n",
       "      <td>1</td>\n",
       "      <td>2019</td>\n",
       "      <td>2019-12-08 21:00:00</td>\n",
       "      <td>1</td>\n",
       "      <td>1</td>\n",
       "      <td>Javier Estrada</td>\n",
       "      <td>Estadio El Sadar</td>\n",
       "      <td>3.40</td>\n",
       "      <td>3.30</td>\n",
       "      <td>2.20</td>\n",
       "      <td>Hubo 01 rojas a jugadores del equipo local;Hub...</td>\n",
       "      <td>2019-12-08 21:00:00</td>\n",
       "    </tr>\n",
       "    <tr>\n",
       "      <th>252</th>\n",
       "      <td>214188</td>\n",
       "      <td>Granada CF</td>\n",
       "      <td>Levante</td>\n",
       "      <td>1</td>\n",
       "      <td>2019</td>\n",
       "      <td>2019-12-14 13:00:00</td>\n",
       "      <td>1</td>\n",
       "      <td>2</td>\n",
       "      <td>Carlos Del Cerro</td>\n",
       "      <td>Estadio Nuevo Los Cármenes</td>\n",
       "      <td>2.00</td>\n",
       "      <td>3.60</td>\n",
       "      <td>3.80</td>\n",
       "      <td>Hubo 4 amarillas para jugadores del equipo loc...</td>\n",
       "      <td>2019-12-14 13:00:00</td>\n",
       "    </tr>\n",
       "    <tr>\n",
       "      <th>253</th>\n",
       "      <td>214615</td>\n",
       "      <td>Mirandes</td>\n",
       "      <td>Huesca</td>\n",
       "      <td>2</td>\n",
       "      <td>2019</td>\n",
       "      <td>2019-12-14 16:00:00</td>\n",
       "      <td>2</td>\n",
       "      <td>0</td>\n",
       "      <td>Gorka Sagues</td>\n",
       "      <td>Estadio Municipal de Anduva</td>\n",
       "      <td>2.75</td>\n",
       "      <td>2.80</td>\n",
       "      <td>2.62</td>\n",
       "      <td>Hubo 0 rojas a jugadores visitantes;Hubo 3 ama...</td>\n",
       "      <td>2019-12-14 16:00:00</td>\n",
       "    </tr>\n",
       "    <tr>\n",
       "      <th>254</th>\n",
       "      <td>214189</td>\n",
       "      <td>Real Sociedad</td>\n",
       "      <td>Barcelona</td>\n",
       "      <td>1</td>\n",
       "      <td>2019</td>\n",
       "      <td>2019-12-14 16:00:00</td>\n",
       "      <td>2</td>\n",
       "      <td>2</td>\n",
       "      <td>Javier Alberola</td>\n",
       "      <td>Reale Arena</td>\n",
       "      <td>5.25</td>\n",
       "      <td>4.20</td>\n",
       "      <td>1.61</td>\n",
       "      <td>Hubo 0 rojas a jugadores del equipo local;Hubo...</td>\n",
       "      <td>2019-12-14 16:00:00</td>\n",
       "    </tr>\n",
       "    <tr>\n",
       "      <th>255</th>\n",
       "      <td>214617</td>\n",
       "      <td>Ponferradina</td>\n",
       "      <td>Deportivo La Coruna</td>\n",
       "      <td>2</td>\n",
       "      <td>2019</td>\n",
       "      <td>2019-12-14 18:00:00</td>\n",
       "      <td>2</td>\n",
       "      <td>0</td>\n",
       "      <td>Miguel Ortiz</td>\n",
       "      <td>Estadio El Toralín</td>\n",
       "      <td>2.10</td>\n",
       "      <td>2.80</td>\n",
       "      <td>3.80</td>\n",
       "      <td>Hubo 00 tarjetas rojas sobre el equipo local;H...</td>\n",
       "      <td>2019-12-14 18:00:00</td>\n",
       "    </tr>\n",
       "    <tr>\n",
       "      <th>256</th>\n",
       "      <td>214183</td>\n",
       "      <td>Athletic Club</td>\n",
       "      <td>Eibar</td>\n",
       "      <td>1</td>\n",
       "      <td>2019</td>\n",
       "      <td>2019-12-14 18:30:00</td>\n",
       "      <td>0</td>\n",
       "      <td>0</td>\n",
       "      <td>Mario Melero</td>\n",
       "      <td>San Mamés Barria</td>\n",
       "      <td>1.66</td>\n",
       "      <td>3.75</td>\n",
       "      <td>5.50</td>\n",
       "      <td>Hubo 00 tajetas rojas al equipo visitante;Hubo...</td>\n",
       "      <td>2019-12-14 18:30:00</td>\n",
       "    </tr>\n",
       "    <tr>\n",
       "      <th>257</th>\n",
       "      <td>214621</td>\n",
       "      <td>Zaragoza</td>\n",
       "      <td>Racing Santander</td>\n",
       "      <td>2</td>\n",
       "      <td>2019</td>\n",
       "      <td>2019-12-14 21:00:00</td>\n",
       "      <td>2</td>\n",
       "      <td>0</td>\n",
       "      <td>Juan Pulido</td>\n",
       "      <td>Estadio de la Romareda</td>\n",
       "      <td>1.60</td>\n",
       "      <td>3.50</td>\n",
       "      <td>5.50</td>\n",
       "      <td>Hubo 0 tarjetas rojas sobre el equipo local;Hu...</td>\n",
       "      <td>2019-12-14 21:00:00</td>\n",
       "    </tr>\n",
       "    <tr>\n",
       "      <th>258</th>\n",
       "      <td>214184</td>\n",
       "      <td>Atletico Madrid</td>\n",
       "      <td>Osasuna</td>\n",
       "      <td>1</td>\n",
       "      <td>2019</td>\n",
       "      <td>2019-12-14 21:00:00</td>\n",
       "      <td>2</td>\n",
       "      <td>0</td>\n",
       "      <td>José Munuera</td>\n",
       "      <td>Estadio Wanda Metropolitano</td>\n",
       "      <td>1.40</td>\n",
       "      <td>4.33</td>\n",
       "      <td>10.00</td>\n",
       "      <td>Hubo 01 amarillas mostradas al equipo local;Hu...</td>\n",
       "      <td>2019-12-14 21:00:00</td>\n",
       "    </tr>\n",
       "    <tr>\n",
       "      <th>259</th>\n",
       "      <td>214612</td>\n",
       "      <td>Extremadura</td>\n",
       "      <td>Malaga</td>\n",
       "      <td>2</td>\n",
       "      <td>2019</td>\n",
       "      <td>2019-12-15 12:00:00</td>\n",
       "      <td>0</td>\n",
       "      <td>0</td>\n",
       "      <td>Santiago Varón</td>\n",
       "      <td>Estadio Francisco de la Hera</td>\n",
       "      <td>2.70</td>\n",
       "      <td>2.70</td>\n",
       "      <td>2.87</td>\n",
       "      <td>Hubo 0 rojas a jugadores del equipo local;Hubo...</td>\n",
       "      <td>2019-12-15 12:00:00</td>\n",
       "    </tr>\n",
       "    <tr>\n",
       "      <th>260</th>\n",
       "      <td>214187</td>\n",
       "      <td>Getafe</td>\n",
       "      <td>Valladolid</td>\n",
       "      <td>1</td>\n",
       "      <td>2019</td>\n",
       "      <td>2019-12-15 12:00:00</td>\n",
       "      <td>2</td>\n",
       "      <td>0</td>\n",
       "      <td>Antonio Mateu</td>\n",
       "      <td>Coliseum Alfonso Pérez</td>\n",
       "      <td>1.66</td>\n",
       "      <td>3.60</td>\n",
       "      <td>6.00</td>\n",
       "      <td>Hubo 03 amarillas para jugadores del equipo lo...</td>\n",
       "      <td>2019-12-15 12:00:00</td>\n",
       "    </tr>\n",
       "    <tr>\n",
       "      <th>261</th>\n",
       "      <td>214185</td>\n",
       "      <td>Celta Vigo</td>\n",
       "      <td>Mallorca</td>\n",
       "      <td>1</td>\n",
       "      <td>2019</td>\n",
       "      <td>2019-12-15 14:00:00</td>\n",
       "      <td>2</td>\n",
       "      <td>2</td>\n",
       "      <td>Ricardo De Burgos</td>\n",
       "      <td>Abanca-Balaídos</td>\n",
       "      <td>1.70</td>\n",
       "      <td>3.80</td>\n",
       "      <td>5.00</td>\n",
       "      <td>Hubo 00 rojas a jugadores del equipo local;Hub...</td>\n",
       "      <td>2019-12-15 14:00:00</td>\n",
       "    </tr>\n",
       "    <tr>\n",
       "      <th>262</th>\n",
       "      <td>214186</td>\n",
       "      <td>Espanyol</td>\n",
       "      <td>Real Betis</td>\n",
       "      <td>1</td>\n",
       "      <td>2019</td>\n",
       "      <td>2019-12-15 16:00:00</td>\n",
       "      <td>2</td>\n",
       "      <td>2</td>\n",
       "      <td>Guillermo Cuadra</td>\n",
       "      <td>RCDE Stadium</td>\n",
       "      <td>2.60</td>\n",
       "      <td>3.25</td>\n",
       "      <td>2.80</td>\n",
       "      <td>Hubo 0 rojas a jugadores visitantes;Hubo 01  t...</td>\n",
       "      <td>2019-12-15 16:00:00</td>\n",
       "    </tr>\n",
       "    <tr>\n",
       "      <th>263</th>\n",
       "      <td>214611</td>\n",
       "      <td>Elche</td>\n",
       "      <td>Las Palmas</td>\n",
       "      <td>2</td>\n",
       "      <td>2019</td>\n",
       "      <td>2019-12-15 18:00:00</td>\n",
       "      <td>2</td>\n",
       "      <td>3</td>\n",
       "      <td>Luis Milla</td>\n",
       "      <td>Estadio Manuel Martínez Valero</td>\n",
       "      <td>2.40</td>\n",
       "      <td>2.80</td>\n",
       "      <td>3.10</td>\n",
       "      <td>Hubo 03 amarillas mostradas al equipo local;Hu...</td>\n",
       "      <td>2019-12-15 18:00:00</td>\n",
       "    </tr>\n",
       "    <tr>\n",
       "      <th>264</th>\n",
       "      <td>214190</td>\n",
       "      <td>Sevilla</td>\n",
       "      <td>Villarreal</td>\n",
       "      <td>1</td>\n",
       "      <td>2019</td>\n",
       "      <td>2019-12-15 18:30:00</td>\n",
       "      <td>1</td>\n",
       "      <td>2</td>\n",
       "      <td>Adrián Cordero</td>\n",
       "      <td>Estadio Ramón Sánchez Pizjuán</td>\n",
       "      <td>1.66</td>\n",
       "      <td>4.00</td>\n",
       "      <td>5.00</td>\n",
       "      <td>Hubo 00 rojas a jugadores visitantes;Hubo 00 t...</td>\n",
       "      <td>2019-12-15 18:30:00</td>\n",
       "    </tr>\n",
       "    <tr>\n",
       "      <th>265</th>\n",
       "      <td>214191</td>\n",
       "      <td>Valencia</td>\n",
       "      <td>Real Madrid</td>\n",
       "      <td>1</td>\n",
       "      <td>2019</td>\n",
       "      <td>2019-12-15 21:00:00</td>\n",
       "      <td>1</td>\n",
       "      <td>1</td>\n",
       "      <td>José Sánchez</td>\n",
       "      <td>Estadio de Mestalla</td>\n",
       "      <td>3.80</td>\n",
       "      <td>3.80</td>\n",
       "      <td>1.90</td>\n",
       "      <td>Hubo 2 tarjetas amarillas para el equipo visit...</td>\n",
       "      <td>2019-12-15 21:00:00</td>\n",
       "    </tr>\n",
       "    <tr>\n",
       "      <th>266</th>\n",
       "      <td>214197</td>\n",
       "      <td>Mallorca</td>\n",
       "      <td>Sevilla</td>\n",
       "      <td>1</td>\n",
       "      <td>2019</td>\n",
       "      <td>2019-12-21 13:00:00</td>\n",
       "      <td>0</td>\n",
       "      <td>2</td>\n",
       "      <td>Jesús Gil</td>\n",
       "      <td>Iberostar Estadi</td>\n",
       "      <td>5.00</td>\n",
       "      <td>4.00</td>\n",
       "      <td>1.66</td>\n",
       "      <td>Hubo 03 tarjetas amarillas para el equipo visi...</td>\n",
       "      <td>2019-12-21 13:00:00</td>\n",
       "    </tr>\n",
       "    <tr>\n",
       "      <th>267</th>\n",
       "      <td>214192</td>\n",
       "      <td>Barcelona</td>\n",
       "      <td>Alaves</td>\n",
       "      <td>1</td>\n",
       "      <td>2019</td>\n",
       "      <td>2019-12-21 16:00:00</td>\n",
       "      <td>4</td>\n",
       "      <td>1</td>\n",
       "      <td>Mario Melero</td>\n",
       "      <td>Camp Nou</td>\n",
       "      <td>1.12</td>\n",
       "      <td>9.00</td>\n",
       "      <td>21.00</td>\n",
       "      <td>Hubo 4  tarjetas amarillas de jugadores visita...</td>\n",
       "      <td>2019-12-21 16:00:00</td>\n",
       "    </tr>\n",
       "    <tr>\n",
       "      <th>268</th>\n",
       "      <td>214629</td>\n",
       "      <td>Las Palmas</td>\n",
       "      <td>Rayo Vallecano</td>\n",
       "      <td>2</td>\n",
       "      <td>2019</td>\n",
       "      <td>2019-12-21 18:00:00</td>\n",
       "      <td>1</td>\n",
       "      <td>1</td>\n",
       "      <td>Saúl Ais</td>\n",
       "      <td>Estadio de Gran Canaria</td>\n",
       "      <td>2.37</td>\n",
       "      <td>3.00</td>\n",
       "      <td>3.25</td>\n",
       "      <td>Hubo 03 amarillas para jugadores del equipo lo...</td>\n",
       "      <td>2019-12-21 18:00:00</td>\n",
       "    </tr>\n",
       "    <tr>\n",
       "      <th>269</th>\n",
       "      <td>214200</td>\n",
       "      <td>Villarreal</td>\n",
       "      <td>Getafe</td>\n",
       "      <td>1</td>\n",
       "      <td>2019</td>\n",
       "      <td>2019-12-21 18:30:00</td>\n",
       "      <td>1</td>\n",
       "      <td>0</td>\n",
       "      <td>Santiago Jaime</td>\n",
       "      <td>Estadio de la Cerámica</td>\n",
       "      <td>2.20</td>\n",
       "      <td>3.25</td>\n",
       "      <td>3.50</td>\n",
       "      <td>Hubo 01 tajetas rojas al equipo visitante;Hubo...</td>\n",
       "      <td>2019-12-21 18:30:00</td>\n",
       "    </tr>\n",
       "    <tr>\n",
       "      <th>270</th>\n",
       "      <td>214201</td>\n",
       "      <td>Valladolid</td>\n",
       "      <td>Valencia</td>\n",
       "      <td>1</td>\n",
       "      <td>2019</td>\n",
       "      <td>2019-12-21 21:00:00</td>\n",
       "      <td>1</td>\n",
       "      <td>1</td>\n",
       "      <td>Valentín Pizarro</td>\n",
       "      <td>Estadio Municipal José Zorrilla</td>\n",
       "      <td>3.50</td>\n",
       "      <td>3.40</td>\n",
       "      <td>2.15</td>\n",
       "      <td>Hubo 0 rojas a jugadores visitantes;Hubo 03 ta...</td>\n",
       "      <td>2019-12-21 21:00:00</td>\n",
       "    </tr>\n",
       "    <tr>\n",
       "      <th>271</th>\n",
       "      <td>214625</td>\n",
       "      <td>Cadiz</td>\n",
       "      <td>Numancia</td>\n",
       "      <td>2</td>\n",
       "      <td>2019</td>\n",
       "      <td>2019-12-21 21:00:00</td>\n",
       "      <td>2</td>\n",
       "      <td>4</td>\n",
       "      <td>Rubén Ávalos</td>\n",
       "      <td>Estadio Ramón de Carranza</td>\n",
       "      <td>1.72</td>\n",
       "      <td>3.10</td>\n",
       "      <td>6.00</td>\n",
       "      <td>Hubo 1 tarjetas rojas sobre el equipo local;Hu...</td>\n",
       "      <td>2019-12-21 21:00:00</td>\n",
       "    </tr>\n",
       "    <tr>\n",
       "      <th>272</th>\n",
       "      <td>214624</td>\n",
       "      <td>Almeria</td>\n",
       "      <td>Ponferradina</td>\n",
       "      <td>2</td>\n",
       "      <td>2019</td>\n",
       "      <td>2019-12-22 12:00:00</td>\n",
       "      <td>2</td>\n",
       "      <td>3</td>\n",
       "      <td>Santiago Varón</td>\n",
       "      <td>Estadio de los Juegos Mediterráneos</td>\n",
       "      <td>1.75</td>\n",
       "      <td>3.40</td>\n",
       "      <td>5.00</td>\n",
       "      <td>Hubo 00 tarjetas rojas sobre el equipo local;H...</td>\n",
       "      <td>2019-12-22 12:00:00</td>\n",
       "    </tr>\n",
       "    <tr>\n",
       "      <th>273</th>\n",
       "      <td>214195</td>\n",
       "      <td>Leganes</td>\n",
       "      <td>Espanyol</td>\n",
       "      <td>1</td>\n",
       "      <td>2019</td>\n",
       "      <td>2019-12-22 12:00:00</td>\n",
       "      <td>2</td>\n",
       "      <td>0</td>\n",
       "      <td>Javier Alberola</td>\n",
       "      <td>Estadio Municipal de Butarque</td>\n",
       "      <td>2.10</td>\n",
       "      <td>3.10</td>\n",
       "      <td>3.90</td>\n",
       "      <td>Hubo 6 tarjetas amarillas para el equipo visit...</td>\n",
       "      <td>2019-12-22 12:00:00</td>\n",
       "    </tr>\n",
       "    <tr>\n",
       "      <th>274</th>\n",
       "      <td>214198</td>\n",
       "      <td>Osasuna</td>\n",
       "      <td>Real Sociedad</td>\n",
       "      <td>1</td>\n",
       "      <td>2019</td>\n",
       "      <td>2019-12-22 14:00:00</td>\n",
       "      <td>3</td>\n",
       "      <td>4</td>\n",
       "      <td>David Medié</td>\n",
       "      <td>Estadio El Sadar</td>\n",
       "      <td>2.80</td>\n",
       "      <td>3.40</td>\n",
       "      <td>2.50</td>\n",
       "      <td>Hubo 0 tajetas rojas al equipo visitante;Hubo ...</td>\n",
       "      <td>2019-12-22 14:00:00</td>\n",
       "    </tr>\n",
       "    <tr>\n",
       "      <th>275</th>\n",
       "      <td>214628</td>\n",
       "      <td>Huesca</td>\n",
       "      <td>Zaragoza</td>\n",
       "      <td>2</td>\n",
       "      <td>2019</td>\n",
       "      <td>2019-12-22 16:00:00</td>\n",
       "      <td>2</td>\n",
       "      <td>1</td>\n",
       "      <td>Isidro Díaz de Mera</td>\n",
       "      <td>Estadio El Alcoraz</td>\n",
       "      <td>1.80</td>\n",
       "      <td>3.40</td>\n",
       "      <td>4.50</td>\n",
       "      <td>Hubo 2 tajetas rojas al equipo visitante;Hubo ...</td>\n",
       "      <td>2019-12-22 16:00:00</td>\n",
       "    </tr>\n",
       "    <tr>\n",
       "      <th>276</th>\n",
       "      <td>214193</td>\n",
       "      <td>Real Betis</td>\n",
       "      <td>Atletico Madrid</td>\n",
       "      <td>1</td>\n",
       "      <td>2019</td>\n",
       "      <td>2019-12-22 16:00:00</td>\n",
       "      <td>1</td>\n",
       "      <td>2</td>\n",
       "      <td>Javier Estrada</td>\n",
       "      <td>Estadio Benito Villamarín</td>\n",
       "      <td>3.80</td>\n",
       "      <td>3.30</td>\n",
       "      <td>2.10</td>\n",
       "      <td>Hubo 00 rojas a jugadores del equipo local;Hub...</td>\n",
       "      <td>2019-12-22 16:00:00</td>\n",
       "    </tr>\n",
       "    <tr>\n",
       "      <th>277</th>\n",
       "      <td>214623</td>\n",
       "      <td>Alcorcon</td>\n",
       "      <td>Fuenlabrada</td>\n",
       "      <td>2</td>\n",
       "      <td>2019</td>\n",
       "      <td>2019-12-22 18:00:00</td>\n",
       "      <td>1</td>\n",
       "      <td>1</td>\n",
       "      <td>Víctor Areces</td>\n",
       "      <td>Estadio Santo Domingo</td>\n",
       "      <td>2.37</td>\n",
       "      <td>2.90</td>\n",
       "      <td>3.30</td>\n",
       "      <td>Hubo 00 tarjetas rojas sobre el equipo local;H...</td>\n",
       "      <td>2019-12-22 18:00:00</td>\n",
       "    </tr>\n",
       "    <tr>\n",
       "      <th>278</th>\n",
       "      <td>214196</td>\n",
       "      <td>Levante</td>\n",
       "      <td>Celta Vigo</td>\n",
       "      <td>1</td>\n",
       "      <td>2019</td>\n",
       "      <td>2019-12-22 18:30:00</td>\n",
       "      <td>3</td>\n",
       "      <td>1</td>\n",
       "      <td>Eduardo Prieto</td>\n",
       "      <td>Estadio Ciudad de Valencia</td>\n",
       "      <td>2.62</td>\n",
       "      <td>3.40</td>\n",
       "      <td>2.62</td>\n",
       "      <td>Hubo 0 rojas a jugadores del equipo local;Hubo...</td>\n",
       "      <td>2019-12-22 18:30:00</td>\n",
       "    </tr>\n",
       "    <tr>\n",
       "      <th>279</th>\n",
       "      <td>214627</td>\n",
       "      <td>Girona</td>\n",
       "      <td>Mirandes</td>\n",
       "      <td>2</td>\n",
       "      <td>2019</td>\n",
       "      <td>2019-12-22 20:00:00</td>\n",
       "      <td>0</td>\n",
       "      <td>3</td>\n",
       "      <td>Jon González</td>\n",
       "      <td>Estadi Municipal de Montilivi</td>\n",
       "      <td>1.65</td>\n",
       "      <td>3.60</td>\n",
       "      <td>5.75</td>\n",
       "      <td>Hubo 00 rojas a jugadores visitantes;Hubo 01 a...</td>\n",
       "      <td>2019-12-22 20:00:00</td>\n",
       "    </tr>\n",
       "    <tr>\n",
       "      <th>280</th>\n",
       "      <td>214199</td>\n",
       "      <td>Real Madrid</td>\n",
       "      <td>Athletic Club</td>\n",
       "      <td>1</td>\n",
       "      <td>2019</td>\n",
       "      <td>2019-12-22 21:00:00</td>\n",
       "      <td>0</td>\n",
       "      <td>0</td>\n",
       "      <td>Adrián Cordero</td>\n",
       "      <td>Estadio Santiago Bernabéu</td>\n",
       "      <td>1.33</td>\n",
       "      <td>5.25</td>\n",
       "      <td>8.00</td>\n",
       "      <td>Hubo 01 amarillas mostradas al equipo local;Hu...</td>\n",
       "      <td>2019-12-22 21:00:00</td>\n",
       "    </tr>\n",
       "  </tbody>\n",
       "</table>\n",
       "</div>"
      ],
      "text/plain": [
       "     id_partido         equipo_local     equipo_visitante  Division  \\\n",
       "227      214170              Sevilla              Leganes         1   \n",
       "228      214592          Fuenlabrada                Cadiz         2   \n",
       "229      214163        Athletic Club           Granada CF         1   \n",
       "230      214166             Espanyol              Osasuna         1   \n",
       "231      214597               Oviedo       Rayo Vallecano         2   \n",
       "232      214593                 Lugo  Deportivo La Coruna         2   \n",
       "233      214590                Elche     Racing Santander         2   \n",
       "234      214167               Getafe              Levante         1   \n",
       "235      214591          Extremadura           Las Palmas         2   \n",
       "236      214164      Atletico Madrid            Barcelona         1   \n",
       "237      214179          Real Madrid             Espanyol         1   \n",
       "238      214606               Huesca       Rayo Vallecano         2   \n",
       "239      214175           Granada CF               Alaves         1   \n",
       "240      214610       Sporting Gijon         Ponferradina         2   \n",
       "241      214177              Levante             Valencia         1   \n",
       "242      214172            Barcelona             Mallorca         1   \n",
       "243      214605               Girona                 Lugo         2   \n",
       "244      214174                Eibar               Getafe         1   \n",
       "245      214173           Real Betis        Athletic Club         1   \n",
       "246      214181           Valladolid        Real Sociedad         1   \n",
       "247      214604  Deportivo La Coruna             Zaragoza         2   \n",
       "248      214607           Las Palmas             Numancia         2   \n",
       "249      214176              Leganes           Celta Vigo         1   \n",
       "250      214603                Cadiz                Elche         2   \n",
       "251      214178              Osasuna              Sevilla         1   \n",
       "252      214188           Granada CF              Levante         1   \n",
       "253      214615             Mirandes               Huesca         2   \n",
       "254      214189        Real Sociedad            Barcelona         1   \n",
       "255      214617         Ponferradina  Deportivo La Coruna         2   \n",
       "256      214183        Athletic Club                Eibar         1   \n",
       "257      214621             Zaragoza     Racing Santander         2   \n",
       "258      214184      Atletico Madrid              Osasuna         1   \n",
       "259      214612          Extremadura               Malaga         2   \n",
       "260      214187               Getafe           Valladolid         1   \n",
       "261      214185           Celta Vigo             Mallorca         1   \n",
       "262      214186             Espanyol           Real Betis         1   \n",
       "263      214611                Elche           Las Palmas         2   \n",
       "264      214190              Sevilla           Villarreal         1   \n",
       "265      214191             Valencia          Real Madrid         1   \n",
       "266      214197             Mallorca              Sevilla         1   \n",
       "267      214192            Barcelona               Alaves         1   \n",
       "268      214629           Las Palmas       Rayo Vallecano         2   \n",
       "269      214200           Villarreal               Getafe         1   \n",
       "270      214201           Valladolid             Valencia         1   \n",
       "271      214625                Cadiz             Numancia         2   \n",
       "272      214624              Almeria         Ponferradina         2   \n",
       "273      214195              Leganes             Espanyol         1   \n",
       "274      214198              Osasuna        Real Sociedad         1   \n",
       "275      214628               Huesca             Zaragoza         2   \n",
       "276      214193           Real Betis      Atletico Madrid         1   \n",
       "277      214623             Alcorcon          Fuenlabrada         2   \n",
       "278      214196              Levante           Celta Vigo         1   \n",
       "279      214627               Girona             Mirandes         2   \n",
       "280      214199          Real Madrid        Athletic Club         1   \n",
       "\n",
       "     Temporada             fecha_dt  goles_local  goles_visitante  \\\n",
       "227       2019  2019-12-01 12:00:00            1                0   \n",
       "228       2019  2019-12-01 12:00:00            1                0   \n",
       "229       2019  2019-12-01 14:00:00            2                0   \n",
       "230       2019  2019-12-01 16:00:00            2                4   \n",
       "231       2019  2019-12-01 16:00:00            2                1   \n",
       "232       2019  2019-12-01 18:00:00            0                0   \n",
       "233       2019  2019-12-01 18:00:00            2                0   \n",
       "234       2019  2019-12-01 18:30:00            4                0   \n",
       "235       2019  2019-12-01 20:00:00            0                1   \n",
       "236       2019  2019-12-01 21:00:00            0                1   \n",
       "237       2019  2019-12-07 13:00:00            2                0   \n",
       "238       2019  2019-12-07 16:00:00            0                2   \n",
       "239       2019  2019-12-07 16:00:00            3                0   \n",
       "240       2019  2019-12-07 18:00:00            1                0   \n",
       "241       2019  2019-12-07 18:30:00            2                4   \n",
       "242       2019  2019-12-07 21:00:00            5                2   \n",
       "243       2019  2019-12-08 12:00:00            3                1   \n",
       "244       2019  2019-12-08 12:00:00            0                1   \n",
       "245       2019  2019-12-08 14:00:00            3                2   \n",
       "246       2019  2019-12-08 16:00:00            0                0   \n",
       "247       2019  2019-12-08 16:00:00            1                3   \n",
       "248       2019  2019-12-08 18:00:00            3                1   \n",
       "249       2019  2019-12-08 18:30:00            3                2   \n",
       "250       2019  2019-12-08 21:00:00            0                0   \n",
       "251       2019  2019-12-08 21:00:00            1                1   \n",
       "252       2019  2019-12-14 13:00:00            1                2   \n",
       "253       2019  2019-12-14 16:00:00            2                0   \n",
       "254       2019  2019-12-14 16:00:00            2                2   \n",
       "255       2019  2019-12-14 18:00:00            2                0   \n",
       "256       2019  2019-12-14 18:30:00            0                0   \n",
       "257       2019  2019-12-14 21:00:00            2                0   \n",
       "258       2019  2019-12-14 21:00:00            2                0   \n",
       "259       2019  2019-12-15 12:00:00            0                0   \n",
       "260       2019  2019-12-15 12:00:00            2                0   \n",
       "261       2019  2019-12-15 14:00:00            2                2   \n",
       "262       2019  2019-12-15 16:00:00            2                2   \n",
       "263       2019  2019-12-15 18:00:00            2                3   \n",
       "264       2019  2019-12-15 18:30:00            1                2   \n",
       "265       2019  2019-12-15 21:00:00            1                1   \n",
       "266       2019  2019-12-21 13:00:00            0                2   \n",
       "267       2019  2019-12-21 16:00:00            4                1   \n",
       "268       2019  2019-12-21 18:00:00            1                1   \n",
       "269       2019  2019-12-21 18:30:00            1                0   \n",
       "270       2019  2019-12-21 21:00:00            1                1   \n",
       "271       2019  2019-12-21 21:00:00            2                4   \n",
       "272       2019  2019-12-22 12:00:00            2                3   \n",
       "273       2019  2019-12-22 12:00:00            2                0   \n",
       "274       2019  2019-12-22 14:00:00            3                4   \n",
       "275       2019  2019-12-22 16:00:00            2                1   \n",
       "276       2019  2019-12-22 16:00:00            1                2   \n",
       "277       2019  2019-12-22 18:00:00            1                1   \n",
       "278       2019  2019-12-22 18:30:00            3                1   \n",
       "279       2019  2019-12-22 20:00:00            0                3   \n",
       "280       2019  2019-12-22 21:00:00            0                0   \n",
       "\n",
       "                 arbitro                              estadio  odd_1  odd_x  \\\n",
       "227    Ricardo De Burgos        Estadio Ramón Sánchez Pizjuán   1.57   4.00   \n",
       "228             Saúl Ais              Estadio Fernando Torres   2.50   3.00   \n",
       "229       Adrián Cordero                     San Mamés Barria   1.70   3.40   \n",
       "230         Mario Melero                         RCDE Stadium   2.15   3.10   \n",
       "231          Juan Pulido        Estadio Nuevo Carlos Tartiere   2.70   3.10   \n",
       "232           José López                   Estadio Anxo Carro   3.10   3.10   \n",
       "233       Jorge Figueroa       Estadio Manuel Martínez Valero   2.05   3.10   \n",
       "234       Javier Estrada               Coliseum Alfonso Pérez   1.66   3.80   \n",
       "235         Gorka Sagues         Estadio Francisco de la Hera   2.45   3.00   \n",
       "236        Antonio Mateu          Estadio Wanda Metropolitano   2.75   3.30   \n",
       "237       Santiago Jaime            Estadio Santiago Bernabéu   1.20   7.00   \n",
       "238          Daniel Ocón                   Estadio El Alcoraz   1.85   3.40   \n",
       "239            Jesús Gil           Estadio Nuevo Los Cármenes   2.20   3.10   \n",
       "240  Isidro Díaz de Mera         Estadio Municipal El Molinón   1.83   3.25   \n",
       "241          David Medié           Estadio Ciudad de Valencia   3.20   3.75   \n",
       "242         José Munuera                             Camp Nou   1.14   8.50   \n",
       "243       Santiago Varón        Estadi Municipal de Montilivi   1.45   4.00   \n",
       "244       Eduardo Prieto          Estadio Municipal de Ipurúa   2.80   2.90   \n",
       "245     Valentín Pizarro            Estadio Benito Villamarín   2.30   3.20   \n",
       "246       Pablo González      Estadio Municipal José Zorrilla   3.20   3.20   \n",
       "247          Iosu Galech                Estadio Abanca-Riazor   2.37   3.25   \n",
       "248        Álvaro Moreno              Estadio de Gran Canaria   2.10   3.20   \n",
       "249         José Sánchez        Estadio Municipal de Butarque   2.37   3.10   \n",
       "250      Daniel Trujillo            Estadio Ramón de Carranza   1.65   3.40   \n",
       "251       Javier Estrada                     Estadio El Sadar   3.40   3.30   \n",
       "252     Carlos Del Cerro           Estadio Nuevo Los Cármenes   2.00   3.60   \n",
       "253         Gorka Sagues          Estadio Municipal de Anduva   2.75   2.80   \n",
       "254      Javier Alberola                          Reale Arena   5.25   4.20   \n",
       "255         Miguel Ortiz                   Estadio El Toralín   2.10   2.80   \n",
       "256         Mario Melero                     San Mamés Barria   1.66   3.75   \n",
       "257          Juan Pulido               Estadio de la Romareda   1.60   3.50   \n",
       "258         José Munuera          Estadio Wanda Metropolitano   1.40   4.33   \n",
       "259       Santiago Varón         Estadio Francisco de la Hera   2.70   2.70   \n",
       "260        Antonio Mateu               Coliseum Alfonso Pérez   1.66   3.60   \n",
       "261    Ricardo De Burgos                      Abanca-Balaídos   1.70   3.80   \n",
       "262     Guillermo Cuadra                         RCDE Stadium   2.60   3.25   \n",
       "263           Luis Milla       Estadio Manuel Martínez Valero   2.40   2.80   \n",
       "264       Adrián Cordero        Estadio Ramón Sánchez Pizjuán   1.66   4.00   \n",
       "265         José Sánchez                  Estadio de Mestalla   3.80   3.80   \n",
       "266            Jesús Gil                     Iberostar Estadi   5.00   4.00   \n",
       "267         Mario Melero                             Camp Nou   1.12   9.00   \n",
       "268             Saúl Ais              Estadio de Gran Canaria   2.37   3.00   \n",
       "269       Santiago Jaime               Estadio de la Cerámica   2.20   3.25   \n",
       "270     Valentín Pizarro      Estadio Municipal José Zorrilla   3.50   3.40   \n",
       "271         Rubén Ávalos            Estadio Ramón de Carranza   1.72   3.10   \n",
       "272       Santiago Varón  Estadio de los Juegos Mediterráneos   1.75   3.40   \n",
       "273      Javier Alberola        Estadio Municipal de Butarque   2.10   3.10   \n",
       "274          David Medié                     Estadio El Sadar   2.80   3.40   \n",
       "275  Isidro Díaz de Mera                   Estadio El Alcoraz   1.80   3.40   \n",
       "276       Javier Estrada            Estadio Benito Villamarín   3.80   3.30   \n",
       "277        Víctor Areces                Estadio Santo Domingo   2.37   2.90   \n",
       "278       Eduardo Prieto           Estadio Ciudad de Valencia   2.62   3.40   \n",
       "279         Jon González        Estadi Municipal de Montilivi   1.65   3.60   \n",
       "280       Adrián Cordero            Estadio Santiago Bernabéu   1.33   5.25   \n",
       "\n",
       "     odd_2                                   Informe_Tarjetas  \\\n",
       "227   6.00  Hubo 00 rojas a jugadores del equipo local;Hub...   \n",
       "228   3.00  Hubo 5 amarillas para jugadores del equipo loc...   \n",
       "229   6.00  Hubo 00 tarjetas rojas sobre el equipo local;H...   \n",
       "230   3.60  Hubo 0 tarjetas rojas sobre el equipo local;Hu...   \n",
       "231   2.70  Hubo 0 tarjetas rojas sobre el equipo local;Hu...   \n",
       "232   2.40  Hubo 02 amarillas mostradas al equipo local;Hu...   \n",
       "233   4.00  Hubo 0 rojas a jugadores visitantes;Hubo 00 ro...   \n",
       "234   5.50  Hubo 00 rojas a jugadores del equipo local;Hub...   \n",
       "235   3.10  Hubo 01 rojas a jugadores visitantes;Hubo 07 t...   \n",
       "236   2.60  Hubo 4  tarjetas amarillas de jugadores visita...   \n",
       "237  13.00  Hubo 03 tarjetas amarillas para el equipo visi...   \n",
       "238   4.50  Hubo 00 tarjetas rojas sobre el equipo local;H...   \n",
       "239   3.50  Hubo 0 tarjetas rojas sobre el equipo local;Hu...   \n",
       "240   4.75  Hubo 1 rojas a jugadores visitantes;Hubo 04 ta...   \n",
       "241   2.15  Hubo 0 rojas a jugadores visitantes;Hubo 1 roj...   \n",
       "242  17.00  Hubo 03 amarillas para jugadores del equipo lo...   \n",
       "243   7.50  Hubo 1 rojas a jugadores visitantes;Hubo 0 tar...   \n",
       "244   2.87  Hubo 00 rojas a jugadores visitantes;Hubo 01 r...   \n",
       "245   3.30  Hubo 0 tajetas rojas al equipo visitante;Hubo ...   \n",
       "246   2.37  Hubo 0 amarillas mostradas al equipo local;Hub...   \n",
       "247   3.00  Hubo 1 amarillas mostradas al equipo local;Hub...   \n",
       "248   3.60  Hubo 0 rojas a jugadores visitantes;Hubo 04 ta...   \n",
       "249   3.30  Hubo 00 tarjetas rojas sobre el equipo local;H...   \n",
       "250   6.00  Hubo 00 tarjetas rojas sobre el equipo local;H...   \n",
       "251   2.20  Hubo 01 rojas a jugadores del equipo local;Hub...   \n",
       "252   3.80  Hubo 4 amarillas para jugadores del equipo loc...   \n",
       "253   2.62  Hubo 0 rojas a jugadores visitantes;Hubo 3 ama...   \n",
       "254   1.61  Hubo 0 rojas a jugadores del equipo local;Hubo...   \n",
       "255   3.80  Hubo 00 tarjetas rojas sobre el equipo local;H...   \n",
       "256   5.50  Hubo 00 tajetas rojas al equipo visitante;Hubo...   \n",
       "257   5.50  Hubo 0 tarjetas rojas sobre el equipo local;Hu...   \n",
       "258  10.00  Hubo 01 amarillas mostradas al equipo local;Hu...   \n",
       "259   2.87  Hubo 0 rojas a jugadores del equipo local;Hubo...   \n",
       "260   6.00  Hubo 03 amarillas para jugadores del equipo lo...   \n",
       "261   5.00  Hubo 00 rojas a jugadores del equipo local;Hub...   \n",
       "262   2.80  Hubo 0 rojas a jugadores visitantes;Hubo 01  t...   \n",
       "263   3.10  Hubo 03 amarillas mostradas al equipo local;Hu...   \n",
       "264   5.00  Hubo 00 rojas a jugadores visitantes;Hubo 00 t...   \n",
       "265   1.90  Hubo 2 tarjetas amarillas para el equipo visit...   \n",
       "266   1.66  Hubo 03 tarjetas amarillas para el equipo visi...   \n",
       "267  21.00  Hubo 4  tarjetas amarillas de jugadores visita...   \n",
       "268   3.25  Hubo 03 amarillas para jugadores del equipo lo...   \n",
       "269   3.50  Hubo 01 tajetas rojas al equipo visitante;Hubo...   \n",
       "270   2.15  Hubo 0 rojas a jugadores visitantes;Hubo 03 ta...   \n",
       "271   6.00  Hubo 1 tarjetas rojas sobre el equipo local;Hu...   \n",
       "272   5.00  Hubo 00 tarjetas rojas sobre el equipo local;H...   \n",
       "273   3.90  Hubo 6 tarjetas amarillas para el equipo visit...   \n",
       "274   2.50  Hubo 0 tajetas rojas al equipo visitante;Hubo ...   \n",
       "275   4.50  Hubo 2 tajetas rojas al equipo visitante;Hubo ...   \n",
       "276   2.10  Hubo 00 rojas a jugadores del equipo local;Hub...   \n",
       "277   3.30  Hubo 00 tarjetas rojas sobre el equipo local;H...   \n",
       "278   2.62  Hubo 0 rojas a jugadores del equipo local;Hubo...   \n",
       "279   5.75  Hubo 00 rojas a jugadores visitantes;Hubo 01 a...   \n",
       "280   8.00  Hubo 01 amarillas mostradas al equipo local;Hu...   \n",
       "\n",
       "                  FECHA  \n",
       "227 2019-12-01 12:00:00  \n",
       "228 2019-12-01 12:00:00  \n",
       "229 2019-12-01 14:00:00  \n",
       "230 2019-12-01 16:00:00  \n",
       "231 2019-12-01 16:00:00  \n",
       "232 2019-12-01 18:00:00  \n",
       "233 2019-12-01 18:00:00  \n",
       "234 2019-12-01 18:30:00  \n",
       "235 2019-12-01 20:00:00  \n",
       "236 2019-12-01 21:00:00  \n",
       "237 2019-12-07 13:00:00  \n",
       "238 2019-12-07 16:00:00  \n",
       "239 2019-12-07 16:00:00  \n",
       "240 2019-12-07 18:00:00  \n",
       "241 2019-12-07 18:30:00  \n",
       "242 2019-12-07 21:00:00  \n",
       "243 2019-12-08 12:00:00  \n",
       "244 2019-12-08 12:00:00  \n",
       "245 2019-12-08 14:00:00  \n",
       "246 2019-12-08 16:00:00  \n",
       "247 2019-12-08 16:00:00  \n",
       "248 2019-12-08 18:00:00  \n",
       "249 2019-12-08 18:30:00  \n",
       "250 2019-12-08 21:00:00  \n",
       "251 2019-12-08 21:00:00  \n",
       "252 2019-12-14 13:00:00  \n",
       "253 2019-12-14 16:00:00  \n",
       "254 2019-12-14 16:00:00  \n",
       "255 2019-12-14 18:00:00  \n",
       "256 2019-12-14 18:30:00  \n",
       "257 2019-12-14 21:00:00  \n",
       "258 2019-12-14 21:00:00  \n",
       "259 2019-12-15 12:00:00  \n",
       "260 2019-12-15 12:00:00  \n",
       "261 2019-12-15 14:00:00  \n",
       "262 2019-12-15 16:00:00  \n",
       "263 2019-12-15 18:00:00  \n",
       "264 2019-12-15 18:30:00  \n",
       "265 2019-12-15 21:00:00  \n",
       "266 2019-12-21 13:00:00  \n",
       "267 2019-12-21 16:00:00  \n",
       "268 2019-12-21 18:00:00  \n",
       "269 2019-12-21 18:30:00  \n",
       "270 2019-12-21 21:00:00  \n",
       "271 2019-12-21 21:00:00  \n",
       "272 2019-12-22 12:00:00  \n",
       "273 2019-12-22 12:00:00  \n",
       "274 2019-12-22 14:00:00  \n",
       "275 2019-12-22 16:00:00  \n",
       "276 2019-12-22 16:00:00  \n",
       "277 2019-12-22 18:00:00  \n",
       "278 2019-12-22 18:30:00  \n",
       "279 2019-12-22 20:00:00  \n",
       "280 2019-12-22 21:00:00  "
      ]
     },
     "execution_count": 17,
     "metadata": {},
     "output_type": "execute_result"
    }
   ],
   "source": [
    "# Partidos en diciembre de 2019\n",
    "df_liga[df_liga.FECHA.dt.month == 12]"
   ]
  },
  {
   "cell_type": "code",
   "execution_count": null,
   "metadata": {},
   "outputs": [],
   "source": [
    "# Siempre que tengas un campo de fechas es preferible convertirlo a `datatime`"
   ]
  },
  {
   "cell_type": "markdown",
   "metadata": {},
   "source": [
    "### Procesado de números y Mising\n"
   ]
  },
  {
   "cell_type": "markdown",
   "metadata": {},
   "source": [
    "#### tratamiento de números\n",
    "Se pueden obtener columnas directas para poder tener analisis certeros "
   ]
  },
  {
   "cell_type": "code",
   "execution_count": null,
   "metadata": {},
   "outputs": [],
   "source": [
    "import pandas as pd\n",
    "import numpy as np \n",
    "\n",
    "df_liga  = pd.read_csv(\"./data/df_liga_2019.csv\")"
   ]
  },
  {
   "cell_type": "code",
   "execution_count": null,
   "metadata": {},
   "outputs": [
    {
     "data": {
      "text/plain": [
       "Index(['id_partido', 'equipo_local', 'equipo_visitante', 'Division',\n",
       "       'Temporada', 'fecha_dt', 'goles_local', 'goles_visitante', 'arbitro',\n",
       "       'estadio', 'odd_1', 'odd_x', 'odd_2', 'Informe_Tarjetas'],\n",
       "      dtype='object')"
      ]
     },
     "execution_count": 20,
     "metadata": {},
     "output_type": "execute_result"
    }
   ],
   "source": [
    "# Transformaciones directas\n",
    "df_liga.columns"
   ]
  },
  {
   "cell_type": "code",
   "execution_count": null,
   "metadata": {},
   "outputs": [],
   "source": [
    "def obten_resultado(row):\n",
    "    goles_local = row[\"goles_local\"]\n",
    "    goles_visitante = row[\"goles_visitante\"]\n",
    "    if goles_local > goles_visitante:\n",
    "        return \"1\"\n",
    "    elif goles_local < goles_visitante:\n",
    "        return \"2\"\n",
    "    else: \n",
    "        return \"x\""
   ]
  },
  {
   "cell_type": "code",
   "execution_count": null,
   "metadata": {},
   "outputs": [],
   "source": [
    "df_liga[\"resultado\"]= df_liga[[\"goles_local\", \"goles_visitante\"]].apply (obten_resultado,axis =1)"
   ]
  },
  {
   "cell_type": "code",
   "execution_count": null,
   "metadata": {},
   "outputs": [
    {
     "data": {
      "text/plain": [
       "resultado\n",
       "1    0.417230\n",
       "x    0.304054\n",
       "2    0.278716\n",
       "Name: proportion, dtype: float64"
      ]
     },
     "execution_count": 28,
     "metadata": {},
     "output_type": "execute_result"
    }
   ],
   "source": [
    "df_liga.resultado.value_counts(normalize=True)"
   ]
  },
  {
   "cell_type": "code",
   "execution_count": null,
   "metadata": {},
   "outputs": [
    {
     "data": {
      "text/html": [
       "<div>\n",
       "<style scoped>\n",
       "    .dataframe tbody tr th:only-of-type {\n",
       "        vertical-align: middle;\n",
       "    }\n",
       "\n",
       "    .dataframe tbody tr th {\n",
       "        vertical-align: top;\n",
       "    }\n",
       "\n",
       "    .dataframe thead th {\n",
       "        text-align: right;\n",
       "    }\n",
       "</style>\n",
       "<table border=\"1\" class=\"dataframe\">\n",
       "  <thead>\n",
       "    <tr style=\"text-align: right;\">\n",
       "      <th></th>\n",
       "      <th>id_partido</th>\n",
       "      <th>equipo_local</th>\n",
       "      <th>equipo_visitante</th>\n",
       "      <th>Division</th>\n",
       "      <th>Temporada</th>\n",
       "      <th>fecha_dt</th>\n",
       "      <th>goles_local</th>\n",
       "      <th>goles_visitante</th>\n",
       "      <th>arbitro</th>\n",
       "      <th>estadio</th>\n",
       "      <th>odd_1</th>\n",
       "      <th>odd_x</th>\n",
       "      <th>odd_2</th>\n",
       "      <th>Informe_Tarjetas</th>\n",
       "      <th>resultado</th>\n",
       "    </tr>\n",
       "  </thead>\n",
       "  <tbody>\n",
       "    <tr>\n",
       "      <th>0</th>\n",
       "      <td>214023</td>\n",
       "      <td>Celta Vigo</td>\n",
       "      <td>Real Madrid</td>\n",
       "      <td>1</td>\n",
       "      <td>2019</td>\n",
       "      <td>2019-08-17 17:00:00</td>\n",
       "      <td>1</td>\n",
       "      <td>3</td>\n",
       "      <td>Javier Estrada</td>\n",
       "      <td>Abanca-Balaídos</td>\n",
       "      <td>4.75</td>\n",
       "      <td>4.20</td>\n",
       "      <td>1.65</td>\n",
       "      <td>Hubo 01 tajetas rojas al equipo visitante;Hubo...</td>\n",
       "      <td>2</td>\n",
       "    </tr>\n",
       "    <tr>\n",
       "      <th>1</th>\n",
       "      <td>214403</td>\n",
       "      <td>Racing Santander</td>\n",
       "      <td>Malaga</td>\n",
       "      <td>2</td>\n",
       "      <td>2019</td>\n",
       "      <td>2019-08-17 18:00:00</td>\n",
       "      <td>0</td>\n",
       "      <td>1</td>\n",
       "      <td>Aitor Gorostegui</td>\n",
       "      <td>Campos de Sport de El Sardinero</td>\n",
       "      <td>2.87</td>\n",
       "      <td>3.10</td>\n",
       "      <td>2.55</td>\n",
       "      <td>Hubo 03 amarillas mostradas al equipo local;Hu...</td>\n",
       "      <td>2</td>\n",
       "    </tr>\n",
       "    <tr>\n",
       "      <th>2</th>\n",
       "      <td>214024</td>\n",
       "      <td>Valencia</td>\n",
       "      <td>Real Sociedad</td>\n",
       "      <td>1</td>\n",
       "      <td>2019</td>\n",
       "      <td>2019-08-17 19:00:00</td>\n",
       "      <td>1</td>\n",
       "      <td>1</td>\n",
       "      <td>Jesús Gil</td>\n",
       "      <td>Estadio de Mestalla</td>\n",
       "      <td>1.66</td>\n",
       "      <td>3.75</td>\n",
       "      <td>5.50</td>\n",
       "      <td>Hubo 4 amarillas mostradas al equipo local;Hub...</td>\n",
       "      <td>x</td>\n",
       "    </tr>\n",
       "    <tr>\n",
       "      <th>3</th>\n",
       "      <td>214404</td>\n",
       "      <td>Almeria</td>\n",
       "      <td>Albacete</td>\n",
       "      <td>2</td>\n",
       "      <td>2019</td>\n",
       "      <td>2019-08-17 19:00:00</td>\n",
       "      <td>3</td>\n",
       "      <td>0</td>\n",
       "      <td>Saúl Ais</td>\n",
       "      <td>Estadio de los Juegos Mediterráneos</td>\n",
       "      <td>2.37</td>\n",
       "      <td>3.10</td>\n",
       "      <td>3.10</td>\n",
       "      <td>Hubo 00 rojas a jugadores visitantes;Hubo 01 a...</td>\n",
       "      <td>1</td>\n",
       "    </tr>\n",
       "    <tr>\n",
       "      <th>4</th>\n",
       "      <td>214026</td>\n",
       "      <td>Villarreal</td>\n",
       "      <td>Granada CF</td>\n",
       "      <td>1</td>\n",
       "      <td>2019</td>\n",
       "      <td>2019-08-17 21:00:00</td>\n",
       "      <td>4</td>\n",
       "      <td>4</td>\n",
       "      <td>Adrián Cordero</td>\n",
       "      <td>Estadio de la Cerámica</td>\n",
       "      <td>1.60</td>\n",
       "      <td>3.80</td>\n",
       "      <td>6.50</td>\n",
       "      <td>Hubo 01  tarjetas amarillas de jugadores visit...</td>\n",
       "      <td>x</td>\n",
       "    </tr>\n",
       "    <tr>\n",
       "      <th>...</th>\n",
       "      <td>...</td>\n",
       "      <td>...</td>\n",
       "      <td>...</td>\n",
       "      <td>...</td>\n",
       "      <td>...</td>\n",
       "      <td>...</td>\n",
       "      <td>...</td>\n",
       "      <td>...</td>\n",
       "      <td>...</td>\n",
       "      <td>...</td>\n",
       "      <td>...</td>\n",
       "      <td>...</td>\n",
       "      <td>...</td>\n",
       "      <td>...</td>\n",
       "      <td>...</td>\n",
       "    </tr>\n",
       "    <tr>\n",
       "      <th>587</th>\n",
       "      <td>214853</td>\n",
       "      <td>Alcorcon</td>\n",
       "      <td>Girona</td>\n",
       "      <td>2</td>\n",
       "      <td>2019</td>\n",
       "      <td>2020-07-20 21:00:00</td>\n",
       "      <td>2</td>\n",
       "      <td>0</td>\n",
       "      <td>Juan Pulido</td>\n",
       "      <td>Estadio Santo Domingo</td>\n",
       "      <td>2.37</td>\n",
       "      <td>2.87</td>\n",
       "      <td>3.40</td>\n",
       "      <td>Hubo 0 tajetas rojas al equipo visitante;Hubo ...</td>\n",
       "      <td>1</td>\n",
       "    </tr>\n",
       "    <tr>\n",
       "      <th>588</th>\n",
       "      <td>214863</td>\n",
       "      <td>Zaragoza</td>\n",
       "      <td>Ponferradina</td>\n",
       "      <td>2</td>\n",
       "      <td>2019</td>\n",
       "      <td>2020-07-20 21:00:00</td>\n",
       "      <td>2</td>\n",
       "      <td>1</td>\n",
       "      <td>Dámaso Arcediano</td>\n",
       "      <td>Estadio de la Romareda</td>\n",
       "      <td>2.10</td>\n",
       "      <td>3.30</td>\n",
       "      <td>3.50</td>\n",
       "      <td>Hubo 00  tarjetas amarillas de jugadores visit...</td>\n",
       "      <td>1</td>\n",
       "    </tr>\n",
       "    <tr>\n",
       "      <th>589</th>\n",
       "      <td>214854</td>\n",
       "      <td>Almeria</td>\n",
       "      <td>Malaga</td>\n",
       "      <td>2</td>\n",
       "      <td>2019</td>\n",
       "      <td>2020-07-20 21:00:00</td>\n",
       "      <td>0</td>\n",
       "      <td>0</td>\n",
       "      <td>Saúl Ais</td>\n",
       "      <td>Estadio de los Juegos Mediterráneos</td>\n",
       "      <td>2.10</td>\n",
       "      <td>3.20</td>\n",
       "      <td>3.60</td>\n",
       "      <td>Hubo 2  tarjetas amarillas de jugadores visita...</td>\n",
       "      <td>x</td>\n",
       "    </tr>\n",
       "    <tr>\n",
       "      <th>590</th>\n",
       "      <td>214862</td>\n",
       "      <td>Sporting Gijon</td>\n",
       "      <td>Huesca</td>\n",
       "      <td>2</td>\n",
       "      <td>2019</td>\n",
       "      <td>2020-07-20 21:00:00</td>\n",
       "      <td>0</td>\n",
       "      <td>1</td>\n",
       "      <td>Gorka Sagues</td>\n",
       "      <td>Estadio Municipal El Molinón</td>\n",
       "      <td>3.30</td>\n",
       "      <td>3.10</td>\n",
       "      <td>2.15</td>\n",
       "      <td>Hubo 2 amarillas para jugadores del equipo loc...</td>\n",
       "      <td>2</td>\n",
       "    </tr>\n",
       "    <tr>\n",
       "      <th>591</th>\n",
       "      <td>214856</td>\n",
       "      <td>Deportivo La Coruna</td>\n",
       "      <td>Fuenlabrada</td>\n",
       "      <td>2</td>\n",
       "      <td>2019</td>\n",
       "      <td>2020-08-07 20:00:00</td>\n",
       "      <td>2</td>\n",
       "      <td>1</td>\n",
       "      <td>Isidro Díaz de Mera</td>\n",
       "      <td>Estadio Abanca-Riazor</td>\n",
       "      <td>2.10</td>\n",
       "      <td>3.20</td>\n",
       "      <td>3.60</td>\n",
       "      <td>Hubo 02 amarillas para jugadores del equipo lo...</td>\n",
       "      <td>1</td>\n",
       "    </tr>\n",
       "  </tbody>\n",
       "</table>\n",
       "<p>592 rows × 15 columns</p>\n",
       "</div>"
      ],
      "text/plain": [
       "     id_partido         equipo_local equipo_visitante  Division  Temporada  \\\n",
       "0        214023           Celta Vigo      Real Madrid         1       2019   \n",
       "1        214403     Racing Santander           Malaga         2       2019   \n",
       "2        214024             Valencia    Real Sociedad         1       2019   \n",
       "3        214404              Almeria         Albacete         2       2019   \n",
       "4        214026           Villarreal       Granada CF         1       2019   \n",
       "..          ...                  ...              ...       ...        ...   \n",
       "587      214853             Alcorcon           Girona         2       2019   \n",
       "588      214863             Zaragoza     Ponferradina         2       2019   \n",
       "589      214854              Almeria           Malaga         2       2019   \n",
       "590      214862       Sporting Gijon           Huesca         2       2019   \n",
       "591      214856  Deportivo La Coruna      Fuenlabrada         2       2019   \n",
       "\n",
       "                fecha_dt  goles_local  goles_visitante              arbitro  \\\n",
       "0    2019-08-17 17:00:00            1                3       Javier Estrada   \n",
       "1    2019-08-17 18:00:00            0                1     Aitor Gorostegui   \n",
       "2    2019-08-17 19:00:00            1                1            Jesús Gil   \n",
       "3    2019-08-17 19:00:00            3                0             Saúl Ais   \n",
       "4    2019-08-17 21:00:00            4                4       Adrián Cordero   \n",
       "..                   ...          ...              ...                  ...   \n",
       "587  2020-07-20 21:00:00            2                0          Juan Pulido   \n",
       "588  2020-07-20 21:00:00            2                1     Dámaso Arcediano   \n",
       "589  2020-07-20 21:00:00            0                0             Saúl Ais   \n",
       "590  2020-07-20 21:00:00            0                1         Gorka Sagues   \n",
       "591  2020-08-07 20:00:00            2                1  Isidro Díaz de Mera   \n",
       "\n",
       "                                 estadio  odd_1  odd_x  odd_2  \\\n",
       "0                        Abanca-Balaídos   4.75   4.20   1.65   \n",
       "1        Campos de Sport de El Sardinero   2.87   3.10   2.55   \n",
       "2                    Estadio de Mestalla   1.66   3.75   5.50   \n",
       "3    Estadio de los Juegos Mediterráneos   2.37   3.10   3.10   \n",
       "4                 Estadio de la Cerámica   1.60   3.80   6.50   \n",
       "..                                   ...    ...    ...    ...   \n",
       "587                Estadio Santo Domingo   2.37   2.87   3.40   \n",
       "588               Estadio de la Romareda   2.10   3.30   3.50   \n",
       "589  Estadio de los Juegos Mediterráneos   2.10   3.20   3.60   \n",
       "590         Estadio Municipal El Molinón   3.30   3.10   2.15   \n",
       "591                Estadio Abanca-Riazor   2.10   3.20   3.60   \n",
       "\n",
       "                                      Informe_Tarjetas resultado  \n",
       "0    Hubo 01 tajetas rojas al equipo visitante;Hubo...         2  \n",
       "1    Hubo 03 amarillas mostradas al equipo local;Hu...         2  \n",
       "2    Hubo 4 amarillas mostradas al equipo local;Hub...         x  \n",
       "3    Hubo 00 rojas a jugadores visitantes;Hubo 01 a...         1  \n",
       "4    Hubo 01  tarjetas amarillas de jugadores visit...         x  \n",
       "..                                                 ...       ...  \n",
       "587  Hubo 0 tajetas rojas al equipo visitante;Hubo ...         1  \n",
       "588  Hubo 00  tarjetas amarillas de jugadores visit...         1  \n",
       "589  Hubo 2  tarjetas amarillas de jugadores visita...         x  \n",
       "590  Hubo 2 amarillas para jugadores del equipo loc...         2  \n",
       "591  Hubo 02 amarillas para jugadores del equipo lo...         1  \n",
       "\n",
       "[592 rows x 15 columns]"
      ]
     },
     "execution_count": 29,
     "metadata": {},
     "output_type": "execute_result"
    }
   ],
   "source": [
    "df_liga"
   ]
  },
  {
   "cell_type": "markdown",
   "metadata": {},
   "source": [
    "#### Binning\n",
    "Para terminar otra de las posibles transformaciones que podemos hacer es convertir determinados campos con una gran dispersión de valores en grupos o rangos, también llamados \"bins\" y luego tratar esa nueva columna como una categórica (algo particular porque existe una relación de orden matemático entre los bins, por ejemplo estar en un bin con un índice mayor que otro significa tener más o menos valor, dependiendo la forma en que hayamos hecho el bin)"
   ]
  },
  {
   "cell_type": "code",
   "execution_count": null,
   "metadata": {},
   "outputs": [
    {
     "ename": "KeyError",
     "evalue": "'Asistencia_miles'",
     "output_type": "error",
     "traceback": [
      "\u001b[1;31m---------------------------------------------------------------------------\u001b[0m",
      "\u001b[1;31mKeyError\u001b[0m                                  Traceback (most recent call last)",
      "File \u001b[1;32mc:\\Users\\34603\\AppData\\Local\\Programs\\Python\\Python310\\lib\\site-packages\\pandas\\core\\indexes\\base.py:3790\u001b[0m, in \u001b[0;36mIndex.get_loc\u001b[1;34m(self, key)\u001b[0m\n\u001b[0;32m   3789\u001b[0m \u001b[39mtry\u001b[39;00m:\n\u001b[1;32m-> 3790\u001b[0m     \u001b[39mreturn\u001b[39;00m \u001b[39mself\u001b[39;49m\u001b[39m.\u001b[39;49m_engine\u001b[39m.\u001b[39;49mget_loc(casted_key)\n\u001b[0;32m   3791\u001b[0m \u001b[39mexcept\u001b[39;00m \u001b[39mKeyError\u001b[39;00m \u001b[39mas\u001b[39;00m err:\n",
      "File \u001b[1;32mindex.pyx:152\u001b[0m, in \u001b[0;36mpandas._libs.index.IndexEngine.get_loc\u001b[1;34m()\u001b[0m\n",
      "File \u001b[1;32mindex.pyx:181\u001b[0m, in \u001b[0;36mpandas._libs.index.IndexEngine.get_loc\u001b[1;34m()\u001b[0m\n",
      "File \u001b[1;32mpandas\\_libs\\hashtable_class_helper.pxi:7080\u001b[0m, in \u001b[0;36mpandas._libs.hashtable.PyObjectHashTable.get_item\u001b[1;34m()\u001b[0m\n",
      "File \u001b[1;32mpandas\\_libs\\hashtable_class_helper.pxi:7088\u001b[0m, in \u001b[0;36mpandas._libs.hashtable.PyObjectHashTable.get_item\u001b[1;34m()\u001b[0m\n",
      "\u001b[1;31mKeyError\u001b[0m: 'Asistencia_miles'",
      "\nThe above exception was the direct cause of the following exception:\n",
      "\u001b[1;31mKeyError\u001b[0m                                  Traceback (most recent call last)",
      "\u001b[1;32mc:\\Users\\34603\\Documentos_clases\\GitHub Desckot\\ONLINE_DS_THEBRIDGE_BRYAN_TRABAJOS\\Python básico.ipynb Cell 535\u001b[0m line \u001b[0;36m1\n\u001b[1;32m----> <a href='vscode-notebook-cell:/c%3A/Users/34603/Documentos_clases/GitHub%20Desckot/ONLINE_DS_THEBRIDGE_BRYAN_TRABAJOS/Python%20b%C3%A1sico.ipynb#Z1403sZmlsZQ%3D%3D?line=0'>1</a>\u001b[0m df_liga[\u001b[39m\"\u001b[39;49m\u001b[39mAsistencia_miles\u001b[39;49m\u001b[39m\"\u001b[39;49m]\u001b[39m.\u001b[39mvalue_counts()\n",
      "File \u001b[1;32mc:\\Users\\34603\\AppData\\Local\\Programs\\Python\\Python310\\lib\\site-packages\\pandas\\core\\frame.py:3893\u001b[0m, in \u001b[0;36mDataFrame.__getitem__\u001b[1;34m(self, key)\u001b[0m\n\u001b[0;32m   3891\u001b[0m \u001b[39mif\u001b[39;00m \u001b[39mself\u001b[39m\u001b[39m.\u001b[39mcolumns\u001b[39m.\u001b[39mnlevels \u001b[39m>\u001b[39m \u001b[39m1\u001b[39m:\n\u001b[0;32m   3892\u001b[0m     \u001b[39mreturn\u001b[39;00m \u001b[39mself\u001b[39m\u001b[39m.\u001b[39m_getitem_multilevel(key)\n\u001b[1;32m-> 3893\u001b[0m indexer \u001b[39m=\u001b[39m \u001b[39mself\u001b[39;49m\u001b[39m.\u001b[39;49mcolumns\u001b[39m.\u001b[39;49mget_loc(key)\n\u001b[0;32m   3894\u001b[0m \u001b[39mif\u001b[39;00m is_integer(indexer):\n\u001b[0;32m   3895\u001b[0m     indexer \u001b[39m=\u001b[39m [indexer]\n",
      "File \u001b[1;32mc:\\Users\\34603\\AppData\\Local\\Programs\\Python\\Python310\\lib\\site-packages\\pandas\\core\\indexes\\base.py:3797\u001b[0m, in \u001b[0;36mIndex.get_loc\u001b[1;34m(self, key)\u001b[0m\n\u001b[0;32m   3792\u001b[0m     \u001b[39mif\u001b[39;00m \u001b[39misinstance\u001b[39m(casted_key, \u001b[39mslice\u001b[39m) \u001b[39mor\u001b[39;00m (\n\u001b[0;32m   3793\u001b[0m         \u001b[39misinstance\u001b[39m(casted_key, abc\u001b[39m.\u001b[39mIterable)\n\u001b[0;32m   3794\u001b[0m         \u001b[39mand\u001b[39;00m \u001b[39many\u001b[39m(\u001b[39misinstance\u001b[39m(x, \u001b[39mslice\u001b[39m) \u001b[39mfor\u001b[39;00m x \u001b[39min\u001b[39;00m casted_key)\n\u001b[0;32m   3795\u001b[0m     ):\n\u001b[0;32m   3796\u001b[0m         \u001b[39mraise\u001b[39;00m InvalidIndexError(key)\n\u001b[1;32m-> 3797\u001b[0m     \u001b[39mraise\u001b[39;00m \u001b[39mKeyError\u001b[39;00m(key) \u001b[39mfrom\u001b[39;00m \u001b[39merr\u001b[39;00m\n\u001b[0;32m   3798\u001b[0m \u001b[39mexcept\u001b[39;00m \u001b[39mTypeError\u001b[39;00m:\n\u001b[0;32m   3799\u001b[0m     \u001b[39m# If we have a listlike key, _check_indexing_error will raise\u001b[39;00m\n\u001b[0;32m   3800\u001b[0m     \u001b[39m#  InvalidIndexError. Otherwise we fall through and re-raise\u001b[39;00m\n\u001b[0;32m   3801\u001b[0m     \u001b[39m#  the TypeError.\u001b[39;00m\n\u001b[0;32m   3802\u001b[0m     \u001b[39mself\u001b[39m\u001b[39m.\u001b[39m_check_indexing_error(key)\n",
      "\u001b[1;31mKeyError\u001b[0m: 'Asistencia_miles'"
     ]
    }
   ],
   "source": [
    "df_liga[\"Asistencia_miles\"].value_counts()"
   ]
  },
  {
   "cell_type": "code",
   "execution_count": null,
   "metadata": {},
   "outputs": [],
   "source": [
    "# A los Bins son los ñlimites de cortes que se realizan \n",
    "bins= [0,3000000,6000000,df_liga.Asistencia_miles.max()]\n",
    "df_liga[\"cat_asistencia\"]=pd.cut(df_liga.Asistencias_miles,bind,labels=[\"baja\",\"media\",\"alta\"])  #Labels son las etiquetas que se pone "
   ]
  },
  {
   "cell_type": "markdown",
   "metadata": {},
   "source": [
    "#### Tratamiento de Missings  \n",
    "Pasos una vez al tener los datos \n",
    "- Carga y exploracionm (entederlos)\n",
    "- Analisis de duplicados \n",
    "- Tratamiento de ducplicados \n",
    "- Limpieza y transformación \n",
    "- Tratamiento de faltantes \n",
    "- Hacer el análisis \n"
   ]
  },
  {
   "cell_type": "code",
   "execution_count": null,
   "metadata": {},
   "outputs": [],
   "source": [
    "import numpy as np\n",
    "import pandas as pd\n",
    "\n",
    "df_viajes = pd.read_csv(\"./data/dataset_viajes.csv\")"
   ]
  },
  {
   "cell_type": "code",
   "execution_count": null,
   "metadata": {},
   "outputs": [
    {
     "name": "stdout",
     "output_type": "stream",
     "text": [
      "<class 'pandas.core.frame.DataFrame'>\n",
      "RangeIndex: 1000 entries, 0 to 999\n",
      "Data columns (total 8 columns):\n",
      " #   Column      Non-Null Count  Dtype  \n",
      "---  ------      --------------  -----  \n",
      " 0   Id_vuelo    1000 non-null   object \n",
      " 1   Aircompany  1000 non-null   object \n",
      " 2   Origen      1000 non-null   object \n",
      " 3   Destino     1000 non-null   object \n",
      " 4   Distancia   872 non-null    float64\n",
      " 5   avion       1000 non-null   object \n",
      " 6   consumo_kg  862 non-null    object \n",
      " 7   duracion    853 non-null    float64\n",
      "dtypes: float64(2), object(6)\n",
      "memory usage: 62.6+ KB\n"
     ]
    }
   ],
   "source": [
    "df_viajes.info()"
   ]
  },
  {
   "cell_type": "markdown",
   "metadata": {},
   "source": [
    "#### Clasificación de los datos faltanrtes \n",
    "Estos se califican en tres categorías:\n",
    "- Missing completely at random (MCAR): Datos que se pierden de manera aleatoria, estos se pueden rellenar\n",
    "- Missing at random (MAR): Datos completos que no se expliocan por los motivoas anteriores\n",
    "- Missing not at random (MNAR): Datos incompletos que no se explican por motivos anteriores "
   ]
  },
  {
   "cell_type": "markdown",
   "metadata": {},
   "source": [
    "##### Aproximación para tratar los Missings\n"
   ]
  },
  {
   "cell_type": "code",
   "execution_count": null,
   "metadata": {},
   "outputs": [],
   "source": [
    "#A.-  Se es posible encontrar los valores en otras fuentes \n",
    "df_viajes_sin_na = df_viajes.copy()\n",
    "df_viajes_sin_na[\"Destino\"] = df_viajes_sin_na.Destino.str.lower().str.capitalize() # Primero hay que limpiar, recuerda el ciclo pintado anteriormente\n",
    "\n",
    "df_viajes_sin_na[\"Distancia_Corregida\"] = df_viajes_sin_na.groupby([\"Origen\",\"Destino\"])[\"Distancia\"].transform(\"mean\")"
   ]
  },
  {
   "cell_type": "code",
   "execution_count": null,
   "metadata": {},
   "outputs": [
    {
     "name": "stdout",
     "output_type": "stream",
     "text": [
      "<class 'pandas.core.frame.DataFrame'>\n",
      "RangeIndex: 1000 entries, 0 to 999\n",
      "Data columns (total 9 columns):\n",
      " #   Column               Non-Null Count  Dtype  \n",
      "---  ------               --------------  -----  \n",
      " 0   Id_vuelo             1000 non-null   object \n",
      " 1   Aircompany           1000 non-null   object \n",
      " 2   Origen               1000 non-null   object \n",
      " 3   Destino              1000 non-null   object \n",
      " 4   Distancia            872 non-null    float64\n",
      " 5   avion                1000 non-null   object \n",
      " 6   consumo_kg           862 non-null    object \n",
      " 7   duracion             853 non-null    float64\n",
      " 8   Distancia_Corregida  1000 non-null   float64\n",
      "dtypes: float64(3), object(6)\n",
      "memory usage: 70.4+ KB\n"
     ]
    }
   ],
   "source": [
    "df_viajes_sin_na.info()"
   ]
  },
  {
   "cell_type": "code",
   "execution_count": null,
   "metadata": {},
   "outputs": [
    {
     "name": "stdout",
     "output_type": "stream",
     "text": [
      "<class 'pandas.core.frame.DataFrame'>\n",
      "Index: 997 entries, 0 to 999\n",
      "Data columns (total 8 columns):\n",
      " #   Column      Non-Null Count  Dtype  \n",
      "---  ------      --------------  -----  \n",
      " 0   Id_vuelo    997 non-null    object \n",
      " 1   Aircompany  997 non-null    object \n",
      " 2   Origen      997 non-null    object \n",
      " 3   Destino     997 non-null    object \n",
      " 4   Distancia   872 non-null    float64\n",
      " 5   avion       997 non-null    object \n",
      " 6   consumo_kg  862 non-null    object \n",
      " 7   duracion    853 non-null    float64\n",
      "dtypes: float64(2), object(6)\n",
      "memory usage: 70.1+ KB\n"
     ]
    }
   ],
   "source": [
    "# B.- Descartar datos, es decir las filas: Si el faltante de datos es grande y no hay demasiados missing values puede ser una estrategia válida \n",
    "\n",
    "df_viajes_sin_na_I = df_viajes.dropna(subset = [\"Distancia\",\"consumo_kg\",\"duracion\"], how = \"all\")\n",
    "df_viajes_sin_na_I.info()"
   ]
  },
  {
   "cell_type": "code",
   "execution_count": null,
   "metadata": {},
   "outputs": [
    {
     "data": {
      "text/plain": [
       "0.147"
      ]
     },
     "execution_count": 10,
     "metadata": {},
     "output_type": "execute_result"
    }
   ],
   "source": [
    "# C.- Eliminar campos: Si un dataframe tiene muchos missings puede ser eliminar una columna del dataset por ejemplo si una variable con el 99% de nulos no aportará mucha información \n",
    "# Para saber el valor de nulos accediamos con el values counts.(), el dropna y el normalize y con el np.NaN\n",
    "df_viajes[\"duracion\"].value_counts(normalize = True, dropna = False)[np.NaN]"
   ]
  },
  {
   "cell_type": "code",
   "execution_count": null,
   "metadata": {},
   "outputs": [
    {
     "data": {
      "text/plain": [
       "0.138"
      ]
     },
     "execution_count": 11,
     "metadata": {},
     "output_type": "execute_result"
    }
   ],
   "source": [
    "df_viajes[\"consumo_kg\"].value_counts(normalize = True, dropna = False)[np.NaN]"
   ]
  },
  {
   "cell_type": "code",
   "execution_count": null,
   "metadata": {},
   "outputs": [
    {
     "data": {
      "text/plain": [
       "0.128"
      ]
     },
     "execution_count": 12,
     "metadata": {},
     "output_type": "execute_result"
    }
   ],
   "source": [
    "df_viajes[\"Distancia\"].value_counts(normalize = True, dropna = False)[np.NaN]"
   ]
  },
  {
   "cell_type": "code",
   "execution_count": null,
   "metadata": {},
   "outputs": [],
   "source": [
    "# Si quisieramos eliminar esas lineas lo usariamos con un \".drop()\"\n",
    "df_viajes_sin_na_II = df_viajes.drop(columns=[\"consumo_kg\"])"
   ]
  },
  {
   "cell_type": "code",
   "execution_count": null,
   "metadata": {},
   "outputs": [
    {
     "data": {
      "text/html": [
       "<div>\n",
       "<style scoped>\n",
       "    .dataframe tbody tr th:only-of-type {\n",
       "        vertical-align: middle;\n",
       "    }\n",
       "\n",
       "    .dataframe tbody tr th {\n",
       "        vertical-align: top;\n",
       "    }\n",
       "\n",
       "    .dataframe thead th {\n",
       "        text-align: right;\n",
       "    }\n",
       "</style>\n",
       "<table border=\"1\" class=\"dataframe\">\n",
       "  <thead>\n",
       "    <tr style=\"text-align: right;\">\n",
       "      <th></th>\n",
       "      <th>Id_vuelo</th>\n",
       "      <th>Aircompany</th>\n",
       "      <th>Origen</th>\n",
       "      <th>Destino</th>\n",
       "      <th>Distancia</th>\n",
       "      <th>avion</th>\n",
       "      <th>duracion</th>\n",
       "    </tr>\n",
       "  </thead>\n",
       "  <tbody>\n",
       "    <tr>\n",
       "      <th>0</th>\n",
       "      <td>Air_PaGi_10737</td>\n",
       "      <td>Airnar</td>\n",
       "      <td>París</td>\n",
       "      <td>Ginebra</td>\n",
       "      <td>411.0</td>\n",
       "      <td>Boeing 737</td>\n",
       "      <td>51.0</td>\n",
       "    </tr>\n",
       "    <tr>\n",
       "      <th>1</th>\n",
       "      <td>Fly_BaRo_10737</td>\n",
       "      <td>FlyQ</td>\n",
       "      <td>Bali</td>\n",
       "      <td>Roma</td>\n",
       "      <td>12738.0</td>\n",
       "      <td>Boeing 737</td>\n",
       "      <td>1167.0</td>\n",
       "    </tr>\n",
       "    <tr>\n",
       "      <th>2</th>\n",
       "      <td>Tab_GiLo_11380</td>\n",
       "      <td>TabarAir</td>\n",
       "      <td>Ginebra</td>\n",
       "      <td>Los Angeles</td>\n",
       "      <td>9103.0</td>\n",
       "      <td>Airbus A380</td>\n",
       "      <td>626.0</td>\n",
       "    </tr>\n",
       "    <tr>\n",
       "      <th>3</th>\n",
       "      <td>Mol_PaCi_10737</td>\n",
       "      <td>MoldaviAir</td>\n",
       "      <td>París</td>\n",
       "      <td>Cincinnati</td>\n",
       "      <td>6370.0</td>\n",
       "      <td>Boeing 737</td>\n",
       "      <td>503.0</td>\n",
       "    </tr>\n",
       "    <tr>\n",
       "      <th>4</th>\n",
       "      <td>Tab_CiRo_10747</td>\n",
       "      <td>TabarAir</td>\n",
       "      <td>Cincinnati</td>\n",
       "      <td>Roma</td>\n",
       "      <td>7480.0</td>\n",
       "      <td>Boeing 747</td>\n",
       "      <td>518.0</td>\n",
       "    </tr>\n",
       "    <tr>\n",
       "      <th>...</th>\n",
       "      <td>...</td>\n",
       "      <td>...</td>\n",
       "      <td>...</td>\n",
       "      <td>...</td>\n",
       "      <td>...</td>\n",
       "      <td>...</td>\n",
       "      <td>...</td>\n",
       "    </tr>\n",
       "    <tr>\n",
       "      <th>995</th>\n",
       "      <td>Pam_LoNu_10747</td>\n",
       "      <td>PamPangea</td>\n",
       "      <td>Londres</td>\n",
       "      <td>Nueva York</td>\n",
       "      <td>5566.0</td>\n",
       "      <td>Boeing 747</td>\n",
       "      <td>391.0</td>\n",
       "    </tr>\n",
       "    <tr>\n",
       "      <th>996</th>\n",
       "      <td>Mol_MeLo_10747</td>\n",
       "      <td>MoldaviAir</td>\n",
       "      <td>Melbourne</td>\n",
       "      <td>Londres</td>\n",
       "      <td>16900.0</td>\n",
       "      <td>Boeing 747</td>\n",
       "      <td>1326.0</td>\n",
       "    </tr>\n",
       "    <tr>\n",
       "      <th>997</th>\n",
       "      <td>Mol_BaPa_10747</td>\n",
       "      <td>MoldaviAir</td>\n",
       "      <td>Bali</td>\n",
       "      <td>París</td>\n",
       "      <td>11980.0</td>\n",
       "      <td>Boeing 747</td>\n",
       "      <td>818.0</td>\n",
       "    </tr>\n",
       "    <tr>\n",
       "      <th>998</th>\n",
       "      <td>Air_CaCi_10747</td>\n",
       "      <td>Airnar</td>\n",
       "      <td>Cádiz</td>\n",
       "      <td>Cincinnati</td>\n",
       "      <td>6624.0</td>\n",
       "      <td>Boeing 747</td>\n",
       "      <td>461.0</td>\n",
       "    </tr>\n",
       "    <tr>\n",
       "      <th>999</th>\n",
       "      <td>Air_PaCi_10737</td>\n",
       "      <td>Airnar</td>\n",
       "      <td>París</td>\n",
       "      <td>Cincinnati</td>\n",
       "      <td>6370.0</td>\n",
       "      <td>Boeing 737</td>\n",
       "      <td>503.0</td>\n",
       "    </tr>\n",
       "  </tbody>\n",
       "</table>\n",
       "<p>1000 rows × 7 columns</p>\n",
       "</div>"
      ],
      "text/plain": [
       "           Id_vuelo  Aircompany      Origen      Destino  Distancia  \\\n",
       "0    Air_PaGi_10737      Airnar       París      Ginebra      411.0   \n",
       "1    Fly_BaRo_10737        FlyQ        Bali         Roma    12738.0   \n",
       "2    Tab_GiLo_11380    TabarAir     Ginebra  Los Angeles     9103.0   \n",
       "3    Mol_PaCi_10737  MoldaviAir       París   Cincinnati     6370.0   \n",
       "4    Tab_CiRo_10747    TabarAir  Cincinnati         Roma     7480.0   \n",
       "..              ...         ...         ...          ...        ...   \n",
       "995  Pam_LoNu_10747   PamPangea     Londres   Nueva York     5566.0   \n",
       "996  Mol_MeLo_10747  MoldaviAir   Melbourne      Londres    16900.0   \n",
       "997  Mol_BaPa_10747  MoldaviAir        Bali        París    11980.0   \n",
       "998  Air_CaCi_10747      Airnar       Cádiz   Cincinnati     6624.0   \n",
       "999  Air_PaCi_10737      Airnar       París   Cincinnati     6370.0   \n",
       "\n",
       "           avion  duracion  \n",
       "0     Boeing 737      51.0  \n",
       "1     Boeing 737    1167.0  \n",
       "2    Airbus A380     626.0  \n",
       "3     Boeing 737     503.0  \n",
       "4     Boeing 747     518.0  \n",
       "..           ...       ...  \n",
       "995   Boeing 747     391.0  \n",
       "996   Boeing 747    1326.0  \n",
       "997   Boeing 747     818.0  \n",
       "998   Boeing 747     461.0  \n",
       "999   Boeing 737     503.0  \n",
       "\n",
       "[1000 rows x 7 columns]"
      ]
     },
     "execution_count": 14,
     "metadata": {},
     "output_type": "execute_result"
    }
   ],
   "source": [
    "df_viajes_sin_na_II"
   ]
  },
  {
   "cell_type": "markdown",
   "metadata": {},
   "source": [
    "##### Imputrar Media, Mediana y Moda\n",
    "En lugar de eliminar, reemplazamos valores missing con estimaciones estadísticas como la media, la moda o la mediana.  En una sustitución por la media, el valor medio de una variable se usa en lugar del valor de los datos que faltan para esa misma variable. Esto tiene la ventaja de no cambiar la media muestral de esa variable. Sin embargo, con valores faltantes que no son estrictamente aleatorios, especialmente en presencia de una gran desigualdad en el número de valores faltantes para las diferentes variables, el método de sustitución de medias puede conducir a un sesgo inconsistente.\n",
    "\n",
    "Este es el método que sugeríamos en las unidades dedicadas a Pandas, pero ten en cuenta que como se dice anteriormente se introduce sesgo. En cualquier caso, y como vimos en la práctica se puede hilar fino empleando la media de agrupaciones."
   ]
  },
  {
   "cell_type": "code",
   "execution_count": null,
   "metadata": {},
   "outputs": [
    {
     "name": "stdout",
     "output_type": "stream",
     "text": [
      "<class 'pandas.core.frame.DataFrame'>\n",
      "RangeIndex: 1000 entries, 0 to 999\n",
      "Data columns (total 9 columns):\n",
      " #   Column            Non-Null Count  Dtype  \n",
      "---  ------            --------------  -----  \n",
      " 0   Id_vuelo          1000 non-null   object \n",
      " 1   Aircompany        1000 non-null   object \n",
      " 2   Origen            1000 non-null   object \n",
      " 3   Destino           1000 non-null   object \n",
      " 4   Distancia         872 non-null    float64\n",
      " 5   avion             1000 non-null   object \n",
      " 6   consumo_kg        1000 non-null   float64\n",
      " 7   duracion          853 non-null    float64\n",
      " 8   consumo_kg_medio  1000 non-null   float64\n",
      "dtypes: float64(4), object(5)\n",
      "memory usage: 70.4+ KB\n"
     ]
    }
   ],
   "source": [
    "df_viajes_sin_na_IV = df_viajes.copy()\n",
    "df_viajes_sin_na_IV[\"consumo_kg\"] = df_viajes_sin_na_IV[\"consumo_kg\"].str.replace(\",\",\".\").astype(\"float\") # Primero limpiar\n",
    "df_viajes_sin_na_IV[\"consumo_kg_medio\"] = df_viajes_sin_na_IV.groupby([\"Aircompany\",\"avion\"])[\"consumo_kg\"].transform(\"mean\")\n",
    "df_viajes_sin_na_IV.loc[df_viajes_sin_na_IV.consumo_kg.isna(),\"consumo_kg\"] =\\\n",
    "      df_viajes_sin_na_IV.loc[df_viajes_sin_na_IV.consumo_kg.isna(),\"consumo_kg_medio\"]\n",
    "df_viajes_sin_na_IV.info()"
   ]
  },
  {
   "cell_type": "markdown",
   "metadata": {},
   "source": [
    "##### Añadir variables binarias NaN\n",
    "Como complemento a estimar los valores perdidos o NaN, podemos capturar el hecho de que es un missings re-estimado creando una variable binaria adicional indicando si era un valor missing (1, True) o no (0, False). Esto nos permitira descontarlos en casos que no queramos contar con ellos o tenerlos en cuenta en casos que sí con solo filtrar o no por ese campo adicional.\n",
    "\n",
    "IMPORTANTE: Esto se tiene que hacer antes de reimputar o estimar los missing, después ya no se sabrá cuales lo eran o no. O tratar con una copia como hemos hecho nosotros."
   ]
  },
  {
   "cell_type": "code",
   "execution_count": null,
   "metadata": {},
   "outputs": [],
   "source": [
    "\n",
    "df_viajes_sin_na_IV[\"Era_missing_consumo_kg\"] = df_viajes.consumo_kg.isna() # Como están alineados nos podemos permitir esto"
   ]
  },
  {
   "cell_type": "code",
   "execution_count": null,
   "metadata": {},
   "outputs": [
    {
     "data": {
      "text/html": [
       "<div>\n",
       "<style scoped>\n",
       "    .dataframe tbody tr th:only-of-type {\n",
       "        vertical-align: middle;\n",
       "    }\n",
       "\n",
       "    .dataframe tbody tr th {\n",
       "        vertical-align: top;\n",
       "    }\n",
       "\n",
       "    .dataframe thead th {\n",
       "        text-align: right;\n",
       "    }\n",
       "</style>\n",
       "<table border=\"1\" class=\"dataframe\">\n",
       "  <thead>\n",
       "    <tr style=\"text-align: right;\">\n",
       "      <th></th>\n",
       "      <th>Id_vuelo</th>\n",
       "      <th>Aircompany</th>\n",
       "      <th>Origen</th>\n",
       "      <th>Destino</th>\n",
       "      <th>Distancia</th>\n",
       "      <th>avion</th>\n",
       "      <th>consumo_kg</th>\n",
       "      <th>duracion</th>\n",
       "      <th>consumo_kg_medio</th>\n",
       "      <th>Era_missing_consumo_kg</th>\n",
       "    </tr>\n",
       "  </thead>\n",
       "  <tbody>\n",
       "    <tr>\n",
       "      <th>1</th>\n",
       "      <td>Fly_BaRo_10737</td>\n",
       "      <td>FlyQ</td>\n",
       "      <td>Bali</td>\n",
       "      <td>Roma</td>\n",
       "      <td>12738.0</td>\n",
       "      <td>Boeing 737</td>\n",
       "      <td>33479.132544</td>\n",
       "      <td>1167.0</td>\n",
       "      <td>19625.167545</td>\n",
       "      <td>False</td>\n",
       "    </tr>\n",
       "    <tr>\n",
       "      <th>3</th>\n",
       "      <td>Mol_PaCi_10737</td>\n",
       "      <td>MoldaviAir</td>\n",
       "      <td>París</td>\n",
       "      <td>Cincinnati</td>\n",
       "      <td>6370.0</td>\n",
       "      <td>Boeing 737</td>\n",
       "      <td>17027.010000</td>\n",
       "      <td>503.0</td>\n",
       "      <td>30645.282695</td>\n",
       "      <td>False</td>\n",
       "    </tr>\n",
       "    <tr>\n",
       "      <th>4</th>\n",
       "      <td>Tab_CiRo_10747</td>\n",
       "      <td>TabarAir</td>\n",
       "      <td>Cincinnati</td>\n",
       "      <td>Roma</td>\n",
       "      <td>7480.0</td>\n",
       "      <td>Boeing 747</td>\n",
       "      <td>86115.744000</td>\n",
       "      <td>518.0</td>\n",
       "      <td>57244.692000</td>\n",
       "      <td>False</td>\n",
       "    </tr>\n",
       "    <tr>\n",
       "      <th>5</th>\n",
       "      <td>Mol_CaMe_10737</td>\n",
       "      <td>MoldaviAir</td>\n",
       "      <td>Cádiz</td>\n",
       "      <td>Melbourne</td>\n",
       "      <td>20029.0</td>\n",
       "      <td>Boeing 737</td>\n",
       "      <td>53148.153240</td>\n",
       "      <td>NaN</td>\n",
       "      <td>30645.282695</td>\n",
       "      <td>False</td>\n",
       "    </tr>\n",
       "    <tr>\n",
       "      <th>6</th>\n",
       "      <td>Mol_PaLo_11320</td>\n",
       "      <td>MoldaviAir</td>\n",
       "      <td>París</td>\n",
       "      <td>Londres</td>\n",
       "      <td>344.0</td>\n",
       "      <td>Airbus A320</td>\n",
       "      <td>915.246400</td>\n",
       "      <td>44.0</td>\n",
       "      <td>8395.822284</td>\n",
       "      <td>False</td>\n",
       "    </tr>\n",
       "    <tr>\n",
       "      <th>...</th>\n",
       "      <td>...</td>\n",
       "      <td>...</td>\n",
       "      <td>...</td>\n",
       "      <td>...</td>\n",
       "      <td>...</td>\n",
       "      <td>...</td>\n",
       "      <td>...</td>\n",
       "      <td>...</td>\n",
       "      <td>...</td>\n",
       "      <td>...</td>\n",
       "    </tr>\n",
       "    <tr>\n",
       "      <th>995</th>\n",
       "      <td>Pam_LoNu_10747</td>\n",
       "      <td>PamPangea</td>\n",
       "      <td>Londres</td>\n",
       "      <td>Nueva York</td>\n",
       "      <td>5566.0</td>\n",
       "      <td>Boeing 747</td>\n",
       "      <td>62300.238000</td>\n",
       "      <td>391.0</td>\n",
       "      <td>136578.780816</td>\n",
       "      <td>False</td>\n",
       "    </tr>\n",
       "    <tr>\n",
       "      <th>996</th>\n",
       "      <td>Mol_MeLo_10747</td>\n",
       "      <td>MoldaviAir</td>\n",
       "      <td>Melbourne</td>\n",
       "      <td>Londres</td>\n",
       "      <td>16900.0</td>\n",
       "      <td>Boeing 747</td>\n",
       "      <td>194854.566400</td>\n",
       "      <td>1326.0</td>\n",
       "      <td>132384.256186</td>\n",
       "      <td>False</td>\n",
       "    </tr>\n",
       "    <tr>\n",
       "      <th>997</th>\n",
       "      <td>Mol_BaPa_10747</td>\n",
       "      <td>MoldaviAir</td>\n",
       "      <td>Bali</td>\n",
       "      <td>París</td>\n",
       "      <td>11980.0</td>\n",
       "      <td>Boeing 747</td>\n",
       "      <td>128983.868000</td>\n",
       "      <td>818.0</td>\n",
       "      <td>132384.256186</td>\n",
       "      <td>False</td>\n",
       "    </tr>\n",
       "    <tr>\n",
       "      <th>998</th>\n",
       "      <td>Air_CaCi_10747</td>\n",
       "      <td>Airnar</td>\n",
       "      <td>Cádiz</td>\n",
       "      <td>Cincinnati</td>\n",
       "      <td>6624.0</td>\n",
       "      <td>Boeing 747</td>\n",
       "      <td>72024.076800</td>\n",
       "      <td>461.0</td>\n",
       "      <td>83111.282099</td>\n",
       "      <td>False</td>\n",
       "    </tr>\n",
       "    <tr>\n",
       "      <th>999</th>\n",
       "      <td>Air_PaCi_10737</td>\n",
       "      <td>Airnar</td>\n",
       "      <td>París</td>\n",
       "      <td>Cincinnati</td>\n",
       "      <td>6370.0</td>\n",
       "      <td>Boeing 737</td>\n",
       "      <td>16872.219000</td>\n",
       "      <td>503.0</td>\n",
       "      <td>25359.943711</td>\n",
       "      <td>False</td>\n",
       "    </tr>\n",
       "  </tbody>\n",
       "</table>\n",
       "<p>862 rows × 10 columns</p>\n",
       "</div>"
      ],
      "text/plain": [
       "           Id_vuelo  Aircompany      Origen     Destino  Distancia  \\\n",
       "1    Fly_BaRo_10737        FlyQ        Bali        Roma    12738.0   \n",
       "3    Mol_PaCi_10737  MoldaviAir       París  Cincinnati     6370.0   \n",
       "4    Tab_CiRo_10747    TabarAir  Cincinnati        Roma     7480.0   \n",
       "5    Mol_CaMe_10737  MoldaviAir       Cádiz   Melbourne    20029.0   \n",
       "6    Mol_PaLo_11320  MoldaviAir       París     Londres      344.0   \n",
       "..              ...         ...         ...         ...        ...   \n",
       "995  Pam_LoNu_10747   PamPangea     Londres  Nueva York     5566.0   \n",
       "996  Mol_MeLo_10747  MoldaviAir   Melbourne     Londres    16900.0   \n",
       "997  Mol_BaPa_10747  MoldaviAir        Bali       París    11980.0   \n",
       "998  Air_CaCi_10747      Airnar       Cádiz  Cincinnati     6624.0   \n",
       "999  Air_PaCi_10737      Airnar       París  Cincinnati     6370.0   \n",
       "\n",
       "           avion     consumo_kg  duracion  consumo_kg_medio  \\\n",
       "1     Boeing 737   33479.132544    1167.0      19625.167545   \n",
       "3     Boeing 737   17027.010000     503.0      30645.282695   \n",
       "4     Boeing 747   86115.744000     518.0      57244.692000   \n",
       "5     Boeing 737   53148.153240       NaN      30645.282695   \n",
       "6    Airbus A320     915.246400      44.0       8395.822284   \n",
       "..           ...            ...       ...               ...   \n",
       "995   Boeing 747   62300.238000     391.0     136578.780816   \n",
       "996   Boeing 747  194854.566400    1326.0     132384.256186   \n",
       "997   Boeing 747  128983.868000     818.0     132384.256186   \n",
       "998   Boeing 747   72024.076800     461.0      83111.282099   \n",
       "999   Boeing 737   16872.219000     503.0      25359.943711   \n",
       "\n",
       "     Era_missing_consumo_kg  \n",
       "1                     False  \n",
       "3                     False  \n",
       "4                     False  \n",
       "5                     False  \n",
       "6                     False  \n",
       "..                      ...  \n",
       "995                   False  \n",
       "996                   False  \n",
       "997                   False  \n",
       "998                   False  \n",
       "999                   False  \n",
       "\n",
       "[862 rows x 10 columns]"
      ]
     },
     "execution_count": 17,
     "metadata": {},
     "output_type": "execute_result"
    }
   ],
   "source": [
    "# Para cualquier calculo que no queramos usar los valores que eran missing:\n",
    "df_viajes_sin_na_IV.loc[df_viajes_sin_na_IV.Era_missing_consumo_kg == False] # y operamos con el resultado de este filtrado"
   ]
  },
  {
   "cell_type": "code",
   "execution_count": null,
   "metadata": {},
   "outputs": [],
   "source": []
  },
  {
   "cell_type": "markdown",
   "metadata": {},
   "source": [
    "## Unidad 2. Acceso y Procesado de Datos Internos: Ficheros"
   ]
  },
  {
   "cell_type": "markdown",
   "metadata": {},
   "source": [
    "### Formato tabulador \n"
   ]
  },
  {
   "cell_type": "markdown",
   "metadata": {},
   "source": [
    "#### Lectura, escritura txt\n",
    "Es la forma generica de leer escribir archivos, los archivos son un conjunto de datos almacenados en el ordenador en forma de bits,su componente es header + data + end of file\n",
    "El path tiene tres elementos para comenzar a leerlo: Folder path: lugar donde esta guardado, File name, extension: Lo que se ve despues del punto\n",
    "\n",
    "Aquí te dejo una [buena guía para iniciarse en la lectura/escritura de archivos con Python.](https://realpython.com/read-write-files-python/)"
   ]
  },
  {
   "cell_type": "markdown",
   "metadata": {},
   "source": [
    "#### Abrir ficheros\n",
    "Funciones Built in para tratar ficheros la función es .open\n",
    "sintaxis: file_object = open(\"filemane\",\"mode\")\n",
    "El primer argumento es el nombre del archivo, mientras que en el modo tendremos que especificar si queremos leer, o escribir. Por defecto leerá, es decir, el parámetro valdrá *r*, de read. [Te dejo el enlace a la documentación para consultar el resto de modos](https://docs.python.org/3/library/functions.html#open).\n"
   ]
  },
  {
   "cell_type": "code",
   "execution_count": 1,
   "metadata": {},
   "outputs": [
    {
     "name": "stdout",
     "output_type": "stream",
     "text": [
      "<class 'str'>\n",
      "Pug\n",
      "Jack Russell Terrier\n",
      "English Springer Spaniel\n",
      "German Shepherd\n",
      "Staffordshire Bull Terrier\n",
      "Cavalier King Charles Spaniel\n",
      "Golden Retriever\n",
      "West Highland White Terrier\n",
      "Boxer\n",
      "Border Terrier\n"
     ]
    }
   ],
   "source": [
    "with open(\"/Users/34603/OneDrive/Escritorio/data/dog_breeds.txt\",\"r\") as open_file:\n",
    "    all_text=open_file.read()\n",
    "    print(type(all_text))\n",
    "    print(all_text)\n",
    " # Con este metodo se cierra el archivo despues de terminar   "
   ]
  },
  {
   "cell_type": "code",
   "execution_count": 2,
   "metadata": {},
   "outputs": [
    {
     "name": "stdout",
     "output_type": "stream",
     "text": [
      "['Pug\\n', 'Jack Russell Terrier\\n', 'English Springer Spaniel\\n', 'German Shepherd\\n', 'Staffordshire Bull Terrier\\n', 'Cavalier King Charles Spaniel\\n', 'Golden Retriever\\n', 'West Highland White Terrier\\n', 'Boxer\\n', 'Border Terrier']\n"
     ]
    }
   ],
   "source": [
    " \n",
    "with open(\"/Users/34603/OneDrive/Escritorio/data/dog_breeds.txt\",\"r\") as open_file:\n",
    "    all_text= open_file.readlines()\n",
    "    print(all_text)"
   ]
  },
  {
   "cell_type": "code",
   "execution_count": 3,
   "metadata": {},
   "outputs": [
    {
     "data": {
      "text/plain": [
       "['Pug',\n",
       " 'Jack Russell Terrier',\n",
       " 'English Springer Spaniel',\n",
       " 'German Shepherd',\n",
       " 'Staffordshire Bull Terrier',\n",
       " 'Cavalier King Charles Spaniel',\n",
       " 'Golden Retriever',\n",
       " 'West Highland White Terrier',\n",
       " 'Boxer',\n",
       " 'Border Terrier']"
      ]
     },
     "execution_count": 3,
     "metadata": {},
     "output_type": "execute_result"
    }
   ],
   "source": [
    "# La manera de leerlo el volcarlo linea a linea\n",
    "with open(\"/Users/34603/OneDrive/Escritorio/data/dog_breeds.txt\",\"r\") as f:\n",
    "    lineas=[line.replace(\"\\n\",\"\")for line in f]\n",
    "lineas\n"
   ]
  },
  {
   "cell_type": "code",
   "execution_count": 5,
   "metadata": {},
   "outputs": [
    {
     "data": {
      "text/plain": [
       "['Pug',\n",
       " 'Jack Russell ',\n",
       " 'English Springer ',\n",
       " 'German Shepherd',\n",
       " 'Staffordshire Bull ',\n",
       " 'Cavalier King Charles ',\n",
       " 'Golden Retriever',\n",
       " 'West Highland White ',\n",
       " 'Boxer',\n",
       " 'Border ']"
      ]
     },
     "execution_count": 5,
     "metadata": {},
     "output_type": "execute_result"
    }
   ],
   "source": [
    "# procesamiento y escribir en un fichero \n",
    "# Sacamos \"terrier\" y Spanish(razas)\n",
    "nuevo_datos= [perrito.replace(\"Terrier\",\"\").replace(\"Spaniel\",\"\")for perrito in lineas]\n",
    "nuevo_datos"
   ]
  },
  {
   "cell_type": "code",
   "execution_count": 23,
   "metadata": {},
   "outputs": [
    {
     "ename": "FileNotFoundError",
     "evalue": "[Errno 2] No such file or directory: '/Users/34603/OneDrive/Escritorio/data/new_breeds.txt'",
     "output_type": "error",
     "traceback": [
      "\u001b[1;31m---------------------------------------------------------------------------\u001b[0m",
      "\u001b[1;31mFileNotFoundError\u001b[0m                         Traceback (most recent call last)",
      "\u001b[1;32mc:\\Users\\34603\\Documentos_clases\\GitHub Desckot\\ONLINE_DS_THEBRIDGE_BRYAN_TRABAJOS\\Python básico.ipynb Cell 565\u001b[0m line \u001b[0;36m2\n\u001b[0;32m      <a href='vscode-notebook-cell:/c%3A/Users/34603/Documentos_clases/GitHub%20Desckot/ONLINE_DS_THEBRIDGE_BRYAN_TRABAJOS/Python%20b%C3%A1sico.ipynb#Z1434sZmlsZQ%3D%3D?line=0'>1</a>\u001b[0m \u001b[39m#Para escribir lo hacemos con \"w\"\u001b[39;00m\n\u001b[1;32m----> <a href='vscode-notebook-cell:/c%3A/Users/34603/Documentos_clases/GitHub%20Desckot/ONLINE_DS_THEBRIDGE_BRYAN_TRABAJOS/Python%20b%C3%A1sico.ipynb#Z1434sZmlsZQ%3D%3D?line=1'>2</a>\u001b[0m \u001b[39mwith\u001b[39;00m \u001b[39mopen\u001b[39;49m (\u001b[39m\"\u001b[39;49m\u001b[39m/Users/34603/OneDrive/Escritorio/data/new_breeds.txt\u001b[39;49m\u001b[39m\"\u001b[39;49m,\u001b[39m\"\u001b[39;49m\u001b[39mr\u001b[39;49m\u001b[39m\"\u001b[39;49m)\u001b[39mas\u001b[39;00m g:\n\u001b[0;32m      <a href='vscode-notebook-cell:/c%3A/Users/34603/Documentos_clases/GitHub%20Desckot/ONLINE_DS_THEBRIDGE_BRYAN_TRABAJOS/Python%20b%C3%A1sico.ipynb#Z1434sZmlsZQ%3D%3D?line=2'>3</a>\u001b[0m     \u001b[39mfor\u001b[39;00m lineas \u001b[39min\u001b[39;00m nuevo_datos:\n\u001b[0;32m      <a href='vscode-notebook-cell:/c%3A/Users/34603/Documentos_clases/GitHub%20Desckot/ONLINE_DS_THEBRIDGE_BRYAN_TRABAJOS/Python%20b%C3%A1sico.ipynb#Z1434sZmlsZQ%3D%3D?line=3'>4</a>\u001b[0m         g\u001b[39m.\u001b[39mwrite(linea \u001b[39m+\u001b[39m \u001b[39m\"\u001b[39m\u001b[39m\\n\u001b[39;00m\u001b[39m\"\u001b[39m)\n",
      "File \u001b[1;32mc:\\Users\\34603\\AppData\\Local\\Programs\\Python\\Python310\\lib\\site-packages\\IPython\\core\\interactiveshell.py:286\u001b[0m, in \u001b[0;36m_modified_open\u001b[1;34m(file, *args, **kwargs)\u001b[0m\n\u001b[0;32m    279\u001b[0m \u001b[39mif\u001b[39;00m file \u001b[39min\u001b[39;00m {\u001b[39m0\u001b[39m, \u001b[39m1\u001b[39m, \u001b[39m2\u001b[39m}:\n\u001b[0;32m    280\u001b[0m     \u001b[39mraise\u001b[39;00m \u001b[39mValueError\u001b[39;00m(\n\u001b[0;32m    281\u001b[0m         \u001b[39mf\u001b[39m\u001b[39m\"\u001b[39m\u001b[39mIPython won\u001b[39m\u001b[39m'\u001b[39m\u001b[39mt let you open fd=\u001b[39m\u001b[39m{\u001b[39;00mfile\u001b[39m}\u001b[39;00m\u001b[39m by default \u001b[39m\u001b[39m\"\u001b[39m\n\u001b[0;32m    282\u001b[0m         \u001b[39m\"\u001b[39m\u001b[39mas it is likely to crash IPython. If you know what you are doing, \u001b[39m\u001b[39m\"\u001b[39m\n\u001b[0;32m    283\u001b[0m         \u001b[39m\"\u001b[39m\u001b[39myou can use builtins\u001b[39m\u001b[39m'\u001b[39m\u001b[39m open.\u001b[39m\u001b[39m\"\u001b[39m\n\u001b[0;32m    284\u001b[0m     )\n\u001b[1;32m--> 286\u001b[0m \u001b[39mreturn\u001b[39;00m io_open(file, \u001b[39m*\u001b[39margs, \u001b[39m*\u001b[39m\u001b[39m*\u001b[39mkwargs)\n",
      "\u001b[1;31mFileNotFoundError\u001b[0m: [Errno 2] No such file or directory: '/Users/34603/OneDrive/Escritorio/data/new_breeds.txt'"
     ]
    }
   ],
   "source": [
    "#Para escribir lo hacemos con \"w\"\n",
    "with open (\"/Users/34603/OneDrive/Escritorio/data/new_breeds.txt\",\"r\")as g:\n",
    "    for lineas in nuevo_datos:\n",
    "        g.write(linea + \"\\n\")\n",
    "with open(\"/Users/34603/OneDrive/Escritorio/data/new_breeds.txt\",\"r\")as f:\n",
    "    for lineas in f:\n",
    "        print(lineas)\n"
   ]
  },
  {
   "cell_type": "markdown",
   "metadata": {},
   "source": [
    "#### Ficheros CSV\n",
    "Leerlos y escribirlos con algunos parametros más:\n",
    "son el estandar de la industria para leer o escribir en tablas en segunda dimensión \n",
    "Es el archivo más común usado para guardar tabuladores porque ocupa poco \n"
   ]
  },
  {
   "cell_type": "code",
   "execution_count": 26,
   "metadata": {},
   "outputs": [
    {
     "ename": "ValueError",
     "evalue": "I/O operation on closed file.",
     "output_type": "error",
     "traceback": [
      "\u001b[1;31m---------------------------------------------------------------------------\u001b[0m",
      "\u001b[1;31mValueError\u001b[0m                                Traceback (most recent call last)",
      "\u001b[1;32mc:\\Users\\34603\\Documentos_clases\\GitHub Desckot\\ONLINE_DS_THEBRIDGE_BRYAN_TRABAJOS\\Python básico.ipynb Cell 567\u001b[0m line \u001b[0;36m2\n\u001b[0;32m      <a href='vscode-notebook-cell:/c%3A/Users/34603/Documentos_clases/GitHub%20Desckot/ONLINE_DS_THEBRIDGE_BRYAN_TRABAJOS/Python%20b%C3%A1sico.ipynb#Z1436sZmlsZQ%3D%3D?line=0'>1</a>\u001b[0m \u001b[39mwith\u001b[39;00m \u001b[39mopen\u001b[39m (\u001b[39m\"\u001b[39m\u001b[39m/Users/34603/OneDrive/Escritorio/data/df_liga_2019.csv\u001b[39m\u001b[39m\"\u001b[39m,\u001b[39m\"\u001b[39m\u001b[39mr\u001b[39m\u001b[39m\"\u001b[39m,encoding \u001b[39m=\u001b[39m\u001b[39m\"\u001b[39m\u001b[39mutf8\u001b[39m\u001b[39m\"\u001b[39m):\n\u001b[1;32m----> <a href='vscode-notebook-cell:/c%3A/Users/34603/Documentos_clases/GitHub%20Desckot/ONLINE_DS_THEBRIDGE_BRYAN_TRABAJOS/Python%20b%C3%A1sico.ipynb#Z1436sZmlsZQ%3D%3D?line=1'>2</a>\u001b[0m     datos\u001b[39m=\u001b[39m[linea\u001b[39m.\u001b[39mreplace(\u001b[39m\"\u001b[39m\u001b[39m\\n\u001b[39;00m\u001b[39m\"\u001b[39m,\u001b[39m\"\u001b[39m\u001b[39m\"\u001b[39m)\u001b[39mfor\u001b[39;00m linea \u001b[39min\u001b[39;00m f]\n",
      "\u001b[1;31mValueError\u001b[0m: I/O operation on closed file."
     ]
    }
   ],
   "source": [
    "with open (\"/Users/34603/OneDrive/Escritorio/data/df_liga_2019.csv\",\"r\",encoding =\"utf8\"):\n",
    "    datos=[linea.replace(\"\\n\",\"\")for linea in f]\n",
    "\n"
   ]
  },
  {
   "cell_type": "code",
   "execution_count": null,
   "metadata": {},
   "outputs": [],
   "source": []
  }
 ],
 "metadata": {
  "kernelspec": {
   "display_name": "Python 3 (ipykernel)",
   "language": "python",
   "name": "python3"
  },
  "language_info": {
   "codemirror_mode": {
    "name": "ipython",
    "version": 3
   },
   "file_extension": ".py",
   "mimetype": "text/x-python",
   "name": "python",
   "nbconvert_exporter": "python",
   "pygments_lexer": "ipython3",
   "version": "3.10.11"
  }
 },
 "nbformat": 4,
 "nbformat_minor": 5
}
