{
 "cells": [
  {
   "cell_type": "markdown",
   "id": "c69a3231-ccf2-43ac-9f78-245466cb6103",
   "metadata": {},
   "source": [
    "# Asignación de Variables"
   ]
  },
  {
   "cell_type": "code",
   "execution_count": 1,
   "id": "66aadb74-8740-4424-a6e9-d1c5fe3d8488",
   "metadata": {},
   "outputs": [],
   "source": [
    "Ingresos = 1000\n",
    "Gastos = 400"
   ]
  },
  {
   "cell_type": "code",
   "execution_count": 5,
   "id": "6ee5c664-c3d9-4fa8-881e-389c5433a7ba",
   "metadata": {},
   "outputs": [
    {
     "data": {
      "text/plain": [
       "1000"
      ]
     },
     "execution_count": 5,
     "metadata": {},
     "output_type": "execute_result"
    }
   ],
   "source": [
    "Ingresos"
   ]
  },
  {
   "cell_type": "code",
   "execution_count": 9,
   "id": "a18aebee-cd54-4c09-a0e6-863f615be993",
   "metadata": {},
   "outputs": [
    {
     "name": "stdout",
     "output_type": "stream",
     "text": [
      "1000\n",
      "400\n"
     ]
    }
   ],
   "source": [
    "print(Ingresos)\n",
    "print(Gastos)"
   ]
  },
  {
   "cell_type": "code",
   "execution_count": 10,
   "id": "db9eec34-e010-4b53-8743-2f19638ec045",
   "metadata": {},
   "outputs": [],
   "source": [
    "margen = Ingresos - Gastos"
   ]
  },
  {
   "cell_type": "code",
   "execution_count": 11,
   "id": "26482976-af84-45fa-9c78-db632d8bafc6",
   "metadata": {},
   "outputs": [
    {
     "data": {
      "text/plain": [
       "600"
      ]
     },
     "execution_count": 11,
     "metadata": {},
     "output_type": "execute_result"
    }
   ],
   "source": [
    "margen"
   ]
  },
  {
   "cell_type": "code",
   "execution_count": 13,
   "id": "2fe34501-dc1f-4055-80c9-e4bfcd59372d",
   "metadata": {},
   "outputs": [
    {
     "name": "stdout",
     "output_type": "stream",
     "text": [
      "600\n"
     ]
    }
   ],
   "source": [
    "print(margen)"
   ]
  },
  {
   "cell_type": "code",
   "execution_count": 16,
   "id": "560a3c95-0a0b-4fea-b521-64579a6ef5ac",
   "metadata": {},
   "outputs": [
    {
     "name": "stdout",
     "output_type": "stream",
     "text": [
      "los ingresos han sido altos\n",
      "los ingresos han sido altos\n"
     ]
    }
   ],
   "source": [
    "ingresos_text = \"los ingresos han sido altos\"\n",
    "ingresos_alt = 'los ingresos han sido altos'\n",
    "print(ingresos_text)\n",
    "print(ingresos_alt)"
   ]
  },
  {
   "cell_type": "code",
   "execution_count": 19,
   "id": "6aad1f86-a3f3-4c0d-823f-0da2543a619c",
   "metadata": {
    "scrolled": true
   },
   "outputs": [
    {
     "name": "stdout",
     "output_type": "stream",
     "text": [
      "['False', 'None', 'True', 'and', 'as', 'assert', 'async', 'await', 'break', 'class', 'continue', 'def', 'del', 'elif', 'else', 'except', 'finally', 'for', 'from', 'global', 'if', 'import', 'in', 'is', 'lambda', 'nonlocal', 'not', 'or', 'pass', 'raise', 'return', 'try', 'while', 'with', 'yield']\n"
     ]
    }
   ],
   "source": [
    " import keyword\n",
    "print(keyword.kwlist)"
   ]
  },
  {
   "cell_type": "markdown",
   "id": "942c7078-a319-4ff6-883b-2ddc8110e196",
   "metadata": {},
   "source": [
    "`print`"
   ]
  },
  {
   "cell_type": "code",
   "execution_count": 21,
   "id": "f2937704-52dd-46f4-8efb-e7011c81084c",
   "metadata": {},
   "outputs": [],
   "source": [
    "ingresos = 1000\n",
    "gastos = 100\n",
    "beneficios = ingresos - gastos\n"
   ]
  },
  {
   "cell_type": "code",
   "execution_count": 24,
   "id": "a939358a-b237-4f8f-b90d-fa986630e14d",
   "metadata": {},
   "outputs": [
    {
     "name": "stdout",
     "output_type": "stream",
     "text": [
      "1000\n",
      "100\n",
      "los beneficios han sido de:\n",
      "900\n"
     ]
    }
   ],
   "source": [
    "print(ingresos)\n",
    "print(gastos)\n",
    "print(\"los beneficios han sido de:\")\n",
    "print(beneficios)"
   ]
  },
  {
   "cell_type": "code",
   "execution_count": 26,
   "id": "266e7e55-87b5-4f67-9d99-746a88264687",
   "metadata": {},
   "outputs": [
    {
     "name": "stdout",
     "output_type": "stream",
     "text": [
      "los beneficios de junio han sido 900 millones\n"
     ]
    }
   ],
   "source": [
    "mes = \"junio\"\n",
    "print(\"los beneficios de %s han sido %s millones\" %(mes,beneficios))"
   ]
  },
  {
   "cell_type": "code",
   "execution_count": 29,
   "id": "5bc8d380-9af0-47ff-8076-8dde7e526f23",
   "metadata": {},
   "outputs": [
    {
     "name": "stdout",
     "output_type": "stream",
     "text": [
      "los beneficios de 900 han sido junio millones\n"
     ]
    }
   ],
   "source": [
    "print(\"los beneficios de %s han sido %s millones\" %(beneficios,mes))\n"
   ]
  },
  {
   "cell_type": "markdown",
   "id": "94bc40b5-ca35-4925-81d5-b1c2daa08947",
   "metadata": {},
   "source": [
    "# Comentarios y comentarios multilineas"
   ]
  },
  {
   "cell_type": "code",
   "execution_count": 31,
   "id": "ef0a3a5f-ffa6-4e21-b07b-03517c7cf67d",
   "metadata": {},
   "outputs": [
    {
     "name": "stdout",
     "output_type": "stream",
     "text": [
      "esto si lo ejecuta\n"
     ]
    }
   ],
   "source": [
    "# comentario en linea\n",
    "# print(\"esto lo ignora\")\n",
    "print(\"esto si lo ejecuta\")"
   ]
  },
  {
   "cell_type": "code",
   "execution_count": 32,
   "id": "711906fd-0e56-44a0-9d35-21114f8e276f",
   "metadata": {},
   "outputs": [
    {
     "name": "stdout",
     "output_type": "stream",
     "text": [
      "fin del programa\n"
     ]
    }
   ],
   "source": [
    "print(\"fin del programa\")\n",
    "# \"esta linea indica que hemos terminado\""
   ]
  },
  {
   "cell_type": "code",
   "execution_count": 34,
   "id": "988e0b88-53fa-43ff-8132-f6c3091dd608",
   "metadata": {},
   "outputs": [
    {
     "data": {
      "text/plain": [
       "'\\ncomentario multilinea\\npuedo usar linea sin repetir el #\\n'"
      ]
     },
     "execution_count": 34,
     "metadata": {},
     "output_type": "execute_result"
    }
   ],
   "source": [
    "'''\n",
    "comentario multilinea\n",
    "puedo usar linea sin repetir el #\n",
    "'''\n",
    "\n"
   ]
  },
  {
   "cell_type": "code",
   "execution_count": 35,
   "id": "7eb14fc5-0d4d-4816-8314-a63206a544e9",
   "metadata": {},
   "outputs": [
    {
     "ename": "NameError",
     "evalue": "name 'ventas_jun' is not defined",
     "output_type": "error",
     "traceback": [
      "\u001b[1;31m---------------------------------------------------------------------------\u001b[0m",
      "\u001b[1;31mNameError\u001b[0m                                 Traceback (most recent call last)",
      "Cell \u001b[1;32mIn[35], line 1\u001b[0m\n\u001b[1;32m----> 1\u001b[0m ventas_jun_jul \u001b[38;5;241m=\u001b[39m \u001b[43mventas_jun\u001b[49m \u001b[38;5;241m+\u001b[39m ventas_jul\n\u001b[0;32m      3\u001b[0m ventas_jun \u001b[38;5;241m=\u001b[39m \u001b[38;5;241m100\u001b[39m\n\u001b[0;32m      4\u001b[0m ventas_jul \u001b[38;5;241m=\u001b[39m \u001b[38;5;241m150\u001b[39m\n",
      "\u001b[1;31mNameError\u001b[0m: name 'ventas_jun' is not defined"
     ]
    }
   ],
   "source": [
    "ventas_jun_jul = ventas_jun + ventas_jul\n",
    "\n",
    "ventas_jun = 100\n",
    "ventas_jul = 150\n"
   ]
  },
  {
   "cell_type": "code",
   "execution_count": 36,
   "id": "937d0442-5eeb-46cd-b66e-aae43d186d3c",
   "metadata": {},
   "outputs": [
    {
     "ename": "NameError",
     "evalue": "name 'ventas_jun' is not defined",
     "output_type": "error",
     "traceback": [
      "\u001b[1;31m---------------------------------------------------------------------------\u001b[0m",
      "\u001b[1;31mNameError\u001b[0m                                 Traceback (most recent call last)",
      "Cell \u001b[1;32mIn[36], line 1\u001b[0m\n\u001b[1;32m----> 1\u001b[0m \u001b[43mventas_jun\u001b[49m\n",
      "\u001b[1;31mNameError\u001b[0m: name 'ventas_jun' is not defined"
     ]
    }
   ],
   "source": [
    "ventas_jun"
   ]
  },
  {
   "cell_type": "code",
   "execution_count": 37,
   "id": "7c9c9350-32a9-4cae-bd65-e545c53a505a",
   "metadata": {},
   "outputs": [],
   "source": [
    "ventas_jun = 100\n",
    "ventas_jul = 150"
   ]
  },
  {
   "cell_type": "code",
   "execution_count": 39,
   "id": "f6830092-b6fb-4128-ba71-ce248482dd2e",
   "metadata": {},
   "outputs": [],
   "source": [
    "ventas_jun_jul = ventas_jun + ventas_jul "
   ]
  },
  {
   "cell_type": "code",
   "execution_count": 40,
   "id": "fb47c01e-5d91-49f1-861d-994726eb4615",
   "metadata": {},
   "outputs": [
    {
     "data": {
      "text/plain": [
       "250"
      ]
     },
     "execution_count": 40,
     "metadata": {},
     "output_type": "execute_result"
    }
   ],
   "source": [
    "ventas_jun_jul"
   ]
  },
  {
   "cell_type": "code",
   "execution_count": 42,
   "id": "5c28252f-61e7-4ff0-ba31-19f073878f2e",
   "metadata": {},
   "outputs": [
    {
     "name": "stdout",
     "output_type": "stream",
     "text": [
      "las ventas de junio a julio son ventas son 250\n"
     ]
    }
   ],
   "source": [
    "print(\"las ventas de junio a julio son ventas son\", ventas_jun_jul)"
   ]
  },
  {
   "cell_type": "code",
   "execution_count": 43,
   "id": "cea69c8c-1c78-494c-9628-38ac5d9c6ac6",
   "metadata": {},
   "outputs": [],
   "source": [
    "altura = 180; peso = 75"
   ]
  },
  {
   "cell_type": "code",
   "execution_count": 44,
   "id": "ab2768df-7b8b-4c97-8a7a-9a29243e6fd8",
   "metadata": {},
   "outputs": [],
   "source": [
    " x, y, z = 12, 23, 45"
   ]
  },
  {
   "cell_type": "code",
   "execution_count": 45,
   "id": "fbf4e519-4a78-41c6-a80d-6f4c2f6252b4",
   "metadata": {},
   "outputs": [
    {
     "name": "stdout",
     "output_type": "stream",
     "text": [
      "12\n"
     ]
    }
   ],
   "source": [
    "print (x)"
   ]
  },
  {
   "cell_type": "code",
   "execution_count": 47,
   "id": "98a743a3-aa7a-46b6-9ddc-dfba0dce9a7c",
   "metadata": {},
   "outputs": [
    {
     "ename": "NameError",
     "evalue": "name 'altura' is not defined",
     "output_type": "error",
     "traceback": [
      "\u001b[1;31m---------------------------------------------------------------------------\u001b[0m",
      "\u001b[1;31mNameError\u001b[0m                                 Traceback (most recent call last)",
      "Cell \u001b[1;32mIn[47], line 3\u001b[0m\n\u001b[0;32m      1\u001b[0m altura \u001b[38;5;241m=\u001b[39m \u001b[38;5;241m1.85\u001b[39m\n\u001b[0;32m      2\u001b[0m \u001b[38;5;28;01mdel\u001b[39;00m altura\n\u001b[1;32m----> 3\u001b[0m \u001b[38;5;28mprint\u001b[39m(\u001b[43maltura\u001b[49m)\n",
      "\u001b[1;31mNameError\u001b[0m: name 'altura' is not defined"
     ]
    }
   ],
   "source": [
    "altura = 1.85\n",
    "del altura\n",
    "print(altura)"
   ]
  },
  {
   "cell_type": "markdown",
   "id": "8637941a-0b2a-4467-b984-50f59867fd82",
   "metadata": {},
   "source": [
    "# Tipo de Datos"
   ]
  },
  {
   "cell_type": "markdown",
   "id": "1f4a92a3-ebe8-412a-af99-967610076b03",
   "metadata": {},
   "source": [
    "## variables numéricas"
   ]
  },
  {
   "cell_type": "code",
   "execution_count": 48,
   "id": "c5373c2b-752f-4225-aaff-a727754236b5",
   "metadata": {},
   "outputs": [
    {
     "data": {
      "text/plain": [
       "int"
      ]
     },
     "execution_count": 48,
     "metadata": {},
     "output_type": "execute_result"
    }
   ],
   "source": [
    "numero = 22\n",
    "type (numero)"
   ]
  },
  {
   "cell_type": "code",
   "execution_count": 49,
   "id": "26fd39d0-1839-4a72-8f75-6cc4b29dfc91",
   "metadata": {},
   "outputs": [
    {
     "data": {
      "text/plain": [
       "float"
      ]
     },
     "execution_count": 49,
     "metadata": {},
     "output_type": "execute_result"
    }
   ],
   "source": [
    "numero_real = 22.0\n",
    "type (numero_real)"
   ]
  },
  {
   "cell_type": "code",
   "execution_count": 51,
   "id": "19b5f316-a7d6-47b5-913d-9f64049bdf8c",
   "metadata": {},
   "outputs": [
    {
     "data": {
      "text/plain": [
       "float"
      ]
     },
     "execution_count": 51,
     "metadata": {},
     "output_type": "execute_result"
    }
   ],
   "source": [
    "numero_real_decimales = 22.45123\n",
    "type (numero_real_decimales)"
   ]
  },
  {
   "cell_type": "code",
   "execution_count": 52,
   "id": "bdbe2a38-9f81-41d9-b2bc-e0ea00dda3a0",
   "metadata": {},
   "outputs": [
    {
     "data": {
      "text/plain": [
       "22"
      ]
     },
     "execution_count": 52,
     "metadata": {},
     "output_type": "execute_result"
    }
   ],
   "source": [
    "12 + 10"
   ]
  },
  {
   "cell_type": "code",
   "execution_count": 53,
   "id": "563d22d3-64f5-41e4-96ca-4d68aed13f76",
   "metadata": {},
   "outputs": [
    {
     "data": {
      "text/plain": [
       "-2"
      ]
     },
     "execution_count": 53,
     "metadata": {},
     "output_type": "execute_result"
    }
   ],
   "source": [
    "10 - 12"
   ]
  },
  {
   "cell_type": "code",
   "execution_count": 54,
   "id": "3aebb6b8-4360-45df-9df5-0e2b10d5c0c4",
   "metadata": {},
   "outputs": [
    {
     "data": {
      "text/plain": [
       "1000000"
      ]
     },
     "execution_count": 54,
     "metadata": {},
     "output_type": "execute_result"
    }
   ],
   "source": [
    "100** 3"
   ]
  },
  {
   "cell_type": "code",
   "execution_count": 55,
   "id": "721ac50b-48b3-44ed-ae67-f0398d4c0cd0",
   "metadata": {},
   "outputs": [
    {
     "data": {
      "text/plain": [
       "300"
      ]
     },
     "execution_count": 55,
     "metadata": {},
     "output_type": "execute_result"
    }
   ],
   "source": [
    "100 * 3"
   ]
  },
  {
   "cell_type": "code",
   "execution_count": 62,
   "id": "1cd03b3b-8f99-4765-927d-5a8e16a77e3b",
   "metadata": {},
   "outputs": [
    {
     "name": "stdout",
     "output_type": "stream",
     "text": [
      "resto division\n",
      "3.3333333333333335\n",
      "3\n",
      "1\n",
      "3\n"
     ]
    }
   ],
   "source": [
    "print(\"resto division\")\n",
    "print(10 / 3) \n",
    "print(int(10/3))\n",
    "print(10%3)\n",
    "print(10//3)"
   ]
  },
  {
   "cell_type": "code",
   "execution_count": 68,
   "id": "b9c6c899-39a0-42d4-88ff-d4175f767619",
   "metadata": {},
   "outputs": [
    {
     "name": "stdout",
     "output_type": "stream",
     "text": [
      "¿es 23205021 par?\n",
      "el resto es 1\n",
      "es impar\n"
     ]
    }
   ],
   "source": [
    "n = 23205021\n",
    "print(\"¿es\", n, \"par?\")\n",
    "resto = n % 2\n",
    "print(\"el resto es\", resto)\n",
    "if resto == 0:\n",
    "    print(\"es par\")\n",
    "else:\n",
    "    print(\"es impar\")"
   ]
  },
  {
   "cell_type": "markdown",
   "id": "f3d7059a-17a8-4a28-aeb1-c7029f28b49a",
   "metadata": {},
   "source": [
    "## Strings"
   ]
  },
  {
   "cell_type": "code",
   "execution_count": 71,
   "id": "722bca4e-ba08-43eb-99e4-40976aa89814",
   "metadata": {},
   "outputs": [
    {
     "name": "stdout",
     "output_type": "stream",
     "text": [
      "string con 'simples'\n",
      "strings con \"dobles\"\n",
      "string con \"simples o dobles\"\n"
     ]
    }
   ],
   "source": [
    "print(\"string con 'simples'\")\n",
    "print('strings con \"dobles\"')\n",
    "print(\"string con \\\"simples o dobles\\\"\")"
   ]
  },
  {
   "cell_type": "code",
   "execution_count": 72,
   "id": "69e5a719-ca64-446f-8bd8-33f88a60b630",
   "metadata": {},
   "outputs": [
    {
     "name": "stdout",
     "output_type": "stream",
     "text": [
      "primera linea\n",
      " segunda linea\n",
      "\tTercera linea, tabulada\n"
     ]
    }
   ],
   "source": [
    "print(\"primera linea\\n segunda linea\\n\\tTercera linea, tabulada\")"
   ]
  },
  {
   "cell_type": "code",
   "execution_count": 73,
   "id": "17d93b82-14df-40b5-8148-98deac9384d5",
   "metadata": {},
   "outputs": [
    {
     "name": "stdout",
     "output_type": "stream",
     "text": [
      "primera linea\n",
      "Segunda linea\n",
      "\tTercera linea, tabulada\n"
     ]
    }
   ],
   "source": [
    "mi_string = \"primera linea\\nSegunda linea\\n\\tTercera linea, tabulada\"\n",
    "print(mi_string)"
   ]
  },
  {
   "cell_type": "code",
   "execution_count": 78,
   "id": "b1b28ed3-6a63-4937-9459-9abf84b7cdeb",
   "metadata": {},
   "outputs": [
    {
     "name": "stdout",
     "output_type": "stream",
     "text": [
      "antonia scott\n"
     ]
    }
   ],
   "source": [
    "nombre = \"antonia\"\n",
    "apellido = \"scott\"\n",
    "\n",
    "nombre_apellido = nombre + \" \" +apellido\n",
    "print (nombre_apellido)"
   ]
  },
  {
   "cell_type": "code",
   "execution_count": 80,
   "id": "8c2f8990-643d-497c-abdf-9373f8ae19ca",
   "metadata": {},
   "outputs": [
    {
     "ename": "TypeError",
     "evalue": "can only concatenate str (not \"int\") to str",
     "output_type": "error",
     "traceback": [
      "\u001b[1;31m---------------------------------------------------------------------------\u001b[0m",
      "\u001b[1;31mTypeError\u001b[0m                                 Traceback (most recent call last)",
      "Cell \u001b[1;32mIn[80], line 3\u001b[0m\n\u001b[0;32m      1\u001b[0m esto_es_una_prueba \u001b[38;5;241m=\u001b[39m \u001b[38;5;124m\"\u001b[39m\u001b[38;5;124mpues eso, que estamos jugando\u001b[39m\u001b[38;5;124m\"\u001b[39m\n\u001b[0;32m      2\u001b[0m un_entero \u001b[38;5;241m=\u001b[39m \u001b[38;5;241m100\u001b[39m\n\u001b[1;32m----> 3\u001b[0m \u001b[38;5;28mprint\u001b[39m(\u001b[43mesto_es_una_prueba\u001b[49m\u001b[43m \u001b[49m\u001b[38;5;241;43m+\u001b[39;49m\u001b[43m \u001b[49m\u001b[43mun_entero\u001b[49m)\n",
      "\u001b[1;31mTypeError\u001b[0m: can only concatenate str (not \"int\") to str"
     ]
    }
   ],
   "source": [
    "esto_es_una_prueba = \"pues eso, que estamos jugando\"\n",
    "un_entero = 100\n",
    "print(esto_es_una_prueba + un_entero)"
   ]
  },
  {
   "cell_type": "markdown",
   "id": "77e3412a-c0a9-4063-ba6b-baa304838819",
   "metadata": {},
   "source": [
    "## Booleano"
   ]
  },
  {
   "cell_type": "code",
   "execution_count": 83,
   "id": "c2e64472-edef-4630-943b-8461fd693fba",
   "metadata": {},
   "outputs": [
    {
     "data": {
      "text/plain": [
       "bool"
      ]
     },
     "execution_count": 83,
     "metadata": {},
     "output_type": "execute_result"
    }
   ],
   "source": [
    "ya_se_de_ptython = False\n",
    "type(ya_se_de_ptython)"
   ]
  },
  {
   "cell_type": "code",
   "execution_count": 85,
   "id": "2fce4c5c-8f35-479c-9224-9ccbb7100d88",
   "metadata": {},
   "outputs": [
    {
     "data": {
      "text/plain": [
       "False"
      ]
     },
     "execution_count": 85,
     "metadata": {},
     "output_type": "execute_result"
    }
   ],
   "source": [
    "dinerito = 5\n",
    "dinerito >= 15"
   ]
  },
  {
   "cell_type": "code",
   "execution_count": 88,
   "id": "bb92ae35-0398-46e2-859d-674ae8ce8f8d",
   "metadata": {},
   "outputs": [
    {
     "name": "stdout",
     "output_type": "stream",
     "text": [
      "True\n",
      "<class 'bool'>\n"
     ]
    }
   ],
   "source": [
    "dinerito = 15\n",
    "condi_1 = dinerito >= 15\n",
    "print(condi_1)\n",
    "print(type(condi_1))"
   ]
  },
  {
   "cell_type": "markdown",
   "id": "48d29166-b71b-4efe-9d25-20d07399fddb",
   "metadata": {},
   "source": [
    "## Conversión de tipos"
   ]
  },
  {
   "cell_type": "code",
   "execution_count": 90,
   "id": "2a33fb20-7aa8-4c1a-a180-22b46fd1e579",
   "metadata": {},
   "outputs": [
    {
     "name": "stdout",
     "output_type": "stream",
     "text": [
      "<class 'float'>\n",
      "24\n",
      "<class 'int'>\n"
     ]
    }
   ],
   "source": [
    "num_real = 24.69\n",
    "print(type(num_real))\n",
    "\n",
    "num_ent = int(num_real)\n",
    "print(num_ent)\n",
    "print(type(num_ent))"
   ]
  },
  {
   "cell_type": "code",
   "execution_count": 91,
   "id": "87ad047e-ee71-4100-ac72-ff99cbcc97ae",
   "metadata": {},
   "outputs": [],
   "source": [
    "num_real = 24.686\n",
    "num_redondeado = round(num_real,2)"
   ]
  },
  {
   "cell_type": "code",
   "execution_count": 92,
   "id": "b705dac0-9bbf-4024-8afb-47f1b536613b",
   "metadata": {},
   "outputs": [
    {
     "data": {
      "text/plain": [
       "24.69"
      ]
     },
     "execution_count": 92,
     "metadata": {},
     "output_type": "execute_result"
    }
   ],
   "source": [
    "num_redondeado"
   ]
  },
  {
   "cell_type": "code",
   "execution_count": 93,
   "id": "2fec0d08-246c-4516-830a-510cc1db3b6a",
   "metadata": {},
   "outputs": [],
   "source": [
    "num_redondeado = 24.69\n",
    "num_convertido = round(num_redondeado, 0)"
   ]
  },
  {
   "cell_type": "code",
   "execution_count": 94,
   "id": "bcb0f70a-eb71-4fc3-a7fb-0543e6d59cf9",
   "metadata": {},
   "outputs": [
    {
     "name": "stdout",
     "output_type": "stream",
     "text": [
      "<class 'float'>\n"
     ]
    }
   ],
   "source": [
    "print(type(num_convertido))"
   ]
  },
  {
   "cell_type": "code",
   "execution_count": 95,
   "id": "1e77f1e2-bd8a-4e35-bada-10efc851fdc6",
   "metadata": {},
   "outputs": [
    {
     "data": {
      "text/plain": [
       "25.0"
      ]
     },
     "execution_count": 95,
     "metadata": {},
     "output_type": "execute_result"
    }
   ],
   "source": [
    "num_convertido"
   ]
  },
  {
   "cell_type": "code",
   "execution_count": 96,
   "id": "77b70e0b-d55d-4546-a23c-8b3a15e989f1",
   "metadata": {},
   "outputs": [
    {
     "name": "stdout",
     "output_type": "stream",
     "text": [
      "24.69 su tipo <class 'str'>\n",
      "12 su tipo <class 'str'>\n"
     ]
    }
   ],
   "source": [
    "num_real = 24.69\n",
    "num_entero = 12\n",
    "\n",
    "real_str = str(num_real)\n",
    "entero_str = str(num_entero)\n",
    "\n",
    "print(real_str, \"su tipo\", type(real_str))\n",
    "print(entero_str, \"su tipo\", type(entero_str))"
   ]
  },
  {
   "cell_type": "code",
   "execution_count": 97,
   "id": "71d79c5c-f36a-4f75-9cf2-f5c387959204",
   "metadata": {},
   "outputs": [
    {
     "name": "stdout",
     "output_type": "stream",
     "text": [
      "36.69\n",
      "24.6912\n"
     ]
    }
   ],
   "source": [
    "print(num_real + num_entero)\n",
    "print(real_str + entero_str)"
   ]
  },
  {
   "cell_type": "code",
   "execution_count": 99,
   "id": "c7411a73-78af-4f7e-909c-35345c0d5172",
   "metadata": {},
   "outputs": [
    {
     "name": "stdout",
     "output_type": "stream",
     "text": [
      "98\n"
     ]
    }
   ],
   "source": [
    "mi_entero = 98\n",
    "print(mi_entero)"
   ]
  },
  {
   "cell_type": "code",
   "execution_count": 104,
   "id": "0af354b6-ebbd-4461-a5a1-758260104195",
   "metadata": {},
   "outputs": [
    {
     "name": "stdout",
     "output_type": "stream",
     "text": [
      "98 <class 'str'>\n",
      "98 <class 'int'>\n"
     ]
    }
   ],
   "source": [
    "mi_cadena = \"98\"\n",
    "mi_entero = int(mi_cadena)\n",
    "print(mi_cadena, type(mi_cadena))\n",
    "print(mi_entero, type(mi_entero))\n",
    "\n",
    "mi_cadena_real = \"98.33\"\n",
    "mi_real = float(mi_cadena_real)"
   ]
  },
  {
   "cell_type": "code",
   "execution_count": 105,
   "id": "97df8cea-8558-405c-8518-df434c83397a",
   "metadata": {},
   "outputs": [
    {
     "name": "stdout",
     "output_type": "stream",
     "text": [
      "98.33 <class 'float'>\n"
     ]
    }
   ],
   "source": [
    "print(mi_real, type(mi_real))"
   ]
  },
  {
   "cell_type": "code",
   "execution_count": 106,
   "id": "367fa793-e302-47ec-bf5f-25aecfaa0f54",
   "metadata": {},
   "outputs": [
    {
     "name": "stdout",
     "output_type": "stream",
     "text": [
      "True <class 'bool'>\n"
     ]
    }
   ],
   "source": [
    "booleano = bool(123)\n",
    "print(booleano, type(booleano))"
   ]
  },
  {
   "cell_type": "code",
   "execution_count": 108,
   "id": "1f79f404-6f62-4b7f-ac34-7a57c0676ae0",
   "metadata": {},
   "outputs": [
    {
     "name": "stdout",
     "output_type": "stream",
     "text": [
      "False <class 'bool'>\n"
     ]
    }
   ],
   "source": [
    "booleano = bool(0)\n",
    "print(booleano, type(booleano))"
   ]
  },
  {
   "cell_type": "code",
   "execution_count": 110,
   "id": "9644ce96-72d3-425e-beec-85877bec930e",
   "metadata": {},
   "outputs": [
    {
     "name": "stdout",
     "output_type": "stream",
     "text": [
      "False <class 'bool'>\n",
      "True <class 'bool'>\n"
     ]
    }
   ],
   "source": [
    "booleano = bool(\"\")\n",
    "booleano_2 = bool(\"esto es otro tipo\")\n",
    "print(booleano, type(booleano))\n",
    "print(booleano_2, type(booleano_2))"
   ]
  },
  {
   "cell_type": "code",
   "execution_count": 111,
   "id": "fa4b71d7-04ad-444f-9dba-1ddc6f185df4",
   "metadata": {},
   "outputs": [],
   "source": [
    "bool_str = str(booleano)\n",
    "booleano_2 = str(booleano_2)"
   ]
  },
  {
   "cell_type": "code",
   "execution_count": 112,
   "id": "f3adc8c3-2837-48af-b690-93b6ba20f799",
   "metadata": {},
   "outputs": [
    {
     "data": {
      "text/plain": [
       "'False'"
      ]
     },
     "execution_count": 112,
     "metadata": {},
     "output_type": "execute_result"
    }
   ],
   "source": [
    "bool_str"
   ]
  },
  {
   "cell_type": "code",
   "execution_count": 113,
   "id": "1c29cabe-eba6-4572-a657-e20cffc1676f",
   "metadata": {},
   "outputs": [
    {
     "data": {
      "text/plain": [
       "'True'"
      ]
     },
     "execution_count": 113,
     "metadata": {},
     "output_type": "execute_result"
    }
   ],
   "source": [
    "booleano_2"
   ]
  },
  {
   "cell_type": "code",
   "execution_count": 1,
   "id": "6839dccc-5bdc-4f55-a5e2-26e28abc96a8",
   "metadata": {},
   "outputs": [
    {
     "ename": "ValueError",
     "evalue": "could not convert string to float: '68,24'",
     "output_type": "error",
     "traceback": [
      "\u001b[1;31m---------------------------------------------------------------------------\u001b[0m",
      "\u001b[1;31mValueError\u001b[0m                                Traceback (most recent call last)",
      "Cell \u001b[1;32mIn[1], line 2\u001b[0m\n\u001b[0;32m      1\u001b[0m real_str \u001b[38;5;241m=\u001b[39m \u001b[38;5;124m\"\u001b[39m\u001b[38;5;124m68,24\u001b[39m\u001b[38;5;124m\"\u001b[39m\n\u001b[1;32m----> 2\u001b[0m real \u001b[38;5;241m=\u001b[39m \u001b[38;5;28;43mfloat\u001b[39;49m\u001b[43m(\u001b[49m\u001b[43mreal_str\u001b[49m\u001b[43m)\u001b[49m\n",
      "\u001b[1;31mValueError\u001b[0m: could not convert string to float: '68,24'"
     ]
    }
   ],
   "source": [
    "real_str = \"68,24\"\n",
    "real = float(real_str)"
   ]
  },
  {
   "cell_type": "code",
   "execution_count": 2,
   "id": "3f970655-061d-4937-a702-8f39514dcbd4",
   "metadata": {},
   "outputs": [
    {
     "data": {
      "text/plain": [
       "'68.24'"
      ]
     },
     "execution_count": 2,
     "metadata": {},
     "output_type": "execute_result"
    }
   ],
   "source": [
    "real_str.replace(\",\",\".\")"
   ]
  },
  {
   "cell_type": "code",
   "execution_count": 3,
   "id": "7b69a184-916d-40e7-8303-0edeeeaf7dee",
   "metadata": {},
   "outputs": [
    {
     "name": "stdout",
     "output_type": "stream",
     "text": [
      "<class 'str'>\n"
     ]
    }
   ],
   "source": [
    "nuevo_str = real_str.replace(\",\",\".\")\n",
    "print(type(nuevo_str))"
   ]
  },
  {
   "cell_type": "code",
   "execution_count": 4,
   "id": "f42d0ec9-dc39-4f14-9951-783611edc270",
   "metadata": {},
   "outputs": [
    {
     "name": "stdout",
     "output_type": "stream",
     "text": [
      "<class 'str'>\n"
     ]
    }
   ],
   "source": [
    "real = float(nuevo_str)\n",
    "print(type(nuevo_str))"
   ]
  },
  {
   "cell_type": "markdown",
   "id": "c97ff125-b260-49a9-b41d-f9dc32ab0e4a",
   "metadata": {},
   "source": [
    "## Imput"
   ]
  },
  {
   "cell_type": "code",
   "execution_count": 6,
   "id": "6ba86ae8-c6ae-408e-9227-471c16c6d7ba",
   "metadata": {},
   "outputs": [
    {
     "name": "stdin",
     "output_type": "stream",
     "text": [
      "escribeme algo mi arma 98\n"
     ]
    }
   ],
   "source": [
    "primer_imput = input(\"escribeme algo mi arma\")"
   ]
  },
  {
   "cell_type": "code",
   "execution_count": 8,
   "id": "b28e47ac-978c-4c93-b7e1-23337cc5f78a",
   "metadata": {},
   "outputs": [
    {
     "data": {
      "text/plain": [
       "'98'"
      ]
     },
     "execution_count": 8,
     "metadata": {},
     "output_type": "execute_result"
    }
   ],
   "source": [
    "primer_imput"
   ]
  },
  {
   "cell_type": "code",
   "execution_count": 10,
   "id": "fb8607aa-89f8-4b82-91dc-39f342e61fd0",
   "metadata": {},
   "outputs": [
    {
     "name": "stdin",
     "output_type": "stream",
     "text": [
      "Como te llamas Bryan\n"
     ]
    },
    {
     "name": "stdout",
     "output_type": "stream",
     "text": [
      "encantado de conocerte Bryan\n"
     ]
    },
    {
     "name": "stdin",
     "output_type": "stream",
     "text": [
      "Y, ¿que te parece este magnifico video? genial\n"
     ]
    },
    {
     "name": "stdout",
     "output_type": "stream",
     "text": [
      "coincido\n"
     ]
    }
   ],
   "source": [
    "nombre = input(\"Como te llamas\")\n",
    "print(\"encantado de conocerte\", nombre)\n",
    "preferencias = input(\"Y, ¿que te parece este magnifico video?\")\n",
    "print(\"coincido\")\n",
    "                     "
   ]
  },
  {
   "cell_type": "markdown",
   "id": "70f02bef-3c4f-4b17-bfbe-2b45b0d03acc",
   "metadata": {},
   "source": [
    "## Nome"
   ]
  },
  {
   "cell_type": "code",
   "execution_count": 13,
   "id": "32b5277a-2ece-4a5b-b97b-4db7d5a6cc3e",
   "metadata": {},
   "outputs": [
    {
     "name": "stdout",
     "output_type": "stream",
     "text": [
      "None\n"
     ]
    }
   ],
   "source": [
    "print(None)"
   ]
  },
  {
   "cell_type": "code",
   "execution_count": 14,
   "id": "679fbc9d-3d70-4c26-9d52-4bb9b71ffbb0",
   "metadata": {},
   "outputs": [
    {
     "data": {
      "text/plain": [
       "False"
      ]
     },
     "execution_count": 14,
     "metadata": {},
     "output_type": "execute_result"
    }
   ],
   "source": [
    "\"\" == None"
   ]
  },
  {
   "cell_type": "code",
   "execution_count": 15,
   "id": "faa10cd3-ada9-4ff1-b66c-29d3e2ebda46",
   "metadata": {},
   "outputs": [
    {
     "data": {
      "text/plain": [
       "False"
      ]
     },
     "execution_count": 15,
     "metadata": {},
     "output_type": "execute_result"
    }
   ],
   "source": [
    "0 == None"
   ]
  },
  {
   "cell_type": "code",
   "execution_count": 16,
   "id": "886826b4-226c-4bd3-adf5-c21975acab8e",
   "metadata": {},
   "outputs": [
    {
     "data": {
      "text/plain": [
       "False"
      ]
     },
     "execution_count": 16,
     "metadata": {},
     "output_type": "execute_result"
    }
   ],
   "source": [
    "False == None"
   ]
  },
  {
   "cell_type": "code",
   "execution_count": 17,
   "id": "d2f864c7-1892-46bc-9b5f-129cb0e65109",
   "metadata": {},
   "outputs": [
    {
     "name": "stdout",
     "output_type": "stream",
     "text": [
      "The Zen of Python, by Tim Peters\n",
      "\n",
      "Beautiful is better than ugly.\n",
      "Explicit is better than implicit.\n",
      "Simple is better than complex.\n",
      "Complex is better than complicated.\n",
      "Flat is better than nested.\n",
      "Sparse is better than dense.\n",
      "Readability counts.\n",
      "Special cases aren't special enough to break the rules.\n",
      "Although practicality beats purity.\n",
      "Errors should never pass silently.\n",
      "Unless explicitly silenced.\n",
      "In the face of ambiguity, refuse the temptation to guess.\n",
      "There should be one-- and preferably only one --obvious way to do it.\n",
      "Although that way may not be obvious at first unless you're Dutch.\n",
      "Now is better than never.\n",
      "Although never is often better than *right* now.\n",
      "If the implementation is hard to explain, it's a bad idea.\n",
      "If the implementation is easy to explain, it may be a good idea.\n",
      "Namespaces are one honking great idea -- let's do more of those!\n"
     ]
    }
   ],
   "source": [
    "import this"
   ]
  },
  {
   "cell_type": "markdown",
   "id": "1fbf006f-a716-49c3-93da-c902a5b2190d",
   "metadata": {},
   "source": [
    "## Funciones Built in"
   ]
  },
  {
   "cell_type": "code",
   "execution_count": 4,
   "id": "b2801c44-86cc-446f-b5fc-f645ca1b7045",
   "metadata": {},
   "outputs": [
    {
     "name": "stdout",
     "output_type": "stream",
     "text": [
      "30\n",
      "85\n"
     ]
    }
   ],
   "source": [
    "# Función len\n",
    "print(len(\"esto es una cadena de longitud\"))\n",
    "# funcion Max\n",
    "print(max(1,12,85,36,25,78,33))"
   ]
  },
  {
   "cell_type": "code",
   "execution_count": 7,
   "id": "10869da0-07ff-4b4e-8401-b1543fa4b297",
   "metadata": {},
   "outputs": [
    {
     "name": "stdout",
     "output_type": "stream",
     "text": [
      "la longitud de esta cadena es**text**29**text**yno es un float_esto es otra linea\n"
     ]
    }
   ],
   "source": [
    "cadena = \"la longitud de esta cadena es\"\n",
    "print( cadena, len(cadena), \"y no es un float\", sep =\"**text**\", end = \"_\")\n",
    "print(\"esto es otra linea\")"
   ]
  },
  {
   "cell_type": "markdown",
   "id": "8a863447-a9de-4294-b389-565be5ca8a1c",
   "metadata": {},
   "source": [
    "## Métodos\n"
   ]
  },
  {
   "cell_type": "code",
   "execution_count": 25,
   "id": "0a85b898-dc4b-4839-80d2-c006585346f8",
   "metadata": {},
   "outputs": [
    {
     "name": "stdout",
     "output_type": "stream",
     "text": [
      "STRING EN MINUSCULA\n",
      "esto es un ejemplo diferente\n",
      "ejemplo diferente\n",
      "Ctring en minuCcula\n",
      "string en minuscula\n",
      "tring en minucula\n",
      "['esto', 'se', 'va', 'convertir', 'en', 'una', 'lista', 'de', 'strings']\n",
      "4\n"
     ]
    }
   ],
   "source": [
    "sting_ejemplo = \"string en minuscula\"\n",
    "\n",
    "# METODO PARA PONER TODO EN MAYUSCULA (UPPER)\n",
    "print(sting_ejemplo.upper())\n",
    "\n",
    "# metodo todo minuscila (LOWER) \n",
    "\n",
    "print(\"ESTO ES UN EJEMPLO DIFERENTE\".lower())\n",
    "string_2 = \"EJEMPLO DIFERENTE\"\n",
    "print(string_2.lower())\n",
    "\n",
    "# METODO PARA REEMPLAZAR CARACTER O VARIOS\n",
    "\n",
    "print(sting_ejemplo.replace(\"s\", \"C\"))\n",
    "print(sting_ejemplo.replace(\"mayuscula\" , \"minuscula\"))\n",
    "print(sting_ejemplo.replace(\"s\", \"\"))\n",
    "\n",
    "# METODO PARA CONVERTIR UN STRING EN LISTA\n",
    "print(\"esto se va convertir en una lista de strings\".split(\" \"))\n",
    "\n",
    "# METODO PARA CONOCER LA POSICION DENTRO DE UN STRING\n",
    "\n",
    "print(sting_ejemplo.index(\"n\"))"
   ]
  },
  {
   "cell_type": "markdown",
   "id": "c1941733-5054-4add-97ac-d5f787d1607a",
   "metadata": {},
   "source": [
    "## Listas"
   ]
  },
  {
   "cell_type": "code",
   "execution_count": 26,
   "id": "59d5c9b2-84c3-443c-a1e7-6a25b4070870",
   "metadata": {},
   "outputs": [
    {
     "name": "stdout",
     "output_type": "stream",
     "text": [
      "[1, 3, 5, 6]\n",
      "<class 'list'>\n"
     ]
    }
   ],
   "source": [
    "# lista de números\n",
    "numeros = [1, 3, 5, 6]\n",
    "print(numeros)\n",
    "print(type(numeros))"
   ]
  },
  {
   "cell_type": "code",
   "execution_count": 27,
   "id": "c650aa43-1817-4650-aaf8-b7db832cbabf",
   "metadata": {},
   "outputs": [
    {
     "name": "stdout",
     "output_type": "stream",
     "text": [
      "['esto', 'es', 'una', 'lista']\n"
     ]
    }
   ],
   "source": [
    "# lista de strings\n",
    "stringd = [\"esto\", \"es\", \"una\", \"lista\"]\n",
    "print(stringd)"
   ]
  },
  {
   "cell_type": "code",
   "execution_count": 28,
   "id": "1edd1e2a-5a7f-44b4-884a-e83ee80268fa",
   "metadata": {},
   "outputs": [
    {
     "name": "stdout",
     "output_type": "stream",
     "text": [
      "['esto es', 12, -3, -5, True, False, 'lista']\n"
     ]
    }
   ],
   "source": [
    "# lista de tipos mezclados\n",
    "\n",
    "mix = [\"esto es\", 12, -3, -5, True, False, \"lista\"]\n",
    "print(mix)\n"
   ]
  },
  {
   "cell_type": "code",
   "execution_count": 30,
   "id": "a1f2c916-5a38-4a5a-9b25-6e64ca94acc3",
   "metadata": {},
   "outputs": [
    {
     "data": {
      "text/plain": [
       "['esto es', 12, 15, [True, False, 15], 'ok']"
      ]
     },
     "execution_count": 30,
     "metadata": {},
     "output_type": "execute_result"
    }
   ],
   "source": [
    "# lista dentro de listas\n",
    "\n",
    "listas = [\"esto es\", 12, 15, [True, False, 15], \"ok\"]\n",
    "listas"
   ]
  },
  {
   "cell_type": "code",
   "execution_count": 31,
   "id": "7f1aefdb-6f43-4ca4-adfb-af14092c7673",
   "metadata": {},
   "outputs": [
    {
     "data": {
      "text/plain": [
       "5"
      ]
     },
     "execution_count": 31,
     "metadata": {},
     "output_type": "execute_result"
    }
   ],
   "source": [
    "len(listas)"
   ]
  },
  {
   "cell_type": "code",
   "execution_count": 34,
   "id": "b41c8ee4-2be8-4d77-a42d-22aa488a4d4d",
   "metadata": {},
   "outputs": [
    {
     "name": "stdout",
     "output_type": "stream",
     "text": [
      "['esto es', 12, -3, -5, True, False, 'lista', 'esto es', 12, 15, [True, False, 15], 'ok']\n",
      "<class 'list'>\n"
     ]
    }
   ],
   "source": [
    "concatenacion = mix + listas\n",
    "print(concatenacion)\n",
    "print(type(concatenacion))"
   ]
  },
  {
   "cell_type": "code",
   "execution_count": 35,
   "id": "504e9edc-71b7-40d1-9ba7-3d14d3815596",
   "metadata": {},
   "outputs": [
    {
     "name": "stdout",
     "output_type": "stream",
     "text": [
      "esto\n",
      "nuevo\n",
      "32\n"
     ]
    }
   ],
   "source": [
    "lista_ejemplo = [\"esto\", 2, 32, \"patata\", \"nuevo\"]\n",
    "print(lista_ejemplo[0])\n",
    "print(lista_ejemplo[-1])\n",
    "print(lista_ejemplo[2])"
   ]
  },
  {
   "cell_type": "markdown",
   "id": "84e187bc-3003-44ff-8bc0-aafa70b0e194",
   "metadata": {},
   "source": [
    "## Metodo en listas"
   ]
  },
  {
   "cell_type": "code",
   "execution_count": 44,
   "id": "c3194bff-19b1-4f01-9768-8dfa78afc647",
   "metadata": {},
   "outputs": [
    {
     "name": "stdout",
     "output_type": "stream",
     "text": [
      "['cuchara', 'cuchara', 'esto es', 12, -3, -5, True, False, 'lista', 'coche', 'coche', 'coche', 'coche', 'coche', 'coche']\n",
      "['cuchara', 'cuchara', 'cuchara', 'esto es', 12, -3, -5, True, False, 'lista', 'coche', 'coche', 'coche', 'coche', 'coche', 'coche']\n",
      "['cuchara', 'cuchara', 'esto es', 12, -3, -5, True, False, 'lista', 'coche', 'coche', 'coche', 'coche', 'coche', 'coche']\n",
      "['cuchara', 'cuchara', 'esto es', 12, -3, -5, True, False, 'lista', 'coche', 'coche', 'coche', 'coche', 'coche']\n",
      "['cuchara', 'cuchara', 'esto es', 12, -3, -5, True, False, 'lista', 'coche', 'coche', 'coche', 'coche', 'coche']\n"
     ]
    }
   ],
   "source": [
    "# Añadir elementos\n",
    "mix.append(\"coche\")\n",
    "print(mix)\n",
    "\n",
    "# añadir elementos en una posicion determinada\n",
    "\n",
    "mix.insert(1,\"cuchara\")\n",
    "print(mix)\n",
    "\n",
    "# quitar elementos\n",
    "# mix.clear()\n",
    "\n",
    "# quitar elemento desde su posición\n",
    "mix.pop(1)\n",
    "print(mix)\n",
    "\n",
    "#quitar elemento por su valor\n",
    "\n",
    "mix.remove(\"coche\")\n",
    "print(mix)\n",
    "\n",
    "# ordenar la lista\n",
    "# mix.sort() EN ESTE CASO NO LO HIZO BIEN PORQUE EXISTEN NÚMEROS \n",
    "print(mix)"
   ]
  },
  {
   "cell_type": "markdown",
   "id": "3aed9c76-00bc-4313-b775-e5590b1ce470",
   "metadata": {},
   "source": [
    "## listas y colecciones"
   ]
  },
  {
   "cell_type": "code",
   "execution_count": 2,
   "id": "294237e1-b1a7-4eb3-8b61-608a4d49f532",
   "metadata": {},
   "outputs": [],
   "source": [
    "# lista de números, string, bool\n",
    "\n",
    "nums= [6,2,6,3,8]\n",
    "months= [\"enero\",\"febrero\", \",marzo\", \"abril\"]\n",
    "mix= [5,7,8,\"abril\", True, None, [\"blanco\", \"negro\"]]"
   ]
  },
  {
   "cell_type": "code",
   "execution_count": 3,
   "id": "b33f9c8c-d6f0-4219-a424-23599d4de1cb",
   "metadata": {},
   "outputs": [
    {
     "name": "stdout",
     "output_type": "stream",
     "text": [
      "2\n"
     ]
    }
   ],
   "source": [
    "print(nums[1])"
   ]
  },
  {
   "cell_type": "code",
   "execution_count": 5,
   "id": "3619790c-c114-4e9d-b413-67d20184a812",
   "metadata": {},
   "outputs": [
    {
     "name": "stdout",
     "output_type": "stream",
     "text": [
      "1\n"
     ]
    }
   ],
   "source": [
    "print(months.index(\"febrero\"))"
   ]
  },
  {
   "cell_type": "code",
   "execution_count": 15,
   "id": "6bf52863-be10-4168-b009-5f3770b5b247",
   "metadata": {},
   "outputs": [
    {
     "name": "stdout",
     "output_type": "stream",
     "text": [
      "[35, 36]\n",
      "[35, 36, 3]\n",
      "[35, 36, 3, 38, 39, 40]\n",
      "[35, 36, 3, 38, 39, 40]\n"
     ]
    }
   ],
   "source": [
    "degrees=[22,35,36,3,38,39,40]\n",
    "sub_des= degrees[1:3] #ojo no se incluye el ultyimo indice del anterior\n",
    "print(sub_des)\n",
    "sub_des= degrees[1:4]\n",
    "print(sub_des)\n",
    "sub_des1=degrees[1:len(degrees)]\n",
    "sub_des2=degrees[1:]\n",
    "print(sub_des1)\n",
    "print(sub_des2)\n"
   ]
  },
  {
   "cell_type": "code",
   "execution_count": 21,
   "id": "b8748319-e3bb-4bc8-8682-b613b39154f6",
   "metadata": {},
   "outputs": [
    {
     "name": "stdout",
     "output_type": "stream",
     "text": [
      "['enero', 'Abril', 'marzo', 'abril']\n"
     ]
    }
   ],
   "source": [
    "#modificar elementos\n",
    "\n",
    "months = [\"enero\", \"febrero\", \"marzo\", \"abril\"]\n",
    "months[1]= \"Abril\"\n",
    "print(months)"
   ]
  },
  {
   "cell_type": "code",
   "execution_count": 26,
   "id": "6ee29bed-1876-4efc-8108-10d1cebdb30a",
   "metadata": {},
   "outputs": [
    {
     "name": "stdout",
     "output_type": "stream",
     "text": [
      "['honda', 'yamaha', 'suzuki', 'kawasaki']\n",
      "['honda', 'yamaha', 'suzuki', 'bultaco', 'kawasaki']\n"
     ]
    }
   ],
   "source": [
    "# añadir elementos\n",
    "motocicletas = [\"honda\", \"yamaha\", \"suzuki\"]\n",
    "motocicletas.append(\"kawasaki\")\n",
    "print(motocicletas)\n",
    "motocicletas.insert(3, \"bultaco\")\n",
    "print(motocicletas)"
   ]
  },
  {
   "cell_type": "code",
   "execution_count": 32,
   "id": "a610b0e7-2fac-421c-a1c3-be8c3cb87b2e",
   "metadata": {},
   "outputs": [
    {
     "name": "stdout",
     "output_type": "stream",
     "text": [
      "['seat', 'toyota', 'bmw', 'wv']\n"
     ]
    }
   ],
   "source": [
    "# eliminar elementos  (remove) (pop)\n",
    "cars=[\"ws\", \"seat\", \"toyota\", \"bmw\", \"wv\"]\n",
    "cars.remove (\"ws\")\n",
    "print(cars)\n"
   ]
  },
  {
   "cell_type": "code",
   "execution_count": 33,
   "id": "8e5208ec-12a4-42b6-bc4a-72c9668ba68d",
   "metadata": {},
   "outputs": [
    {
     "name": "stdout",
     "output_type": "stream",
     "text": [
      "['ws', 'toyota', 'bmw', 'wv']\n",
      "seat\n"
     ]
    }
   ],
   "source": [
    "cars=[\"ws\", \"seat\", \"toyota\", \"bmw\", \"wv\"]\n",
    "eliminado = cars.pop(1)\n",
    "print(cars)\n",
    "print(eliminado)"
   ]
  },
  {
   "cell_type": "code",
   "execution_count": 35,
   "id": "1f3dfdf0-7ca5-4526-87d0-3323565b8df1",
   "metadata": {},
   "outputs": [
    {
     "ename": "ValueError",
     "evalue": "list.remove(x): x not in list",
     "output_type": "error",
     "traceback": [
      "\u001b[1;31m---------------------------------------------------------------------------\u001b[0m",
      "\u001b[1;31mValueError\u001b[0m                                Traceback (most recent call last)",
      "Cell \u001b[1;32mIn[35], line 2\u001b[0m\n\u001b[0;32m      1\u001b[0m cars\u001b[38;5;241m=\u001b[39m[\u001b[38;5;124m\"\u001b[39m\u001b[38;5;124mws\u001b[39m\u001b[38;5;124m\"\u001b[39m, \u001b[38;5;124m\"\u001b[39m\u001b[38;5;124mseat\u001b[39m\u001b[38;5;124m\"\u001b[39m, \u001b[38;5;124m\"\u001b[39m\u001b[38;5;124mtoyota\u001b[39m\u001b[38;5;124m\"\u001b[39m, \u001b[38;5;124m\"\u001b[39m\u001b[38;5;124mbmw\u001b[39m\u001b[38;5;124m\"\u001b[39m, \u001b[38;5;124m\"\u001b[39m\u001b[38;5;124mwv\u001b[39m\u001b[38;5;124m\"\u001b[39m]\n\u001b[1;32m----> 2\u001b[0m \u001b[43mcars\u001b[49m\u001b[38;5;241;43m.\u001b[39;49m\u001b[43mremove\u001b[49m\u001b[43m \u001b[49m\u001b[43m(\u001b[49m\u001b[38;5;124;43m\"\u001b[39;49m\u001b[38;5;124;43mtesla\u001b[39;49m\u001b[38;5;124;43m\"\u001b[39;49m\u001b[43m)\u001b[49m\n",
      "\u001b[1;31mValueError\u001b[0m: list.remove(x): x not in list"
     ]
    }
   ],
   "source": [
    "cars=[\"ws\", \"seat\", \"toyota\", \"bmw\", \"wv\"]\n",
    "cars.remove (\"tesla\")"
   ]
  },
  {
   "cell_type": "code",
   "execution_count": 47,
   "id": "2d0b09ce-0141-406d-8604-39235a466095",
   "metadata": {},
   "outputs": [
    {
     "name": "stdout",
     "output_type": "stream",
     "text": [
      "[1, 21, 22, 30, 45, 70, 85, 90]\n",
      "[90, 85, 70, 45, 30, 22, 21, 1]\n",
      "8\n",
      "[1, 21, 22, 30, 45, 70, 85, 90]\n",
      "1\n"
     ]
    }
   ],
   "source": [
    "degrees= [22,30,21,45,85,70,90,1]\n",
    " #ordenar de forma ascendente\n",
    "degrees.sort()\n",
    "print(degrees)\n",
    "#mayor a menor\n",
    "degrees.sort(reverse=True)\n",
    "print(degrees)\n",
    "\n",
    "#contar numero de elementos\n",
    "print(len(degrees))\n",
    "\n",
    "#invertir el orden\n",
    "\n",
    "degrees.reverse()\n",
    "print(degrees)\n",
    "\n",
    "#ocurrencia es el numero de veces en una lista\n",
    "print(degrees.count(21))"
   ]
  },
  {
   "cell_type": "code",
   "execution_count": 52,
   "id": "9a65f44b-03dd-4633-8b95-d3384ffbd2bb",
   "metadata": {},
   "outputs": [
    {
     "data": {
      "text/plain": [
       "1"
      ]
     },
     "execution_count": 52,
     "metadata": {},
     "output_type": "execute_result"
    }
   ],
   "source": [
    "degrees= [22,30,21,45,85,70,90,1]\n",
    "ultimo_elemento= degrees[len(degrees) -1]\n",
    "ultimo_elemento"
   ]
  },
  {
   "cell_type": "markdown",
   "id": "22933d77-3502-4707-97ef-af10c1b9df50",
   "metadata": {},
   "source": [
    "## tuplas"
   ]
  },
  {
   "cell_type": "code",
   "execution_count": 55,
   "id": "099051ab-1293-499c-a6b2-11c508cf43a9",
   "metadata": {},
   "outputs": [
    {
     "name": "stdout",
     "output_type": "stream",
     "text": [
      "(3, 'testo') <class 'tuple'>\n"
     ]
    }
   ],
   "source": [
    "tupla_ejemplo = (3,\"testo\")\n",
    "print(tupla_ejemplo,type(tupla_ejemplo))\n"
   ]
  },
  {
   "cell_type": "code",
   "execution_count": 56,
   "id": "0180e09f-22fb-4563-9f70-825e3d033c51",
   "metadata": {},
   "outputs": [
    {
     "name": "stdout",
     "output_type": "stream",
     "text": [
      "el primer elemento es 3\n",
      "el segundo elemento es testo\n"
     ]
    }
   ],
   "source": [
    "print(\"el primer elemento es\", tupla_ejemplo[0])\n",
    "print(\"el segundo elemento es\", tupla_ejemplo[1])"
   ]
  },
  {
   "cell_type": "code",
   "execution_count": 59,
   "id": "05afe10e-4a85-4725-a1c6-c91631625aaa",
   "metadata": {},
   "outputs": [
    {
     "name": "stdout",
     "output_type": "stream",
     "text": [
      "24 <class 'int'>\n",
      "(24,) <class 'tuple'>\n"
     ]
    }
   ],
   "source": [
    "mala_tupla = (24)\n",
    "print(mala_tupla, type(mala_tupla))\n",
    "buena_tupla = (24,)\n",
    "print(buena_tupla, type(buena_tupla))"
   ]
  },
  {
   "cell_type": "code",
   "execution_count": 81,
   "id": "a17abe0b-98e7-48c6-865e-abdd1b0b17b2",
   "metadata": {},
   "outputs": [
    {
     "name": "stdout",
     "output_type": "stream",
     "text": [
      "(1, 2, 3, ('a', 'b', 'c'))\n",
      "4\n"
     ]
    }
   ],
   "source": [
    "#añadir tupla\n",
    "tupla_aind= (1,2,3, (\"a\",\"b\",\"c\",))\n",
    "print(tupla_aind)\n",
    "print(len(tupla_aind))"
   ]
  },
  {
   "cell_type": "code",
   "execution_count": 82,
   "id": "78841cbe-f9a9-4320-aa07-9ee328b9e95e",
   "metadata": {},
   "outputs": [
    {
     "name": "stdout",
     "output_type": "stream",
     "text": [
      "3\n",
      "b\n"
     ]
    }
   ],
   "source": [
    "print(tupla_aind[2])\n",
    "print(tupla_aind[3][1])"
   ]
  },
  {
   "cell_type": "code",
   "execution_count": 84,
   "id": "c0850755-3893-4791-9a47-e6ba83b5171d",
   "metadata": {},
   "outputs": [
    {
     "name": "stdout",
     "output_type": "stream",
     "text": [
      "1\n",
      "2\n",
      "3\n",
      "('a', 'b', 'c')\n"
     ]
    }
   ],
   "source": [
    "# SON ITERABLES \n",
    "for i in tupla_aind:\n",
    "    print(i)"
   ]
  },
  {
   "cell_type": "code",
   "execution_count": 85,
   "id": "f02903cb-e988-44cd-bb8d-073dfbd8f7e3",
   "metadata": {},
   "outputs": [
    {
     "name": "stdout",
     "output_type": "stream",
     "text": [
      "(3, ('a', 'b', 'c'))\n"
     ]
    }
   ],
   "source": [
    "# slicing\n",
    "tupla_bis= tupla_aind[2:]\n",
    "print(tupla_bis)"
   ]
  },
  {
   "cell_type": "code",
   "execution_count": 86,
   "id": "725ce1bd-9017-46ec-b930-2002d83cddfb",
   "metadata": {},
   "outputs": [
    {
     "name": "stdout",
     "output_type": "stream",
     "text": [
      "(1, 2, 3, 4, 5, 6)\n"
     ]
    }
   ],
   "source": [
    "tupla_1= (1,2,3)\n",
    "tupla_2 = (4,5,6)\n",
    "print(tupla_1+tupla_2)\n"
   ]
  },
  {
   "cell_type": "code",
   "execution_count": 88,
   "id": "6357b808-7147-4d06-8685-8090f0a46a1d",
   "metadata": {},
   "outputs": [
    {
     "name": "stdout",
     "output_type": "stream",
     "text": [
      "<class 'list'>\n",
      "<class 'tuple'>\n"
     ]
    }
   ],
   "source": [
    "# combinar listas y tupla\n",
    "\n",
    "listas_e = [\"fresas\", \"naraja\", \"limones\",(\"kiwi\",\"manzana\")]\n",
    "tupla_list= (\"fesas\", [\"naranaja\", \"limones\"], \"manzana\")\n",
    "print(type(listas_e))\n",
    "print(type(tupla_list))\n"
   ]
  },
  {
   "cell_type": "markdown",
   "id": "ee0ffe43-0b56-4381-b459-dc5c143a80d6",
   "metadata": {},
   "source": [
    "## Diccionarios"
   ]
  },
  {
   "cell_type": "code",
   "execution_count": null,
   "id": "d6bafec4-a0e0-4518-9a7b-b789b136f69d",
   "metadata": {},
   "outputs": [],
   "source": [
    "#sintaxis {}\n",
    "# nombre_diccionario={valor1:valor1, clave2: valor2}"
   ]
  },
  {
   "cell_type": "code",
   "execution_count": 5,
   "id": "bf0004bd-b5a4-41af-9624-effdee30be40",
   "metadata": {},
   "outputs": [
    {
     "data": {
      "text/plain": [
       "{'color': 'rojo',\n",
       " 'marca': 'tesla',\n",
       " 'modelo': 'cybertruck',\n",
       " 'peso': 35000,\n",
       " 'cambio automatico': True}"
      ]
     },
     "execution_count": 5,
     "metadata": {},
     "output_type": "execute_result"
    }
   ],
   "source": [
    "coche_dict={\n",
    "    \"color\":\"rojo\",\n",
    "    \"marca\": \"tesla\",\n",
    "    \"modelo\":\"cybertruck\",\n",
    "    \"peso\":35000, \n",
    "    \"cambio automatico\": True}\n",
    "coche_dict"
   ]
  },
  {
   "cell_type": "code",
   "execution_count": 10,
   "id": "afd39e16-f34c-492c-b9c3-0d1e4e893e81",
   "metadata": {},
   "outputs": [
    {
     "name": "stdout",
     "output_type": "stream",
     "text": [
      "rojo\n",
      "cybertruck\n"
     ]
    }
   ],
   "source": [
    "#acceso\n",
    "print(coche_dict[\"color\"])\n",
    "print(coche_dict[\"modelo\"])"
   ]
  },
  {
   "cell_type": "code",
   "execution_count": 13,
   "id": "de008b0e-288d-450e-a6fe-233f3f02377d",
   "metadata": {},
   "outputs": [
    {
     "data": {
      "text/plain": [
       "{'color': ['rojo', 'gris'],\n",
       " 'marca': 'tesla',\n",
       " 'modelo': 'cybertruck',\n",
       " 'peso': 35000,\n",
       " 'cambio automatico': True,\n",
       " 'colo': ['rojo', 'gris']}"
      ]
     },
     "execution_count": 13,
     "metadata": {},
     "output_type": "execute_result"
    }
   ],
   "source": [
    "#cambiar elementos\n",
    "coche_dict[\"color\"]=[\"rojo\",\"gris\"]\n",
    "coche_dict"
   ]
  },
  {
   "cell_type": "code",
   "execution_count": 14,
   "id": "28fc4bd5-045d-48f9-9f0b-3cff9ad4dbfe",
   "metadata": {},
   "outputs": [
    {
     "data": {
      "text/plain": [
       "6"
      ]
     },
     "execution_count": 14,
     "metadata": {},
     "output_type": "execute_result"
    }
   ],
   "source": [
    "#añadir elemento\n",
    "coche_dict[\"puertas\"] = 6\n",
    "coche_dict[\"puertas\"]"
   ]
  },
  {
   "cell_type": "code",
   "execution_count": 15,
   "id": "333684fb-685c-437a-bbf0-6489e73b06a5",
   "metadata": {},
   "outputs": [
    {
     "data": {
      "text/plain": [
       "{'color': ['rojo', 'gris'],\n",
       " 'marca': 'tesla',\n",
       " 'peso': 35000,\n",
       " 'cambio automatico': True,\n",
       " 'colo': ['rojo', 'gris'],\n",
       " 'puertas': 6}"
      ]
     },
     "execution_count": 15,
     "metadata": {},
     "output_type": "execute_result"
    }
   ],
   "source": [
    "#elimimar elementos\n",
    "del coche_dict[\"modelo\"]\n",
    "coche_dict"
   ]
  },
  {
   "cell_type": "code",
   "execution_count": 16,
   "id": "e4bc95bc-723f-43e3-b26e-464206b14c3c",
   "metadata": {},
   "outputs": [
    {
     "data": {
      "text/plain": [
       "dict_keys(['color', 'marca', 'peso', 'cambio automatico', 'colo', 'puertas'])"
      ]
     },
     "execution_count": 16,
     "metadata": {},
     "output_type": "execute_result"
    }
   ],
   "source": [
    "#conocer las claves de dciccionario\n",
    "\n",
    "coche_dict.keys()"
   ]
  },
  {
   "cell_type": "code",
   "execution_count": 17,
   "id": "80fc2655-6dd6-4fbd-8845-09cacd9725d5",
   "metadata": {},
   "outputs": [
    {
     "data": {
      "text/plain": [
       "dict_values([['rojo', 'gris'], 'tesla', 35000, True, ['rojo', 'gris'], 6])"
      ]
     },
     "execution_count": 17,
     "metadata": {},
     "output_type": "execute_result"
    }
   ],
   "source": [
    "#conocer valores de diccionario\n",
    "\n",
    "coche_dict.values()"
   ]
  },
  {
   "cell_type": "code",
   "execution_count": 20,
   "id": "e221ac3c-bd98-41b1-be5c-5519b5abcde0",
   "metadata": {},
   "outputs": [
    {
     "name": "stdout",
     "output_type": "stream",
     "text": [
      "<class 'dict'>\n"
     ]
    },
    {
     "data": {
      "text/plain": [
       "{'direccion': 'montesa 12'}"
      ]
     },
     "execution_count": 20,
     "metadata": {},
     "output_type": "execute_result"
    }
   ],
   "source": [
    "# Crear diccionario vacio\n",
    "\n",
    "tienda={}\n",
    "print(type(tienda))\n",
    "tienda[\"direccion\"]=\"montesa 12\"\n",
    "tienda"
   ]
  },
  {
   "cell_type": "code",
   "execution_count": 21,
   "id": "7ce93183-d383-4b4c-9164-25711012ff7f",
   "metadata": {},
   "outputs": [
    {
     "ename": "KeyError",
     "evalue": "'modelo'",
     "output_type": "error",
     "traceback": [
      "\u001b[1;31m---------------------------------------------------------------------------\u001b[0m",
      "\u001b[1;31mKeyError\u001b[0m                                  Traceback (most recent call last)",
      "Cell \u001b[1;32mIn[21], line 1\u001b[0m\n\u001b[1;32m----> 1\u001b[0m \u001b[43mcoche_dict\u001b[49m\u001b[43m[\u001b[49m\u001b[38;5;124;43m\"\u001b[39;49m\u001b[38;5;124;43mmodelo\u001b[39;49m\u001b[38;5;124;43m\"\u001b[39;49m\u001b[43m]\u001b[49m\n",
      "\u001b[1;31mKeyError\u001b[0m: 'modelo'"
     ]
    }
   ],
   "source": [
    "coche_dict[\"modelo\"]\n"
   ]
  },
  {
   "cell_type": "code",
   "execution_count": 23,
   "id": "c65eaf00-e881-4667-87c6-182f6fbe2981",
   "metadata": {},
   "outputs": [
    {
     "name": "stdout",
     "output_type": "stream",
     "text": [
      "{'color': ['rojo', 'gris'], 'marca': 'tesla', 'peso': 35000, 'cambio automatico': True, 'colo': ['rojo', 'gris'], 'puertas': 6}\n"
     ]
    }
   ],
   "source": [
    "modelo= coche_dict.get(\"modelo\",\"tesla\")\n",
    "print(coche_dict)"
   ]
  },
  {
   "cell_type": "code",
   "execution_count": 25,
   "id": "242c9723-c687-402f-b9d4-b21c337e56fc",
   "metadata": {},
   "outputs": [
    {
     "name": "stdout",
     "output_type": "stream",
     "text": [
      "color\n",
      "['rojo', 'gris']\n",
      "marca\n",
      "tesla\n",
      "peso\n",
      "35000\n",
      "cambio automatico\n",
      "True\n",
      "colo\n",
      "['rojo', 'gris']\n",
      "puertas\n",
      "6\n"
     ]
    }
   ],
   "source": [
    "# iterar\n",
    "\n",
    "for i in coche_dict:\n",
    "    print(i)\n",
    "    print(coche_dict[i])\n",
    "    "
   ]
  },
  {
   "cell_type": "code",
   "execution_count": 26,
   "id": "c2499e55-260d-4d05-b4e6-ada7de6e5d0b",
   "metadata": {},
   "outputs": [
    {
     "name": "stdout",
     "output_type": "stream",
     "text": [
      "color\n",
      "color : ['rojo', 'gris']\n",
      "marca\n",
      "marca : tesla\n",
      "peso\n",
      "peso : 35000\n",
      "cambio automatico\n",
      "cambio automatico : True\n",
      "colo\n",
      "colo : ['rojo', 'gris']\n",
      "puertas\n",
      "puertas : 6\n"
     ]
    }
   ],
   "source": [
    "for i in coche_dict:\n",
    "    print(i)\n",
    "    print(i, \":\", coche_dict[i])"
   ]
  },
  {
   "cell_type": "code",
   "execution_count": 27,
   "id": "9facf952-e8d2-47b7-a1b3-a4f417b786a5",
   "metadata": {},
   "outputs": [
    {
     "data": {
      "text/plain": [
       "dict_items([('color', ['rojo', 'gris']), ('marca', 'tesla'), ('peso', 35000), ('cambio automatico', True), ('colo', ['rojo', 'gris']), ('puertas', 6)])"
      ]
     },
     "execution_count": 27,
     "metadata": {},
     "output_type": "execute_result"
    }
   ],
   "source": [
    "coche_dict.items()"
   ]
  },
  {
   "cell_type": "code",
   "execution_count": 29,
   "id": "3fba7c62-79a4-44a6-aa38-a83cdb0e734a",
   "metadata": {},
   "outputs": [
    {
     "name": "stdout",
     "output_type": "stream",
     "text": [
      "color : ['rojo', 'gris']\n",
      "marca : tesla\n",
      "peso : 35000\n",
      "cambio automatico : True\n",
      "colo : ['rojo', 'gris']\n",
      "puertas : 6\n"
     ]
    }
   ],
   "source": [
    "for clave, valor in coche_dict.items():\n",
    "    print(clave,\":\",valor)"
   ]
  },
  {
   "cell_type": "markdown",
   "id": "b488005a-0597-4348-a5ce-31ec5902fb44",
   "metadata": {},
   "source": [
    "## Sets"
   ]
  },
  {
   "cell_type": "code",
   "execution_count": 33,
   "id": "6e3f877e-613b-43a0-a3ef-c5c027f47921",
   "metadata": {},
   "outputs": [
    {
     "name": "stdout",
     "output_type": "stream",
     "text": [
      "<class 'set'>\n"
     ]
    },
    {
     "data": {
      "text/plain": [
       "{'azul', 'naranja', 'rojo', 'verde'}"
      ]
     },
     "execution_count": 33,
     "metadata": {},
     "output_type": "execute_result"
    }
   ],
   "source": [
    "colores = {\"azul\",\"rojo\",\"verde\",\"naranja\"}\n",
    "print(type(colores))\n",
    "colores\n"
   ]
  },
  {
   "cell_type": "code",
   "execution_count": 35,
   "id": "9849afe9-63bf-4e80-aca4-f492e6eca283",
   "metadata": {},
   "outputs": [
    {
     "name": "stdout",
     "output_type": "stream",
     "text": [
      "{'verde', 'naranja', 'azul', 'rojo', 'violeta'}\n"
     ]
    }
   ],
   "source": [
    "#añadir valores\n",
    "colores.add(\"violeta\")\n",
    "print(colores)"
   ]
  },
  {
   "cell_type": "code",
   "execution_count": 38,
   "id": "29dcac73-e716-4198-8553-423c92f9ee0c",
   "metadata": {},
   "outputs": [
    {
     "name": "stdout",
     "output_type": "stream",
     "text": [
      "{'budeos', 'verde', 'naranja', 'azul', 'rojo', 'celeste', 'violeta'}\n"
     ]
    }
   ],
   "source": [
    "#añadir listas en Sets\n",
    "\n",
    "colores.update([\"celeste\", \"budeos\",\"naranja\"])\n",
    "print(colores)"
   ]
  },
  {
   "cell_type": "code",
   "execution_count": 42,
   "id": "c02da67b-33ca-4669-bd86-8258d874a7e5",
   "metadata": {},
   "outputs": [
    {
     "name": "stdout",
     "output_type": "stream",
     "text": [
      "{'budeos', 'verde', 'azul', 'rojo', 'celeste', 'violeta'}\n"
     ]
    }
   ],
   "source": [
    "#quitar valores\n",
    "colores.remove(\"naranja\")\n",
    "print(colores)"
   ]
  },
  {
   "cell_type": "code",
   "execution_count": 43,
   "id": "7a54fdb7-667b-4967-9cad-a9e54ba600ea",
   "metadata": {},
   "outputs": [
    {
     "name": "stdout",
     "output_type": "stream",
     "text": [
      "budeos\n",
      "verde\n",
      "azul\n",
      "rojo\n",
      "celeste\n",
      "violeta\n"
     ]
    }
   ],
   "source": [
    "#bucle\n",
    "\n",
    "for color in colores:\n",
    "    print(color)"
   ]
  },
  {
   "cell_type": "code",
   "execution_count": 45,
   "id": "bfbce6de-f2f8-492c-bc96-98c0ce6b4b20",
   "metadata": {},
   "outputs": [
    {
     "data": {
      "text/plain": [
       "False"
      ]
     },
     "execution_count": 45,
     "metadata": {},
     "output_type": "execute_result"
    }
   ],
   "source": [
    "#comprobar si dos sets tienen los mismos valores\n",
    "\n",
    "set1= {1,2,4,3,5,6,8}\n",
    "set2= {2,1,4}\n",
    "set1 ==set2"
   ]
  },
  {
   "cell_type": "code",
   "execution_count": 47,
   "id": "3aa8e7f7-70f3-4d34-b751-db8e04813fcf",
   "metadata": {},
   "outputs": [
    {
     "name": "stdout",
     "output_type": "stream",
     "text": [
      "{32, 100, 10, 45, 15, 23}\n"
     ]
    }
   ],
   "source": [
    "lista_comn=[100,10,23,23,15,32,15,32,45,10,100,23]\n",
    "print(set(lista_comn))\n"
   ]
  },
  {
   "cell_type": "code",
   "execution_count": 50,
   "id": "3b2e1438-60be-4d16-b584-811fccc61092",
   "metadata": {},
   "outputs": [
    {
     "name": "stdout",
     "output_type": "stream",
     "text": [
      "[32, 100, 10, 45, 15, 23]\n"
     ]
    },
    {
     "data": {
      "text/plain": [
       "[32, 100, 10, 45, 15, 23]"
      ]
     },
     "execution_count": 50,
     "metadata": {},
     "output_type": "execute_result"
    }
   ],
   "source": [
    "print(list(set(lista_comn)))\n",
    "lista_comn=list(set(lista_comn))\n",
    "lista_comn"
   ]
  },
  {
   "cell_type": "markdown",
   "id": "aa94e481-9554-481f-abe6-e8d987852e99",
   "metadata": {},
   "source": [
    "## Funciones de usuario"
   ]
  },
  {
   "cell_type": "code",
   "execution_count": 58,
   "id": "855f12e3-d50c-41ce-a8b5-856f69f7bbcc",
   "metadata": {},
   "outputs": [
    {
     "data": {
      "text/plain": [
       "124.0"
      ]
     },
     "execution_count": 58,
     "metadata": {},
     "output_type": "execute_result"
    }
   ],
   "source": [
    "def conversor_km_millas(distancia):\n",
    "    millas = 0.62*distancia\n",
    "    return round(millas,1)\n",
    "conversor_km_millas (200)"
   ]
  },
  {
   "cell_type": "code",
   "execution_count": 59,
   "id": "83e58794-4994-46e5-8ab1-45da2732ca1e",
   "metadata": {},
   "outputs": [
    {
     "data": {
      "text/plain": [
       "1371.4"
      ]
     },
     "execution_count": 59,
     "metadata": {},
     "output_type": "execute_result"
    }
   ],
   "source": [
    "millas=conversor_km_millas(2212)\n",
    "millas"
   ]
  },
  {
   "cell_type": "code",
   "execution_count": 61,
   "id": "3c370bfd-06e0-48ff-a817-b082a390d228",
   "metadata": {},
   "outputs": [
    {
     "name": "stdout",
     "output_type": "stream",
     "text": [
      "15:27:54.642442\n"
     ]
    }
   ],
   "source": [
    "from datetime import datetime\n",
    "def que_hora_es():\n",
    "    now=datetime.now().time()\n",
    "    return now\n",
    "\n",
    "print(que_hora_es())"
   ]
  },
  {
   "cell_type": "code",
   "execution_count": 69,
   "id": "ff99168c-022d-400f-a736-6277ea4b058c",
   "metadata": {},
   "outputs": [],
   "source": [
    "from datetime import datetime\n",
    "def que_hora_es():\n",
    "    now = datetime.now().time()\n",
    "    print(now)\n",
    "\n"
   ]
  },
  {
   "cell_type": "code",
   "execution_count": 71,
   "id": "a91f1a32-4be1-4e0a-b576-ae31139f81ee",
   "metadata": {},
   "outputs": [
    {
     "name": "stdout",
     "output_type": "stream",
     "text": [
      "17:31:16.657758\n",
      "None <class 'NoneType'>\n"
     ]
    }
   ],
   "source": [
    "hora=que_hora_es ()\n",
    "print(hora, type(hora))"
   ]
  },
  {
   "cell_type": "code",
   "execution_count": 72,
   "id": "729174da-9244-4521-9392-981b2e47ca27",
   "metadata": {},
   "outputs": [
    {
     "ename": "NameError",
     "evalue": "name 'now' is not defined",
     "output_type": "error",
     "traceback": [
      "\u001b[1;31m---------------------------------------------------------------------------\u001b[0m",
      "\u001b[1;31mNameError\u001b[0m                                 Traceback (most recent call last)",
      "Cell \u001b[1;32mIn[72], line 1\u001b[0m\n\u001b[1;32m----> 1\u001b[0m \u001b[38;5;28mprint\u001b[39m(\u001b[43mnow\u001b[49m)\n",
      "\u001b[1;31mNameError\u001b[0m: name 'now' is not defined"
     ]
    }
   ],
   "source": []
  },
  {
   "cell_type": "code",
   "execution_count": 74,
   "id": "ad60ef8f-791b-4ba0-be16-c8422941ac01",
   "metadata": {},
   "outputs": [
    {
     "data": {
      "text/plain": [
       "list"
      ]
     },
     "execution_count": 74,
     "metadata": {},
     "output_type": "execute_result"
    }
   ],
   "source": [
    "def conversor_km_millas(distancia):\n",
    "    millas = 0.62*distancia\n",
    "    metros = 1000*distancia\n",
    "    return [round(millas,1),millas,metros]\n",
    "salida=conversor_km_millas (2221)\n",
    "type(salida)"
   ]
  },
  {
   "cell_type": "markdown",
   "id": "619c73bb-97b3-4653-a73f-52d479e94f9a",
   "metadata": {},
   "source": [
    "## argumentos posicionales"
   ]
  },
  {
   "cell_type": "code",
   "execution_count": 76,
   "id": "c97091b1-d9e6-41d2-adcb-81bd47979ca0",
   "metadata": {},
   "outputs": [
    {
     "data": {
      "text/plain": [
       "10.0"
      ]
     },
     "execution_count": 76,
     "metadata": {},
     "output_type": "execute_result"
    }
   ],
   "source": [
    "def multiplica(x1,x2,x3,x4):\n",
    "    resultado=(x1*x2*x3)/x4\n",
    "    return resultado\n",
    "multiplica(3,4,5,6)\n",
    "               "
   ]
  },
  {
   "cell_type": "code",
   "execution_count": 78,
   "id": "af533ea6-c37d-41cb-b42a-4362a74bc47e",
   "metadata": {},
   "outputs": [
    {
     "data": {
      "text/plain": [
       "10.0"
      ]
     },
     "execution_count": 78,
     "metadata": {},
     "output_type": "execute_result"
    }
   ],
   "source": [
    "multiplica(x1=3, x4=6,x3=5,x2=4)"
   ]
  },
  {
   "cell_type": "code",
   "execution_count": 84,
   "id": "64fc7d33-bb71-454e-8a06-1049596588e5",
   "metadata": {},
   "outputs": [
    {
     "ename": "NameError",
     "evalue": "name 'exception' is not defined",
     "output_type": "error",
     "traceback": [
      "\u001b[1;31m---------------------------------------------------------------------------\u001b[0m",
      "\u001b[1;31mZeroDivisionError\u001b[0m                         Traceback (most recent call last)",
      "Cell \u001b[1;32mIn[84], line 2\u001b[0m\n\u001b[0;32m      1\u001b[0m \u001b[38;5;28;01mtry\u001b[39;00m:\n\u001b[1;32m----> 2\u001b[0m     \u001b[43mmultiplica\u001b[49m\u001b[43m \u001b[49m\u001b[43m(\u001b[49m\u001b[43mx4\u001b[49m\u001b[38;5;241;43m=\u001b[39;49m\u001b[38;5;241;43m0\u001b[39;49m\u001b[43m,\u001b[49m\u001b[43m \u001b[49m\u001b[43mx2\u001b[49m\u001b[38;5;241;43m=\u001b[39;49m\u001b[43m \u001b[49m\u001b[38;5;241;43m3\u001b[39;49m\u001b[43m,\u001b[49m\u001b[43m \u001b[49m\u001b[43mx3\u001b[49m\u001b[38;5;241;43m=\u001b[39;49m\u001b[38;5;241;43m12\u001b[39;49m\u001b[43m,\u001b[49m\u001b[43m \u001b[49m\u001b[43mx1\u001b[49m\u001b[38;5;241;43m=\u001b[39;49m\u001b[38;5;241;43m6\u001b[39;49m\u001b[43m)\u001b[49m\n\u001b[0;32m      3\u001b[0m \u001b[38;5;28;01mexcept\u001b[39;00m exception \u001b[38;5;28;01mas\u001b[39;00m ex:\n",
      "Cell \u001b[1;32mIn[76], line 2\u001b[0m, in \u001b[0;36mmultiplica\u001b[1;34m(x1, x2, x3, x4)\u001b[0m\n\u001b[0;32m      1\u001b[0m \u001b[38;5;28;01mdef\u001b[39;00m \u001b[38;5;21mmultiplica\u001b[39m(x1,x2,x3,x4):\n\u001b[1;32m----> 2\u001b[0m     resultado\u001b[38;5;241m=\u001b[39m\u001b[43m(\u001b[49m\u001b[43mx1\u001b[49m\u001b[38;5;241;43m*\u001b[39;49m\u001b[43mx2\u001b[49m\u001b[38;5;241;43m*\u001b[39;49m\u001b[43mx3\u001b[49m\u001b[43m)\u001b[49m\u001b[38;5;241;43m/\u001b[39;49m\u001b[43mx4\u001b[49m\n\u001b[0;32m      3\u001b[0m     \u001b[38;5;28;01mreturn\u001b[39;00m resultado\n",
      "\u001b[1;31mZeroDivisionError\u001b[0m: division by zero",
      "\nDuring handling of the above exception, another exception occurred:\n",
      "\u001b[1;31mNameError\u001b[0m                                 Traceback (most recent call last)",
      "Cell \u001b[1;32mIn[84], line 3\u001b[0m\n\u001b[0;32m      1\u001b[0m \u001b[38;5;28;01mtry\u001b[39;00m:\n\u001b[0;32m      2\u001b[0m     multiplica (x4\u001b[38;5;241m=\u001b[39m\u001b[38;5;241m0\u001b[39m, x2\u001b[38;5;241m=\u001b[39m \u001b[38;5;241m3\u001b[39m, x3\u001b[38;5;241m=\u001b[39m\u001b[38;5;241m12\u001b[39m, x1\u001b[38;5;241m=\u001b[39m\u001b[38;5;241m6\u001b[39m)\n\u001b[1;32m----> 3\u001b[0m \u001b[38;5;28;01mexcept\u001b[39;00m \u001b[43mexception\u001b[49m \u001b[38;5;28;01mas\u001b[39;00m ex:\n\u001b[0;32m      4\u001b[0m     \u001b[38;5;28mprint\u001b[39m(ex)\n\u001b[0;32m      5\u001b[0m     \u001b[38;5;28mprint\u001b[39m(\u001b[38;5;124m\"\u001b[39m\u001b[38;5;124merror en la funcion\u001b[39m\u001b[38;5;124m\"\u001b[39m)\n",
      "\u001b[1;31mNameError\u001b[0m: name 'exception' is not defined"
     ]
    }
   ],
   "source": [
    "try:\n",
    "    multiplica (x4=0, x2= 3, x3=12, x1=6)\n",
    "except exception as ex:\n",
    "    print(ex)\n",
    "    print(\"error en la funcion\")"
   ]
  },
  {
   "cell_type": "code",
   "execution_count": 87,
   "id": "9cd57bfb-9ca8-423c-8d57-d8f12692c671",
   "metadata": {},
   "outputs": [
    {
     "data": {
      "text/plain": [
       "10.0"
      ]
     },
     "execution_count": 87,
     "metadata": {},
     "output_type": "execute_result"
    }
   ],
   "source": [
    "def multiplica(x1,x2,x3,x4):\n",
    "    if x4==0:\n",
    "        print(\"error: no puedo dividir a 0\")\n",
    "    else:\n",
    "        resultado=(x1*x2*x3)/x4\n",
    "        return resultado\n",
    "multiplica(3,4,5,6)"
   ]
  },
  {
   "cell_type": "code",
   "execution_count": 88,
   "id": "c0cc752e-0250-4402-a7d1-9cfb49c12fd1",
   "metadata": {},
   "outputs": [
    {
     "name": "stdout",
     "output_type": "stream",
     "text": [
      "error: no puedo dividir a 0\n"
     ]
    }
   ],
   "source": [
    "multiplica (x4=0, x2= 3, x3=12, x1=6)"
   ]
  },
  {
   "cell_type": "code",
   "execution_count": 6,
   "id": "6dc06814-4737-4b65-86b6-3e0dd1fe80a7",
   "metadata": {},
   "outputs": [],
   "source": []
  },
  {
   "cell_type": "code",
   "execution_count": null,
   "id": "19705cf1-1f12-4fdd-860f-9eda7f293c31",
   "metadata": {},
   "outputs": [],
   "source": []
  },
  {
   "cell_type": "code",
   "execution_count": 22,
   "id": "ff51c591-0acb-4eb4-bfc5-456168c0b96c",
   "metadata": {},
   "outputs": [],
   "source": []
  },
  {
   "cell_type": "code",
   "execution_count": null,
   "id": "ef8a0082-285e-42d3-a2b8-bac866ff4bc3",
   "metadata": {},
   "outputs": [],
   "source": []
  },
  {
   "cell_type": "code",
   "execution_count": 24,
   "id": "e7e93477-9a64-4a59-bbd9-56c048a01ab7",
   "metadata": {},
   "outputs": [],
   "source": []
  },
  {
   "cell_type": "code",
   "execution_count": null,
   "id": "0e37e3d4-caee-4409-8a65-861614767955",
   "metadata": {},
   "outputs": [],
   "source": []
  },
  {
   "cell_type": "markdown",
   "id": "b6e32d7a-a88f-4574-866e-608da4982889",
   "metadata": {},
   "source": [
    "## Argumentos clave valor"
   ]
  },
  {
   "cell_type": "code",
   "execution_count": 8,
   "id": "5eeeaa77-af8b-487d-afee-6f1bac95b393",
   "metadata": {},
   "outputs": [
    {
     "name": "stdout",
     "output_type": "stream",
     "text": [
      "<class 'tuple'>\n",
      "Es bueno\n",
      "la bateria no dura nada\n"
     ]
    }
   ],
   "source": [
    "def insertar_movil (*args, **kwargs):\n",
    "    print(type(args))\n",
    "    for i in args:\n",
    "        print(i)\n",
    "\n",
    "insertar_movil(\"Es bueno\", \"la bateria no dura nada\")"
   ]
  },
  {
   "cell_type": "markdown",
   "id": "29314b61-5571-4215-b6d7-96304aadcaab",
   "metadata": {},
   "source": [
    "## *Args y **Kwargs"
   ]
  },
  {
   "cell_type": "code",
   "execution_count": 21,
   "id": "981a146f-1be8-4e3f-bc18-b1a8cadaf7c6",
   "metadata": {},
   "outputs": [
    {
     "name": "stdout",
     "output_type": "stream",
     "text": [
      "<class 'tuple'>\n",
      "samsung\n",
      "viene de EEUU\n",
      "<class 'dict'>\n",
      "modelo s30\n",
      "serie 5500\n"
     ]
    }
   ],
   "source": [
    "def inserta_movil(*args, **kwargs):\n",
    "    print(type(args))\n",
    "    for i in args:\n",
    "        print(i)\n",
    "\n",
    "    print(type(kwargs))\n",
    "    for clave,valor in kwargs.items():\n",
    "        print(clave, valor)\n",
    "\n",
    "inserta_movil (\"samsung\", \"viene de EEUU\", modelo = \"s30\", serie = \"5500\")"
   ]
  },
  {
   "cell_type": "markdown",
   "id": "42d90b1e-083d-4eee-908d-70f29daf058e",
   "metadata": {},
   "source": [
    "## Clases, objetos"
   ]
  },
  {
   "cell_type": "code",
   "execution_count": 22,
   "id": "6f133ceb-0423-4f3e-9df2-3b8e8336fd75",
   "metadata": {},
   "outputs": [],
   "source": [
    "# atributos\n",
    "\n",
    "class Coche:\n",
    "    puertas = 4\n",
    "    ruedas = 4\n",
    "    "
   ]
  },
  {
   "cell_type": "code",
   "execution_count": 23,
   "id": "2a3c46c2-32db-48b3-8bd6-4f02c9c29ef0",
   "metadata": {},
   "outputs": [
    {
     "name": "stdout",
     "output_type": "stream",
     "text": [
      "4\n"
     ]
    }
   ],
   "source": [
    "tesla = Coche()\n",
    "print(tesla.puertas)"
   ]
  },
  {
   "cell_type": "code",
   "execution_count": 28,
   "id": "09e3138a-194f-48a0-8437-ac3005c5f1cf",
   "metadata": {},
   "outputs": [
    {
     "name": "stdout",
     "output_type": "stream",
     "text": [
      "3\n"
     ]
    }
   ],
   "source": [
    "mercedes=Coche()\n",
    "mercedes.puertas=3\n",
    "print(mercedes.puertas)"
   ]
  },
  {
   "cell_type": "code",
   "execution_count": 33,
   "id": "ea11259c-5bb2-4767-b835-94fb452726b3",
   "metadata": {},
   "outputs": [
    {
     "data": {
      "text/plain": [
       "8"
      ]
     },
     "execution_count": 33,
     "metadata": {},
     "output_type": "execute_result"
    }
   ],
   "source": [
    "# diferenciar clases\n",
    "bmw=Coche()\n",
    "bmw.puertas=6\n",
    "bmw.ruedas=8\n",
    "bmw.ruedas"
   ]
  },
  {
   "cell_type": "markdown",
   "id": "8a385889-f186-4ca1-b8d7-2b81f7aaee78",
   "metadata": {},
   "source": [
    "### constructores de la clase"
   ]
  },
  {
   "cell_type": "code",
   "execution_count": 37,
   "id": "671c0d8f-4179-4fa9-8c78-3751d4e6b56e",
   "metadata": {},
   "outputs": [],
   "source": [
    "# sintaxis: _init_\n",
    "class Coche:\n",
    "    puertas=4\n",
    "    ruedas=4\n",
    "    def __init__(self, marca_coche):\n",
    "        self.marca = marca_coche\n",
    "        "
   ]
  },
  {
   "cell_type": "code",
   "execution_count": 38,
   "id": "ba4b4ea4-e808-489d-b9c0-771883c6d538",
   "metadata": {},
   "outputs": [
    {
     "name": "stdout",
     "output_type": "stream",
     "text": [
      "tesla\n"
     ]
    }
   ],
   "source": [
    "tesla= Coche(\"tesla\")\n",
    "print(tesla.marca)\n",
    "              "
   ]
  },
  {
   "cell_type": "code",
   "execution_count": 40,
   "id": "2d8761a3-71b2-42cb-a540-ccbb9093a043",
   "metadata": {},
   "outputs": [
    {
     "name": "stdout",
     "output_type": "stream",
     "text": [
      "4\n",
      "4\n"
     ]
    },
    {
     "data": {
      "text/plain": [
       "'mercedes'"
      ]
     },
     "execution_count": 40,
     "metadata": {},
     "output_type": "execute_result"
    }
   ],
   "source": [
    "mercedes=Coche(\"mercedes\")\n",
    "renaul=Coche(\"reanul\")\n",
    "print(mercedes.puertas)\n",
    "print(mercedes.ruedas)\n",
    "mercedes.marca\n"
   ]
  },
  {
   "cell_type": "code",
   "execution_count": 34,
   "id": "31cd64e0-bb1e-4c76-a8f3-12e450a97654",
   "metadata": {},
   "outputs": [],
   "source": [
    "class Coche:\n",
    "    puertas=4\n",
    "    ruedad=4\n",
    "\n",
    "    def __init__(self, marca_coche, num_puertas):\n",
    "        self.marca= marca_coche\n",
    "        self.puertas= num_puertas"
   ]
  },
  {
   "cell_type": "code",
   "execution_count": 35,
   "id": "6eaba623-9ec7-4ea9-b5bb-008eb0ddc165",
   "metadata": {},
   "outputs": [],
   "source": [
    "tesla = Coche(\"tesla\",6)\n",
    "mercedes_500= Coche(\"mercedes\", 8)"
   ]
  },
  {
   "cell_type": "code",
   "execution_count": 36,
   "id": "46e007ca-5d6e-42e3-9af7-9ec850498c62",
   "metadata": {},
   "outputs": [
    {
     "name": "stdout",
     "output_type": "stream",
     "text": [
      "tesla\n",
      "6\n"
     ]
    }
   ],
   "source": [
    "print(tesla.marca)\n",
    "print(tesla.puertas)"
   ]
  },
  {
   "cell_type": "markdown",
   "id": "988a40de-808e-44eb-98b6-e356da62a437",
   "metadata": {},
   "source": [
    "## Metodos"
   ]
  },
  {
   "cell_type": "code",
   "execution_count": 50,
   "id": "aa5bfc6d-4e77-4933-ae08-83eeb8bef652",
   "metadata": {},
   "outputs": [],
   "source": [
    "class Coche:\n",
    "    ruedas=4\n",
    "\n",
    "    def __init__(self, marca_coche, num_puertas=4):\n",
    "        self.marca=marca_coche \n",
    "        self.puertas=num_puertas\n",
    "\n",
    "    def caracteristicas(self): \n",
    "        return \"marca\"+ self.marca +\", puerrtas:\" +str(self.puertas)"
   ]
  },
  {
   "cell_type": "code",
   "execution_count": 51,
   "id": "b0ec2d03-b6f3-47ea-80b5-2af725dcf9be",
   "metadata": {},
   "outputs": [
    {
     "data": {
      "text/plain": [
       "'marcaford, puerrtas:4'"
      ]
     },
     "execution_count": 51,
     "metadata": {},
     "output_type": "execute_result"
    }
   ],
   "source": [
    "ford_k= Coche(\"ford\")\n",
    "ford_k.caracteristicas()"
   ]
  },
  {
   "cell_type": "code",
   "execution_count": 58,
   "id": "cfdf7624-4a8a-4f7b-9032-52744dc9e65d",
   "metadata": {},
   "outputs": [],
   "source": [
    "class Coche:\n",
    "    ruedas=4\n",
    "\n",
    "    def __init__(self, marca_coche, precio_coche, num_puertas=4):\n",
    "        self.marca=marca_coche \n",
    "        self.puertas=num_puertas\n",
    "        self.precio=precio_coche\n",
    "\n",
    "    def caracteristicas(self): \n",
    "        return \"marca\"+ self.marca +\", puerrtas:\" +str(self.puertas)\n",
    "    def precio_actual(self, agnos):\n",
    "        if agnos<=5:\n",
    "            return self.precio *0.7\n",
    "\n",
    "        elif agnos> 5 and agnos <10:\n",
    "            return self.precio *0.5\n",
    "\n",
    "        else:\n",
    "            return self.precio *0.3"
   ]
  },
  {
   "cell_type": "code",
   "execution_count": 59,
   "id": "776c102a-4f58-48b2-a252-430b11d7cad3",
   "metadata": {},
   "outputs": [
    {
     "data": {
      "text/plain": [
       "17500.0"
      ]
     },
     "execution_count": 59,
     "metadata": {},
     "output_type": "execute_result"
    }
   ],
   "source": [
    "jeep_cheroki=Coche(\"jeep\", 35000)\n",
    "jeep_cheroki.precio_actual(8)"
   ]
  },
  {
   "cell_type": "markdown",
   "id": "0bba97ff-3c87-4fda-82fe-a62e694720ee",
   "metadata": {},
   "source": [
    "# Sprint 3: Algebra y Numpy"
   ]
  },
  {
   "cell_type": "markdown",
   "id": "31f12f64-2b3b-4919-931c-d1293b4622e6",
   "metadata": {},
   "source": [
    "## Vectores"
   ]
  },
  {
   "cell_type": "code",
   "execution_count": 5,
   "id": "2c7d546f-ceec-40c0-a301-c8b3059f4076",
   "metadata": {},
   "outputs": [
    {
     "name": "stdout",
     "output_type": "stream",
     "text": [
      "{'rodrigo': [5, 4], 'lucia': [2, -3], 'alejandro': [3, 5], 'valeria': [-3, 4], 'camila': [3, 2], 'diego': [-1, 1], 'gabriela': [5, -2], 'mateo': [-5, 3], 'sofia': [-5, 1]}\n"
     ]
    }
   ],
   "source": [
    "alumnos_aidone ={\n",
    "    \"rodrigo\": [5,4],\n",
    "    \"lucia\": [2,-3],\n",
    "    \"alejandro\": [3,5],\n",
    "    \"valeria\": [-3,4],\n",
    "    \"camila\":[3,2],\n",
    "    \"diego\":[-1,1],\n",
    "    \"gabriela\": [5,-2],\n",
    "    \"mateo\":[-5,3],\n",
    "    \"sofia\":[-5,1]\n",
    "}\n",
    "print(alumnos_aidone)"
   ]
  },
  {
   "cell_type": "code",
   "execution_count": 6,
   "id": "f8e1ddaa-fc76-47e4-9fb5-4a6a1dcbcb4a",
   "metadata": {},
   "outputs": [],
   "source": [
    "import matplotlib.pyplot as plt\n",
    "from warnings import filterwarnings\n",
    "\n",
    "%matplotlib inline\n",
    "filterwarnings(\"ignore\")"
   ]
  },
  {
   "cell_type": "code",
   "execution_count": 7,
   "id": "06a3b212-ed06-4c9f-a6e5-27e86744add2",
   "metadata": {},
   "outputs": [],
   "source": [
    "def move_spines():\n",
    "    fix, ax=plt.subplots()\n",
    "    for spine in [\"left\", \"bottom\"]:\n",
    "        ax.spines[spine].set_position(\"zero\")\n",
    "\n",
    "    for spine in [\"right\",\"top\"]:\n",
    "        ax.spines[spine].set_color(\"none\")\n",
    "\n",
    "    return ax\n",
    "\n",
    "def vect_fig(*vectores):\n",
    "    ax=move_spines()\n",
    "    \n",
    "    ax.set_xlim(-5,5)\n",
    "    ax.set_ylim(-5,5)\n",
    "    ax.grid()\n",
    "    vecs= [vector for vector in vectores]\n",
    "    for v in vecs:\n",
    "        ax.annotate(\" \", xy=v, xytext=[0,0],\n",
    "                    arrowprops= dict(facecolor=\"blue\",\n",
    "                                     shrink=0,\n",
    "                                     alpha=0.7, \n",
    "                                     width=0.5))\n",
    "        ax.text(1.1*v[0],1.1*v[1],v)\n",
    "        \n"
   ]
  },
  {
   "cell_type": "code",
   "execution_count": 8,
   "id": "699c85b7-3f66-4afd-844c-5b53e56f8446",
   "metadata": {},
   "outputs": [
    {
     "data": {
      "image/png": "[encoded data removed]",
      "text/plain": [
       "<Figure size 640x480 with 1 Axes>"
      ]
     },
     "metadata": {},
     "output_type": "display_data"
    }
   ],
   "source": [
    "vect_fig(alumnos_aidone[\"rodrigo\"],alumnos_aidone[\"gabriela\"],alumnos_aidone[\"mateo\"],alumnos_aidone[\"lucia\"])"
   ]
  },
  {
   "cell_type": "code",
   "execution_count": 9,
   "id": "a4eb9ee0-b8b3-4aea-9a14-32be8ed12ab4",
   "metadata": {},
   "outputs": [],
   "source": [
    "\n",
    "import math\n",
    "\n",
    "#Definimos la función \"distancia_2d poniendole dos vectores y realizando su formula paso a paso\n",
    "def distancia_2d(vec1,vec2,precision= 2):\n",
    "    suma=0\n",
    "    for indice_componente in range (2):\n",
    "        suma+=(vec1[indice_componente]-vec2[indice_componente])**2\n",
    "    distancia= math.sqrt(suma)\n",
    "    distancia= round(distancia,precision)\n",
    "    return distancia"
   ]
  },
  {
   "cell_type": "code",
   "execution_count": 10,
   "id": "37b5e2d2-cae6-4238-8e64-a136fd569f0e",
   "metadata": {},
   "outputs": [
    {
     "name": "stdout",
     "output_type": "stream",
     "text": [
      "distancia lucia - rodrigo 7.6\n",
      "distancia lucia - gabriela 3.2\n",
      "distancia lucia - mateo 9.2\n"
     ]
    }
   ],
   "source": [
    "vec_lucia = alumnos_aidone[\"lucia\"]\n",
    "\n",
    "for alumnos_ref in [\"rodrigo\",\"gabriela\", \"mateo\"]:\n",
    "    vec_ref = alumnos_aidone[alumnos_ref]\n",
    "    distancia= distancia_2d(vec_lucia, vec_ref,1)\n",
    "    print(\"distancia lucia -\", alumnos_ref,distancia)"
   ]
  },
  {
   "cell_type": "code",
   "execution_count": null,
   "id": "306d4adf-cd56-4050-bdb0-7e71079aa362",
   "metadata": {},
   "outputs": [],
   "source": []
  },
  {
   "cell_type": "code",
   "execution_count": 15,
   "id": "f4b8cacf-460f-4b96-8e3f-63b822b0bf70",
   "metadata": {},
   "outputs": [
    {
     "ename": "SyntaxError",
     "evalue": "f-string: unmatched '[' (1368253652.py, line 18)",
     "output_type": "error",
     "traceback": [
      "\u001b[1;36m  Cell \u001b[1;32mIn[15], line 18\u001b[1;36m\u001b[0m\n\u001b[1;33m    print(f\"para{alumno},el curso asignado es\" + f\"{diccionario_reparto[alumno][\"curso elegido\"]}\")\u001b[0m\n\u001b[1;37m                                                                                 ^\u001b[0m\n\u001b[1;31mSyntaxError\u001b[0m\u001b[1;31m:\u001b[0m f-string: unmatched '['\n"
     ]
    }
   ],
   "source": [
    "alumnos_ref=[\"rodrigo\",\"gabriela\",\"mateo\"]\n",
    "curso_asignado=[\"CAI\",\"ER\",\"NMPC\"]\n",
    "diccionario_reparto={}\n",
    "for alumno, vector in alumnos_aidone.items():\n",
    "    distancia_minima= 9999999999\n",
    "    indice_distancia_minima= -1\n",
    "    diccionario_reparto[alumno]= {\"distancias\": [], \"curso_elegido\":\"\"}\n",
    "    for indice_curso, alumno_ref in enumerate(alumnos_ref):\n",
    "        vec_ref=alumnos_aidone[alumno_ref]\n",
    "\n",
    "        distancia=distancia_2d(vector,vec_ref,1)\n",
    "        if distancia<distancia_minima:\n",
    "            distancia_minima=distancia\n",
    "            indice_distancia_minima=indice_curso\n",
    "\n",
    "        diccionario_reparto[alumno][\"distancia\"].append(distancia)\n",
    "        diccionario_reparto[alumno][\"curso_elegido\"]= curso_asignado[indice_distancia_minima]\n",
    "    print(f\"para{alumno},el curso asignado es\" + f\"{diccionario_reparto[alumno][\"curso elegido\"]}\")\n",
    "   "
   ]
  },
  {
   "cell_type": "code",
   "execution_count": 16,
   "id": "4c477cad-ef3d-469c-ba88-e13481d207e6",
   "metadata": {},
   "outputs": [
    {
     "name": "stdout",
     "output_type": "stream",
     "text": [
      "Para rodrigo, el curso asignado es CAI\n",
      "Para lucia, el curso asignado es ER\n",
      "Para alejandro, el curso asignado es CAI\n",
      "Para valeria, el curso asignado es NMPC\n",
      "Para camila, el curso asignado es CAI\n",
      "Para diego, el curso asignado es NMPC\n",
      "Para gabriela, el curso asignado es ER\n",
      "Para mateo, el curso asignado es NMPC\n",
      "Para sofia, el curso asignado es NMPC\n"
     ]
    }
   ],
   "source": [
    "alumnos_ref = [\"rodrigo\", \"gabriela\", \"mateo\"]\n",
    "curso_asignado = [\"CAI\", \"ER\", \"NMPC\"]\n",
    "diccionario_reparto = {}\n",
    "\n",
    "for alumno, vector in alumnos_aidone.items():\n",
    "    distancia_minima = 9999999999\n",
    "    indice_distancia_minima = -1\n",
    "    diccionario_reparto[alumno] = {\"distancias\": [], \"curso_elegido\": \"\"}\n",
    "    \n",
    "    for indice_curso, alumno_ref in enumerate(alumnos_ref):\n",
    "        vec_ref = alumnos_aidone[alumno_ref]\n",
    "        distancia = distancia_2d(vector, vec_ref, 1)\n",
    "        \n",
    "        if distancia < distancia_minima:\n",
    "            distancia_minima = distancia\n",
    "            indice_distancia_minima = indice_curso\n",
    "\n",
    "        diccionario_reparto[alumno][\"distancias\"].append(distancia)\n",
    "        diccionario_reparto[alumno][\"curso_elegido\"] = curso_asignado[indice_distancia_minima]\n",
    "\n",
    "    print(f\"Para {alumno}, el curso asignado es {diccionario_reparto[alumno]['curso_elegido']}\")\n"
   ]
  },
  {
   "cell_type": "markdown",
   "id": "52901337-f3e7-4c36-8150-50bdae1cbe8f",
   "metadata": {},
   "source": [
    "## Ampliacion de vectores"
   ]
  },
  {
   "cell_type": "markdown",
   "id": "3e91ea3e-5c4e-401e-8802-9795d84abe43",
   "metadata": {},
   "source": [
    "### Similitud segun el angulo"
   ]
  },
  {
   "cell_type": "code",
   "execution_count": 20,
   "id": "9536e32d-ccfc-4094-acf4-bfeb4eb3f604",
   "metadata": {},
   "outputs": [],
   "source": [
    "def dot_product(vec1,vec2, presicion=2):\n",
    "    producto=0\n",
    "    for indice in range(len(vec1)):\n",
    "        producto+= vec1[indice]*vec2[indice]\n",
    "    producto=round(producto,presicion)\n",
    "    return producto\n",
    "        "
   ]
  },
  {
   "cell_type": "code",
   "execution_count": 21,
   "id": "5d9e7b5f-26c2-429a-841f-4e8d1687558c",
   "metadata": {},
   "outputs": [
    {
     "data": {
      "text/plain": [
       "11"
      ]
     },
     "execution_count": 21,
     "metadata": {},
     "output_type": "execute_result"
    }
   ],
   "source": [
    "vec_valeria = alumnos_aidone[\"valeria\"]\n",
    "vec_alejandro=alumnos_aidone[\"alejandro\"]\n",
    "dot_product(vec_valeria, vec_alejandro)"
   ]
  },
  {
   "cell_type": "markdown",
   "id": "a5d1b0c0-ec10-4a73-810e-2b9544a64aca",
   "metadata": {},
   "source": [
    "### Normas, magnitudes y longitudes"
   ]
  },
  {
   "cell_type": "code",
   "execution_count": 26,
   "id": "eb7be1c3-da5e-4543-a589-464f4fae184e",
   "metadata": {},
   "outputs": [],
   "source": [
    "def norm_vec(vec,presicion=1):\n",
    "    escalar=dot_product(vec,vec,presicion)\n",
    "    resultado=math.sqrt(escalar)\n",
    "    resultado=round(resultado,presicion)\n",
    "    return resultado\n",
    "    "
   ]
  },
  {
   "cell_type": "code",
   "execution_count": 27,
   "id": "55da7e7e-1899-42aa-b6b7-2108e52eaedd",
   "metadata": {},
   "outputs": [
    {
     "data": {
      "text/plain": [
       "3.6"
      ]
     },
     "execution_count": 27,
     "metadata": {},
     "output_type": "execute_result"
    }
   ],
   "source": [
    "vec_lucia=alumnos_aidone[\"lucia\"]\n",
    "norm_vec(vec_lucia,1)"
   ]
  },
  {
   "cell_type": "code",
   "execution_count": 29,
   "id": "a542614f-c779-45a0-abeb-67bc05861efe",
   "metadata": {},
   "outputs": [],
   "source": [
    "#similitud de cosenos\n",
    "def cos_vec(vec1,vec2, presicion = 1):\n",
    "    resultado=dot_product(vec1,vec2)/(norm_vec(vec1)*norm_vec(vec2))\n",
    "    resultado=round(resultado,presicion)\n",
    "    return resultado"
   ]
  },
  {
   "cell_type": "code",
   "execution_count": 33,
   "id": "50ae8298-a4a0-4ae9-943d-c4ad526a6fbd",
   "metadata": {},
   "outputs": [
    {
     "data": {
      "text/plain": [
       "0.82"
      ]
     },
     "execution_count": 33,
     "metadata": {},
     "output_type": "execute_result"
    }
   ],
   "source": [
    "vec_lucia=alumnos_aidone [\"lucia\"]\n",
    "vec_gabriela=alumnos_aidone[\"gabriela\"]\n",
    "cos_vec(vec_lucia,vec_gabriela,2)"
   ]
  },
  {
   "cell_type": "code",
   "execution_count": null,
   "id": "f84aa7e1-9a0b-4651-8848-7cfb78923761",
   "metadata": {},
   "outputs": [],
   "source": []
  }
 ],
 "metadata": {
  "kernelspec": {
   "display_name": "Python 3 (ipykernel)",
   "language": "python",
   "name": "python3"
  },
  "language_info": {
   "codemirror_mode": {
    "name": "ipython",
    "version": 3
   },
   "file_extension": ".py",
   "mimetype": "text/x-python",
   "name": "python",
   "nbconvert_exporter": "python",
   "pygments_lexer": "ipython3",
   "version": "3.10.11"
  }
 },
 "nbformat": 4,
 "nbformat_minor": 5
}
