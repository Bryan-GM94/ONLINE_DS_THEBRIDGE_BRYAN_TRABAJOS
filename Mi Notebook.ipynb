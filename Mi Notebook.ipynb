{
 "cells": [
  {
   "cell_type": "markdown",
   "id": "f8ecf5f6-ee30-4b58-8bb1-f806ee1434b0",
   "metadata": {},
   "source": [
    "## Mis primeros pasos con Markdown...\n",
    "...son muy bueno\n"
   ]
  },
  {
   "cell_type": "markdown",
   "id": "ec7b9227-d82e-4c42-9596-ff9f8a0c7ffd",
   "metadata": {},
   "source": [
    "# cabecera 1\n",
    "## cabecera 2"
   ]
  },
  {
   "cell_type": "markdown",
   "id": "69423e51-fc0c-4457-b435-3e6b69fcf219",
   "metadata": {},
   "source": [
    "### cabecera 3\n",
    "#### cabecera 4\n",
    "##### cabecera 5\n"
   ]
  },
  {
   "cell_type": "markdown",
   "id": "b1a16656-13d1-4df9-b2aa-8d3f95c45b6c",
   "metadata": {},
   "source": [
    "<h1>header 1</h1>\n",
    "<h2>header 2</h2>"
   ]
  },
  {
   "cell_type": "markdown",
   "id": "3e01a7f6-d315-4362-93c2-43223bfb583c",
   "metadata": {},
   "source": [
    "**textoen negrita***\n",
    "*texto en cursiva*\n",
    "***texto en negrita y cursiva***\n"
   ]
  },
  {
   "cell_type": "markdown",
   "id": "f91c4394-0a16-41b4-b3d4-48d9dcaffc77",
   "metadata": {},
   "source": [
    ">recuerda la importancia del conocimiento y del dominio\n",
    ">>Y utilizar atajos y teclados"
   ]
  },
  {
   "cell_type": "code",
   "execution_count": null,
   "id": "12af2af2-e8b2-4edb-88c1-73ab0f4588e9",
   "metadata": {},
   "outputs": [],
   "source": []
  }
 ],
 "metadata": {
  "kernelspec": {
   "display_name": "Python 3 (ipykernel)",
   "language": "python",
   "name": "python3"
  },
  "language_info": {
   "codemirror_mode": {
    "name": "ipython",
    "version": 3
   },
   "file_extension": ".py",
   "mimetype": "text/x-python",
   "name": "python",
   "nbconvert_exporter": "python",
   "pygments_lexer": "ipython3",
   "version": "3.10.11"
  }
 },
 "nbformat": 4,
 "nbformat_minor": 5
}
